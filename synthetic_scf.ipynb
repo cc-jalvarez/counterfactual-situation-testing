{
 "cells": [
  {
   "cell_type": "markdown",
   "metadata": {},
   "source": [
    "# Structural Counterfactuals (SCF)\n",
    "\n",
    "This is an example script where we try to understand Pearl's structural counterfactuals (SCF) generation process (abduction - action - prediction) in the context of situation testing (SI). \n",
    "\n",
    "We want to be able to take a factual tuple {$x^F$} and return it's counterfactual by changing the protected attribute $A$ from $a^F=a$ to $a^{SCF}=a'$. \n",
    "\n",
    "We believe to have two clear scenarios here regarding the latent space (or exogenous variables): either we have them by having generated ourselves the data or we don't and most estimate them using, e.g., MCMC. "
   ]
  },
  {
   "cell_type": "code",
   "execution_count": 1,
   "metadata": {},
   "outputs": [],
   "source": [
    "import random\n",
    "import os\n",
    "import numpy as np\n",
    "import pandas as pd\n",
    "import matplotlib.pyplot as plt"
   ]
  },
  {
   "cell_type": "code",
   "execution_count": 2,
   "metadata": {},
   "outputs": [
    {
     "name": "stdout",
     "output_type": "stream",
     "text": [
      "C:\\Users\\Jose Alvarez\\Documents\\Projects\\CounterfactualSituationTesting\n",
      "C:\\Users\\Jose Alvarez\\Documents\\Projects\\CounterfactualSituationTesting\\data\\\n"
     ]
    }
   ],
   "source": [
    "# set working directory - note: all code runs from the src folder\n",
    "wrk_dir = os.getcwd()\n",
    "print(wrk_dir)\n",
    "# set data path\n",
    "data_path = wrk_dir + '\\\\' + 'data' + '\\\\'\n",
    "print(data_path)"
   ]
  },
  {
   "cell_type": "code",
   "execution_count": 3,
   "metadata": {},
   "outputs": [],
   "source": [
    "# overall params\n",
    "random.seed(2022)\n",
    "n = 1000"
   ]
  },
  {
   "cell_type": "markdown",
   "metadata": {},
   "source": [
    "### Figure 1 from [Karimi et al. (2020)](https://arxiv.org/pdf/2002.06278.pdf)\n",
    "\n",
    "Here, we create two synthetic datasets: v1 and v2. Version one (v1) is the original DAG from the paper, while version two (v2) we add gender and penalize the weights for females.\n",
    "\n",
    "### v1\n",
    "With the DAG: $X_1->Y$, $X_1->X_2$, $X_2->Y$."
   ]
  },
  {
   "cell_type": "code",
   "execution_count": 4,
   "metadata": {},
   "outputs": [],
   "source": [
    "# (hyper)parameters\n",
    "p_rate = 10\n",
    "n_mu = 0.0\n",
    "n_sigma = 1.0\n",
    "lambda_1 = 10000\n",
    "lambda_2 = 2500\n",
    "beta_1 = (3/10)\n",
    "beta_2 = 5\n",
    "#epsilon = 225000\n",
    "\n",
    "u1 = np.random.poisson(lam=p_rate, size=n)\n",
    "u2 = np.random.normal(loc=n_mu, scale=n_sigma, size=n)\n",
    "\n",
    "# annual salary\n",
    "x1 = lambda_1*u1\n",
    "# account balance\n",
    "x2 = beta_1*x1 + lambda_2*u2\n",
    "# loan approval\n",
    "y = np.sign(x1 + beta_2*x2 - 225000)"
   ]
  },
  {
   "cell_type": "code",
   "execution_count": null,
   "metadata": {},
   "outputs": [],
   "source": [
    "print(np.mean(u1))\n",
    "print(np.var(u1))\n",
    "plt.hist(u1)"
   ]
  },
  {
   "cell_type": "code",
   "execution_count": null,
   "metadata": {},
   "outputs": [],
   "source": [
    "print(lambda_1*9.979) # constant times mu\n",
    "print((lambda_1**2)*10.3225) # constant squared times sigma-squared"
   ]
  },
  {
   "cell_type": "code",
   "execution_count": null,
   "metadata": {},
   "outputs": [],
   "source": [
    "print(np.mean(lambda_1*u1))\n",
    "print(np.var(lambda_1*u1))\n",
    "plt.hist(lambda_1*u1)"
   ]
  },
  {
   "cell_type": "code",
   "execution_count": 17,
   "metadata": {},
   "outputs": [
    {
     "name": "stdout",
     "output_type": "stream",
     "text": [
      "0.008844033804312337\n",
      "0.9818687135354563\n"
     ]
    },
    {
     "data": {
      "text/plain": [
       "(array([  6.,  39., 128., 212., 307., 210.,  63.,  29.,   5.,   1.]),\n",
       " array([-3.11860684, -2.39843034, -1.67825384, -0.95807734, -0.23790084,\n",
       "         0.48227567,  1.20245217,  1.92262867,  2.64280517,  3.36298167,\n",
       "         4.08315817]),\n",
       " <BarContainer object of 10 artists>)"
      ]
     },
     "execution_count": 17,
     "metadata": {},
     "output_type": "execute_result"
    },
    {
     "data": {
      "image/png": "[encoded data removed]",
      "text/plain": [
       "<Figure size 432x288 with 1 Axes>"
      ]
     },
     "metadata": {
      "needs_background": "light"
     },
     "output_type": "display_data"
    }
   ],
   "source": [
    "print(np.mean(u2))\n",
    "print(np.var(u2))\n",
    "plt.hist(u2)"
   ]
  },
  {
   "cell_type": "code",
   "execution_count": 18,
   "metadata": {},
   "outputs": [
    {
     "name": "stdout",
     "output_type": "stream",
     "text": [
      "22.11008451078084\n",
      "6136679.459596602\n",
      "22.110084510780847\n",
      "6136679.459596601\n"
     ]
    },
    {
     "data": {
      "text/plain": [
       "(array([  6.,  39., 128., 212., 307., 210.,  63.,  29.,   5.,   1.]),\n",
       " array([-7796.51709865, -5996.07584614, -4195.63459363, -2395.19334112,\n",
       "         -594.75208862,  1205.68916389,  3006.1304164 ,  4806.57166891,\n",
       "         6607.01292142,  8407.45417392, 10207.89542643]),\n",
       " <BarContainer object of 10 artists>)"
      ]
     },
     "execution_count": 18,
     "metadata": {},
     "output_type": "execute_result"
    },
    {
     "data": {
      "image/png": "[encoded data removed]",
      "text/plain": [
       "<Figure size 432x288 with 1 Axes>"
      ]
     },
     "metadata": {
      "needs_background": "light"
     },
     "output_type": "display_data"
    }
   ],
   "source": [
    "print(lambda_2*np.mean(u2)) # constant times mu\n",
    "print((lambda_2**2)*np.var(u2)) # constant squared times sigma-squared\n",
    "\n",
    "print(np.mean(lambda_2*u2))\n",
    "print(np.var(lambda_2*u2))\n",
    "plt.hist(lambda_2*u2)"
   ]
  },
  {
   "cell_type": "markdown",
   "metadata": {},
   "source": [
    "Unclear to me what $\\alpha$ represents here beyond generating data. When we use MCMC and consider $\\alpha$*$U$, we no longer have an additive noise model with white noise... but we re-scale and re-shape the distribution of $U$. Then the MCMC cannot move away easily from the non-informative priors we set up to build $\\hat{U}$.\n",
    "\n",
    "We really need to reconsider what something like $X_1 := \\beta*X_2 + \\alpha_2*U_2$ means in practice (i.e. estimation).\n",
    "\n",
    "Using this synthetic data we can generate the counterfactuals and we can, in turn, run the situation testing. Ofc, this is somewhat meaningless in the real world because we don't know the latent space. That's where MCMC comes... in the Kusner paper, it makes sense in terms of accounting for the confaunding effect of knowledge and that could be argued in the paper. However, say in a causal sufficiency situation, then it is not clear what abduction does other than saying $\\hat{U_1} = X_1$, which is somewhat of a trivial finding and doesn't add much to the counterfactual estimation approach proposed by Pearl.\n",
    "\n",
    "What might be interesting is breaking down $U$ into something more tangible rather than added noise... that really doesn't make much sense. Like what would it mean for SI to do the abduction step?"
   ]
  },
  {
   "cell_type": "code",
   "execution_count": 5,
   "metadata": {},
   "outputs": [
    {
     "data": {
      "text/plain": [
       "(array([398.,   0.,   0.,   0.,   0.,   0.,   0.,   0.,   0., 602.]),\n",
       " array([-1. , -0.8, -0.6, -0.4, -0.2,  0. ,  0.2,  0.4,  0.6,  0.8,  1. ]),\n",
       " <BarContainer object of 10 artists>)"
      ]
     },
     "execution_count": 5,
     "metadata": {},
     "output_type": "execute_result"
    },
    {
     "data": {
      "image/png": "[encoded data removed]",
      "text/plain": [
       "<Figure size 432x288 with 1 Axes>"
      ]
     },
     "metadata": {
      "needs_background": "light"
     },
     "output_type": "display_data"
    }
   ],
   "source": [
    "# plot the factual distribution\n",
    "plt.hist(y)"
   ]
  },
  {
   "cell_type": "code",
   "execution_count": 6,
   "metadata": {},
   "outputs": [
    {
     "data": {
      "text/html": [
       "<div>\n",
       "<style scoped>\n",
       "    .dataframe tbody tr th:only-of-type {\n",
       "        vertical-align: middle;\n",
       "    }\n",
       "\n",
       "    .dataframe tbody tr th {\n",
       "        vertical-align: top;\n",
       "    }\n",
       "\n",
       "    .dataframe thead th {\n",
       "        text-align: right;\n",
       "    }\n",
       "</style>\n",
       "<table border=\"1\" class=\"dataframe\">\n",
       "  <thead>\n",
       "    <tr style=\"text-align: right;\">\n",
       "      <th></th>\n",
       "      <th>LoanApproval</th>\n",
       "      <th>AnnualSalary</th>\n",
       "      <th>AccountBalance</th>\n",
       "      <th>u1</th>\n",
       "      <th>l_u1</th>\n",
       "      <th>u2</th>\n",
       "      <th>l_u2</th>\n",
       "    </tr>\n",
       "  </thead>\n",
       "  <tbody>\n",
       "    <tr>\n",
       "      <th>0</th>\n",
       "      <td>-1.0</td>\n",
       "      <td>80000</td>\n",
       "      <td>28299.689353</td>\n",
       "      <td>8</td>\n",
       "      <td>80000</td>\n",
       "      <td>1.719876</td>\n",
       "      <td>4299.689353</td>\n",
       "    </tr>\n",
       "    <tr>\n",
       "      <th>1</th>\n",
       "      <td>-1.0</td>\n",
       "      <td>50000</td>\n",
       "      <td>14824.972113</td>\n",
       "      <td>5</td>\n",
       "      <td>50000</td>\n",
       "      <td>-0.070011</td>\n",
       "      <td>-175.027887</td>\n",
       "    </tr>\n",
       "    <tr>\n",
       "      <th>2</th>\n",
       "      <td>-1.0</td>\n",
       "      <td>50000</td>\n",
       "      <td>15016.723511</td>\n",
       "      <td>5</td>\n",
       "      <td>50000</td>\n",
       "      <td>0.006689</td>\n",
       "      <td>16.723511</td>\n",
       "    </tr>\n",
       "    <tr>\n",
       "      <th>3</th>\n",
       "      <td>1.0</td>\n",
       "      <td>90000</td>\n",
       "      <td>27105.856452</td>\n",
       "      <td>9</td>\n",
       "      <td>90000</td>\n",
       "      <td>0.042343</td>\n",
       "      <td>105.856452</td>\n",
       "    </tr>\n",
       "    <tr>\n",
       "      <th>4</th>\n",
       "      <td>-1.0</td>\n",
       "      <td>50000</td>\n",
       "      <td>16627.176956</td>\n",
       "      <td>5</td>\n",
       "      <td>50000</td>\n",
       "      <td>0.650871</td>\n",
       "      <td>1627.176956</td>\n",
       "    </tr>\n",
       "    <tr>\n",
       "      <th>5</th>\n",
       "      <td>1.0</td>\n",
       "      <td>110000</td>\n",
       "      <td>34996.494520</td>\n",
       "      <td>11</td>\n",
       "      <td>110000</td>\n",
       "      <td>0.798598</td>\n",
       "      <td>1996.494520</td>\n",
       "    </tr>\n",
       "    <tr>\n",
       "      <th>6</th>\n",
       "      <td>1.0</td>\n",
       "      <td>140000</td>\n",
       "      <td>40766.918430</td>\n",
       "      <td>14</td>\n",
       "      <td>140000</td>\n",
       "      <td>-0.493233</td>\n",
       "      <td>-1233.081570</td>\n",
       "    </tr>\n",
       "    <tr>\n",
       "      <th>7</th>\n",
       "      <td>1.0</td>\n",
       "      <td>160000</td>\n",
       "      <td>49617.895640</td>\n",
       "      <td>16</td>\n",
       "      <td>160000</td>\n",
       "      <td>0.647158</td>\n",
       "      <td>1617.895640</td>\n",
       "    </tr>\n",
       "    <tr>\n",
       "      <th>8</th>\n",
       "      <td>-1.0</td>\n",
       "      <td>70000</td>\n",
       "      <td>18222.583565</td>\n",
       "      <td>7</td>\n",
       "      <td>70000</td>\n",
       "      <td>-1.110967</td>\n",
       "      <td>-2777.416435</td>\n",
       "    </tr>\n",
       "    <tr>\n",
       "      <th>9</th>\n",
       "      <td>1.0</td>\n",
       "      <td>140000</td>\n",
       "      <td>41471.262860</td>\n",
       "      <td>14</td>\n",
       "      <td>140000</td>\n",
       "      <td>-0.211495</td>\n",
       "      <td>-528.737140</td>\n",
       "    </tr>\n",
       "  </tbody>\n",
       "</table>\n",
       "</div>"
      ],
      "text/plain": [
       "   LoanApproval  AnnualSalary  AccountBalance  u1    l_u1        u2  \\\n",
       "0          -1.0         80000    28299.689353   8   80000  1.719876   \n",
       "1          -1.0         50000    14824.972113   5   50000 -0.070011   \n",
       "2          -1.0         50000    15016.723511   5   50000  0.006689   \n",
       "3           1.0         90000    27105.856452   9   90000  0.042343   \n",
       "4          -1.0         50000    16627.176956   5   50000  0.650871   \n",
       "5           1.0        110000    34996.494520  11  110000  0.798598   \n",
       "6           1.0        140000    40766.918430  14  140000 -0.493233   \n",
       "7           1.0        160000    49617.895640  16  160000  0.647158   \n",
       "8          -1.0         70000    18222.583565   7   70000 -1.110967   \n",
       "9           1.0        140000    41471.262860  14  140000 -0.211495   \n",
       "\n",
       "          l_u2  \n",
       "0  4299.689353  \n",
       "1  -175.027887  \n",
       "2    16.723511  \n",
       "3   105.856452  \n",
       "4  1627.176956  \n",
       "5  1996.494520  \n",
       "6 -1233.081570  \n",
       "7  1617.895640  \n",
       "8 -2777.416435  \n",
       "9  -528.737140  "
      ]
     },
     "execution_count": 6,
     "metadata": {},
     "output_type": "execute_result"
    }
   ],
   "source": [
    "# # make a dataset for the observables and unobservables\n",
    "# d = {'Y': y, 'X1': x1, 'X2': x2, 'U1_hat': lambda_1*u1, 'U2_hat': lambda_2*u2}\n",
    "# data = pd.DataFrame(d)\n",
    "# data.head(10)\n",
    "\n",
    "# store data for testing RStan \n",
    "d_test = {'LoanApproval': y, \n",
    "          'AnnualSalary': x1, \n",
    "          'AccountBalance': x2,\n",
    "          'u1': u1,\n",
    "          'l_u1': lambda_1*u1,\n",
    "          'u2': u2,\n",
    "          'l_u2': lambda_2*u2}\n",
    "data_test = pd.DataFrame(d_test)\n",
    "data_test.head(10)"
   ]
  },
  {
   "cell_type": "code",
   "execution_count": 7,
   "metadata": {},
   "outputs": [
    {
     "data": {
      "text/plain": [
       "(array([  9.,  65., 152., 228., 227., 161., 105.,  39.,   7.,   7.]),\n",
       " array([ 10000.,  31000.,  52000.,  73000.,  94000., 115000., 136000.,\n",
       "        157000., 178000., 199000., 220000.]),\n",
       " <BarContainer object of 10 artists>)"
      ]
     },
     "execution_count": 7,
     "metadata": {},
     "output_type": "execute_result"
    },
    {
     "data": {
      "image/png": "[encoded data removed]",
      "text/plain": [
       "<Figure size 432x288 with 1 Axes>"
      ]
     },
     "metadata": {
      "needs_background": "light"
     },
     "output_type": "display_data"
    }
   ],
   "source": [
    "plt.hist(data_test['AnnualSalary'])"
   ]
  },
  {
   "cell_type": "code",
   "execution_count": 9,
   "metadata": {},
   "outputs": [
    {
     "data": {
      "text/plain": [
       "(array([ 11.,  53., 139., 234., 220., 183.,  96.,  48.,  13.,   3.]),\n",
       " array([ 2684.75175114,  9008.92796101, 15333.10417089, 21657.28038076,\n",
       "        27981.45659063, 34305.6328005 , 40629.80901037, 46953.98522024,\n",
       "        53278.16143012, 59602.33763999, 65926.51384986]),\n",
       " <BarContainer object of 10 artists>)"
      ]
     },
     "execution_count": 9,
     "metadata": {},
     "output_type": "execute_result"
    },
    {
     "data": {
      "image/png": "[encoded data removed]",
      "text/plain": [
       "<Figure size 432x288 with 1 Axes>"
      ]
     },
     "metadata": {
      "needs_background": "light"
     },
     "output_type": "display_data"
    }
   ],
   "source": [
    "plt.hist(data_test['AccountBalance'])"
   ]
  },
  {
   "cell_type": "code",
   "execution_count": 11,
   "metadata": {},
   "outputs": [],
   "source": [
    "# store in data folder\n",
    "data_test.to_csv(data_path + '\\\\' + 'Karimi2020_v1.csv', sep='|', index=False)"
   ]
  },
  {
   "cell_type": "code",
   "execution_count": null,
   "metadata": {},
   "outputs": [],
   "source": []
  },
  {
   "cell_type": "code",
   "execution_count": 12,
   "metadata": {},
   "outputs": [
    {
     "data": {
      "text/html": [
       "<div>\n",
       "<style scoped>\n",
       "    .dataframe tbody tr th:only-of-type {\n",
       "        vertical-align: middle;\n",
       "    }\n",
       "\n",
       "    .dataframe tbody tr th {\n",
       "        vertical-align: top;\n",
       "    }\n",
       "\n",
       "    .dataframe thead th {\n",
       "        text-align: right;\n",
       "    }\n",
       "</style>\n",
       "<table border=\"1\" class=\"dataframe\">\n",
       "  <thead>\n",
       "    <tr style=\"text-align: right;\">\n",
       "      <th></th>\n",
       "      <th>Y</th>\n",
       "      <th>X1</th>\n",
       "      <th>X2</th>\n",
       "      <th>U1_hat</th>\n",
       "      <th>U2_hat</th>\n",
       "    </tr>\n",
       "  </thead>\n",
       "  <tbody>\n",
       "    <tr>\n",
       "      <th>0</th>\n",
       "      <td>-1.0</td>\n",
       "      <td>80000</td>\n",
       "      <td>28299.689353</td>\n",
       "      <td>80000</td>\n",
       "      <td>4299.689353</td>\n",
       "    </tr>\n",
       "    <tr>\n",
       "      <th>1</th>\n",
       "      <td>-1.0</td>\n",
       "      <td>50000</td>\n",
       "      <td>14824.972113</td>\n",
       "      <td>50000</td>\n",
       "      <td>-175.027887</td>\n",
       "    </tr>\n",
       "    <tr>\n",
       "      <th>2</th>\n",
       "      <td>-1.0</td>\n",
       "      <td>50000</td>\n",
       "      <td>15016.723511</td>\n",
       "      <td>50000</td>\n",
       "      <td>16.723511</td>\n",
       "    </tr>\n",
       "    <tr>\n",
       "      <th>3</th>\n",
       "      <td>1.0</td>\n",
       "      <td>90000</td>\n",
       "      <td>27105.856452</td>\n",
       "      <td>90000</td>\n",
       "      <td>105.856452</td>\n",
       "    </tr>\n",
       "    <tr>\n",
       "      <th>4</th>\n",
       "      <td>-1.0</td>\n",
       "      <td>50000</td>\n",
       "      <td>16627.176956</td>\n",
       "      <td>50000</td>\n",
       "      <td>1627.176956</td>\n",
       "    </tr>\n",
       "    <tr>\n",
       "      <th>5</th>\n",
       "      <td>1.0</td>\n",
       "      <td>110000</td>\n",
       "      <td>34996.494520</td>\n",
       "      <td>110000</td>\n",
       "      <td>1996.494520</td>\n",
       "    </tr>\n",
       "    <tr>\n",
       "      <th>6</th>\n",
       "      <td>1.0</td>\n",
       "      <td>140000</td>\n",
       "      <td>40766.918430</td>\n",
       "      <td>140000</td>\n",
       "      <td>-1233.081570</td>\n",
       "    </tr>\n",
       "    <tr>\n",
       "      <th>7</th>\n",
       "      <td>1.0</td>\n",
       "      <td>160000</td>\n",
       "      <td>49617.895640</td>\n",
       "      <td>160000</td>\n",
       "      <td>1617.895640</td>\n",
       "    </tr>\n",
       "    <tr>\n",
       "      <th>8</th>\n",
       "      <td>-1.0</td>\n",
       "      <td>70000</td>\n",
       "      <td>18222.583565</td>\n",
       "      <td>70000</td>\n",
       "      <td>-2777.416435</td>\n",
       "    </tr>\n",
       "    <tr>\n",
       "      <th>9</th>\n",
       "      <td>1.0</td>\n",
       "      <td>140000</td>\n",
       "      <td>41471.262860</td>\n",
       "      <td>140000</td>\n",
       "      <td>-528.737140</td>\n",
       "    </tr>\n",
       "  </tbody>\n",
       "</table>\n",
       "</div>"
      ],
      "text/plain": [
       "     Y      X1            X2  U1_hat       U2_hat\n",
       "0 -1.0   80000  28299.689353   80000  4299.689353\n",
       "1 -1.0   50000  14824.972113   50000  -175.027887\n",
       "2 -1.0   50000  15016.723511   50000    16.723511\n",
       "3  1.0   90000  27105.856452   90000   105.856452\n",
       "4 -1.0   50000  16627.176956   50000  1627.176956\n",
       "5  1.0  110000  34996.494520  110000  1996.494520\n",
       "6  1.0  140000  40766.918430  140000 -1233.081570\n",
       "7  1.0  160000  49617.895640  160000  1617.895640\n",
       "8 -1.0   70000  18222.583565   70000 -2777.416435\n",
       "9  1.0  140000  41471.262860  140000  -528.737140"
      ]
     },
     "execution_count": 12,
     "metadata": {},
     "output_type": "execute_result"
    }
   ],
   "source": [
    "# make a dataset for the observables and unobservables\n",
    "d = {'Y': y, 'X1': x1, 'X2': x2, 'U1_hat': lambda_1*u1, 'U2_hat': lambda_2*u2}\n",
    "data = pd.DataFrame(d)\n",
    "data.head(10)"
   ]
  },
  {
   "cell_type": "code",
   "execution_count": 13,
   "metadata": {},
   "outputs": [
    {
     "data": {
      "text/plain": [
       "Y             1.000000\n",
       "X1        90000.000000\n",
       "X2        27105.856452\n",
       "U1_hat    90000.000000\n",
       "U2_hat      105.856452\n",
       "Name: 3, dtype: float64"
      ]
     },
     "execution_count": 13,
     "metadata": {},
     "output_type": "execute_result"
    }
   ],
   "source": [
    "# consider individual i: what is the counterfactual of y_i?\n",
    "# here, in ST, want the STRUCTURAL COUNTERFACTUAL x_scf, not too interested in y_scf\n",
    "# because want to match x_scf with those that don't share the protected attribute memebership of i\n",
    "i = 3\n",
    "data.loc[i, ]"
   ]
  },
  {
   "cell_type": "code",
   "execution_count": 14,
   "metadata": {},
   "outputs": [
    {
     "name": "stdout",
     "output_type": "stream",
     "text": [
      "90000\n",
      "105.85645162274523\n"
     ]
    }
   ],
   "source": [
    "# Step 1: Abduction\n",
    "# Get U's given the evidence X's [assuming causal sufficiency and, ofc, a known causal graph]\n",
    "\n",
    "# u1 given x1: from Fig.1, x1 = u1 and thus u1 = x1\n",
    "u1_i = data.loc[i, 'X1']\n",
    "print(u1_i)\n",
    "\n",
    "# u2 given x2: from Fig.1, x2 = (3/10)*x1 + u2 and thus u2 = x2 - (3/10)*x1\n",
    "u2_i = data.loc[i, 'X2'] - (3/10)*data.loc[i, 'X1']\n",
    "print(u2_i)"
   ]
  },
  {
   "cell_type": "code",
   "execution_count": 15,
   "metadata": {},
   "outputs": [
    {
     "name": "stdout",
     "output_type": "stream",
     "text": [
      "95000\n",
      "28605.856451622745\n"
     ]
    }
   ],
   "source": [
    "# Step 2: Action\n",
    "# Given the SCM, intervene it accordingly using the do-operator \n",
    "delta = 5000\n",
    "\n",
    "# Org SCM M:\n",
    "# x1 = u1             [salary]\n",
    "# x2 = (3/10)*x1 + u2 [balance]\n",
    "\n",
    "# do(X1 := X1 + delta), then M':\n",
    "# X1' := X1 + delta\n",
    "# X2 = (3/10)*X1' + U2\n",
    "\n",
    "# Step 3: Prediction (notice at at i-level)\n",
    "# Apply the chagnes on M' and get the scf tuple \n",
    "\n",
    "x1_i_scf = data.loc[i, 'X1'] + delta\n",
    "print(x1_i_scf)\n",
    "\n",
    "x2_i_scf = (3/10)*x1_i_scf + u2_i\n",
    "print(x2_i_scf)"
   ]
  },
  {
   "cell_type": "code",
   "execution_count": 16,
   "metadata": {},
   "outputs": [
    {
     "name": "stdout",
     "output_type": "stream",
     "text": [
      "1.0\n",
      "1.0\n"
     ]
    }
   ],
   "source": [
    "print(data.loc[i, 'Y'])\n",
    "# vs\n",
    "print(np.sign(x1_i_scf + 5*x2_i_scf - 225000))"
   ]
  },
  {
   "cell_type": "markdown",
   "metadata": {},
   "source": [
    "This abduction-action-prediction from Karimi et al. is very usful for situation testing because all the focus is on profucing the structural counterfactual tuple for the attribute space; we don't 'care' for Y!\n",
    "\n",
    "This means, wrt to ST, that we can generate X_CF without having to know the decision-maker (i.e., model agnostic). Ofc, the assumption here is that we have a SCM model that is known. Further more, SCM needs to be estimated to obtain the functional form for carrying out the three steps... meaning that we further have to assume (potentially) (1) causal sufficiency and (2) additive noise models for a nice estimation. Although these are considerable assumptions, it's standard within the literature.\n",
    "\n",
    "ST simplifies this step in that we only care about switching the protected attribute A, which is usually 0 or 1. Further, we are not interested in flipping the decision, but in checking whether the decision flips or not!\n",
    "\n",
    "Furthermore, we should consider the types of potential interventions presented in this paper... and extend situation testing beyond flipping A?!\n",
    "\n",
    "Given {x^F}, we can generate {x^SCF} and from this generated tuple try to match individuals that don't share the protected attribute of the complainant... creating out counterfactual group.\n",
    "\n",
    "In practice, we won't have access to U (i.e., the latent space) but we can approximated using MCMC (like in Kusner at al.)."
   ]
  },
  {
   "cell_type": "markdown",
   "metadata": {},
   "source": [
    "### v2\n",
    "with the DAG: X1->Y, X1->X2, X->Y, A->X1, A->X2 such that $A$ is gender (A=1 female, A=0 male)."
   ]
  },
  {
   "cell_type": "code",
   "execution_count": null,
   "metadata": {},
   "outputs": [],
   "source": [
    "p_men = 0.65\n",
    "uA = random.choices(population=[0, 1], weights=[p_men, (1 - p_men)], k=n)\n",
    "plt.hist(uA)"
   ]
  },
  {
   "cell_type": "code",
   "execution_count": null,
   "metadata": {},
   "outputs": [],
   "source": [
    "#u1 = 10000*np.random.poisson(lam=10, size=n)\n",
    "#u2 = 2500*np.random.normal(loc=0.0, scale=1.0, size=n)\n",
    "#uA = see previous cell!\n",
    "\n",
    "# gender \n",
    "A = np.asanyarray(uA)\n",
    "# and its weights (systematic issue) | we avoid direct effects (as it would be ilegal and inline with Hecker's view)\n",
    "beta1 = -9500\n",
    "beta2 = -500\n",
    "\n",
    "# annual salary\n",
    "n_x1 = u1 + beta1*A\n",
    "# account balance\n",
    "n_x2 = (3/10)*n_x1 + u2 + beta2*A\n",
    "# loan approval\n",
    "n_y = np.sign(n_x1 + 5*n_x2 - 225000)"
   ]
  },
  {
   "cell_type": "code",
   "execution_count": null,
   "metadata": {},
   "outputs": [],
   "source": [
    "# plot the factual distribution\n",
    "plt.hist(n_y)"
   ]
  },
  {
   "cell_type": "code",
   "execution_count": null,
   "metadata": {},
   "outputs": [],
   "source": [
    "# store data for testing RStan \n",
    "d_test = {'LoanApproval': n_y, \n",
    "          'AnnualSalary': n_x1, \n",
    "          'AccountBalance': n_x2,\n",
    "          'Gender': A}\n",
    "data_test = pd.DataFrame(d_test)\n",
    "data_test.head(10)"
   ]
  },
  {
   "cell_type": "code",
   "execution_count": null,
   "metadata": {},
   "outputs": [],
   "source": [
    "# store in data folder\n",
    "data_test.to_csv(data_path + '\\\\' + 'Karimi2020_v2.csv', sep='|', index=False)"
   ]
  },
  {
   "cell_type": "code",
   "execution_count": null,
   "metadata": {},
   "outputs": [],
   "source": []
  },
  {
   "cell_type": "code",
   "execution_count": null,
   "metadata": {},
   "outputs": [],
   "source": [
    "# make a dataset for the observables*\n",
    "# *include unobservables too... here, imagine you ran the MCMC before and estimated u|evidence\n",
    "d = {'Y': y, 'X1': x1, 'X2': x2, \n",
    "     'Gender': A, 'nY': n_y, 'nX1': n_x1, 'nX2': n_x2,\n",
    "     'U1_hat': u1, 'U2_hat': u2, 'uA': uA}\n",
    "data = pd.DataFrame(d)\n",
    "data.head(10)"
   ]
  },
  {
   "cell_type": "code",
   "execution_count": null,
   "metadata": {},
   "outputs": [],
   "source": [
    "# total of females\n",
    "n_f = data[data['Gender']==1].shape[0]\n",
    "# total of males\n",
    "n_m = data[data['Gender']==0].shape[0]\n",
    "\n",
    "# unbiased\n",
    "print('female unbiased')\n",
    "print(data[(data['Gender']==1) & (data['Y']==1)].shape[0] / n_f)\n",
    "print('male unbiased')\n",
    "print(data[(data['Gender']==0) & (data['Y']==1)].shape[0] / n_m)\n",
    "\n",
    "# biased\n",
    "print('female biased')\n",
    "print(data[(data['Gender']==1) & (data['nY']==1)].shape[0] / n_f)\n",
    "print('male biased')\n",
    "print(data[(data['Gender']==0) & (data['nY']==1)].shape[0] / n_m)\n",
    "\n",
    "# TODO: would this show in a trained model?"
   ]
  },
  {
   "cell_type": "code",
   "execution_count": null,
   "metadata": {},
   "outputs": [],
   "source": []
  },
  {
   "cell_type": "code",
   "execution_count": null,
   "metadata": {},
   "outputs": [],
   "source": []
  },
  {
   "cell_type": "code",
   "execution_count": null,
   "metadata": {},
   "outputs": [],
   "source": []
  },
  {
   "cell_type": "markdown",
   "metadata": {},
   "source": [
    "### Would this translate into some trained model?"
   ]
  },
  {
   "cell_type": "code",
   "execution_count": null,
   "metadata": {},
   "outputs": [],
   "source": [
    "from sklearn.pipeline import Pipeline\n",
    "from sklearn.metrics import accuracy_score, confusion_matrix\n",
    "from sklearn.linear_model import LogisticRegression, Lasso\n",
    "# from sklearn.preprocessing import LabelEncoder, StandardScaler\n",
    "# from sklearn.metrics import accuracy_score, precision_score, recall_score, roc_auc_score\n",
    "from sklearn.model_selection import train_test_split\n",
    "# from sklearn.svm import SVC\n",
    "# from sklearn.ensemble import RandomForestClassifier, GradientBoostingClassifier\n",
    "# from sklearn.neural_network import MLPClassifier\n",
    "# from sklearn.tree import DecisionTreeClassifier\n",
    "# from xgboost import XGBRegressor, XGBClassifier\n",
    "# from catboost import CatBoostClassifier"
   ]
  },
  {
   "cell_type": "code",
   "execution_count": null,
   "metadata": {},
   "outputs": [],
   "source": [
    "data.columns"
   ]
  },
  {
   "cell_type": "code",
   "execution_count": null,
   "metadata": {},
   "outputs": [],
   "source": [
    "u_data = data[['Y', 'X1', 'X2', 'Gender']].copy()\n",
    "print(u_data.shape)\n",
    "\n",
    "b_data = data[['nY', 'nX1', 'nX2', 'Gender']].copy()\n",
    "print(b_data.shape)"
   ]
  },
  {
   "cell_type": "code",
   "execution_count": null,
   "metadata": {},
   "outputs": [],
   "source": [
    "# todo: let's do a simple logit here, later we can reuse the FairEncoder code and streamline multiple models\n",
    "# todo: also create an utils files accordingly\n",
    "# todo: get comfortable with Pipeline\n",
    "\n",
    "b_data['nY2'] = np.where(b_data['nY']==-1, 0 ,b_data['nY'])\n",
    "print(b_data[['nY', 'nY2']].head(10))\n",
    "\n",
    "targets = ['nY2', 'nY']\n",
    "y = b_data['nY2']\n",
    "X = b_data.drop(columns=targets)"
   ]
  },
  {
   "cell_type": "code",
   "execution_count": null,
   "metadata": {},
   "outputs": [],
   "source": [
    "X_tr, X_te, y_tr, y_te = train_test_split(X, y, test_size=0.5, random_state=42)"
   ]
  },
  {
   "cell_type": "code",
   "execution_count": null,
   "metadata": {},
   "outputs": [],
   "source": [
    "clf = LogisticRegression(random_state=0).fit(X_tr, y_tr.values.ravel())"
   ]
  },
  {
   "cell_type": "code",
   "execution_count": null,
   "metadata": {},
   "outputs": [],
   "source": [
    "clf.coef_"
   ]
  },
  {
   "cell_type": "code",
   "execution_count": null,
   "metadata": {},
   "outputs": [],
   "source": [
    "y_pr = clf.predict(X_te)"
   ]
  },
  {
   "cell_type": "code",
   "execution_count": null,
   "metadata": {},
   "outputs": [],
   "source": [
    "conf_matrix = confusion_matrix(y_pr, y_te)\n",
    "conf_matrix"
   ]
  },
  {
   "cell_type": "code",
   "execution_count": null,
   "metadata": {},
   "outputs": [],
   "source": [
    "# todo: move later to some utils.py files \n",
    "def calculate_cm(true, preds):\n",
    "    \n",
    "    # Obtain the confusion matrix\n",
    "    cm = confusion_matrix(preds, true)\n",
    "    \n",
    "    # Return all\n",
    "    cm_dict = dict()\n",
    "\n",
    "    #  https://stackoverflow.com/questions/31324218/scikit-learn-how-to-obtain-true-positive-true-negative-false-positive-and-fal\n",
    "    FP = cm.sum(axis=0) - np.diag(cm)\n",
    "    cm_dict['FP'] = FP\n",
    "    FN = cm.sum(axis=1) - np.diag(cm)\n",
    "    cm_dict['FN'] = FN\n",
    "    TP = np.diag(cm)\n",
    "    cm_dict['TP'] = TP\n",
    "    TN = cm.sum() - (FP + FN + TP)\n",
    "    cm_dict['TN'] = TN\n",
    "    \n",
    "    # Sensitivity, hit rate, recall, or true positive rate\n",
    "    TPR = TP / (TP + FN)\n",
    "    cm_dict['TPR'] = TPR\n",
    "    # Specificity or true negative rate\n",
    "    TNR = TN / (TN + FP)\n",
    "    cm_dict['TNR'] = TNR\n",
    "    \n",
    "    # todo: expand dict for others\n",
    "    # Precision or positive predictive valbue\n",
    "    PPV = TP / (TP + FP)\n",
    "    # Negative predictive value\n",
    "    NPV = TN / (TN + FN)\n",
    "    # Fall out or false positive rate\n",
    "    FPR = FP / (FP + TN)\n",
    "    # False negative rate\n",
    "    FNR = FN / (TP + FN)\n",
    "    # False discovery rate\n",
    "    FDR = FP / (TP + FP)\n",
    "\n",
    "    # Overall accuracy\n",
    "    ACC = (TP + TN) / (TP + FP + FN + TN)\n",
    "\n",
    "    #return cm_dict\n",
    "    return TPR[0] #esto esta bien!"
   ]
  },
  {
   "cell_type": "code",
   "execution_count": null,
   "metadata": {},
   "outputs": [],
   "source": [
    "# reference group (males, or A=0): group 2\n",
    "aux = X_te.copy()\n",
    "aux['target'] = y_te\n",
    "\n",
    "# Filter the data\n",
    "g1 = X_te[X_te['Gender'] == 1]\n",
    "g2 = X_te[X_te['Gender'] == 0]\n",
    "\n",
    "# Filter the ground truth\n",
    "g1_true = aux[aux['Gender'] == 1].target\n",
    "g2_true = aux[aux['Gender'] == 0].target\n",
    "\n",
    "# Do predictions\n",
    "p1 = clf.predict(g1)\n",
    "p2 = clf.predict(g2)\n",
    "\n",
    "# Extract metrics for each group | here, taking the true positive rate\n",
    "res1 = calculate_cm(p1, g1_true)\n",
    "print(res1)\n",
    "res2 = calculate_cm(p2, g2_true)\n",
    "print(res2)\n",
    "\n",
    "res1 - res2"
   ]
  },
  {
   "cell_type": "code",
   "execution_count": null,
   "metadata": {},
   "outputs": [],
   "source": [
    "#https://www.analyticsvidhya.com/blog/2020/04/confusion-matrix-machine-learning/\n",
    "# TPR = TP / (TP + FP)\n",
    "\n",
    "print(confusion_matrix(p1, g1_true))\n",
    "tpr_1 = confusion_matrix(p1, g1_true)[0][0] / (confusion_matrix(p1, g1_true)[0][0] + confusion_matrix(p1, g1_true)[0][1])\n",
    "print(tpr_1)\n",
    "\n",
    "print(confusion_matrix(p2, g2_true))\n",
    "tpr_2 = confusion_matrix(p2, g2_true)[0][0] / (confusion_matrix(p2, g2_true)[0][0] + confusion_matrix(p2, g2_true)[0][1])\n",
    "print(tpr_2)"
   ]
  },
  {
   "cell_type": "code",
   "execution_count": null,
   "metadata": {},
   "outputs": [],
   "source": []
  },
  {
   "cell_type": "code",
   "execution_count": null,
   "metadata": {},
   "outputs": [],
   "source": [
    "def metric_calculator(model, data: pd.DataFrame, truth: pd.DataFrame, col: str, group1, group2):\n",
    "    #reference group is group2!!\n",
    "    \n",
    "    aux = data.copy()\n",
    "    aux[\"target\"] = truth\n",
    "\n",
    "    # Filter the data\n",
    "    g1 = data[data[col] == group1]\n",
    "    g2 = data[data[col] == group2]\n",
    "\n",
    "    # Filter the ground truth\n",
    "    g1_true = aux[aux[col] == group1].target\n",
    "    g2_true = aux[aux[col] == group2].target\n",
    "\n",
    "    # Do predictions\n",
    "    p1 = model.predict(g1)\n",
    "    p2 = model.predict(g2)\n",
    "\n",
    "    # Extract metrics for each group | here, taking the true positive rate\n",
    "    res1 = calculate_cm(p1, g1_true)\n",
    "    print(res1)\n",
    "    res2 = calculate_cm(p2, g2_true)\n",
    "    print(res2)\n",
    "    \n",
    "    return res1 - res2"
   ]
  },
  {
   "cell_type": "code",
   "execution_count": null,
   "metadata": {},
   "outputs": [],
   "source": [
    "metric_calculator(model=clf, data=X_te, truth=y_te, col='Gender', group1=1, group2=0)"
   ]
  },
  {
   "cell_type": "code",
   "execution_count": null,
   "metadata": {},
   "outputs": [],
   "source": [
    "metric_calculator(model=clf, data=X_tr, truth=y_tr, col='Gender', group1=1, group2=0)"
   ]
  },
  {
   "cell_type": "code",
   "execution_count": null,
   "metadata": {},
   "outputs": [],
   "source": []
  }
 ],
 "metadata": {
  "kernelspec": {
   "display_name": "fair_ml",
   "language": "python",
   "name": "fair_ml"
  },
  "language_info": {
   "codemirror_mode": {
    "name": "ipython",
    "version": 3
   },
   "file_extension": ".py",
   "mimetype": "text/x-python",
   "name": "python",
   "nbconvert_exporter": "python",
   "pygments_lexer": "ipython3",
   "version": "3.8.5"
  }
 },
 "nbformat": 4,
 "nbformat_minor": 4
}
