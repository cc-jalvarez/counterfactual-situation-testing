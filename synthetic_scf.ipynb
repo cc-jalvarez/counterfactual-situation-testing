{
 "cells": [
  {
   "cell_type": "markdown",
   "metadata": {},
   "source": [
    "# Structural Counterfactuals (SCF)\n",
    "\n",
    "This is an example script where we try to understand Pearl's structural counterfactuals (SCF) generation process (abduction - action - prediction) in the context of situation testing (SI). \n",
    "\n",
    "We want to be able to take a factual tuple {$x^F$} and return it's counterfactual by changing the protected attribute $A$ from $a^F=a$ to $a^{SCF}=a'$. \n",
    "\n",
    "We believe to have two clear scenarios here regarding the latent space (or exogenous variables): either we have them by having generated ourselves the data or we don't and most estimate them using, e.g., MCMC. "
   ]
  },
  {
   "cell_type": "code",
   "execution_count": 1,
   "metadata": {},
   "outputs": [],
   "source": [
    "import random\n",
    "import os\n",
    "import numpy as np\n",
    "import pandas as pd\n",
    "import matplotlib.pyplot as plt\n",
    "from sklearn.linear_model import LinearRegression"
   ]
  },
  {
   "cell_type": "code",
   "execution_count": 2,
   "metadata": {},
   "outputs": [],
   "source": [
    "# set working directory - note: all code runs from the src folder\n",
    "wrk_dir = os.getcwd()\n",
    "# set data path\n",
    "data_path = wrk_dir + '\\\\' + 'data' + '\\\\'"
   ]
  },
  {
   "cell_type": "markdown",
   "metadata": {},
   "source": [
    "### Figure 1 from [Karimi et al. (2020)](https://arxiv.org/pdf/2002.06278.pdf)\n",
    "\n",
    "Here, we create two synthetic datasets: v1 and v2. Version one (v1) is the original DAG from the paper, while version two (v2) we add gender and penalize the weights for females.\n",
    "\n",
    "### Version 1: Causal Sufficiency\n",
    "With the DAG: $X_1->Y$, $X_1->X_2$, $X_2->Y$."
   ]
  },
  {
   "cell_type": "code",
   "execution_count": 3,
   "metadata": {},
   "outputs": [],
   "source": [
    "# overall params\n",
    "np.random.seed(2022)\n",
    "n = 5000\n",
    "\n",
    "# (hyper)parameters\n",
    "# p_rate = 10\n",
    "# n_mu = 0.0\n",
    "# n_sigma = 1.0\n",
    "lambda_1 = 10000\n",
    "lambda_2 = 2500\n",
    "beta_1 = (3/10)\n",
    "beta_2 = 5\n",
    "#epsilon = 225000\n",
    "\n",
    "u1 = lambda_1*np.random.poisson(lam=10, size=n)\n",
    "u2 = lambda_2*np.random.normal(loc=0.0, scale=1.0, size=n)\n",
    "\n",
    "# annual salary\n",
    "x1 = u1\n",
    "# account balance\n",
    "x2 = beta_1*x1 + u2\n",
    "# loan approval\n",
    "y = np.sign(x1 + beta_2*x2 - 225000)"
   ]
  },
  {
   "cell_type": "code",
   "execution_count": 4,
   "metadata": {},
   "outputs": [
    {
     "data": {
      "text/html": [
       "<div>\n",
       "<style scoped>\n",
       "    .dataframe tbody tr th:only-of-type {\n",
       "        vertical-align: middle;\n",
       "    }\n",
       "\n",
       "    .dataframe tbody tr th {\n",
       "        vertical-align: top;\n",
       "    }\n",
       "\n",
       "    .dataframe thead th {\n",
       "        text-align: right;\n",
       "    }\n",
       "</style>\n",
       "<table border=\"1\" class=\"dataframe\">\n",
       "  <thead>\n",
       "    <tr style=\"text-align: right;\">\n",
       "      <th></th>\n",
       "      <th>LoanApproval</th>\n",
       "      <th>AnnualSalary</th>\n",
       "      <th>AccountBalance</th>\n",
       "      <th>u1</th>\n",
       "      <th>u2</th>\n",
       "    </tr>\n",
       "  </thead>\n",
       "  <tbody>\n",
       "    <tr>\n",
       "      <th>0</th>\n",
       "      <td>-1.0</td>\n",
       "      <td>50000</td>\n",
       "      <td>14026.847358</td>\n",
       "      <td>50000</td>\n",
       "      <td>-973.152642</td>\n",
       "    </tr>\n",
       "    <tr>\n",
       "      <th>1</th>\n",
       "      <td>1.0</td>\n",
       "      <td>120000</td>\n",
       "      <td>36940.097383</td>\n",
       "      <td>120000</td>\n",
       "      <td>940.097383</td>\n",
       "    </tr>\n",
       "    <tr>\n",
       "      <th>2</th>\n",
       "      <td>-1.0</td>\n",
       "      <td>90000</td>\n",
       "      <td>23564.129008</td>\n",
       "      <td>90000</td>\n",
       "      <td>-3435.870992</td>\n",
       "    </tr>\n",
       "    <tr>\n",
       "      <th>3</th>\n",
       "      <td>-1.0</td>\n",
       "      <td>80000</td>\n",
       "      <td>27596.570524</td>\n",
       "      <td>80000</td>\n",
       "      <td>3596.570524</td>\n",
       "    </tr>\n",
       "    <tr>\n",
       "      <th>4</th>\n",
       "      <td>1.0</td>\n",
       "      <td>210000</td>\n",
       "      <td>62294.221620</td>\n",
       "      <td>210000</td>\n",
       "      <td>-705.778380</td>\n",
       "    </tr>\n",
       "    <tr>\n",
       "      <th>5</th>\n",
       "      <td>1.0</td>\n",
       "      <td>120000</td>\n",
       "      <td>32827.008724</td>\n",
       "      <td>120000</td>\n",
       "      <td>-3172.991276</td>\n",
       "    </tr>\n",
       "    <tr>\n",
       "      <th>6</th>\n",
       "      <td>-1.0</td>\n",
       "      <td>80000</td>\n",
       "      <td>19749.048087</td>\n",
       "      <td>80000</td>\n",
       "      <td>-4250.951913</td>\n",
       "    </tr>\n",
       "    <tr>\n",
       "      <th>7</th>\n",
       "      <td>1.0</td>\n",
       "      <td>140000</td>\n",
       "      <td>45716.973279</td>\n",
       "      <td>140000</td>\n",
       "      <td>3716.973279</td>\n",
       "    </tr>\n",
       "    <tr>\n",
       "      <th>8</th>\n",
       "      <td>-1.0</td>\n",
       "      <td>70000</td>\n",
       "      <td>22540.642141</td>\n",
       "      <td>70000</td>\n",
       "      <td>1540.642141</td>\n",
       "    </tr>\n",
       "    <tr>\n",
       "      <th>9</th>\n",
       "      <td>1.0</td>\n",
       "      <td>110000</td>\n",
       "      <td>30629.344885</td>\n",
       "      <td>110000</td>\n",
       "      <td>-2370.655115</td>\n",
       "    </tr>\n",
       "  </tbody>\n",
       "</table>\n",
       "</div>"
      ],
      "text/plain": [
       "   LoanApproval  AnnualSalary  AccountBalance      u1           u2\n",
       "0          -1.0         50000    14026.847358   50000  -973.152642\n",
       "1           1.0        120000    36940.097383  120000   940.097383\n",
       "2          -1.0         90000    23564.129008   90000 -3435.870992\n",
       "3          -1.0         80000    27596.570524   80000  3596.570524\n",
       "4           1.0        210000    62294.221620  210000  -705.778380\n",
       "5           1.0        120000    32827.008724  120000 -3172.991276\n",
       "6          -1.0         80000    19749.048087   80000 -4250.951913\n",
       "7           1.0        140000    45716.973279  140000  3716.973279\n",
       "8          -1.0         70000    22540.642141   70000  1540.642141\n",
       "9           1.0        110000    30629.344885  110000 -2370.655115"
      ]
     },
     "execution_count": 4,
     "metadata": {},
     "output_type": "execute_result"
    }
   ],
   "source": [
    "# make a dataset for the observables and unobservables\n",
    "# d = {'Y': y, 'X1': x1, 'X2': x2, 'U1_hat': lambda_1*u1, 'U2_hat': lambda_2*u2}\n",
    "# data = pd.DataFrame(d)\n",
    "# data.head(10)\n",
    "\n",
    "# store data for testing RStan \n",
    "d = {'LoanApproval': y, \n",
    "     'AnnualSalary': x1, \n",
    "     'AccountBalance': x2,\n",
    "     'u1': u1,\n",
    "     'u2': u2}\n",
    "data = pd.DataFrame(d)\n",
    "data.head(10)"
   ]
  },
  {
   "cell_type": "code",
   "execution_count": 5,
   "metadata": {},
   "outputs": [],
   "source": [
    "# store in data folder\n",
    "data.to_csv(data_path + '\\\\' + 'Karimi2020_v1.csv', sep='|', index=False)"
   ]
  },
  {
   "cell_type": "markdown",
   "metadata": {},
   "source": [
    "Can I say anything about the error terms' moments based on the 'observed' Us?\n",
    "\n",
    "It seems that for the white noise, yes. Realistically, however, we assume to know $F$ and its moments - too restrictive for an additve noise model used for discrimination, no?"
   ]
  },
  {
   "cell_type": "code",
   "execution_count": 6,
   "metadata": {},
   "outputs": [
    {
     "name": "stdout",
     "output_type": "stream",
     "text": [
      "100244.0\n",
      "32196.6\n"
     ]
    }
   ],
   "source": [
    "# recall u1 is a Poisson\n",
    "print(round(np.mean(data['u1']), 1))\n",
    "print(round(np.sqrt(np.var(data['u1'])), 1))"
   ]
  },
  {
   "cell_type": "code",
   "execution_count": 7,
   "metadata": {},
   "outputs": [
    {
     "name": "stdout",
     "output_type": "stream",
     "text": [
      "17.1\n",
      "2516.0\n"
     ]
    }
   ],
   "source": [
    "# recall u2 is a White Noise\n",
    "print(round(np.mean(data['u2']), 1))\n",
    "print(round(np.sqrt(np.var(data['u2'])), 1))"
   ]
  },
  {
   "cell_type": "markdown",
   "metadata": {},
   "source": [
    "### (1) Estimate $f_j$\n",
    "\n",
    "My interpretation of the paper is that, under causal sufficiency, focus is on estimating $f_j$ from the $X_j = f_j(X_{pa(j)}) + U$. If we 'assume' $f_j$ to be linar, the OLS estimator (being BLUE) is the best option, right? In other words,\n",
    "\n",
    "$ X_j = \\beta_0 + \\sum \\beta \\times X_{par(j)} + U_j$"
   ]
  },
  {
   "cell_type": "code",
   "execution_count": 8,
   "metadata": {},
   "outputs": [],
   "source": [
    "model = LinearRegression(fit_intercept=True, normalize=False)"
   ]
  },
  {
   "cell_type": "code",
   "execution_count": 9,
   "metadata": {},
   "outputs": [
    {
     "name": "stdout",
     "output_type": "stream",
     "text": [
      "(5000, 1)\n",
      "(5000,)\n"
     ]
    }
   ],
   "source": [
    "x = np.array(data['AnnualSalary'].copy()).reshape((-1, 1))\n",
    "print(x.shape)\n",
    "y = np.array(data['AccountBalance'].copy())\n",
    "print(y.shape)"
   ]
  },
  {
   "cell_type": "code",
   "execution_count": 10,
   "metadata": {},
   "outputs": [
    {
     "data": {
      "text/plain": [
       "LinearRegression()"
      ]
     },
     "execution_count": 10,
     "metadata": {},
     "output_type": "execute_result"
    }
   ],
   "source": [
    "model.fit(x, y)"
   ]
  },
  {
   "cell_type": "code",
   "execution_count": 11,
   "metadata": {},
   "outputs": [
    {
     "data": {
      "text/plain": [
       "0.2991165342281786"
      ]
     },
     "execution_count": 11,
     "metadata": {},
     "output_type": "execute_result"
    }
   ],
   "source": [
    "hat_beta1 = model.coef_[0]\n",
    "hat_beta1"
   ]
  },
  {
   "cell_type": "code",
   "execution_count": 12,
   "metadata": {},
   "outputs": [
    {
     "data": {
      "text/plain": [
       "105.62201565680152"
      ]
     },
     "execution_count": 12,
     "metadata": {},
     "output_type": "execute_result"
    }
   ],
   "source": [
    "hat_beta0 = model.intercept_\n",
    "hat_beta0"
   ]
  },
  {
   "cell_type": "code",
   "execution_count": 13,
   "metadata": {},
   "outputs": [
    {
     "data": {
      "text/html": [
       "<div>\n",
       "<style scoped>\n",
       "    .dataframe tbody tr th:only-of-type {\n",
       "        vertical-align: middle;\n",
       "    }\n",
       "\n",
       "    .dataframe tbody tr th {\n",
       "        vertical-align: top;\n",
       "    }\n",
       "\n",
       "    .dataframe thead th {\n",
       "        text-align: right;\n",
       "    }\n",
       "</style>\n",
       "<table border=\"1\" class=\"dataframe\">\n",
       "  <thead>\n",
       "    <tr style=\"text-align: right;\">\n",
       "      <th></th>\n",
       "      <th>AnnualSalary</th>\n",
       "      <th>AccountBalance</th>\n",
       "      <th>u1</th>\n",
       "      <th>u2</th>\n",
       "    </tr>\n",
       "  </thead>\n",
       "  <tbody>\n",
       "    <tr>\n",
       "      <th>0</th>\n",
       "      <td>50000</td>\n",
       "      <td>14026.847358</td>\n",
       "      <td>50000</td>\n",
       "      <td>-973.152642</td>\n",
       "    </tr>\n",
       "    <tr>\n",
       "      <th>1</th>\n",
       "      <td>120000</td>\n",
       "      <td>36940.097383</td>\n",
       "      <td>120000</td>\n",
       "      <td>940.097383</td>\n",
       "    </tr>\n",
       "    <tr>\n",
       "      <th>2</th>\n",
       "      <td>90000</td>\n",
       "      <td>23564.129008</td>\n",
       "      <td>90000</td>\n",
       "      <td>-3435.870992</td>\n",
       "    </tr>\n",
       "    <tr>\n",
       "      <th>3</th>\n",
       "      <td>80000</td>\n",
       "      <td>27596.570524</td>\n",
       "      <td>80000</td>\n",
       "      <td>3596.570524</td>\n",
       "    </tr>\n",
       "    <tr>\n",
       "      <th>4</th>\n",
       "      <td>210000</td>\n",
       "      <td>62294.221620</td>\n",
       "      <td>210000</td>\n",
       "      <td>-705.778380</td>\n",
       "    </tr>\n",
       "  </tbody>\n",
       "</table>\n",
       "</div>"
      ],
      "text/plain": [
       "   AnnualSalary  AccountBalance      u1           u2\n",
       "0         50000    14026.847358   50000  -973.152642\n",
       "1        120000    36940.097383  120000   940.097383\n",
       "2         90000    23564.129008   90000 -3435.870992\n",
       "3         80000    27596.570524   80000  3596.570524\n",
       "4        210000    62294.221620  210000  -705.778380"
      ]
     },
     "execution_count": 13,
     "metadata": {},
     "output_type": "execute_result"
    }
   ],
   "source": [
    "scf_data = data[['AnnualSalary', 'AccountBalance', 'u1', 'u2']].copy()\n",
    "scf_data.head(5)"
   ]
  },
  {
   "cell_type": "code",
   "execution_count": 14,
   "metadata": {},
   "outputs": [
    {
     "data": {
      "text/html": [
       "<div>\n",
       "<style scoped>\n",
       "    .dataframe tbody tr th:only-of-type {\n",
       "        vertical-align: middle;\n",
       "    }\n",
       "\n",
       "    .dataframe tbody tr th {\n",
       "        vertical-align: top;\n",
       "    }\n",
       "\n",
       "    .dataframe thead th {\n",
       "        text-align: right;\n",
       "    }\n",
       "</style>\n",
       "<table border=\"1\" class=\"dataframe\">\n",
       "  <thead>\n",
       "    <tr style=\"text-align: right;\">\n",
       "      <th></th>\n",
       "      <th>AnnualSalary</th>\n",
       "      <th>AccountBalance</th>\n",
       "      <th>u1</th>\n",
       "      <th>u2</th>\n",
       "      <th>hat_AccountBalance</th>\n",
       "    </tr>\n",
       "  </thead>\n",
       "  <tbody>\n",
       "    <tr>\n",
       "      <th>0</th>\n",
       "      <td>50000</td>\n",
       "      <td>14026.847358</td>\n",
       "      <td>50000</td>\n",
       "      <td>-973.152642</td>\n",
       "      <td>15061.448727</td>\n",
       "    </tr>\n",
       "    <tr>\n",
       "      <th>1</th>\n",
       "      <td>120000</td>\n",
       "      <td>36940.097383</td>\n",
       "      <td>120000</td>\n",
       "      <td>940.097383</td>\n",
       "      <td>35999.606123</td>\n",
       "    </tr>\n",
       "    <tr>\n",
       "      <th>2</th>\n",
       "      <td>90000</td>\n",
       "      <td>23564.129008</td>\n",
       "      <td>90000</td>\n",
       "      <td>-3435.870992</td>\n",
       "      <td>27026.110096</td>\n",
       "    </tr>\n",
       "    <tr>\n",
       "      <th>3</th>\n",
       "      <td>80000</td>\n",
       "      <td>27596.570524</td>\n",
       "      <td>80000</td>\n",
       "      <td>3596.570524</td>\n",
       "      <td>24034.944754</td>\n",
       "    </tr>\n",
       "    <tr>\n",
       "      <th>4</th>\n",
       "      <td>210000</td>\n",
       "      <td>62294.221620</td>\n",
       "      <td>210000</td>\n",
       "      <td>-705.778380</td>\n",
       "      <td>62920.094204</td>\n",
       "    </tr>\n",
       "  </tbody>\n",
       "</table>\n",
       "</div>"
      ],
      "text/plain": [
       "   AnnualSalary  AccountBalance      u1           u2  hat_AccountBalance\n",
       "0         50000    14026.847358   50000  -973.152642        15061.448727\n",
       "1        120000    36940.097383  120000   940.097383        35999.606123\n",
       "2         90000    23564.129008   90000 -3435.870992        27026.110096\n",
       "3         80000    27596.570524   80000  3596.570524        24034.944754\n",
       "4        210000    62294.221620  210000  -705.778380        62920.094204"
      ]
     },
     "execution_count": 14,
     "metadata": {},
     "output_type": "execute_result"
    }
   ],
   "source": [
    "scf_data['hat_AccountBalance'] = model.predict(x)\n",
    "scf_data.head(5)"
   ]
  },
  {
   "cell_type": "code",
   "execution_count": 15,
   "metadata": {},
   "outputs": [
    {
     "data": {
      "text/html": [
       "<div>\n",
       "<style scoped>\n",
       "    .dataframe tbody tr th:only-of-type {\n",
       "        vertical-align: middle;\n",
       "    }\n",
       "\n",
       "    .dataframe tbody tr th {\n",
       "        vertical-align: top;\n",
       "    }\n",
       "\n",
       "    .dataframe thead th {\n",
       "        text-align: right;\n",
       "    }\n",
       "</style>\n",
       "<table border=\"1\" class=\"dataframe\">\n",
       "  <thead>\n",
       "    <tr style=\"text-align: right;\">\n",
       "      <th></th>\n",
       "      <th>AnnualSalary</th>\n",
       "      <th>AccountBalance</th>\n",
       "      <th>u1</th>\n",
       "      <th>u2</th>\n",
       "      <th>hat_AccountBalance</th>\n",
       "      <th>diff_AccountBalance</th>\n",
       "    </tr>\n",
       "  </thead>\n",
       "  <tbody>\n",
       "    <tr>\n",
       "      <th>0</th>\n",
       "      <td>50000</td>\n",
       "      <td>14026.847358</td>\n",
       "      <td>50000</td>\n",
       "      <td>-973.152642</td>\n",
       "      <td>15061.448727</td>\n",
       "      <td>-1034.60</td>\n",
       "    </tr>\n",
       "    <tr>\n",
       "      <th>1</th>\n",
       "      <td>120000</td>\n",
       "      <td>36940.097383</td>\n",
       "      <td>120000</td>\n",
       "      <td>940.097383</td>\n",
       "      <td>35999.606123</td>\n",
       "      <td>940.49</td>\n",
       "    </tr>\n",
       "    <tr>\n",
       "      <th>2</th>\n",
       "      <td>90000</td>\n",
       "      <td>23564.129008</td>\n",
       "      <td>90000</td>\n",
       "      <td>-3435.870992</td>\n",
       "      <td>27026.110096</td>\n",
       "      <td>-3461.98</td>\n",
       "    </tr>\n",
       "    <tr>\n",
       "      <th>3</th>\n",
       "      <td>80000</td>\n",
       "      <td>27596.570524</td>\n",
       "      <td>80000</td>\n",
       "      <td>3596.570524</td>\n",
       "      <td>24034.944754</td>\n",
       "      <td>3561.63</td>\n",
       "    </tr>\n",
       "    <tr>\n",
       "      <th>4</th>\n",
       "      <td>210000</td>\n",
       "      <td>62294.221620</td>\n",
       "      <td>210000</td>\n",
       "      <td>-705.778380</td>\n",
       "      <td>62920.094204</td>\n",
       "      <td>-625.87</td>\n",
       "    </tr>\n",
       "  </tbody>\n",
       "</table>\n",
       "</div>"
      ],
      "text/plain": [
       "   AnnualSalary  AccountBalance      u1           u2  hat_AccountBalance  \\\n",
       "0         50000    14026.847358   50000  -973.152642        15061.448727   \n",
       "1        120000    36940.097383  120000   940.097383        35999.606123   \n",
       "2         90000    23564.129008   90000 -3435.870992        27026.110096   \n",
       "3         80000    27596.570524   80000  3596.570524        24034.944754   \n",
       "4        210000    62294.221620  210000  -705.778380        62920.094204   \n",
       "\n",
       "   diff_AccountBalance  \n",
       "0             -1034.60  \n",
       "1               940.49  \n",
       "2             -3461.98  \n",
       "3              3561.63  \n",
       "4              -625.87  "
      ]
     },
     "execution_count": 15,
     "metadata": {},
     "output_type": "execute_result"
    }
   ],
   "source": [
    "scf_data['diff_AccountBalance'] = round(scf_data['AccountBalance'] - scf_data['hat_AccountBalance'], 2)\n",
    "scf_data.head(5)"
   ]
  },
  {
   "cell_type": "code",
   "execution_count": 16,
   "metadata": {},
   "outputs": [
    {
     "data": {
      "text/plain": [
       "(array([  11.,   76.,  261.,  617., 1048., 1266.,  978.,  503.,  189.,\n",
       "          51.]),\n",
       " array([-8613.13 , -7009.916, -5406.702, -3803.488, -2200.274,  -597.06 ,\n",
       "         1006.154,  2609.368,  4212.582,  5815.796,  7419.01 ]),\n",
       " <BarContainer object of 10 artists>)"
      ]
     },
     "execution_count": 16,
     "metadata": {},
     "output_type": "execute_result"
    },
    {
     "data": {
      "image/png": "[encoded data removed]",
      "text/plain": [
       "<Figure size 432x288 with 1 Axes>"
      ]
     },
     "metadata": {
      "needs_background": "light"
     },
     "output_type": "display_data"
    }
   ],
   "source": [
    "plt.hist(scf_data['diff_AccountBalance'])"
   ]
  },
  {
   "cell_type": "code",
   "execution_count": 17,
   "metadata": {},
   "outputs": [
    {
     "data": {
      "text/html": [
       "<div>\n",
       "<style scoped>\n",
       "    .dataframe tbody tr th:only-of-type {\n",
       "        vertical-align: middle;\n",
       "    }\n",
       "\n",
       "    .dataframe tbody tr th {\n",
       "        vertical-align: top;\n",
       "    }\n",
       "\n",
       "    .dataframe thead th {\n",
       "        text-align: right;\n",
       "    }\n",
       "</style>\n",
       "<table border=\"1\" class=\"dataframe\">\n",
       "  <thead>\n",
       "    <tr style=\"text-align: right;\">\n",
       "      <th></th>\n",
       "      <th>AnnualSalary</th>\n",
       "      <th>AccountBalance</th>\n",
       "      <th>u1</th>\n",
       "      <th>u2</th>\n",
       "      <th>hat_AccountBalance</th>\n",
       "      <th>diff_AccountBalance</th>\n",
       "      <th>perc_diff_AccountBalance</th>\n",
       "    </tr>\n",
       "  </thead>\n",
       "  <tbody>\n",
       "    <tr>\n",
       "      <th>0</th>\n",
       "      <td>50000</td>\n",
       "      <td>14026.847358</td>\n",
       "      <td>50000</td>\n",
       "      <td>-973.152642</td>\n",
       "      <td>15061.448727</td>\n",
       "      <td>-1034.60</td>\n",
       "      <td>7.38</td>\n",
       "    </tr>\n",
       "    <tr>\n",
       "      <th>1</th>\n",
       "      <td>120000</td>\n",
       "      <td>36940.097383</td>\n",
       "      <td>120000</td>\n",
       "      <td>940.097383</td>\n",
       "      <td>35999.606123</td>\n",
       "      <td>940.49</td>\n",
       "      <td>2.55</td>\n",
       "    </tr>\n",
       "    <tr>\n",
       "      <th>2</th>\n",
       "      <td>90000</td>\n",
       "      <td>23564.129008</td>\n",
       "      <td>90000</td>\n",
       "      <td>-3435.870992</td>\n",
       "      <td>27026.110096</td>\n",
       "      <td>-3461.98</td>\n",
       "      <td>14.69</td>\n",
       "    </tr>\n",
       "    <tr>\n",
       "      <th>3</th>\n",
       "      <td>80000</td>\n",
       "      <td>27596.570524</td>\n",
       "      <td>80000</td>\n",
       "      <td>3596.570524</td>\n",
       "      <td>24034.944754</td>\n",
       "      <td>3561.63</td>\n",
       "      <td>12.91</td>\n",
       "    </tr>\n",
       "    <tr>\n",
       "      <th>4</th>\n",
       "      <td>210000</td>\n",
       "      <td>62294.221620</td>\n",
       "      <td>210000</td>\n",
       "      <td>-705.778380</td>\n",
       "      <td>62920.094204</td>\n",
       "      <td>-625.87</td>\n",
       "      <td>1.00</td>\n",
       "    </tr>\n",
       "    <tr>\n",
       "      <th>5</th>\n",
       "      <td>120000</td>\n",
       "      <td>32827.008724</td>\n",
       "      <td>120000</td>\n",
       "      <td>-3172.991276</td>\n",
       "      <td>35999.606123</td>\n",
       "      <td>-3172.60</td>\n",
       "      <td>9.66</td>\n",
       "    </tr>\n",
       "    <tr>\n",
       "      <th>6</th>\n",
       "      <td>80000</td>\n",
       "      <td>19749.048087</td>\n",
       "      <td>80000</td>\n",
       "      <td>-4250.951913</td>\n",
       "      <td>24034.944754</td>\n",
       "      <td>-4285.90</td>\n",
       "      <td>21.70</td>\n",
       "    </tr>\n",
       "    <tr>\n",
       "      <th>7</th>\n",
       "      <td>140000</td>\n",
       "      <td>45716.973279</td>\n",
       "      <td>140000</td>\n",
       "      <td>3716.973279</td>\n",
       "      <td>41981.936808</td>\n",
       "      <td>3735.04</td>\n",
       "      <td>8.17</td>\n",
       "    </tr>\n",
       "    <tr>\n",
       "      <th>8</th>\n",
       "      <td>70000</td>\n",
       "      <td>22540.642141</td>\n",
       "      <td>70000</td>\n",
       "      <td>1540.642141</td>\n",
       "      <td>21043.779412</td>\n",
       "      <td>1496.86</td>\n",
       "      <td>6.64</td>\n",
       "    </tr>\n",
       "    <tr>\n",
       "      <th>9</th>\n",
       "      <td>110000</td>\n",
       "      <td>30629.344885</td>\n",
       "      <td>110000</td>\n",
       "      <td>-2370.655115</td>\n",
       "      <td>33008.440781</td>\n",
       "      <td>-2379.10</td>\n",
       "      <td>7.77</td>\n",
       "    </tr>\n",
       "  </tbody>\n",
       "</table>\n",
       "</div>"
      ],
      "text/plain": [
       "   AnnualSalary  AccountBalance      u1           u2  hat_AccountBalance  \\\n",
       "0         50000    14026.847358   50000  -973.152642        15061.448727   \n",
       "1        120000    36940.097383  120000   940.097383        35999.606123   \n",
       "2         90000    23564.129008   90000 -3435.870992        27026.110096   \n",
       "3         80000    27596.570524   80000  3596.570524        24034.944754   \n",
       "4        210000    62294.221620  210000  -705.778380        62920.094204   \n",
       "5        120000    32827.008724  120000 -3172.991276        35999.606123   \n",
       "6         80000    19749.048087   80000 -4250.951913        24034.944754   \n",
       "7        140000    45716.973279  140000  3716.973279        41981.936808   \n",
       "8         70000    22540.642141   70000  1540.642141        21043.779412   \n",
       "9        110000    30629.344885  110000 -2370.655115        33008.440781   \n",
       "\n",
       "   diff_AccountBalance  perc_diff_AccountBalance  \n",
       "0             -1034.60                      7.38  \n",
       "1               940.49                      2.55  \n",
       "2             -3461.98                     14.69  \n",
       "3              3561.63                     12.91  \n",
       "4              -625.87                      1.00  \n",
       "5             -3172.60                      9.66  \n",
       "6             -4285.90                     21.70  \n",
       "7              3735.04                      8.17  \n",
       "8              1496.86                      6.64  \n",
       "9             -2379.10                      7.77  "
      ]
     },
     "execution_count": 17,
     "metadata": {},
     "output_type": "execute_result"
    }
   ],
   "source": [
    "scf_data['perc_diff_AccountBalance'] = round( np.sqrt( (scf_data['AccountBalance'] - scf_data['hat_AccountBalance'])**2 ) * 100 / scf_data['AccountBalance'], 2)\n",
    "scf_data.head(10)"
   ]
  },
  {
   "cell_type": "code",
   "execution_count": 18,
   "metadata": {},
   "outputs": [
    {
     "data": {
      "text/plain": [
       "(2247, 7)"
      ]
     },
     "execution_count": 18,
     "metadata": {},
     "output_type": "execute_result"
    }
   ],
   "source": [
    "# can we start talking about a threshold here?\n",
    "error_threshold = 5.0\n",
    "\n",
    "scf_data[scf_data['perc_diff_AccountBalance'] <= error_threshold].shape"
   ]
  },
  {
   "cell_type": "code",
   "execution_count": 19,
   "metadata": {},
   "outputs": [
    {
     "data": {
      "text/plain": [
       "(array([  11.,   76.,  261.,  617., 1048., 1266.,  978.,  503.,  189.,\n",
       "          51.]),\n",
       " array([-8613.13 , -7009.916, -5406.702, -3803.488, -2200.274,  -597.06 ,\n",
       "         1006.154,  2609.368,  4212.582,  5815.796,  7419.01 ]),\n",
       " <BarContainer object of 10 artists>)"
      ]
     },
     "execution_count": 19,
     "metadata": {},
     "output_type": "execute_result"
    },
    {
     "data": {
      "image/png": "[encoded data removed]",
      "text/plain": [
       "<Figure size 432x288 with 1 Axes>"
      ]
     },
     "metadata": {
      "needs_background": "light"
     },
     "output_type": "display_data"
    }
   ],
   "source": [
    "plt.hist(scf_data['u2'])\n",
    "plt.hist(scf_data['diff_AccountBalance'])"
   ]
  },
  {
   "cell_type": "markdown",
   "metadata": {},
   "source": [
    "From the histograms of above, it seems that under cuasal sufficiency the abduction step essentially represents the individual error terms!"
   ]
  },
  {
   "cell_type": "markdown",
   "metadata": {},
   "source": [
    "### (2) Abduction"
   ]
  },
  {
   "cell_type": "code",
   "execution_count": 20,
   "metadata": {},
   "outputs": [
    {
     "data": {
      "text/html": [
       "<div>\n",
       "<style scoped>\n",
       "    .dataframe tbody tr th:only-of-type {\n",
       "        vertical-align: middle;\n",
       "    }\n",
       "\n",
       "    .dataframe tbody tr th {\n",
       "        vertical-align: top;\n",
       "    }\n",
       "\n",
       "    .dataframe thead th {\n",
       "        text-align: right;\n",
       "    }\n",
       "</style>\n",
       "<table border=\"1\" class=\"dataframe\">\n",
       "  <thead>\n",
       "    <tr style=\"text-align: right;\">\n",
       "      <th></th>\n",
       "      <th>AnnualSalary</th>\n",
       "      <th>AccountBalance</th>\n",
       "      <th>u1</th>\n",
       "      <th>u2</th>\n",
       "      <th>hat_AccountBalance</th>\n",
       "      <th>diff_AccountBalance</th>\n",
       "      <th>perc_diff_AccountBalance</th>\n",
       "      <th>hat_u1</th>\n",
       "      <th>hat_u2</th>\n",
       "    </tr>\n",
       "  </thead>\n",
       "  <tbody>\n",
       "    <tr>\n",
       "      <th>0</th>\n",
       "      <td>50000</td>\n",
       "      <td>14026.847358</td>\n",
       "      <td>50000</td>\n",
       "      <td>-973.152642</td>\n",
       "      <td>15061.448727</td>\n",
       "      <td>-1034.60</td>\n",
       "      <td>7.38</td>\n",
       "      <td>50000</td>\n",
       "      <td>-1034.60</td>\n",
       "    </tr>\n",
       "    <tr>\n",
       "      <th>1</th>\n",
       "      <td>120000</td>\n",
       "      <td>36940.097383</td>\n",
       "      <td>120000</td>\n",
       "      <td>940.097383</td>\n",
       "      <td>35999.606123</td>\n",
       "      <td>940.49</td>\n",
       "      <td>2.55</td>\n",
       "      <td>120000</td>\n",
       "      <td>940.49</td>\n",
       "    </tr>\n",
       "    <tr>\n",
       "      <th>2</th>\n",
       "      <td>90000</td>\n",
       "      <td>23564.129008</td>\n",
       "      <td>90000</td>\n",
       "      <td>-3435.870992</td>\n",
       "      <td>27026.110096</td>\n",
       "      <td>-3461.98</td>\n",
       "      <td>14.69</td>\n",
       "      <td>90000</td>\n",
       "      <td>-3461.98</td>\n",
       "    </tr>\n",
       "    <tr>\n",
       "      <th>3</th>\n",
       "      <td>80000</td>\n",
       "      <td>27596.570524</td>\n",
       "      <td>80000</td>\n",
       "      <td>3596.570524</td>\n",
       "      <td>24034.944754</td>\n",
       "      <td>3561.63</td>\n",
       "      <td>12.91</td>\n",
       "      <td>80000</td>\n",
       "      <td>3561.63</td>\n",
       "    </tr>\n",
       "    <tr>\n",
       "      <th>4</th>\n",
       "      <td>210000</td>\n",
       "      <td>62294.221620</td>\n",
       "      <td>210000</td>\n",
       "      <td>-705.778380</td>\n",
       "      <td>62920.094204</td>\n",
       "      <td>-625.87</td>\n",
       "      <td>1.00</td>\n",
       "      <td>210000</td>\n",
       "      <td>-625.87</td>\n",
       "    </tr>\n",
       "  </tbody>\n",
       "</table>\n",
       "</div>"
      ],
      "text/plain": [
       "   AnnualSalary  AccountBalance      u1           u2  hat_AccountBalance  \\\n",
       "0         50000    14026.847358   50000  -973.152642        15061.448727   \n",
       "1        120000    36940.097383  120000   940.097383        35999.606123   \n",
       "2         90000    23564.129008   90000 -3435.870992        27026.110096   \n",
       "3         80000    27596.570524   80000  3596.570524        24034.944754   \n",
       "4        210000    62294.221620  210000  -705.778380        62920.094204   \n",
       "\n",
       "   diff_AccountBalance  perc_diff_AccountBalance  hat_u1   hat_u2  \n",
       "0             -1034.60                      7.38   50000 -1034.60  \n",
       "1               940.49                      2.55  120000   940.49  \n",
       "2             -3461.98                     14.69   90000 -3461.98  \n",
       "3              3561.63                     12.91   80000  3561.63  \n",
       "4              -625.87                      1.00  210000  -625.87  "
      ]
     },
     "execution_count": 20,
     "metadata": {},
     "output_type": "execute_result"
    }
   ],
   "source": [
    "scf_data['hat_u1'] = scf_data['AnnualSalary']\n",
    "scf_data['hat_u2'] = round(scf_data['AccountBalance'] - model.predict(x), 2)\n",
    "scf_data.head(5)"
   ]
  },
  {
   "cell_type": "code",
   "execution_count": 21,
   "metadata": {},
   "outputs": [
    {
     "data": {
      "text/html": [
       "<div>\n",
       "<style scoped>\n",
       "    .dataframe tbody tr th:only-of-type {\n",
       "        vertical-align: middle;\n",
       "    }\n",
       "\n",
       "    .dataframe tbody tr th {\n",
       "        vertical-align: top;\n",
       "    }\n",
       "\n",
       "    .dataframe thead th {\n",
       "        text-align: right;\n",
       "    }\n",
       "</style>\n",
       "<table border=\"1\" class=\"dataframe\">\n",
       "  <thead>\n",
       "    <tr style=\"text-align: right;\">\n",
       "      <th></th>\n",
       "      <th>AnnualSalary</th>\n",
       "      <th>AccountBalance</th>\n",
       "      <th>hat_u1</th>\n",
       "      <th>hat_u2</th>\n",
       "    </tr>\n",
       "  </thead>\n",
       "  <tbody>\n",
       "    <tr>\n",
       "      <th>0</th>\n",
       "      <td>50000</td>\n",
       "      <td>14026.847358</td>\n",
       "      <td>50000</td>\n",
       "      <td>-1034.60</td>\n",
       "    </tr>\n",
       "    <tr>\n",
       "      <th>1</th>\n",
       "      <td>120000</td>\n",
       "      <td>36940.097383</td>\n",
       "      <td>120000</td>\n",
       "      <td>940.49</td>\n",
       "    </tr>\n",
       "    <tr>\n",
       "      <th>2</th>\n",
       "      <td>90000</td>\n",
       "      <td>23564.129008</td>\n",
       "      <td>90000</td>\n",
       "      <td>-3461.98</td>\n",
       "    </tr>\n",
       "    <tr>\n",
       "      <th>3</th>\n",
       "      <td>80000</td>\n",
       "      <td>27596.570524</td>\n",
       "      <td>80000</td>\n",
       "      <td>3561.63</td>\n",
       "    </tr>\n",
       "    <tr>\n",
       "      <th>4</th>\n",
       "      <td>210000</td>\n",
       "      <td>62294.221620</td>\n",
       "      <td>210000</td>\n",
       "      <td>-625.87</td>\n",
       "    </tr>\n",
       "  </tbody>\n",
       "</table>\n",
       "</div>"
      ],
      "text/plain": [
       "   AnnualSalary  AccountBalance  hat_u1   hat_u2\n",
       "0         50000    14026.847358   50000 -1034.60\n",
       "1        120000    36940.097383  120000   940.49\n",
       "2         90000    23564.129008   90000 -3461.98\n",
       "3         80000    27596.570524   80000  3561.63\n",
       "4        210000    62294.221620  210000  -625.87"
      ]
     },
     "execution_count": 21,
     "metadata": {},
     "output_type": "execute_result"
    }
   ],
   "source": [
    "scf_data = scf_data[['AnnualSalary', 'AccountBalance', 'hat_u1', 'hat_u2']]\n",
    "scf_data.head(5)"
   ]
  },
  {
   "cell_type": "markdown",
   "metadata": {},
   "source": [
    "### (3) ... and Intervention and Prediction"
   ]
  },
  {
   "cell_type": "code",
   "execution_count": 22,
   "metadata": {},
   "outputs": [
    {
     "data": {
      "text/plain": [
       "30090"
      ]
     },
     "execution_count": 22,
     "metadata": {},
     "output_type": "execute_result"
    }
   ],
   "source": [
    "round(np.mean(scf_data['AccountBalance']))"
   ]
  },
  {
   "cell_type": "code",
   "execution_count": 23,
   "metadata": {},
   "outputs": [],
   "source": [
    "do = 30000\n",
    "do_30000 = np.repeat(do, repeats=scf_data.shape[0]).reshape((-1, 1))\n",
    "#do_30000"
   ]
  },
  {
   "cell_type": "code",
   "execution_count": 24,
   "metadata": {},
   "outputs": [
    {
     "data": {
      "text/html": [
       "<div>\n",
       "<style scoped>\n",
       "    .dataframe tbody tr th:only-of-type {\n",
       "        vertical-align: middle;\n",
       "    }\n",
       "\n",
       "    .dataframe tbody tr th {\n",
       "        vertical-align: top;\n",
       "    }\n",
       "\n",
       "    .dataframe thead th {\n",
       "        text-align: right;\n",
       "    }\n",
       "</style>\n",
       "<table border=\"1\" class=\"dataframe\">\n",
       "  <thead>\n",
       "    <tr style=\"text-align: right;\">\n",
       "      <th></th>\n",
       "      <th>AnnualSalary</th>\n",
       "      <th>AccountBalance</th>\n",
       "      <th>hat_u1</th>\n",
       "      <th>hat_u2</th>\n",
       "      <th>scf_AccountBalance</th>\n",
       "    </tr>\n",
       "  </thead>\n",
       "  <tbody>\n",
       "    <tr>\n",
       "      <th>0</th>\n",
       "      <td>50000</td>\n",
       "      <td>14026.847358</td>\n",
       "      <td>50000</td>\n",
       "      <td>-1034.60</td>\n",
       "      <td>8044.52</td>\n",
       "    </tr>\n",
       "    <tr>\n",
       "      <th>1</th>\n",
       "      <td>120000</td>\n",
       "      <td>36940.097383</td>\n",
       "      <td>120000</td>\n",
       "      <td>940.49</td>\n",
       "      <td>10019.61</td>\n",
       "    </tr>\n",
       "    <tr>\n",
       "      <th>2</th>\n",
       "      <td>90000</td>\n",
       "      <td>23564.129008</td>\n",
       "      <td>90000</td>\n",
       "      <td>-3461.98</td>\n",
       "      <td>5617.14</td>\n",
       "    </tr>\n",
       "    <tr>\n",
       "      <th>3</th>\n",
       "      <td>80000</td>\n",
       "      <td>27596.570524</td>\n",
       "      <td>80000</td>\n",
       "      <td>3561.63</td>\n",
       "      <td>12640.75</td>\n",
       "    </tr>\n",
       "    <tr>\n",
       "      <th>4</th>\n",
       "      <td>210000</td>\n",
       "      <td>62294.221620</td>\n",
       "      <td>210000</td>\n",
       "      <td>-625.87</td>\n",
       "      <td>8453.25</td>\n",
       "    </tr>\n",
       "  </tbody>\n",
       "</table>\n",
       "</div>"
      ],
      "text/plain": [
       "   AnnualSalary  AccountBalance  hat_u1   hat_u2  scf_AccountBalance\n",
       "0         50000    14026.847358   50000 -1034.60             8044.52\n",
       "1        120000    36940.097383  120000   940.49            10019.61\n",
       "2         90000    23564.129008   90000 -3461.98             5617.14\n",
       "3         80000    27596.570524   80000  3561.63            12640.75\n",
       "4        210000    62294.221620  210000  -625.87             8453.25"
      ]
     },
     "execution_count": 24,
     "metadata": {},
     "output_type": "execute_result"
    }
   ],
   "source": [
    "scf_data['scf_AccountBalance'] = round(model.predict(do_30000) + scf_data['hat_u2'], 2)\n",
    "scf_data.head(5)"
   ]
  },
  {
   "cell_type": "code",
   "execution_count": 25,
   "metadata": {},
   "outputs": [
    {
     "data": {
      "text/plain": [
       "(array([  11.,   76.,  261.,  617., 1048., 1266.,  978.,  503.,  189.,\n",
       "          51.]),\n",
       " array([  465.99 ,  2069.204,  3672.418,  5275.632,  6878.846,  8482.06 ,\n",
       "        10085.274, 11688.488, 13291.702, 14894.916, 16498.13 ]),\n",
       " <BarContainer object of 10 artists>)"
      ]
     },
     "execution_count": 25,
     "metadata": {},
     "output_type": "execute_result"
    },
    {
     "data": {
      "image/png": "[encoded data removed]",
      "text/plain": [
       "<Figure size 432x288 with 1 Axes>"
      ]
     },
     "metadata": {
      "needs_background": "light"
     },
     "output_type": "display_data"
    }
   ],
   "source": [
    "plt.hist(scf_data['AccountBalance'])\n",
    "plt.hist(scf_data['scf_AccountBalance'])"
   ]
  },
  {
   "cell_type": "code",
   "execution_count": 26,
   "metadata": {},
   "outputs": [
    {
     "data": {
      "text/plain": [
       "(array([4934.,    0.,    0.,    0.,    0.,    0.,    0.,    0.,    0.,\n",
       "          66.]),\n",
       " array([-1. , -0.8, -0.6, -0.4, -0.2,  0. ,  0.2,  0.4,  0.6,  0.8,  1. ]),\n",
       " <BarContainer object of 10 artists>)"
      ]
     },
     "execution_count": 26,
     "metadata": {},
     "output_type": "execute_result"
    },
    {
     "data": {
      "image/png": "[encoded data removed]",
      "text/plain": [
       "<Figure size 432x288 with 1 Axes>"
      ]
     },
     "metadata": {
      "needs_background": "light"
     },
     "output_type": "display_data"
    }
   ],
   "source": [
    "plt.hist(data['LoanApproval'])\n",
    "plt.hist(np.sign(scf_data['AnnualSalary'] + beta_2*scf_data['scf_AccountBalance'] - 225000))"
   ]
  },
  {
   "cell_type": "markdown",
   "metadata": {},
   "source": [
    "*Remarks:*\n",
    "\n",
    "Above all, it seems that under causal sufficiency and under structural equations with linear functional form and an additive noise (ideally, Gaussian), we can perform Pearl's structural counterfactuals wihtout having to go crazy on the latent space... of course, here some very stringent assumptions take place: we assume a noise additve model, we assume a linear form, and we assume $X_2$ to have Gaussian errors. This is possible because we know the data generating process. We would then need to wonder what does this imply when some of these assumptions don't hold?\n",
    "\n",
    "On $\\alpha$, it roughly represents the level of variation of the noise. This is clearer under *white noise*. Similarly, now it is more clear to me what $U$ represents: the (most likely) individual error or unit characterization given the evidence for for each individual.\n",
    "\n",
    "Here, we don't need a latent space nor anything fancy for generating the counterfactuals. This indeed is a simple model but it illustrates a new approach for discrimination discovery: fairness given the difference. I think we should focus on finishing this for situation testing under a simple approach and then push this further by exploring the consequences of non-normal noise or even non-linear forms."
   ]
  },
  {
   "cell_type": "code",
   "execution_count": null,
   "metadata": {},
   "outputs": [],
   "source": []
  },
  {
   "cell_type": "markdown",
   "metadata": {},
   "source": [
    "### Version 2: no causal sufficiency\n",
    "\n",
    "$U -> X_1; U -> X_2; X_1 -> X_2$\n",
    "\n",
    "A violation of the causal sufficiency essentially introduces an endogeneity problem where we are unable to retrieve the original causal weights... which is an issue for performing the abduction step (we can't properly identify the exogenous vars) and, in turn, a problem for generating the counterfactuals."
   ]
  },
  {
   "cell_type": "code",
   "execution_count": null,
   "metadata": {},
   "outputs": [],
   "source": [
    "# clear values\n",
    "del u1, u2, x1, x2, y"
   ]
  },
  {
   "cell_type": "code",
   "execution_count": null,
   "metadata": {},
   "outputs": [],
   "source": [
    "# overall params\n",
    "np.random.seed(2022)\n",
    "n = 1000\n",
    "\n",
    "# (hyper)parameters\n",
    "lambda_1 = 10000\n",
    "lambda_2 = 2500\n",
    "beta_1 = (3/10)\n",
    "beta_2 = 5\n",
    "#epsilon = 225000\n",
    "\n",
    "u1 = lambda_1*np.random.poisson(lam=10, size=n)\n",
    "u2 = lambda_2*np.random.normal(loc=0.0, scale=1.0, size=n)\n",
    "\n",
    "z = 3000*np.random.normal(loc=0.0, scale=1.75, size=n)\n",
    "\n",
    "# annual salary\n",
    "x1 = u1 + z\n",
    "# account balance\n",
    "x2 = beta_1*x1 + u2 + z\n",
    "\n",
    "# loan approval\n",
    "y = np.sign(x1 + beta_2*x2 - 225000)"
   ]
  },
  {
   "cell_type": "code",
   "execution_count": null,
   "metadata": {},
   "outputs": [],
   "source": [
    "# store data for testing RStan \n",
    "d2 = {'LoanApproval': y, \n",
    "      'AnnualSalary': x1, \n",
    "      'AccountBalance': x2,\n",
    "      'u1': u1,\n",
    "      'u2': u2,\n",
    "      'z': z}\n",
    "data2 = pd.DataFrame(d2)\n",
    "data2.head(10)"
   ]
  },
  {
   "cell_type": "code",
   "execution_count": null,
   "metadata": {},
   "outputs": [],
   "source": [
    "# just in case\n",
    "del x, y, model"
   ]
  },
  {
   "cell_type": "code",
   "execution_count": null,
   "metadata": {},
   "outputs": [],
   "source": [
    "#from sklearn.linear_model import LinearRegression\n",
    "model = LinearRegression(fit_intercept=True, normalize=False)"
   ]
  },
  {
   "cell_type": "code",
   "execution_count": null,
   "metadata": {},
   "outputs": [],
   "source": [
    "x = np.array(data2['AnnualSalary'].copy()).reshape((-1, 1))\n",
    "print(x.shape)\n",
    "\n",
    "y = np.array(data2['AccountBalance'].copy())\n",
    "print(y.shape)\n",
    "\n",
    "model.fit(x, y)\n",
    "\n",
    "hat_beta1 = model.coef_[0]\n",
    "print(hat_beta1)\n",
    "\n",
    "hat_beta0 = model.intercept_\n",
    "print(hat_beta0)"
   ]
  },
  {
   "cell_type": "code",
   "execution_count": null,
   "metadata": {},
   "outputs": [],
   "source": [
    "#from sklearn.linear_model import LinearRegression\n",
    "model2 = LinearRegression(fit_intercept=True, normalize=False)"
   ]
  },
  {
   "cell_type": "code",
   "execution_count": null,
   "metadata": {},
   "outputs": [],
   "source": [
    "# this is X\n",
    "np.array(data2[['AnnualSalary', 'z']].copy())"
   ]
  },
  {
   "cell_type": "code",
   "execution_count": null,
   "metadata": {},
   "outputs": [],
   "source": [
    "x = np.array(data2[['AnnualSalary', 'z']].copy())#.reshape((-1, 1))\n",
    "print(x.shape)\n",
    "\n",
    "y = np.array(data2['AccountBalance'].copy())\n",
    "print(y.shape)"
   ]
  },
  {
   "cell_type": "code",
   "execution_count": null,
   "metadata": {},
   "outputs": [],
   "source": [
    "model2.fit(x, y)\n",
    "\n",
    "hat_beta1 = model2.coef_[0]\n",
    "print(hat_beta1)\n",
    "\n",
    "hat_beta2 = model2.coef_[1]\n",
    "print(hat_beta2)\n",
    "\n",
    "hat_beta0 = model2.intercept_\n",
    "print(hat_beta0)"
   ]
  },
  {
   "cell_type": "markdown",
   "metadata": {},
   "source": [
    "(Above:) I'm not retrieving the weight of the confounder $Z$ but I get closer to $\\beta_1$."
   ]
  },
  {
   "cell_type": "code",
   "execution_count": null,
   "metadata": {},
   "outputs": [],
   "source": [
    "model2.coef_"
   ]
  },
  {
   "cell_type": "code",
   "execution_count": null,
   "metadata": {},
   "outputs": [],
   "source": [
    "model.coef_"
   ]
  },
  {
   "cell_type": "code",
   "execution_count": null,
   "metadata": {},
   "outputs": [],
   "source": [
    "scf_data = data2[['AnnualSalary', 'AccountBalance', 'u1', 'u2', 'z']].copy()\n",
    "scf_data.head(5)"
   ]
  },
  {
   "cell_type": "code",
   "execution_count": null,
   "metadata": {},
   "outputs": [],
   "source": [
    "scf_data['hat_AccountBalance'] = model.predict(x)\n",
    "scf_data.head(5)"
   ]
  },
  {
   "cell_type": "code",
   "execution_count": null,
   "metadata": {},
   "outputs": [],
   "source": [
    "scf_data['hat_u1'] = scf_data['AnnualSalary']\n",
    "scf_data['hat_u2'] = round(scf_data['AccountBalance'] - model.predict(x), 2)\n",
    "scf_data.head(5)"
   ]
  },
  {
   "cell_type": "code",
   "execution_count": null,
   "metadata": {},
   "outputs": [],
   "source": [
    "# under this, we would overestimate u2\n",
    "plt.hist(scf_data['hat_u2'])\n",
    "plt.hist(scf_data['u2'])"
   ]
  },
  {
   "cell_type": "code",
   "execution_count": null,
   "metadata": {},
   "outputs": [],
   "source": []
  },
  {
   "cell_type": "code",
   "execution_count": null,
   "metadata": {},
   "outputs": [],
   "source": []
  },
  {
   "cell_type": "code",
   "execution_count": null,
   "metadata": {},
   "outputs": [],
   "source": []
  },
  {
   "cell_type": "code",
   "execution_count": null,
   "metadata": {},
   "outputs": [],
   "source": []
  },
  {
   "cell_type": "code",
   "execution_count": null,
   "metadata": {},
   "outputs": [],
   "source": [
    "# consider individual i: what is the counterfactual of y_i?\n",
    "# here, in ST, want the STRUCTURAL COUNTERFACTUAL x_scf, not too interested in y_scf\n",
    "# because want to match x_scf with those that don't share the protected attribute memebership of i\n",
    "i = 3\n",
    "data.loc[i, ]"
   ]
  },
  {
   "cell_type": "code",
   "execution_count": null,
   "metadata": {},
   "outputs": [],
   "source": [
    "# Step 1: Abduction\n",
    "# Get U's given the evidence X's [assuming causal sufficiency and, ofc, a known causal graph]\n",
    "\n",
    "# u1 given x1: from Fig.1, x1 = u1 and thus u1 = x1\n",
    "u1_i = data.loc[i, 'X1']\n",
    "print(u1_i)\n",
    "\n",
    "# u2 given x2: from Fig.1, x2 = (3/10)*x1 + u2 and thus u2 = x2 - (3/10)*x1\n",
    "u2_i = data.loc[i, 'X2'] - (3/10)*data.loc[i, 'X1']\n",
    "print(u2_i)"
   ]
  },
  {
   "cell_type": "code",
   "execution_count": null,
   "metadata": {},
   "outputs": [],
   "source": [
    "# Step 2: Action\n",
    "# Given the SCM, intervene it accordingly using the do-operator \n",
    "delta = 5000\n",
    "\n",
    "# Org SCM M:\n",
    "# x1 = u1             [salary]\n",
    "# x2 = (3/10)*x1 + u2 [balance]\n",
    "\n",
    "# do(X1 := X1 + delta), then M':\n",
    "# X1' := X1 + delta\n",
    "# X2 = (3/10)*X1' + U2\n",
    "\n",
    "# Step 3: Prediction (notice at at i-level)\n",
    "# Apply the chagnes on M' and get the scf tuple \n",
    "\n",
    "x1_i_scf = data.loc[i, 'X1'] + delta\n",
    "print(x1_i_scf)\n",
    "\n",
    "x2_i_scf = (3/10)*x1_i_scf + u2_i\n",
    "print(x2_i_scf)"
   ]
  },
  {
   "cell_type": "code",
   "execution_count": null,
   "metadata": {},
   "outputs": [],
   "source": [
    "print(data.loc[i, 'Y'])\n",
    "# vs\n",
    "print(np.sign(x1_i_scf + 5*x2_i_scf - 225000))"
   ]
  },
  {
   "cell_type": "markdown",
   "metadata": {},
   "source": [
    "This abduction-action-prediction from Karimi et al. is very usful for situation testing because all the focus is on profucing the structural counterfactual tuple for the attribute space; we don't 'care' for Y!\n",
    "\n",
    "This means, wrt to ST, that we can generate X_CF without having to know the decision-maker (i.e., model agnostic). Ofc, the assumption here is that we have a SCM model that is known. Further more, SCM needs to be estimated to obtain the functional form for carrying out the three steps... meaning that we further have to assume (potentially) (1) causal sufficiency and (2) additive noise models for a nice estimation. Although these are considerable assumptions, it's standard within the literature.\n",
    "\n",
    "ST simplifies this step in that we only care about switching the protected attribute A, which is usually 0 or 1. Further, we are not interested in flipping the decision, but in checking whether the decision flips or not!\n",
    "\n",
    "Furthermore, we should consider the types of potential interventions presented in this paper... and extend situation testing beyond flipping A?!\n",
    "\n",
    "Given {x^F}, we can generate {x^SCF} and from this generated tuple try to match individuals that don't share the protected attribute of the complainant... creating out counterfactual group.\n",
    "\n",
    "In practice, we won't have access to U (i.e., the latent space) but we can approximated using MCMC (like in Kusner at al.)."
   ]
  },
  {
   "cell_type": "markdown",
   "metadata": {},
   "source": [
    "### v2\n",
    "with the DAG: X1->Y, X1->X2, X->Y, A->X1, A->X2 such that $A$ is gender (A=1 female, A=0 male)."
   ]
  },
  {
   "cell_type": "code",
   "execution_count": null,
   "metadata": {},
   "outputs": [],
   "source": [
    "p_men = 0.65\n",
    "uA = random.choices(population=[0, 1], weights=[p_men, (1 - p_men)], k=n)\n",
    "plt.hist(uA)"
   ]
  },
  {
   "cell_type": "code",
   "execution_count": null,
   "metadata": {},
   "outputs": [],
   "source": [
    "#u1 = 10000*np.random.poisson(lam=10, size=n)\n",
    "#u2 = 2500*np.random.normal(loc=0.0, scale=1.0, size=n)\n",
    "#uA = see previous cell!\n",
    "\n",
    "# gender \n",
    "A = np.asanyarray(uA)\n",
    "# and its weights (systematic issue) | we avoid direct effects (as it would be ilegal and inline with Hecker's view)\n",
    "beta1 = -9500\n",
    "beta2 = -500\n",
    "\n",
    "# annual salary\n",
    "n_x1 = lambda_1*u1 + beta1*A\n",
    "# account balance\n",
    "n_x2 = (3/10)*n_x1 + lambda_2*u2 + beta2*A\n",
    "# loan approval\n",
    "n_y = np.sign(n_x1 + 5*n_x2 - 225000)"
   ]
  },
  {
   "cell_type": "code",
   "execution_count": null,
   "metadata": {},
   "outputs": [],
   "source": [
    "# plot the factual distribution\n",
    "plt.hist(n_y)"
   ]
  },
  {
   "cell_type": "code",
   "execution_count": null,
   "metadata": {},
   "outputs": [],
   "source": [
    "# store data for testing RStan \n",
    "d_test = {'LoanApproval': n_y, \n",
    "          'AnnualSalary': n_x1, \n",
    "          'AccountBalance': n_x2,\n",
    "          'Gender': A,\n",
    "          'u1': u1,\n",
    "          'l_u1': lambda_1*u1,\n",
    "          'u2': u2,\n",
    "          'l_u2': lambda_2*u2}\n",
    "data_test = pd.DataFrame(d_test)\n",
    "data_test.head(10)"
   ]
  },
  {
   "cell_type": "code",
   "execution_count": null,
   "metadata": {},
   "outputs": [],
   "source": [
    "# store in data folder\n",
    "data_test.to_csv(data_path + '\\\\' + 'Karimi2020_v2.csv', sep='|', index=False)"
   ]
  },
  {
   "cell_type": "code",
   "execution_count": null,
   "metadata": {},
   "outputs": [],
   "source": []
  },
  {
   "cell_type": "code",
   "execution_count": null,
   "metadata": {},
   "outputs": [],
   "source": [
    "# make a dataset for the observables*\n",
    "# *include unobservables too... here, imagine you ran the MCMC before and estimated u|evidence\n",
    "d = {'Y': y, 'X1': x1, 'X2': x2, \n",
    "     'Gender': A, 'nY': n_y, 'nX1': n_x1, 'nX2': n_x2,\n",
    "     'U1_hat': u1, 'U2_hat': u2, 'uA': uA}\n",
    "data = pd.DataFrame(d)\n",
    "data.head(10)"
   ]
  },
  {
   "cell_type": "code",
   "execution_count": null,
   "metadata": {},
   "outputs": [],
   "source": [
    "# total of females\n",
    "n_f = data[data['Gender']==1].shape[0]\n",
    "# total of males\n",
    "n_m = data[data['Gender']==0].shape[0]\n",
    "\n",
    "# unbiased\n",
    "print('female unbiased')\n",
    "print(data[(data['Gender']==1) & (data['Y']==1)].shape[0] / n_f)\n",
    "print('male unbiased')\n",
    "print(data[(data['Gender']==0) & (data['Y']==1)].shape[0] / n_m)\n",
    "\n",
    "# biased\n",
    "print('female biased')\n",
    "print(data[(data['Gender']==1) & (data['nY']==1)].shape[0] / n_f)\n",
    "print('male biased')\n",
    "print(data[(data['Gender']==0) & (data['nY']==1)].shape[0] / n_m)\n",
    "\n",
    "# TODO: would this show in a trained model?"
   ]
  },
  {
   "cell_type": "code",
   "execution_count": null,
   "metadata": {},
   "outputs": [],
   "source": []
  },
  {
   "cell_type": "code",
   "execution_count": null,
   "metadata": {},
   "outputs": [],
   "source": []
  },
  {
   "cell_type": "code",
   "execution_count": null,
   "metadata": {},
   "outputs": [],
   "source": []
  },
  {
   "cell_type": "markdown",
   "metadata": {},
   "source": [
    "### Would this translate into some trained model?"
   ]
  },
  {
   "cell_type": "code",
   "execution_count": null,
   "metadata": {},
   "outputs": [],
   "source": [
    "from sklearn.pipeline import Pipeline\n",
    "from sklearn.metrics import accuracy_score, confusion_matrix\n",
    "from sklearn.linear_model import LogisticRegression, Lasso\n",
    "# from sklearn.preprocessing import LabelEncoder, StandardScaler\n",
    "# from sklearn.metrics import accuracy_score, precision_score, recall_score, roc_auc_score\n",
    "from sklearn.model_selection import train_test_split\n",
    "# from sklearn.svm import SVC\n",
    "# from sklearn.ensemble import RandomForestClassifier, GradientBoostingClassifier\n",
    "# from sklearn.neural_network import MLPClassifier\n",
    "# from sklearn.tree import DecisionTreeClassifier\n",
    "# from xgboost import XGBRegressor, XGBClassifier\n",
    "# from catboost import CatBoostClassifier"
   ]
  },
  {
   "cell_type": "code",
   "execution_count": null,
   "metadata": {},
   "outputs": [],
   "source": [
    "data.columns"
   ]
  },
  {
   "cell_type": "code",
   "execution_count": null,
   "metadata": {},
   "outputs": [],
   "source": [
    "u_data = data[['Y', 'X1', 'X2', 'Gender']].copy()\n",
    "print(u_data.shape)\n",
    "\n",
    "b_data = data[['nY', 'nX1', 'nX2', 'Gender']].copy()\n",
    "print(b_data.shape)"
   ]
  },
  {
   "cell_type": "code",
   "execution_count": null,
   "metadata": {},
   "outputs": [],
   "source": [
    "# todo: let's do a simple logit here, later we can reuse the FairEncoder code and streamline multiple models\n",
    "# todo: also create an utils files accordingly\n",
    "# todo: get comfortable with Pipeline\n",
    "\n",
    "b_data['nY2'] = np.where(b_data['nY']==-1, 0 ,b_data['nY'])\n",
    "print(b_data[['nY', 'nY2']].head(10))\n",
    "\n",
    "targets = ['nY2', 'nY']\n",
    "y = b_data['nY2']\n",
    "X = b_data.drop(columns=targets)"
   ]
  },
  {
   "cell_type": "code",
   "execution_count": null,
   "metadata": {},
   "outputs": [],
   "source": [
    "X_tr, X_te, y_tr, y_te = train_test_split(X, y, test_size=0.5, random_state=42)"
   ]
  },
  {
   "cell_type": "code",
   "execution_count": null,
   "metadata": {},
   "outputs": [],
   "source": [
    "clf = LogisticRegression(random_state=0).fit(X_tr, y_tr.values.ravel())"
   ]
  },
  {
   "cell_type": "code",
   "execution_count": null,
   "metadata": {},
   "outputs": [],
   "source": [
    "clf.coef_"
   ]
  },
  {
   "cell_type": "code",
   "execution_count": null,
   "metadata": {},
   "outputs": [],
   "source": [
    "y_pr = clf.predict(X_te)"
   ]
  },
  {
   "cell_type": "code",
   "execution_count": null,
   "metadata": {},
   "outputs": [],
   "source": [
    "conf_matrix = confusion_matrix(y_pr, y_te)\n",
    "conf_matrix"
   ]
  },
  {
   "cell_type": "code",
   "execution_count": null,
   "metadata": {},
   "outputs": [],
   "source": [
    "# todo: move later to some utils.py files \n",
    "def calculate_cm(true, preds):\n",
    "    \n",
    "    # Obtain the confusion matrix\n",
    "    cm = confusion_matrix(preds, true)\n",
    "    \n",
    "    # Return all\n",
    "    cm_dict = dict()\n",
    "\n",
    "    #  https://stackoverflow.com/questions/31324218/scikit-learn-how-to-obtain-true-positive-true-negative-false-positive-and-fal\n",
    "    FP = cm.sum(axis=0) - np.diag(cm)\n",
    "    cm_dict['FP'] = FP\n",
    "    FN = cm.sum(axis=1) - np.diag(cm)\n",
    "    cm_dict['FN'] = FN\n",
    "    TP = np.diag(cm)\n",
    "    cm_dict['TP'] = TP\n",
    "    TN = cm.sum() - (FP + FN + TP)\n",
    "    cm_dict['TN'] = TN\n",
    "    \n",
    "    # Sensitivity, hit rate, recall, or true positive rate\n",
    "    TPR = TP / (TP + FN)\n",
    "    cm_dict['TPR'] = TPR\n",
    "    # Specificity or true negative rate\n",
    "    TNR = TN / (TN + FP)\n",
    "    cm_dict['TNR'] = TNR\n",
    "    \n",
    "    # todo: expand dict for others\n",
    "    # Precision or positive predictive valbue\n",
    "    PPV = TP / (TP + FP)\n",
    "    # Negative predictive value\n",
    "    NPV = TN / (TN + FN)\n",
    "    # Fall out or false positive rate\n",
    "    FPR = FP / (FP + TN)\n",
    "    # False negative rate\n",
    "    FNR = FN / (TP + FN)\n",
    "    # False discovery rate\n",
    "    FDR = FP / (TP + FP)\n",
    "\n",
    "    # Overall accuracy\n",
    "    ACC = (TP + TN) / (TP + FP + FN + TN)\n",
    "\n",
    "    #return cm_dict\n",
    "    return TPR[0] #esto esta bien!"
   ]
  },
  {
   "cell_type": "code",
   "execution_count": null,
   "metadata": {},
   "outputs": [],
   "source": [
    "# reference group (males, or A=0): group 2\n",
    "aux = X_te.copy()\n",
    "aux['target'] = y_te\n",
    "\n",
    "# Filter the data\n",
    "g1 = X_te[X_te['Gender'] == 1]\n",
    "g2 = X_te[X_te['Gender'] == 0]\n",
    "\n",
    "# Filter the ground truth\n",
    "g1_true = aux[aux['Gender'] == 1].target\n",
    "g2_true = aux[aux['Gender'] == 0].target\n",
    "\n",
    "# Do predictions\n",
    "p1 = clf.predict(g1)\n",
    "p2 = clf.predict(g2)\n",
    "\n",
    "# Extract metrics for each group | here, taking the true positive rate\n",
    "res1 = calculate_cm(p1, g1_true)\n",
    "print(res1)\n",
    "res2 = calculate_cm(p2, g2_true)\n",
    "print(res2)\n",
    "\n",
    "res1 - res2"
   ]
  },
  {
   "cell_type": "code",
   "execution_count": null,
   "metadata": {},
   "outputs": [],
   "source": [
    "#https://www.analyticsvidhya.com/blog/2020/04/confusion-matrix-machine-learning/\n",
    "# TPR = TP / (TP + FP)\n",
    "\n",
    "print(confusion_matrix(p1, g1_true))\n",
    "tpr_1 = confusion_matrix(p1, g1_true)[0][0] / (confusion_matrix(p1, g1_true)[0][0] + confusion_matrix(p1, g1_true)[0][1])\n",
    "print(tpr_1)\n",
    "\n",
    "print(confusion_matrix(p2, g2_true))\n",
    "tpr_2 = confusion_matrix(p2, g2_true)[0][0] / (confusion_matrix(p2, g2_true)[0][0] + confusion_matrix(p2, g2_true)[0][1])\n",
    "print(tpr_2)"
   ]
  },
  {
   "cell_type": "code",
   "execution_count": null,
   "metadata": {},
   "outputs": [],
   "source": []
  },
  {
   "cell_type": "code",
   "execution_count": null,
   "metadata": {},
   "outputs": [],
   "source": [
    "def metric_calculator(model, data: pd.DataFrame, truth: pd.DataFrame, col: str, group1, group2):\n",
    "    #reference group is group2!!\n",
    "    \n",
    "    aux = data.copy()\n",
    "    aux[\"target\"] = truth\n",
    "\n",
    "    # Filter the data\n",
    "    g1 = data[data[col] == group1]\n",
    "    g2 = data[data[col] == group2]\n",
    "\n",
    "    # Filter the ground truth\n",
    "    g1_true = aux[aux[col] == group1].target\n",
    "    g2_true = aux[aux[col] == group2].target\n",
    "\n",
    "    # Do predictions\n",
    "    p1 = model.predict(g1)\n",
    "    p2 = model.predict(g2)\n",
    "\n",
    "    # Extract metrics for each group | here, taking the true positive rate\n",
    "    res1 = calculate_cm(p1, g1_true)\n",
    "    print(res1)\n",
    "    res2 = calculate_cm(p2, g2_true)\n",
    "    print(res2)\n",
    "    \n",
    "    return res1 - res2"
   ]
  },
  {
   "cell_type": "code",
   "execution_count": null,
   "metadata": {},
   "outputs": [],
   "source": [
    "metric_calculator(model=clf, data=X_te, truth=y_te, col='Gender', group1=1, group2=0)"
   ]
  },
  {
   "cell_type": "code",
   "execution_count": null,
   "metadata": {},
   "outputs": [],
   "source": [
    "metric_calculator(model=clf, data=X_tr, truth=y_tr, col='Gender', group1=1, group2=0)"
   ]
  },
  {
   "cell_type": "code",
   "execution_count": null,
   "metadata": {},
   "outputs": [],
   "source": []
  }
 ],
 "metadata": {
  "kernelspec": {
   "display_name": "fair_ml",
   "language": "python",
   "name": "fair_ml"
  },
  "language_info": {
   "codemirror_mode": {
    "name": "ipython",
    "version": 3
   },
   "file_extension": ".py",
   "mimetype": "text/x-python",
   "name": "python",
   "nbconvert_exporter": "python",
   "pygments_lexer": "ipython3",
   "version": "3.8.5"
  }
 },
 "nbformat": 4,
 "nbformat_minor": 4
}
