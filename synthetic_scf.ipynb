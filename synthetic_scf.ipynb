{
 "cells": [
  {
   "cell_type": "markdown",
   "metadata": {},
   "source": [
    "# Structural Counterfactuals (SCF)\n",
    "\n",
    "This is an example script where we try to understand Pearl's structural counterfactuals (SCF) generation process (abduction - action - prediction) in the context of situation testing (SI) under *causal sufficiency*. \n",
    "\n",
    "We want to be able to take a factual tuple {$x^F$} and return it's counterfactual {$x^{SCF}$} by changing the protected attribute $A$ from $a^F=a$ to $a^{SCF}=a'$ and letting it propagate across the system of equations.\n",
    "\n",
    "We use Figure one from [Karimi et al. (2020)](https://arxiv.org/pdf/2002.06278.pdf)."
   ]
  },
  {
   "cell_type": "code",
   "execution_count": 1,
   "metadata": {},
   "outputs": [],
   "source": [
    "import random\n",
    "import os\n",
    "import numpy as np\n",
    "import pandas as pd\n",
    "import matplotlib.pyplot as plt\n",
    "from sklearn.linear_model import LinearRegression"
   ]
  },
  {
   "cell_type": "code",
   "execution_count": 2,
   "metadata": {},
   "outputs": [],
   "source": [
    "# set working directory - note: all code runs from the src folder\n",
    "wrk_dir = os.getcwd()\n",
    "# set data path\n",
    "data_path = wrk_dir + '\\\\' + 'data' + '\\\\'"
   ]
  },
  {
   "cell_type": "markdown",
   "metadata": {},
   "source": [
    "### Version 1: Causal Sufficiency; without $A$\n",
    "With the DAG: $X_1->Y$, $X_1->X_2$, and $X_2->Y$."
   ]
  },
  {
   "cell_type": "code",
   "execution_count": 3,
   "metadata": {},
   "outputs": [],
   "source": [
    "# overall params\n",
    "np.random.seed(2022)\n",
    "n = 5000\n",
    "\n",
    "# (hyper)parameters\n",
    "# p_rate = 10\n",
    "# n_mu = 0.0\n",
    "# n_sigma = 1.0\n",
    "lambda_1 = 10000\n",
    "lambda_2 = 2500\n",
    "beta_1 = (3/10)\n",
    "beta_2 = 5\n",
    "#epsilon = 225000\n",
    "\n",
    "u1 = lambda_1*np.random.poisson(lam=10, size=n)\n",
    "u2 = lambda_2*np.random.normal(loc=0.0, scale=1.0, size=n)\n",
    "\n",
    "# annual salary\n",
    "x1 = u1\n",
    "# account balance\n",
    "x2 = beta_1*x1 + u2\n",
    "# loan approval\n",
    "y = np.sign(x1 + beta_2*x2 - 225000)"
   ]
  },
  {
   "cell_type": "code",
   "execution_count": 4,
   "metadata": {},
   "outputs": [
    {
     "data": {
      "text/html": [
       "<div>\n",
       "<style scoped>\n",
       "    .dataframe tbody tr th:only-of-type {\n",
       "        vertical-align: middle;\n",
       "    }\n",
       "\n",
       "    .dataframe tbody tr th {\n",
       "        vertical-align: top;\n",
       "    }\n",
       "\n",
       "    .dataframe thead th {\n",
       "        text-align: right;\n",
       "    }\n",
       "</style>\n",
       "<table border=\"1\" class=\"dataframe\">\n",
       "  <thead>\n",
       "    <tr style=\"text-align: right;\">\n",
       "      <th></th>\n",
       "      <th>LoanApproval</th>\n",
       "      <th>AnnualSalary</th>\n",
       "      <th>AccountBalance</th>\n",
       "      <th>u1</th>\n",
       "      <th>u2</th>\n",
       "    </tr>\n",
       "  </thead>\n",
       "  <tbody>\n",
       "    <tr>\n",
       "      <th>0</th>\n",
       "      <td>-1.0</td>\n",
       "      <td>50000</td>\n",
       "      <td>14026.847358</td>\n",
       "      <td>50000</td>\n",
       "      <td>-973.152642</td>\n",
       "    </tr>\n",
       "    <tr>\n",
       "      <th>1</th>\n",
       "      <td>1.0</td>\n",
       "      <td>120000</td>\n",
       "      <td>36940.097383</td>\n",
       "      <td>120000</td>\n",
       "      <td>940.097383</td>\n",
       "    </tr>\n",
       "    <tr>\n",
       "      <th>2</th>\n",
       "      <td>-1.0</td>\n",
       "      <td>90000</td>\n",
       "      <td>23564.129008</td>\n",
       "      <td>90000</td>\n",
       "      <td>-3435.870992</td>\n",
       "    </tr>\n",
       "    <tr>\n",
       "      <th>3</th>\n",
       "      <td>-1.0</td>\n",
       "      <td>80000</td>\n",
       "      <td>27596.570524</td>\n",
       "      <td>80000</td>\n",
       "      <td>3596.570524</td>\n",
       "    </tr>\n",
       "    <tr>\n",
       "      <th>4</th>\n",
       "      <td>1.0</td>\n",
       "      <td>210000</td>\n",
       "      <td>62294.221620</td>\n",
       "      <td>210000</td>\n",
       "      <td>-705.778380</td>\n",
       "    </tr>\n",
       "    <tr>\n",
       "      <th>5</th>\n",
       "      <td>1.0</td>\n",
       "      <td>120000</td>\n",
       "      <td>32827.008724</td>\n",
       "      <td>120000</td>\n",
       "      <td>-3172.991276</td>\n",
       "    </tr>\n",
       "    <tr>\n",
       "      <th>6</th>\n",
       "      <td>-1.0</td>\n",
       "      <td>80000</td>\n",
       "      <td>19749.048087</td>\n",
       "      <td>80000</td>\n",
       "      <td>-4250.951913</td>\n",
       "    </tr>\n",
       "    <tr>\n",
       "      <th>7</th>\n",
       "      <td>1.0</td>\n",
       "      <td>140000</td>\n",
       "      <td>45716.973279</td>\n",
       "      <td>140000</td>\n",
       "      <td>3716.973279</td>\n",
       "    </tr>\n",
       "    <tr>\n",
       "      <th>8</th>\n",
       "      <td>-1.0</td>\n",
       "      <td>70000</td>\n",
       "      <td>22540.642141</td>\n",
       "      <td>70000</td>\n",
       "      <td>1540.642141</td>\n",
       "    </tr>\n",
       "    <tr>\n",
       "      <th>9</th>\n",
       "      <td>1.0</td>\n",
       "      <td>110000</td>\n",
       "      <td>30629.344885</td>\n",
       "      <td>110000</td>\n",
       "      <td>-2370.655115</td>\n",
       "    </tr>\n",
       "  </tbody>\n",
       "</table>\n",
       "</div>"
      ],
      "text/plain": [
       "   LoanApproval  AnnualSalary  AccountBalance      u1           u2\n",
       "0          -1.0         50000    14026.847358   50000  -973.152642\n",
       "1           1.0        120000    36940.097383  120000   940.097383\n",
       "2          -1.0         90000    23564.129008   90000 -3435.870992\n",
       "3          -1.0         80000    27596.570524   80000  3596.570524\n",
       "4           1.0        210000    62294.221620  210000  -705.778380\n",
       "5           1.0        120000    32827.008724  120000 -3172.991276\n",
       "6          -1.0         80000    19749.048087   80000 -4250.951913\n",
       "7           1.0        140000    45716.973279  140000  3716.973279\n",
       "8          -1.0         70000    22540.642141   70000  1540.642141\n",
       "9           1.0        110000    30629.344885  110000 -2370.655115"
      ]
     },
     "execution_count": 4,
     "metadata": {},
     "output_type": "execute_result"
    }
   ],
   "source": [
    "# make a dataset for the observables and unobservables\n",
    "d = {'LoanApproval': y, \n",
    "     'AnnualSalary': x1, \n",
    "     'AccountBalance': x2,\n",
    "     'u1': u1,\n",
    "     'u2': u2}\n",
    "data = pd.DataFrame(d)\n",
    "data.head(10)"
   ]
  },
  {
   "cell_type": "code",
   "execution_count": 5,
   "metadata": {},
   "outputs": [
    {
     "name": "stdout",
     "output_type": "stream",
     "text": [
      "(5000, 5)\n",
      "(5000, 5)\n"
     ]
    }
   ],
   "source": [
    "# check for negative values\n",
    "print(data.shape)\n",
    "data = data[(data['AnnualSalary'] >= 0) & (data['AccountBalance'] >= 0)]\n",
    "print(data.shape)"
   ]
  },
  {
   "cell_type": "code",
   "execution_count": 6,
   "metadata": {},
   "outputs": [],
   "source": [
    "# store in data folder\n",
    "data.to_csv(data_path + '\\\\' + 'Karimi2020_v1.csv', sep='|', index=False)"
   ]
  },
  {
   "cell_type": "markdown",
   "metadata": {},
   "source": [
    "Can I say anything about the error terms' moments based on the 'observed' Us?\n",
    "\n",
    "It seems that for the white noise, yes. Realistically, however, we assume to know $F$ and its moments - too restrictive for an additve noise model used for discrimination, no?"
   ]
  },
  {
   "cell_type": "code",
   "execution_count": 7,
   "metadata": {},
   "outputs": [
    {
     "name": "stdout",
     "output_type": "stream",
     "text": [
      "100244.0\n",
      "32196.6\n"
     ]
    }
   ],
   "source": [
    "# recall u1 is a Poisson\n",
    "print(round(np.mean(data['u1']), 1))\n",
    "print(round(np.sqrt(np.var(data['u1'])), 1))"
   ]
  },
  {
   "cell_type": "code",
   "execution_count": 8,
   "metadata": {},
   "outputs": [
    {
     "name": "stdout",
     "output_type": "stream",
     "text": [
      "17.1\n",
      "2516.0\n"
     ]
    }
   ],
   "source": [
    "# recall u2 is a White Noise\n",
    "print(round(np.mean(data['u2']), 1))\n",
    "print(round(np.sqrt(np.var(data['u2'])), 1))"
   ]
  },
  {
   "cell_type": "markdown",
   "metadata": {},
   "source": [
    "### (1) Estimate $f_j$\n",
    "\n",
    "My interpretation of the paper is that, under causal sufficiency, focus is on estimating $f_j$ from the $X_j = f_j(X_{pa(j)}) + U$. If we 'assume' $f_j$ to be linar, the OLS estimator (being BLUE) is the best option, right? In other words,\n",
    "\n",
    "$ X_j = \\beta_0 + \\sum \\beta \\times X_{par(j)} + U_j$"
   ]
  },
  {
   "cell_type": "code",
   "execution_count": 9,
   "metadata": {},
   "outputs": [],
   "source": [
    "model = LinearRegression(fit_intercept=True, normalize=False)"
   ]
  },
  {
   "cell_type": "code",
   "execution_count": 10,
   "metadata": {},
   "outputs": [
    {
     "name": "stdout",
     "output_type": "stream",
     "text": [
      "(5000, 1)\n",
      "(5000,)\n"
     ]
    }
   ],
   "source": [
    "x = np.array(data['AnnualSalary'].copy()).reshape((-1, 1))\n",
    "print(x.shape)\n",
    "y = np.array(data['AccountBalance'].copy())\n",
    "print(y.shape)"
   ]
  },
  {
   "cell_type": "code",
   "execution_count": 11,
   "metadata": {},
   "outputs": [
    {
     "data": {
      "text/plain": [
       "LinearRegression()"
      ]
     },
     "execution_count": 11,
     "metadata": {},
     "output_type": "execute_result"
    }
   ],
   "source": [
    "model.fit(x, y)"
   ]
  },
  {
   "cell_type": "code",
   "execution_count": 12,
   "metadata": {},
   "outputs": [
    {
     "data": {
      "text/plain": [
       "0.2991165342281786"
      ]
     },
     "execution_count": 12,
     "metadata": {},
     "output_type": "execute_result"
    }
   ],
   "source": [
    "hat_beta1 = model.coef_[0]\n",
    "hat_beta1"
   ]
  },
  {
   "cell_type": "code",
   "execution_count": 13,
   "metadata": {},
   "outputs": [
    {
     "data": {
      "text/plain": [
       "105.62201565680152"
      ]
     },
     "execution_count": 13,
     "metadata": {},
     "output_type": "execute_result"
    }
   ],
   "source": [
    "hat_beta0 = model.intercept_\n",
    "hat_beta0"
   ]
  },
  {
   "cell_type": "code",
   "execution_count": 14,
   "metadata": {},
   "outputs": [
    {
     "data": {
      "text/html": [
       "<div>\n",
       "<style scoped>\n",
       "    .dataframe tbody tr th:only-of-type {\n",
       "        vertical-align: middle;\n",
       "    }\n",
       "\n",
       "    .dataframe tbody tr th {\n",
       "        vertical-align: top;\n",
       "    }\n",
       "\n",
       "    .dataframe thead th {\n",
       "        text-align: right;\n",
       "    }\n",
       "</style>\n",
       "<table border=\"1\" class=\"dataframe\">\n",
       "  <thead>\n",
       "    <tr style=\"text-align: right;\">\n",
       "      <th></th>\n",
       "      <th>AnnualSalary</th>\n",
       "      <th>AccountBalance</th>\n",
       "      <th>u1</th>\n",
       "      <th>u2</th>\n",
       "    </tr>\n",
       "  </thead>\n",
       "  <tbody>\n",
       "    <tr>\n",
       "      <th>0</th>\n",
       "      <td>50000</td>\n",
       "      <td>14026.847358</td>\n",
       "      <td>50000</td>\n",
       "      <td>-973.152642</td>\n",
       "    </tr>\n",
       "    <tr>\n",
       "      <th>1</th>\n",
       "      <td>120000</td>\n",
       "      <td>36940.097383</td>\n",
       "      <td>120000</td>\n",
       "      <td>940.097383</td>\n",
       "    </tr>\n",
       "    <tr>\n",
       "      <th>2</th>\n",
       "      <td>90000</td>\n",
       "      <td>23564.129008</td>\n",
       "      <td>90000</td>\n",
       "      <td>-3435.870992</td>\n",
       "    </tr>\n",
       "    <tr>\n",
       "      <th>3</th>\n",
       "      <td>80000</td>\n",
       "      <td>27596.570524</td>\n",
       "      <td>80000</td>\n",
       "      <td>3596.570524</td>\n",
       "    </tr>\n",
       "    <tr>\n",
       "      <th>4</th>\n",
       "      <td>210000</td>\n",
       "      <td>62294.221620</td>\n",
       "      <td>210000</td>\n",
       "      <td>-705.778380</td>\n",
       "    </tr>\n",
       "  </tbody>\n",
       "</table>\n",
       "</div>"
      ],
      "text/plain": [
       "   AnnualSalary  AccountBalance      u1           u2\n",
       "0         50000    14026.847358   50000  -973.152642\n",
       "1        120000    36940.097383  120000   940.097383\n",
       "2         90000    23564.129008   90000 -3435.870992\n",
       "3         80000    27596.570524   80000  3596.570524\n",
       "4        210000    62294.221620  210000  -705.778380"
      ]
     },
     "execution_count": 14,
     "metadata": {},
     "output_type": "execute_result"
    }
   ],
   "source": [
    "scf_data = data[['AnnualSalary', 'AccountBalance', 'u1', 'u2']].copy()\n",
    "scf_data.head(5)"
   ]
  },
  {
   "cell_type": "code",
   "execution_count": 15,
   "metadata": {},
   "outputs": [
    {
     "data": {
      "text/html": [
       "<div>\n",
       "<style scoped>\n",
       "    .dataframe tbody tr th:only-of-type {\n",
       "        vertical-align: middle;\n",
       "    }\n",
       "\n",
       "    .dataframe tbody tr th {\n",
       "        vertical-align: top;\n",
       "    }\n",
       "\n",
       "    .dataframe thead th {\n",
       "        text-align: right;\n",
       "    }\n",
       "</style>\n",
       "<table border=\"1\" class=\"dataframe\">\n",
       "  <thead>\n",
       "    <tr style=\"text-align: right;\">\n",
       "      <th></th>\n",
       "      <th>AnnualSalary</th>\n",
       "      <th>AccountBalance</th>\n",
       "      <th>u1</th>\n",
       "      <th>u2</th>\n",
       "      <th>hat_AccountBalance</th>\n",
       "    </tr>\n",
       "  </thead>\n",
       "  <tbody>\n",
       "    <tr>\n",
       "      <th>0</th>\n",
       "      <td>50000</td>\n",
       "      <td>14026.847358</td>\n",
       "      <td>50000</td>\n",
       "      <td>-973.152642</td>\n",
       "      <td>15061.448727</td>\n",
       "    </tr>\n",
       "    <tr>\n",
       "      <th>1</th>\n",
       "      <td>120000</td>\n",
       "      <td>36940.097383</td>\n",
       "      <td>120000</td>\n",
       "      <td>940.097383</td>\n",
       "      <td>35999.606123</td>\n",
       "    </tr>\n",
       "    <tr>\n",
       "      <th>2</th>\n",
       "      <td>90000</td>\n",
       "      <td>23564.129008</td>\n",
       "      <td>90000</td>\n",
       "      <td>-3435.870992</td>\n",
       "      <td>27026.110096</td>\n",
       "    </tr>\n",
       "    <tr>\n",
       "      <th>3</th>\n",
       "      <td>80000</td>\n",
       "      <td>27596.570524</td>\n",
       "      <td>80000</td>\n",
       "      <td>3596.570524</td>\n",
       "      <td>24034.944754</td>\n",
       "    </tr>\n",
       "    <tr>\n",
       "      <th>4</th>\n",
       "      <td>210000</td>\n",
       "      <td>62294.221620</td>\n",
       "      <td>210000</td>\n",
       "      <td>-705.778380</td>\n",
       "      <td>62920.094204</td>\n",
       "    </tr>\n",
       "  </tbody>\n",
       "</table>\n",
       "</div>"
      ],
      "text/plain": [
       "   AnnualSalary  AccountBalance      u1           u2  hat_AccountBalance\n",
       "0         50000    14026.847358   50000  -973.152642        15061.448727\n",
       "1        120000    36940.097383  120000   940.097383        35999.606123\n",
       "2         90000    23564.129008   90000 -3435.870992        27026.110096\n",
       "3         80000    27596.570524   80000  3596.570524        24034.944754\n",
       "4        210000    62294.221620  210000  -705.778380        62920.094204"
      ]
     },
     "execution_count": 15,
     "metadata": {},
     "output_type": "execute_result"
    }
   ],
   "source": [
    "scf_data['hat_AccountBalance'] = model.predict(x)\n",
    "scf_data.head(5)"
   ]
  },
  {
   "cell_type": "code",
   "execution_count": 16,
   "metadata": {},
   "outputs": [
    {
     "data": {
      "text/html": [
       "<div>\n",
       "<style scoped>\n",
       "    .dataframe tbody tr th:only-of-type {\n",
       "        vertical-align: middle;\n",
       "    }\n",
       "\n",
       "    .dataframe tbody tr th {\n",
       "        vertical-align: top;\n",
       "    }\n",
       "\n",
       "    .dataframe thead th {\n",
       "        text-align: right;\n",
       "    }\n",
       "</style>\n",
       "<table border=\"1\" class=\"dataframe\">\n",
       "  <thead>\n",
       "    <tr style=\"text-align: right;\">\n",
       "      <th></th>\n",
       "      <th>AnnualSalary</th>\n",
       "      <th>AccountBalance</th>\n",
       "      <th>u1</th>\n",
       "      <th>u2</th>\n",
       "      <th>hat_AccountBalance</th>\n",
       "      <th>diff_AccountBalance</th>\n",
       "    </tr>\n",
       "  </thead>\n",
       "  <tbody>\n",
       "    <tr>\n",
       "      <th>0</th>\n",
       "      <td>50000</td>\n",
       "      <td>14026.847358</td>\n",
       "      <td>50000</td>\n",
       "      <td>-973.152642</td>\n",
       "      <td>15061.448727</td>\n",
       "      <td>-1034.60</td>\n",
       "    </tr>\n",
       "    <tr>\n",
       "      <th>1</th>\n",
       "      <td>120000</td>\n",
       "      <td>36940.097383</td>\n",
       "      <td>120000</td>\n",
       "      <td>940.097383</td>\n",
       "      <td>35999.606123</td>\n",
       "      <td>940.49</td>\n",
       "    </tr>\n",
       "    <tr>\n",
       "      <th>2</th>\n",
       "      <td>90000</td>\n",
       "      <td>23564.129008</td>\n",
       "      <td>90000</td>\n",
       "      <td>-3435.870992</td>\n",
       "      <td>27026.110096</td>\n",
       "      <td>-3461.98</td>\n",
       "    </tr>\n",
       "    <tr>\n",
       "      <th>3</th>\n",
       "      <td>80000</td>\n",
       "      <td>27596.570524</td>\n",
       "      <td>80000</td>\n",
       "      <td>3596.570524</td>\n",
       "      <td>24034.944754</td>\n",
       "      <td>3561.63</td>\n",
       "    </tr>\n",
       "    <tr>\n",
       "      <th>4</th>\n",
       "      <td>210000</td>\n",
       "      <td>62294.221620</td>\n",
       "      <td>210000</td>\n",
       "      <td>-705.778380</td>\n",
       "      <td>62920.094204</td>\n",
       "      <td>-625.87</td>\n",
       "    </tr>\n",
       "  </tbody>\n",
       "</table>\n",
       "</div>"
      ],
      "text/plain": [
       "   AnnualSalary  AccountBalance      u1           u2  hat_AccountBalance  \\\n",
       "0         50000    14026.847358   50000  -973.152642        15061.448727   \n",
       "1        120000    36940.097383  120000   940.097383        35999.606123   \n",
       "2         90000    23564.129008   90000 -3435.870992        27026.110096   \n",
       "3         80000    27596.570524   80000  3596.570524        24034.944754   \n",
       "4        210000    62294.221620  210000  -705.778380        62920.094204   \n",
       "\n",
       "   diff_AccountBalance  \n",
       "0             -1034.60  \n",
       "1               940.49  \n",
       "2             -3461.98  \n",
       "3              3561.63  \n",
       "4              -625.87  "
      ]
     },
     "execution_count": 16,
     "metadata": {},
     "output_type": "execute_result"
    }
   ],
   "source": [
    "scf_data['diff_AccountBalance'] = round(scf_data['AccountBalance'] - scf_data['hat_AccountBalance'], 2)\n",
    "scf_data.head(5)"
   ]
  },
  {
   "cell_type": "code",
   "execution_count": 17,
   "metadata": {},
   "outputs": [
    {
     "data": {
      "text/plain": [
       "(array([  11.,   76.,  261.,  617., 1048., 1266.,  978.,  503.,  189.,\n",
       "          51.]),\n",
       " array([-8613.13 , -7009.916, -5406.702, -3803.488, -2200.274,  -597.06 ,\n",
       "         1006.154,  2609.368,  4212.582,  5815.796,  7419.01 ]),\n",
       " <BarContainer object of 10 artists>)"
      ]
     },
     "execution_count": 17,
     "metadata": {},
     "output_type": "execute_result"
    },
    {
     "data": {
      "image/png": "[encoded data removed]",
      "text/plain": [
       "<Figure size 432x288 with 1 Axes>"
      ]
     },
     "metadata": {
      "needs_background": "light"
     },
     "output_type": "display_data"
    }
   ],
   "source": [
    "plt.hist(scf_data['diff_AccountBalance'])"
   ]
  },
  {
   "cell_type": "code",
   "execution_count": 18,
   "metadata": {},
   "outputs": [
    {
     "data": {
      "text/html": [
       "<div>\n",
       "<style scoped>\n",
       "    .dataframe tbody tr th:only-of-type {\n",
       "        vertical-align: middle;\n",
       "    }\n",
       "\n",
       "    .dataframe tbody tr th {\n",
       "        vertical-align: top;\n",
       "    }\n",
       "\n",
       "    .dataframe thead th {\n",
       "        text-align: right;\n",
       "    }\n",
       "</style>\n",
       "<table border=\"1\" class=\"dataframe\">\n",
       "  <thead>\n",
       "    <tr style=\"text-align: right;\">\n",
       "      <th></th>\n",
       "      <th>AnnualSalary</th>\n",
       "      <th>AccountBalance</th>\n",
       "      <th>u1</th>\n",
       "      <th>u2</th>\n",
       "      <th>hat_AccountBalance</th>\n",
       "      <th>diff_AccountBalance</th>\n",
       "      <th>perc_diff_AccountBalance</th>\n",
       "    </tr>\n",
       "  </thead>\n",
       "  <tbody>\n",
       "    <tr>\n",
       "      <th>0</th>\n",
       "      <td>50000</td>\n",
       "      <td>14026.847358</td>\n",
       "      <td>50000</td>\n",
       "      <td>-973.152642</td>\n",
       "      <td>15061.448727</td>\n",
       "      <td>-1034.60</td>\n",
       "      <td>7.38</td>\n",
       "    </tr>\n",
       "    <tr>\n",
       "      <th>1</th>\n",
       "      <td>120000</td>\n",
       "      <td>36940.097383</td>\n",
       "      <td>120000</td>\n",
       "      <td>940.097383</td>\n",
       "      <td>35999.606123</td>\n",
       "      <td>940.49</td>\n",
       "      <td>2.55</td>\n",
       "    </tr>\n",
       "    <tr>\n",
       "      <th>2</th>\n",
       "      <td>90000</td>\n",
       "      <td>23564.129008</td>\n",
       "      <td>90000</td>\n",
       "      <td>-3435.870992</td>\n",
       "      <td>27026.110096</td>\n",
       "      <td>-3461.98</td>\n",
       "      <td>14.69</td>\n",
       "    </tr>\n",
       "    <tr>\n",
       "      <th>3</th>\n",
       "      <td>80000</td>\n",
       "      <td>27596.570524</td>\n",
       "      <td>80000</td>\n",
       "      <td>3596.570524</td>\n",
       "      <td>24034.944754</td>\n",
       "      <td>3561.63</td>\n",
       "      <td>12.91</td>\n",
       "    </tr>\n",
       "    <tr>\n",
       "      <th>4</th>\n",
       "      <td>210000</td>\n",
       "      <td>62294.221620</td>\n",
       "      <td>210000</td>\n",
       "      <td>-705.778380</td>\n",
       "      <td>62920.094204</td>\n",
       "      <td>-625.87</td>\n",
       "      <td>1.00</td>\n",
       "    </tr>\n",
       "    <tr>\n",
       "      <th>5</th>\n",
       "      <td>120000</td>\n",
       "      <td>32827.008724</td>\n",
       "      <td>120000</td>\n",
       "      <td>-3172.991276</td>\n",
       "      <td>35999.606123</td>\n",
       "      <td>-3172.60</td>\n",
       "      <td>9.66</td>\n",
       "    </tr>\n",
       "    <tr>\n",
       "      <th>6</th>\n",
       "      <td>80000</td>\n",
       "      <td>19749.048087</td>\n",
       "      <td>80000</td>\n",
       "      <td>-4250.951913</td>\n",
       "      <td>24034.944754</td>\n",
       "      <td>-4285.90</td>\n",
       "      <td>21.70</td>\n",
       "    </tr>\n",
       "    <tr>\n",
       "      <th>7</th>\n",
       "      <td>140000</td>\n",
       "      <td>45716.973279</td>\n",
       "      <td>140000</td>\n",
       "      <td>3716.973279</td>\n",
       "      <td>41981.936808</td>\n",
       "      <td>3735.04</td>\n",
       "      <td>8.17</td>\n",
       "    </tr>\n",
       "    <tr>\n",
       "      <th>8</th>\n",
       "      <td>70000</td>\n",
       "      <td>22540.642141</td>\n",
       "      <td>70000</td>\n",
       "      <td>1540.642141</td>\n",
       "      <td>21043.779412</td>\n",
       "      <td>1496.86</td>\n",
       "      <td>6.64</td>\n",
       "    </tr>\n",
       "    <tr>\n",
       "      <th>9</th>\n",
       "      <td>110000</td>\n",
       "      <td>30629.344885</td>\n",
       "      <td>110000</td>\n",
       "      <td>-2370.655115</td>\n",
       "      <td>33008.440781</td>\n",
       "      <td>-2379.10</td>\n",
       "      <td>7.77</td>\n",
       "    </tr>\n",
       "  </tbody>\n",
       "</table>\n",
       "</div>"
      ],
      "text/plain": [
       "   AnnualSalary  AccountBalance      u1           u2  hat_AccountBalance  \\\n",
       "0         50000    14026.847358   50000  -973.152642        15061.448727   \n",
       "1        120000    36940.097383  120000   940.097383        35999.606123   \n",
       "2         90000    23564.129008   90000 -3435.870992        27026.110096   \n",
       "3         80000    27596.570524   80000  3596.570524        24034.944754   \n",
       "4        210000    62294.221620  210000  -705.778380        62920.094204   \n",
       "5        120000    32827.008724  120000 -3172.991276        35999.606123   \n",
       "6         80000    19749.048087   80000 -4250.951913        24034.944754   \n",
       "7        140000    45716.973279  140000  3716.973279        41981.936808   \n",
       "8         70000    22540.642141   70000  1540.642141        21043.779412   \n",
       "9        110000    30629.344885  110000 -2370.655115        33008.440781   \n",
       "\n",
       "   diff_AccountBalance  perc_diff_AccountBalance  \n",
       "0             -1034.60                      7.38  \n",
       "1               940.49                      2.55  \n",
       "2             -3461.98                     14.69  \n",
       "3              3561.63                     12.91  \n",
       "4              -625.87                      1.00  \n",
       "5             -3172.60                      9.66  \n",
       "6             -4285.90                     21.70  \n",
       "7              3735.04                      8.17  \n",
       "8              1496.86                      6.64  \n",
       "9             -2379.10                      7.77  "
      ]
     },
     "execution_count": 18,
     "metadata": {},
     "output_type": "execute_result"
    }
   ],
   "source": [
    "scf_data['perc_diff_AccountBalance'] = round( np.sqrt( (scf_data['AccountBalance'] - scf_data['hat_AccountBalance'])**2 ) * 100 / scf_data['AccountBalance'], 2)\n",
    "scf_data.head(10)"
   ]
  },
  {
   "cell_type": "code",
   "execution_count": 19,
   "metadata": {},
   "outputs": [
    {
     "data": {
      "text/plain": [
       "(2247, 7)"
      ]
     },
     "execution_count": 19,
     "metadata": {},
     "output_type": "execute_result"
    }
   ],
   "source": [
    "# can we start talking about a threshold here?\n",
    "error_threshold = 5.0\n",
    "\n",
    "scf_data[scf_data['perc_diff_AccountBalance'] <= error_threshold].shape"
   ]
  },
  {
   "cell_type": "code",
   "execution_count": 20,
   "metadata": {},
   "outputs": [
    {
     "data": {
      "text/plain": [
       "(array([  11.,   76.,  261.,  617., 1048., 1266.,  978.,  503.,  189.,\n",
       "          51.]),\n",
       " array([-8613.13 , -7009.916, -5406.702, -3803.488, -2200.274,  -597.06 ,\n",
       "         1006.154,  2609.368,  4212.582,  5815.796,  7419.01 ]),\n",
       " <BarContainer object of 10 artists>)"
      ]
     },
     "execution_count": 20,
     "metadata": {},
     "output_type": "execute_result"
    },
    {
     "data": {
      "image/png": "[encoded data removed]",
      "text/plain": [
       "<Figure size 432x288 with 1 Axes>"
      ]
     },
     "metadata": {
      "needs_background": "light"
     },
     "output_type": "display_data"
    }
   ],
   "source": [
    "plt.hist(scf_data['u2'])\n",
    "plt.hist(scf_data['diff_AccountBalance'])"
   ]
  },
  {
   "cell_type": "markdown",
   "metadata": {},
   "source": [
    "From the histograms of above, it seems that under cuasal sufficiency the abduction step essentially represents the individual error terms!"
   ]
  },
  {
   "cell_type": "markdown",
   "metadata": {},
   "source": [
    "### (2) Abduction"
   ]
  },
  {
   "cell_type": "code",
   "execution_count": 21,
   "metadata": {},
   "outputs": [
    {
     "data": {
      "text/html": [
       "<div>\n",
       "<style scoped>\n",
       "    .dataframe tbody tr th:only-of-type {\n",
       "        vertical-align: middle;\n",
       "    }\n",
       "\n",
       "    .dataframe tbody tr th {\n",
       "        vertical-align: top;\n",
       "    }\n",
       "\n",
       "    .dataframe thead th {\n",
       "        text-align: right;\n",
       "    }\n",
       "</style>\n",
       "<table border=\"1\" class=\"dataframe\">\n",
       "  <thead>\n",
       "    <tr style=\"text-align: right;\">\n",
       "      <th></th>\n",
       "      <th>AnnualSalary</th>\n",
       "      <th>AccountBalance</th>\n",
       "      <th>u1</th>\n",
       "      <th>u2</th>\n",
       "      <th>hat_AccountBalance</th>\n",
       "      <th>diff_AccountBalance</th>\n",
       "      <th>perc_diff_AccountBalance</th>\n",
       "      <th>hat_u1</th>\n",
       "      <th>hat_u2</th>\n",
       "    </tr>\n",
       "  </thead>\n",
       "  <tbody>\n",
       "    <tr>\n",
       "      <th>0</th>\n",
       "      <td>50000</td>\n",
       "      <td>14026.847358</td>\n",
       "      <td>50000</td>\n",
       "      <td>-973.152642</td>\n",
       "      <td>15061.448727</td>\n",
       "      <td>-1034.60</td>\n",
       "      <td>7.38</td>\n",
       "      <td>50000</td>\n",
       "      <td>-1034.60</td>\n",
       "    </tr>\n",
       "    <tr>\n",
       "      <th>1</th>\n",
       "      <td>120000</td>\n",
       "      <td>36940.097383</td>\n",
       "      <td>120000</td>\n",
       "      <td>940.097383</td>\n",
       "      <td>35999.606123</td>\n",
       "      <td>940.49</td>\n",
       "      <td>2.55</td>\n",
       "      <td>120000</td>\n",
       "      <td>940.49</td>\n",
       "    </tr>\n",
       "    <tr>\n",
       "      <th>2</th>\n",
       "      <td>90000</td>\n",
       "      <td>23564.129008</td>\n",
       "      <td>90000</td>\n",
       "      <td>-3435.870992</td>\n",
       "      <td>27026.110096</td>\n",
       "      <td>-3461.98</td>\n",
       "      <td>14.69</td>\n",
       "      <td>90000</td>\n",
       "      <td>-3461.98</td>\n",
       "    </tr>\n",
       "    <tr>\n",
       "      <th>3</th>\n",
       "      <td>80000</td>\n",
       "      <td>27596.570524</td>\n",
       "      <td>80000</td>\n",
       "      <td>3596.570524</td>\n",
       "      <td>24034.944754</td>\n",
       "      <td>3561.63</td>\n",
       "      <td>12.91</td>\n",
       "      <td>80000</td>\n",
       "      <td>3561.63</td>\n",
       "    </tr>\n",
       "    <tr>\n",
       "      <th>4</th>\n",
       "      <td>210000</td>\n",
       "      <td>62294.221620</td>\n",
       "      <td>210000</td>\n",
       "      <td>-705.778380</td>\n",
       "      <td>62920.094204</td>\n",
       "      <td>-625.87</td>\n",
       "      <td>1.00</td>\n",
       "      <td>210000</td>\n",
       "      <td>-625.87</td>\n",
       "    </tr>\n",
       "  </tbody>\n",
       "</table>\n",
       "</div>"
      ],
      "text/plain": [
       "   AnnualSalary  AccountBalance      u1           u2  hat_AccountBalance  \\\n",
       "0         50000    14026.847358   50000  -973.152642        15061.448727   \n",
       "1        120000    36940.097383  120000   940.097383        35999.606123   \n",
       "2         90000    23564.129008   90000 -3435.870992        27026.110096   \n",
       "3         80000    27596.570524   80000  3596.570524        24034.944754   \n",
       "4        210000    62294.221620  210000  -705.778380        62920.094204   \n",
       "\n",
       "   diff_AccountBalance  perc_diff_AccountBalance  hat_u1   hat_u2  \n",
       "0             -1034.60                      7.38   50000 -1034.60  \n",
       "1               940.49                      2.55  120000   940.49  \n",
       "2             -3461.98                     14.69   90000 -3461.98  \n",
       "3              3561.63                     12.91   80000  3561.63  \n",
       "4              -625.87                      1.00  210000  -625.87  "
      ]
     },
     "execution_count": 21,
     "metadata": {},
     "output_type": "execute_result"
    }
   ],
   "source": [
    "scf_data['hat_u1'] = scf_data['AnnualSalary']\n",
    "scf_data['hat_u2'] = round(scf_data['AccountBalance'] - model.predict(x), 2)\n",
    "scf_data.head(5)"
   ]
  },
  {
   "cell_type": "code",
   "execution_count": 22,
   "metadata": {},
   "outputs": [
    {
     "data": {
      "text/html": [
       "<div>\n",
       "<style scoped>\n",
       "    .dataframe tbody tr th:only-of-type {\n",
       "        vertical-align: middle;\n",
       "    }\n",
       "\n",
       "    .dataframe tbody tr th {\n",
       "        vertical-align: top;\n",
       "    }\n",
       "\n",
       "    .dataframe thead th {\n",
       "        text-align: right;\n",
       "    }\n",
       "</style>\n",
       "<table border=\"1\" class=\"dataframe\">\n",
       "  <thead>\n",
       "    <tr style=\"text-align: right;\">\n",
       "      <th></th>\n",
       "      <th>AnnualSalary</th>\n",
       "      <th>AccountBalance</th>\n",
       "      <th>hat_u1</th>\n",
       "      <th>hat_u2</th>\n",
       "    </tr>\n",
       "  </thead>\n",
       "  <tbody>\n",
       "    <tr>\n",
       "      <th>0</th>\n",
       "      <td>50000</td>\n",
       "      <td>14026.847358</td>\n",
       "      <td>50000</td>\n",
       "      <td>-1034.60</td>\n",
       "    </tr>\n",
       "    <tr>\n",
       "      <th>1</th>\n",
       "      <td>120000</td>\n",
       "      <td>36940.097383</td>\n",
       "      <td>120000</td>\n",
       "      <td>940.49</td>\n",
       "    </tr>\n",
       "    <tr>\n",
       "      <th>2</th>\n",
       "      <td>90000</td>\n",
       "      <td>23564.129008</td>\n",
       "      <td>90000</td>\n",
       "      <td>-3461.98</td>\n",
       "    </tr>\n",
       "    <tr>\n",
       "      <th>3</th>\n",
       "      <td>80000</td>\n",
       "      <td>27596.570524</td>\n",
       "      <td>80000</td>\n",
       "      <td>3561.63</td>\n",
       "    </tr>\n",
       "    <tr>\n",
       "      <th>4</th>\n",
       "      <td>210000</td>\n",
       "      <td>62294.221620</td>\n",
       "      <td>210000</td>\n",
       "      <td>-625.87</td>\n",
       "    </tr>\n",
       "  </tbody>\n",
       "</table>\n",
       "</div>"
      ],
      "text/plain": [
       "   AnnualSalary  AccountBalance  hat_u1   hat_u2\n",
       "0         50000    14026.847358   50000 -1034.60\n",
       "1        120000    36940.097383  120000   940.49\n",
       "2         90000    23564.129008   90000 -3461.98\n",
       "3         80000    27596.570524   80000  3561.63\n",
       "4        210000    62294.221620  210000  -625.87"
      ]
     },
     "execution_count": 22,
     "metadata": {},
     "output_type": "execute_result"
    }
   ],
   "source": [
    "scf_data = scf_data[['AnnualSalary', 'AccountBalance', 'hat_u1', 'hat_u2']]\n",
    "scf_data.head(5)"
   ]
  },
  {
   "cell_type": "markdown",
   "metadata": {},
   "source": [
    "### (3) ... and Intervention and Prediction"
   ]
  },
  {
   "cell_type": "code",
   "execution_count": 23,
   "metadata": {},
   "outputs": [
    {
     "data": {
      "text/plain": [
       "30090"
      ]
     },
     "execution_count": 23,
     "metadata": {},
     "output_type": "execute_result"
    }
   ],
   "source": [
    "round(np.mean(scf_data['AccountBalance']))"
   ]
  },
  {
   "cell_type": "code",
   "execution_count": 24,
   "metadata": {},
   "outputs": [],
   "source": [
    "do = 30000\n",
    "do_30000 = np.repeat(do, repeats=scf_data.shape[0]).reshape((-1, 1))\n",
    "#do_30000"
   ]
  },
  {
   "cell_type": "code",
   "execution_count": 25,
   "metadata": {},
   "outputs": [
    {
     "data": {
      "text/html": [
       "<div>\n",
       "<style scoped>\n",
       "    .dataframe tbody tr th:only-of-type {\n",
       "        vertical-align: middle;\n",
       "    }\n",
       "\n",
       "    .dataframe tbody tr th {\n",
       "        vertical-align: top;\n",
       "    }\n",
       "\n",
       "    .dataframe thead th {\n",
       "        text-align: right;\n",
       "    }\n",
       "</style>\n",
       "<table border=\"1\" class=\"dataframe\">\n",
       "  <thead>\n",
       "    <tr style=\"text-align: right;\">\n",
       "      <th></th>\n",
       "      <th>AnnualSalary</th>\n",
       "      <th>AccountBalance</th>\n",
       "      <th>hat_u1</th>\n",
       "      <th>hat_u2</th>\n",
       "      <th>scf_AccountBalance</th>\n",
       "    </tr>\n",
       "  </thead>\n",
       "  <tbody>\n",
       "    <tr>\n",
       "      <th>0</th>\n",
       "      <td>50000</td>\n",
       "      <td>14026.847358</td>\n",
       "      <td>50000</td>\n",
       "      <td>-1034.60</td>\n",
       "      <td>8044.52</td>\n",
       "    </tr>\n",
       "    <tr>\n",
       "      <th>1</th>\n",
       "      <td>120000</td>\n",
       "      <td>36940.097383</td>\n",
       "      <td>120000</td>\n",
       "      <td>940.49</td>\n",
       "      <td>10019.61</td>\n",
       "    </tr>\n",
       "    <tr>\n",
       "      <th>2</th>\n",
       "      <td>90000</td>\n",
       "      <td>23564.129008</td>\n",
       "      <td>90000</td>\n",
       "      <td>-3461.98</td>\n",
       "      <td>5617.14</td>\n",
       "    </tr>\n",
       "    <tr>\n",
       "      <th>3</th>\n",
       "      <td>80000</td>\n",
       "      <td>27596.570524</td>\n",
       "      <td>80000</td>\n",
       "      <td>3561.63</td>\n",
       "      <td>12640.75</td>\n",
       "    </tr>\n",
       "    <tr>\n",
       "      <th>4</th>\n",
       "      <td>210000</td>\n",
       "      <td>62294.221620</td>\n",
       "      <td>210000</td>\n",
       "      <td>-625.87</td>\n",
       "      <td>8453.25</td>\n",
       "    </tr>\n",
       "  </tbody>\n",
       "</table>\n",
       "</div>"
      ],
      "text/plain": [
       "   AnnualSalary  AccountBalance  hat_u1   hat_u2  scf_AccountBalance\n",
       "0         50000    14026.847358   50000 -1034.60             8044.52\n",
       "1        120000    36940.097383  120000   940.49            10019.61\n",
       "2         90000    23564.129008   90000 -3461.98             5617.14\n",
       "3         80000    27596.570524   80000  3561.63            12640.75\n",
       "4        210000    62294.221620  210000  -625.87             8453.25"
      ]
     },
     "execution_count": 25,
     "metadata": {},
     "output_type": "execute_result"
    }
   ],
   "source": [
    "scf_data['scf_AccountBalance'] = round(model.predict(do_30000) + scf_data['hat_u2'], 2)\n",
    "scf_data.head(5)"
   ]
  },
  {
   "cell_type": "code",
   "execution_count": 26,
   "metadata": {},
   "outputs": [
    {
     "data": {
      "text/plain": [
       "(array([  11.,   76.,  261.,  617., 1048., 1266.,  978.,  503.,  189.,\n",
       "          51.]),\n",
       " array([  465.99 ,  2069.204,  3672.418,  5275.632,  6878.846,  8482.06 ,\n",
       "        10085.274, 11688.488, 13291.702, 14894.916, 16498.13 ]),\n",
       " <BarContainer object of 10 artists>)"
      ]
     },
     "execution_count": 26,
     "metadata": {},
     "output_type": "execute_result"
    },
    {
     "data": {
      "image/png": "[encoded data removed]",
      "text/plain": [
       "<Figure size 432x288 with 1 Axes>"
      ]
     },
     "metadata": {
      "needs_background": "light"
     },
     "output_type": "display_data"
    }
   ],
   "source": [
    "plt.hist(scf_data['AccountBalance'])\n",
    "plt.hist(scf_data['scf_AccountBalance'])"
   ]
  },
  {
   "cell_type": "code",
   "execution_count": 27,
   "metadata": {},
   "outputs": [
    {
     "data": {
      "text/plain": [
       "(array([4934.,    0.,    0.,    0.,    0.,    0.,    0.,    0.,    0.,\n",
       "          66.]),\n",
       " array([-1. , -0.8, -0.6, -0.4, -0.2,  0. ,  0.2,  0.4,  0.6,  0.8,  1. ]),\n",
       " <BarContainer object of 10 artists>)"
      ]
     },
     "execution_count": 27,
     "metadata": {},
     "output_type": "execute_result"
    },
    {
     "data": {
      "image/png": "[encoded data removed]",
      "text/plain": [
       "<Figure size 432x288 with 1 Axes>"
      ]
     },
     "metadata": {
      "needs_background": "light"
     },
     "output_type": "display_data"
    }
   ],
   "source": [
    "plt.hist(data['LoanApproval'])\n",
    "plt.hist(np.sign(scf_data['AnnualSalary'] + beta_2*scf_data['scf_AccountBalance'] - 225000))"
   ]
  },
  {
   "cell_type": "markdown",
   "metadata": {},
   "source": [
    "*Remarks:*\n",
    "\n",
    "Above all, it seems that under causal sufficiency and under structural equations with linear functional form and an additive noise (ideally, Gaussian), we can perform Pearl's structural counterfactuals wihtout having to go crazy on the latent space... of course, here some very stringent assumptions take place: we assume a noise additve model, we assume a linear form, and we assume $X_2$ to have Gaussian errors. This is possible because we know the data generating process. We would then need to wonder what does this imply when some of these assumptions don't hold?\n",
    "\n",
    "On $\\alpha$, it roughly represents the level of variation of the noise. This is clearer under *white noise*. Similarly, now it is more clear to me what $U$ represents: the (most likely) individual error or unit characterization given the evidence for for each individual.\n",
    "\n",
    "Here, we don't need a latent space nor anything fancy for generating the counterfactuals. This indeed is a simple model but it illustrates a new approach for discrimination discovery: fairness given the difference. I think we should focus on finishing this for situation testing under a simple approach and then push this further by exploring the consequences of non-normal noise or even non-linear forms."
   ]
  },
  {
   "cell_type": "markdown",
   "metadata": {},
   "source": [
    "*Remarks on Kusner (2017)*\n",
    "\n",
    "I'd argue further that counterfactual fairness as a definition is not that useful, and, furthermore, the FairLearner they defined as nothing more than a 2-stage regression to construct a latent space that is perpendicular to the protected attributes. This is not useful nor for prediction nor for auditing. \n",
    "\n",
    "How they cobstruct $U$ is nothing more than to find the missing confounder. That's not really an abduction step! Because you still have individual variability for each variable... you just want to be able to split the residual variance into what is known and what is not!!!\n",
    "\n",
    "In fact, my hunch is that the law school data has a low risk of confounding! That's why performance doesn't drop!"
   ]
  },
  {
   "cell_type": "markdown",
   "metadata": {},
   "source": [
    "### Version 2: Causal Sufficiency; with $A$\n",
    "With the DAG: $X_1->Y$, $X_1->X_2$, $X_2->Y$, $A -> X_1$, and $A -> X_2$."
   ]
  },
  {
   "cell_type": "code",
   "execution_count": 87,
   "metadata": {},
   "outputs": [],
   "source": [
    "# create systematic penalties around A\n",
    "np.random.seed(2020) # to avoid identical draws as the Us\n",
    "n = 5000\n",
    "\n",
    "# Let A be Gender\n",
    "p_men = 0.65\n",
    "uA = random.choices(population=[0, 1], weights=[p_men, (1 - p_men)], k=n)\n",
    "A = np.asanyarray(uA) # where A=1 represents female\n",
    "\n",
    "bias_a1 = (-6500)*np.random.poisson(lam=10, size=n)\n",
    "bias_a2 = (-500)*np.random.chisquare(df=4, size=n)"
   ]
  },
  {
   "cell_type": "code",
   "execution_count": 93,
   "metadata": {},
   "outputs": [],
   "source": [
    "#plt.hist(A)\n",
    "#plt.hist(bias_a1)\n",
    "#plt.hist(bias_a2)"
   ]
  },
  {
   "cell_type": "code",
   "execution_count": 89,
   "metadata": {},
   "outputs": [],
   "source": [
    "# overall params\n",
    "np.random.seed(2022)\n",
    "n = 5000\n",
    "\n",
    "# previous hyperparams\n",
    "lambda_1 = 10000\n",
    "lambda_2 = 2500\n",
    "beta_1 = (3/10)\n",
    "beta_2 = 5\n",
    "#epsilon = 225000\n",
    "\n",
    "u1 = lambda_1*np.random.poisson(lam=10, size=n)\n",
    "u2 = lambda_2*np.random.normal(loc=0.0, scale=1.0, size=n)\n",
    "\n",
    "# annual salary\n",
    "n_x1 = u1 + A*bias_a1\n",
    "# account balance\n",
    "n_x2 = beta_1*n_x1 + u2 + A*bias_a2\n",
    "# loan approval\n",
    "n_y = np.sign(n_x1 + beta_2*n_x2 - 225000)"
   ]
  },
  {
   "cell_type": "code",
   "execution_count": 90,
   "metadata": {},
   "outputs": [
    {
     "data": {
      "text/html": [
       "<div>\n",
       "<style scoped>\n",
       "    .dataframe tbody tr th:only-of-type {\n",
       "        vertical-align: middle;\n",
       "    }\n",
       "\n",
       "    .dataframe tbody tr th {\n",
       "        vertical-align: top;\n",
       "    }\n",
       "\n",
       "    .dataframe thead th {\n",
       "        text-align: right;\n",
       "    }\n",
       "</style>\n",
       "<table border=\"1\" class=\"dataframe\">\n",
       "  <thead>\n",
       "    <tr style=\"text-align: right;\">\n",
       "      <th></th>\n",
       "      <th>LoanApproval</th>\n",
       "      <th>AnnualSalary</th>\n",
       "      <th>AccountBalance</th>\n",
       "      <th>u1</th>\n",
       "      <th>u2</th>\n",
       "      <th>Gender</th>\n",
       "    </tr>\n",
       "  </thead>\n",
       "  <tbody>\n",
       "    <tr>\n",
       "      <th>0</th>\n",
       "      <td>-1.0</td>\n",
       "      <td>-15000</td>\n",
       "      <td>-8105.101422</td>\n",
       "      <td>50000</td>\n",
       "      <td>-973.152642</td>\n",
       "      <td>1</td>\n",
       "    </tr>\n",
       "    <tr>\n",
       "      <th>1</th>\n",
       "      <td>1.0</td>\n",
       "      <td>120000</td>\n",
       "      <td>36940.097383</td>\n",
       "      <td>120000</td>\n",
       "      <td>940.097383</td>\n",
       "      <td>0</td>\n",
       "    </tr>\n",
       "    <tr>\n",
       "      <th>2</th>\n",
       "      <td>-1.0</td>\n",
       "      <td>90000</td>\n",
       "      <td>23564.129008</td>\n",
       "      <td>90000</td>\n",
       "      <td>-3435.870992</td>\n",
       "      <td>0</td>\n",
       "    </tr>\n",
       "    <tr>\n",
       "      <th>3</th>\n",
       "      <td>-1.0</td>\n",
       "      <td>80000</td>\n",
       "      <td>27596.570524</td>\n",
       "      <td>80000</td>\n",
       "      <td>3596.570524</td>\n",
       "      <td>0</td>\n",
       "    </tr>\n",
       "    <tr>\n",
       "      <th>4</th>\n",
       "      <td>1.0</td>\n",
       "      <td>210000</td>\n",
       "      <td>62294.221620</td>\n",
       "      <td>210000</td>\n",
       "      <td>-705.778380</td>\n",
       "      <td>0</td>\n",
       "    </tr>\n",
       "    <tr>\n",
       "      <th>5</th>\n",
       "      <td>1.0</td>\n",
       "      <td>120000</td>\n",
       "      <td>32827.008724</td>\n",
       "      <td>120000</td>\n",
       "      <td>-3172.991276</td>\n",
       "      <td>0</td>\n",
       "    </tr>\n",
       "    <tr>\n",
       "      <th>6</th>\n",
       "      <td>-1.0</td>\n",
       "      <td>80000</td>\n",
       "      <td>19749.048087</td>\n",
       "      <td>80000</td>\n",
       "      <td>-4250.951913</td>\n",
       "      <td>0</td>\n",
       "    </tr>\n",
       "    <tr>\n",
       "      <th>7</th>\n",
       "      <td>1.0</td>\n",
       "      <td>94500</td>\n",
       "      <td>29760.091484</td>\n",
       "      <td>140000</td>\n",
       "      <td>3716.973279</td>\n",
       "      <td>1</td>\n",
       "    </tr>\n",
       "    <tr>\n",
       "      <th>8</th>\n",
       "      <td>-1.0</td>\n",
       "      <td>70000</td>\n",
       "      <td>22540.642141</td>\n",
       "      <td>70000</td>\n",
       "      <td>1540.642141</td>\n",
       "      <td>0</td>\n",
       "    </tr>\n",
       "    <tr>\n",
       "      <th>9</th>\n",
       "      <td>1.0</td>\n",
       "      <td>110000</td>\n",
       "      <td>30629.344885</td>\n",
       "      <td>110000</td>\n",
       "      <td>-2370.655115</td>\n",
       "      <td>0</td>\n",
       "    </tr>\n",
       "  </tbody>\n",
       "</table>\n",
       "</div>"
      ],
      "text/plain": [
       "   LoanApproval  AnnualSalary  AccountBalance      u1           u2  Gender\n",
       "0          -1.0        -15000    -8105.101422   50000  -973.152642       1\n",
       "1           1.0        120000    36940.097383  120000   940.097383       0\n",
       "2          -1.0         90000    23564.129008   90000 -3435.870992       0\n",
       "3          -1.0         80000    27596.570524   80000  3596.570524       0\n",
       "4           1.0        210000    62294.221620  210000  -705.778380       0\n",
       "5           1.0        120000    32827.008724  120000 -3172.991276       0\n",
       "6          -1.0         80000    19749.048087   80000 -4250.951913       0\n",
       "7           1.0         94500    29760.091484  140000  3716.973279       1\n",
       "8          -1.0         70000    22540.642141   70000  1540.642141       0\n",
       "9           1.0        110000    30629.344885  110000 -2370.655115       0"
      ]
     },
     "execution_count": 90,
     "metadata": {},
     "output_type": "execute_result"
    }
   ],
   "source": [
    "# store data for testing RStan \n",
    "n_d = {'LoanApproval': n_y, \n",
    "     'AnnualSalary': n_x1, \n",
    "     'AccountBalance': n_x2,\n",
    "     'u1': u1,\n",
    "     'u2': u2,\n",
    "     'Gender': A}\n",
    "n_data = pd.DataFrame(n_d)\n",
    "n_data.head(10)"
   ]
  },
  {
   "cell_type": "code",
   "execution_count": 91,
   "metadata": {},
   "outputs": [
    {
     "data": {
      "text/plain": [
       "(array([1600.,    0.,    0.,    0.,    0.,    0.,    0.,    0.,    0.,\n",
       "         109.]),\n",
       " array([-1. , -0.8, -0.6, -0.4, -0.2,  0. ,  0.2,  0.4,  0.6,  0.8,  1. ]),\n",
       " <BarContainer object of 10 artists>)"
      ]
     },
     "execution_count": 91,
     "metadata": {},
     "output_type": "execute_result"
    },
    {
     "data": {
      "image/png": "[encoded data removed]",
      "text/plain": [
       "<Figure size 432x288 with 1 Axes>"
      ]
     },
     "metadata": {
      "needs_background": "light"
     },
     "output_type": "display_data"
    }
   ],
   "source": [
    "plt.hist(n_data['LoanApproval'])\n",
    "plt.hist(n_data[n_data['Gender']==1]['LoanApproval']) # this is the factual!"
   ]
  },
  {
   "cell_type": "code",
   "execution_count": 92,
   "metadata": {},
   "outputs": [],
   "source": [
    "# store in data folder\n",
    "n_data.to_csv(data_path + '\\\\' + 'Karimi2020_v2.csv', sep='|', index=False)"
   ]
  },
  {
   "cell_type": "markdown",
   "metadata": {},
   "source": [
    "For SCFs, we need to estimate the weighst (i.e., causal inference) for Account Balance and Annual Salary before we estimate $u_1$ and $u_2$; interven $A$; and precidt the counterfactual values for $x_1$ and $x_2$."
   ]
  },
  {
   "cell_type": "code",
   "execution_count": 100,
   "metadata": {},
   "outputs": [],
   "source": [
    "model_sal = LinearRegression(fit_intercept=True, normalize=False)\n",
    "model_acc = LinearRegression(fit_intercept=True, normalize=False)"
   ]
  },
  {
   "cell_type": "code",
   "execution_count": 107,
   "metadata": {},
   "outputs": [
    {
     "name": "stdout",
     "output_type": "stream",
     "text": [
      "(5000, 1)\n",
      "(5000,)\n",
      "(5000, 2)\n",
      "(5000,)\n"
     ]
    }
   ],
   "source": [
    "x_sal = np.array(n_data['Gender'].copy()).reshape((-1, 1))\n",
    "print(x_sal.shape)\n",
    "y_sal = np.array(n_data['AnnualSalary'].copy())\n",
    "print(y_sal.shape)\n",
    "\n",
    "x_acc = np.array(n_data[['AnnualSalary', 'Gender']].copy())#.reshape((-1, 1))\n",
    "print(x_acc.shape)\n",
    "y_acc = np.array(n_data['AccountBalance'].copy())\n",
    "print(y_acc.shape)"
   ]
  },
  {
   "cell_type": "code",
   "execution_count": 104,
   "metadata": {},
   "outputs": [
    {
     "data": {
      "text/plain": [
       "LinearRegression()"
      ]
     },
     "execution_count": 104,
     "metadata": {},
     "output_type": "execute_result"
    }
   ],
   "source": [
    "model_sal.fit(x_sal, y_sal)\n",
    "model_acc.fit(x_acc, y_acc)"
   ]
  },
  {
   "cell_type": "code",
   "execution_count": 105,
   "metadata": {},
   "outputs": [
    {
     "data": {
      "text/plain": [
       "array([-66053.03806559])"
      ]
     },
     "execution_count": 105,
     "metadata": {},
     "output_type": "execute_result"
    }
   ],
   "source": [
    "model_sal.coef_"
   ]
  },
  {
   "cell_type": "code",
   "execution_count": 110,
   "metadata": {},
   "outputs": [
    {
     "data": {
      "text/plain": [
       "100671.52841081738"
      ]
     },
     "execution_count": 110,
     "metadata": {},
     "output_type": "execute_result"
    }
   ],
   "source": [
    "model_sal.intercept_"
   ]
  },
  {
   "cell_type": "code",
   "execution_count": 106,
   "metadata": {},
   "outputs": [
    {
     "data": {
      "text/plain": [
       "array([ 2.99318184e-01, -1.97862016e+03])"
      ]
     },
     "execution_count": 106,
     "metadata": {},
     "output_type": "execute_result"
    }
   ],
   "source": [
    "model_acc.coef_"
   ]
  },
  {
   "cell_type": "code",
   "execution_count": 111,
   "metadata": {},
   "outputs": [
    {
     "data": {
      "text/plain": [
       "83.50955875149884"
      ]
     },
     "execution_count": 111,
     "metadata": {},
     "output_type": "execute_result"
    }
   ],
   "source": [
    "model_acc.intercept_"
   ]
  },
  {
   "cell_type": "code",
   "execution_count": 139,
   "metadata": {},
   "outputs": [
    {
     "data": {
      "text/html": [
       "<div>\n",
       "<style scoped>\n",
       "    .dataframe tbody tr th:only-of-type {\n",
       "        vertical-align: middle;\n",
       "    }\n",
       "\n",
       "    .dataframe tbody tr th {\n",
       "        vertical-align: top;\n",
       "    }\n",
       "\n",
       "    .dataframe thead th {\n",
       "        text-align: right;\n",
       "    }\n",
       "</style>\n",
       "<table border=\"1\" class=\"dataframe\">\n",
       "  <thead>\n",
       "    <tr style=\"text-align: right;\">\n",
       "      <th></th>\n",
       "      <th>LoanApproval</th>\n",
       "      <th>AnnualSalary</th>\n",
       "      <th>AccountBalance</th>\n",
       "      <th>Gender</th>\n",
       "      <th>u1</th>\n",
       "      <th>u2</th>\n",
       "    </tr>\n",
       "  </thead>\n",
       "  <tbody>\n",
       "    <tr>\n",
       "      <th>0</th>\n",
       "      <td>-1.0</td>\n",
       "      <td>-15000</td>\n",
       "      <td>-8105.101422</td>\n",
       "      <td>1</td>\n",
       "      <td>50000</td>\n",
       "      <td>-973.152642</td>\n",
       "    </tr>\n",
       "    <tr>\n",
       "      <th>1</th>\n",
       "      <td>1.0</td>\n",
       "      <td>120000</td>\n",
       "      <td>36940.097383</td>\n",
       "      <td>0</td>\n",
       "      <td>120000</td>\n",
       "      <td>940.097383</td>\n",
       "    </tr>\n",
       "    <tr>\n",
       "      <th>2</th>\n",
       "      <td>-1.0</td>\n",
       "      <td>90000</td>\n",
       "      <td>23564.129008</td>\n",
       "      <td>0</td>\n",
       "      <td>90000</td>\n",
       "      <td>-3435.870992</td>\n",
       "    </tr>\n",
       "    <tr>\n",
       "      <th>3</th>\n",
       "      <td>-1.0</td>\n",
       "      <td>80000</td>\n",
       "      <td>27596.570524</td>\n",
       "      <td>0</td>\n",
       "      <td>80000</td>\n",
       "      <td>3596.570524</td>\n",
       "    </tr>\n",
       "    <tr>\n",
       "      <th>4</th>\n",
       "      <td>1.0</td>\n",
       "      <td>210000</td>\n",
       "      <td>62294.221620</td>\n",
       "      <td>0</td>\n",
       "      <td>210000</td>\n",
       "      <td>-705.778380</td>\n",
       "    </tr>\n",
       "  </tbody>\n",
       "</table>\n",
       "</div>"
      ],
      "text/plain": [
       "   LoanApproval  AnnualSalary  AccountBalance  Gender      u1           u2\n",
       "0          -1.0        -15000    -8105.101422       1   50000  -973.152642\n",
       "1           1.0        120000    36940.097383       0  120000   940.097383\n",
       "2          -1.0         90000    23564.129008       0   90000 -3435.870992\n",
       "3          -1.0         80000    27596.570524       0   80000  3596.570524\n",
       "4           1.0        210000    62294.221620       0  210000  -705.778380"
      ]
     },
     "execution_count": 139,
     "metadata": {},
     "output_type": "execute_result"
    }
   ],
   "source": [
    "n_scf_data = n_data[['LoanApproval', 'AnnualSalary', 'AccountBalance', 'Gender', 'u1', 'u2']].copy()\n",
    "n_scf_data.head(5)"
   ]
  },
  {
   "cell_type": "code",
   "execution_count": 140,
   "metadata": {},
   "outputs": [
    {
     "data": {
      "text/html": [
       "<div>\n",
       "<style scoped>\n",
       "    .dataframe tbody tr th:only-of-type {\n",
       "        vertical-align: middle;\n",
       "    }\n",
       "\n",
       "    .dataframe tbody tr th {\n",
       "        vertical-align: top;\n",
       "    }\n",
       "\n",
       "    .dataframe thead th {\n",
       "        text-align: right;\n",
       "    }\n",
       "</style>\n",
       "<table border=\"1\" class=\"dataframe\">\n",
       "  <thead>\n",
       "    <tr style=\"text-align: right;\">\n",
       "      <th></th>\n",
       "      <th>LoanApproval</th>\n",
       "      <th>AnnualSalary</th>\n",
       "      <th>AccountBalance</th>\n",
       "      <th>Gender</th>\n",
       "      <th>u1</th>\n",
       "      <th>u2</th>\n",
       "      <th>hat_u1</th>\n",
       "      <th>hat_u2</th>\n",
       "    </tr>\n",
       "  </thead>\n",
       "  <tbody>\n",
       "    <tr>\n",
       "      <th>0</th>\n",
       "      <td>-1.0</td>\n",
       "      <td>-15000</td>\n",
       "      <td>-8105.101422</td>\n",
       "      <td>1</td>\n",
       "      <td>50000</td>\n",
       "      <td>-973.152642</td>\n",
       "      <td>-49618.49</td>\n",
       "      <td>-1720.22</td>\n",
       "    </tr>\n",
       "    <tr>\n",
       "      <th>1</th>\n",
       "      <td>1.0</td>\n",
       "      <td>120000</td>\n",
       "      <td>36940.097383</td>\n",
       "      <td>0</td>\n",
       "      <td>120000</td>\n",
       "      <td>940.097383</td>\n",
       "      <td>19328.47</td>\n",
       "      <td>938.41</td>\n",
       "    </tr>\n",
       "    <tr>\n",
       "      <th>2</th>\n",
       "      <td>-1.0</td>\n",
       "      <td>90000</td>\n",
       "      <td>23564.129008</td>\n",
       "      <td>0</td>\n",
       "      <td>90000</td>\n",
       "      <td>-3435.870992</td>\n",
       "      <td>-10671.53</td>\n",
       "      <td>-3458.02</td>\n",
       "    </tr>\n",
       "    <tr>\n",
       "      <th>3</th>\n",
       "      <td>-1.0</td>\n",
       "      <td>80000</td>\n",
       "      <td>27596.570524</td>\n",
       "      <td>0</td>\n",
       "      <td>80000</td>\n",
       "      <td>3596.570524</td>\n",
       "      <td>-20671.53</td>\n",
       "      <td>3567.61</td>\n",
       "    </tr>\n",
       "    <tr>\n",
       "      <th>4</th>\n",
       "      <td>1.0</td>\n",
       "      <td>210000</td>\n",
       "      <td>62294.221620</td>\n",
       "      <td>0</td>\n",
       "      <td>210000</td>\n",
       "      <td>-705.778380</td>\n",
       "      <td>109328.47</td>\n",
       "      <td>-646.11</td>\n",
       "    </tr>\n",
       "  </tbody>\n",
       "</table>\n",
       "</div>"
      ],
      "text/plain": [
       "   LoanApproval  AnnualSalary  AccountBalance  Gender      u1           u2  \\\n",
       "0          -1.0        -15000    -8105.101422       1   50000  -973.152642   \n",
       "1           1.0        120000    36940.097383       0  120000   940.097383   \n",
       "2          -1.0         90000    23564.129008       0   90000 -3435.870992   \n",
       "3          -1.0         80000    27596.570524       0   80000  3596.570524   \n",
       "4           1.0        210000    62294.221620       0  210000  -705.778380   \n",
       "\n",
       "      hat_u1   hat_u2  \n",
       "0  -49618.49 -1720.22  \n",
       "1   19328.47   938.41  \n",
       "2  -10671.53 -3458.02  \n",
       "3  -20671.53  3567.61  \n",
       "4  109328.47  -646.11  "
      ]
     },
     "execution_count": 140,
     "metadata": {},
     "output_type": "execute_result"
    }
   ],
   "source": [
    "n_scf_data['hat_u1'] = round(n_scf_data['AnnualSalary'] - model_sal.predict(x_sal), 2)\n",
    "n_scf_data['hat_u2'] = round(n_scf_data['AccountBalance'] - model_acc.predict(x_acc), 2)\n",
    "n_scf_data.head(5)"
   ]
  },
  {
   "cell_type": "code",
   "execution_count": 141,
   "metadata": {},
   "outputs": [
    {
     "data": {
      "text/plain": [
       "(array([2.000e+00, 3.100e+01, 3.680e+02, 1.233e+03, 1.686e+03, 1.165e+03,\n",
       "        4.150e+02, 8.600e+01, 1.300e+01, 1.000e+00]),\n",
       " array([-144118.49 , -112773.794,  -81429.098,  -50084.402,  -18739.706,\n",
       "          12604.99 ,   43949.686,   75294.382,  106639.078,  137983.774,\n",
       "         169328.47 ]),\n",
       " <BarContainer object of 10 artists>)"
      ]
     },
     "execution_count": 141,
     "metadata": {},
     "output_type": "execute_result"
    },
    {
     "data": {
      "image/png": "[encoded data removed]",
      "text/plain": [
       "<Figure size 432x288 with 1 Axes>"
      ]
     },
     "metadata": {
      "needs_background": "light"
     },
     "output_type": "display_data"
    }
   ],
   "source": [
    "plt.hist(n_scf_data['u1'])\n",
    "plt.hist(n_scf_data['hat_u1'])"
   ]
  },
  {
   "cell_type": "code",
   "execution_count": 142,
   "metadata": {},
   "outputs": [
    {
     "data": {
      "text/plain": [
       "(array([  18.,   79.,  285.,  690., 1186., 1285.,  914.,  415.,  112.,\n",
       "          16.]),\n",
       " array([-9188.73 , -7411.538, -5634.346, -3857.154, -2079.962,  -302.77 ,\n",
       "         1474.422,  3251.614,  5028.806,  6805.998,  8583.19 ]),\n",
       " <BarContainer object of 10 artists>)"
      ]
     },
     "execution_count": 142,
     "metadata": {},
     "output_type": "execute_result"
    },
    {
     "data": {
      "image/png": "[encoded data removed]",
      "text/plain": [
       "<Figure size 432x288 with 1 Axes>"
      ]
     },
     "metadata": {
      "needs_background": "light"
     },
     "output_type": "display_data"
    }
   ],
   "source": [
    "plt.hist(n_scf_data['u2'])\n",
    "plt.hist(n_scf_data['hat_u2'])"
   ]
  },
  {
   "cell_type": "code",
   "execution_count": 143,
   "metadata": {},
   "outputs": [],
   "source": [
    "# intervene on A\n",
    "do_male = np.repeat(0, repeats=n_scf_data.shape[0]).reshape((-1, 1))"
   ]
  },
  {
   "cell_type": "code",
   "execution_count": 144,
   "metadata": {},
   "outputs": [
    {
     "data": {
      "text/html": [
       "<div>\n",
       "<style scoped>\n",
       "    .dataframe tbody tr th:only-of-type {\n",
       "        vertical-align: middle;\n",
       "    }\n",
       "\n",
       "    .dataframe tbody tr th {\n",
       "        vertical-align: top;\n",
       "    }\n",
       "\n",
       "    .dataframe thead th {\n",
       "        text-align: right;\n",
       "    }\n",
       "</style>\n",
       "<table border=\"1\" class=\"dataframe\">\n",
       "  <thead>\n",
       "    <tr style=\"text-align: right;\">\n",
       "      <th></th>\n",
       "      <th>LoanApproval</th>\n",
       "      <th>AnnualSalary</th>\n",
       "      <th>AccountBalance</th>\n",
       "      <th>Gender</th>\n",
       "      <th>u1</th>\n",
       "      <th>u2</th>\n",
       "      <th>hat_u1</th>\n",
       "      <th>hat_u2</th>\n",
       "      <th>scf_AnnualSalary</th>\n",
       "    </tr>\n",
       "  </thead>\n",
       "  <tbody>\n",
       "    <tr>\n",
       "      <th>0</th>\n",
       "      <td>-1.0</td>\n",
       "      <td>-15000</td>\n",
       "      <td>-8105.101422</td>\n",
       "      <td>1</td>\n",
       "      <td>50000</td>\n",
       "      <td>-973.152642</td>\n",
       "      <td>-49618.49</td>\n",
       "      <td>-1720.22</td>\n",
       "      <td>51053.04</td>\n",
       "    </tr>\n",
       "    <tr>\n",
       "      <th>1</th>\n",
       "      <td>1.0</td>\n",
       "      <td>120000</td>\n",
       "      <td>36940.097383</td>\n",
       "      <td>0</td>\n",
       "      <td>120000</td>\n",
       "      <td>940.097383</td>\n",
       "      <td>19328.47</td>\n",
       "      <td>938.41</td>\n",
       "      <td>120000.00</td>\n",
       "    </tr>\n",
       "    <tr>\n",
       "      <th>2</th>\n",
       "      <td>-1.0</td>\n",
       "      <td>90000</td>\n",
       "      <td>23564.129008</td>\n",
       "      <td>0</td>\n",
       "      <td>90000</td>\n",
       "      <td>-3435.870992</td>\n",
       "      <td>-10671.53</td>\n",
       "      <td>-3458.02</td>\n",
       "      <td>90000.00</td>\n",
       "    </tr>\n",
       "    <tr>\n",
       "      <th>3</th>\n",
       "      <td>-1.0</td>\n",
       "      <td>80000</td>\n",
       "      <td>27596.570524</td>\n",
       "      <td>0</td>\n",
       "      <td>80000</td>\n",
       "      <td>3596.570524</td>\n",
       "      <td>-20671.53</td>\n",
       "      <td>3567.61</td>\n",
       "      <td>80000.00</td>\n",
       "    </tr>\n",
       "    <tr>\n",
       "      <th>4</th>\n",
       "      <td>1.0</td>\n",
       "      <td>210000</td>\n",
       "      <td>62294.221620</td>\n",
       "      <td>0</td>\n",
       "      <td>210000</td>\n",
       "      <td>-705.778380</td>\n",
       "      <td>109328.47</td>\n",
       "      <td>-646.11</td>\n",
       "      <td>210000.00</td>\n",
       "    </tr>\n",
       "  </tbody>\n",
       "</table>\n",
       "</div>"
      ],
      "text/plain": [
       "   LoanApproval  AnnualSalary  AccountBalance  Gender      u1           u2  \\\n",
       "0          -1.0        -15000    -8105.101422       1   50000  -973.152642   \n",
       "1           1.0        120000    36940.097383       0  120000   940.097383   \n",
       "2          -1.0         90000    23564.129008       0   90000 -3435.870992   \n",
       "3          -1.0         80000    27596.570524       0   80000  3596.570524   \n",
       "4           1.0        210000    62294.221620       0  210000  -705.778380   \n",
       "\n",
       "      hat_u1   hat_u2  scf_AnnualSalary  \n",
       "0  -49618.49 -1720.22          51053.04  \n",
       "1   19328.47   938.41         120000.00  \n",
       "2  -10671.53 -3458.02          90000.00  \n",
       "3  -20671.53  3567.61          80000.00  \n",
       "4  109328.47  -646.11         210000.00  "
      ]
     },
     "execution_count": 144,
     "metadata": {},
     "output_type": "execute_result"
    }
   ],
   "source": [
    "n_scf_data['scf_AnnualSalary'] = round(model_sal.predict(do_male) + n_scf_data['hat_u1'], 2)\n",
    "n_scf_data.head(5)"
   ]
  },
  {
   "cell_type": "code",
   "execution_count": 145,
   "metadata": {},
   "outputs": [
    {
     "data": {
      "text/plain": [
       "(array([2.000e+00, 3.100e+01, 3.680e+02, 1.233e+03, 1.686e+03, 1.165e+03,\n",
       "        4.150e+02, 8.600e+01, 1.300e+01, 1.000e+00]),\n",
       " array([-43446.96 , -12102.264,  19242.432,  50587.128,  81931.824,\n",
       "        113276.52 , 144621.216, 175965.912, 207310.608, 238655.304,\n",
       "        270000.   ]),\n",
       " <BarContainer object of 10 artists>)"
      ]
     },
     "execution_count": 145,
     "metadata": {},
     "output_type": "execute_result"
    },
    {
     "data": {
      "image/png": "[encoded data removed]",
      "text/plain": [
       "<Figure size 432x288 with 1 Axes>"
      ]
     },
     "metadata": {
      "needs_background": "light"
     },
     "output_type": "display_data"
    }
   ],
   "source": [
    "plt.hist(n_scf_data['AnnualSalary'])\n",
    "plt.hist(n_scf_data['scf_AnnualSalary'])"
   ]
  },
  {
   "cell_type": "code",
   "execution_count": 146,
   "metadata": {},
   "outputs": [
    {
     "data": {
      "text/html": [
       "<div>\n",
       "<style scoped>\n",
       "    .dataframe tbody tr th:only-of-type {\n",
       "        vertical-align: middle;\n",
       "    }\n",
       "\n",
       "    .dataframe tbody tr th {\n",
       "        vertical-align: top;\n",
       "    }\n",
       "\n",
       "    .dataframe thead th {\n",
       "        text-align: right;\n",
       "    }\n",
       "</style>\n",
       "<table border=\"1\" class=\"dataframe\">\n",
       "  <thead>\n",
       "    <tr style=\"text-align: right;\">\n",
       "      <th></th>\n",
       "      <th>scf_AnnualSalary</th>\n",
       "      <th>Gender</th>\n",
       "    </tr>\n",
       "  </thead>\n",
       "  <tbody>\n",
       "    <tr>\n",
       "      <th>0</th>\n",
       "      <td>51053.04</td>\n",
       "      <td>0</td>\n",
       "    </tr>\n",
       "    <tr>\n",
       "      <th>1</th>\n",
       "      <td>120000.00</td>\n",
       "      <td>0</td>\n",
       "    </tr>\n",
       "    <tr>\n",
       "      <th>2</th>\n",
       "      <td>90000.00</td>\n",
       "      <td>0</td>\n",
       "    </tr>\n",
       "    <tr>\n",
       "      <th>3</th>\n",
       "      <td>80000.00</td>\n",
       "      <td>0</td>\n",
       "    </tr>\n",
       "    <tr>\n",
       "      <th>4</th>\n",
       "      <td>210000.00</td>\n",
       "      <td>0</td>\n",
       "    </tr>\n",
       "  </tbody>\n",
       "</table>\n",
       "</div>"
      ],
      "text/plain": [
       "   scf_AnnualSalary  Gender\n",
       "0          51053.04       0\n",
       "1         120000.00       0\n",
       "2          90000.00       0\n",
       "3          80000.00       0\n",
       "4         210000.00       0"
      ]
     },
     "execution_count": 146,
     "metadata": {},
     "output_type": "execute_result"
    }
   ],
   "source": [
    "temp_do = n_scf_data[['scf_AnnualSalary']].copy()\n",
    "temp_do['Gender'] = do_male\n",
    "temp_do.head(5)"
   ]
  },
  {
   "cell_type": "code",
   "execution_count": 147,
   "metadata": {},
   "outputs": [
    {
     "data": {
      "text/html": [
       "<div>\n",
       "<style scoped>\n",
       "    .dataframe tbody tr th:only-of-type {\n",
       "        vertical-align: middle;\n",
       "    }\n",
       "\n",
       "    .dataframe tbody tr th {\n",
       "        vertical-align: top;\n",
       "    }\n",
       "\n",
       "    .dataframe thead th {\n",
       "        text-align: right;\n",
       "    }\n",
       "</style>\n",
       "<table border=\"1\" class=\"dataframe\">\n",
       "  <thead>\n",
       "    <tr style=\"text-align: right;\">\n",
       "      <th></th>\n",
       "      <th>LoanApproval</th>\n",
       "      <th>AnnualSalary</th>\n",
       "      <th>AccountBalance</th>\n",
       "      <th>Gender</th>\n",
       "      <th>u1</th>\n",
       "      <th>u2</th>\n",
       "      <th>hat_u1</th>\n",
       "      <th>hat_u2</th>\n",
       "      <th>scf_AnnualSalary</th>\n",
       "      <th>scf_AccountBalance</th>\n",
       "    </tr>\n",
       "  </thead>\n",
       "  <tbody>\n",
       "    <tr>\n",
       "      <th>0</th>\n",
       "      <td>-1.0</td>\n",
       "      <td>-15000</td>\n",
       "      <td>-8105.101422</td>\n",
       "      <td>1</td>\n",
       "      <td>50000</td>\n",
       "      <td>-973.152642</td>\n",
       "      <td>-49618.49</td>\n",
       "      <td>-1720.22</td>\n",
       "      <td>51053.04</td>\n",
       "      <td>13644.39</td>\n",
       "    </tr>\n",
       "    <tr>\n",
       "      <th>1</th>\n",
       "      <td>1.0</td>\n",
       "      <td>120000</td>\n",
       "      <td>36940.097383</td>\n",
       "      <td>0</td>\n",
       "      <td>120000</td>\n",
       "      <td>940.097383</td>\n",
       "      <td>19328.47</td>\n",
       "      <td>938.41</td>\n",
       "      <td>120000.00</td>\n",
       "      <td>36940.10</td>\n",
       "    </tr>\n",
       "    <tr>\n",
       "      <th>2</th>\n",
       "      <td>-1.0</td>\n",
       "      <td>90000</td>\n",
       "      <td>23564.129008</td>\n",
       "      <td>0</td>\n",
       "      <td>90000</td>\n",
       "      <td>-3435.870992</td>\n",
       "      <td>-10671.53</td>\n",
       "      <td>-3458.02</td>\n",
       "      <td>90000.00</td>\n",
       "      <td>23564.13</td>\n",
       "    </tr>\n",
       "    <tr>\n",
       "      <th>3</th>\n",
       "      <td>-1.0</td>\n",
       "      <td>80000</td>\n",
       "      <td>27596.570524</td>\n",
       "      <td>0</td>\n",
       "      <td>80000</td>\n",
       "      <td>3596.570524</td>\n",
       "      <td>-20671.53</td>\n",
       "      <td>3567.61</td>\n",
       "      <td>80000.00</td>\n",
       "      <td>27596.57</td>\n",
       "    </tr>\n",
       "    <tr>\n",
       "      <th>4</th>\n",
       "      <td>1.0</td>\n",
       "      <td>210000</td>\n",
       "      <td>62294.221620</td>\n",
       "      <td>0</td>\n",
       "      <td>210000</td>\n",
       "      <td>-705.778380</td>\n",
       "      <td>109328.47</td>\n",
       "      <td>-646.11</td>\n",
       "      <td>210000.00</td>\n",
       "      <td>62294.22</td>\n",
       "    </tr>\n",
       "  </tbody>\n",
       "</table>\n",
       "</div>"
      ],
      "text/plain": [
       "   LoanApproval  AnnualSalary  AccountBalance  Gender      u1           u2  \\\n",
       "0          -1.0        -15000    -8105.101422       1   50000  -973.152642   \n",
       "1           1.0        120000    36940.097383       0  120000   940.097383   \n",
       "2          -1.0         90000    23564.129008       0   90000 -3435.870992   \n",
       "3          -1.0         80000    27596.570524       0   80000  3596.570524   \n",
       "4           1.0        210000    62294.221620       0  210000  -705.778380   \n",
       "\n",
       "      hat_u1   hat_u2  scf_AnnualSalary  scf_AccountBalance  \n",
       "0  -49618.49 -1720.22          51053.04            13644.39  \n",
       "1   19328.47   938.41         120000.00            36940.10  \n",
       "2  -10671.53 -3458.02          90000.00            23564.13  \n",
       "3  -20671.53  3567.61          80000.00            27596.57  \n",
       "4  109328.47  -646.11         210000.00            62294.22  "
      ]
     },
     "execution_count": 147,
     "metadata": {},
     "output_type": "execute_result"
    }
   ],
   "source": [
    "n_scf_data['scf_AccountBalance'] = round(model_acc.predict(temp_do) + n_scf_data['hat_u2'], 2)\n",
    "n_scf_data.head(5)"
   ]
  },
  {
   "cell_type": "code",
   "execution_count": 148,
   "metadata": {},
   "outputs": [
    {
     "data": {
      "text/plain": [
       "(array([  11.,   65.,  396., 1181., 1561., 1137.,  504.,  121.,   21.,\n",
       "           3.]),\n",
       " array([-9234.79 ,  -622.275,  7990.24 , 16602.755, 25215.27 , 33827.785,\n",
       "        42440.3  , 51052.815, 59665.33 , 68277.845, 76890.36 ]),\n",
       " <BarContainer object of 10 artists>)"
      ]
     },
     "execution_count": 148,
     "metadata": {},
     "output_type": "execute_result"
    },
    {
     "data": {
      "image/png": "[encoded data removed]",
      "text/plain": [
       "<Figure size 432x288 with 1 Axes>"
      ]
     },
     "metadata": {
      "needs_background": "light"
     },
     "output_type": "display_data"
    }
   ],
   "source": [
    "plt.hist(n_scf_data['AccountBalance'])\n",
    "plt.hist(n_scf_data['scf_AccountBalance'])"
   ]
  },
  {
   "cell_type": "code",
   "execution_count": 149,
   "metadata": {},
   "outputs": [
    {
     "data": {
      "text/html": [
       "<div>\n",
       "<style scoped>\n",
       "    .dataframe tbody tr th:only-of-type {\n",
       "        vertical-align: middle;\n",
       "    }\n",
       "\n",
       "    .dataframe tbody tr th {\n",
       "        vertical-align: top;\n",
       "    }\n",
       "\n",
       "    .dataframe thead th {\n",
       "        text-align: right;\n",
       "    }\n",
       "</style>\n",
       "<table border=\"1\" class=\"dataframe\">\n",
       "  <thead>\n",
       "    <tr style=\"text-align: right;\">\n",
       "      <th></th>\n",
       "      <th>LoanApproval</th>\n",
       "      <th>AnnualSalary</th>\n",
       "      <th>AccountBalance</th>\n",
       "      <th>Gender</th>\n",
       "      <th>u1</th>\n",
       "      <th>u2</th>\n",
       "      <th>hat_u1</th>\n",
       "      <th>hat_u2</th>\n",
       "      <th>scf_AnnualSalary</th>\n",
       "      <th>scf_AccountBalance</th>\n",
       "      <th>scf_LoanApproval</th>\n",
       "    </tr>\n",
       "  </thead>\n",
       "  <tbody>\n",
       "    <tr>\n",
       "      <th>0</th>\n",
       "      <td>-1.0</td>\n",
       "      <td>-15000</td>\n",
       "      <td>-8105.101422</td>\n",
       "      <td>1</td>\n",
       "      <td>50000</td>\n",
       "      <td>-973.152642</td>\n",
       "      <td>-49618.49</td>\n",
       "      <td>-1720.22</td>\n",
       "      <td>51053.04</td>\n",
       "      <td>13644.39</td>\n",
       "      <td>-1.0</td>\n",
       "    </tr>\n",
       "    <tr>\n",
       "      <th>1</th>\n",
       "      <td>1.0</td>\n",
       "      <td>120000</td>\n",
       "      <td>36940.097383</td>\n",
       "      <td>0</td>\n",
       "      <td>120000</td>\n",
       "      <td>940.097383</td>\n",
       "      <td>19328.47</td>\n",
       "      <td>938.41</td>\n",
       "      <td>120000.00</td>\n",
       "      <td>36940.10</td>\n",
       "      <td>1.0</td>\n",
       "    </tr>\n",
       "    <tr>\n",
       "      <th>2</th>\n",
       "      <td>-1.0</td>\n",
       "      <td>90000</td>\n",
       "      <td>23564.129008</td>\n",
       "      <td>0</td>\n",
       "      <td>90000</td>\n",
       "      <td>-3435.870992</td>\n",
       "      <td>-10671.53</td>\n",
       "      <td>-3458.02</td>\n",
       "      <td>90000.00</td>\n",
       "      <td>23564.13</td>\n",
       "      <td>-1.0</td>\n",
       "    </tr>\n",
       "    <tr>\n",
       "      <th>3</th>\n",
       "      <td>-1.0</td>\n",
       "      <td>80000</td>\n",
       "      <td>27596.570524</td>\n",
       "      <td>0</td>\n",
       "      <td>80000</td>\n",
       "      <td>3596.570524</td>\n",
       "      <td>-20671.53</td>\n",
       "      <td>3567.61</td>\n",
       "      <td>80000.00</td>\n",
       "      <td>27596.57</td>\n",
       "      <td>-1.0</td>\n",
       "    </tr>\n",
       "    <tr>\n",
       "      <th>4</th>\n",
       "      <td>1.0</td>\n",
       "      <td>210000</td>\n",
       "      <td>62294.221620</td>\n",
       "      <td>0</td>\n",
       "      <td>210000</td>\n",
       "      <td>-705.778380</td>\n",
       "      <td>109328.47</td>\n",
       "      <td>-646.11</td>\n",
       "      <td>210000.00</td>\n",
       "      <td>62294.22</td>\n",
       "      <td>1.0</td>\n",
       "    </tr>\n",
       "  </tbody>\n",
       "</table>\n",
       "</div>"
      ],
      "text/plain": [
       "   LoanApproval  AnnualSalary  AccountBalance  Gender      u1           u2  \\\n",
       "0          -1.0        -15000    -8105.101422       1   50000  -973.152642   \n",
       "1           1.0        120000    36940.097383       0  120000   940.097383   \n",
       "2          -1.0         90000    23564.129008       0   90000 -3435.870992   \n",
       "3          -1.0         80000    27596.570524       0   80000  3596.570524   \n",
       "4           1.0        210000    62294.221620       0  210000  -705.778380   \n",
       "\n",
       "      hat_u1   hat_u2  scf_AnnualSalary  scf_AccountBalance  scf_LoanApproval  \n",
       "0  -49618.49 -1720.22          51053.04            13644.39              -1.0  \n",
       "1   19328.47   938.41         120000.00            36940.10               1.0  \n",
       "2  -10671.53 -3458.02          90000.00            23564.13              -1.0  \n",
       "3  -20671.53  3567.61          80000.00            27596.57              -1.0  \n",
       "4  109328.47  -646.11         210000.00            62294.22               1.0  "
      ]
     },
     "execution_count": 149,
     "metadata": {},
     "output_type": "execute_result"
    }
   ],
   "source": [
    "n_scf_data['scf_LoanApproval'] = np.sign(n_scf_data['scf_AnnualSalary'] + beta_2*n_scf_data['scf_AccountBalance'] - 225000)\n",
    "n_scf_data.head(5)"
   ]
  },
  {
   "cell_type": "code",
   "execution_count": 151,
   "metadata": {},
   "outputs": [
    {
     "data": {
      "text/plain": [
       "(array([1977.,    0.,    0.,    0.,    0.,    0.,    0.,    0.,    0.,\n",
       "        3023.]),\n",
       " array([-1. , -0.8, -0.6, -0.4, -0.2,  0. ,  0.2,  0.4,  0.6,  0.8,  1. ]),\n",
       " <BarContainer object of 10 artists>)"
      ]
     },
     "execution_count": 151,
     "metadata": {},
     "output_type": "execute_result"
    },
    {
     "data": {
      "image/png": "[encoded data removed]",
      "text/plain": [
       "<Figure size 432x288 with 1 Axes>"
      ]
     },
     "metadata": {
      "needs_background": "light"
     },
     "output_type": "display_data"
    }
   ],
   "source": [
    "plt.hist(n_scf_data['LoanApproval'])\n",
    "plt.hist(n_scf_data['scf_LoanApproval'])"
   ]
  },
  {
   "cell_type": "code",
   "execution_count": 152,
   "metadata": {},
   "outputs": [
    {
     "data": {
      "text/plain": [
       "(array([ 675.,    0.,    0.,    0.,    0.,    0.,    0.,    0.,    0.,\n",
       "        1034.]),\n",
       " array([-1. , -0.8, -0.6, -0.4, -0.2,  0. ,  0.2,  0.4,  0.6,  0.8,  1. ]),\n",
       " <BarContainer object of 10 artists>)"
      ]
     },
     "execution_count": 152,
     "metadata": {},
     "output_type": "execute_result"
    },
    {
     "data": {
      "image/png": "[encoded data removed]",
      "text/plain": [
       "<Figure size 432x288 with 1 Axes>"
      ]
     },
     "metadata": {
      "needs_background": "light"
     },
     "output_type": "display_data"
    }
   ],
   "source": [
    "plt.hist(n_scf_data[n_scf_data['Gender']==1]['LoanApproval'])\n",
    "plt.hist(n_scf_data[n_scf_data['Gender']==1]['scf_LoanApproval'])"
   ]
  },
  {
   "cell_type": "code",
   "execution_count": null,
   "metadata": {},
   "outputs": [],
   "source": []
  },
  {
   "cell_type": "code",
   "execution_count": null,
   "metadata": {},
   "outputs": [],
   "source": []
  },
  {
   "cell_type": "code",
   "execution_count": null,
   "metadata": {},
   "outputs": [],
   "source": []
  },
  {
   "cell_type": "markdown",
   "metadata": {},
   "source": [
    "### Version 2: no causal sufficiency\n",
    "\n",
    "$U -> X_1; U -> X_2; X_1 -> X_2$\n",
    "\n",
    "A violation of the causal sufficiency essentially introduces an endogeneity problem where we are unable to retrieve the original causal weights... which is an issue for performing the abduction step (we can't properly identify the exogenous vars) and, in turn, a problem for generating the counterfactuals."
   ]
  },
  {
   "cell_type": "code",
   "execution_count": null,
   "metadata": {},
   "outputs": [],
   "source": [
    "# clear values\n",
    "del u1, u2, x1, x2, y"
   ]
  },
  {
   "cell_type": "code",
   "execution_count": null,
   "metadata": {},
   "outputs": [],
   "source": [
    "# overall params\n",
    "np.random.seed(2022)\n",
    "n = 5000\n",
    "\n",
    "# (hyper)parameters\n",
    "lambda_1 = 10000\n",
    "lambda_2 = 2500\n",
    "beta_1 = (3/10)\n",
    "beta_2 = 5\n",
    "#epsilon = 225000\n",
    "\n",
    "# introduce the confounder z\n",
    "z = np.random.normal(loc=0.0, scale=1.75, size=n)\n",
    "lambda_z1 = 1000\n",
    "lambda_z2 = 3*lambda_z1\n",
    "\n",
    "# input to the errors\n",
    "u1 = lambda_1*np.random.poisson(lam=10, size=n)            + lambda_z1*z\n",
    "u2 = lambda_2*np.random.normal(loc=0.0, scale=1.0, size=n) + lambda_z2*z\n",
    "\n",
    "# annual salary\n",
    "x1 = u1\n",
    "# account balance\n",
    "x2 = beta_1*x1 + u2\n",
    "\n",
    "# loan approval\n",
    "y = np.sign(x1 + beta_2*x2 - 225000)"
   ]
  },
  {
   "cell_type": "code",
   "execution_count": null,
   "metadata": {},
   "outputs": [],
   "source": [
    "# store data for testing RStan \n",
    "d2 = {'LoanApproval': y, \n",
    "      'AnnualSalary': x1, \n",
    "      'AccountBalance': x2,\n",
    "      'u1': u1,\n",
    "      'u2': u2,\n",
    "      'z': z}\n",
    "data2 = pd.DataFrame(d2)\n",
    "data2.head(5)"
   ]
  },
  {
   "cell_type": "code",
   "execution_count": null,
   "metadata": {},
   "outputs": [],
   "source": [
    "# check for negative values\n",
    "print(data2.shape)\n",
    "data2 = data2[(data2['AnnualSalary'] >= 0) & (data2['AccountBalance'] >= 0)]\n",
    "print(data2.shape)"
   ]
  },
  {
   "cell_type": "code",
   "execution_count": null,
   "metadata": {},
   "outputs": [],
   "source": [
    "# store in data folder\n",
    "data2.to_csv(data_path + '\\\\' + 'Karimi2020_v2.csv', sep='|', index=False)"
   ]
  },
  {
   "cell_type": "code",
   "execution_count": null,
   "metadata": {},
   "outputs": [],
   "source": [
    "# just in case\n",
    "del x, y, model"
   ]
  },
  {
   "cell_type": "code",
   "execution_count": null,
   "metadata": {},
   "outputs": [],
   "source": [
    "#from sklearn.linear_model import LinearRegression\n",
    "model = LinearRegression(fit_intercept=True, normalize=False)"
   ]
  },
  {
   "cell_type": "code",
   "execution_count": null,
   "metadata": {},
   "outputs": [],
   "source": [
    "x = np.array(data2['AnnualSalary'].copy()).reshape((-1, 1))\n",
    "print(x.shape)\n",
    "x"
   ]
  },
  {
   "cell_type": "code",
   "execution_count": null,
   "metadata": {},
   "outputs": [],
   "source": [
    "y = np.array(data2['AccountBalance'].copy())\n",
    "print(y.shape)\n",
    "y"
   ]
  },
  {
   "cell_type": "code",
   "execution_count": null,
   "metadata": {},
   "outputs": [],
   "source": [
    "# fit model\n",
    "model.fit(x, y)"
   ]
  },
  {
   "cell_type": "code",
   "execution_count": null,
   "metadata": {},
   "outputs": [],
   "source": [
    "hat_beta1 = model.coef_[0]\n",
    "print(hat_beta1)\n",
    "\n",
    "hat_beta0 = model.intercept_\n",
    "print(hat_beta0)"
   ]
  },
  {
   "cell_type": "code",
   "execution_count": null,
   "metadata": {},
   "outputs": [],
   "source": [
    "# check the abduction step!!!\n",
    "plt.hist(round(data2['AccountBalance'] - model.predict(x), 2)) #hat_u2\n",
    "plt.hist(data2['u2']) #u2"
   ]
  },
  {
   "cell_type": "markdown",
   "metadata": {},
   "source": [
    "If you look at this histogram versus the one below where Z is specified, we seem to recover $U_2$ quite well. This is very important for SCF as: a) we show the risk of confounders, b) we show that abduction step is still variable-specific and it's not just sampling from the latent space..."
   ]
  },
  {
   "cell_type": "code",
   "execution_count": null,
   "metadata": {},
   "outputs": [],
   "source": [
    "#from sklearn.linear_model import LinearRegression\n",
    "model2 = LinearRegression(fit_intercept=True, normalize=False)"
   ]
  },
  {
   "cell_type": "code",
   "execution_count": null,
   "metadata": {},
   "outputs": [],
   "source": [
    "x2 = np.array(data2[['AnnualSalary', 'z']].copy())#.reshape((1, -1))\n",
    "print(x2.shape)\n",
    "x2"
   ]
  },
  {
   "cell_type": "code",
   "execution_count": null,
   "metadata": {},
   "outputs": [],
   "source": [
    "# fit model with 'observed' confounder\n",
    "model2.fit(x2, y)"
   ]
  },
  {
   "cell_type": "code",
   "execution_count": null,
   "metadata": {},
   "outputs": [],
   "source": [
    "hat_beta1 = model2.coef_[0]\n",
    "print(hat_beta1)\n",
    "\n",
    "hat_beta2 = model2.coef_[1]\n",
    "print(hat_beta2)\n",
    "\n",
    "hat_beta0 = model2.intercept_\n",
    "print(hat_beta0)"
   ]
  },
  {
   "cell_type": "markdown",
   "metadata": {},
   "source": [
    "(Above:) I'm not retrieving the weight of the confounder $Z$ but I get closer to $\\beta_1$."
   ]
  },
  {
   "cell_type": "code",
   "execution_count": null,
   "metadata": {},
   "outputs": [],
   "source": [
    "# the coefficients\n",
    "model2.coef_"
   ]
  },
  {
   "cell_type": "code",
   "execution_count": null,
   "metadata": {},
   "outputs": [],
   "source": [
    "# check the counterfactuals\n",
    "scf_data = data2[['AnnualSalary', 'AccountBalance', 'u1', 'u2', 'z']].copy()\n",
    "scf_data.head(5)"
   ]
  },
  {
   "cell_type": "code",
   "execution_count": null,
   "metadata": {},
   "outputs": [],
   "source": [
    "scf_data['hat_AccountBalance'] = model2.predict(x2)\n",
    "scf_data.head(5)"
   ]
  },
  {
   "cell_type": "code",
   "execution_count": null,
   "metadata": {},
   "outputs": [],
   "source": [
    "scf_data['hat_u1'] = scf_data['AnnualSalary']\n",
    "scf_data['hat_u2'] = round(scf_data['AccountBalance'] - model2.predict(x2), 2)\n",
    "scf_data.head(5)"
   ]
  },
  {
   "cell_type": "code",
   "execution_count": null,
   "metadata": {},
   "outputs": [],
   "source": [
    "# under this, we would overestimate u2\n",
    "plt.hist(scf_data['u2'])\n",
    "plt.hist(scf_data['hat_u2'])"
   ]
  },
  {
   "cell_type": "code",
   "execution_count": null,
   "metadata": {},
   "outputs": [],
   "source": []
  },
  {
   "cell_type": "code",
   "execution_count": null,
   "metadata": {},
   "outputs": [],
   "source": [
    "# # consider individual i: what is the counterfactual of y_i?\n",
    "# # here, in ST, want the STRUCTURAL COUNTERFACTUAL x_scf, not too interested in y_scf\n",
    "# # because want to match x_scf with those that don't share the protected attribute memebership of i\n",
    "# i = 3\n",
    "# data.loc[i, ]\n",
    "\n",
    "# # Step 1: Abduction\n",
    "# # Get U's given the evidence X's [assuming causal sufficiency and, ofc, a known causal graph]\n",
    "\n",
    "# # u1 given x1: from Fig.1, x1 = u1 and thus u1 = x1\n",
    "# u1_i = data.loc[i, 'X1']\n",
    "# print(u1_i)\n",
    "\n",
    "# # u2 given x2: from Fig.1, x2 = (3/10)*x1 + u2 and thus u2 = x2 - (3/10)*x1\n",
    "# u2_i = data.loc[i, 'X2'] - (3/10)*data.loc[i, 'X1']\n",
    "# print(u2_i)\n",
    "\n",
    "# # Step 2: Action\n",
    "# # Given the SCM, intervene it accordingly using the do-operator \n",
    "# delta = 5000\n",
    "\n",
    "# # Org SCM M:\n",
    "# # x1 = u1             [salary]\n",
    "# # x2 = (3/10)*x1 + u2 [balance]\n",
    "\n",
    "# # do(X1 := X1 + delta), then M':\n",
    "# # X1' := X1 + delta\n",
    "# # X2 = (3/10)*X1' + U2\n",
    "\n",
    "# # Step 3: Prediction (notice at at i-level)\n",
    "# # Apply the chagnes on M' and get the scf tuple \n",
    "\n",
    "# x1_i_scf = data.loc[i, 'X1'] + delta\n",
    "# print(x1_i_scf)\n",
    "\n",
    "# x2_i_scf = (3/10)*x1_i_scf + u2_i\n",
    "# print(x2_i_scf)\n",
    "\n",
    "# print(data.loc[i, 'Y'])\n",
    "# # vs\n",
    "# print(np.sign(x1_i_scf + 5*x2_i_scf - 225000))"
   ]
  },
  {
   "cell_type": "code",
   "execution_count": null,
   "metadata": {},
   "outputs": [],
   "source": []
  },
  {
   "cell_type": "markdown",
   "metadata": {},
   "source": [
    "### TODO...\n",
    "\n",
    "with the DAG: X1->Y, X1->X2, X->Y, A->X1, A->X2 such that $A$ is gender (A=1 female, A=0 male)."
   ]
  },
  {
   "cell_type": "code",
   "execution_count": null,
   "metadata": {},
   "outputs": [],
   "source": [
    "p_men = 0.65\n",
    "uA = random.choices(population=[0, 1], weights=[p_men, (1 - p_men)], k=n)\n",
    "plt.hist(uA)"
   ]
  },
  {
   "cell_type": "code",
   "execution_count": null,
   "metadata": {},
   "outputs": [],
   "source": [
    "#u1 = 10000*np.random.poisson(lam=10, size=n)\n",
    "#u2 = 2500*np.random.normal(loc=0.0, scale=1.0, size=n)\n",
    "#uA = see previous cell!\n",
    "\n",
    "# gender \n",
    "A = np.asanyarray(uA)\n",
    "# and its weights (systematic issue) | we avoid direct effects (as it would be ilegal and inline with Hecker's view)\n",
    "beta1 = -9500\n",
    "beta2 = -500\n",
    "\n",
    "# annual salary\n",
    "n_x1 = lambda_1*u1 + beta1*A\n",
    "# account balance\n",
    "n_x2 = (3/10)*n_x1 + lambda_2*u2 + beta2*A\n",
    "# loan approval\n",
    "n_y = np.sign(n_x1 + 5*n_x2 - 225000)"
   ]
  },
  {
   "cell_type": "code",
   "execution_count": null,
   "metadata": {},
   "outputs": [],
   "source": [
    "# plot the factual distribution\n",
    "plt.hist(n_y)"
   ]
  },
  {
   "cell_type": "code",
   "execution_count": null,
   "metadata": {},
   "outputs": [],
   "source": [
    "# store data for testing RStan \n",
    "d_test = {'LoanApproval': n_y, \n",
    "          'AnnualSalary': n_x1, \n",
    "          'AccountBalance': n_x2,\n",
    "          'Gender': A,\n",
    "          'u1': u1,\n",
    "          'l_u1': lambda_1*u1,\n",
    "          'u2': u2,\n",
    "          'l_u2': lambda_2*u2}\n",
    "data_test = pd.DataFrame(d_test)\n",
    "data_test.head(10)"
   ]
  },
  {
   "cell_type": "code",
   "execution_count": null,
   "metadata": {},
   "outputs": [],
   "source": [
    "# store in data folder\n",
    "data_test.to_csv(data_path + '\\\\' + 'Karimi2020_v2.csv', sep='|', index=False)"
   ]
  },
  {
   "cell_type": "code",
   "execution_count": null,
   "metadata": {},
   "outputs": [],
   "source": []
  },
  {
   "cell_type": "code",
   "execution_count": null,
   "metadata": {},
   "outputs": [],
   "source": [
    "# make a dataset for the observables*\n",
    "# *include unobservables too... here, imagine you ran the MCMC before and estimated u|evidence\n",
    "d = {'Y': y, 'X1': x1, 'X2': x2, \n",
    "     'Gender': A, 'nY': n_y, 'nX1': n_x1, 'nX2': n_x2,\n",
    "     'U1_hat': u1, 'U2_hat': u2, 'uA': uA}\n",
    "data = pd.DataFrame(d)\n",
    "data.head(10)"
   ]
  },
  {
   "cell_type": "code",
   "execution_count": null,
   "metadata": {},
   "outputs": [],
   "source": [
    "# total of females\n",
    "n_f = data[data['Gender']==1].shape[0]\n",
    "# total of males\n",
    "n_m = data[data['Gender']==0].shape[0]\n",
    "\n",
    "# unbiased\n",
    "print('female unbiased')\n",
    "print(data[(data['Gender']==1) & (data['Y']==1)].shape[0] / n_f)\n",
    "print('male unbiased')\n",
    "print(data[(data['Gender']==0) & (data['Y']==1)].shape[0] / n_m)\n",
    "\n",
    "# biased\n",
    "print('female biased')\n",
    "print(data[(data['Gender']==1) & (data['nY']==1)].shape[0] / n_f)\n",
    "print('male biased')\n",
    "print(data[(data['Gender']==0) & (data['nY']==1)].shape[0] / n_m)\n",
    "\n",
    "# TODO: would this show in a trained model?"
   ]
  },
  {
   "cell_type": "code",
   "execution_count": null,
   "metadata": {},
   "outputs": [],
   "source": []
  },
  {
   "cell_type": "code",
   "execution_count": null,
   "metadata": {},
   "outputs": [],
   "source": []
  },
  {
   "cell_type": "code",
   "execution_count": null,
   "metadata": {},
   "outputs": [],
   "source": []
  },
  {
   "cell_type": "markdown",
   "metadata": {},
   "source": [
    "### Would this translate into some trained model?"
   ]
  },
  {
   "cell_type": "code",
   "execution_count": null,
   "metadata": {},
   "outputs": [],
   "source": [
    "from sklearn.pipeline import Pipeline\n",
    "from sklearn.metrics import accuracy_score, confusion_matrix\n",
    "from sklearn.linear_model import LogisticRegression, Lasso\n",
    "# from sklearn.preprocessing import LabelEncoder, StandardScaler\n",
    "# from sklearn.metrics import accuracy_score, precision_score, recall_score, roc_auc_score\n",
    "from sklearn.model_selection import train_test_split\n",
    "# from sklearn.svm import SVC\n",
    "# from sklearn.ensemble import RandomForestClassifier, GradientBoostingClassifier\n",
    "# from sklearn.neural_network import MLPClassifier\n",
    "# from sklearn.tree import DecisionTreeClassifier\n",
    "# from xgboost import XGBRegressor, XGBClassifier\n",
    "# from catboost import CatBoostClassifier"
   ]
  },
  {
   "cell_type": "code",
   "execution_count": null,
   "metadata": {},
   "outputs": [],
   "source": [
    "data.columns"
   ]
  },
  {
   "cell_type": "code",
   "execution_count": null,
   "metadata": {},
   "outputs": [],
   "source": [
    "u_data = data[['Y', 'X1', 'X2', 'Gender']].copy()\n",
    "print(u_data.shape)\n",
    "\n",
    "b_data = data[['nY', 'nX1', 'nX2', 'Gender']].copy()\n",
    "print(b_data.shape)"
   ]
  },
  {
   "cell_type": "code",
   "execution_count": null,
   "metadata": {},
   "outputs": [],
   "source": [
    "# todo: let's do a simple logit here, later we can reuse the FairEncoder code and streamline multiple models\n",
    "# todo: also create an utils files accordingly\n",
    "# todo: get comfortable with Pipeline\n",
    "\n",
    "b_data['nY2'] = np.where(b_data['nY']==-1, 0 ,b_data['nY'])\n",
    "print(b_data[['nY', 'nY2']].head(10))\n",
    "\n",
    "targets = ['nY2', 'nY']\n",
    "y = b_data['nY2']\n",
    "X = b_data.drop(columns=targets)"
   ]
  },
  {
   "cell_type": "code",
   "execution_count": null,
   "metadata": {},
   "outputs": [],
   "source": [
    "X_tr, X_te, y_tr, y_te = train_test_split(X, y, test_size=0.5, random_state=42)"
   ]
  },
  {
   "cell_type": "code",
   "execution_count": null,
   "metadata": {},
   "outputs": [],
   "source": [
    "clf = LogisticRegression(random_state=0).fit(X_tr, y_tr.values.ravel())"
   ]
  },
  {
   "cell_type": "code",
   "execution_count": null,
   "metadata": {},
   "outputs": [],
   "source": [
    "clf.coef_"
   ]
  },
  {
   "cell_type": "code",
   "execution_count": null,
   "metadata": {},
   "outputs": [],
   "source": [
    "y_pr = clf.predict(X_te)"
   ]
  },
  {
   "cell_type": "code",
   "execution_count": null,
   "metadata": {},
   "outputs": [],
   "source": [
    "conf_matrix = confusion_matrix(y_pr, y_te)\n",
    "conf_matrix"
   ]
  },
  {
   "cell_type": "code",
   "execution_count": null,
   "metadata": {},
   "outputs": [],
   "source": [
    "# todo: move later to some utils.py files \n",
    "def calculate_cm(true, preds):\n",
    "    \n",
    "    # Obtain the confusion matrix\n",
    "    cm = confusion_matrix(preds, true)\n",
    "    \n",
    "    # Return all\n",
    "    cm_dict = dict()\n",
    "\n",
    "    #  https://stackoverflow.com/questions/31324218/scikit-learn-how-to-obtain-true-positive-true-negative-false-positive-and-fal\n",
    "    FP = cm.sum(axis=0) - np.diag(cm)\n",
    "    cm_dict['FP'] = FP\n",
    "    FN = cm.sum(axis=1) - np.diag(cm)\n",
    "    cm_dict['FN'] = FN\n",
    "    TP = np.diag(cm)\n",
    "    cm_dict['TP'] = TP\n",
    "    TN = cm.sum() - (FP + FN + TP)\n",
    "    cm_dict['TN'] = TN\n",
    "    \n",
    "    # Sensitivity, hit rate, recall, or true positive rate\n",
    "    TPR = TP / (TP + FN)\n",
    "    cm_dict['TPR'] = TPR\n",
    "    # Specificity or true negative rate\n",
    "    TNR = TN / (TN + FP)\n",
    "    cm_dict['TNR'] = TNR\n",
    "    \n",
    "    # todo: expand dict for others\n",
    "    # Precision or positive predictive valbue\n",
    "    PPV = TP / (TP + FP)\n",
    "    # Negative predictive value\n",
    "    NPV = TN / (TN + FN)\n",
    "    # Fall out or false positive rate\n",
    "    FPR = FP / (FP + TN)\n",
    "    # False negative rate\n",
    "    FNR = FN / (TP + FN)\n",
    "    # False discovery rate\n",
    "    FDR = FP / (TP + FP)\n",
    "\n",
    "    # Overall accuracy\n",
    "    ACC = (TP + TN) / (TP + FP + FN + TN)\n",
    "\n",
    "    #return cm_dict\n",
    "    return TPR[0] #esto esta bien!"
   ]
  },
  {
   "cell_type": "code",
   "execution_count": null,
   "metadata": {},
   "outputs": [],
   "source": [
    "# reference group (males, or A=0): group 2\n",
    "aux = X_te.copy()\n",
    "aux['target'] = y_te\n",
    "\n",
    "# Filter the data\n",
    "g1 = X_te[X_te['Gender'] == 1]\n",
    "g2 = X_te[X_te['Gender'] == 0]\n",
    "\n",
    "# Filter the ground truth\n",
    "g1_true = aux[aux['Gender'] == 1].target\n",
    "g2_true = aux[aux['Gender'] == 0].target\n",
    "\n",
    "# Do predictions\n",
    "p1 = clf.predict(g1)\n",
    "p2 = clf.predict(g2)\n",
    "\n",
    "# Extract metrics for each group | here, taking the true positive rate\n",
    "res1 = calculate_cm(p1, g1_true)\n",
    "print(res1)\n",
    "res2 = calculate_cm(p2, g2_true)\n",
    "print(res2)\n",
    "\n",
    "res1 - res2"
   ]
  },
  {
   "cell_type": "code",
   "execution_count": null,
   "metadata": {},
   "outputs": [],
   "source": [
    "#https://www.analyticsvidhya.com/blog/2020/04/confusion-matrix-machine-learning/\n",
    "# TPR = TP / (TP + FP)\n",
    "\n",
    "print(confusion_matrix(p1, g1_true))\n",
    "tpr_1 = confusion_matrix(p1, g1_true)[0][0] / (confusion_matrix(p1, g1_true)[0][0] + confusion_matrix(p1, g1_true)[0][1])\n",
    "print(tpr_1)\n",
    "\n",
    "print(confusion_matrix(p2, g2_true))\n",
    "tpr_2 = confusion_matrix(p2, g2_true)[0][0] / (confusion_matrix(p2, g2_true)[0][0] + confusion_matrix(p2, g2_true)[0][1])\n",
    "print(tpr_2)"
   ]
  },
  {
   "cell_type": "code",
   "execution_count": null,
   "metadata": {},
   "outputs": [],
   "source": []
  },
  {
   "cell_type": "code",
   "execution_count": null,
   "metadata": {},
   "outputs": [],
   "source": [
    "def metric_calculator(model, data: pd.DataFrame, truth: pd.DataFrame, col: str, group1, group2):\n",
    "    #reference group is group2!!\n",
    "    \n",
    "    aux = data.copy()\n",
    "    aux[\"target\"] = truth\n",
    "\n",
    "    # Filter the data\n",
    "    g1 = data[data[col] == group1]\n",
    "    g2 = data[data[col] == group2]\n",
    "\n",
    "    # Filter the ground truth\n",
    "    g1_true = aux[aux[col] == group1].target\n",
    "    g2_true = aux[aux[col] == group2].target\n",
    "\n",
    "    # Do predictions\n",
    "    p1 = model.predict(g1)\n",
    "    p2 = model.predict(g2)\n",
    "\n",
    "    # Extract metrics for each group | here, taking the true positive rate\n",
    "    res1 = calculate_cm(p1, g1_true)\n",
    "    print(res1)\n",
    "    res2 = calculate_cm(p2, g2_true)\n",
    "    print(res2)\n",
    "    \n",
    "    return res1 - res2"
   ]
  },
  {
   "cell_type": "code",
   "execution_count": null,
   "metadata": {},
   "outputs": [],
   "source": [
    "metric_calculator(model=clf, data=X_te, truth=y_te, col='Gender', group1=1, group2=0)"
   ]
  },
  {
   "cell_type": "code",
   "execution_count": null,
   "metadata": {},
   "outputs": [],
   "source": [
    "metric_calculator(model=clf, data=X_tr, truth=y_tr, col='Gender', group1=1, group2=0)"
   ]
  },
  {
   "cell_type": "code",
   "execution_count": null,
   "metadata": {},
   "outputs": [],
   "source": []
  }
 ],
 "metadata": {
  "kernelspec": {
   "display_name": "fair_ml",
   "language": "python",
   "name": "fair_ml"
  },
  "language_info": {
   "codemirror_mode": {
    "name": "ipython",
    "version": 3
   },
   "file_extension": ".py",
   "mimetype": "text/x-python",
   "name": "python",
   "nbconvert_exporter": "python",
   "pygments_lexer": "ipython3",
   "version": "3.8.5"
  }
 },
 "nbformat": 4,
 "nbformat_minor": 4
}
