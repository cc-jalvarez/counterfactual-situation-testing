{
 "cells": [
  {
   "cell_type": "markdown",
   "metadata": {},
   "source": [
    "Working script for cfST\n",
    "\n",
    "Use to greate the functions from_groups(), test_disc()... part of run_cfST()\n",
    "\n",
    "From Salvatore's paper: \"it boils down to the Manhattan distance of z-scores\""
   ]
  },
  {
   "cell_type": "code",
   "execution_count": 1,
   "metadata": {},
   "outputs": [],
   "source": [
    "import os\n",
    "import pandas as pd\n",
    "import numpy as np\n",
    "import matplotlib.pyplot as plt\n",
    "\n",
    "from sklearn.neighbors import NearestNeighbors\n",
    "from sklearn import preprocessing"
   ]
  },
  {
   "cell_type": "code",
   "execution_count": 2,
   "metadata": {},
   "outputs": [],
   "source": [
    "# set working directory - note: all code runs from the src folder\n",
    "wrk_dir = os.getcwd()\n",
    "# data path\n",
    "data_path = wrk_dir + '\\\\' + 'data' + '\\\\'\n",
    "# results path\n",
    "resu_path = wrk_dir + '\\\\' + 'results\\\\counterfactuals' + '\\\\'"
   ]
  },
  {
   "cell_type": "code",
   "execution_count": 22,
   "metadata": {},
   "outputs": [
    {
     "name": "stdout",
     "output_type": "stream",
     "text": [
      "(4993, 6)\n",
      "(4993, 6)\n"
     ]
    }
   ],
   "source": [
    "df    = pd.read_csv(data_path + 'Karimi2020_v2.csv', sep='|', )\n",
    "print(df.shape)\n",
    "cf_df = pd.read_csv(resu_path + 'cf_Karimi2020_v2.csv', sep='|', )\n",
    "print(cf_df.shape)"
   ]
  },
  {
   "cell_type": "code",
   "execution_count": 4,
   "metadata": {},
   "outputs": [
    {
     "data": {
      "text/plain": [
       "34.288"
      ]
     },
     "execution_count": 4,
     "metadata": {},
     "output_type": "execute_result"
    }
   ],
   "source": [
    "round(df[df['Gender']==1].shape[0]/df.shape[0]*100, 3) # perc. of women in df\n",
    "#df[df['Gender']==0].shape[0]/df.shape[0]*100"
   ]
  },
  {
   "cell_type": "code",
   "execution_count": null,
   "metadata": {},
   "outputs": [],
   "source": [
    "# plt.hist(df['LoanApproval'])\n",
    "# plt.hist(cf_df['LoanApproval']) # number of denied loans drops!"
   ]
  },
  {
   "cell_type": "code",
   "execution_count": 5,
   "metadata": {},
   "outputs": [
    {
     "name": "stdout",
     "output_type": "stream",
     "text": [
      "13.498898457840976\n",
      "--- vs ---\n",
      "21.029441217704786\n"
     ]
    }
   ],
   "source": [
    "print(df[(df['Gender']==1) & (df['LoanApproval']==1)].shape[0]/df.shape[0]*100)\n",
    "print('--- vs ---')\n",
    "print(cf_df[(cf_df['Gender']==1) & (cf_df['LoanApproval']==1)].shape[0]/cf_df.shape[0]*100)"
   ]
  },
  {
   "cell_type": "code",
   "execution_count": 6,
   "metadata": {},
   "outputs": [
    {
     "data": {
      "text/plain": [
       "['LoanApproval', 'AnnualSalary', 'AccountBalance', 'Gender']"
      ]
     },
     "execution_count": 6,
     "metadata": {},
     "output_type": "execute_result"
    }
   ],
   "source": [
    "feat_trgt = ['LoanApproval']\n",
    "# feat_rlvt = ['AnnualSalary']\n",
    "feat_rlvt = ['AnnualSalary', 'AccountBalance']\n",
    "feat_prot = 'Gender' # extend later for more than one (intersectionality???)\n",
    "feat_prot_vals = {'non_prot': 0, 'prot': 1}\n",
    "\n",
    "# future params!\n",
    "# protected_group = {'Gender': 1} \n",
    "n = 10 # determine by power analysis? (future extension)\n",
    "d = 'manhattan' # ‘manhattan’ - see https://scikit-learn.org/stable/modules/generated/sklearn.metrics.pairwise.distance_metrics.html\n",
    "\n",
    "feat_list = feat_trgt + feat_rlvt\n",
    "feat_list.append(feat_prot)\n",
    "feat_list"
   ]
  },
  {
   "cell_type": "code",
   "execution_count": 39,
   "metadata": {},
   "outputs": [],
   "source": [
    "# TODO: we'll need a prepocessing step\n",
    "# normalize option; weighted option\n",
    "\n",
    "weights = None\n",
    "# else weights = {} where len(weights) != len(rlvt_feat): exit\n",
    "standardize = True"
   ]
  },
  {
   "cell_type": "markdown",
   "metadata": {},
   "source": [
    "Under counterfactual situation testing, for the protected group we need to create two groups: a *control group* (CG) centered on the factuals and a *test group* (TG) centered on the counterfactuals. In practice, this means that we take individual women and compare them to other similar women using some distance $d_1$ to construct CG, while we take their corresponding counterfactuals and compare them to similar men using some distance $d_2$. We start off with $d_1=d_2$. We create the groups using a KNN algorithm.\n",
    "\n",
    "Under this approach, rather than centering both CG and TG on the same (factual) instance, we construct the hypothetical group (*what would have happened had the female individual been male?*) by allowing for all variables to adjust due to the change in $A$. This is our implementation of what Kohler defined as *fairness given the difference* and what she arguess through her Eddie Murphy paper."
   ]
  },
  {
   "cell_type": "code",
   "execution_count": 40,
   "metadata": {},
   "outputs": [
    {
     "name": "stdout",
     "output_type": "stream",
     "text": [
      "(1712, 2)\n",
      "(3281, 2)\n"
     ]
    }
   ],
   "source": [
    "# 1) Setup the respectice search spaces for control (ctr) and test (tst) groups\n",
    "\n",
    "# note: i just want the relevent features here... not all X!\n",
    "\n",
    "search_ctr_group = df[df[feat_prot]==feat_prot_vals['prot']][feat_rlvt].copy()  #[feat_list]\n",
    "print(search_ctr_group.shape)\n",
    "\n",
    "search_tst_group = cf_df[cf_df[feat_prot]==feat_prot_vals['non_prot']][feat_rlvt].copy()\n",
    "print(search_tst_group.shape)\n"
   ]
  },
  {
   "cell_type": "code",
   "execution_count": 41,
   "metadata": {},
   "outputs": [
    {
     "data": {
      "text/html": [
       "<div>\n",
       "<style scoped>\n",
       "    .dataframe tbody tr th:only-of-type {\n",
       "        vertical-align: middle;\n",
       "    }\n",
       "\n",
       "    .dataframe tbody tr th {\n",
       "        vertical-align: top;\n",
       "    }\n",
       "\n",
       "    .dataframe thead th {\n",
       "        text-align: right;\n",
       "    }\n",
       "</style>\n",
       "<table border=\"1\" class=\"dataframe\">\n",
       "  <thead>\n",
       "    <tr style=\"text-align: right;\">\n",
       "      <th></th>\n",
       "      <th>AnnualSalary</th>\n",
       "      <th>AccountBalance</th>\n",
       "    </tr>\n",
       "  </thead>\n",
       "  <tbody>\n",
       "    <tr>\n",
       "      <th>0</th>\n",
       "      <td>35000</td>\n",
       "      <td>7947.678090</td>\n",
       "    </tr>\n",
       "    <tr>\n",
       "      <th>4</th>\n",
       "      <td>201000</td>\n",
       "      <td>59008.567839</td>\n",
       "    </tr>\n",
       "    <tr>\n",
       "      <th>5</th>\n",
       "      <td>102000</td>\n",
       "      <td>26000.811689</td>\n",
       "    </tr>\n",
       "    <tr>\n",
       "      <th>6</th>\n",
       "      <td>68000</td>\n",
       "      <td>15064.447848</td>\n",
       "    </tr>\n",
       "    <tr>\n",
       "      <th>9</th>\n",
       "      <td>84500</td>\n",
       "      <td>21275.931413</td>\n",
       "    </tr>\n",
       "    <tr>\n",
       "      <th>...</th>\n",
       "      <td>...</td>\n",
       "      <td>...</td>\n",
       "    </tr>\n",
       "    <tr>\n",
       "      <th>4982</th>\n",
       "      <td>69500</td>\n",
       "      <td>19934.430626</td>\n",
       "    </tr>\n",
       "    <tr>\n",
       "      <th>4985</th>\n",
       "      <td>46500</td>\n",
       "      <td>9090.839963</td>\n",
       "    </tr>\n",
       "    <tr>\n",
       "      <th>4987</th>\n",
       "      <td>99000</td>\n",
       "      <td>31274.211511</td>\n",
       "    </tr>\n",
       "    <tr>\n",
       "      <th>4989</th>\n",
       "      <td>125000</td>\n",
       "      <td>35574.858747</td>\n",
       "    </tr>\n",
       "    <tr>\n",
       "      <th>4990</th>\n",
       "      <td>62000</td>\n",
       "      <td>18376.501668</td>\n",
       "    </tr>\n",
       "  </tbody>\n",
       "</table>\n",
       "<p>1712 rows × 2 columns</p>\n",
       "</div>"
      ],
      "text/plain": [
       "      AnnualSalary  AccountBalance\n",
       "0            35000     7947.678090\n",
       "4           201000    59008.567839\n",
       "5           102000    26000.811689\n",
       "6            68000    15064.447848\n",
       "9            84500    21275.931413\n",
       "...            ...             ...\n",
       "4982         69500    19934.430626\n",
       "4985         46500     9090.839963\n",
       "4987         99000    31274.211511\n",
       "4989        125000    35574.858747\n",
       "4990         62000    18376.501668\n",
       "\n",
       "[1712 rows x 2 columns]"
      ]
     },
     "execution_count": 41,
     "metadata": {},
     "output_type": "execute_result"
    }
   ],
   "source": [
    "search_ctr_group"
   ]
  },
  {
   "cell_type": "code",
   "execution_count": 60,
   "metadata": {},
   "outputs": [],
   "source": [
    "if standardize:\n",
    "\n",
    "    scaler = preprocessing.StandardScaler()\n",
    "    \n",
    "    search_ctr_group_scaled = scaler.fit_transform(search_ctr_group)\n",
    "    search_ctr_group_scaled = pd.DataFrame(search_ctr_group_scaled, \n",
    "                                           index=search_ctr_group.index, \n",
    "                                           columns=search_ctr_group.columns)\n",
    "\n",
    "    search_ctr_group = search_ctr_group_scaled\n",
    "    del search_ctr_group_scaled\n",
    "    \n",
    "    search_tst_group_scaled = scaler.fit_transform(search_tst_group)\n",
    "    search_tst_group_scaled = pd.DataFrame(search_tst_group_scaled, \n",
    "                                           index=search_tst_group.index, \n",
    "                                           columns=search_tst_group.columns)\n",
    "\n",
    "    search_tst_group = search_tst_group_scaled\n",
    "    del search_tst_group_scaled\n",
    "\n",
    "if weights:\n",
    "    print('todo')\n"
   ]
  },
  {
   "cell_type": "code",
   "execution_count": 43,
   "metadata": {},
   "outputs": [],
   "source": [
    "# keep track of old / new indices: KNN seems to retunr indices that are absolute (?)\n",
    "search_ctr_group.reset_index(inplace=True, )\n",
    "search_ctr_group.rename(columns={'index': 'org_index'}, inplace=True)\n",
    "\n",
    "search_tst_group.reset_index(inplace=True, )\n",
    "search_tst_group.rename(columns={'index': 'org_index'}, inplace=True)"
   ]
  },
  {
   "cell_type": "code",
   "execution_count": 44,
   "metadata": {},
   "outputs": [
    {
     "data": {
      "text/html": [
       "<div>\n",
       "<style scoped>\n",
       "    .dataframe tbody tr th:only-of-type {\n",
       "        vertical-align: middle;\n",
       "    }\n",
       "\n",
       "    .dataframe tbody tr th {\n",
       "        vertical-align: top;\n",
       "    }\n",
       "\n",
       "    .dataframe thead th {\n",
       "        text-align: right;\n",
       "    }\n",
       "</style>\n",
       "<table border=\"1\" class=\"dataframe\">\n",
       "  <thead>\n",
       "    <tr style=\"text-align: right;\">\n",
       "      <th></th>\n",
       "      <th>org_index</th>\n",
       "      <th>AnnualSalary</th>\n",
       "      <th>AccountBalance</th>\n",
       "    </tr>\n",
       "  </thead>\n",
       "  <tbody>\n",
       "    <tr>\n",
       "      <th>0</th>\n",
       "      <td>0</td>\n",
       "      <td>-1.576557</td>\n",
       "      <td>-1.671135</td>\n",
       "    </tr>\n",
       "    <tr>\n",
       "      <th>1</th>\n",
       "      <td>4</td>\n",
       "      <td>3.672421</td>\n",
       "      <td>3.546198</td>\n",
       "    </tr>\n",
       "    <tr>\n",
       "      <th>2</th>\n",
       "      <td>5</td>\n",
       "      <td>0.542006</td>\n",
       "      <td>0.173510</td>\n",
       "    </tr>\n",
       "    <tr>\n",
       "      <th>3</th>\n",
       "      <td>6</td>\n",
       "      <td>-0.533085</td>\n",
       "      <td>-0.943953</td>\n",
       "    </tr>\n",
       "    <tr>\n",
       "      <th>4</th>\n",
       "      <td>9</td>\n",
       "      <td>-0.011350</td>\n",
       "      <td>-0.309272</td>\n",
       "    </tr>\n",
       "  </tbody>\n",
       "</table>\n",
       "</div>"
      ],
      "text/plain": [
       "   org_index  AnnualSalary  AccountBalance\n",
       "0          0     -1.576557       -1.671135\n",
       "1          4      3.672421        3.546198\n",
       "2          5      0.542006        0.173510\n",
       "3          6     -0.533085       -0.943953\n",
       "4          9     -0.011350       -0.309272"
      ]
     },
     "execution_count": 44,
     "metadata": {},
     "output_type": "execute_result"
    }
   ],
   "source": [
    "search_ctr_group.head(5)"
   ]
  },
  {
   "cell_type": "code",
   "execution_count": 45,
   "metadata": {},
   "outputs": [
    {
     "data": {
      "text/html": [
       "<div>\n",
       "<style scoped>\n",
       "    .dataframe tbody tr th:only-of-type {\n",
       "        vertical-align: middle;\n",
       "    }\n",
       "\n",
       "    .dataframe tbody tr th {\n",
       "        vertical-align: top;\n",
       "    }\n",
       "\n",
       "    .dataframe thead th {\n",
       "        text-align: right;\n",
       "    }\n",
       "</style>\n",
       "<table border=\"1\" class=\"dataframe\">\n",
       "  <thead>\n",
       "    <tr style=\"text-align: right;\">\n",
       "      <th></th>\n",
       "      <th>org_index</th>\n",
       "      <th>AnnualSalary</th>\n",
       "      <th>AccountBalance</th>\n",
       "    </tr>\n",
       "  </thead>\n",
       "  <tbody>\n",
       "    <tr>\n",
       "      <th>0</th>\n",
       "      <td>1</td>\n",
       "      <td>0.595142</td>\n",
       "      <td>0.670098</td>\n",
       "    </tr>\n",
       "    <tr>\n",
       "      <th>1</th>\n",
       "      <td>2</td>\n",
       "      <td>-0.327811</td>\n",
       "      <td>-0.661134</td>\n",
       "    </tr>\n",
       "    <tr>\n",
       "      <th>2</th>\n",
       "      <td>3</td>\n",
       "      <td>-0.635462</td>\n",
       "      <td>-0.259809</td>\n",
       "    </tr>\n",
       "    <tr>\n",
       "      <th>3</th>\n",
       "      <td>7</td>\n",
       "      <td>1.210443</td>\n",
       "      <td>1.543611</td>\n",
       "    </tr>\n",
       "    <tr>\n",
       "      <th>4</th>\n",
       "      <td>8</td>\n",
       "      <td>-0.943112</td>\n",
       "      <td>-0.762996</td>\n",
       "    </tr>\n",
       "  </tbody>\n",
       "</table>\n",
       "</div>"
      ],
      "text/plain": [
       "   org_index  AnnualSalary  AccountBalance\n",
       "0          1      0.595142        0.670098\n",
       "1          2     -0.327811       -0.661134\n",
       "2          3     -0.635462       -0.259809\n",
       "3          7      1.210443        1.543611\n",
       "4          8     -0.943112       -0.762996"
      ]
     },
     "execution_count": 45,
     "metadata": {},
     "output_type": "execute_result"
    }
   ],
   "source": [
    "search_tst_group.head(5)"
   ]
  },
  {
   "cell_type": "code",
   "execution_count": 46,
   "metadata": {},
   "outputs": [],
   "source": [
    "# start the main function here\n",
    "\n",
    "# store neighboors here\n",
    "dict_df_neighbors = {}"
   ]
  },
  {
   "cell_type": "code",
   "execution_count": 47,
   "metadata": {},
   "outputs": [
    {
     "name": "stdout",
     "output_type": "stream",
     "text": [
      "AnnualSalary      35000.00000\n",
      "AccountBalance     7947.67809\n",
      "Name: 0, dtype: float64\n",
      "AnnualSalary      50796.35\n",
      "AccountBalance    13852.05\n",
      "Name: 0, dtype: float64\n",
      "[[35000.          7947.67808994]]\n",
      "[[50796.35 13852.05]]\n"
     ]
    }
   ],
   "source": [
    "# 2) For eahc ind(ividual) set the centers\n",
    "\n",
    "ind = 0 # start loop or map get_neighboors()\n",
    "\n",
    "# for storing the neighboors \n",
    "temp_dict_df_neighbors = {}\n",
    "\n",
    "# get ctr center from factual df\n",
    "center_ctr = df.loc[ind, feat_rlvt]\n",
    "print(center_ctr)\n",
    "\n",
    "# get tst center from counterfactual df \n",
    "center_tst = cf_df.loc[ind, feat_rlvt]\n",
    "print(center_tst)\n",
    "\n",
    "# prepare for knn\n",
    "if len(feat_rlvt) > 1:\n",
    "    center_ctr = center_ctr.values.reshape(1, -1)\n",
    "    center_tst = center_tst.values.reshape(1, -1)\n",
    "else:\n",
    "    center_ctr = center_ctr.values.reshape(-1, 1)\n",
    "    center_tst = center_tst.values.reshape(-1, 1)\n",
    "\n",
    "print(center_ctr)\n",
    "print(center_tst)"
   ]
  },
  {
   "cell_type": "code",
   "execution_count": 48,
   "metadata": {},
   "outputs": [
    {
     "data": {
      "text/plain": [
       "NearestNeighbors(algorithm='ball_tree', metric='manhattan', n_neighbors=11)"
      ]
     },
     "execution_count": 48,
     "metadata": {},
     "output_type": "execute_result"
    }
   ],
   "source": [
    "# 3) Control Group for ind\n",
    "\n",
    "# NOTE: by default, the control group search space will include ind, which will appear as a neighbor (distrance will be 0.0)\n",
    "knn_1 = NearestNeighbors(n_neighbors = n + 1, algorithm='ball_tree', metric = d).fit(search_ctr_group[feat_rlvt])\n",
    "knn_1"
   ]
  },
  {
   "cell_type": "code",
   "execution_count": 49,
   "metadata": {},
   "outputs": [],
   "source": [
    "distances_1, indices_1 = knn_1.kneighbors(center_ctr)"
   ]
  },
  {
   "cell_type": "code",
   "execution_count": 50,
   "metadata": {},
   "outputs": [
    {
     "data": {
      "text/plain": [
       "array([[42940.45947166, 42940.48034223, 42941.16610609, 42941.64203516,\n",
       "        42941.6759016 , 42942.057525  , 42942.16914649, 42942.18342902,\n",
       "        42942.30121395, 42942.33593805, 42942.55497174]])"
      ]
     },
     "execution_count": 50,
     "metadata": {},
     "output_type": "execute_result"
    }
   ],
   "source": [
    "distances_1"
   ]
  },
  {
   "cell_type": "code",
   "execution_count": 51,
   "metadata": {},
   "outputs": [
    {
     "data": {
      "text/plain": [
       "array([[   1, 1204,  473, 1665,   53, 1690,  260,  910,  405, 1689,  606]],\n",
       "      dtype=int64)"
      ]
     },
     "execution_count": 51,
     "metadata": {},
     "output_type": "execute_result"
    }
   ],
   "source": [
    "indices_1"
   ]
  },
  {
   "cell_type": "code",
   "execution_count": 52,
   "metadata": {},
   "outputs": [
    {
     "data": {
      "text/html": [
       "<div>\n",
       "<style scoped>\n",
       "    .dataframe tbody tr th:only-of-type {\n",
       "        vertical-align: middle;\n",
       "    }\n",
       "\n",
       "    .dataframe tbody tr th {\n",
       "        vertical-align: top;\n",
       "    }\n",
       "\n",
       "    .dataframe thead th {\n",
       "        text-align: right;\n",
       "    }\n",
       "</style>\n",
       "<table border=\"1\" class=\"dataframe\">\n",
       "  <thead>\n",
       "    <tr style=\"text-align: right;\">\n",
       "      <th></th>\n",
       "      <th>knn_indices</th>\n",
       "      <th>knn_distances</th>\n",
       "    </tr>\n",
       "  </thead>\n",
       "  <tbody>\n",
       "    <tr>\n",
       "      <th>0</th>\n",
       "      <td>1</td>\n",
       "      <td>42940.459472</td>\n",
       "    </tr>\n",
       "    <tr>\n",
       "      <th>1</th>\n",
       "      <td>1204</td>\n",
       "      <td>42940.480342</td>\n",
       "    </tr>\n",
       "    <tr>\n",
       "      <th>2</th>\n",
       "      <td>473</td>\n",
       "      <td>42941.166106</td>\n",
       "    </tr>\n",
       "    <tr>\n",
       "      <th>3</th>\n",
       "      <td>1665</td>\n",
       "      <td>42941.642035</td>\n",
       "    </tr>\n",
       "    <tr>\n",
       "      <th>4</th>\n",
       "      <td>53</td>\n",
       "      <td>42941.675902</td>\n",
       "    </tr>\n",
       "    <tr>\n",
       "      <th>5</th>\n",
       "      <td>1690</td>\n",
       "      <td>42942.057525</td>\n",
       "    </tr>\n",
       "    <tr>\n",
       "      <th>6</th>\n",
       "      <td>260</td>\n",
       "      <td>42942.169146</td>\n",
       "    </tr>\n",
       "    <tr>\n",
       "      <th>7</th>\n",
       "      <td>910</td>\n",
       "      <td>42942.183429</td>\n",
       "    </tr>\n",
       "    <tr>\n",
       "      <th>8</th>\n",
       "      <td>405</td>\n",
       "      <td>42942.301214</td>\n",
       "    </tr>\n",
       "    <tr>\n",
       "      <th>9</th>\n",
       "      <td>1689</td>\n",
       "      <td>42942.335938</td>\n",
       "    </tr>\n",
       "    <tr>\n",
       "      <th>10</th>\n",
       "      <td>606</td>\n",
       "      <td>42942.554972</td>\n",
       "    </tr>\n",
       "  </tbody>\n",
       "</table>\n",
       "</div>"
      ],
      "text/plain": [
       "    knn_indices  knn_distances\n",
       "0             1   42940.459472\n",
       "1          1204   42940.480342\n",
       "2           473   42941.166106\n",
       "3          1665   42941.642035\n",
       "4            53   42941.675902\n",
       "5          1690   42942.057525\n",
       "6           260   42942.169146\n",
       "7           910   42942.183429\n",
       "8           405   42942.301214\n",
       "9          1689   42942.335938\n",
       "10          606   42942.554972"
      ]
     },
     "execution_count": 52,
     "metadata": {},
     "output_type": "execute_result"
    }
   ],
   "source": [
    "temp_ctr_df = pd.DataFrame()\n",
    "temp_ctr_df['knn_indices'] = pd.Series(indices_1[0])\n",
    "temp_ctr_df['knn_distances'] = pd.Series(distances_1[0])\n",
    "temp_ctr_df.sort_values(by='knn_distances', ascending=True, inplace=True)\n",
    "# HERE we can drop neighbors based on the distance!\n",
    "temp_ctr_df"
   ]
  },
  {
   "cell_type": "code",
   "execution_count": 53,
   "metadata": {},
   "outputs": [
    {
     "data": {
      "text/html": [
       "<div>\n",
       "<style scoped>\n",
       "    .dataframe tbody tr th:only-of-type {\n",
       "        vertical-align: middle;\n",
       "    }\n",
       "\n",
       "    .dataframe tbody tr th {\n",
       "        vertical-align: top;\n",
       "    }\n",
       "\n",
       "    .dataframe thead th {\n",
       "        text-align: right;\n",
       "    }\n",
       "</style>\n",
       "<table border=\"1\" class=\"dataframe\">\n",
       "  <thead>\n",
       "    <tr style=\"text-align: right;\">\n",
       "      <th></th>\n",
       "      <th>knn_indices</th>\n",
       "      <th>knn_distances</th>\n",
       "      <th>org_index</th>\n",
       "      <th>AnnualSalary</th>\n",
       "      <th>AccountBalance</th>\n",
       "    </tr>\n",
       "  </thead>\n",
       "  <tbody>\n",
       "    <tr>\n",
       "      <th>0</th>\n",
       "      <td>1</td>\n",
       "      <td>42940.459472</td>\n",
       "      <td>4</td>\n",
       "      <td>3.672421</td>\n",
       "      <td>3.546198</td>\n",
       "    </tr>\n",
       "    <tr>\n",
       "      <th>1</th>\n",
       "      <td>1204</td>\n",
       "      <td>42940.480342</td>\n",
       "      <td>3465</td>\n",
       "      <td>3.624990</td>\n",
       "      <td>3.572758</td>\n",
       "    </tr>\n",
       "    <tr>\n",
       "      <th>2</th>\n",
       "      <td>473</td>\n",
       "      <td>42941.166106</td>\n",
       "      <td>1356</td>\n",
       "      <td>3.340407</td>\n",
       "      <td>3.171577</td>\n",
       "    </tr>\n",
       "    <tr>\n",
       "      <th>3</th>\n",
       "      <td>1665</td>\n",
       "      <td>42941.642035</td>\n",
       "      <td>4860</td>\n",
       "      <td>3.340407</td>\n",
       "      <td>2.695648</td>\n",
       "    </tr>\n",
       "    <tr>\n",
       "      <th>4</th>\n",
       "      <td>53</td>\n",
       "      <td>42941.675902</td>\n",
       "      <td>174</td>\n",
       "      <td>3.119065</td>\n",
       "      <td>2.883124</td>\n",
       "    </tr>\n",
       "    <tr>\n",
       "      <th>5</th>\n",
       "      <td>1690</td>\n",
       "      <td>42942.057525</td>\n",
       "      <td>4914</td>\n",
       "      <td>2.676380</td>\n",
       "      <td>2.944185</td>\n",
       "    </tr>\n",
       "    <tr>\n",
       "      <th>6</th>\n",
       "      <td>260</td>\n",
       "      <td>42942.169146</td>\n",
       "      <td>749</td>\n",
       "      <td>2.850292</td>\n",
       "      <td>2.658652</td>\n",
       "    </tr>\n",
       "    <tr>\n",
       "      <th>7</th>\n",
       "      <td>910</td>\n",
       "      <td>42942.183429</td>\n",
       "      <td>2644</td>\n",
       "      <td>2.676380</td>\n",
       "      <td>2.818281</td>\n",
       "    </tr>\n",
       "    <tr>\n",
       "      <th>8</th>\n",
       "      <td>405</td>\n",
       "      <td>42942.301214</td>\n",
       "      <td>1176</td>\n",
       "      <td>2.676380</td>\n",
       "      <td>2.700496</td>\n",
       "    </tr>\n",
       "    <tr>\n",
       "      <th>9</th>\n",
       "      <td>1689</td>\n",
       "      <td>42942.335938</td>\n",
       "      <td>4913</td>\n",
       "      <td>2.407607</td>\n",
       "      <td>2.934545</td>\n",
       "    </tr>\n",
       "    <tr>\n",
       "      <th>10</th>\n",
       "      <td>606</td>\n",
       "      <td>42942.554972</td>\n",
       "      <td>1781</td>\n",
       "      <td>2.534088</td>\n",
       "      <td>2.589030</td>\n",
       "    </tr>\n",
       "  </tbody>\n",
       "</table>\n",
       "</div>"
      ],
      "text/plain": [
       "    knn_indices  knn_distances  org_index  AnnualSalary  AccountBalance\n",
       "0             1   42940.459472          4      3.672421        3.546198\n",
       "1          1204   42940.480342       3465      3.624990        3.572758\n",
       "2           473   42941.166106       1356      3.340407        3.171577\n",
       "3          1665   42941.642035       4860      3.340407        2.695648\n",
       "4            53   42941.675902        174      3.119065        2.883124\n",
       "5          1690   42942.057525       4914      2.676380        2.944185\n",
       "6           260   42942.169146        749      2.850292        2.658652\n",
       "7           910   42942.183429       2644      2.676380        2.818281\n",
       "8           405   42942.301214       1176      2.676380        2.700496\n",
       "9          1689   42942.335938       4913      2.407607        2.934545\n",
       "10          606   42942.554972       1781      2.534088        2.589030"
      ]
     },
     "execution_count": 53,
     "metadata": {},
     "output_type": "execute_result"
    }
   ],
   "source": [
    "# RECALL knn_indices are the same wrt the search space but not wrt org input\n",
    "# we can uss the knn_indices to get the rest of information\n",
    "temp_ctr_df = temp_ctr_df.merge(search_ctr_group, how='inner', left_on='knn_indices', right_index=True)\n",
    "temp_ctr_df\n",
    "\n",
    "# we can. e.g., test on the features of interest as well for ST!\n",
    "\n",
    "# note, maybe join here with the df dataset? you'll get org X and Y too"
   ]
  },
  {
   "cell_type": "code",
   "execution_count": 54,
   "metadata": {},
   "outputs": [
    {
     "data": {
      "text/html": [
       "<div>\n",
       "<style scoped>\n",
       "    .dataframe tbody tr th:only-of-type {\n",
       "        vertical-align: middle;\n",
       "    }\n",
       "\n",
       "    .dataframe tbody tr th {\n",
       "        vertical-align: top;\n",
       "    }\n",
       "\n",
       "    .dataframe thead th {\n",
       "        text-align: right;\n",
       "    }\n",
       "</style>\n",
       "<table border=\"1\" class=\"dataframe\">\n",
       "  <thead>\n",
       "    <tr style=\"text-align: right;\">\n",
       "      <th></th>\n",
       "      <th>knn_indices</th>\n",
       "      <th>knn_distances</th>\n",
       "      <th>org_index</th>\n",
       "      <th>AnnualSalary</th>\n",
       "      <th>AccountBalance</th>\n",
       "    </tr>\n",
       "  </thead>\n",
       "  <tbody>\n",
       "    <tr>\n",
       "      <th>0</th>\n",
       "      <td>1</td>\n",
       "      <td>42940.459472</td>\n",
       "      <td>4</td>\n",
       "      <td>3.672421</td>\n",
       "      <td>3.546198</td>\n",
       "    </tr>\n",
       "    <tr>\n",
       "      <th>1</th>\n",
       "      <td>1204</td>\n",
       "      <td>42940.480342</td>\n",
       "      <td>3465</td>\n",
       "      <td>3.624990</td>\n",
       "      <td>3.572758</td>\n",
       "    </tr>\n",
       "    <tr>\n",
       "      <th>2</th>\n",
       "      <td>473</td>\n",
       "      <td>42941.166106</td>\n",
       "      <td>1356</td>\n",
       "      <td>3.340407</td>\n",
       "      <td>3.171577</td>\n",
       "    </tr>\n",
       "    <tr>\n",
       "      <th>3</th>\n",
       "      <td>1665</td>\n",
       "      <td>42941.642035</td>\n",
       "      <td>4860</td>\n",
       "      <td>3.340407</td>\n",
       "      <td>2.695648</td>\n",
       "    </tr>\n",
       "    <tr>\n",
       "      <th>4</th>\n",
       "      <td>53</td>\n",
       "      <td>42941.675902</td>\n",
       "      <td>174</td>\n",
       "      <td>3.119065</td>\n",
       "      <td>2.883124</td>\n",
       "    </tr>\n",
       "    <tr>\n",
       "      <th>5</th>\n",
       "      <td>1690</td>\n",
       "      <td>42942.057525</td>\n",
       "      <td>4914</td>\n",
       "      <td>2.676380</td>\n",
       "      <td>2.944185</td>\n",
       "    </tr>\n",
       "    <tr>\n",
       "      <th>6</th>\n",
       "      <td>260</td>\n",
       "      <td>42942.169146</td>\n",
       "      <td>749</td>\n",
       "      <td>2.850292</td>\n",
       "      <td>2.658652</td>\n",
       "    </tr>\n",
       "    <tr>\n",
       "      <th>7</th>\n",
       "      <td>910</td>\n",
       "      <td>42942.183429</td>\n",
       "      <td>2644</td>\n",
       "      <td>2.676380</td>\n",
       "      <td>2.818281</td>\n",
       "    </tr>\n",
       "    <tr>\n",
       "      <th>8</th>\n",
       "      <td>405</td>\n",
       "      <td>42942.301214</td>\n",
       "      <td>1176</td>\n",
       "      <td>2.676380</td>\n",
       "      <td>2.700496</td>\n",
       "    </tr>\n",
       "    <tr>\n",
       "      <th>9</th>\n",
       "      <td>1689</td>\n",
       "      <td>42942.335938</td>\n",
       "      <td>4913</td>\n",
       "      <td>2.407607</td>\n",
       "      <td>2.934545</td>\n",
       "    </tr>\n",
       "    <tr>\n",
       "      <th>10</th>\n",
       "      <td>606</td>\n",
       "      <td>42942.554972</td>\n",
       "      <td>1781</td>\n",
       "      <td>2.534088</td>\n",
       "      <td>2.589030</td>\n",
       "    </tr>\n",
       "  </tbody>\n",
       "</table>\n",
       "</div>"
      ],
      "text/plain": [
       "    knn_indices  knn_distances  org_index  AnnualSalary  AccountBalance\n",
       "0             1   42940.459472          4      3.672421        3.546198\n",
       "1          1204   42940.480342       3465      3.624990        3.572758\n",
       "2           473   42941.166106       1356      3.340407        3.171577\n",
       "3          1665   42941.642035       4860      3.340407        2.695648\n",
       "4            53   42941.675902        174      3.119065        2.883124\n",
       "5          1690   42942.057525       4914      2.676380        2.944185\n",
       "6           260   42942.169146        749      2.850292        2.658652\n",
       "7           910   42942.183429       2644      2.676380        2.818281\n",
       "8           405   42942.301214       1176      2.676380        2.700496\n",
       "9          1689   42942.335938       4913      2.407607        2.934545\n",
       "10          606   42942.554972       1781      2.534088        2.589030"
      ]
     },
     "execution_count": 54,
     "metadata": {},
     "output_type": "execute_result"
    }
   ],
   "source": [
    "# drop ind for ctr! org index is the one we are using to loop over the search space!!!\n",
    "temp_ctr_df = temp_ctr_df[temp_ctr_df['org_index'] != ind].reset_index(drop=True)\n",
    "temp_ctr_df"
   ]
  },
  {
   "cell_type": "code",
   "execution_count": 57,
   "metadata": {},
   "outputs": [
    {
     "name": "stdout",
     "output_type": "stream",
     "text": [
      "(11, 5)\n"
     ]
    }
   ],
   "source": [
    "if temp_ctr_df.shape[0] > n:\n",
    "    print(temp_ctr_df.shape)\n",
    "    temp_ctr_df.drop(temp_ctr_df.tail(1).index,inplace=True)\n",
    "    print(temp_ctr_df.shape)"
   ]
  },
  {
   "cell_type": "code",
   "execution_count": 38,
   "metadata": {},
   "outputs": [],
   "source": [
    "# store it\n",
    "temp_dict_df_neighbors['control'] = temp_ctr_df"
   ]
  },
  {
   "cell_type": "code",
   "execution_count": null,
   "metadata": {},
   "outputs": [],
   "source": [
    "# clean up\n",
    "del center_ctr, knn_1, temp_ctr_df, indices_1, distances_1, "
   ]
  },
  {
   "cell_type": "code",
   "execution_count": null,
   "metadata": {},
   "outputs": [],
   "source": [
    "# 3) Test Group for ind (use the corresponding search space: men!)\n",
    "\n",
    "# NOTE: by default, the control group search space will include ind, which will appear as a neighbor (distrance will be 0.0)\n",
    "knn_2 = NearestNeighbors(n_neighbors = n, algorithm='ball_tree', metric = d).fit(search_tst_group[feat_rlvt])\n",
    "knn_2"
   ]
  },
  {
   "cell_type": "code",
   "execution_count": null,
   "metadata": {},
   "outputs": [],
   "source": [
    "distances_2, indices_2 = knn_2.kneighbors(center_tst)"
   ]
  },
  {
   "cell_type": "code",
   "execution_count": null,
   "metadata": {},
   "outputs": [],
   "source": [
    "distances_2"
   ]
  },
  {
   "cell_type": "code",
   "execution_count": null,
   "metadata": {},
   "outputs": [],
   "source": [
    "indices_2"
   ]
  },
  {
   "cell_type": "code",
   "execution_count": null,
   "metadata": {},
   "outputs": [],
   "source": [
    "temp_tst_df = pd.DataFrame()\n",
    "temp_tst_df['knn_indices'] = pd.Series(indices_2[0])\n",
    "temp_tst_df['knn_distances'] = pd.Series(distances_2[0])\n",
    "temp_tst_df.sort_values(by='knn_distances', ascending=True, inplace=True)\n",
    "# HERE we can drop neighbors based on the distance!\n",
    "temp_tst_df"
   ]
  },
  {
   "cell_type": "code",
   "execution_count": null,
   "metadata": {},
   "outputs": [],
   "source": [
    "# RECALL knn_indices are the same wrt the search space but not wrt org input\n",
    "# we can uss the knn_indices to get the rest of information\n",
    "temp_tst_df = temp_tst_df.merge(search_tst_group, how='inner', left_on='knn_indices', right_index=True)\n",
    "temp_tst_df\n"
   ]
  },
  {
   "cell_type": "code",
   "execution_count": null,
   "metadata": {},
   "outputs": [],
   "source": [
    "# store it\n",
    "temp_dict_df_neighbors['test'] = temp_tst_df"
   ]
  },
  {
   "cell_type": "code",
   "execution_count": null,
   "metadata": {},
   "outputs": [],
   "source": [
    "# clean up\n",
    "del center_tst, knn_2, temp_tst_df, indices_2, distances_2, "
   ]
  },
  {
   "cell_type": "code",
   "execution_count": null,
   "metadata": {},
   "outputs": [],
   "source": [
    "temp_dict_df_neighbors"
   ]
  },
  {
   "cell_type": "code",
   "execution_count": null,
   "metadata": {},
   "outputs": [],
   "source": [
    "#... later on\n",
    "dict_df_neighbors[ind] = temp_dict_df_neighbors"
   ]
  },
  {
   "cell_type": "code",
   "execution_count": null,
   "metadata": {},
   "outputs": [],
   "source": [
    "#recall that ind is the same across df and cf_df\n",
    "dict_df_neighbors"
   ]
  },
  {
   "cell_type": "code",
   "execution_count": null,
   "metadata": {},
   "outputs": [],
   "source": [
    "\n",
    "\n",
    "len(dict_df_neighbors)"
   ]
  },
  {
   "cell_type": "code",
   "execution_count": null,
   "metadata": {},
   "outputs": [],
   "source": [
    "# 4) We need to start testing each group: do now for ind"
   ]
  },
  {
   "cell_type": "code",
   "execution_count": null,
   "metadata": {},
   "outputs": [],
   "source": []
  },
  {
   "cell_type": "code",
   "execution_count": null,
   "metadata": {},
   "outputs": [],
   "source": [
    "df.loc[0,]"
   ]
  },
  {
   "cell_type": "code",
   "execution_count": null,
   "metadata": {},
   "outputs": [],
   "source": [
    "search_ctr_group.loc[857,]"
   ]
  },
  {
   "cell_type": "code",
   "execution_count": null,
   "metadata": {},
   "outputs": [],
   "source": [
    "df.loc[857,] # different ppl!!!"
   ]
  },
  {
   "cell_type": "code",
   "execution_count": null,
   "metadata": {},
   "outputs": [],
   "source": []
  },
  {
   "cell_type": "code",
   "execution_count": null,
   "metadata": {},
   "outputs": [],
   "source": [
    "from sklearn.neighbors import BallTree\n",
    "rng = np.random.RandomState(0)\n",
    "X = rng.random_sample((10, 3))\n",
    "print(X)\n",
    "print('---')\n",
    "print(X[:1])\n",
    "tree = BallTree(X, leaf_size=2)              \n",
    "dist, ind = tree.query(X[:1], k=3)                \n",
    "print(ind)  # indices of 3 closest neighbors\n",
    "#[0 3 1]\n",
    "print(dist)  # distances to 3 closest neighbors\n",
    "#[ 0.          0.19662693  0.29473397]"
   ]
  }
 ],
 "metadata": {
  "kernelspec": {
   "display_name": "Python 3",
   "language": "python",
   "name": "python3"
  },
  "language_info": {
   "codemirror_mode": {
    "name": "ipython",
    "version": 3
   },
   "file_extension": ".py",
   "mimetype": "text/x-python",
   "name": "python",
   "nbconvert_exporter": "python",
   "pygments_lexer": "ipython3",
   "version": "3.8.5"
  }
 },
 "nbformat": 4,
 "nbformat_minor": 4
}
