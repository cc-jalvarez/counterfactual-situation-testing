{
 "cells": [
  {
   "cell_type": "markdown",
   "metadata": {},
   "source": [
    "Working script for cfST\n",
    "\n",
    "Use to greate the functions from_groups(), test_disc()... part of run_cfST()"
   ]
  },
  {
   "cell_type": "code",
   "execution_count": 1,
   "metadata": {},
   "outputs": [],
   "source": [
    "import os\n",
    "import pandas as pd\n",
    "import numpy as np\n",
    "import matplotlib.pyplot as plt\n",
    "\n",
    "from sklearn.neighbors import NearestNeighbors"
   ]
  },
  {
   "cell_type": "code",
   "execution_count": 2,
   "metadata": {},
   "outputs": [],
   "source": [
    "# set working directory - note: all code runs from the src folder\n",
    "wrk_dir = os.getcwd()\n",
    "# data path\n",
    "data_path = wrk_dir + '\\\\' + 'data' + '\\\\'\n",
    "# results path\n",
    "resu_path = wrk_dir + '\\\\' + 'results\\\\counterfactuals' + '\\\\'"
   ]
  },
  {
   "cell_type": "code",
   "execution_count": 3,
   "metadata": {},
   "outputs": [
    {
     "name": "stdout",
     "output_type": "stream",
     "text": [
      "(4993, 6)\n",
      "(4993, 6)\n"
     ]
    }
   ],
   "source": [
    "df    = pd.read_csv(data_path + 'Karimi2020_v2.csv', sep='|', )\n",
    "print(df.shape)\n",
    "cf_df = pd.read_csv(resu_path + 'cf_Karimi2020_v2.csv', sep='|', )\n",
    "print(cf_df.shape)"
   ]
  },
  {
   "cell_type": "code",
   "execution_count": 4,
   "metadata": {},
   "outputs": [
    {
     "data": {
      "text/plain": [
       "34.288"
      ]
     },
     "execution_count": 4,
     "metadata": {},
     "output_type": "execute_result"
    }
   ],
   "source": [
    "round(df[df['Gender']==1].shape[0]/df.shape[0]*100, 3) # perc. of women in df\n",
    "#df[df['Gender']==0].shape[0]/df.shape[0]*100"
   ]
  },
  {
   "cell_type": "code",
   "execution_count": null,
   "metadata": {},
   "outputs": [],
   "source": [
    "# plt.hist(df['LoanApproval'])\n",
    "# plt.hist(cf_df['LoanApproval']) # number of denied loans drops!"
   ]
  },
  {
   "cell_type": "code",
   "execution_count": 5,
   "metadata": {},
   "outputs": [
    {
     "name": "stdout",
     "output_type": "stream",
     "text": [
      "13.498898457840976\n",
      "--- vs ---\n",
      "21.029441217704786\n"
     ]
    }
   ],
   "source": [
    "print(df[(df['Gender']==1) & (df['LoanApproval']==1)].shape[0]/df.shape[0]*100)\n",
    "print('--- vs ---')\n",
    "print(cf_df[(cf_df['Gender']==1) & (cf_df['LoanApproval']==1)].shape[0]/cf_df.shape[0]*100)"
   ]
  },
  {
   "cell_type": "code",
   "execution_count": 34,
   "metadata": {},
   "outputs": [
    {
     "data": {
      "text/plain": [
       "['LoanApproval', 'AnnualSalary', 'AccountBalance', 'Gender']"
      ]
     },
     "execution_count": 34,
     "metadata": {},
     "output_type": "execute_result"
    }
   ],
   "source": [
    "feat_trgt = ['LoanApproval']\n",
    "# feat_rlvt = ['AnnualSalary']\n",
    "feat_rlvt = ['AnnualSalary', 'AccountBalance']\n",
    "feat_prot = 'Gender' # extend later for more than one (intersectionality???)\n",
    "feat_prot_vals = {'non_prot': 0, 'prot': 1}\n",
    "\n",
    "# future params!\n",
    "# protected_group = {'Gender': 1} \n",
    "n = 10 # determine by power analysis? (future extension)\n",
    "d = 'euclidean' # ‘manhattan’ - see https://scikit-learn.org/stable/modules/generated/sklearn.metrics.pairwise.distance_metrics.html\n",
    "\n",
    "feat_list = feat_trgt + feat_rlvt\n",
    "feat_list.append(feat_prot)\n",
    "feat_list"
   ]
  },
  {
   "cell_type": "markdown",
   "metadata": {},
   "source": [
    "Under counterfactual situation testing, for the protected group we need to create two groups: a *control group* (CG) centered on the factuals and a *test group* (TG) centered on the counterfactuals. In practice, this means that we take individual women and compare them to other similar women using some distance $d_1$ to construct CG, while we take their corresponding counterfactuals and compare them to similar men using some distance $d_2$. We start off with $d_1=d_2$. We create the groups using a KNN algorithm.\n",
    "\n",
    "Under this approach, rather than centering both CG and TG on the same (factual) instance, we construct the hypothetical group (*what would have happened had the female individual been male?*) by allowing for all variables to adjust due to the change in $A$. This is our implementation of what Kohler defined as *fairness given the difference* and what she arguess through her Eddie Murphy paper."
   ]
  },
  {
   "cell_type": "code",
   "execution_count": 35,
   "metadata": {},
   "outputs": [
    {
     "name": "stdout",
     "output_type": "stream",
     "text": [
      "(1712, 4)\n",
      "(3281, 4)\n"
     ]
    }
   ],
   "source": [
    "# 1) Setup the respectice search spaces for control (ctr) and test (tst) groups\n",
    "\n",
    "search_ctr_group = df[df[feat_prot]==feat_prot_vals['prot']][feat_list].copy()\n",
    "print(search_ctr_group.shape)\n",
    "\n",
    "search_tst_group = cf_df[cf_df[feat_prot]==feat_prot_vals['non_prot']][feat_list].copy()\n",
    "print(search_tst_group.shape)\n",
    "\n",
    "# keep track of old / new indices: KNN seems to retunr indices that are absolute (?)\n",
    "search_ctr_group.reset_index(inplace=True, )\n",
    "search_ctr_group.rename(columns={'index': 'org_index'}, inplace=True)\n",
    "search_tst_group.reset_index(inplace=True, )\n",
    "search_tst_group.rename(columns={'index': 'org_index'}, inplace=True)"
   ]
  },
  {
   "cell_type": "code",
   "execution_count": 36,
   "metadata": {},
   "outputs": [
    {
     "data": {
      "text/html": [
       "<div>\n",
       "<style scoped>\n",
       "    .dataframe tbody tr th:only-of-type {\n",
       "        vertical-align: middle;\n",
       "    }\n",
       "\n",
       "    .dataframe tbody tr th {\n",
       "        vertical-align: top;\n",
       "    }\n",
       "\n",
       "    .dataframe thead th {\n",
       "        text-align: right;\n",
       "    }\n",
       "</style>\n",
       "<table border=\"1\" class=\"dataframe\">\n",
       "  <thead>\n",
       "    <tr style=\"text-align: right;\">\n",
       "      <th></th>\n",
       "      <th>org_index</th>\n",
       "      <th>LoanApproval</th>\n",
       "      <th>AnnualSalary</th>\n",
       "      <th>AccountBalance</th>\n",
       "      <th>Gender</th>\n",
       "    </tr>\n",
       "  </thead>\n",
       "  <tbody>\n",
       "    <tr>\n",
       "      <th>0</th>\n",
       "      <td>0</td>\n",
       "      <td>-1.0</td>\n",
       "      <td>35000</td>\n",
       "      <td>7947.678090</td>\n",
       "      <td>1</td>\n",
       "    </tr>\n",
       "    <tr>\n",
       "      <th>1</th>\n",
       "      <td>4</td>\n",
       "      <td>1.0</td>\n",
       "      <td>201000</td>\n",
       "      <td>59008.567839</td>\n",
       "      <td>1</td>\n",
       "    </tr>\n",
       "    <tr>\n",
       "      <th>2</th>\n",
       "      <td>5</td>\n",
       "      <td>1.0</td>\n",
       "      <td>102000</td>\n",
       "      <td>26000.811689</td>\n",
       "      <td>1</td>\n",
       "    </tr>\n",
       "    <tr>\n",
       "      <th>3</th>\n",
       "      <td>6</td>\n",
       "      <td>-1.0</td>\n",
       "      <td>68000</td>\n",
       "      <td>15064.447848</td>\n",
       "      <td>1</td>\n",
       "    </tr>\n",
       "    <tr>\n",
       "      <th>4</th>\n",
       "      <td>9</td>\n",
       "      <td>-1.0</td>\n",
       "      <td>84500</td>\n",
       "      <td>21275.931413</td>\n",
       "      <td>1</td>\n",
       "    </tr>\n",
       "  </tbody>\n",
       "</table>\n",
       "</div>"
      ],
      "text/plain": [
       "   org_index  LoanApproval  AnnualSalary  AccountBalance  Gender\n",
       "0          0          -1.0         35000     7947.678090       1\n",
       "1          4           1.0        201000    59008.567839       1\n",
       "2          5           1.0        102000    26000.811689       1\n",
       "3          6          -1.0         68000    15064.447848       1\n",
       "4          9          -1.0         84500    21275.931413       1"
      ]
     },
     "execution_count": 36,
     "metadata": {},
     "output_type": "execute_result"
    }
   ],
   "source": [
    "search_ctr_group.head(5)"
   ]
  },
  {
   "cell_type": "code",
   "execution_count": 37,
   "metadata": {},
   "outputs": [],
   "source": [
    "# start the main function here\n",
    "\n",
    "# store neighboors here\n",
    "dict_df_neighbors = {}"
   ]
  },
  {
   "cell_type": "code",
   "execution_count": 38,
   "metadata": {},
   "outputs": [
    {
     "name": "stdout",
     "output_type": "stream",
     "text": [
      "AnnualSalary      35000.00000\n",
      "AccountBalance     7947.67809\n",
      "Name: 0, dtype: float64\n",
      "AnnualSalary      50796.35\n",
      "AccountBalance    13852.05\n",
      "Name: 0, dtype: float64\n",
      "[[35000.          7947.67808994]]\n",
      "[[50796.35 13852.05]]\n"
     ]
    }
   ],
   "source": [
    "# 2) For eahc ind(ividual) set the centers\n",
    "\n",
    "ind = 0 # start loop or map get_neighboors()\n",
    "\n",
    "# for storing the neighboors \n",
    "temp_dict_df_neighbors = {}\n",
    "\n",
    "# get ctr center from factual df\n",
    "center_ctr = df.loc[ind, feat_rlvt]\n",
    "print(center_ctr)\n",
    "\n",
    "# get tst center from counterfactual df \n",
    "center_tst = cf_df.loc[ind, feat_rlvt]\n",
    "print(center_tst)\n",
    "\n",
    "# prepare for knn\n",
    "if len(feat_rlvt) > 1:\n",
    "    center_ctr = center_ctr.values.reshape(1, -1)\n",
    "    center_tst = center_tst.values.reshape(1, -1)\n",
    "else:\n",
    "    center_ctr = center_ctr.values.reshape(-1, 1)\n",
    "    center_tst = center_tst.values.reshape(-1, 1)\n",
    "\n",
    "print(center_ctr)\n",
    "print(center_tst)"
   ]
  },
  {
   "cell_type": "code",
   "execution_count": 39,
   "metadata": {},
   "outputs": [
    {
     "data": {
      "text/plain": [
       "NearestNeighbors(algorithm='ball_tree', metric='euclidean', n_neighbors=11)"
      ]
     },
     "execution_count": 39,
     "metadata": {},
     "output_type": "execute_result"
    }
   ],
   "source": [
    "# 3) Control Group for ind\n",
    "\n",
    "# NOTE: by default, the control group search space will include ind, which will appear as a neighbor (distrance will be 0.0)\n",
    "knn_1 = NearestNeighbors(n_neighbors = n + 1, algorithm='ball_tree', metric = d).fit(search_ctr_group[feat_rlvt])\n",
    "knn_1"
   ]
  },
  {
   "cell_type": "code",
   "execution_count": 40,
   "metadata": {},
   "outputs": [],
   "source": [
    "distances_1, indices_1 = knn_1.kneighbors(center_ctr)"
   ]
  },
  {
   "cell_type": "code",
   "execution_count": 41,
   "metadata": {},
   "outputs": [
    {
     "data": {
      "text/plain": [
       "array([[   0.        ,  123.29308024,  242.26211041,  619.62941896,\n",
       "         672.13945902, 1503.55856885, 1684.29702006, 1687.30608972,\n",
       "        1720.20882082, 1813.3319503 , 1816.84824881]])"
      ]
     },
     "execution_count": 41,
     "metadata": {},
     "output_type": "execute_result"
    }
   ],
   "source": [
    "distances_1"
   ]
  },
  {
   "cell_type": "code",
   "execution_count": 42,
   "metadata": {},
   "outputs": [
    {
     "data": {
      "text/plain": [
       "array([[   0, 1247, 1648,  887,  811, 1020,  100,  714, 1337,   64,  418]],\n",
       "      dtype=int64)"
      ]
     },
     "execution_count": 42,
     "metadata": {},
     "output_type": "execute_result"
    }
   ],
   "source": [
    "indices_1"
   ]
  },
  {
   "cell_type": "code",
   "execution_count": 43,
   "metadata": {},
   "outputs": [
    {
     "data": {
      "text/html": [
       "<div>\n",
       "<style scoped>\n",
       "    .dataframe tbody tr th:only-of-type {\n",
       "        vertical-align: middle;\n",
       "    }\n",
       "\n",
       "    .dataframe tbody tr th {\n",
       "        vertical-align: top;\n",
       "    }\n",
       "\n",
       "    .dataframe thead th {\n",
       "        text-align: right;\n",
       "    }\n",
       "</style>\n",
       "<table border=\"1\" class=\"dataframe\">\n",
       "  <thead>\n",
       "    <tr style=\"text-align: right;\">\n",
       "      <th></th>\n",
       "      <th>knn_indices</th>\n",
       "      <th>knn_distances</th>\n",
       "    </tr>\n",
       "  </thead>\n",
       "  <tbody>\n",
       "    <tr>\n",
       "      <th>0</th>\n",
       "      <td>0</td>\n",
       "      <td>0.000000</td>\n",
       "    </tr>\n",
       "    <tr>\n",
       "      <th>1</th>\n",
       "      <td>1247</td>\n",
       "      <td>123.293080</td>\n",
       "    </tr>\n",
       "    <tr>\n",
       "      <th>2</th>\n",
       "      <td>1648</td>\n",
       "      <td>242.262110</td>\n",
       "    </tr>\n",
       "    <tr>\n",
       "      <th>3</th>\n",
       "      <td>887</td>\n",
       "      <td>619.629419</td>\n",
       "    </tr>\n",
       "    <tr>\n",
       "      <th>4</th>\n",
       "      <td>811</td>\n",
       "      <td>672.139459</td>\n",
       "    </tr>\n",
       "    <tr>\n",
       "      <th>5</th>\n",
       "      <td>1020</td>\n",
       "      <td>1503.558569</td>\n",
       "    </tr>\n",
       "    <tr>\n",
       "      <th>6</th>\n",
       "      <td>100</td>\n",
       "      <td>1684.297020</td>\n",
       "    </tr>\n",
       "    <tr>\n",
       "      <th>7</th>\n",
       "      <td>714</td>\n",
       "      <td>1687.306090</td>\n",
       "    </tr>\n",
       "    <tr>\n",
       "      <th>8</th>\n",
       "      <td>1337</td>\n",
       "      <td>1720.208821</td>\n",
       "    </tr>\n",
       "    <tr>\n",
       "      <th>9</th>\n",
       "      <td>64</td>\n",
       "      <td>1813.331950</td>\n",
       "    </tr>\n",
       "    <tr>\n",
       "      <th>10</th>\n",
       "      <td>418</td>\n",
       "      <td>1816.848249</td>\n",
       "    </tr>\n",
       "  </tbody>\n",
       "</table>\n",
       "</div>"
      ],
      "text/plain": [
       "    knn_indices  knn_distances\n",
       "0             0       0.000000\n",
       "1          1247     123.293080\n",
       "2          1648     242.262110\n",
       "3           887     619.629419\n",
       "4           811     672.139459\n",
       "5          1020    1503.558569\n",
       "6           100    1684.297020\n",
       "7           714    1687.306090\n",
       "8          1337    1720.208821\n",
       "9            64    1813.331950\n",
       "10          418    1816.848249"
      ]
     },
     "execution_count": 43,
     "metadata": {},
     "output_type": "execute_result"
    }
   ],
   "source": [
    "temp_ctr_df = pd.DataFrame()\n",
    "temp_ctr_df['knn_indices'] = pd.Series(indices_1[0])\n",
    "temp_ctr_df['knn_distances'] = pd.Series(distances_1[0])\n",
    "temp_ctr_df.sort_values(by='knn_distances', ascending=True, inplace=True)\n",
    "# HERE we can drop neighbors based on the distance!\n",
    "temp_ctr_df"
   ]
  },
  {
   "cell_type": "code",
   "execution_count": 44,
   "metadata": {},
   "outputs": [
    {
     "data": {
      "text/html": [
       "<div>\n",
       "<style scoped>\n",
       "    .dataframe tbody tr th:only-of-type {\n",
       "        vertical-align: middle;\n",
       "    }\n",
       "\n",
       "    .dataframe tbody tr th {\n",
       "        vertical-align: top;\n",
       "    }\n",
       "\n",
       "    .dataframe thead th {\n",
       "        text-align: right;\n",
       "    }\n",
       "</style>\n",
       "<table border=\"1\" class=\"dataframe\">\n",
       "  <thead>\n",
       "    <tr style=\"text-align: right;\">\n",
       "      <th></th>\n",
       "      <th>knn_indices</th>\n",
       "      <th>knn_distances</th>\n",
       "      <th>org_index</th>\n",
       "      <th>LoanApproval</th>\n",
       "      <th>AnnualSalary</th>\n",
       "      <th>AccountBalance</th>\n",
       "      <th>Gender</th>\n",
       "    </tr>\n",
       "  </thead>\n",
       "  <tbody>\n",
       "    <tr>\n",
       "      <th>0</th>\n",
       "      <td>0</td>\n",
       "      <td>0.000000</td>\n",
       "      <td>0</td>\n",
       "      <td>-1.0</td>\n",
       "      <td>35000</td>\n",
       "      <td>7947.678090</td>\n",
       "      <td>1</td>\n",
       "    </tr>\n",
       "    <tr>\n",
       "      <th>1</th>\n",
       "      <td>1247</td>\n",
       "      <td>123.293080</td>\n",
       "      <td>3591</td>\n",
       "      <td>-1.0</td>\n",
       "      <td>35000</td>\n",
       "      <td>7824.385010</td>\n",
       "      <td>1</td>\n",
       "    </tr>\n",
       "    <tr>\n",
       "      <th>2</th>\n",
       "      <td>1648</td>\n",
       "      <td>242.262110</td>\n",
       "      <td>4789</td>\n",
       "      <td>-1.0</td>\n",
       "      <td>35000</td>\n",
       "      <td>7705.415980</td>\n",
       "      <td>1</td>\n",
       "    </tr>\n",
       "    <tr>\n",
       "      <th>3</th>\n",
       "      <td>887</td>\n",
       "      <td>619.629419</td>\n",
       "      <td>2568</td>\n",
       "      <td>-1.0</td>\n",
       "      <td>34500</td>\n",
       "      <td>7581.699106</td>\n",
       "      <td>1</td>\n",
       "    </tr>\n",
       "    <tr>\n",
       "      <th>4</th>\n",
       "      <td>811</td>\n",
       "      <td>672.139459</td>\n",
       "      <td>2355</td>\n",
       "      <td>-1.0</td>\n",
       "      <td>35000</td>\n",
       "      <td>8619.817549</td>\n",
       "      <td>1</td>\n",
       "    </tr>\n",
       "    <tr>\n",
       "      <th>5</th>\n",
       "      <td>1020</td>\n",
       "      <td>1503.558569</td>\n",
       "      <td>2956</td>\n",
       "      <td>-1.0</td>\n",
       "      <td>36500</td>\n",
       "      <td>7844.293517</td>\n",
       "      <td>1</td>\n",
       "    </tr>\n",
       "    <tr>\n",
       "      <th>6</th>\n",
       "      <td>100</td>\n",
       "      <td>1684.297020</td>\n",
       "      <td>279</td>\n",
       "      <td>-1.0</td>\n",
       "      <td>36500</td>\n",
       "      <td>7181.612524</td>\n",
       "      <td>1</td>\n",
       "    </tr>\n",
       "    <tr>\n",
       "      <th>7</th>\n",
       "      <td>714</td>\n",
       "      <td>1687.306090</td>\n",
       "      <td>2082</td>\n",
       "      <td>-1.0</td>\n",
       "      <td>33500</td>\n",
       "      <td>8720.337032</td>\n",
       "      <td>1</td>\n",
       "    </tr>\n",
       "    <tr>\n",
       "      <th>8</th>\n",
       "      <td>1337</td>\n",
       "      <td>1720.208821</td>\n",
       "      <td>3838</td>\n",
       "      <td>-1.0</td>\n",
       "      <td>33500</td>\n",
       "      <td>7105.586416</td>\n",
       "      <td>1</td>\n",
       "    </tr>\n",
       "    <tr>\n",
       "      <th>9</th>\n",
       "      <td>64</td>\n",
       "      <td>1813.331950</td>\n",
       "      <td>204</td>\n",
       "      <td>-1.0</td>\n",
       "      <td>33500</td>\n",
       "      <td>6928.770458</td>\n",
       "      <td>1</td>\n",
       "    </tr>\n",
       "    <tr>\n",
       "      <th>10</th>\n",
       "      <td>418</td>\n",
       "      <td>1816.848249</td>\n",
       "      <td>1213</td>\n",
       "      <td>-1.0</td>\n",
       "      <td>36500</td>\n",
       "      <td>6922.525633</td>\n",
       "      <td>1</td>\n",
       "    </tr>\n",
       "  </tbody>\n",
       "</table>\n",
       "</div>"
      ],
      "text/plain": [
       "    knn_indices  knn_distances  org_index  LoanApproval  AnnualSalary  \\\n",
       "0             0       0.000000          0          -1.0         35000   \n",
       "1          1247     123.293080       3591          -1.0         35000   \n",
       "2          1648     242.262110       4789          -1.0         35000   \n",
       "3           887     619.629419       2568          -1.0         34500   \n",
       "4           811     672.139459       2355          -1.0         35000   \n",
       "5          1020    1503.558569       2956          -1.0         36500   \n",
       "6           100    1684.297020        279          -1.0         36500   \n",
       "7           714    1687.306090       2082          -1.0         33500   \n",
       "8          1337    1720.208821       3838          -1.0         33500   \n",
       "9            64    1813.331950        204          -1.0         33500   \n",
       "10          418    1816.848249       1213          -1.0         36500   \n",
       "\n",
       "    AccountBalance  Gender  \n",
       "0      7947.678090       1  \n",
       "1      7824.385010       1  \n",
       "2      7705.415980       1  \n",
       "3      7581.699106       1  \n",
       "4      8619.817549       1  \n",
       "5      7844.293517       1  \n",
       "6      7181.612524       1  \n",
       "7      8720.337032       1  \n",
       "8      7105.586416       1  \n",
       "9      6928.770458       1  \n",
       "10     6922.525633       1  "
      ]
     },
     "execution_count": 44,
     "metadata": {},
     "output_type": "execute_result"
    }
   ],
   "source": [
    "# RECALL knn_indices are the same wrt the search space but not wrt org input\n",
    "# we can uss the knn_indices to get the rest of information\n",
    "temp_ctr_df = temp_ctr_df.merge(search_ctr_group, how='inner', left_on='knn_indices', right_index=True)\n",
    "temp_ctr_df\n",
    "\n",
    "# we can. e.g., test on the features of interest as well for ST!\n"
   ]
  },
  {
   "cell_type": "code",
   "execution_count": 45,
   "metadata": {},
   "outputs": [
    {
     "data": {
      "text/html": [
       "<div>\n",
       "<style scoped>\n",
       "    .dataframe tbody tr th:only-of-type {\n",
       "        vertical-align: middle;\n",
       "    }\n",
       "\n",
       "    .dataframe tbody tr th {\n",
       "        vertical-align: top;\n",
       "    }\n",
       "\n",
       "    .dataframe thead th {\n",
       "        text-align: right;\n",
       "    }\n",
       "</style>\n",
       "<table border=\"1\" class=\"dataframe\">\n",
       "  <thead>\n",
       "    <tr style=\"text-align: right;\">\n",
       "      <th></th>\n",
       "      <th>knn_indices</th>\n",
       "      <th>knn_distances</th>\n",
       "      <th>org_index</th>\n",
       "      <th>LoanApproval</th>\n",
       "      <th>AnnualSalary</th>\n",
       "      <th>AccountBalance</th>\n",
       "      <th>Gender</th>\n",
       "    </tr>\n",
       "  </thead>\n",
       "  <tbody>\n",
       "    <tr>\n",
       "      <th>0</th>\n",
       "      <td>1247</td>\n",
       "      <td>123.293080</td>\n",
       "      <td>3591</td>\n",
       "      <td>-1.0</td>\n",
       "      <td>35000</td>\n",
       "      <td>7824.385010</td>\n",
       "      <td>1</td>\n",
       "    </tr>\n",
       "    <tr>\n",
       "      <th>1</th>\n",
       "      <td>1648</td>\n",
       "      <td>242.262110</td>\n",
       "      <td>4789</td>\n",
       "      <td>-1.0</td>\n",
       "      <td>35000</td>\n",
       "      <td>7705.415980</td>\n",
       "      <td>1</td>\n",
       "    </tr>\n",
       "    <tr>\n",
       "      <th>2</th>\n",
       "      <td>887</td>\n",
       "      <td>619.629419</td>\n",
       "      <td>2568</td>\n",
       "      <td>-1.0</td>\n",
       "      <td>34500</td>\n",
       "      <td>7581.699106</td>\n",
       "      <td>1</td>\n",
       "    </tr>\n",
       "    <tr>\n",
       "      <th>3</th>\n",
       "      <td>811</td>\n",
       "      <td>672.139459</td>\n",
       "      <td>2355</td>\n",
       "      <td>-1.0</td>\n",
       "      <td>35000</td>\n",
       "      <td>8619.817549</td>\n",
       "      <td>1</td>\n",
       "    </tr>\n",
       "    <tr>\n",
       "      <th>4</th>\n",
       "      <td>1020</td>\n",
       "      <td>1503.558569</td>\n",
       "      <td>2956</td>\n",
       "      <td>-1.0</td>\n",
       "      <td>36500</td>\n",
       "      <td>7844.293517</td>\n",
       "      <td>1</td>\n",
       "    </tr>\n",
       "    <tr>\n",
       "      <th>5</th>\n",
       "      <td>100</td>\n",
       "      <td>1684.297020</td>\n",
       "      <td>279</td>\n",
       "      <td>-1.0</td>\n",
       "      <td>36500</td>\n",
       "      <td>7181.612524</td>\n",
       "      <td>1</td>\n",
       "    </tr>\n",
       "    <tr>\n",
       "      <th>6</th>\n",
       "      <td>714</td>\n",
       "      <td>1687.306090</td>\n",
       "      <td>2082</td>\n",
       "      <td>-1.0</td>\n",
       "      <td>33500</td>\n",
       "      <td>8720.337032</td>\n",
       "      <td>1</td>\n",
       "    </tr>\n",
       "    <tr>\n",
       "      <th>7</th>\n",
       "      <td>1337</td>\n",
       "      <td>1720.208821</td>\n",
       "      <td>3838</td>\n",
       "      <td>-1.0</td>\n",
       "      <td>33500</td>\n",
       "      <td>7105.586416</td>\n",
       "      <td>1</td>\n",
       "    </tr>\n",
       "    <tr>\n",
       "      <th>8</th>\n",
       "      <td>64</td>\n",
       "      <td>1813.331950</td>\n",
       "      <td>204</td>\n",
       "      <td>-1.0</td>\n",
       "      <td>33500</td>\n",
       "      <td>6928.770458</td>\n",
       "      <td>1</td>\n",
       "    </tr>\n",
       "    <tr>\n",
       "      <th>9</th>\n",
       "      <td>418</td>\n",
       "      <td>1816.848249</td>\n",
       "      <td>1213</td>\n",
       "      <td>-1.0</td>\n",
       "      <td>36500</td>\n",
       "      <td>6922.525633</td>\n",
       "      <td>1</td>\n",
       "    </tr>\n",
       "  </tbody>\n",
       "</table>\n",
       "</div>"
      ],
      "text/plain": [
       "   knn_indices  knn_distances  org_index  LoanApproval  AnnualSalary  \\\n",
       "0         1247     123.293080       3591          -1.0         35000   \n",
       "1         1648     242.262110       4789          -1.0         35000   \n",
       "2          887     619.629419       2568          -1.0         34500   \n",
       "3          811     672.139459       2355          -1.0         35000   \n",
       "4         1020    1503.558569       2956          -1.0         36500   \n",
       "5          100    1684.297020        279          -1.0         36500   \n",
       "6          714    1687.306090       2082          -1.0         33500   \n",
       "7         1337    1720.208821       3838          -1.0         33500   \n",
       "8           64    1813.331950        204          -1.0         33500   \n",
       "9          418    1816.848249       1213          -1.0         36500   \n",
       "\n",
       "   AccountBalance  Gender  \n",
       "0     7824.385010       1  \n",
       "1     7705.415980       1  \n",
       "2     7581.699106       1  \n",
       "3     8619.817549       1  \n",
       "4     7844.293517       1  \n",
       "5     7181.612524       1  \n",
       "6     8720.337032       1  \n",
       "7     7105.586416       1  \n",
       "8     6928.770458       1  \n",
       "9     6922.525633       1  "
      ]
     },
     "execution_count": 45,
     "metadata": {},
     "output_type": "execute_result"
    }
   ],
   "source": [
    "# drop ind for ctr! org index is the one we are using to loop over the search space!!!\n",
    "temp_ctr_df = temp_ctr_df[temp_ctr_df['org_index'] != ind].reset_index(drop=True)\n",
    "temp_ctr_df"
   ]
  },
  {
   "cell_type": "code",
   "execution_count": 46,
   "metadata": {},
   "outputs": [],
   "source": [
    "# store it\n",
    "temp_dict_df_neighbors['control'] = temp_ctr_df"
   ]
  },
  {
   "cell_type": "code",
   "execution_count": 47,
   "metadata": {},
   "outputs": [],
   "source": [
    "# clean up\n",
    "del center_ctr, knn_1, temp_ctr_df, indices_1, distances_1, "
   ]
  },
  {
   "cell_type": "code",
   "execution_count": 48,
   "metadata": {},
   "outputs": [
    {
     "data": {
      "text/plain": [
       "NearestNeighbors(algorithm='ball_tree', metric='euclidean', n_neighbors=10)"
      ]
     },
     "execution_count": 48,
     "metadata": {},
     "output_type": "execute_result"
    }
   ],
   "source": [
    "# 3) Test Group for ind (use the corresponding search space: men!)\n",
    "\n",
    "# NOTE: by default, the control group search space will include ind, which will appear as a neighbor (distrance will be 0.0)\n",
    "knn_2 = NearestNeighbors(n_neighbors = n, algorithm='ball_tree', metric = d).fit(search_tst_group[feat_rlvt])\n",
    "knn_2"
   ]
  },
  {
   "cell_type": "code",
   "execution_count": 49,
   "metadata": {},
   "outputs": [],
   "source": [
    "distances_2, indices_2 = knn_2.kneighbors(center_tst)"
   ]
  },
  {
   "cell_type": "code",
   "execution_count": 50,
   "metadata": {},
   "outputs": [
    {
     "data": {
      "text/plain": [
       "array([[796.58069987, 796.66779306, 796.92167426, 797.36501735,\n",
       "        798.67828698, 802.55931376, 812.99318453, 816.78921326,\n",
       "        821.83624214, 830.87982531]])"
      ]
     },
     "execution_count": 50,
     "metadata": {},
     "output_type": "execute_result"
    }
   ],
   "source": [
    "distances_2"
   ]
  },
  {
   "cell_type": "code",
   "execution_count": 51,
   "metadata": {},
   "outputs": [
    {
     "data": {
      "text/plain": [
       "array([[2218, 2221,  612,  453, 2958,   65, 2153, 1438, 2507,  300]],\n",
       "      dtype=int64)"
      ]
     },
     "execution_count": 51,
     "metadata": {},
     "output_type": "execute_result"
    }
   ],
   "source": [
    "indices_2"
   ]
  },
  {
   "cell_type": "code",
   "execution_count": 52,
   "metadata": {},
   "outputs": [
    {
     "data": {
      "text/html": [
       "<div>\n",
       "<style scoped>\n",
       "    .dataframe tbody tr th:only-of-type {\n",
       "        vertical-align: middle;\n",
       "    }\n",
       "\n",
       "    .dataframe tbody tr th {\n",
       "        vertical-align: top;\n",
       "    }\n",
       "\n",
       "    .dataframe thead th {\n",
       "        text-align: right;\n",
       "    }\n",
       "</style>\n",
       "<table border=\"1\" class=\"dataframe\">\n",
       "  <thead>\n",
       "    <tr style=\"text-align: right;\">\n",
       "      <th></th>\n",
       "      <th>knn_indices</th>\n",
       "      <th>knn_distances</th>\n",
       "    </tr>\n",
       "  </thead>\n",
       "  <tbody>\n",
       "    <tr>\n",
       "      <th>0</th>\n",
       "      <td>2218</td>\n",
       "      <td>796.580700</td>\n",
       "    </tr>\n",
       "    <tr>\n",
       "      <th>1</th>\n",
       "      <td>2221</td>\n",
       "      <td>796.667793</td>\n",
       "    </tr>\n",
       "    <tr>\n",
       "      <th>2</th>\n",
       "      <td>612</td>\n",
       "      <td>796.921674</td>\n",
       "    </tr>\n",
       "    <tr>\n",
       "      <th>3</th>\n",
       "      <td>453</td>\n",
       "      <td>797.365017</td>\n",
       "    </tr>\n",
       "    <tr>\n",
       "      <th>4</th>\n",
       "      <td>2958</td>\n",
       "      <td>798.678287</td>\n",
       "    </tr>\n",
       "    <tr>\n",
       "      <th>5</th>\n",
       "      <td>65</td>\n",
       "      <td>802.559314</td>\n",
       "    </tr>\n",
       "    <tr>\n",
       "      <th>6</th>\n",
       "      <td>2153</td>\n",
       "      <td>812.993185</td>\n",
       "    </tr>\n",
       "    <tr>\n",
       "      <th>7</th>\n",
       "      <td>1438</td>\n",
       "      <td>816.789213</td>\n",
       "    </tr>\n",
       "    <tr>\n",
       "      <th>8</th>\n",
       "      <td>2507</td>\n",
       "      <td>821.836242</td>\n",
       "    </tr>\n",
       "    <tr>\n",
       "      <th>9</th>\n",
       "      <td>300</td>\n",
       "      <td>830.879825</td>\n",
       "    </tr>\n",
       "  </tbody>\n",
       "</table>\n",
       "</div>"
      ],
      "text/plain": [
       "   knn_indices  knn_distances\n",
       "0         2218     796.580700\n",
       "1         2221     796.667793\n",
       "2          612     796.921674\n",
       "3          453     797.365017\n",
       "4         2958     798.678287\n",
       "5           65     802.559314\n",
       "6         2153     812.993185\n",
       "7         1438     816.789213\n",
       "8         2507     821.836242\n",
       "9          300     830.879825"
      ]
     },
     "execution_count": 52,
     "metadata": {},
     "output_type": "execute_result"
    }
   ],
   "source": [
    "temp_tst_df = pd.DataFrame()\n",
    "temp_tst_df['knn_indices'] = pd.Series(indices_2[0])\n",
    "temp_tst_df['knn_distances'] = pd.Series(distances_2[0])\n",
    "temp_tst_df.sort_values(by='knn_distances', ascending=True, inplace=True)\n",
    "# HERE we can drop neighbors based on the distance!\n",
    "temp_tst_df"
   ]
  },
  {
   "cell_type": "code",
   "execution_count": 53,
   "metadata": {},
   "outputs": [
    {
     "data": {
      "text/html": [
       "<div>\n",
       "<style scoped>\n",
       "    .dataframe tbody tr th:only-of-type {\n",
       "        vertical-align: middle;\n",
       "    }\n",
       "\n",
       "    .dataframe tbody tr th {\n",
       "        vertical-align: top;\n",
       "    }\n",
       "\n",
       "    .dataframe thead th {\n",
       "        text-align: right;\n",
       "    }\n",
       "</style>\n",
       "<table border=\"1\" class=\"dataframe\">\n",
       "  <thead>\n",
       "    <tr style=\"text-align: right;\">\n",
       "      <th></th>\n",
       "      <th>knn_indices</th>\n",
       "      <th>knn_distances</th>\n",
       "      <th>org_index</th>\n",
       "      <th>LoanApproval</th>\n",
       "      <th>AnnualSalary</th>\n",
       "      <th>AccountBalance</th>\n",
       "      <th>Gender</th>\n",
       "    </tr>\n",
       "  </thead>\n",
       "  <tbody>\n",
       "    <tr>\n",
       "      <th>0</th>\n",
       "      <td>2218</td>\n",
       "      <td>796.580700</td>\n",
       "      <td>3404</td>\n",
       "      <td>-1.0</td>\n",
       "      <td>50000.0</td>\n",
       "      <td>13832.88</td>\n",
       "      <td>0</td>\n",
       "    </tr>\n",
       "    <tr>\n",
       "      <th>1</th>\n",
       "      <td>2221</td>\n",
       "      <td>796.667793</td>\n",
       "      <td>3409</td>\n",
       "      <td>-1.0</td>\n",
       "      <td>50000.0</td>\n",
       "      <td>13829.55</td>\n",
       "      <td>0</td>\n",
       "    </tr>\n",
       "    <tr>\n",
       "      <th>2</th>\n",
       "      <td>612</td>\n",
       "      <td>796.921674</td>\n",
       "      <td>939</td>\n",
       "      <td>-1.0</td>\n",
       "      <td>50000.0</td>\n",
       "      <td>13821.87</td>\n",
       "      <td>0</td>\n",
       "    </tr>\n",
       "    <tr>\n",
       "      <th>3</th>\n",
       "      <td>453</td>\n",
       "      <td>797.365017</td>\n",
       "      <td>700</td>\n",
       "      <td>-1.0</td>\n",
       "      <td>50000.0</td>\n",
       "      <td>13811.83</td>\n",
       "      <td>0</td>\n",
       "    </tr>\n",
       "    <tr>\n",
       "      <th>4</th>\n",
       "      <td>2958</td>\n",
       "      <td>798.678287</td>\n",
       "      <td>4516</td>\n",
       "      <td>-1.0</td>\n",
       "      <td>50000.0</td>\n",
       "      <td>13791.11</td>\n",
       "      <td>0</td>\n",
       "    </tr>\n",
       "    <tr>\n",
       "      <th>5</th>\n",
       "      <td>65</td>\n",
       "      <td>802.559314</td>\n",
       "      <td>100</td>\n",
       "      <td>-1.0</td>\n",
       "      <td>50000.0</td>\n",
       "      <td>13752.41</td>\n",
       "      <td>0</td>\n",
       "    </tr>\n",
       "    <tr>\n",
       "      <th>6</th>\n",
       "      <td>2153</td>\n",
       "      <td>812.993185</td>\n",
       "      <td>3283</td>\n",
       "      <td>-1.0</td>\n",
       "      <td>50000.0</td>\n",
       "      <td>13688.39</td>\n",
       "      <td>0</td>\n",
       "    </tr>\n",
       "    <tr>\n",
       "      <th>7</th>\n",
       "      <td>1438</td>\n",
       "      <td>816.789213</td>\n",
       "      <td>2190</td>\n",
       "      <td>-1.0</td>\n",
       "      <td>50000.0</td>\n",
       "      <td>13670.47</td>\n",
       "      <td>0</td>\n",
       "    </tr>\n",
       "    <tr>\n",
       "      <th>8</th>\n",
       "      <td>2507</td>\n",
       "      <td>821.836242</td>\n",
       "      <td>3852</td>\n",
       "      <td>-1.0</td>\n",
       "      <td>50000.0</td>\n",
       "      <td>14055.13</td>\n",
       "      <td>0</td>\n",
       "    </tr>\n",
       "    <tr>\n",
       "      <th>9</th>\n",
       "      <td>300</td>\n",
       "      <td>830.879825</td>\n",
       "      <td>468</td>\n",
       "      <td>-1.0</td>\n",
       "      <td>50000.0</td>\n",
       "      <td>13615.01</td>\n",
       "      <td>0</td>\n",
       "    </tr>\n",
       "  </tbody>\n",
       "</table>\n",
       "</div>"
      ],
      "text/plain": [
       "   knn_indices  knn_distances  org_index  LoanApproval  AnnualSalary  \\\n",
       "0         2218     796.580700       3404          -1.0       50000.0   \n",
       "1         2221     796.667793       3409          -1.0       50000.0   \n",
       "2          612     796.921674        939          -1.0       50000.0   \n",
       "3          453     797.365017        700          -1.0       50000.0   \n",
       "4         2958     798.678287       4516          -1.0       50000.0   \n",
       "5           65     802.559314        100          -1.0       50000.0   \n",
       "6         2153     812.993185       3283          -1.0       50000.0   \n",
       "7         1438     816.789213       2190          -1.0       50000.0   \n",
       "8         2507     821.836242       3852          -1.0       50000.0   \n",
       "9          300     830.879825        468          -1.0       50000.0   \n",
       "\n",
       "   AccountBalance  Gender  \n",
       "0        13832.88       0  \n",
       "1        13829.55       0  \n",
       "2        13821.87       0  \n",
       "3        13811.83       0  \n",
       "4        13791.11       0  \n",
       "5        13752.41       0  \n",
       "6        13688.39       0  \n",
       "7        13670.47       0  \n",
       "8        14055.13       0  \n",
       "9        13615.01       0  "
      ]
     },
     "execution_count": 53,
     "metadata": {},
     "output_type": "execute_result"
    }
   ],
   "source": [
    "# RECALL knn_indices are the same wrt the search space but not wrt org input\n",
    "# we can uss the knn_indices to get the rest of information\n",
    "temp_tst_df = temp_tst_df.merge(search_tst_group, how='inner', left_on='knn_indices', right_index=True)\n",
    "temp_tst_df\n"
   ]
  },
  {
   "cell_type": "code",
   "execution_count": 54,
   "metadata": {},
   "outputs": [],
   "source": [
    "# store it\n",
    "temp_dict_df_neighbors['test'] = temp_tst_df"
   ]
  },
  {
   "cell_type": "code",
   "execution_count": 55,
   "metadata": {},
   "outputs": [],
   "source": [
    "# clean up\n",
    "del center_tst, knn_2, temp_tst_df, indices_2, distances_2, "
   ]
  },
  {
   "cell_type": "code",
   "execution_count": 56,
   "metadata": {},
   "outputs": [
    {
     "data": {
      "text/plain": [
       "{'control':    knn_indices  knn_distances  org_index  LoanApproval  AnnualSalary  \\\n",
       " 0         1247     123.293080       3591          -1.0         35000   \n",
       " 1         1648     242.262110       4789          -1.0         35000   \n",
       " 2          887     619.629419       2568          -1.0         34500   \n",
       " 3          811     672.139459       2355          -1.0         35000   \n",
       " 4         1020    1503.558569       2956          -1.0         36500   \n",
       " 5          100    1684.297020        279          -1.0         36500   \n",
       " 6          714    1687.306090       2082          -1.0         33500   \n",
       " 7         1337    1720.208821       3838          -1.0         33500   \n",
       " 8           64    1813.331950        204          -1.0         33500   \n",
       " 9          418    1816.848249       1213          -1.0         36500   \n",
       " \n",
       "    AccountBalance  Gender  \n",
       " 0     7824.385010       1  \n",
       " 1     7705.415980       1  \n",
       " 2     7581.699106       1  \n",
       " 3     8619.817549       1  \n",
       " 4     7844.293517       1  \n",
       " 5     7181.612524       1  \n",
       " 6     8720.337032       1  \n",
       " 7     7105.586416       1  \n",
       " 8     6928.770458       1  \n",
       " 9     6922.525633       1  ,\n",
       " 'test':    knn_indices  knn_distances  org_index  LoanApproval  AnnualSalary  \\\n",
       " 0         2218     796.580700       3404          -1.0       50000.0   \n",
       " 1         2221     796.667793       3409          -1.0       50000.0   \n",
       " 2          612     796.921674        939          -1.0       50000.0   \n",
       " 3          453     797.365017        700          -1.0       50000.0   \n",
       " 4         2958     798.678287       4516          -1.0       50000.0   \n",
       " 5           65     802.559314        100          -1.0       50000.0   \n",
       " 6         2153     812.993185       3283          -1.0       50000.0   \n",
       " 7         1438     816.789213       2190          -1.0       50000.0   \n",
       " 8         2507     821.836242       3852          -1.0       50000.0   \n",
       " 9          300     830.879825        468          -1.0       50000.0   \n",
       " \n",
       "    AccountBalance  Gender  \n",
       " 0        13832.88       0  \n",
       " 1        13829.55       0  \n",
       " 2        13821.87       0  \n",
       " 3        13811.83       0  \n",
       " 4        13791.11       0  \n",
       " 5        13752.41       0  \n",
       " 6        13688.39       0  \n",
       " 7        13670.47       0  \n",
       " 8        14055.13       0  \n",
       " 9        13615.01       0  }"
      ]
     },
     "execution_count": 56,
     "metadata": {},
     "output_type": "execute_result"
    }
   ],
   "source": [
    "temp_dict_df_neighbors"
   ]
  },
  {
   "cell_type": "code",
   "execution_count": 57,
   "metadata": {},
   "outputs": [],
   "source": [
    "#... later on\n",
    "dict_df_neighbors[ind] = temp_dict_df_neighbors"
   ]
  },
  {
   "cell_type": "code",
   "execution_count": 58,
   "metadata": {},
   "outputs": [
    {
     "data": {
      "text/plain": [
       "{0: {'control':    knn_indices  knn_distances  org_index  LoanApproval  AnnualSalary  \\\n",
       "  0         1247     123.293080       3591          -1.0         35000   \n",
       "  1         1648     242.262110       4789          -1.0         35000   \n",
       "  2          887     619.629419       2568          -1.0         34500   \n",
       "  3          811     672.139459       2355          -1.0         35000   \n",
       "  4         1020    1503.558569       2956          -1.0         36500   \n",
       "  5          100    1684.297020        279          -1.0         36500   \n",
       "  6          714    1687.306090       2082          -1.0         33500   \n",
       "  7         1337    1720.208821       3838          -1.0         33500   \n",
       "  8           64    1813.331950        204          -1.0         33500   \n",
       "  9          418    1816.848249       1213          -1.0         36500   \n",
       "  \n",
       "     AccountBalance  Gender  \n",
       "  0     7824.385010       1  \n",
       "  1     7705.415980       1  \n",
       "  2     7581.699106       1  \n",
       "  3     8619.817549       1  \n",
       "  4     7844.293517       1  \n",
       "  5     7181.612524       1  \n",
       "  6     8720.337032       1  \n",
       "  7     7105.586416       1  \n",
       "  8     6928.770458       1  \n",
       "  9     6922.525633       1  ,\n",
       "  'test':    knn_indices  knn_distances  org_index  LoanApproval  AnnualSalary  \\\n",
       "  0         2218     796.580700       3404          -1.0       50000.0   \n",
       "  1         2221     796.667793       3409          -1.0       50000.0   \n",
       "  2          612     796.921674        939          -1.0       50000.0   \n",
       "  3          453     797.365017        700          -1.0       50000.0   \n",
       "  4         2958     798.678287       4516          -1.0       50000.0   \n",
       "  5           65     802.559314        100          -1.0       50000.0   \n",
       "  6         2153     812.993185       3283          -1.0       50000.0   \n",
       "  7         1438     816.789213       2190          -1.0       50000.0   \n",
       "  8         2507     821.836242       3852          -1.0       50000.0   \n",
       "  9          300     830.879825        468          -1.0       50000.0   \n",
       "  \n",
       "     AccountBalance  Gender  \n",
       "  0        13832.88       0  \n",
       "  1        13829.55       0  \n",
       "  2        13821.87       0  \n",
       "  3        13811.83       0  \n",
       "  4        13791.11       0  \n",
       "  5        13752.41       0  \n",
       "  6        13688.39       0  \n",
       "  7        13670.47       0  \n",
       "  8        14055.13       0  \n",
       "  9        13615.01       0  }}"
      ]
     },
     "execution_count": 58,
     "metadata": {},
     "output_type": "execute_result"
    }
   ],
   "source": [
    "#recall that ind is the same across df and cf_df\n",
    "dict_df_neighbors"
   ]
  },
  {
   "cell_type": "code",
   "execution_count": null,
   "metadata": {},
   "outputs": [],
   "source": []
  },
  {
   "cell_type": "code",
   "execution_count": null,
   "metadata": {},
   "outputs": [],
   "source": []
  },
  {
   "cell_type": "code",
   "execution_count": null,
   "metadata": {},
   "outputs": [],
   "source": []
  },
  {
   "cell_type": "code",
   "execution_count": null,
   "metadata": {},
   "outputs": [],
   "source": [
    "df.loc[0,]"
   ]
  },
  {
   "cell_type": "code",
   "execution_count": null,
   "metadata": {},
   "outputs": [],
   "source": [
    "search_ctr_group.loc[857,]"
   ]
  },
  {
   "cell_type": "code",
   "execution_count": null,
   "metadata": {},
   "outputs": [],
   "source": [
    "df.loc[857,] # different ppl!!!"
   ]
  },
  {
   "cell_type": "code",
   "execution_count": null,
   "metadata": {},
   "outputs": [],
   "source": []
  },
  {
   "cell_type": "code",
   "execution_count": null,
   "metadata": {},
   "outputs": [],
   "source": [
    "from sklearn.neighbors import BallTree\n",
    "rng = np.random.RandomState(0)\n",
    "X = rng.random_sample((10, 3))\n",
    "print(X)\n",
    "print('---')\n",
    "print(X[:1])\n",
    "tree = BallTree(X, leaf_size=2)              \n",
    "dist, ind = tree.query(X[:1], k=3)                \n",
    "print(ind)  # indices of 3 closest neighbors\n",
    "#[0 3 1]\n",
    "print(dist)  # distances to 3 closest neighbors\n",
    "#[ 0.          0.19662693  0.29473397]"
   ]
  }
 ],
 "metadata": {
  "kernelspec": {
   "display_name": "Python 3",
   "language": "python",
   "name": "python3"
  },
  "language_info": {
   "codemirror_mode": {
    "name": "ipython",
    "version": 3
   },
   "file_extension": ".py",
   "mimetype": "text/x-python",
   "name": "python",
   "nbconvert_exporter": "python",
   "pygments_lexer": "ipython3",
   "version": "3.8.5"
  }
 },
 "nbformat": 4,
 "nbformat_minor": 4
}
