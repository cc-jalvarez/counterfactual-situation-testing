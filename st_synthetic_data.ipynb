{
 "cells": [
  {
   "cell_type": "markdown",
   "metadata": {},
   "source": [
    "Working script for cfST\n",
    "\n",
    "Use to greate the functions from_groups(), test_disc()... part of run_cfST()\n",
    "\n",
    "From Salvatore's paper: \"it boils down to the Manhattan distance of z-scores\""
   ]
  },
  {
   "cell_type": "code",
   "execution_count": 50,
   "metadata": {},
   "outputs": [],
   "source": [
    "import os\n",
    "import pandas as pd\n",
    "import numpy as np\n",
    "import matplotlib.pyplot as plt\n",
    "import scipy.stats as st\n",
    "import math\n",
    "from sklearn import preprocessing\n",
    "from sklearn.neighbors import NearestNeighbors"
   ]
  },
  {
   "cell_type": "code",
   "execution_count": 2,
   "metadata": {},
   "outputs": [],
   "source": [
    "# set working directory - note: all code runs from the src folder\n",
    "wrk_dir = os.getcwd()\n",
    "# data path\n",
    "data_path = wrk_dir + '\\\\' + 'data' + '\\\\'\n",
    "# results path\n",
    "resu_path = wrk_dir + '\\\\' + 'results\\\\counterfactuals' + '\\\\'"
   ]
  },
  {
   "cell_type": "code",
   "execution_count": 3,
   "metadata": {},
   "outputs": [
    {
     "name": "stdout",
     "output_type": "stream",
     "text": [
      "(4993, 6)\n",
      "(4993, 6)\n"
     ]
    }
   ],
   "source": [
    "df    = pd.read_csv(data_path + 'Karimi2020_v2.csv', sep='|', )\n",
    "print(df.shape)\n",
    "cf_df = pd.read_csv(resu_path + 'cf_Karimi2020_v2.csv', sep='|', )\n",
    "print(cf_df.shape)"
   ]
  },
  {
   "cell_type": "code",
   "execution_count": 4,
   "metadata": {},
   "outputs": [
    {
     "data": {
      "text/plain": [
       "34.288"
      ]
     },
     "execution_count": 4,
     "metadata": {},
     "output_type": "execute_result"
    }
   ],
   "source": [
    "round(df[df['Gender']==1].shape[0]/df.shape[0]*100, 3) # perc. of women in df\n",
    "#df[df['Gender']==0].shape[0]/df.shape[0]*100"
   ]
  },
  {
   "cell_type": "code",
   "execution_count": 5,
   "metadata": {},
   "outputs": [],
   "source": [
    "# plt.hist(df['LoanApproval'])\n",
    "# plt.hist(cf_df['LoanApproval']) # number of denied loans drops!"
   ]
  },
  {
   "cell_type": "code",
   "execution_count": 6,
   "metadata": {},
   "outputs": [
    {
     "name": "stdout",
     "output_type": "stream",
     "text": [
      "13.498898457840976\n",
      "--- vs ---\n",
      "21.029441217704786\n"
     ]
    }
   ],
   "source": [
    "print(df[(df['Gender']==1) & (df['LoanApproval']==1)].shape[0]/df.shape[0]*100)\n",
    "print('--- vs ---')\n",
    "print(cf_df[(cf_df['Gender']==1) & (cf_df['LoanApproval']==1)].shape[0]/cf_df.shape[0]*100)"
   ]
  },
  {
   "cell_type": "code",
   "execution_count": 7,
   "metadata": {},
   "outputs": [
    {
     "data": {
      "text/plain": [
       "['LoanApproval', 'AnnualSalary', 'AccountBalance', 'Gender']"
      ]
     },
     "execution_count": 7,
     "metadata": {},
     "output_type": "execute_result"
    }
   ],
   "source": [
    "feat_trgt = ['LoanApproval']\n",
    "# feat_rlvt = ['AnnualSalary']\n",
    "feat_rlvt = ['AnnualSalary', 'AccountBalance']\n",
    "feat_prot = 'Gender' # extend later for more than one (intersectionality???)\n",
    "feat_prot_vals = {'non_prot': 0, 'prot': 1}\n",
    "\n",
    "# future params!\n",
    "# protected_group = {'Gender': 1} \n",
    "n = 10 # determine by power analysis? (future extension)\n",
    "d = 'manhattan' # ‘manhattan’ - see https://scikit-learn.org/stable/modules/generated/sklearn.metrics.pairwise.distance_metrics.html\n",
    "\n",
    "feat_list = feat_trgt + feat_rlvt\n",
    "feat_list.append(feat_prot)\n",
    "feat_list"
   ]
  },
  {
   "cell_type": "code",
   "execution_count": 8,
   "metadata": {},
   "outputs": [],
   "source": [
    "# TODO: we'll need a prepocessing step\n",
    "# normalize option; weighted option\n",
    "\n",
    "weights = None\n",
    "# else weights = {} where len(weights) != len(rlvt_feat): exit\n",
    "standardize = True"
   ]
  },
  {
   "cell_type": "markdown",
   "metadata": {},
   "source": [
    "Under counterfactual situation testing, for the protected group we need to create two groups: a *control group* (CG) centered on the factuals and a *test group* (TG) centered on the counterfactuals. In practice, this means that we take individual women and compare them to other similar women using some distance $d_1$ to construct CG, while we take their corresponding counterfactuals and compare them to similar men using some distance $d_2$. We start off with $d_1=d_2$. We create the groups using a KNN algorithm.\n",
    "\n",
    "Under this approach, rather than centering both CG and TG on the same (factual) instance, we construct the hypothetical group (*what would have happened had the female individual been male?*) by allowing for all variables to adjust due to the change in $A$. This is our implementation of what Kohler defined as *fairness given the difference* and what she arguess through her Eddie Murphy paper."
   ]
  },
  {
   "cell_type": "code",
   "execution_count": 9,
   "metadata": {},
   "outputs": [
    {
     "name": "stdout",
     "output_type": "stream",
     "text": [
      "(1712, 2)\n",
      "(3281, 2)\n"
     ]
    }
   ],
   "source": [
    "# 1) Setup the respectice search spaces for control (ctr) and test (tst) groups\n",
    "\n",
    "df_ctr = df[df[feat_prot]==feat_prot_vals['prot']][feat_list].copy()\n",
    "df_tst = cf_df[cf_df[feat_prot]==feat_prot_vals['non_prot']][feat_list].copy()\n",
    "# del df, cf_df : I CANT!!! need to keep them for getting the centroids! think later of a more efficient way\n",
    "\n",
    "search_ctr_group = df_ctr[feat_rlvt].copy()  #the search space is just the group-specific df with only rlvt features\n",
    "print(search_ctr_group.shape)\n",
    "\n",
    "search_tst_group = df_tst[feat_rlvt].copy()\n",
    "print(search_tst_group.shape)\n",
    "\n",
    "# search_ctr_group = df[df[feat_prot]==feat_prot_vals['prot']][feat_rlvt].copy()  #[feat_list]\n",
    "# print(search_ctr_group.shape)\n",
    "\n",
    "# search_tst_group = cf_df[cf_df[feat_prot]==feat_prot_vals['non_prot']][feat_rlvt].copy()\n",
    "# print(search_tst_group.shape)\n",
    "\n",
    "df_ctr.reset_index(inplace=True, )\n",
    "df_ctr.rename(columns={'index': 'org_index'}, inplace=True)\n",
    "\n",
    "df_tst.reset_index(inplace=True, )\n",
    "df_tst.rename(columns={'index': 'org_index'}, inplace=True)"
   ]
  },
  {
   "cell_type": "code",
   "execution_count": 10,
   "metadata": {},
   "outputs": [
    {
     "data": {
      "text/html": [
       "<div>\n",
       "<style scoped>\n",
       "    .dataframe tbody tr th:only-of-type {\n",
       "        vertical-align: middle;\n",
       "    }\n",
       "\n",
       "    .dataframe tbody tr th {\n",
       "        vertical-align: top;\n",
       "    }\n",
       "\n",
       "    .dataframe thead th {\n",
       "        text-align: right;\n",
       "    }\n",
       "</style>\n",
       "<table border=\"1\" class=\"dataframe\">\n",
       "  <thead>\n",
       "    <tr style=\"text-align: right;\">\n",
       "      <th></th>\n",
       "      <th>org_index</th>\n",
       "      <th>LoanApproval</th>\n",
       "      <th>AnnualSalary</th>\n",
       "      <th>AccountBalance</th>\n",
       "      <th>Gender</th>\n",
       "    </tr>\n",
       "  </thead>\n",
       "  <tbody>\n",
       "    <tr>\n",
       "      <th>0</th>\n",
       "      <td>0</td>\n",
       "      <td>-1.0</td>\n",
       "      <td>35000</td>\n",
       "      <td>7947.678090</td>\n",
       "      <td>1</td>\n",
       "    </tr>\n",
       "    <tr>\n",
       "      <th>1</th>\n",
       "      <td>4</td>\n",
       "      <td>1.0</td>\n",
       "      <td>201000</td>\n",
       "      <td>59008.567839</td>\n",
       "      <td>1</td>\n",
       "    </tr>\n",
       "    <tr>\n",
       "      <th>2</th>\n",
       "      <td>5</td>\n",
       "      <td>1.0</td>\n",
       "      <td>102000</td>\n",
       "      <td>26000.811689</td>\n",
       "      <td>1</td>\n",
       "    </tr>\n",
       "    <tr>\n",
       "      <th>3</th>\n",
       "      <td>6</td>\n",
       "      <td>-1.0</td>\n",
       "      <td>68000</td>\n",
       "      <td>15064.447848</td>\n",
       "      <td>1</td>\n",
       "    </tr>\n",
       "    <tr>\n",
       "      <th>4</th>\n",
       "      <td>9</td>\n",
       "      <td>-1.0</td>\n",
       "      <td>84500</td>\n",
       "      <td>21275.931413</td>\n",
       "      <td>1</td>\n",
       "    </tr>\n",
       "  </tbody>\n",
       "</table>\n",
       "</div>"
      ],
      "text/plain": [
       "   org_index  LoanApproval  AnnualSalary  AccountBalance  Gender\n",
       "0          0          -1.0         35000     7947.678090       1\n",
       "1          4           1.0        201000    59008.567839       1\n",
       "2          5           1.0        102000    26000.811689       1\n",
       "3          6          -1.0         68000    15064.447848       1\n",
       "4          9          -1.0         84500    21275.931413       1"
      ]
     },
     "execution_count": 10,
     "metadata": {},
     "output_type": "execute_result"
    }
   ],
   "source": [
    "df_ctr.head(5)"
   ]
  },
  {
   "cell_type": "code",
   "execution_count": 11,
   "metadata": {},
   "outputs": [
    {
     "data": {
      "text/html": [
       "<div>\n",
       "<style scoped>\n",
       "    .dataframe tbody tr th:only-of-type {\n",
       "        vertical-align: middle;\n",
       "    }\n",
       "\n",
       "    .dataframe tbody tr th {\n",
       "        vertical-align: top;\n",
       "    }\n",
       "\n",
       "    .dataframe thead th {\n",
       "        text-align: right;\n",
       "    }\n",
       "</style>\n",
       "<table border=\"1\" class=\"dataframe\">\n",
       "  <thead>\n",
       "    <tr style=\"text-align: right;\">\n",
       "      <th></th>\n",
       "      <th>org_index</th>\n",
       "      <th>LoanApproval</th>\n",
       "      <th>AnnualSalary</th>\n",
       "      <th>AccountBalance</th>\n",
       "      <th>Gender</th>\n",
       "    </tr>\n",
       "  </thead>\n",
       "  <tbody>\n",
       "    <tr>\n",
       "      <th>0</th>\n",
       "      <td>1</td>\n",
       "      <td>1.0</td>\n",
       "      <td>120000.0</td>\n",
       "      <td>36940.10</td>\n",
       "      <td>0</td>\n",
       "    </tr>\n",
       "    <tr>\n",
       "      <th>1</th>\n",
       "      <td>2</td>\n",
       "      <td>-1.0</td>\n",
       "      <td>90000.0</td>\n",
       "      <td>23564.13</td>\n",
       "      <td>0</td>\n",
       "    </tr>\n",
       "    <tr>\n",
       "      <th>2</th>\n",
       "      <td>3</td>\n",
       "      <td>-1.0</td>\n",
       "      <td>80000.0</td>\n",
       "      <td>27596.57</td>\n",
       "      <td>0</td>\n",
       "    </tr>\n",
       "    <tr>\n",
       "      <th>3</th>\n",
       "      <td>7</td>\n",
       "      <td>1.0</td>\n",
       "      <td>140000.0</td>\n",
       "      <td>45716.98</td>\n",
       "      <td>0</td>\n",
       "    </tr>\n",
       "    <tr>\n",
       "      <th>4</th>\n",
       "      <td>8</td>\n",
       "      <td>-1.0</td>\n",
       "      <td>70000.0</td>\n",
       "      <td>22540.65</td>\n",
       "      <td>0</td>\n",
       "    </tr>\n",
       "  </tbody>\n",
       "</table>\n",
       "</div>"
      ],
      "text/plain": [
       "   org_index  LoanApproval  AnnualSalary  AccountBalance  Gender\n",
       "0          1           1.0      120000.0        36940.10       0\n",
       "1          2          -1.0       90000.0        23564.13       0\n",
       "2          3          -1.0       80000.0        27596.57       0\n",
       "3          7           1.0      140000.0        45716.98       0\n",
       "4          8          -1.0       70000.0        22540.65       0"
      ]
     },
     "execution_count": 11,
     "metadata": {},
     "output_type": "execute_result"
    }
   ],
   "source": [
    "df_tst.head(5)"
   ]
  },
  {
   "cell_type": "code",
   "execution_count": 12,
   "metadata": {},
   "outputs": [
    {
     "name": "stdout",
     "output_type": "stream",
     "text": [
      "standardizing\n"
     ]
    }
   ],
   "source": [
    "if standardize:\n",
    "    \n",
    "    print('standardizing')\n",
    "    \n",
    "    scaler = preprocessing.StandardScaler()\n",
    "    \n",
    "    search_ctr_group_scaled = scaler.fit_transform(search_ctr_group)\n",
    "    search_ctr_group_scaled = pd.DataFrame(search_ctr_group_scaled, \n",
    "                                           index=search_ctr_group.index, \n",
    "                                           columns=search_ctr_group.columns)\n",
    "\n",
    "    search_ctr_group = search_ctr_group_scaled\n",
    "    del search_ctr_group_scaled\n",
    "    \n",
    "    search_tst_group_scaled = scaler.fit_transform(search_tst_group)\n",
    "    search_tst_group_scaled = pd.DataFrame(search_tst_group_scaled, \n",
    "                                           index=search_tst_group.index, \n",
    "                                           columns=search_tst_group.columns)\n",
    "\n",
    "    search_tst_group = search_tst_group_scaled\n",
    "    del search_tst_group_scaled\n",
    "\n",
    "if weights:\n",
    "    print('weighting')\n"
   ]
  },
  {
   "cell_type": "code",
   "execution_count": 13,
   "metadata": {},
   "outputs": [],
   "source": [
    "# # keep track of old / new indices: KNN seems to retunr indices that are absolute (?)\n",
    "# search_ctr_group.reset_index(inplace=True, )\n",
    "# search_ctr_group.rename(columns={'index': 'org_index'}, inplace=True)\n",
    "\n",
    "# search_tst_group.reset_index(inplace=True, )\n",
    "# search_tst_group.rename(columns={'index': 'org_index'}, inplace=True)"
   ]
  },
  {
   "cell_type": "code",
   "execution_count": 14,
   "metadata": {},
   "outputs": [
    {
     "data": {
      "text/html": [
       "<div>\n",
       "<style scoped>\n",
       "    .dataframe tbody tr th:only-of-type {\n",
       "        vertical-align: middle;\n",
       "    }\n",
       "\n",
       "    .dataframe tbody tr th {\n",
       "        vertical-align: top;\n",
       "    }\n",
       "\n",
       "    .dataframe thead th {\n",
       "        text-align: right;\n",
       "    }\n",
       "</style>\n",
       "<table border=\"1\" class=\"dataframe\">\n",
       "  <thead>\n",
       "    <tr style=\"text-align: right;\">\n",
       "      <th></th>\n",
       "      <th>AnnualSalary</th>\n",
       "      <th>AccountBalance</th>\n",
       "    </tr>\n",
       "  </thead>\n",
       "  <tbody>\n",
       "    <tr>\n",
       "      <th>0</th>\n",
       "      <td>-1.576557</td>\n",
       "      <td>-1.671135</td>\n",
       "    </tr>\n",
       "    <tr>\n",
       "      <th>4</th>\n",
       "      <td>3.672421</td>\n",
       "      <td>3.546198</td>\n",
       "    </tr>\n",
       "    <tr>\n",
       "      <th>5</th>\n",
       "      <td>0.542006</td>\n",
       "      <td>0.173510</td>\n",
       "    </tr>\n",
       "    <tr>\n",
       "      <th>6</th>\n",
       "      <td>-0.533085</td>\n",
       "      <td>-0.943953</td>\n",
       "    </tr>\n",
       "    <tr>\n",
       "      <th>9</th>\n",
       "      <td>-0.011350</td>\n",
       "      <td>-0.309272</td>\n",
       "    </tr>\n",
       "  </tbody>\n",
       "</table>\n",
       "</div>"
      ],
      "text/plain": [
       "   AnnualSalary  AccountBalance\n",
       "0     -1.576557       -1.671135\n",
       "4      3.672421        3.546198\n",
       "5      0.542006        0.173510\n",
       "6     -0.533085       -0.943953\n",
       "9     -0.011350       -0.309272"
      ]
     },
     "execution_count": 14,
     "metadata": {},
     "output_type": "execute_result"
    }
   ],
   "source": [
    "search_ctr_group.head(5)"
   ]
  },
  {
   "cell_type": "code",
   "execution_count": 15,
   "metadata": {},
   "outputs": [
    {
     "data": {
      "text/html": [
       "<div>\n",
       "<style scoped>\n",
       "    .dataframe tbody tr th:only-of-type {\n",
       "        vertical-align: middle;\n",
       "    }\n",
       "\n",
       "    .dataframe tbody tr th {\n",
       "        vertical-align: top;\n",
       "    }\n",
       "\n",
       "    .dataframe thead th {\n",
       "        text-align: right;\n",
       "    }\n",
       "</style>\n",
       "<table border=\"1\" class=\"dataframe\">\n",
       "  <thead>\n",
       "    <tr style=\"text-align: right;\">\n",
       "      <th></th>\n",
       "      <th>AnnualSalary</th>\n",
       "      <th>AccountBalance</th>\n",
       "    </tr>\n",
       "  </thead>\n",
       "  <tbody>\n",
       "    <tr>\n",
       "      <th>1</th>\n",
       "      <td>0.595142</td>\n",
       "      <td>0.670098</td>\n",
       "    </tr>\n",
       "    <tr>\n",
       "      <th>2</th>\n",
       "      <td>-0.327811</td>\n",
       "      <td>-0.661134</td>\n",
       "    </tr>\n",
       "    <tr>\n",
       "      <th>3</th>\n",
       "      <td>-0.635462</td>\n",
       "      <td>-0.259809</td>\n",
       "    </tr>\n",
       "    <tr>\n",
       "      <th>7</th>\n",
       "      <td>1.210443</td>\n",
       "      <td>1.543611</td>\n",
       "    </tr>\n",
       "    <tr>\n",
       "      <th>8</th>\n",
       "      <td>-0.943112</td>\n",
       "      <td>-0.762996</td>\n",
       "    </tr>\n",
       "  </tbody>\n",
       "</table>\n",
       "</div>"
      ],
      "text/plain": [
       "   AnnualSalary  AccountBalance\n",
       "1      0.595142        0.670098\n",
       "2     -0.327811       -0.661134\n",
       "3     -0.635462       -0.259809\n",
       "7      1.210443        1.543611\n",
       "8     -0.943112       -0.762996"
      ]
     },
     "execution_count": 15,
     "metadata": {},
     "output_type": "execute_result"
    }
   ],
   "source": [
    "search_tst_group.head(5)"
   ]
  },
  {
   "cell_type": "code",
   "execution_count": 16,
   "metadata": {},
   "outputs": [],
   "source": [
    "# start the main function here\n",
    "\n",
    "# store neighboors here\n",
    "dict_df_neighbors = {}"
   ]
  },
  {
   "cell_type": "code",
   "execution_count": 17,
   "metadata": {},
   "outputs": [
    {
     "name": "stdout",
     "output_type": "stream",
     "text": [
      "AnnualSalary      35000.00000\n",
      "AccountBalance     7947.67809\n",
      "Name: 0, dtype: float64\n",
      "AnnualSalary      50796.35\n",
      "AccountBalance    13852.05\n",
      "Name: 0, dtype: float64\n",
      "[[35000.          7947.67808994]]\n",
      "[[50796.35 13852.05]]\n"
     ]
    }
   ],
   "source": [
    "# 2) For eahc ind(ividual) set the centers\n",
    "\n",
    "ind = 0 # start loop or map get_neighboors()\n",
    "\n",
    "# for storing the neighboors \n",
    "temp_dict_df_neighbors = {}\n",
    "\n",
    "# get ctr center from factual df\n",
    "center_ctr = df.loc[ind, feat_rlvt]\n",
    "print(center_ctr)\n",
    "\n",
    "# get tst center from counterfactual df \n",
    "center_tst = cf_df.loc[ind, feat_rlvt]\n",
    "print(center_tst)\n",
    "\n",
    "# prepare for knn\n",
    "if len(feat_rlvt) > 1:\n",
    "    center_ctr = center_ctr.values.reshape(1, -1)\n",
    "    center_tst = center_tst.values.reshape(1, -1)\n",
    "else:\n",
    "    center_ctr = center_ctr.values.reshape(-1, 1)\n",
    "    center_tst = center_tst.values.reshape(-1, 1)\n",
    "\n",
    "print(center_ctr)\n",
    "print(center_tst)"
   ]
  },
  {
   "cell_type": "code",
   "execution_count": 18,
   "metadata": {},
   "outputs": [
    {
     "data": {
      "text/plain": [
       "NearestNeighbors(algorithm='ball_tree', metric='manhattan', n_neighbors=11)"
      ]
     },
     "execution_count": 18,
     "metadata": {},
     "output_type": "execute_result"
    }
   ],
   "source": [
    "# 3) Control Group for ind\n",
    "\n",
    "# NOTE: by default, the control group search space will include ind, which will appear as a neighbor (distrance will be 0.0)\n",
    "knn_1 = NearestNeighbors(n_neighbors = n + 1, algorithm='ball_tree', metric = d).fit(search_ctr_group[feat_rlvt])\n",
    "knn_1"
   ]
  },
  {
   "cell_type": "code",
   "execution_count": 19,
   "metadata": {},
   "outputs": [],
   "source": [
    "distances_1, indices_1 = knn_1.kneighbors(center_ctr)"
   ]
  },
  {
   "cell_type": "code",
   "execution_count": 20,
   "metadata": {},
   "outputs": [
    {
     "data": {
      "text/html": [
       "<div>\n",
       "<style scoped>\n",
       "    .dataframe tbody tr th:only-of-type {\n",
       "        vertical-align: middle;\n",
       "    }\n",
       "\n",
       "    .dataframe tbody tr th {\n",
       "        vertical-align: top;\n",
       "    }\n",
       "\n",
       "    .dataframe thead th {\n",
       "        text-align: right;\n",
       "    }\n",
       "</style>\n",
       "<table border=\"1\" class=\"dataframe\">\n",
       "  <thead>\n",
       "    <tr style=\"text-align: right;\">\n",
       "      <th></th>\n",
       "      <th>knn_indices</th>\n",
       "      <th>knn_distances</th>\n",
       "    </tr>\n",
       "  </thead>\n",
       "  <tbody>\n",
       "    <tr>\n",
       "      <th>0</th>\n",
       "      <td>1</td>\n",
       "      <td>42940.459472</td>\n",
       "    </tr>\n",
       "    <tr>\n",
       "      <th>1</th>\n",
       "      <td>1204</td>\n",
       "      <td>42940.480342</td>\n",
       "    </tr>\n",
       "    <tr>\n",
       "      <th>2</th>\n",
       "      <td>473</td>\n",
       "      <td>42941.166106</td>\n",
       "    </tr>\n",
       "    <tr>\n",
       "      <th>3</th>\n",
       "      <td>1665</td>\n",
       "      <td>42941.642035</td>\n",
       "    </tr>\n",
       "    <tr>\n",
       "      <th>4</th>\n",
       "      <td>53</td>\n",
       "      <td>42941.675902</td>\n",
       "    </tr>\n",
       "    <tr>\n",
       "      <th>5</th>\n",
       "      <td>1690</td>\n",
       "      <td>42942.057525</td>\n",
       "    </tr>\n",
       "    <tr>\n",
       "      <th>6</th>\n",
       "      <td>260</td>\n",
       "      <td>42942.169146</td>\n",
       "    </tr>\n",
       "    <tr>\n",
       "      <th>7</th>\n",
       "      <td>910</td>\n",
       "      <td>42942.183429</td>\n",
       "    </tr>\n",
       "    <tr>\n",
       "      <th>8</th>\n",
       "      <td>405</td>\n",
       "      <td>42942.301214</td>\n",
       "    </tr>\n",
       "    <tr>\n",
       "      <th>9</th>\n",
       "      <td>1689</td>\n",
       "      <td>42942.335938</td>\n",
       "    </tr>\n",
       "    <tr>\n",
       "      <th>10</th>\n",
       "      <td>606</td>\n",
       "      <td>42942.554972</td>\n",
       "    </tr>\n",
       "  </tbody>\n",
       "</table>\n",
       "</div>"
      ],
      "text/plain": [
       "    knn_indices  knn_distances\n",
       "0             1   42940.459472\n",
       "1          1204   42940.480342\n",
       "2           473   42941.166106\n",
       "3          1665   42941.642035\n",
       "4            53   42941.675902\n",
       "5          1690   42942.057525\n",
       "6           260   42942.169146\n",
       "7           910   42942.183429\n",
       "8           405   42942.301214\n",
       "9          1689   42942.335938\n",
       "10          606   42942.554972"
      ]
     },
     "execution_count": 20,
     "metadata": {},
     "output_type": "execute_result"
    }
   ],
   "source": [
    "temp_ctr_df = pd.DataFrame()\n",
    "temp_ctr_df['knn_indices'] = pd.Series(indices_1[0])\n",
    "temp_ctr_df['knn_distances'] = pd.Series(distances_1[0])\n",
    "temp_ctr_df.sort_values(by='knn_distances', ascending=True, inplace=True)\n",
    "# HERE we can drop neighbors based on the distance!\n",
    "temp_ctr_df"
   ]
  },
  {
   "cell_type": "code",
   "execution_count": 21,
   "metadata": {},
   "outputs": [
    {
     "data": {
      "text/html": [
       "<div>\n",
       "<style scoped>\n",
       "    .dataframe tbody tr th:only-of-type {\n",
       "        vertical-align: middle;\n",
       "    }\n",
       "\n",
       "    .dataframe tbody tr th {\n",
       "        vertical-align: top;\n",
       "    }\n",
       "\n",
       "    .dataframe thead th {\n",
       "        text-align: right;\n",
       "    }\n",
       "</style>\n",
       "<table border=\"1\" class=\"dataframe\">\n",
       "  <thead>\n",
       "    <tr style=\"text-align: right;\">\n",
       "      <th></th>\n",
       "      <th>knn_indices</th>\n",
       "      <th>knn_distances</th>\n",
       "      <th>org_index</th>\n",
       "      <th>LoanApproval</th>\n",
       "      <th>AnnualSalary</th>\n",
       "      <th>AccountBalance</th>\n",
       "      <th>Gender</th>\n",
       "    </tr>\n",
       "  </thead>\n",
       "  <tbody>\n",
       "    <tr>\n",
       "      <th>0</th>\n",
       "      <td>1</td>\n",
       "      <td>42940.459472</td>\n",
       "      <td>4</td>\n",
       "      <td>1.0</td>\n",
       "      <td>201000</td>\n",
       "      <td>59008.567839</td>\n",
       "      <td>1</td>\n",
       "    </tr>\n",
       "    <tr>\n",
       "      <th>1</th>\n",
       "      <td>1204</td>\n",
       "      <td>42940.480342</td>\n",
       "      <td>3465</td>\n",
       "      <td>1.0</td>\n",
       "      <td>199500</td>\n",
       "      <td>59268.504239</td>\n",
       "      <td>1</td>\n",
       "    </tr>\n",
       "    <tr>\n",
       "      <th>2</th>\n",
       "      <td>473</td>\n",
       "      <td>42941.166106</td>\n",
       "      <td>1356</td>\n",
       "      <td>1.0</td>\n",
       "      <td>190500</td>\n",
       "      <td>55342.236169</td>\n",
       "      <td>1</td>\n",
       "    </tr>\n",
       "    <tr>\n",
       "      <th>3</th>\n",
       "      <td>1665</td>\n",
       "      <td>42941.642035</td>\n",
       "      <td>4860</td>\n",
       "      <td>1.0</td>\n",
       "      <td>190500</td>\n",
       "      <td>50684.422553</td>\n",
       "      <td>1</td>\n",
       "    </tr>\n",
       "    <tr>\n",
       "      <th>4</th>\n",
       "      <td>53</td>\n",
       "      <td>42941.675902</td>\n",
       "      <td>174</td>\n",
       "      <td>1.0</td>\n",
       "      <td>183500</td>\n",
       "      <td>52519.208993</td>\n",
       "      <td>1</td>\n",
       "    </tr>\n",
       "    <tr>\n",
       "      <th>5</th>\n",
       "      <td>1690</td>\n",
       "      <td>42942.057525</td>\n",
       "      <td>4914</td>\n",
       "      <td>1.0</td>\n",
       "      <td>169500</td>\n",
       "      <td>53116.803967</td>\n",
       "      <td>1</td>\n",
       "    </tr>\n",
       "    <tr>\n",
       "      <th>6</th>\n",
       "      <td>260</td>\n",
       "      <td>42942.169146</td>\n",
       "      <td>749</td>\n",
       "      <td>1.0</td>\n",
       "      <td>175000</td>\n",
       "      <td>50322.351188</td>\n",
       "      <td>1</td>\n",
       "    </tr>\n",
       "    <tr>\n",
       "      <th>7</th>\n",
       "      <td>910</td>\n",
       "      <td>42942.183429</td>\n",
       "      <td>2644</td>\n",
       "      <td>1.0</td>\n",
       "      <td>169500</td>\n",
       "      <td>51884.608880</td>\n",
       "      <td>1</td>\n",
       "    </tr>\n",
       "    <tr>\n",
       "      <th>8</th>\n",
       "      <td>405</td>\n",
       "      <td>42942.301214</td>\n",
       "      <td>1176</td>\n",
       "      <td>1.0</td>\n",
       "      <td>169500</td>\n",
       "      <td>50731.873589</td>\n",
       "      <td>1</td>\n",
       "    </tr>\n",
       "    <tr>\n",
       "      <th>9</th>\n",
       "      <td>1689</td>\n",
       "      <td>42942.335938</td>\n",
       "      <td>4913</td>\n",
       "      <td>1.0</td>\n",
       "      <td>161000</td>\n",
       "      <td>53022.458327</td>\n",
       "      <td>1</td>\n",
       "    </tr>\n",
       "    <tr>\n",
       "      <th>10</th>\n",
       "      <td>606</td>\n",
       "      <td>42942.554972</td>\n",
       "      <td>1781</td>\n",
       "      <td>1.0</td>\n",
       "      <td>165000</td>\n",
       "      <td>49640.977964</td>\n",
       "      <td>1</td>\n",
       "    </tr>\n",
       "  </tbody>\n",
       "</table>\n",
       "</div>"
      ],
      "text/plain": [
       "    knn_indices  knn_distances  org_index  LoanApproval  AnnualSalary  \\\n",
       "0             1   42940.459472          4           1.0        201000   \n",
       "1          1204   42940.480342       3465           1.0        199500   \n",
       "2           473   42941.166106       1356           1.0        190500   \n",
       "3          1665   42941.642035       4860           1.0        190500   \n",
       "4            53   42941.675902        174           1.0        183500   \n",
       "5          1690   42942.057525       4914           1.0        169500   \n",
       "6           260   42942.169146        749           1.0        175000   \n",
       "7           910   42942.183429       2644           1.0        169500   \n",
       "8           405   42942.301214       1176           1.0        169500   \n",
       "9          1689   42942.335938       4913           1.0        161000   \n",
       "10          606   42942.554972       1781           1.0        165000   \n",
       "\n",
       "    AccountBalance  Gender  \n",
       "0     59008.567839       1  \n",
       "1     59268.504239       1  \n",
       "2     55342.236169       1  \n",
       "3     50684.422553       1  \n",
       "4     52519.208993       1  \n",
       "5     53116.803967       1  \n",
       "6     50322.351188       1  \n",
       "7     51884.608880       1  \n",
       "8     50731.873589       1  \n",
       "9     53022.458327       1  \n",
       "10    49640.977964       1  "
      ]
     },
     "execution_count": 21,
     "metadata": {},
     "output_type": "execute_result"
    }
   ],
   "source": [
    "# RECALL knn_indices are the same wrt the search space but not wrt org input\n",
    "# we can uss the knn_indices to get the rest of information\n",
    "temp_ctr_df = temp_ctr_df.merge(df_ctr, how='inner', left_on='knn_indices', right_index=True)\n",
    "# temp_ctr_df = temp_ctr_df.merge(search_ctr_group, how='inner', left_on='knn_indices', right_index=True)\n",
    "temp_ctr_df\n",
    "\n",
    "# we can. e.g., test on the features of interest as well for ST!\n",
    "\n",
    "# note, maybe join here with the df dataset? you'll get org X and Y too"
   ]
  },
  {
   "cell_type": "code",
   "execution_count": 22,
   "metadata": {},
   "outputs": [
    {
     "data": {
      "text/html": [
       "<div>\n",
       "<style scoped>\n",
       "    .dataframe tbody tr th:only-of-type {\n",
       "        vertical-align: middle;\n",
       "    }\n",
       "\n",
       "    .dataframe tbody tr th {\n",
       "        vertical-align: top;\n",
       "    }\n",
       "\n",
       "    .dataframe thead th {\n",
       "        text-align: right;\n",
       "    }\n",
       "</style>\n",
       "<table border=\"1\" class=\"dataframe\">\n",
       "  <thead>\n",
       "    <tr style=\"text-align: right;\">\n",
       "      <th></th>\n",
       "      <th>knn_indices</th>\n",
       "      <th>knn_distances</th>\n",
       "      <th>org_index</th>\n",
       "      <th>LoanApproval</th>\n",
       "      <th>AnnualSalary</th>\n",
       "      <th>AccountBalance</th>\n",
       "      <th>Gender</th>\n",
       "    </tr>\n",
       "  </thead>\n",
       "  <tbody>\n",
       "    <tr>\n",
       "      <th>0</th>\n",
       "      <td>1</td>\n",
       "      <td>42940.459472</td>\n",
       "      <td>4</td>\n",
       "      <td>1.0</td>\n",
       "      <td>201000</td>\n",
       "      <td>59008.567839</td>\n",
       "      <td>1</td>\n",
       "    </tr>\n",
       "    <tr>\n",
       "      <th>1</th>\n",
       "      <td>1204</td>\n",
       "      <td>42940.480342</td>\n",
       "      <td>3465</td>\n",
       "      <td>1.0</td>\n",
       "      <td>199500</td>\n",
       "      <td>59268.504239</td>\n",
       "      <td>1</td>\n",
       "    </tr>\n",
       "    <tr>\n",
       "      <th>2</th>\n",
       "      <td>473</td>\n",
       "      <td>42941.166106</td>\n",
       "      <td>1356</td>\n",
       "      <td>1.0</td>\n",
       "      <td>190500</td>\n",
       "      <td>55342.236169</td>\n",
       "      <td>1</td>\n",
       "    </tr>\n",
       "    <tr>\n",
       "      <th>3</th>\n",
       "      <td>1665</td>\n",
       "      <td>42941.642035</td>\n",
       "      <td>4860</td>\n",
       "      <td>1.0</td>\n",
       "      <td>190500</td>\n",
       "      <td>50684.422553</td>\n",
       "      <td>1</td>\n",
       "    </tr>\n",
       "    <tr>\n",
       "      <th>4</th>\n",
       "      <td>53</td>\n",
       "      <td>42941.675902</td>\n",
       "      <td>174</td>\n",
       "      <td>1.0</td>\n",
       "      <td>183500</td>\n",
       "      <td>52519.208993</td>\n",
       "      <td>1</td>\n",
       "    </tr>\n",
       "    <tr>\n",
       "      <th>5</th>\n",
       "      <td>1690</td>\n",
       "      <td>42942.057525</td>\n",
       "      <td>4914</td>\n",
       "      <td>1.0</td>\n",
       "      <td>169500</td>\n",
       "      <td>53116.803967</td>\n",
       "      <td>1</td>\n",
       "    </tr>\n",
       "    <tr>\n",
       "      <th>6</th>\n",
       "      <td>260</td>\n",
       "      <td>42942.169146</td>\n",
       "      <td>749</td>\n",
       "      <td>1.0</td>\n",
       "      <td>175000</td>\n",
       "      <td>50322.351188</td>\n",
       "      <td>1</td>\n",
       "    </tr>\n",
       "    <tr>\n",
       "      <th>7</th>\n",
       "      <td>910</td>\n",
       "      <td>42942.183429</td>\n",
       "      <td>2644</td>\n",
       "      <td>1.0</td>\n",
       "      <td>169500</td>\n",
       "      <td>51884.608880</td>\n",
       "      <td>1</td>\n",
       "    </tr>\n",
       "    <tr>\n",
       "      <th>8</th>\n",
       "      <td>405</td>\n",
       "      <td>42942.301214</td>\n",
       "      <td>1176</td>\n",
       "      <td>1.0</td>\n",
       "      <td>169500</td>\n",
       "      <td>50731.873589</td>\n",
       "      <td>1</td>\n",
       "    </tr>\n",
       "    <tr>\n",
       "      <th>9</th>\n",
       "      <td>1689</td>\n",
       "      <td>42942.335938</td>\n",
       "      <td>4913</td>\n",
       "      <td>1.0</td>\n",
       "      <td>161000</td>\n",
       "      <td>53022.458327</td>\n",
       "      <td>1</td>\n",
       "    </tr>\n",
       "    <tr>\n",
       "      <th>10</th>\n",
       "      <td>606</td>\n",
       "      <td>42942.554972</td>\n",
       "      <td>1781</td>\n",
       "      <td>1.0</td>\n",
       "      <td>165000</td>\n",
       "      <td>49640.977964</td>\n",
       "      <td>1</td>\n",
       "    </tr>\n",
       "  </tbody>\n",
       "</table>\n",
       "</div>"
      ],
      "text/plain": [
       "    knn_indices  knn_distances  org_index  LoanApproval  AnnualSalary  \\\n",
       "0             1   42940.459472          4           1.0        201000   \n",
       "1          1204   42940.480342       3465           1.0        199500   \n",
       "2           473   42941.166106       1356           1.0        190500   \n",
       "3          1665   42941.642035       4860           1.0        190500   \n",
       "4            53   42941.675902        174           1.0        183500   \n",
       "5          1690   42942.057525       4914           1.0        169500   \n",
       "6           260   42942.169146        749           1.0        175000   \n",
       "7           910   42942.183429       2644           1.0        169500   \n",
       "8           405   42942.301214       1176           1.0        169500   \n",
       "9          1689   42942.335938       4913           1.0        161000   \n",
       "10          606   42942.554972       1781           1.0        165000   \n",
       "\n",
       "    AccountBalance  Gender  \n",
       "0     59008.567839       1  \n",
       "1     59268.504239       1  \n",
       "2     55342.236169       1  \n",
       "3     50684.422553       1  \n",
       "4     52519.208993       1  \n",
       "5     53116.803967       1  \n",
       "6     50322.351188       1  \n",
       "7     51884.608880       1  \n",
       "8     50731.873589       1  \n",
       "9     53022.458327       1  \n",
       "10    49640.977964       1  "
      ]
     },
     "execution_count": 22,
     "metadata": {},
     "output_type": "execute_result"
    }
   ],
   "source": [
    "# drop ind for ctr! org index is the one we are using to loop over the search space!!!\n",
    "temp_ctr_df = temp_ctr_df[temp_ctr_df['org_index'] != ind].reset_index(drop=True)\n",
    "temp_ctr_df"
   ]
  },
  {
   "cell_type": "code",
   "execution_count": 23,
   "metadata": {},
   "outputs": [
    {
     "name": "stdout",
     "output_type": "stream",
     "text": [
      "(11, 7)\n",
      "(10, 7)\n"
     ]
    }
   ],
   "source": [
    "if temp_ctr_df.shape[0] > n:\n",
    "    print(temp_ctr_df.shape)\n",
    "    temp_ctr_df.drop(temp_ctr_df.tail(1).index,inplace=True)\n",
    "    print(temp_ctr_df.shape)"
   ]
  },
  {
   "cell_type": "code",
   "execution_count": 24,
   "metadata": {},
   "outputs": [],
   "source": [
    "# store it\n",
    "temp_dict_df_neighbors['control'] = temp_ctr_df"
   ]
  },
  {
   "cell_type": "code",
   "execution_count": 25,
   "metadata": {},
   "outputs": [],
   "source": [
    "# clean up\n",
    "del center_ctr, knn_1, temp_ctr_df, indices_1, distances_1, "
   ]
  },
  {
   "cell_type": "code",
   "execution_count": 26,
   "metadata": {},
   "outputs": [
    {
     "data": {
      "text/plain": [
       "NearestNeighbors(algorithm='ball_tree', metric='manhattan', n_neighbors=10)"
      ]
     },
     "execution_count": 26,
     "metadata": {},
     "output_type": "execute_result"
    }
   ],
   "source": [
    "# 3) Test Group for ind (use the corresponding search space: men!)\n",
    "\n",
    "# NOTE: by default, the control group search space will include ind, which will appear as a neighbor (distrance will be 0.0)\n",
    "knn_2 = NearestNeighbors(n_neighbors = n, algorithm='ball_tree', metric = d).fit(search_tst_group[feat_rlvt])\n",
    "knn_2"
   ]
  },
  {
   "cell_type": "code",
   "execution_count": 27,
   "metadata": {},
   "outputs": [],
   "source": [
    "distances_2, indices_2 = knn_2.kneighbors(center_tst)"
   ]
  },
  {
   "cell_type": "code",
   "execution_count": 28,
   "metadata": {},
   "outputs": [
    {
     "data": {
      "text/html": [
       "<div>\n",
       "<style scoped>\n",
       "    .dataframe tbody tr th:only-of-type {\n",
       "        vertical-align: middle;\n",
       "    }\n",
       "\n",
       "    .dataframe tbody tr th {\n",
       "        vertical-align: top;\n",
       "    }\n",
       "\n",
       "    .dataframe thead th {\n",
       "        text-align: right;\n",
       "    }\n",
       "</style>\n",
       "<table border=\"1\" class=\"dataframe\">\n",
       "  <thead>\n",
       "    <tr style=\"text-align: right;\">\n",
       "      <th></th>\n",
       "      <th>knn_indices</th>\n",
       "      <th>knn_distances</th>\n",
       "    </tr>\n",
       "  </thead>\n",
       "  <tbody>\n",
       "    <tr>\n",
       "      <th>0</th>\n",
       "      <td>592</td>\n",
       "      <td>64638.543980</td>\n",
       "    </tr>\n",
       "    <tr>\n",
       "      <th>1</th>\n",
       "      <td>164</td>\n",
       "      <td>64640.122361</td>\n",
       "    </tr>\n",
       "    <tr>\n",
       "      <th>2</th>\n",
       "      <td>610</td>\n",
       "      <td>64640.809719</td>\n",
       "    </tr>\n",
       "    <tr>\n",
       "      <th>3</th>\n",
       "      <td>5</td>\n",
       "      <td>64641.652308</td>\n",
       "    </tr>\n",
       "    <tr>\n",
       "      <th>4</th>\n",
       "      <td>149</td>\n",
       "      <td>64641.833798</td>\n",
       "    </tr>\n",
       "    <tr>\n",
       "      <th>5</th>\n",
       "      <td>1029</td>\n",
       "      <td>64641.991190</td>\n",
       "    </tr>\n",
       "    <tr>\n",
       "      <th>6</th>\n",
       "      <td>2659</td>\n",
       "      <td>64642.072399</td>\n",
       "    </tr>\n",
       "    <tr>\n",
       "      <th>7</th>\n",
       "      <td>909</td>\n",
       "      <td>64642.324684</td>\n",
       "    </tr>\n",
       "    <tr>\n",
       "      <th>8</th>\n",
       "      <td>577</td>\n",
       "      <td>64642.452357</td>\n",
       "    </tr>\n",
       "    <tr>\n",
       "      <th>9</th>\n",
       "      <td>2688</td>\n",
       "      <td>64642.699856</td>\n",
       "    </tr>\n",
       "  </tbody>\n",
       "</table>\n",
       "</div>"
      ],
      "text/plain": [
       "   knn_indices  knn_distances\n",
       "0          592   64638.543980\n",
       "1          164   64640.122361\n",
       "2          610   64640.809719\n",
       "3            5   64641.652308\n",
       "4          149   64641.833798\n",
       "5         1029   64641.991190\n",
       "6         2659   64642.072399\n",
       "7          909   64642.324684\n",
       "8          577   64642.452357\n",
       "9         2688   64642.699856"
      ]
     },
     "execution_count": 28,
     "metadata": {},
     "output_type": "execute_result"
    }
   ],
   "source": [
    "temp_tst_df = pd.DataFrame()\n",
    "temp_tst_df['knn_indices'] = pd.Series(indices_2[0])\n",
    "temp_tst_df['knn_distances'] = pd.Series(distances_2[0])\n",
    "temp_tst_df.sort_values(by='knn_distances', ascending=True, inplace=True)\n",
    "# HERE we can drop neighbors based on the distance!\n",
    "temp_tst_df"
   ]
  },
  {
   "cell_type": "code",
   "execution_count": 29,
   "metadata": {},
   "outputs": [
    {
     "data": {
      "text/html": [
       "<div>\n",
       "<style scoped>\n",
       "    .dataframe tbody tr th:only-of-type {\n",
       "        vertical-align: middle;\n",
       "    }\n",
       "\n",
       "    .dataframe tbody tr th {\n",
       "        vertical-align: top;\n",
       "    }\n",
       "\n",
       "    .dataframe thead th {\n",
       "        text-align: right;\n",
       "    }\n",
       "</style>\n",
       "<table border=\"1\" class=\"dataframe\">\n",
       "  <thead>\n",
       "    <tr style=\"text-align: right;\">\n",
       "      <th></th>\n",
       "      <th>knn_indices</th>\n",
       "      <th>knn_distances</th>\n",
       "      <th>org_index</th>\n",
       "      <th>LoanApproval</th>\n",
       "      <th>AnnualSalary</th>\n",
       "      <th>AccountBalance</th>\n",
       "      <th>Gender</th>\n",
       "    </tr>\n",
       "  </thead>\n",
       "  <tbody>\n",
       "    <tr>\n",
       "      <th>0</th>\n",
       "      <td>592</td>\n",
       "      <td>64638.543980</td>\n",
       "      <td>903</td>\n",
       "      <td>1.0</td>\n",
       "      <td>270000.0</td>\n",
       "      <td>76890.35</td>\n",
       "      <td>0</td>\n",
       "    </tr>\n",
       "    <tr>\n",
       "      <th>1</th>\n",
       "      <td>164</td>\n",
       "      <td>64640.122361</td>\n",
       "      <td>249</td>\n",
       "      <td>1.0</td>\n",
       "      <td>230000.0</td>\n",
       "      <td>73395.95</td>\n",
       "      <td>0</td>\n",
       "    </tr>\n",
       "    <tr>\n",
       "      <th>2</th>\n",
       "      <td>610</td>\n",
       "      <td>64640.809719</td>\n",
       "      <td>937</td>\n",
       "      <td>1.0</td>\n",
       "      <td>230000.0</td>\n",
       "      <td>66489.51</td>\n",
       "      <td>0</td>\n",
       "    </tr>\n",
       "    <tr>\n",
       "      <th>3</th>\n",
       "      <td>5</td>\n",
       "      <td>64641.652308</td>\n",
       "      <td>10</td>\n",
       "      <td>1.0</td>\n",
       "      <td>210000.0</td>\n",
       "      <td>64205.77</td>\n",
       "      <td>0</td>\n",
       "    </tr>\n",
       "    <tr>\n",
       "      <th>4</th>\n",
       "      <td>149</td>\n",
       "      <td>64641.833798</td>\n",
       "      <td>220</td>\n",
       "      <td>1.0</td>\n",
       "      <td>210000.0</td>\n",
       "      <td>62382.19</td>\n",
       "      <td>0</td>\n",
       "    </tr>\n",
       "    <tr>\n",
       "      <th>5</th>\n",
       "      <td>1029</td>\n",
       "      <td>64641.991190</td>\n",
       "      <td>1569</td>\n",
       "      <td>1.0</td>\n",
       "      <td>210000.0</td>\n",
       "      <td>60800.75</td>\n",
       "      <td>0</td>\n",
       "    </tr>\n",
       "    <tr>\n",
       "      <th>6</th>\n",
       "      <td>2659</td>\n",
       "      <td>64642.072399</td>\n",
       "      <td>4081</td>\n",
       "      <td>1.0</td>\n",
       "      <td>200000.0</td>\n",
       "      <td>63075.99</td>\n",
       "      <td>0</td>\n",
       "    </tr>\n",
       "    <tr>\n",
       "      <th>7</th>\n",
       "      <td>909</td>\n",
       "      <td>64642.324684</td>\n",
       "      <td>1404</td>\n",
       "      <td>1.0</td>\n",
       "      <td>200000.0</td>\n",
       "      <td>60541.08</td>\n",
       "      <td>0</td>\n",
       "    </tr>\n",
       "    <tr>\n",
       "      <th>8</th>\n",
       "      <td>577</td>\n",
       "      <td>64642.452357</td>\n",
       "      <td>877</td>\n",
       "      <td>1.0</td>\n",
       "      <td>200000.0</td>\n",
       "      <td>59258.25</td>\n",
       "      <td>0</td>\n",
       "    </tr>\n",
       "    <tr>\n",
       "      <th>9</th>\n",
       "      <td>2688</td>\n",
       "      <td>64642.699856</td>\n",
       "      <td>4118</td>\n",
       "      <td>1.0</td>\n",
       "      <td>200000.0</td>\n",
       "      <td>56771.43</td>\n",
       "      <td>0</td>\n",
       "    </tr>\n",
       "  </tbody>\n",
       "</table>\n",
       "</div>"
      ],
      "text/plain": [
       "   knn_indices  knn_distances  org_index  LoanApproval  AnnualSalary  \\\n",
       "0          592   64638.543980        903           1.0      270000.0   \n",
       "1          164   64640.122361        249           1.0      230000.0   \n",
       "2          610   64640.809719        937           1.0      230000.0   \n",
       "3            5   64641.652308         10           1.0      210000.0   \n",
       "4          149   64641.833798        220           1.0      210000.0   \n",
       "5         1029   64641.991190       1569           1.0      210000.0   \n",
       "6         2659   64642.072399       4081           1.0      200000.0   \n",
       "7          909   64642.324684       1404           1.0      200000.0   \n",
       "8          577   64642.452357        877           1.0      200000.0   \n",
       "9         2688   64642.699856       4118           1.0      200000.0   \n",
       "\n",
       "   AccountBalance  Gender  \n",
       "0        76890.35       0  \n",
       "1        73395.95       0  \n",
       "2        66489.51       0  \n",
       "3        64205.77       0  \n",
       "4        62382.19       0  \n",
       "5        60800.75       0  \n",
       "6        63075.99       0  \n",
       "7        60541.08       0  \n",
       "8        59258.25       0  \n",
       "9        56771.43       0  "
      ]
     },
     "execution_count": 29,
     "metadata": {},
     "output_type": "execute_result"
    }
   ],
   "source": [
    "# RECALL knn_indices are the same wrt the search space but not wrt org input\n",
    "# we can uss the knn_indices to get the rest of information\n",
    "temp_tst_df = temp_tst_df.merge(df_tst, how='inner', left_on='knn_indices', right_index=True)\n",
    "# temp_tst_df = temp_tst_df.merge(search_tst_group, how='inner', left_on='knn_indices', right_index=True)\n",
    "temp_tst_df\n"
   ]
  },
  {
   "cell_type": "code",
   "execution_count": 30,
   "metadata": {},
   "outputs": [],
   "source": [
    "# store it\n",
    "temp_dict_df_neighbors['test'] = temp_tst_df"
   ]
  },
  {
   "cell_type": "code",
   "execution_count": 31,
   "metadata": {},
   "outputs": [],
   "source": [
    "# clean up\n",
    "del center_tst, knn_2, temp_tst_df, indices_2, distances_2, "
   ]
  },
  {
   "cell_type": "code",
   "execution_count": 32,
   "metadata": {},
   "outputs": [
    {
     "data": {
      "text/plain": [
       "{'control':    knn_indices  knn_distances  org_index  LoanApproval  AnnualSalary  \\\n",
       " 0            1   42940.459472          4           1.0        201000   \n",
       " 1         1204   42940.480342       3465           1.0        199500   \n",
       " 2          473   42941.166106       1356           1.0        190500   \n",
       " 3         1665   42941.642035       4860           1.0        190500   \n",
       " 4           53   42941.675902        174           1.0        183500   \n",
       " 5         1690   42942.057525       4914           1.0        169500   \n",
       " 6          260   42942.169146        749           1.0        175000   \n",
       " 7          910   42942.183429       2644           1.0        169500   \n",
       " 8          405   42942.301214       1176           1.0        169500   \n",
       " 9         1689   42942.335938       4913           1.0        161000   \n",
       " \n",
       "    AccountBalance  Gender  \n",
       " 0    59008.567839       1  \n",
       " 1    59268.504239       1  \n",
       " 2    55342.236169       1  \n",
       " 3    50684.422553       1  \n",
       " 4    52519.208993       1  \n",
       " 5    53116.803967       1  \n",
       " 6    50322.351188       1  \n",
       " 7    51884.608880       1  \n",
       " 8    50731.873589       1  \n",
       " 9    53022.458327       1  ,\n",
       " 'test':    knn_indices  knn_distances  org_index  LoanApproval  AnnualSalary  \\\n",
       " 0          592   64638.543980        903           1.0      270000.0   \n",
       " 1          164   64640.122361        249           1.0      230000.0   \n",
       " 2          610   64640.809719        937           1.0      230000.0   \n",
       " 3            5   64641.652308         10           1.0      210000.0   \n",
       " 4          149   64641.833798        220           1.0      210000.0   \n",
       " 5         1029   64641.991190       1569           1.0      210000.0   \n",
       " 6         2659   64642.072399       4081           1.0      200000.0   \n",
       " 7          909   64642.324684       1404           1.0      200000.0   \n",
       " 8          577   64642.452357        877           1.0      200000.0   \n",
       " 9         2688   64642.699856       4118           1.0      200000.0   \n",
       " \n",
       "    AccountBalance  Gender  \n",
       " 0        76890.35       0  \n",
       " 1        73395.95       0  \n",
       " 2        66489.51       0  \n",
       " 3        64205.77       0  \n",
       " 4        62382.19       0  \n",
       " 5        60800.75       0  \n",
       " 6        63075.99       0  \n",
       " 7        60541.08       0  \n",
       " 8        59258.25       0  \n",
       " 9        56771.43       0  }"
      ]
     },
     "execution_count": 32,
     "metadata": {},
     "output_type": "execute_result"
    }
   ],
   "source": [
    "temp_dict_df_neighbors"
   ]
  },
  {
   "cell_type": "code",
   "execution_count": 33,
   "metadata": {},
   "outputs": [],
   "source": [
    "#... later on\n",
    "dict_df_neighbors[ind] = temp_dict_df_neighbors"
   ]
  },
  {
   "cell_type": "code",
   "execution_count": 34,
   "metadata": {},
   "outputs": [
    {
     "data": {
      "text/plain": [
       "{0: {'control':    knn_indices  knn_distances  org_index  LoanApproval  AnnualSalary  \\\n",
       "  0            1   42940.459472          4           1.0        201000   \n",
       "  1         1204   42940.480342       3465           1.0        199500   \n",
       "  2          473   42941.166106       1356           1.0        190500   \n",
       "  3         1665   42941.642035       4860           1.0        190500   \n",
       "  4           53   42941.675902        174           1.0        183500   \n",
       "  5         1690   42942.057525       4914           1.0        169500   \n",
       "  6          260   42942.169146        749           1.0        175000   \n",
       "  7          910   42942.183429       2644           1.0        169500   \n",
       "  8          405   42942.301214       1176           1.0        169500   \n",
       "  9         1689   42942.335938       4913           1.0        161000   \n",
       "  \n",
       "     AccountBalance  Gender  \n",
       "  0    59008.567839       1  \n",
       "  1    59268.504239       1  \n",
       "  2    55342.236169       1  \n",
       "  3    50684.422553       1  \n",
       "  4    52519.208993       1  \n",
       "  5    53116.803967       1  \n",
       "  6    50322.351188       1  \n",
       "  7    51884.608880       1  \n",
       "  8    50731.873589       1  \n",
       "  9    53022.458327       1  ,\n",
       "  'test':    knn_indices  knn_distances  org_index  LoanApproval  AnnualSalary  \\\n",
       "  0          592   64638.543980        903           1.0      270000.0   \n",
       "  1          164   64640.122361        249           1.0      230000.0   \n",
       "  2          610   64640.809719        937           1.0      230000.0   \n",
       "  3            5   64641.652308         10           1.0      210000.0   \n",
       "  4          149   64641.833798        220           1.0      210000.0   \n",
       "  5         1029   64641.991190       1569           1.0      210000.0   \n",
       "  6         2659   64642.072399       4081           1.0      200000.0   \n",
       "  7          909   64642.324684       1404           1.0      200000.0   \n",
       "  8          577   64642.452357        877           1.0      200000.0   \n",
       "  9         2688   64642.699856       4118           1.0      200000.0   \n",
       "  \n",
       "     AccountBalance  Gender  \n",
       "  0        76890.35       0  \n",
       "  1        73395.95       0  \n",
       "  2        66489.51       0  \n",
       "  3        64205.77       0  \n",
       "  4        62382.19       0  \n",
       "  5        60800.75       0  \n",
       "  6        63075.99       0  \n",
       "  7        60541.08       0  \n",
       "  8        59258.25       0  \n",
       "  9        56771.43       0  }}"
      ]
     },
     "execution_count": 34,
     "metadata": {},
     "output_type": "execute_result"
    }
   ],
   "source": [
    "#recall that ind is the same across df and cf_df\n",
    "dict_df_neighbors"
   ]
  },
  {
   "cell_type": "code",
   "execution_count": null,
   "metadata": {},
   "outputs": [],
   "source": []
  },
  {
   "cell_type": "code",
   "execution_count": null,
   "metadata": {},
   "outputs": [],
   "source": [
    "# 4) We need to start testing each group: do now for ind"
   ]
  },
  {
   "cell_type": "code",
   "execution_count": 41,
   "metadata": {},
   "outputs": [
    {
     "data": {
      "text/plain": [
       "1.96"
      ]
     },
     "execution_count": 41,
     "metadata": {},
     "output_type": "execute_result"
    }
   ],
   "source": [
    "target_labels = {'pos': 1, 'neg': -1}\n",
    "\n",
    "alpha = 0.05\n",
    "\n",
    "z_score = round(st.norm.ppf(1 - (alpha/2)), 2)\n",
    "z_score\n",
    "\n",
    "# 1.6448536269514722\n",
    "# >>> st.norm.cdf(1.64)\n",
    "# 0.94949741652589625\n",
    "\n",
    "# # significance level\n",
    "# alpha = np.array([0.05])\n",
    "\n",
    "# from scipy import stats\n",
    "# z_score = stats.zscore((1 - (alpha/2)))\n",
    "# z_score"
   ]
  },
  {
   "cell_type": "code",
   "execution_count": 53,
   "metadata": {},
   "outputs": [
    {
     "data": {
      "text/plain": [
       "1.96"
      ]
     },
     "execution_count": 53,
     "metadata": {},
     "output_type": "execute_result"
    }
   ],
   "source": [
    "z_score\n"
   ]
  },
  {
   "cell_type": "code",
   "execution_count": 46,
   "metadata": {},
   "outputs": [
    {
     "data": {
      "text/plain": [
       "0.0"
      ]
     },
     "execution_count": 46,
     "metadata": {},
     "output_type": "execute_result"
    }
   ],
   "source": [
    "# for ind:\n",
    "\n",
    "ctr_group = dict_df_neighbors[ind]['control']\n",
    "tst_group = dict_df_neighbors[ind]['test']\n",
    "\n",
    "p1 = ctr_group[ctr_group[feat_prot]==target_labels['neg']].shape[0] / ctr_group.shape[0]\n",
    "p2 = tst_group[tst_group[feat_prot]==target_labels['neg']].shape[0] / tst_group.shape[0]\n",
    "diff = p1 - p2\n",
    "diff"
   ]
  },
  {
   "cell_type": "code",
   "execution_count": 66,
   "metadata": {},
   "outputs": [],
   "source": [
    "def get_wald_ci(alpha: float, p1: float, p2: float, k1: int, k2: int):\n",
    "    \n",
    "    wald_ci_summary = {}\n",
    "    \n",
    "    z_score = round(st.norm.ppf(1 - (alpha/2)), 2)\n",
    "    d_alpha = z_score * math.sqrt( (p1*(1 - p1)/k1) + (p2*(1 - p2)/k2) )\n",
    "    \n",
    "    wald_ci_summary['d_alpha'] = d_alpha\n",
    "    wald_ci_summary['CIs'] = [(p1 - p2) - d_alpha, (p1 - p2) + d_alpha]\n",
    "    if (p1 - p2) >= 0:\n",
    "        wald_ci_summary['diff'] = max(0, p1 - p2 - d_alpha)\n",
    "    else:\n",
    "        wald_ci_summary['diff'] = min(0, p1 - p2 + d_alpha)\n",
    "    \n",
    "    print(wald_ci_summary)\n",
    "    \n",
    "    return wald_ci_summary"
   ]
  },
  {
   "cell_type": "code",
   "execution_count": 67,
   "metadata": {},
   "outputs": [
    {
     "name": "stdout",
     "output_type": "stream",
     "text": [
      "{'d_alpha': 0.0, 'CIs': [0.0, 0.0], 'diff': 0}\n"
     ]
    }
   ],
   "source": [
    "ind_wald_ci = get_wald_ci(alpha=alpha, p1=p1, p2=p2, k1=ctr_group.shape[0], k2=tst_group.shape[0])"
   ]
  },
  {
   "cell_type": "code",
   "execution_count": 68,
   "metadata": {},
   "outputs": [
    {
     "name": "stdout",
     "output_type": "stream",
     "text": [
      "0\n",
      "{'d_alpha': 0.0, 'CIs': [0.0, 0.0], 'diff': 0}\n"
     ]
    }
   ],
   "source": [
    "print(ind)\n",
    "print(ind_wald_ci)"
   ]
  },
  {
   "cell_type": "code",
   "execution_count": 69,
   "metadata": {},
   "outputs": [],
   "source": [
    "# i guess i need some sort of threshold here???\n",
    "diff_epsilon = 0.05 # tau in the second paper"
   ]
  },
  {
   "cell_type": "code",
   "execution_count": 70,
   "metadata": {},
   "outputs": [],
   "source": [
    "if ind_wald_ci['diff'] > diff_epsilon:\n",
    "    ind_wald_ci['cfST'] = 'Yes'\n",
    "else:\n",
    "    ind_wald_ci['cfST'] = 'No'"
   ]
  },
  {
   "cell_type": "code",
   "execution_count": null,
   "metadata": {},
   "outputs": [],
   "source": []
  },
  {
   "cell_type": "code",
   "execution_count": null,
   "metadata": {},
   "outputs": [],
   "source": []
  },
  {
   "cell_type": "code",
   "execution_count": null,
   "metadata": {},
   "outputs": [],
   "source": [
    "df.loc[0,]"
   ]
  },
  {
   "cell_type": "code",
   "execution_count": null,
   "metadata": {},
   "outputs": [],
   "source": [
    "search_ctr_group.loc[857,]"
   ]
  },
  {
   "cell_type": "code",
   "execution_count": null,
   "metadata": {},
   "outputs": [],
   "source": [
    "df.loc[857,] # different ppl!!!"
   ]
  },
  {
   "cell_type": "code",
   "execution_count": null,
   "metadata": {},
   "outputs": [],
   "source": []
  },
  {
   "cell_type": "code",
   "execution_count": null,
   "metadata": {},
   "outputs": [],
   "source": [
    "from sklearn.neighbors import BallTree\n",
    "rng = np.random.RandomState(0)\n",
    "X = rng.random_sample((10, 3))\n",
    "print(X)\n",
    "print('---')\n",
    "print(X[:1])\n",
    "tree = BallTree(X, leaf_size=2)              \n",
    "dist, ind = tree.query(X[:1], k=3)                \n",
    "print(ind)  # indices of 3 closest neighbors\n",
    "#[0 3 1]\n",
    "print(dist)  # distances to 3 closest neighbors\n",
    "#[ 0.          0.19662693  0.29473397]"
   ]
  }
 ],
 "metadata": {
  "kernelspec": {
   "display_name": "Python 3",
   "language": "python",
   "name": "python3"
  },
  "language_info": {
   "codemirror_mode": {
    "name": "ipython",
    "version": 3
   },
   "file_extension": ".py",
   "mimetype": "text/x-python",
   "name": "python",
   "nbconvert_exporter": "python",
   "pygments_lexer": "ipython3",
   "version": "3.8.5"
  }
 },
 "nbformat": 4,
 "nbformat_minor": 4
}
