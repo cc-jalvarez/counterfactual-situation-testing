{
 "cells": [
  {
   "cell_type": "markdown",
   "metadata": {},
   "source": [
    "Working script for cfST\n",
    "\n",
    "Use to greate the functions from_groups(), test_disc()... part of run_cfST()"
   ]
  },
  {
   "cell_type": "code",
   "execution_count": 1,
   "metadata": {},
   "outputs": [],
   "source": [
    "import os\n",
    "import pandas as pd\n",
    "import numpy as np\n",
    "import matplotlib.pyplot as plt\n",
    "\n",
    "from sklearn.neighbors import NearestNeighbors"
   ]
  },
  {
   "cell_type": "code",
   "execution_count": 2,
   "metadata": {},
   "outputs": [],
   "source": [
    "# set working directory - note: all code runs from the src folder\n",
    "wrk_dir = os.getcwd()\n",
    "# data path\n",
    "data_path = wrk_dir + '\\\\' + 'data' + '\\\\'\n",
    "# results path\n",
    "resu_path = wrk_dir + '\\\\' + 'results\\\\counterfactuals' + '\\\\'"
   ]
  },
  {
   "cell_type": "code",
   "execution_count": 3,
   "metadata": {},
   "outputs": [
    {
     "name": "stdout",
     "output_type": "stream",
     "text": [
      "(4993, 6)\n",
      "(4993, 6)\n"
     ]
    }
   ],
   "source": [
    "df    = pd.read_csv(data_path + 'Karimi2020_v2.csv', sep='|', )\n",
    "print(df.shape)\n",
    "cf_df = pd.read_csv(resu_path + 'cf_Karimi2020_v2.csv', sep='|', )\n",
    "print(cf_df.shape)"
   ]
  },
  {
   "cell_type": "code",
   "execution_count": 4,
   "metadata": {},
   "outputs": [
    {
     "data": {
      "text/plain": [
       "34.288"
      ]
     },
     "execution_count": 4,
     "metadata": {},
     "output_type": "execute_result"
    }
   ],
   "source": [
    "round(df[df['Gender']==1].shape[0]/df.shape[0]*100, 3) # perc. of women in df\n",
    "#df[df['Gender']==0].shape[0]/df.shape[0]*100"
   ]
  },
  {
   "cell_type": "code",
   "execution_count": null,
   "metadata": {},
   "outputs": [],
   "source": [
    "# plt.hist(df['LoanApproval'])\n",
    "# plt.hist(cf_df['LoanApproval']) # number of denied loans drops!"
   ]
  },
  {
   "cell_type": "code",
   "execution_count": 5,
   "metadata": {},
   "outputs": [
    {
     "name": "stdout",
     "output_type": "stream",
     "text": [
      "13.498898457840976\n",
      "--- vs ---\n",
      "21.029441217704786\n"
     ]
    }
   ],
   "source": [
    "print(df[(df['Gender']==1) & (df['LoanApproval']==1)].shape[0]/df.shape[0]*100)\n",
    "print('--- vs ---')\n",
    "print(cf_df[(cf_df['Gender']==1) & (cf_df['LoanApproval']==1)].shape[0]/cf_df.shape[0]*100)"
   ]
  },
  {
   "cell_type": "code",
   "execution_count": 6,
   "metadata": {},
   "outputs": [
    {
     "data": {
      "text/plain": [
       "['LoanApproval', 'AnnualSalary', 'Gender']"
      ]
     },
     "execution_count": 6,
     "metadata": {},
     "output_type": "execute_result"
    }
   ],
   "source": [
    "feat_trgt = ['LoanApproval']\n",
    "feat_rlvt = ['AnnualSalary']\n",
    "# feat_rlvt = ['AnnualSalary', 'AccountBalance']\n",
    "feat_prot = 'Gender' # extend later for more than one (intersectionality???)\n",
    "feat_prot_vals = {'non_prot': 0, 'prot': 1}\n",
    "\n",
    "# future params!\n",
    "# protected_group = {'Gender': 1} \n",
    "n = 10 # determine by power analysis? (future extension)\n",
    "d = 'euclidean' # ‘manhattan’ - see https://scikit-learn.org/stable/modules/generated/sklearn.metrics.pairwise.distance_metrics.html\n",
    "\n",
    "feat_list = feat_trgt + feat_rlvt\n",
    "feat_list.append(feat_prot)\n",
    "feat_list"
   ]
  },
  {
   "cell_type": "markdown",
   "metadata": {},
   "source": [
    "Under counterfactual situation testing, for the protected group we need to create two groups: a *control group* (CG) centered on the factuals and a *test group* (TG) centered on the counterfactuals. In practice, this means that we take individual women and compare them to other similar women using some distance $d_1$ to construct CG, while we take their corresponding counterfactuals and compare them to similar men using some distance $d_2$. We start off with $d_1=d_2$. We create the groups using a KNN algorithm.\n",
    "\n",
    "Under this approach, rather than centering both CG and TG on the same (factual) instance, we construct the hypothetical group (*what would have happened had the female individual been male?*) by allowing for all variables to adjust due to the change in $A$. This is our implementation of what Kohler defined as *fairness given the difference* and what she arguess through her Eddie Murphy paper."
   ]
  },
  {
   "cell_type": "code",
   "execution_count": 7,
   "metadata": {},
   "outputs": [
    {
     "name": "stdout",
     "output_type": "stream",
     "text": [
      "(1712, 3)\n",
      "(3281, 3)\n"
     ]
    }
   ],
   "source": [
    "# 1) Setup the respectice search spaces for control (ctr) and test (tst) groups\n",
    "\n",
    "search_ctr_group = df[df[feat_prot]==feat_prot_vals['prot']][feat_list].copy()\n",
    "print(search_ctr_group.shape)\n",
    "\n",
    "search_tst_group = cf_df[cf_df[feat_prot]==feat_prot_vals['non_prot']][feat_list].copy()\n",
    "print(search_tst_group.shape)\n",
    "\n",
    "# keep track of old / new indices: KNN seems to retunr indices that are absolute (?)\n",
    "search_ctr_group.reset_index(inplace=True, )\n",
    "search_ctr_group.rename(columns={'index': 'org_index'}, inplace=True)\n",
    "search_tst_group.reset_index(inplace=True, )\n",
    "search_tst_group.rename(columns={'index': 'org_index'}, inplace=True)"
   ]
  },
  {
   "cell_type": "code",
   "execution_count": 8,
   "metadata": {},
   "outputs": [
    {
     "data": {
      "text/html": [
       "<div>\n",
       "<style scoped>\n",
       "    .dataframe tbody tr th:only-of-type {\n",
       "        vertical-align: middle;\n",
       "    }\n",
       "\n",
       "    .dataframe tbody tr th {\n",
       "        vertical-align: top;\n",
       "    }\n",
       "\n",
       "    .dataframe thead th {\n",
       "        text-align: right;\n",
       "    }\n",
       "</style>\n",
       "<table border=\"1\" class=\"dataframe\">\n",
       "  <thead>\n",
       "    <tr style=\"text-align: right;\">\n",
       "      <th></th>\n",
       "      <th>org_index</th>\n",
       "      <th>LoanApproval</th>\n",
       "      <th>AnnualSalary</th>\n",
       "      <th>Gender</th>\n",
       "    </tr>\n",
       "  </thead>\n",
       "  <tbody>\n",
       "    <tr>\n",
       "      <th>0</th>\n",
       "      <td>0</td>\n",
       "      <td>-1.0</td>\n",
       "      <td>35000</td>\n",
       "      <td>1</td>\n",
       "    </tr>\n",
       "    <tr>\n",
       "      <th>1</th>\n",
       "      <td>4</td>\n",
       "      <td>1.0</td>\n",
       "      <td>201000</td>\n",
       "      <td>1</td>\n",
       "    </tr>\n",
       "    <tr>\n",
       "      <th>2</th>\n",
       "      <td>5</td>\n",
       "      <td>1.0</td>\n",
       "      <td>102000</td>\n",
       "      <td>1</td>\n",
       "    </tr>\n",
       "    <tr>\n",
       "      <th>3</th>\n",
       "      <td>6</td>\n",
       "      <td>-1.0</td>\n",
       "      <td>68000</td>\n",
       "      <td>1</td>\n",
       "    </tr>\n",
       "    <tr>\n",
       "      <th>4</th>\n",
       "      <td>9</td>\n",
       "      <td>-1.0</td>\n",
       "      <td>84500</td>\n",
       "      <td>1</td>\n",
       "    </tr>\n",
       "  </tbody>\n",
       "</table>\n",
       "</div>"
      ],
      "text/plain": [
       "   org_index  LoanApproval  AnnualSalary  Gender\n",
       "0          0          -1.0         35000       1\n",
       "1          4           1.0        201000       1\n",
       "2          5           1.0        102000       1\n",
       "3          6          -1.0         68000       1\n",
       "4          9          -1.0         84500       1"
      ]
     },
     "execution_count": 8,
     "metadata": {},
     "output_type": "execute_result"
    }
   ],
   "source": [
    "search_ctr_group.head(5)"
   ]
  },
  {
   "cell_type": "code",
   "execution_count": 10,
   "metadata": {},
   "outputs": [],
   "source": [
    "# start the main function here\n",
    "\n",
    "# store neighboors here\n",
    "dict_df_neighbors = {}"
   ]
  },
  {
   "cell_type": "code",
   "execution_count": 11,
   "metadata": {},
   "outputs": [
    {
     "name": "stdout",
     "output_type": "stream",
     "text": [
      "AnnualSalary    35000.0\n",
      "Name: 0, dtype: float64\n",
      "AnnualSalary    50796.35\n",
      "Name: 0, dtype: float64\n",
      "[[35000.]]\n",
      "[[50796.35]]\n"
     ]
    }
   ],
   "source": [
    "# 2) For eahc ind(ividual) set the centers\n",
    "\n",
    "ind = 0 # start loop or map get_neighboors()\n",
    "\n",
    "# for storing the neighboors \n",
    "temp_dict_df_neighbors = {}\n",
    "\n",
    "# get ctr center from factual df\n",
    "center_ctr = df.loc[ind, feat_rlvt]\n",
    "print(center_ctr)\n",
    "\n",
    "# get tst center from counterfactual df \n",
    "center_tst = cf_df.loc[ind, feat_rlvt]\n",
    "print(center_tst)\n",
    "\n",
    "# prepare for knn\n",
    "if len(feat_rlvt) > 1:\n",
    "    center_ctr = center_ctr.values.reshape(1, -1)\n",
    "    center_tst = center_tst.values.reshape(1, -1)\n",
    "else:\n",
    "    center_ctr = center_ctr.values.reshape(-1, 1)\n",
    "    center_tst = center_tst.values.reshape(-1, 1)\n",
    "\n",
    "print(center_ctr)\n",
    "print(center_tst)"
   ]
  },
  {
   "cell_type": "code",
   "execution_count": 12,
   "metadata": {},
   "outputs": [
    {
     "data": {
      "text/plain": [
       "NearestNeighbors(algorithm='ball_tree', metric='euclidean', n_neighbors=11)"
      ]
     },
     "execution_count": 12,
     "metadata": {},
     "output_type": "execute_result"
    }
   ],
   "source": [
    "# 3) Control Group for ind\n",
    "\n",
    "# NOTE: by default, the control group search space will include ind, which will appear as a neighbor (distrance will be 0.0)\n",
    "knn_1 = NearestNeighbors(n_neighbors = n + 1, algorithm='ball_tree', metric = d).fit(search_ctr_group[feat_rlvt])\n",
    "knn_1"
   ]
  },
  {
   "cell_type": "code",
   "execution_count": 13,
   "metadata": {},
   "outputs": [],
   "source": [
    "distances_1, indices_1 = knn_1.kneighbors(center_ctr)"
   ]
  },
  {
   "cell_type": "code",
   "execution_count": 14,
   "metadata": {},
   "outputs": [
    {
     "data": {
      "text/plain": [
       "array([[   0.,    0.,    0.,    0.,    0.,    0.,    0.,    0.,    0.,\n",
       "         500., 1000.]])"
      ]
     },
     "execution_count": 14,
     "metadata": {},
     "output_type": "execute_result"
    }
   ],
   "source": [
    "distances_1"
   ]
  },
  {
   "cell_type": "code",
   "execution_count": 15,
   "metadata": {},
   "outputs": [
    {
     "data": {
      "text/plain": [
       "array([[   0,  811,  857, 1648,  131,  786,   22,  359, 1247,  887,  932]],\n",
       "      dtype=int64)"
      ]
     },
     "execution_count": 15,
     "metadata": {},
     "output_type": "execute_result"
    }
   ],
   "source": [
    "indices_1"
   ]
  },
  {
   "cell_type": "code",
   "execution_count": 16,
   "metadata": {},
   "outputs": [
    {
     "data": {
      "text/html": [
       "<div>\n",
       "<style scoped>\n",
       "    .dataframe tbody tr th:only-of-type {\n",
       "        vertical-align: middle;\n",
       "    }\n",
       "\n",
       "    .dataframe tbody tr th {\n",
       "        vertical-align: top;\n",
       "    }\n",
       "\n",
       "    .dataframe thead th {\n",
       "        text-align: right;\n",
       "    }\n",
       "</style>\n",
       "<table border=\"1\" class=\"dataframe\">\n",
       "  <thead>\n",
       "    <tr style=\"text-align: right;\">\n",
       "      <th></th>\n",
       "      <th>knn_indices</th>\n",
       "      <th>knn_distances</th>\n",
       "    </tr>\n",
       "  </thead>\n",
       "  <tbody>\n",
       "    <tr>\n",
       "      <th>0</th>\n",
       "      <td>0</td>\n",
       "      <td>0.0</td>\n",
       "    </tr>\n",
       "    <tr>\n",
       "      <th>1</th>\n",
       "      <td>811</td>\n",
       "      <td>0.0</td>\n",
       "    </tr>\n",
       "    <tr>\n",
       "      <th>2</th>\n",
       "      <td>857</td>\n",
       "      <td>0.0</td>\n",
       "    </tr>\n",
       "    <tr>\n",
       "      <th>3</th>\n",
       "      <td>1648</td>\n",
       "      <td>0.0</td>\n",
       "    </tr>\n",
       "    <tr>\n",
       "      <th>4</th>\n",
       "      <td>131</td>\n",
       "      <td>0.0</td>\n",
       "    </tr>\n",
       "    <tr>\n",
       "      <th>5</th>\n",
       "      <td>786</td>\n",
       "      <td>0.0</td>\n",
       "    </tr>\n",
       "    <tr>\n",
       "      <th>6</th>\n",
       "      <td>22</td>\n",
       "      <td>0.0</td>\n",
       "    </tr>\n",
       "    <tr>\n",
       "      <th>7</th>\n",
       "      <td>359</td>\n",
       "      <td>0.0</td>\n",
       "    </tr>\n",
       "    <tr>\n",
       "      <th>8</th>\n",
       "      <td>1247</td>\n",
       "      <td>0.0</td>\n",
       "    </tr>\n",
       "    <tr>\n",
       "      <th>9</th>\n",
       "      <td>887</td>\n",
       "      <td>500.0</td>\n",
       "    </tr>\n",
       "    <tr>\n",
       "      <th>10</th>\n",
       "      <td>932</td>\n",
       "      <td>1000.0</td>\n",
       "    </tr>\n",
       "  </tbody>\n",
       "</table>\n",
       "</div>"
      ],
      "text/plain": [
       "    knn_indices  knn_distances\n",
       "0             0            0.0\n",
       "1           811            0.0\n",
       "2           857            0.0\n",
       "3          1648            0.0\n",
       "4           131            0.0\n",
       "5           786            0.0\n",
       "6            22            0.0\n",
       "7           359            0.0\n",
       "8          1247            0.0\n",
       "9           887          500.0\n",
       "10          932         1000.0"
      ]
     },
     "execution_count": 16,
     "metadata": {},
     "output_type": "execute_result"
    }
   ],
   "source": [
    "temp_ctr_df = pd.DataFrame()\n",
    "temp_ctr_df['knn_indices'] = pd.Series(indices_1[0])\n",
    "temp_ctr_df['knn_distances'] = pd.Series(distances_1[0])\n",
    "temp_ctr_df.sort_values(by='knn_distances', ascending=True, inplace=True)\n",
    "# HERE we can drop neighbors based on the distance!\n",
    "temp_ctr_df"
   ]
  },
  {
   "cell_type": "code",
   "execution_count": 17,
   "metadata": {},
   "outputs": [
    {
     "data": {
      "text/html": [
       "<div>\n",
       "<style scoped>\n",
       "    .dataframe tbody tr th:only-of-type {\n",
       "        vertical-align: middle;\n",
       "    }\n",
       "\n",
       "    .dataframe tbody tr th {\n",
       "        vertical-align: top;\n",
       "    }\n",
       "\n",
       "    .dataframe thead th {\n",
       "        text-align: right;\n",
       "    }\n",
       "</style>\n",
       "<table border=\"1\" class=\"dataframe\">\n",
       "  <thead>\n",
       "    <tr style=\"text-align: right;\">\n",
       "      <th></th>\n",
       "      <th>knn_indices</th>\n",
       "      <th>knn_distances</th>\n",
       "      <th>org_index</th>\n",
       "      <th>LoanApproval</th>\n",
       "      <th>AnnualSalary</th>\n",
       "      <th>Gender</th>\n",
       "    </tr>\n",
       "  </thead>\n",
       "  <tbody>\n",
       "    <tr>\n",
       "      <th>0</th>\n",
       "      <td>0</td>\n",
       "      <td>0.0</td>\n",
       "      <td>0</td>\n",
       "      <td>-1.0</td>\n",
       "      <td>35000</td>\n",
       "      <td>1</td>\n",
       "    </tr>\n",
       "    <tr>\n",
       "      <th>1</th>\n",
       "      <td>811</td>\n",
       "      <td>0.0</td>\n",
       "      <td>2355</td>\n",
       "      <td>-1.0</td>\n",
       "      <td>35000</td>\n",
       "      <td>1</td>\n",
       "    </tr>\n",
       "    <tr>\n",
       "      <th>2</th>\n",
       "      <td>857</td>\n",
       "      <td>0.0</td>\n",
       "      <td>2489</td>\n",
       "      <td>-1.0</td>\n",
       "      <td>35000</td>\n",
       "      <td>1</td>\n",
       "    </tr>\n",
       "    <tr>\n",
       "      <th>3</th>\n",
       "      <td>1648</td>\n",
       "      <td>0.0</td>\n",
       "      <td>4789</td>\n",
       "      <td>-1.0</td>\n",
       "      <td>35000</td>\n",
       "      <td>1</td>\n",
       "    </tr>\n",
       "    <tr>\n",
       "      <th>4</th>\n",
       "      <td>131</td>\n",
       "      <td>0.0</td>\n",
       "      <td>369</td>\n",
       "      <td>-1.0</td>\n",
       "      <td>35000</td>\n",
       "      <td>1</td>\n",
       "    </tr>\n",
       "    <tr>\n",
       "      <th>5</th>\n",
       "      <td>786</td>\n",
       "      <td>0.0</td>\n",
       "      <td>2276</td>\n",
       "      <td>-1.0</td>\n",
       "      <td>35000</td>\n",
       "      <td>1</td>\n",
       "    </tr>\n",
       "    <tr>\n",
       "      <th>6</th>\n",
       "      <td>22</td>\n",
       "      <td>0.0</td>\n",
       "      <td>64</td>\n",
       "      <td>-1.0</td>\n",
       "      <td>35000</td>\n",
       "      <td>1</td>\n",
       "    </tr>\n",
       "    <tr>\n",
       "      <th>7</th>\n",
       "      <td>359</td>\n",
       "      <td>0.0</td>\n",
       "      <td>1050</td>\n",
       "      <td>-1.0</td>\n",
       "      <td>35000</td>\n",
       "      <td>1</td>\n",
       "    </tr>\n",
       "    <tr>\n",
       "      <th>8</th>\n",
       "      <td>1247</td>\n",
       "      <td>0.0</td>\n",
       "      <td>3591</td>\n",
       "      <td>-1.0</td>\n",
       "      <td>35000</td>\n",
       "      <td>1</td>\n",
       "    </tr>\n",
       "    <tr>\n",
       "      <th>9</th>\n",
       "      <td>887</td>\n",
       "      <td>500.0</td>\n",
       "      <td>2568</td>\n",
       "      <td>-1.0</td>\n",
       "      <td>34500</td>\n",
       "      <td>1</td>\n",
       "    </tr>\n",
       "    <tr>\n",
       "      <th>10</th>\n",
       "      <td>932</td>\n",
       "      <td>1000.0</td>\n",
       "      <td>2697</td>\n",
       "      <td>-1.0</td>\n",
       "      <td>36000</td>\n",
       "      <td>1</td>\n",
       "    </tr>\n",
       "  </tbody>\n",
       "</table>\n",
       "</div>"
      ],
      "text/plain": [
       "    knn_indices  knn_distances  org_index  LoanApproval  AnnualSalary  Gender\n",
       "0             0            0.0          0          -1.0         35000       1\n",
       "1           811            0.0       2355          -1.0         35000       1\n",
       "2           857            0.0       2489          -1.0         35000       1\n",
       "3          1648            0.0       4789          -1.0         35000       1\n",
       "4           131            0.0        369          -1.0         35000       1\n",
       "5           786            0.0       2276          -1.0         35000       1\n",
       "6            22            0.0         64          -1.0         35000       1\n",
       "7           359            0.0       1050          -1.0         35000       1\n",
       "8          1247            0.0       3591          -1.0         35000       1\n",
       "9           887          500.0       2568          -1.0         34500       1\n",
       "10          932         1000.0       2697          -1.0         36000       1"
      ]
     },
     "execution_count": 17,
     "metadata": {},
     "output_type": "execute_result"
    }
   ],
   "source": [
    "# RECALL knn_indices are the same wrt the search space but not wrt org input\n",
    "# we can uss the knn_indices to get the rest of information\n",
    "temp_ctr_df = temp_ctr_df.merge(search_ctr_group, how='inner', left_on='knn_indices', right_index=True)\n",
    "temp_ctr_df\n",
    "\n",
    "# we can. e.g., test on the features of interest as well for ST!\n"
   ]
  },
  {
   "cell_type": "code",
   "execution_count": 18,
   "metadata": {},
   "outputs": [
    {
     "data": {
      "text/html": [
       "<div>\n",
       "<style scoped>\n",
       "    .dataframe tbody tr th:only-of-type {\n",
       "        vertical-align: middle;\n",
       "    }\n",
       "\n",
       "    .dataframe tbody tr th {\n",
       "        vertical-align: top;\n",
       "    }\n",
       "\n",
       "    .dataframe thead th {\n",
       "        text-align: right;\n",
       "    }\n",
       "</style>\n",
       "<table border=\"1\" class=\"dataframe\">\n",
       "  <thead>\n",
       "    <tr style=\"text-align: right;\">\n",
       "      <th></th>\n",
       "      <th>knn_indices</th>\n",
       "      <th>knn_distances</th>\n",
       "      <th>org_index</th>\n",
       "      <th>LoanApproval</th>\n",
       "      <th>AnnualSalary</th>\n",
       "      <th>Gender</th>\n",
       "    </tr>\n",
       "  </thead>\n",
       "  <tbody>\n",
       "    <tr>\n",
       "      <th>0</th>\n",
       "      <td>811</td>\n",
       "      <td>0.0</td>\n",
       "      <td>2355</td>\n",
       "      <td>-1.0</td>\n",
       "      <td>35000</td>\n",
       "      <td>1</td>\n",
       "    </tr>\n",
       "    <tr>\n",
       "      <th>1</th>\n",
       "      <td>857</td>\n",
       "      <td>0.0</td>\n",
       "      <td>2489</td>\n",
       "      <td>-1.0</td>\n",
       "      <td>35000</td>\n",
       "      <td>1</td>\n",
       "    </tr>\n",
       "    <tr>\n",
       "      <th>2</th>\n",
       "      <td>1648</td>\n",
       "      <td>0.0</td>\n",
       "      <td>4789</td>\n",
       "      <td>-1.0</td>\n",
       "      <td>35000</td>\n",
       "      <td>1</td>\n",
       "    </tr>\n",
       "    <tr>\n",
       "      <th>3</th>\n",
       "      <td>131</td>\n",
       "      <td>0.0</td>\n",
       "      <td>369</td>\n",
       "      <td>-1.0</td>\n",
       "      <td>35000</td>\n",
       "      <td>1</td>\n",
       "    </tr>\n",
       "    <tr>\n",
       "      <th>4</th>\n",
       "      <td>786</td>\n",
       "      <td>0.0</td>\n",
       "      <td>2276</td>\n",
       "      <td>-1.0</td>\n",
       "      <td>35000</td>\n",
       "      <td>1</td>\n",
       "    </tr>\n",
       "    <tr>\n",
       "      <th>5</th>\n",
       "      <td>22</td>\n",
       "      <td>0.0</td>\n",
       "      <td>64</td>\n",
       "      <td>-1.0</td>\n",
       "      <td>35000</td>\n",
       "      <td>1</td>\n",
       "    </tr>\n",
       "    <tr>\n",
       "      <th>6</th>\n",
       "      <td>359</td>\n",
       "      <td>0.0</td>\n",
       "      <td>1050</td>\n",
       "      <td>-1.0</td>\n",
       "      <td>35000</td>\n",
       "      <td>1</td>\n",
       "    </tr>\n",
       "    <tr>\n",
       "      <th>7</th>\n",
       "      <td>1247</td>\n",
       "      <td>0.0</td>\n",
       "      <td>3591</td>\n",
       "      <td>-1.0</td>\n",
       "      <td>35000</td>\n",
       "      <td>1</td>\n",
       "    </tr>\n",
       "    <tr>\n",
       "      <th>8</th>\n",
       "      <td>887</td>\n",
       "      <td>500.0</td>\n",
       "      <td>2568</td>\n",
       "      <td>-1.0</td>\n",
       "      <td>34500</td>\n",
       "      <td>1</td>\n",
       "    </tr>\n",
       "    <tr>\n",
       "      <th>9</th>\n",
       "      <td>932</td>\n",
       "      <td>1000.0</td>\n",
       "      <td>2697</td>\n",
       "      <td>-1.0</td>\n",
       "      <td>36000</td>\n",
       "      <td>1</td>\n",
       "    </tr>\n",
       "  </tbody>\n",
       "</table>\n",
       "</div>"
      ],
      "text/plain": [
       "   knn_indices  knn_distances  org_index  LoanApproval  AnnualSalary  Gender\n",
       "0          811            0.0       2355          -1.0         35000       1\n",
       "1          857            0.0       2489          -1.0         35000       1\n",
       "2         1648            0.0       4789          -1.0         35000       1\n",
       "3          131            0.0        369          -1.0         35000       1\n",
       "4          786            0.0       2276          -1.0         35000       1\n",
       "5           22            0.0         64          -1.0         35000       1\n",
       "6          359            0.0       1050          -1.0         35000       1\n",
       "7         1247            0.0       3591          -1.0         35000       1\n",
       "8          887          500.0       2568          -1.0         34500       1\n",
       "9          932         1000.0       2697          -1.0         36000       1"
      ]
     },
     "execution_count": 18,
     "metadata": {},
     "output_type": "execute_result"
    }
   ],
   "source": [
    "# drop ind for ctr! org index is the one we are using to loop over the search space!!!\n",
    "temp_ctr_df = temp_ctr_df[temp_ctr_df['org_index'] != ind].reset_index(drop=True)\n",
    "temp_ctr_df"
   ]
  },
  {
   "cell_type": "code",
   "execution_count": 19,
   "metadata": {},
   "outputs": [],
   "source": [
    "# store it\n",
    "temp_dict_df_neighbors['control'] = temp_ctr_df"
   ]
  },
  {
   "cell_type": "code",
   "execution_count": 20,
   "metadata": {},
   "outputs": [],
   "source": [
    "# clean up\n",
    "del center_ctr, knn_1, temp_ctr_df, indices_1, distances_1, "
   ]
  },
  {
   "cell_type": "code",
   "execution_count": 21,
   "metadata": {},
   "outputs": [
    {
     "data": {
      "text/plain": [
       "NearestNeighbors(algorithm='ball_tree', metric='euclidean', n_neighbors=10)"
      ]
     },
     "execution_count": 21,
     "metadata": {},
     "output_type": "execute_result"
    }
   ],
   "source": [
    "# 3) Test Group for ind\n",
    "\n",
    "# NOTE: by default, the control group search space will include ind, which will appear as a neighbor (distrance will be 0.0)\n",
    "knn_2 = NearestNeighbors(n_neighbors = n, algorithm='ball_tree', metric = d).fit(search_tst_group[feat_rlvt])\n",
    "knn_2"
   ]
  },
  {
   "cell_type": "code",
   "execution_count": 22,
   "metadata": {},
   "outputs": [],
   "source": [
    "distances_2, indices_2 = knn_2.kneighbors(center_tst)"
   ]
  },
  {
   "cell_type": "code",
   "execution_count": 23,
   "metadata": {},
   "outputs": [
    {
     "data": {
      "text/plain": [
       "array([[796.35, 796.35, 796.35, 796.35, 796.35, 796.35, 796.35, 796.35,\n",
       "        796.35, 796.35]])"
      ]
     },
     "execution_count": 23,
     "metadata": {},
     "output_type": "execute_result"
    }
   ],
   "source": [
    "distances_2"
   ]
  },
  {
   "cell_type": "code",
   "execution_count": 24,
   "metadata": {},
   "outputs": [
    {
     "data": {
      "text/plain": [
       "array([[1438, 1488, 1475,  739, 1420,  730,  408, 3274, 2644, 1481]],\n",
       "      dtype=int64)"
      ]
     },
     "execution_count": 24,
     "metadata": {},
     "output_type": "execute_result"
    }
   ],
   "source": [
    "indices_2"
   ]
  },
  {
   "cell_type": "code",
   "execution_count": 25,
   "metadata": {},
   "outputs": [
    {
     "data": {
      "text/html": [
       "<div>\n",
       "<style scoped>\n",
       "    .dataframe tbody tr th:only-of-type {\n",
       "        vertical-align: middle;\n",
       "    }\n",
       "\n",
       "    .dataframe tbody tr th {\n",
       "        vertical-align: top;\n",
       "    }\n",
       "\n",
       "    .dataframe thead th {\n",
       "        text-align: right;\n",
       "    }\n",
       "</style>\n",
       "<table border=\"1\" class=\"dataframe\">\n",
       "  <thead>\n",
       "    <tr style=\"text-align: right;\">\n",
       "      <th></th>\n",
       "      <th>knn_indices</th>\n",
       "      <th>knn_distances</th>\n",
       "    </tr>\n",
       "  </thead>\n",
       "  <tbody>\n",
       "    <tr>\n",
       "      <th>0</th>\n",
       "      <td>1438</td>\n",
       "      <td>796.35</td>\n",
       "    </tr>\n",
       "    <tr>\n",
       "      <th>1</th>\n",
       "      <td>1488</td>\n",
       "      <td>796.35</td>\n",
       "    </tr>\n",
       "    <tr>\n",
       "      <th>2</th>\n",
       "      <td>1475</td>\n",
       "      <td>796.35</td>\n",
       "    </tr>\n",
       "    <tr>\n",
       "      <th>3</th>\n",
       "      <td>739</td>\n",
       "      <td>796.35</td>\n",
       "    </tr>\n",
       "    <tr>\n",
       "      <th>4</th>\n",
       "      <td>1420</td>\n",
       "      <td>796.35</td>\n",
       "    </tr>\n",
       "    <tr>\n",
       "      <th>5</th>\n",
       "      <td>730</td>\n",
       "      <td>796.35</td>\n",
       "    </tr>\n",
       "    <tr>\n",
       "      <th>6</th>\n",
       "      <td>408</td>\n",
       "      <td>796.35</td>\n",
       "    </tr>\n",
       "    <tr>\n",
       "      <th>7</th>\n",
       "      <td>3274</td>\n",
       "      <td>796.35</td>\n",
       "    </tr>\n",
       "    <tr>\n",
       "      <th>8</th>\n",
       "      <td>2644</td>\n",
       "      <td>796.35</td>\n",
       "    </tr>\n",
       "    <tr>\n",
       "      <th>9</th>\n",
       "      <td>1481</td>\n",
       "      <td>796.35</td>\n",
       "    </tr>\n",
       "  </tbody>\n",
       "</table>\n",
       "</div>"
      ],
      "text/plain": [
       "   knn_indices  knn_distances\n",
       "0         1438         796.35\n",
       "1         1488         796.35\n",
       "2         1475         796.35\n",
       "3          739         796.35\n",
       "4         1420         796.35\n",
       "5          730         796.35\n",
       "6          408         796.35\n",
       "7         3274         796.35\n",
       "8         2644         796.35\n",
       "9         1481         796.35"
      ]
     },
     "execution_count": 25,
     "metadata": {},
     "output_type": "execute_result"
    }
   ],
   "source": [
    "temp_tst_df = pd.DataFrame()\n",
    "temp_tst_df['knn_indices'] = pd.Series(indices_2[0])\n",
    "temp_tst_df['knn_distances'] = pd.Series(distances_2[0])\n",
    "temp_tst_df.sort_values(by='knn_distances', ascending=True, inplace=True)\n",
    "# HERE we can drop neighbors based on the distance!\n",
    "temp_tst_df"
   ]
  },
  {
   "cell_type": "code",
   "execution_count": 26,
   "metadata": {},
   "outputs": [
    {
     "data": {
      "text/html": [
       "<div>\n",
       "<style scoped>\n",
       "    .dataframe tbody tr th:only-of-type {\n",
       "        vertical-align: middle;\n",
       "    }\n",
       "\n",
       "    .dataframe tbody tr th {\n",
       "        vertical-align: top;\n",
       "    }\n",
       "\n",
       "    .dataframe thead th {\n",
       "        text-align: right;\n",
       "    }\n",
       "</style>\n",
       "<table border=\"1\" class=\"dataframe\">\n",
       "  <thead>\n",
       "    <tr style=\"text-align: right;\">\n",
       "      <th></th>\n",
       "      <th>knn_indices</th>\n",
       "      <th>knn_distances</th>\n",
       "      <th>org_index</th>\n",
       "      <th>LoanApproval</th>\n",
       "      <th>AnnualSalary</th>\n",
       "      <th>Gender</th>\n",
       "    </tr>\n",
       "  </thead>\n",
       "  <tbody>\n",
       "    <tr>\n",
       "      <th>0</th>\n",
       "      <td>1438</td>\n",
       "      <td>796.35</td>\n",
       "      <td>2190</td>\n",
       "      <td>-1.0</td>\n",
       "      <td>50000.0</td>\n",
       "      <td>0</td>\n",
       "    </tr>\n",
       "    <tr>\n",
       "      <th>1</th>\n",
       "      <td>1488</td>\n",
       "      <td>796.35</td>\n",
       "      <td>2273</td>\n",
       "      <td>-1.0</td>\n",
       "      <td>50000.0</td>\n",
       "      <td>0</td>\n",
       "    </tr>\n",
       "    <tr>\n",
       "      <th>2</th>\n",
       "      <td>1475</td>\n",
       "      <td>796.35</td>\n",
       "      <td>2248</td>\n",
       "      <td>-1.0</td>\n",
       "      <td>50000.0</td>\n",
       "      <td>0</td>\n",
       "    </tr>\n",
       "    <tr>\n",
       "      <th>3</th>\n",
       "      <td>739</td>\n",
       "      <td>796.35</td>\n",
       "      <td>1135</td>\n",
       "      <td>-1.0</td>\n",
       "      <td>50000.0</td>\n",
       "      <td>0</td>\n",
       "    </tr>\n",
       "    <tr>\n",
       "      <th>4</th>\n",
       "      <td>1420</td>\n",
       "      <td>796.35</td>\n",
       "      <td>2161</td>\n",
       "      <td>-1.0</td>\n",
       "      <td>50000.0</td>\n",
       "      <td>0</td>\n",
       "    </tr>\n",
       "    <tr>\n",
       "      <th>5</th>\n",
       "      <td>730</td>\n",
       "      <td>796.35</td>\n",
       "      <td>1120</td>\n",
       "      <td>-1.0</td>\n",
       "      <td>50000.0</td>\n",
       "      <td>0</td>\n",
       "    </tr>\n",
       "    <tr>\n",
       "      <th>6</th>\n",
       "      <td>408</td>\n",
       "      <td>796.35</td>\n",
       "      <td>626</td>\n",
       "      <td>-1.0</td>\n",
       "      <td>50000.0</td>\n",
       "      <td>0</td>\n",
       "    </tr>\n",
       "    <tr>\n",
       "      <th>7</th>\n",
       "      <td>3274</td>\n",
       "      <td>796.35</td>\n",
       "      <td>4980</td>\n",
       "      <td>-1.0</td>\n",
       "      <td>50000.0</td>\n",
       "      <td>0</td>\n",
       "    </tr>\n",
       "    <tr>\n",
       "      <th>8</th>\n",
       "      <td>2644</td>\n",
       "      <td>796.35</td>\n",
       "      <td>4050</td>\n",
       "      <td>-1.0</td>\n",
       "      <td>50000.0</td>\n",
       "      <td>0</td>\n",
       "    </tr>\n",
       "    <tr>\n",
       "      <th>9</th>\n",
       "      <td>1481</td>\n",
       "      <td>796.35</td>\n",
       "      <td>2262</td>\n",
       "      <td>-1.0</td>\n",
       "      <td>50000.0</td>\n",
       "      <td>0</td>\n",
       "    </tr>\n",
       "  </tbody>\n",
       "</table>\n",
       "</div>"
      ],
      "text/plain": [
       "   knn_indices  knn_distances  org_index  LoanApproval  AnnualSalary  Gender\n",
       "0         1438         796.35       2190          -1.0       50000.0       0\n",
       "1         1488         796.35       2273          -1.0       50000.0       0\n",
       "2         1475         796.35       2248          -1.0       50000.0       0\n",
       "3          739         796.35       1135          -1.0       50000.0       0\n",
       "4         1420         796.35       2161          -1.0       50000.0       0\n",
       "5          730         796.35       1120          -1.0       50000.0       0\n",
       "6          408         796.35        626          -1.0       50000.0       0\n",
       "7         3274         796.35       4980          -1.0       50000.0       0\n",
       "8         2644         796.35       4050          -1.0       50000.0       0\n",
       "9         1481         796.35       2262          -1.0       50000.0       0"
      ]
     },
     "execution_count": 26,
     "metadata": {},
     "output_type": "execute_result"
    }
   ],
   "source": [
    "# RECALL knn_indices are the same wrt the search space but not wrt org input\n",
    "# we can uss the knn_indices to get the rest of information\n",
    "temp_tst_df = temp_tst_df.merge(search_tst_group, how='inner', left_on='knn_indices', right_index=True)\n",
    "temp_tst_df\n"
   ]
  },
  {
   "cell_type": "code",
   "execution_count": 27,
   "metadata": {},
   "outputs": [],
   "source": [
    "# store it\n",
    "temp_dict_df_neighbors['test'] = temp_tst_df"
   ]
  },
  {
   "cell_type": "code",
   "execution_count": 28,
   "metadata": {},
   "outputs": [],
   "source": [
    "# clean up\n",
    "del center_tst, knn_2, temp_tst_df, indices_2, distances_2, "
   ]
  },
  {
   "cell_type": "code",
   "execution_count": 29,
   "metadata": {},
   "outputs": [
    {
     "data": {
      "text/plain": [
       "{'control':    knn_indices  knn_distances  org_index  LoanApproval  AnnualSalary  Gender\n",
       " 0          811            0.0       2355          -1.0         35000       1\n",
       " 1          857            0.0       2489          -1.0         35000       1\n",
       " 2         1648            0.0       4789          -1.0         35000       1\n",
       " 3          131            0.0        369          -1.0         35000       1\n",
       " 4          786            0.0       2276          -1.0         35000       1\n",
       " 5           22            0.0         64          -1.0         35000       1\n",
       " 6          359            0.0       1050          -1.0         35000       1\n",
       " 7         1247            0.0       3591          -1.0         35000       1\n",
       " 8          887          500.0       2568          -1.0         34500       1\n",
       " 9          932         1000.0       2697          -1.0         36000       1,\n",
       " 'test':    knn_indices  knn_distances  org_index  LoanApproval  AnnualSalary  Gender\n",
       " 0         1438         796.35       2190          -1.0       50000.0       0\n",
       " 1         1488         796.35       2273          -1.0       50000.0       0\n",
       " 2         1475         796.35       2248          -1.0       50000.0       0\n",
       " 3          739         796.35       1135          -1.0       50000.0       0\n",
       " 4         1420         796.35       2161          -1.0       50000.0       0\n",
       " 5          730         796.35       1120          -1.0       50000.0       0\n",
       " 6          408         796.35        626          -1.0       50000.0       0\n",
       " 7         3274         796.35       4980          -1.0       50000.0       0\n",
       " 8         2644         796.35       4050          -1.0       50000.0       0\n",
       " 9         1481         796.35       2262          -1.0       50000.0       0}"
      ]
     },
     "execution_count": 29,
     "metadata": {},
     "output_type": "execute_result"
    }
   ],
   "source": [
    "temp_dict_df_neighbors"
   ]
  },
  {
   "cell_type": "code",
   "execution_count": 30,
   "metadata": {},
   "outputs": [],
   "source": [
    "#... later on\n",
    "dict_df_neighbors[ind] = temp_dict_df_neighbors"
   ]
  },
  {
   "cell_type": "code",
   "execution_count": 31,
   "metadata": {},
   "outputs": [
    {
     "data": {
      "text/plain": [
       "{0: {'control':    knn_indices  knn_distances  org_index  LoanApproval  AnnualSalary  Gender\n",
       "  0          811            0.0       2355          -1.0         35000       1\n",
       "  1          857            0.0       2489          -1.0         35000       1\n",
       "  2         1648            0.0       4789          -1.0         35000       1\n",
       "  3          131            0.0        369          -1.0         35000       1\n",
       "  4          786            0.0       2276          -1.0         35000       1\n",
       "  5           22            0.0         64          -1.0         35000       1\n",
       "  6          359            0.0       1050          -1.0         35000       1\n",
       "  7         1247            0.0       3591          -1.0         35000       1\n",
       "  8          887          500.0       2568          -1.0         34500       1\n",
       "  9          932         1000.0       2697          -1.0         36000       1,\n",
       "  'test':    knn_indices  knn_distances  org_index  LoanApproval  AnnualSalary  Gender\n",
       "  0         1438         796.35       2190          -1.0       50000.0       0\n",
       "  1         1488         796.35       2273          -1.0       50000.0       0\n",
       "  2         1475         796.35       2248          -1.0       50000.0       0\n",
       "  3          739         796.35       1135          -1.0       50000.0       0\n",
       "  4         1420         796.35       2161          -1.0       50000.0       0\n",
       "  5          730         796.35       1120          -1.0       50000.0       0\n",
       "  6          408         796.35        626          -1.0       50000.0       0\n",
       "  7         3274         796.35       4980          -1.0       50000.0       0\n",
       "  8         2644         796.35       4050          -1.0       50000.0       0\n",
       "  9         1481         796.35       2262          -1.0       50000.0       0}}"
      ]
     },
     "execution_count": 31,
     "metadata": {},
     "output_type": "execute_result"
    }
   ],
   "source": [
    "dict_df_neighbors"
   ]
  },
  {
   "cell_type": "code",
   "execution_count": null,
   "metadata": {},
   "outputs": [],
   "source": []
  },
  {
   "cell_type": "code",
   "execution_count": null,
   "metadata": {},
   "outputs": [],
   "source": []
  },
  {
   "cell_type": "code",
   "execution_count": null,
   "metadata": {},
   "outputs": [],
   "source": []
  },
  {
   "cell_type": "code",
   "execution_count": null,
   "metadata": {},
   "outputs": [],
   "source": [
    "df.loc[0,]"
   ]
  },
  {
   "cell_type": "code",
   "execution_count": null,
   "metadata": {},
   "outputs": [],
   "source": [
    "search_ctr_group.loc[857,]"
   ]
  },
  {
   "cell_type": "code",
   "execution_count": null,
   "metadata": {},
   "outputs": [],
   "source": [
    "df.loc[857,] # different ppl!!!"
   ]
  },
  {
   "cell_type": "code",
   "execution_count": null,
   "metadata": {},
   "outputs": [],
   "source": []
  },
  {
   "cell_type": "code",
   "execution_count": null,
   "metadata": {},
   "outputs": [],
   "source": [
    "from sklearn.neighbors import BallTree\n",
    "rng = np.random.RandomState(0)\n",
    "X = rng.random_sample((10, 3))\n",
    "print(X)\n",
    "print('---')\n",
    "print(X[:1])\n",
    "tree = BallTree(X, leaf_size=2)              \n",
    "dist, ind = tree.query(X[:1], k=3)                \n",
    "print(ind)  # indices of 3 closest neighbors\n",
    "#[0 3 1]\n",
    "print(dist)  # distances to 3 closest neighbors\n",
    "#[ 0.          0.19662693  0.29473397]"
   ]
  }
 ],
 "metadata": {
  "kernelspec": {
   "display_name": "Python 3",
   "language": "python",
   "name": "python3"
  },
  "language_info": {
   "codemirror_mode": {
    "name": "ipython",
    "version": 3
   },
   "file_extension": ".py",
   "mimetype": "text/x-python",
   "name": "python",
   "nbconvert_exporter": "python",
   "pygments_lexer": "ipython3",
   "version": "3.8.5"
  }
 },
 "nbformat": 4,
 "nbformat_minor": 4
}
