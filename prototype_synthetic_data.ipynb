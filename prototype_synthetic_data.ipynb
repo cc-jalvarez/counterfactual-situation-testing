{
 "cells": [
  {
   "cell_type": "code",
   "execution_count": 1,
   "metadata": {},
   "outputs": [],
   "source": [
    "%load_ext autoreload\n",
    "%autoreload 2\n",
    "import os\n",
    "import sys\n",
    "import random\n",
    "import pandas as pd\n",
    "import numpy as np\n",
    "import matplotlib.pyplot as plt\n",
    "# import seaborn as sns\n",
    "plt.style.use('seaborn-whitegrid')\n",
    "plt.rc('font', size=11)\n",
    "plt.rc('legend', fontsize=11)\n",
    "plt.rc('lines', linewidth=2)\n",
    "plt.rc('axes', linewidth=2)\n",
    "plt.rc('axes', edgecolor='k')\n",
    "plt.rc('xtick.major', width=2)\n",
    "plt.rc('xtick.major', size=6)\n",
    "plt.rc('ytick.major', width=2)\n",
    "plt.rc('ytick.major', size=6)\n",
    "plt.rc('pdf', fonttype=42)\n",
    "plt.rc('ps', fonttype=42)\n",
    "\n",
    "# absolute path to ST modules\n",
    "module_path = r'C:\\Users\\Jose Alvarez\\Documents\\Projects\\CounterfactualSituationTesting\\src'\n",
    "# module_path = os.path.abspath(os.path.join('../src')) # or the path to your source code\n",
    "sys.path.insert(0, module_path)\n",
    "# local files\n",
    "from src.situation_testing.situation_testing import SituationTesting"
   ]
  },
  {
   "cell_type": "code",
   "execution_count": 2,
   "metadata": {},
   "outputs": [],
   "source": [
    "# change data path accordingly\n",
    "data_path = os.getcwd() + '\\\\' + 'data' + '\\\\'\n",
    "resu_path = os.getcwd() + '\\\\' + 'results' + '\\\\'"
   ]
  },
  {
   "cell_type": "code",
   "execution_count": 3,
   "metadata": {},
   "outputs": [],
   "source": [
    "# factual dataset\n",
    "org_df    = pd.read_csv(data_path + 'Karimi2020_v2.csv', sep='|', )\n",
    "# counterfactual dataset\n",
    "org_cf_df = pd.read_csv(resu_path + 'counterfactuals\\\\cf_Karimi2020_v2.csv', sep='|', )"
   ]
  },
  {
   "cell_type": "code",
   "execution_count": 4,
   "metadata": {},
   "outputs": [
    {
     "data": {
      "text/html": [
       "<div>\n",
       "<style scoped>\n",
       "    .dataframe tbody tr th:only-of-type {\n",
       "        vertical-align: middle;\n",
       "    }\n",
       "\n",
       "    .dataframe tbody tr th {\n",
       "        vertical-align: top;\n",
       "    }\n",
       "\n",
       "    .dataframe thead th {\n",
       "        text-align: right;\n",
       "    }\n",
       "</style>\n",
       "<table border=\"1\" class=\"dataframe\">\n",
       "  <thead>\n",
       "    <tr style=\"text-align: right;\">\n",
       "      <th></th>\n",
       "      <th>LoanApproval</th>\n",
       "      <th>AnnualSalary</th>\n",
       "      <th>AccountBalance</th>\n",
       "      <th>u1</th>\n",
       "      <th>u2</th>\n",
       "      <th>Gender</th>\n",
       "    </tr>\n",
       "  </thead>\n",
       "  <tbody>\n",
       "    <tr>\n",
       "      <th>0</th>\n",
       "      <td>-1.0</td>\n",
       "      <td>35000</td>\n",
       "      <td>7947.678090</td>\n",
       "      <td>50000</td>\n",
       "      <td>-973.152642</td>\n",
       "      <td>1</td>\n",
       "    </tr>\n",
       "    <tr>\n",
       "      <th>1</th>\n",
       "      <td>1.0</td>\n",
       "      <td>120000</td>\n",
       "      <td>36940.097383</td>\n",
       "      <td>120000</td>\n",
       "      <td>940.097383</td>\n",
       "      <td>0</td>\n",
       "    </tr>\n",
       "    <tr>\n",
       "      <th>2</th>\n",
       "      <td>-1.0</td>\n",
       "      <td>90000</td>\n",
       "      <td>23564.129008</td>\n",
       "      <td>90000</td>\n",
       "      <td>-3435.870992</td>\n",
       "      <td>0</td>\n",
       "    </tr>\n",
       "    <tr>\n",
       "      <th>3</th>\n",
       "      <td>-1.0</td>\n",
       "      <td>80000</td>\n",
       "      <td>27596.570524</td>\n",
       "      <td>80000</td>\n",
       "      <td>3596.570524</td>\n",
       "      <td>0</td>\n",
       "    </tr>\n",
       "    <tr>\n",
       "      <th>4</th>\n",
       "      <td>1.0</td>\n",
       "      <td>201000</td>\n",
       "      <td>59008.567839</td>\n",
       "      <td>210000</td>\n",
       "      <td>-705.778380</td>\n",
       "      <td>1</td>\n",
       "    </tr>\n",
       "  </tbody>\n",
       "</table>\n",
       "</div>"
      ],
      "text/plain": [
       "   LoanApproval  AnnualSalary  AccountBalance      u1           u2  Gender\n",
       "0          -1.0         35000     7947.678090   50000  -973.152642       1\n",
       "1           1.0        120000    36940.097383  120000   940.097383       0\n",
       "2          -1.0         90000    23564.129008   90000 -3435.870992       0\n",
       "3          -1.0         80000    27596.570524   80000  3596.570524       0\n",
       "4           1.0        201000    59008.567839  210000  -705.778380       1"
      ]
     },
     "execution_count": 4,
     "metadata": {},
     "output_type": "execute_result"
    }
   ],
   "source": [
    "org_df.head(5)"
   ]
  },
  {
   "cell_type": "code",
   "execution_count": 5,
   "metadata": {},
   "outputs": [
    {
     "data": {
      "text/html": [
       "<div>\n",
       "<style scoped>\n",
       "    .dataframe tbody tr th:only-of-type {\n",
       "        vertical-align: middle;\n",
       "    }\n",
       "\n",
       "    .dataframe tbody tr th {\n",
       "        vertical-align: top;\n",
       "    }\n",
       "\n",
       "    .dataframe thead th {\n",
       "        text-align: right;\n",
       "    }\n",
       "</style>\n",
       "<table border=\"1\" class=\"dataframe\">\n",
       "  <thead>\n",
       "    <tr style=\"text-align: right;\">\n",
       "      <th></th>\n",
       "      <th>u_AnnualSalary</th>\n",
       "      <th>u_AccountBalance</th>\n",
       "      <th>AnnualSalary</th>\n",
       "      <th>AccountBalance</th>\n",
       "      <th>LoanApproval</th>\n",
       "      <th>Gender</th>\n",
       "    </tr>\n",
       "  </thead>\n",
       "  <tbody>\n",
       "    <tr>\n",
       "      <th>0</th>\n",
       "      <td>-49858.94</td>\n",
       "      <td>-1452.13</td>\n",
       "      <td>50796.35</td>\n",
       "      <td>13852.05</td>\n",
       "      <td>-1.0</td>\n",
       "      <td>1</td>\n",
       "    </tr>\n",
       "    <tr>\n",
       "      <th>1</th>\n",
       "      <td>19344.71</td>\n",
       "      <td>950.86</td>\n",
       "      <td>120000.00</td>\n",
       "      <td>36940.10</td>\n",
       "      <td>1.0</td>\n",
       "      <td>0</td>\n",
       "    </tr>\n",
       "    <tr>\n",
       "      <th>2</th>\n",
       "      <td>-10655.29</td>\n",
       "      <td>-3458.07</td>\n",
       "      <td>90000.00</td>\n",
       "      <td>23564.13</td>\n",
       "      <td>-1.0</td>\n",
       "      <td>0</td>\n",
       "    </tr>\n",
       "    <tr>\n",
       "      <th>3</th>\n",
       "      <td>-20655.29</td>\n",
       "      <td>3563.38</td>\n",
       "      <td>80000.00</td>\n",
       "      <td>27596.57</td>\n",
       "      <td>-1.0</td>\n",
       "      <td>0</td>\n",
       "    </tr>\n",
       "    <tr>\n",
       "      <th>4</th>\n",
       "      <td>116141.06</td>\n",
       "      <td>-8.85</td>\n",
       "      <td>216796.35</td>\n",
       "      <td>64912.94</td>\n",
       "      <td>1.0</td>\n",
       "      <td>1</td>\n",
       "    </tr>\n",
       "  </tbody>\n",
       "</table>\n",
       "</div>"
      ],
      "text/plain": [
       "   u_AnnualSalary  u_AccountBalance  AnnualSalary  AccountBalance  \\\n",
       "0       -49858.94          -1452.13      50796.35        13852.05   \n",
       "1        19344.71            950.86     120000.00        36940.10   \n",
       "2       -10655.29          -3458.07      90000.00        23564.13   \n",
       "3       -20655.29           3563.38      80000.00        27596.57   \n",
       "4       116141.06             -8.85     216796.35        64912.94   \n",
       "\n",
       "   LoanApproval  Gender  \n",
       "0          -1.0       1  \n",
       "1           1.0       0  \n",
       "2          -1.0       0  \n",
       "3          -1.0       0  \n",
       "4           1.0       1  "
      ]
     },
     "execution_count": 5,
     "metadata": {},
     "output_type": "execute_result"
    }
   ],
   "source": [
    "org_cf_df.head(5)"
   ]
  },
  {
   "cell_type": "markdown",
   "metadata": {},
   "source": [
    "### Set overall paremeters for test\n",
    "We can run standard ST, counterfactual ST with/without the search centers, and counterfactual fairness. Notice that CF is included within cfST when incuding the search centers: these are th factual and counterfactual instances."
   ]
  },
  {
   "cell_type": "code",
   "execution_count": 6,
   "metadata": {},
   "outputs": [],
   "source": [
    "# attribute-specific params\n",
    "feat_trgt = 'LoanApproval'\n",
    "feat_trgt_vals = {'positive': 1, 'negative': -1}\n",
    "# list of relevant features\n",
    "feat_rlvt = ['AnnualSalary', 'AccountBalance']\n",
    "# protected feature\n",
    "feat_prot = 'Gender'\n",
    "# values for the protected feature: use 'non_protected' and 'protected' accordingly\n",
    "feat_prot_vals = {'non_protected': 0, 'protected': 1}\n",
    "\n",
    "# st-specific params\n",
    "# size of neiuborhoods\n",
    "n = 15\n",
    "# significance level\n",
    "alpha = 0.05\n",
    "# tau diviation\n",
    "tau = 0.0"
   ]
  },
  {
   "cell_type": "code",
   "execution_count": 7,
   "metadata": {},
   "outputs": [
    {
     "data": {
      "text/html": [
       "<div>\n",
       "<style scoped>\n",
       "    .dataframe tbody tr th:only-of-type {\n",
       "        vertical-align: middle;\n",
       "    }\n",
       "\n",
       "    .dataframe tbody tr th {\n",
       "        vertical-align: top;\n",
       "    }\n",
       "\n",
       "    .dataframe thead th {\n",
       "        text-align: right;\n",
       "    }\n",
       "</style>\n",
       "<table border=\"1\" class=\"dataframe\">\n",
       "  <thead>\n",
       "    <tr style=\"text-align: right;\">\n",
       "      <th></th>\n",
       "      <th>Gender</th>\n",
       "      <th>LoanApproval</th>\n",
       "      <th>cf_LoanApproval</th>\n",
       "    </tr>\n",
       "  </thead>\n",
       "  <tbody>\n",
       "    <tr>\n",
       "      <th>0</th>\n",
       "      <td>1</td>\n",
       "      <td>-1.0</td>\n",
       "      <td>-1.0</td>\n",
       "    </tr>\n",
       "    <tr>\n",
       "      <th>1</th>\n",
       "      <td>0</td>\n",
       "      <td>1.0</td>\n",
       "      <td>1.0</td>\n",
       "    </tr>\n",
       "    <tr>\n",
       "      <th>2</th>\n",
       "      <td>0</td>\n",
       "      <td>-1.0</td>\n",
       "      <td>-1.0</td>\n",
       "    </tr>\n",
       "    <tr>\n",
       "      <th>3</th>\n",
       "      <td>0</td>\n",
       "      <td>-1.0</td>\n",
       "      <td>-1.0</td>\n",
       "    </tr>\n",
       "    <tr>\n",
       "      <th>4</th>\n",
       "      <td>1</td>\n",
       "      <td>1.0</td>\n",
       "      <td>1.0</td>\n",
       "    </tr>\n",
       "  </tbody>\n",
       "</table>\n",
       "</div>"
      ],
      "text/plain": [
       "   Gender  LoanApproval  cf_LoanApproval\n",
       "0       1          -1.0             -1.0\n",
       "1       0           1.0              1.0\n",
       "2       0          -1.0             -1.0\n",
       "3       0          -1.0             -1.0\n",
       "4       1           1.0              1.0"
      ]
     },
     "execution_count": 7,
     "metadata": {},
     "output_type": "execute_result"
    }
   ],
   "source": [
    "res_df = org_df[['Gender', 'LoanApproval']].copy()\n",
    "res_df['cf_LoanApproval'] = org_cf_df['LoanApproval'].copy()\n",
    "res_df.head(5)"
   ]
  },
  {
   "cell_type": "markdown",
   "metadata": {},
   "source": [
    "From one of the CLeaR reviewers: what is your Oracle?\n",
    "I guess, in this world, it would be a world freed from systematic bias, meaning counterfactual fairness captures this discrepancy between worlds, no?\n",
    "\n",
    "The world where $X_1$ and $X_2$ are born without $A$'s influence is a counterfactually fair world by definition from Kusner et al.!!!"
   ]
  },
  {
   "cell_type": "code",
   "execution_count": 18,
   "metadata": {},
   "outputs": [
    {
     "name": "stdout",
     "output_type": "stream",
     "text": [
      "674\n",
      "1050\n"
     ]
    }
   ],
   "source": [
    "print(res_df[(res_df['Gender'] == 1) & (res_df['LoanApproval'] == 1)].shape[0])\n",
    "# vs\n",
    "print(res_df[(res_df['Gender'] == 1) & (res_df['cf_LoanApproval'] == 1)].shape[0]) #ground truthc (if you will)"
   ]
  },
  {
   "cell_type": "code",
   "execution_count": 23,
   "metadata": {},
   "outputs": [
    {
     "name": "stdout",
     "output_type": "stream",
     "text": [
      "standardizing factual dataset\n"
     ]
    }
   ],
   "source": [
    "test_df = org_df.copy()\n",
    "\n",
    "st = SituationTesting()\n",
    "st.setup_baseline(test_df, nominal_atts=['Gender'], continuous_atts=['AnnualSalary', 'AccountBalance'])\n",
    "\n",
    "res_df['ST'] = st.run(target_att='LoanApproval', target_val={'positive': 1, 'negative': -1},\n",
    "                      sensitive_att='Gender', sensitive_val={'non_protected': 0, 'protected': 1},\n",
    "                      k=n, alpha=alpha, tau=tau)"
   ]
  },
  {
   "cell_type": "code",
   "execution_count": 24,
   "metadata": {},
   "outputs": [],
   "source": [
    "# get all neighborhoods for ST\n",
    "stST_knn = st.res_dict_df_neighbors"
   ]
  },
  {
   "cell_type": "code",
   "execution_count": 25,
   "metadata": {},
   "outputs": [
    {
     "name": "stdout",
     "output_type": "stream",
     "text": [
      "standardizing factual dataset\n",
      "standardizing counterfactual dataset\n"
     ]
    }
   ],
   "source": [
    "test_df    = org_df.copy()\n",
    "test_cf_df = org_cf_df.copy()\n",
    "\n",
    "# don't include the centers\n",
    "cf_st = SituationTesting()\n",
    "cf_st.setup_baseline(test_df, test_cf_df, nominal_atts=['Gender'], continuous_atts=['AnnualSalary', 'AccountBalance'])\n",
    "\n",
    "res_df['cfST'] = cf_st.run(target_att='LoanApproval', target_val={'positive': 1, 'negative': -1},\n",
    "                           sensitive_att='Gender', sensitive_val={'non_protected': 0, 'protected': 1},\n",
    "                           include_centers=False,\n",
    "                           k=n, alpha=alpha, tau=tau)"
   ]
  },
  {
   "cell_type": "code",
   "execution_count": 26,
   "metadata": {},
   "outputs": [],
   "source": [
    "# get all neighnorhoods for cfST\n",
    "cfST_knn = st.res_dict_df_neighbors"
   ]
  },
  {
   "cell_type": "markdown",
   "metadata": {},
   "source": [
    "stST vs cfST:\n",
    "- look at the cfST without centers (to be able to compare them)\n",
    "- look at the c's that are shared between both methods: look at the distribution of each's ctr and tst\n",
    "    - also look at the factual vs counterfactuals: average distance among this set\n",
    "- look at the c's that are NOT shared between both methods and do the same"
   ]
  },
  {
   "cell_type": "code",
   "execution_count": 44,
   "metadata": {},
   "outputs": [
    {
     "name": "stdout",
     "output_type": "stream",
     "text": [
      "5\n",
      "147\n",
      "181\n",
      "264\n",
      "420\n",
      "502\n",
      "798\n",
      "926\n",
      "1044\n",
      "1306\n",
      "1313\n",
      "1364\n",
      "1399\n",
      "1536\n",
      "1573\n",
      "1607\n",
      "1808\n",
      "1941\n",
      "1958\n",
      "2048\n",
      "2120\n",
      "2285\n",
      "2327\n",
      "2446\n",
      "2565\n",
      "2751\n",
      "2926\n",
      "3065\n",
      "3134\n",
      "3223\n",
      "3239\n",
      "3267\n",
      "3653\n",
      "3688\n",
      "3747\n",
      "3797\n",
      "3816\n",
      "4059\n",
      "4072\n",
      "4125\n",
      "4211\n",
      "4237\n",
      "4268\n",
      "4391\n",
      "4541\n",
      "4571\n",
      "4613\n",
      "4631\n",
      "4714\n",
      "4749\n",
      "4790\n",
      "4862\n",
      "4880\n",
      "4907\n",
      "4978\n"
     ]
    }
   ],
   "source": [
    "# let's look at those c's that appear both in stST and cfST\n",
    "test_c = res_df[(res_df['ST'] > tau) & (res_df['cfST'] > tau)].index.to_list()\n",
    "\n",
    "for c in test_c:\n",
    "    print(c)\n",
    "    "
   ]
  },
  {
   "cell_type": "code",
   "execution_count": 42,
   "metadata": {},
   "outputs": [
    {
     "data": {
      "text/plain": [
       "{'ctr_idx': [751,\n",
       "  4517,\n",
       "  3798,\n",
       "  4072,\n",
       "  3223,\n",
       "  2118,\n",
       "  2327,\n",
       "  4211,\n",
       "  2926,\n",
       "  4750,\n",
       "  4447,\n",
       "  2211,\n",
       "  4391,\n",
       "  1364,\n",
       "  799],\n",
       " 'tst_idx': [165,\n",
       "  2608,\n",
       "  2721,\n",
       "  4252,\n",
       "  155,\n",
       "  536,\n",
       "  104,\n",
       "  1400,\n",
       "  2921,\n",
       "  848,\n",
       "  2195,\n",
       "  695,\n",
       "  647,\n",
       "  4736,\n",
       "  2081]}"
      ]
     },
     "execution_count": 42,
     "metadata": {},
     "output_type": "execute_result"
    }
   ],
   "source": [
    "stST_knn[5]"
   ]
  },
  {
   "cell_type": "code",
   "execution_count": 43,
   "metadata": {},
   "outputs": [
    {
     "data": {
      "text/plain": [
       "{'ctr_idx': [751,\n",
       "  4517,\n",
       "  3798,\n",
       "  4072,\n",
       "  3223,\n",
       "  2118,\n",
       "  2327,\n",
       "  4211,\n",
       "  2926,\n",
       "  4750,\n",
       "  4447,\n",
       "  2211,\n",
       "  4391,\n",
       "  1364,\n",
       "  799],\n",
       " 'tst_idx': [165,\n",
       "  2608,\n",
       "  2721,\n",
       "  4252,\n",
       "  155,\n",
       "  536,\n",
       "  104,\n",
       "  1400,\n",
       "  2921,\n",
       "  848,\n",
       "  2195,\n",
       "  695,\n",
       "  647,\n",
       "  4736,\n",
       "  2081]}"
      ]
     },
     "execution_count": 43,
     "metadata": {},
     "output_type": "execute_result"
    }
   ],
   "source": [
    "cfST_knn[5]"
   ]
  },
  {
   "cell_type": "code",
   "execution_count": null,
   "metadata": {},
   "outputs": [],
   "source": [
    "test_df    = org_df.copy()\n",
    "test_cf_df = org_cf_df.copy()\n",
    "\n",
    "# include the centers\n",
    "cf_st = SituationTesting()\n",
    "cf_st.setup_baseline(test_df, test_cf_df, nominal_atts=['Gender'], continuous_atts=['AnnualSalary', 'AccountBalance'])\n",
    "\n",
    "res_df['cfSTwith'] = cf_st.run(target_att='LoanApproval', target_val={'positive': 1, 'negative': -1},\n",
    "                               sensitive_att='Gender', sensitive_val={'non_protected': 0, 'protected': 1},\n",
    "                               include_centers=True,\n",
    "                               k=n, alpha=alpha, tau=tau)"
   ]
  },
  {
   "cell_type": "code",
   "execution_count": null,
   "metadata": {},
   "outputs": [],
   "source": [
    "res_df['CF'] = cf_st.res_counterfactual_unfairness"
   ]
  },
  {
   "cell_type": "code",
   "execution_count": null,
   "metadata": {},
   "outputs": [],
   "source": [
    "res_df[res_df['Gender']==1].head(10)"
   ]
  },
  {
   "cell_type": "markdown",
   "metadata": {},
   "source": [
    "1) We need to compare ST vs cfST\n",
    "- check that all STs are in cfST\n",
    "- focus on ST $\\cap$ cfST: plot the distribution of group vs test group per k for X1 and X2\n",
    "- do the same for those not shared\n",
    "\n",
    "We would like to see that when ST and cfST agree we get \"tighter\" control and test groups: notice that the control groups across tools here should be identical, meaning the SOURCE OF VARIATION COMES FROM THE TEST GROUP.\n",
    "\n",
    "We can also play with/without center here, but since ST doesn't use the center, it makes sense to use cfSt without centers for this comparisson.\n",
    "\n",
    "We want to show/make the case: idealized comparison vs fairness given the difference.\n",
    "\n",
    "2) We also need to compare cfST vs CF\n",
    "- check that all CFs are in cfST (at least when including the center)\n",
    "- focus on cases where CF doesn't identify discrimination: highlight that we need more than the individual comparison\n",
    "\n",
    "We would like to see the limitations of relying exclusively on counterfactual fairness for detecting discrimination: for the law it's not enough. Compare with and without centers: in the former, we are by default including CF in the comparisson and the variation around it. \n",
    "\n",
    "3) Finally, compare all three: when do they coincide?"
   ]
  },
  {
   "cell_type": "code",
   "execution_count": null,
   "metadata": {},
   "outputs": [],
   "source": [
    "len(res_df[res_df['ST'] > tau].index)"
   ]
  },
  {
   "cell_type": "code",
   "execution_count": null,
   "metadata": {},
   "outputs": [],
   "source": [
    "print(res_df[(res_df['ST'] > tau) & (res_df['cfST'] > tau)].shape)\n",
    "print(res_df[(res_df['ST'] > tau) & (res_df['cfSTwith'] > tau)].shape) # all i in ST are in cfST: as expected"
   ]
  },
  {
   "cell_type": "code",
   "execution_count": null,
   "metadata": {},
   "outputs": [],
   "source": [
    "len(res_df[res_df['CF'] == True].index)"
   ]
  },
  {
   "cell_type": "code",
   "execution_count": null,
   "metadata": {},
   "outputs": [],
   "source": [
    "print(res_df[(res_df['cfST'] > tau) & (res_df['CF'] == True)].shape)\n",
    "print(res_df[(res_df['cfSTwith'] > tau) & (res_df['CF'] == True)].shape) # all CFs are in cfST when including the centers: as expected\n",
    "# then the CF is the lower bound (it seems) of cfST with centers!"
   ]
  },
  {
   "cell_type": "code",
   "execution_count": null,
   "metadata": {},
   "outputs": [],
   "source": [
    "# explore the distributions... ctr group vs tst groups: show the disimilar individuals for the same i factual\n",
    "# ... look at the cases where CF failed / didn't fail wrt to cfST: box plots???"
   ]
  },
  {
   "cell_type": "code",
   "execution_count": null,
   "metadata": {},
   "outputs": [],
   "source": []
  },
  {
   "cell_type": "code",
   "execution_count": null,
   "metadata": {},
   "outputs": [],
   "source": []
  }
 ],
 "metadata": {
  "kernelspec": {
   "display_name": "fair_ml",
   "language": "python",
   "name": "fair_ml"
  },
  "language_info": {
   "codemirror_mode": {
    "name": "ipython",
    "version": 3
   },
   "file_extension": ".py",
   "mimetype": "text/x-python",
   "name": "python",
   "nbconvert_exporter": "python",
   "pygments_lexer": "ipython3",
   "version": "3.8.5"
  }
 },
 "nbformat": 4,
 "nbformat_minor": 4
}
