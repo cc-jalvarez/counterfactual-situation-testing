{
 "cells": [
  {
   "cell_type": "code",
   "execution_count": 1,
   "metadata": {},
   "outputs": [],
   "source": [
    "import random\n",
    "import os\n",
    "import numpy as np\n",
    "import pandas as pd\n",
    "import matplotlib.pyplot as plt\n",
    "from sklearn.linear_model import LinearRegression"
   ]
  },
  {
   "cell_type": "code",
   "execution_count": 2,
   "metadata": {},
   "outputs": [],
   "source": [
    "# set working directory - note: all code runs from the src folder\n",
    "wrk_dir = os.getcwd()\n",
    "# set data path\n",
    "data_path = wrk_dir + '\\\\' + 'data' + '\\\\'"
   ]
  },
  {
   "cell_type": "code",
   "execution_count": 3,
   "metadata": {},
   "outputs": [],
   "source": [
    "np.random.seed(2022)\n",
    "\n",
    "n = 5000\n",
    "gamma1 = 250\n",
    "gamma2 = 100\n",
    "beta1 = 7.5\n",
    "\n",
    "# exog vars\n",
    "u1 = gamma1*np.random.normal(loc=0.0, scale=1.0, size=n)\n",
    "u2 = gamma2*np.random.normal(loc=0.0, scale=1.0, size=n)\n",
    "\n",
    "# endo vars\n",
    "x1 = u1\n",
    "x2 = beta1*x1 + u2"
   ]
  },
  {
   "cell_type": "code",
   "execution_count": 4,
   "metadata": {},
   "outputs": [
    {
     "data": {
      "text/html": [
       "<div>\n",
       "<style scoped>\n",
       "    .dataframe tbody tr th:only-of-type {\n",
       "        vertical-align: middle;\n",
       "    }\n",
       "\n",
       "    .dataframe tbody tr th {\n",
       "        vertical-align: top;\n",
       "    }\n",
       "\n",
       "    .dataframe thead th {\n",
       "        text-align: right;\n",
       "    }\n",
       "</style>\n",
       "<table border=\"1\" class=\"dataframe\">\n",
       "  <thead>\n",
       "    <tr style=\"text-align: right;\">\n",
       "      <th></th>\n",
       "      <th>X1</th>\n",
       "      <th>U1</th>\n",
       "      <th>X2</th>\n",
       "      <th>U2</th>\n",
       "    </tr>\n",
       "  </thead>\n",
       "  <tbody>\n",
       "    <tr>\n",
       "      <th>0</th>\n",
       "      <td>-0.131975</td>\n",
       "      <td>-0.131975</td>\n",
       "      <td>-54.416768</td>\n",
       "      <td>-53.426957</td>\n",
       "    </tr>\n",
       "    <tr>\n",
       "      <th>1</th>\n",
       "      <td>-68.725356</td>\n",
       "      <td>-68.725356</td>\n",
       "      <td>-611.367150</td>\n",
       "      <td>-95.926978</td>\n",
       "    </tr>\n",
       "    <tr>\n",
       "      <th>2</th>\n",
       "      <td>-34.821390</td>\n",
       "      <td>-34.821390</td>\n",
       "      <td>-272.755678</td>\n",
       "      <td>-11.595250</td>\n",
       "    </tr>\n",
       "    <tr>\n",
       "      <th>3</th>\n",
       "      <td>496.171539</td>\n",
       "      <td>496.171539</td>\n",
       "      <td>3962.140328</td>\n",
       "      <td>240.853782</td>\n",
       "    </tr>\n",
       "    <tr>\n",
       "      <th>4</th>\n",
       "      <td>70.527331</td>\n",
       "      <td>70.527331</td>\n",
       "      <td>617.738924</td>\n",
       "      <td>88.783938</td>\n",
       "    </tr>\n",
       "  </tbody>\n",
       "</table>\n",
       "</div>"
      ],
      "text/plain": [
       "           X1          U1           X2          U2\n",
       "0   -0.131975   -0.131975   -54.416768  -53.426957\n",
       "1  -68.725356  -68.725356  -611.367150  -95.926978\n",
       "2  -34.821390  -34.821390  -272.755678  -11.595250\n",
       "3  496.171539  496.171539  3962.140328  240.853782\n",
       "4   70.527331   70.527331   617.738924   88.783938"
      ]
     },
     "execution_count": 4,
     "metadata": {},
     "output_type": "execute_result"
    }
   ],
   "source": [
    "# store data for testing RStan \n",
    "d = {'X1': x1,\n",
    "     'U1': u1,\n",
    "     'X2': x2,\n",
    "     'U2': u2\n",
    "    }\n",
    "data = pd.DataFrame(d)\n",
    "data.head(5)"
   ]
  },
  {
   "cell_type": "code",
   "execution_count": 15,
   "metadata": {},
   "outputs": [
    {
     "name": "stdout",
     "output_type": "stream",
     "text": [
      "(5000, 1)\n",
      "(5000,)\n",
      "[7.5024816]\n",
      "-1.3474952696904055\n"
     ]
    }
   ],
   "source": [
    "model = LinearRegression(fit_intercept=True, normalize=False)\n",
    "\n",
    "x = np.array(data['X1'].copy()).reshape((-1, 1))\n",
    "print(x.shape)\n",
    "\n",
    "y = np.array(data['X2'].copy())\n",
    "print(y.shape)\n",
    "\n",
    "model.fit(x, y)\n",
    "\n",
    "print(model.coef_)\n",
    "print(model.intercept_)"
   ]
  },
  {
   "cell_type": "markdown",
   "metadata": {},
   "source": [
    "Under **situation testing** we're constrained by the dataset $\\mathcal{D}$, meaning that what we see/have is what we can use. When facing confounding, this limits our approaches: the use of a mediator or instrumental variable(s) will depend on the data in question (here, recall we're in a model-agnostic setting). Now, for SCF we need to retrieve $U$ for the abduction step. This is, at least the Perlian view.\n",
    "\n",
    "However, I'd add that we also need to *properly identify* the weights of the causal edges. Under confounding, these weights can be biased, which will affect all other steps for SCF. I believe we can frame it as an ommited variable porblem where we are unable to split the residual variance accordingly. This shifts some probability mass into the weights..."
   ]
  },
  {
   "cell_type": "code",
   "execution_count": 12,
   "metadata": {},
   "outputs": [],
   "source": [
    "np.random.seed(2022)\n",
    "\n",
    "gamma3 = 5000\n",
    "gamma4 = 1\n",
    "gamma5 = 3\n",
    "\n",
    "w = gamma3*np.random.normal(loc=0.0, scale=1.0, size=n)\n",
    "\n",
    "b_u1 = u1 + gamma4*w\n",
    "b_u2 = u2 + gamma5*w\n",
    "\n",
    "# endo vars\n",
    "b_x1 = b_u1\n",
    "b_x2 = beta1*b_x1 + b_u2"
   ]
  },
  {
   "cell_type": "code",
   "execution_count": 16,
   "metadata": {},
   "outputs": [
    {
     "data": {
      "text/html": [
       "<div>\n",
       "<style scoped>\n",
       "    .dataframe tbody tr th:only-of-type {\n",
       "        vertical-align: middle;\n",
       "    }\n",
       "\n",
       "    .dataframe tbody tr th {\n",
       "        vertical-align: top;\n",
       "    }\n",
       "\n",
       "    .dataframe thead th {\n",
       "        text-align: right;\n",
       "    }\n",
       "</style>\n",
       "<table border=\"1\" class=\"dataframe\">\n",
       "  <thead>\n",
       "    <tr style=\"text-align: right;\">\n",
       "      <th></th>\n",
       "      <th>X1</th>\n",
       "      <th>U1</th>\n",
       "      <th>X2</th>\n",
       "      <th>U2</th>\n",
       "      <th>W</th>\n",
       "    </tr>\n",
       "  </thead>\n",
       "  <tbody>\n",
       "    <tr>\n",
       "      <th>0</th>\n",
       "      <td>-2.771470</td>\n",
       "      <td>-2.771470</td>\n",
       "      <td>-82.131470</td>\n",
       "      <td>-61.345443</td>\n",
       "      <td>-2.639495</td>\n",
       "    </tr>\n",
       "    <tr>\n",
       "      <th>1</th>\n",
       "      <td>-1443.232481</td>\n",
       "      <td>-1443.232481</td>\n",
       "      <td>-15043.691957</td>\n",
       "      <td>-4219.448352</td>\n",
       "      <td>-1374.507124</td>\n",
       "    </tr>\n",
       "    <tr>\n",
       "      <th>2</th>\n",
       "      <td>-731.249199</td>\n",
       "      <td>-731.249199</td>\n",
       "      <td>-7585.247665</td>\n",
       "      <td>-2100.878675</td>\n",
       "      <td>-696.427808</td>\n",
       "    </tr>\n",
       "    <tr>\n",
       "      <th>3</th>\n",
       "      <td>10419.602328</td>\n",
       "      <td>10419.602328</td>\n",
       "      <td>108158.163608</td>\n",
       "      <td>30011.146148</td>\n",
       "      <td>9923.430789</td>\n",
       "    </tr>\n",
       "    <tr>\n",
       "      <th>4</th>\n",
       "      <td>1481.073960</td>\n",
       "      <td>1481.073960</td>\n",
       "      <td>15428.478527</td>\n",
       "      <td>4320.423825</td>\n",
       "      <td>1410.546629</td>\n",
       "    </tr>\n",
       "  </tbody>\n",
       "</table>\n",
       "</div>"
      ],
      "text/plain": [
       "             X1            U1             X2            U2            W\n",
       "0     -2.771470     -2.771470     -82.131470    -61.345443    -2.639495\n",
       "1  -1443.232481  -1443.232481  -15043.691957  -4219.448352 -1374.507124\n",
       "2   -731.249199   -731.249199   -7585.247665  -2100.878675  -696.427808\n",
       "3  10419.602328  10419.602328  108158.163608  30011.146148  9923.430789\n",
       "4   1481.073960   1481.073960   15428.478527   4320.423825  1410.546629"
      ]
     },
     "execution_count": 16,
     "metadata": {},
     "output_type": "execute_result"
    }
   ],
   "source": [
    "# store data for testing RStan \n",
    "d2 = {'X1': b_x1,\n",
    "      'U1': b_u1,\n",
    "      'X2': b_x2,\n",
    "      'U2': b_u2,\n",
    "      'W': w\n",
    "    }\n",
    "data2 = pd.DataFrame(d2)\n",
    "data2.head(5)"
   ]
  },
  {
   "cell_type": "code",
   "execution_count": 14,
   "metadata": {},
   "outputs": [
    {
     "name": "stdout",
     "output_type": "stream",
     "text": [
      "(5000, 1)\n",
      "(5000,)\n",
      "[10.35726103]\n",
      "-1.3474952696902847\n"
     ]
    }
   ],
   "source": [
    "model2 = LinearRegression(fit_intercept=True, normalize=False)\n",
    "\n",
    "x = np.array(data2['X1'].copy()).reshape((-1, 1))\n",
    "print(x.shape)\n",
    "\n",
    "y = np.array(data2['X2'].copy())\n",
    "print(y.shape)\n",
    "\n",
    "model2.fit(x, y)\n",
    "\n",
    "print(model2.coef_)\n",
    "\n",
    "print(model2.intercept_)"
   ]
  },
  {
   "cell_type": "code",
   "execution_count": 17,
   "metadata": {},
   "outputs": [
    {
     "name": "stdout",
     "output_type": "stream",
     "text": [
      "(5000, 2)\n",
      "(5000,)\n",
      "[5.43109645 5.17247281]\n",
      "-1.3474952696902847\n"
     ]
    }
   ],
   "source": [
    "model3 = LinearRegression(fit_intercept=True, normalize=False)\n",
    "\n",
    "x = np.array(data2[['X1', 'W']].copy())#.reshape((-1, 1))\n",
    "print(x.shape)\n",
    "\n",
    "y = np.array(data2['X2'].copy())\n",
    "print(y.shape)\n",
    "\n",
    "model2.fit(x, y)\n",
    "\n",
    "print(model2.coef_)\n",
    "\n",
    "print(model2.intercept_)"
   ]
  },
  {
   "cell_type": "markdown",
   "metadata": {},
   "source": [
    "It's tricky because even with knowledge of $W$ we can't retrieve $\\beta$... focus on more damage control: is it better to do SCF without getting some proxy for $W$ or doing nothing at all?"
   ]
  },
  {
   "cell_type": "code",
   "execution_count": null,
   "metadata": {},
   "outputs": [],
   "source": []
  },
  {
   "cell_type": "code",
   "execution_count": null,
   "metadata": {},
   "outputs": [],
   "source": []
  },
  {
   "cell_type": "code",
   "execution_count": null,
   "metadata": {},
   "outputs": [],
   "source": []
  },
  {
   "cell_type": "code",
   "execution_count": null,
   "metadata": {},
   "outputs": [],
   "source": []
  },
  {
   "cell_type": "code",
   "execution_count": null,
   "metadata": {},
   "outputs": [],
   "source": [
    "# store in data folder\n",
    "data.to_csv(data_path + '\\\\' + 'namehere.csv', sep='|', index=False)"
   ]
  }
 ],
 "metadata": {
  "kernelspec": {
   "display_name": "Python 3",
   "language": "python",
   "name": "python3"
  },
  "language_info": {
   "codemirror_mode": {
    "name": "ipython",
    "version": 3
   },
   "file_extension": ".py",
   "mimetype": "text/x-python",
   "name": "python",
   "nbconvert_exporter": "python",
   "pygments_lexer": "ipython3",
   "version": "3.8.5"
  }
 },
 "nbformat": 4,
 "nbformat_minor": 4
}
