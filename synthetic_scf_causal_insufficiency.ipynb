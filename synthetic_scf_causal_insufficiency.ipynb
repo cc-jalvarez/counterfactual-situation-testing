{
 "cells": [
  {
   "cell_type": "code",
   "execution_count": 1,
   "metadata": {},
   "outputs": [],
   "source": [
    "import random\n",
    "import os\n",
    "import numpy as np\n",
    "import pandas as pd\n",
    "import matplotlib.pyplot as plt\n",
    "from sklearn.linear_model import LinearRegression"
   ]
  },
  {
   "cell_type": "code",
   "execution_count": 2,
   "metadata": {},
   "outputs": [],
   "source": [
    "# set working directory - note: all code runs from the src folder\n",
    "wrk_dir = os.getcwd()\n",
    "# set data path\n",
    "data_path = wrk_dir + '\\\\' + 'data' + '\\\\'"
   ]
  },
  {
   "cell_type": "code",
   "execution_count": 3,
   "metadata": {},
   "outputs": [],
   "source": [
    "np.random.seed(2022)\n",
    "\n",
    "n = 5000\n",
    "gamma1 = 250\n",
    "gamma2 = 100\n",
    "beta1 = 7.5\n",
    "\n",
    "# exog vars\n",
    "u1 = gamma1*np.random.normal(loc=0.0, scale=1.0, size=n)\n",
    "u2 = gamma2*np.random.normal(loc=0.0, scale=1.0, size=n)\n",
    "\n",
    "# endo vars\n",
    "x1 = u1\n",
    "x2 = beta1*x1 + u2"
   ]
  },
  {
   "cell_type": "code",
   "execution_count": 4,
   "metadata": {},
   "outputs": [
    {
     "data": {
      "text/html": [
       "<div>\n",
       "<style scoped>\n",
       "    .dataframe tbody tr th:only-of-type {\n",
       "        vertical-align: middle;\n",
       "    }\n",
       "\n",
       "    .dataframe tbody tr th {\n",
       "        vertical-align: top;\n",
       "    }\n",
       "\n",
       "    .dataframe thead th {\n",
       "        text-align: right;\n",
       "    }\n",
       "</style>\n",
       "<table border=\"1\" class=\"dataframe\">\n",
       "  <thead>\n",
       "    <tr style=\"text-align: right;\">\n",
       "      <th></th>\n",
       "      <th>X1</th>\n",
       "      <th>U1</th>\n",
       "      <th>X2</th>\n",
       "      <th>U2</th>\n",
       "    </tr>\n",
       "  </thead>\n",
       "  <tbody>\n",
       "    <tr>\n",
       "      <th>0</th>\n",
       "      <td>-0.131975</td>\n",
       "      <td>-0.131975</td>\n",
       "      <td>-54.416768</td>\n",
       "      <td>-53.426957</td>\n",
       "    </tr>\n",
       "    <tr>\n",
       "      <th>1</th>\n",
       "      <td>-68.725356</td>\n",
       "      <td>-68.725356</td>\n",
       "      <td>-611.367150</td>\n",
       "      <td>-95.926978</td>\n",
       "    </tr>\n",
       "    <tr>\n",
       "      <th>2</th>\n",
       "      <td>-34.821390</td>\n",
       "      <td>-34.821390</td>\n",
       "      <td>-272.755678</td>\n",
       "      <td>-11.595250</td>\n",
       "    </tr>\n",
       "    <tr>\n",
       "      <th>3</th>\n",
       "      <td>496.171539</td>\n",
       "      <td>496.171539</td>\n",
       "      <td>3962.140328</td>\n",
       "      <td>240.853782</td>\n",
       "    </tr>\n",
       "    <tr>\n",
       "      <th>4</th>\n",
       "      <td>70.527331</td>\n",
       "      <td>70.527331</td>\n",
       "      <td>617.738924</td>\n",
       "      <td>88.783938</td>\n",
       "    </tr>\n",
       "  </tbody>\n",
       "</table>\n",
       "</div>"
      ],
      "text/plain": [
       "           X1          U1           X2          U2\n",
       "0   -0.131975   -0.131975   -54.416768  -53.426957\n",
       "1  -68.725356  -68.725356  -611.367150  -95.926978\n",
       "2  -34.821390  -34.821390  -272.755678  -11.595250\n",
       "3  496.171539  496.171539  3962.140328  240.853782\n",
       "4   70.527331   70.527331   617.738924   88.783938"
      ]
     },
     "execution_count": 4,
     "metadata": {},
     "output_type": "execute_result"
    }
   ],
   "source": [
    "# store data for testing RStan \n",
    "d = {'X1': x1,\n",
    "     'U1': u1,\n",
    "     'X2': x2,\n",
    "     'U2': u2\n",
    "    }\n",
    "data = pd.DataFrame(d)\n",
    "data.head(5)"
   ]
  },
  {
   "cell_type": "code",
   "execution_count": 5,
   "metadata": {},
   "outputs": [
    {
     "name": "stdout",
     "output_type": "stream",
     "text": [
      "(5000, 1)\n",
      "(5000,)\n",
      "[7.5024816]\n",
      "-1.3474952696904055\n"
     ]
    }
   ],
   "source": [
    "model = LinearRegression(fit_intercept=True, normalize=False)\n",
    "\n",
    "x = np.array(data['X1'].copy()).reshape((-1, 1))\n",
    "print(x.shape)\n",
    "\n",
    "y = np.array(data['X2'].copy())\n",
    "print(y.shape)\n",
    "\n",
    "model.fit(x, y)\n",
    "\n",
    "print(model.coef_)\n",
    "print(model.intercept_)\n",
    "\n",
    "del x, y"
   ]
  },
  {
   "cell_type": "markdown",
   "metadata": {},
   "source": [
    "Under **situation testing** we're constrained by the dataset $\\mathcal{D}$, meaning that what we see/have is what we can use. When facing confounding, this limits our approaches: the use of a mediator or instrumental variable(s) will depend on the data in question (here, recall we're in a model-agnostic setting). Now, for SCF we need to retrieve $U$ for the abduction step. This is, at least the Perlian view.\n",
    "\n",
    "However, I'd add that we also need to *properly identify* the weights of the causal edges. Under confounding, these weights can be biased, which will affect all other steps for SCF. I believe we can frame it as an ommited variable porblem where we are unable to split the residual variance accordingly. This shifts some probability mass into the weights..."
   ]
  },
  {
   "cell_type": "code",
   "execution_count": 41,
   "metadata": {},
   "outputs": [
    {
     "data": {
      "text/plain": [
       "7.5"
      ]
     },
     "execution_count": 41,
     "metadata": {},
     "output_type": "execute_result"
    }
   ],
   "source": [
    "beta1"
   ]
  },
  {
   "cell_type": "code",
   "execution_count": 86,
   "metadata": {},
   "outputs": [],
   "source": [
    "np.random.seed(2022)\n",
    "\n",
    "gamma3 = 500\n",
    "gamma4 = 1\n",
    "gamma5 = 3\n",
    "\n",
    "w = gamma3*np.random.normal(loc=0.0, scale=1.75, size=n)\n",
    "# w = gamma3*np.random.chisquare(df=4, size=n)\n",
    "\n",
    "# b_u1 = gamma4*w\n",
    "# b_u2 = gamma5*w\n",
    "b_u1 = u1 + gamma4*w\n",
    "b_u2 = u2 + gamma5*w\n",
    "\n",
    "# endo vars\n",
    "b_x1 = b_u1\n",
    "b_x2 = beta1*b_x1 + b_u2\n",
    "# # endo vars\n",
    "# b_x1 = u1 + gamma4*w\n",
    "# b_x2 = beta1*b_x1 + u2 + gamma5*w"
   ]
  },
  {
   "cell_type": "code",
   "execution_count": 87,
   "metadata": {},
   "outputs": [
    {
     "data": {
      "text/html": [
       "<div>\n",
       "<style scoped>\n",
       "    .dataframe tbody tr th:only-of-type {\n",
       "        vertical-align: middle;\n",
       "    }\n",
       "\n",
       "    .dataframe tbody tr th {\n",
       "        vertical-align: top;\n",
       "    }\n",
       "\n",
       "    .dataframe thead th {\n",
       "        text-align: right;\n",
       "    }\n",
       "</style>\n",
       "<table border=\"1\" class=\"dataframe\">\n",
       "  <thead>\n",
       "    <tr style=\"text-align: right;\">\n",
       "      <th></th>\n",
       "      <th>X1</th>\n",
       "      <th>U1</th>\n",
       "      <th>X2</th>\n",
       "      <th>U2</th>\n",
       "      <th>W</th>\n",
       "    </tr>\n",
       "  </thead>\n",
       "  <tbody>\n",
       "    <tr>\n",
       "      <th>0</th>\n",
       "      <td>-0.593886</td>\n",
       "      <td>-0.131975</td>\n",
       "      <td>-59.266841</td>\n",
       "      <td>-53.426957</td>\n",
       "      <td>-0.461912</td>\n",
       "    </tr>\n",
       "    <tr>\n",
       "      <th>1</th>\n",
       "      <td>-309.264103</td>\n",
       "      <td>-68.725356</td>\n",
       "      <td>-3137.023991</td>\n",
       "      <td>-95.926978</td>\n",
       "      <td>-240.538747</td>\n",
       "    </tr>\n",
       "    <tr>\n",
       "      <th>2</th>\n",
       "      <td>-156.696257</td>\n",
       "      <td>-34.821390</td>\n",
       "      <td>-1552.441776</td>\n",
       "      <td>-11.595250</td>\n",
       "      <td>-121.874866</td>\n",
       "    </tr>\n",
       "    <tr>\n",
       "      <th>3</th>\n",
       "      <td>2232.771927</td>\n",
       "      <td>496.171539</td>\n",
       "      <td>22196.444402</td>\n",
       "      <td>240.853782</td>\n",
       "      <td>1736.600388</td>\n",
       "    </tr>\n",
       "    <tr>\n",
       "      <th>4</th>\n",
       "      <td>317.372991</td>\n",
       "      <td>70.527331</td>\n",
       "      <td>3209.618355</td>\n",
       "      <td>88.783938</td>\n",
       "      <td>246.845660</td>\n",
       "    </tr>\n",
       "  </tbody>\n",
       "</table>\n",
       "</div>"
      ],
      "text/plain": [
       "            X1          U1            X2          U2            W\n",
       "0    -0.593886   -0.131975    -59.266841  -53.426957    -0.461912\n",
       "1  -309.264103  -68.725356  -3137.023991  -95.926978  -240.538747\n",
       "2  -156.696257  -34.821390  -1552.441776  -11.595250  -121.874866\n",
       "3  2232.771927  496.171539  22196.444402  240.853782  1736.600388\n",
       "4   317.372991   70.527331   3209.618355   88.783938   246.845660"
      ]
     },
     "execution_count": 87,
     "metadata": {},
     "output_type": "execute_result"
    }
   ],
   "source": [
    "# store data for testing RStan \n",
    "d2 = {'X1': b_x1,\n",
    "      'U1': u1,\n",
    "      'X2': b_x2,\n",
    "      'U2': u2,\n",
    "      'W': w\n",
    "    }\n",
    "data2 = pd.DataFrame(d2)\n",
    "data2.head(5)"
   ]
  },
  {
   "cell_type": "code",
   "execution_count": 88,
   "metadata": {},
   "outputs": [
    {
     "name": "stdout",
     "output_type": "stream",
     "text": [
      "(5000, 1)\n",
      "(5000,)\n",
      "[9.8338848]\n",
      "-1.3474952696904836\n"
     ]
    }
   ],
   "source": [
    "model2 = LinearRegression(fit_intercept=True, normalize=False)\n",
    "\n",
    "x = np.array(data2['X1'].copy()).reshape((-1, 1))\n",
    "print(x.shape)\n",
    "\n",
    "y = np.array(data2['X2'].copy())\n",
    "print(y.shape)\n",
    "\n",
    "model2.fit(x, y)\n",
    "\n",
    "print(model2.coef_)\n",
    "\n",
    "print(model2.intercept_)\n",
    "\n",
    "del x, y"
   ]
  },
  {
   "cell_type": "code",
   "execution_count": 89,
   "metadata": {},
   "outputs": [
    {
     "name": "stdout",
     "output_type": "stream",
     "text": [
      "(5000, 2)\n",
      "(5000,)\n",
      "[6.12726668 4.76565186]\n",
      "-1.347495269690512\n"
     ]
    }
   ],
   "source": [
    "model3 = LinearRegression(fit_intercept=True, normalize=False)\n",
    "\n",
    "x = np.array(data2[['X1', 'W']].copy())#.reshape((-1, 1))\n",
    "print(x.shape)\n",
    "\n",
    "y = np.array(data2['X2'].copy())\n",
    "print(y.shape)\n",
    "\n",
    "model3.fit(x, y)\n",
    "\n",
    "print(model3.coef_)\n",
    "\n",
    "print(model3.intercept_)\n",
    "\n",
    "del x, y"
   ]
  },
  {
   "cell_type": "markdown",
   "metadata": {},
   "source": [
    "It's tricky because even with knowledge of $W$ we can't retrieve $\\beta$... focus on more damage control: is it better to do SCF without getting some proxy for $W$ or doing nothing at all? How about recovering $U_2$?"
   ]
  },
  {
   "cell_type": "code",
   "execution_count": 90,
   "metadata": {},
   "outputs": [],
   "source": [
    "data_u2 = data.copy()"
   ]
  },
  {
   "cell_type": "code",
   "execution_count": 91,
   "metadata": {},
   "outputs": [
    {
     "data": {
      "text/html": [
       "<div>\n",
       "<style scoped>\n",
       "    .dataframe tbody tr th:only-of-type {\n",
       "        vertical-align: middle;\n",
       "    }\n",
       "\n",
       "    .dataframe tbody tr th {\n",
       "        vertical-align: top;\n",
       "    }\n",
       "\n",
       "    .dataframe thead th {\n",
       "        text-align: right;\n",
       "    }\n",
       "</style>\n",
       "<table border=\"1\" class=\"dataframe\">\n",
       "  <thead>\n",
       "    <tr style=\"text-align: right;\">\n",
       "      <th></th>\n",
       "      <th>X1</th>\n",
       "      <th>U1</th>\n",
       "      <th>X2</th>\n",
       "      <th>U2</th>\n",
       "      <th>hat_u2_unaware</th>\n",
       "      <th>hat_u2_aware</th>\n",
       "    </tr>\n",
       "  </thead>\n",
       "  <tbody>\n",
       "    <tr>\n",
       "      <th>0</th>\n",
       "      <td>-0.131975</td>\n",
       "      <td>-0.131975</td>\n",
       "      <td>-54.416768</td>\n",
       "      <td>-53.426957</td>\n",
       "      <td>-47.229061</td>\n",
       "      <td>-47.229061</td>\n",
       "    </tr>\n",
       "    <tr>\n",
       "      <th>1</th>\n",
       "      <td>-68.725356</td>\n",
       "      <td>-68.725356</td>\n",
       "      <td>-611.367150</td>\n",
       "      <td>-95.926978</td>\n",
       "      <td>2431.247907</td>\n",
       "      <td>2431.247907</td>\n",
       "    </tr>\n",
       "    <tr>\n",
       "      <th>2</th>\n",
       "      <td>-34.821390</td>\n",
       "      <td>-34.821390</td>\n",
       "      <td>-272.755678</td>\n",
       "      <td>-11.595250</td>\n",
       "      <td>1269.524755</td>\n",
       "      <td>1269.524755</td>\n",
       "    </tr>\n",
       "    <tr>\n",
       "      <th>3</th>\n",
       "      <td>496.171539</td>\n",
       "      <td>496.171539</td>\n",
       "      <td>3962.140328</td>\n",
       "      <td>240.853782</td>\n",
       "      <td>-17993.334093</td>\n",
       "      <td>-17993.334093</td>\n",
       "    </tr>\n",
       "    <tr>\n",
       "      <th>4</th>\n",
       "      <td>70.527331</td>\n",
       "      <td>70.527331</td>\n",
       "      <td>617.738924</td>\n",
       "      <td>88.783938</td>\n",
       "      <td>-2501.923017</td>\n",
       "      <td>-2501.923017</td>\n",
       "    </tr>\n",
       "  </tbody>\n",
       "</table>\n",
       "</div>"
      ],
      "text/plain": [
       "           X1          U1           X2          U2  hat_u2_unaware  \\\n",
       "0   -0.131975   -0.131975   -54.416768  -53.426957      -47.229061   \n",
       "1  -68.725356  -68.725356  -611.367150  -95.926978     2431.247907   \n",
       "2  -34.821390  -34.821390  -272.755678  -11.595250     1269.524755   \n",
       "3  496.171539  496.171539  3962.140328  240.853782   -17993.334093   \n",
       "4   70.527331   70.527331   617.738924   88.783938    -2501.923017   \n",
       "\n",
       "   hat_u2_aware  \n",
       "0    -47.229061  \n",
       "1   2431.247907  \n",
       "2   1269.524755  \n",
       "3 -17993.334093  \n",
       "4  -2501.923017  "
      ]
     },
     "execution_count": 91,
     "metadata": {},
     "output_type": "execute_result"
    }
   ],
   "source": [
    "data_u2['hat_u2_unaware'] = data_u2['X2'] - model2.predict(np.array(data2['X1'].copy()).reshape((-1, 1)))\n",
    "data_u2['hat_u2_aware']   = data_u2['X2'] - model3.predict(np.array(data2[['X1', 'W']].copy()))\n",
    "data_u2.head(5)"
   ]
  },
  {
   "cell_type": "code",
   "execution_count": 92,
   "metadata": {},
   "outputs": [
    {
     "data": {
      "text/plain": [
       "(array([3.000e+00, 0.000e+00, 1.410e+02, 3.210e+02, 7.380e+02, 3.267e+03,\n",
       "        3.380e+02, 1.780e+02, 0.000e+00, 1.400e+01]),\n",
       " array([-7.27595761e-12, -5.82076609e-12, -4.36557457e-12, -2.91038305e-12,\n",
       "        -1.45519152e-12,  0.00000000e+00,  1.45519152e-12,  2.91038305e-12,\n",
       "         4.36557457e-12,  5.82076609e-12,  7.27595761e-12]),\n",
       " <BarContainer object of 10 artists>)"
      ]
     },
     "execution_count": 92,
     "metadata": {},
     "output_type": "execute_result"
    },
    {
     "data": {
      "image/png": "[encoded data removed]",
      "text/plain": [
       "<Figure size 432x288 with 1 Axes>"
      ]
     },
     "metadata": {
      "needs_background": "light"
     },
     "output_type": "display_data"
    }
   ],
   "source": [
    "plt.hist(data_u2['hat_u2_unaware'] - data_u2['hat_u2_aware'])"
   ]
  },
  {
   "cell_type": "code",
   "execution_count": 93,
   "metadata": {},
   "outputs": [
    {
     "data": {
      "text/plain": [
       "(array([   4.,   41.,  226.,  776., 1493., 1429.,  793.,  198.,   37.,\n",
       "           3.]),\n",
       " array([-4.03844184e+02, -3.23032054e+02, -2.42219925e+02, -1.61407796e+02,\n",
       "        -8.05956668e+01,  2.16462415e-01,  8.10285916e+01,  1.61840721e+02,\n",
       "         2.42652850e+02,  3.23464979e+02,  4.04277108e+02]),\n",
       " <BarContainer object of 10 artists>)"
      ]
     },
     "execution_count": 93,
     "metadata": {},
     "output_type": "execute_result"
    },
    {
     "data": {
      "image/png": "[encoded data removed]",
      "text/plain": [
       "<Figure size 432x288 with 1 Axes>"
      ]
     },
     "metadata": {
      "needs_background": "light"
     },
     "output_type": "display_data"
    }
   ],
   "source": [
    "plt.hist(data_u2['hat_u2_unaware'])\n",
    "plt.hist(data_u2['U2'])"
   ]
  },
  {
   "cell_type": "code",
   "execution_count": 94,
   "metadata": {},
   "outputs": [
    {
     "data": {
      "text/plain": [
       "(array([   4.,   41.,  226.,  776., 1493., 1429.,  793.,  198.,   37.,\n",
       "           3.]),\n",
       " array([-4.03844184e+02, -3.23032054e+02, -2.42219925e+02, -1.61407796e+02,\n",
       "        -8.05956668e+01,  2.16462415e-01,  8.10285916e+01,  1.61840721e+02,\n",
       "         2.42652850e+02,  3.23464979e+02,  4.04277108e+02]),\n",
       " <BarContainer object of 10 artists>)"
      ]
     },
     "execution_count": 94,
     "metadata": {},
     "output_type": "execute_result"
    },
    {
     "data": {
      "image/png": "[encoded data removed]",
      "text/plain": [
       "<Figure size 432x288 with 1 Axes>"
      ]
     },
     "metadata": {
      "needs_background": "light"
     },
     "output_type": "display_data"
    }
   ],
   "source": [
    "plt.hist(data_u2['hat_u2_aware'])\n",
    "plt.hist(data_u2['U2'])"
   ]
  },
  {
   "cell_type": "code",
   "execution_count": 95,
   "metadata": {},
   "outputs": [],
   "source": [
    "# store in data folder\n",
    "data2.to_csv(data_path + '\\\\' + 'confounder_w.csv', sep='|', index=False)"
   ]
  },
  {
   "cell_type": "code",
   "execution_count": null,
   "metadata": {},
   "outputs": [],
   "source": []
  }
 ],
 "metadata": {
  "kernelspec": {
   "display_name": "Python 3",
   "language": "python",
   "name": "python3"
  },
  "language_info": {
   "codemirror_mode": {
    "name": "ipython",
    "version": 3
   },
   "file_extension": ".py",
   "mimetype": "text/x-python",
   "name": "python",
   "nbconvert_exporter": "python",
   "pygments_lexer": "ipython3",
   "version": "3.8.5"
  }
 },
 "nbformat": 4,
 "nbformat_minor": 4
}
