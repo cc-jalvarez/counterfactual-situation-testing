{
 "cells": [
  {
   "cell_type": "code",
   "execution_count": 1,
   "metadata": {},
   "outputs": [],
   "source": [
    "import random\n",
    "import os\n",
    "import numpy as np\n",
    "import pandas as pd\n",
    "import matplotlib.pyplot as plt\n",
    "from sklearn.linear_model import LinearRegression"
   ]
  },
  {
   "cell_type": "code",
   "execution_count": 2,
   "metadata": {},
   "outputs": [],
   "source": [
    "# set working directory - note: all code runs from the src folder\n",
    "wrk_dir = os.getcwd()\n",
    "# set data path\n",
    "data_path = wrk_dir + '\\\\' + 'data' + '\\\\'"
   ]
  },
  {
   "cell_type": "code",
   "execution_count": null,
   "metadata": {},
   "outputs": [],
   "source": [
    "# overall params\n",
    "np.random.seed(2022)\n",
    "n = 5000\n",
    "\n",
    "# (hyper)parameters\n",
    "lambda_1 = 10000\n",
    "lambda_2 = 2500\n",
    "beta_1 = (3/10)\n",
    "beta_2 = 5\n",
    "#epsilon = 225000\n",
    "\n",
    "# introduce the confounder z\n",
    "z = np.random.normal(loc=0.0, scale=1.75, size=n)\n",
    "lambda_z1 = 1000\n",
    "lambda_z2 = 3*lambda_z1\n",
    "\n",
    "# input to the errors\n",
    "u1 = lambda_1*np.random.poisson(lam=10, size=n)            + lambda_z1*z\n",
    "u2 = lambda_2*np.random.normal(loc=0.0, scale=1.0, size=n) + lambda_z2*z\n",
    "\n",
    "# annual salary\n",
    "x1 = u1\n",
    "# account balance\n",
    "x2 = beta_1*x1 + u2\n",
    "\n",
    "# loan approval\n",
    "y = np.sign(x1 + beta_2*x2 - 225000)"
   ]
  },
  {
   "cell_type": "code",
   "execution_count": null,
   "metadata": {},
   "outputs": [],
   "source": [
    "# store data for testing RStan \n",
    "d2 = {'LoanApproval': y, \n",
    "      'AnnualSalary': x1, \n",
    "      'AccountBalance': x2,\n",
    "      'u1': u1,\n",
    "      'u2': u2,\n",
    "      'z': z}\n",
    "data2 = pd.DataFrame(d2)\n",
    "data2.head(5)"
   ]
  },
  {
   "cell_type": "code",
   "execution_count": null,
   "metadata": {},
   "outputs": [],
   "source": [
    "# check for negative values\n",
    "print(data2.shape)\n",
    "data2 = data2[(data2['AnnualSalary'] >= 0) & (data2['AccountBalance'] >= 0)]\n",
    "print(data2.shape)"
   ]
  },
  {
   "cell_type": "code",
   "execution_count": null,
   "metadata": {},
   "outputs": [],
   "source": [
    "#from sklearn.linear_model import LinearRegression\n",
    "model = LinearRegression(fit_intercept=True, normalize=False)"
   ]
  },
  {
   "cell_type": "code",
   "execution_count": null,
   "metadata": {},
   "outputs": [],
   "source": [
    "x = np.array(data2['AnnualSalary'].copy()).reshape((-1, 1))\n",
    "print(x.shape)\n",
    "x\n",
    "\n",
    "y = np.array(data2['AccountBalance'].copy())\n",
    "print(y.shape)\n",
    "y"
   ]
  },
  {
   "cell_type": "code",
   "execution_count": null,
   "metadata": {},
   "outputs": [],
   "source": [
    "# fit model\n",
    "model.fit(x, y)\n",
    "\n",
    "hat_beta1 = model.coef_[0]\n",
    "print(hat_beta1)\n",
    "\n",
    "hat_beta0 = model.intercept_\n",
    "print(hat_beta0)"
   ]
  },
  {
   "cell_type": "code",
   "execution_count": null,
   "metadata": {},
   "outputs": [],
   "source": [
    "# check the abduction step!!!\n",
    "plt.hist(round(data2['AccountBalance'] - model.predict(x), 2)) #hat_u2\n",
    "plt.hist(data2['u2']) #u2"
   ]
  },
  {
   "cell_type": "code",
   "execution_count": null,
   "metadata": {},
   "outputs": [],
   "source": [
    "#from sklearn.linear_model import LinearRegression\n",
    "model2 = LinearRegression(fit_intercept=True, normalize=False)"
   ]
  },
  {
   "cell_type": "code",
   "execution_count": null,
   "metadata": {},
   "outputs": [],
   "source": [
    "x2 = np.array(data2[['AnnualSalary', 'z']].copy())#.reshape((1, -1))\n",
    "print(x2.shape)\n",
    "x2\n",
    "\n",
    "# fit model with 'observed' confounder\n",
    "model2.fit(x2, y)\n",
    "\n",
    "hat_beta1 = model2.coef_[0]\n",
    "print(hat_beta1)\n",
    "\n",
    "hat_beta2 = model2.coef_[1]\n",
    "print(hat_beta2)\n",
    "\n",
    "hat_beta0 = model2.intercept_\n",
    "print(hat_beta0)\n"
   ]
  },
  {
   "cell_type": "code",
   "execution_count": null,
   "metadata": {},
   "outputs": [],
   "source": [
    "# the coefficients\n",
    "model2.coef_\n",
    "\n",
    "# check the counterfactuals\n",
    "scf_data = data2[['AnnualSalary', 'AccountBalance', 'u1', 'u2', 'z']].copy()\n",
    "scf_data.head(5)\n",
    "\n",
    "scf_data['hat_AccountBalance'] = model2.predict(x2)\n",
    "scf_data.head(5)\n",
    "\n",
    "scf_data['hat_u1'] = scf_data['AnnualSalary']\n",
    "scf_data['hat_u2'] = round(scf_data['AccountBalance'] - model2.predict(x2), 2)\n",
    "scf_data.head(5)\n",
    "\n",
    "# under this, we would overestimate u2\n",
    "plt.hist(scf_data['u2'])\n",
    "plt.hist(scf_data['hat_u2'])"
   ]
  },
  {
   "cell_type": "code",
   "execution_count": null,
   "metadata": {},
   "outputs": [],
   "source": []
  },
  {
   "cell_type": "code",
   "execution_count": null,
   "metadata": {},
   "outputs": [],
   "source": []
  },
  {
   "cell_type": "code",
   "execution_count": null,
   "metadata": {},
   "outputs": [],
   "source": [
    "# store in data folder\n",
    "data.to_csv(data_path + '\\\\' + 'namehere.csv', sep='|', index=False)"
   ]
  }
 ],
 "metadata": {
  "kernelspec": {
   "display_name": "Python 3",
   "language": "python",
   "name": "python3"
  },
  "language_info": {
   "codemirror_mode": {
    "name": "ipython",
    "version": 3
   },
   "file_extension": ".py",
   "mimetype": "text/x-python",
   "name": "python",
   "nbconvert_exporter": "python",
   "pygments_lexer": "ipython3",
   "version": "3.8.5"
  }
 },
 "nbformat": 4,
 "nbformat_minor": 4
}
