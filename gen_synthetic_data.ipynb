{
 "cells": [
  {
   "cell_type": "markdown",
   "metadata": {},
   "source": [
    "# Generating synthetic data\n",
    "\n",
    "This script generates the synthetic dataset used and, through it, attempts to undertand (in practical terms) Pearl's structural counterfactuals (SCF) generation process (abduction - action - prediction) under *causal sufficiency*. \n",
    "\n",
    "In the context of situation testing (ST), given a structural causal model (SCM) *M*, for the factual tuple {$x^F$} we want to generate its structural counterfactual {$x^{SCF}$} by changing the protected attribute $A$ from $a^F=a$ to $a^{SCF}=a'$ and letting the effects propagate across *M*.\n",
    "\n",
    "We use Figure 1 from [Karimi et al. (2020)](https://arxiv.org/pdf/2002.06278.pdf) as the data generating model (DGM)."
   ]
  },
  {
   "cell_type": "code",
   "execution_count": 1,
   "metadata": {},
   "outputs": [],
   "source": [
    "import random\n",
    "import os\n",
    "import numpy as np\n",
    "import pandas as pd\n",
    "import matplotlib.pyplot as plt\n",
    "\n",
    "from sklearn.linear_model import LinearRegression"
   ]
  },
  {
   "cell_type": "code",
   "execution_count": 2,
   "metadata": {},
   "outputs": [],
   "source": [
    "# set working directory - note: all code runs from the src folder\n",
    "wrk_dir = os.getcwd()\n",
    "# set data path\n",
    "data_path = wrk_dir + '\\\\' + 'data' + '\\\\'"
   ]
  },
  {
   "cell_type": "markdown",
   "metadata": {},
   "source": [
    "### Version 1: Causal Sufficiency; without $A$\n",
    "With the DAG: $X_1->Y$, $X_1->X_2$, and $X_2->Y$."
   ]
  },
  {
   "cell_type": "code",
   "execution_count": 3,
   "metadata": {},
   "outputs": [],
   "source": [
    "# overall params\n",
    "np.random.seed(2022)\n",
    "n = 5000\n",
    "\n",
    "# (hyper)parameters\n",
    "# p_rate = 10\n",
    "# n_mu = 0.0\n",
    "# n_sigma = 1.0\n",
    "lambda_1 = 10000\n",
    "lambda_2 = 2500\n",
    "beta_1 = (3/10)\n",
    "beta_2 = 5\n",
    "#epsilon = 225000\n",
    "\n",
    "u1 = lambda_1*np.random.poisson(lam=10, size=n)\n",
    "u2 = lambda_2*np.random.normal(loc=0.0, scale=1.0, size=n)\n",
    "\n",
    "# annual salary\n",
    "x1 = u1\n",
    "# account balance\n",
    "x2 = beta_1*x1 + u2\n",
    "# loan approval\n",
    "y = np.sign(x1 + beta_2*x2 - 225000)"
   ]
  },
  {
   "cell_type": "code",
   "execution_count": 4,
   "metadata": {},
   "outputs": [
    {
     "data": {
      "text/html": [
       "<div>\n",
       "<style scoped>\n",
       "    .dataframe tbody tr th:only-of-type {\n",
       "        vertical-align: middle;\n",
       "    }\n",
       "\n",
       "    .dataframe tbody tr th {\n",
       "        vertical-align: top;\n",
       "    }\n",
       "\n",
       "    .dataframe thead th {\n",
       "        text-align: right;\n",
       "    }\n",
       "</style>\n",
       "<table border=\"1\" class=\"dataframe\">\n",
       "  <thead>\n",
       "    <tr style=\"text-align: right;\">\n",
       "      <th></th>\n",
       "      <th>LoanApproval</th>\n",
       "      <th>AnnualSalary</th>\n",
       "      <th>AccountBalance</th>\n",
       "      <th>u1</th>\n",
       "      <th>u2</th>\n",
       "    </tr>\n",
       "  </thead>\n",
       "  <tbody>\n",
       "    <tr>\n",
       "      <th>0</th>\n",
       "      <td>-1.0</td>\n",
       "      <td>50000</td>\n",
       "      <td>14026.847358</td>\n",
       "      <td>50000</td>\n",
       "      <td>-973.152642</td>\n",
       "    </tr>\n",
       "    <tr>\n",
       "      <th>1</th>\n",
       "      <td>1.0</td>\n",
       "      <td>120000</td>\n",
       "      <td>36940.097383</td>\n",
       "      <td>120000</td>\n",
       "      <td>940.097383</td>\n",
       "    </tr>\n",
       "    <tr>\n",
       "      <th>2</th>\n",
       "      <td>-1.0</td>\n",
       "      <td>90000</td>\n",
       "      <td>23564.129008</td>\n",
       "      <td>90000</td>\n",
       "      <td>-3435.870992</td>\n",
       "    </tr>\n",
       "    <tr>\n",
       "      <th>3</th>\n",
       "      <td>-1.0</td>\n",
       "      <td>80000</td>\n",
       "      <td>27596.570524</td>\n",
       "      <td>80000</td>\n",
       "      <td>3596.570524</td>\n",
       "    </tr>\n",
       "    <tr>\n",
       "      <th>4</th>\n",
       "      <td>1.0</td>\n",
       "      <td>210000</td>\n",
       "      <td>62294.221620</td>\n",
       "      <td>210000</td>\n",
       "      <td>-705.778380</td>\n",
       "    </tr>\n",
       "    <tr>\n",
       "      <th>5</th>\n",
       "      <td>1.0</td>\n",
       "      <td>120000</td>\n",
       "      <td>32827.008724</td>\n",
       "      <td>120000</td>\n",
       "      <td>-3172.991276</td>\n",
       "    </tr>\n",
       "    <tr>\n",
       "      <th>6</th>\n",
       "      <td>-1.0</td>\n",
       "      <td>80000</td>\n",
       "      <td>19749.048087</td>\n",
       "      <td>80000</td>\n",
       "      <td>-4250.951913</td>\n",
       "    </tr>\n",
       "    <tr>\n",
       "      <th>7</th>\n",
       "      <td>1.0</td>\n",
       "      <td>140000</td>\n",
       "      <td>45716.973279</td>\n",
       "      <td>140000</td>\n",
       "      <td>3716.973279</td>\n",
       "    </tr>\n",
       "    <tr>\n",
       "      <th>8</th>\n",
       "      <td>-1.0</td>\n",
       "      <td>70000</td>\n",
       "      <td>22540.642141</td>\n",
       "      <td>70000</td>\n",
       "      <td>1540.642141</td>\n",
       "    </tr>\n",
       "    <tr>\n",
       "      <th>9</th>\n",
       "      <td>1.0</td>\n",
       "      <td>110000</td>\n",
       "      <td>30629.344885</td>\n",
       "      <td>110000</td>\n",
       "      <td>-2370.655115</td>\n",
       "    </tr>\n",
       "  </tbody>\n",
       "</table>\n",
       "</div>"
      ],
      "text/plain": [
       "   LoanApproval  AnnualSalary  AccountBalance      u1           u2\n",
       "0          -1.0         50000    14026.847358   50000  -973.152642\n",
       "1           1.0        120000    36940.097383  120000   940.097383\n",
       "2          -1.0         90000    23564.129008   90000 -3435.870992\n",
       "3          -1.0         80000    27596.570524   80000  3596.570524\n",
       "4           1.0        210000    62294.221620  210000  -705.778380\n",
       "5           1.0        120000    32827.008724  120000 -3172.991276\n",
       "6          -1.0         80000    19749.048087   80000 -4250.951913\n",
       "7           1.0        140000    45716.973279  140000  3716.973279\n",
       "8          -1.0         70000    22540.642141   70000  1540.642141\n",
       "9           1.0        110000    30629.344885  110000 -2370.655115"
      ]
     },
     "execution_count": 4,
     "metadata": {},
     "output_type": "execute_result"
    }
   ],
   "source": [
    "# make a dataset for the observables and unobservables\n",
    "d = {'LoanApproval': y, \n",
    "     'AnnualSalary': x1, \n",
    "     'AccountBalance': x2,\n",
    "     'u1': u1,\n",
    "     'u2': u2}\n",
    "data = pd.DataFrame(d)\n",
    "data.head(10)"
   ]
  },
  {
   "cell_type": "code",
   "execution_count": 5,
   "metadata": {},
   "outputs": [
    {
     "name": "stdout",
     "output_type": "stream",
     "text": [
      "(5000, 5)\n",
      "(5000, 5)\n"
     ]
    }
   ],
   "source": [
    "# check for negative values\n",
    "print(data.shape)\n",
    "data = data[(data['AnnualSalary'] >= 0) & (data['AccountBalance'] >= 0)]\n",
    "print(data.shape)"
   ]
  },
  {
   "cell_type": "code",
   "execution_count": 6,
   "metadata": {},
   "outputs": [],
   "source": [
    "# store in data folder\n",
    "data.to_csv(data_path + '\\\\' + 'Karimi2020_v1.csv', sep='|', index=False)"
   ]
  },
  {
   "cell_type": "markdown",
   "metadata": {},
   "source": [
    "Can I say anything about the error terms' moments based on the 'observed' Us?\n",
    "\n",
    "It seems that for the white noise, yes. Realistically, however, we assume to know $F$ and its moments - too restrictive for an additve noise model used for discrimination, no?"
   ]
  },
  {
   "cell_type": "code",
   "execution_count": 7,
   "metadata": {},
   "outputs": [
    {
     "name": "stdout",
     "output_type": "stream",
     "text": [
      "100244.0\n",
      "32196.6\n"
     ]
    }
   ],
   "source": [
    "# recall u1 is a Poisson\n",
    "print(round(np.mean(data['u1']), 1))\n",
    "print(round(np.sqrt(np.var(data['u1'])), 1))"
   ]
  },
  {
   "cell_type": "code",
   "execution_count": 8,
   "metadata": {},
   "outputs": [
    {
     "name": "stdout",
     "output_type": "stream",
     "text": [
      "17.1\n",
      "2516.0\n"
     ]
    }
   ],
   "source": [
    "# recall u2 is a White Noise\n",
    "print(round(np.mean(data['u2']), 1))\n",
    "print(round(np.sqrt(np.var(data['u2'])), 1))"
   ]
  },
  {
   "cell_type": "markdown",
   "metadata": {},
   "source": [
    "### (1) Estimate $f_j$\n",
    "\n",
    "My interpretation of the paper is that, under causal sufficiency, focus is on estimating $f_j$ from the $X_j = f_j(X_{pa(j)}) + U$. If we 'assume' $f_j$ to be linar, the OLS estimator (being BLUE) is the best option. In other words,\n",
    "\n",
    "$ X_j = \\beta_0 + \\sum \\beta \\times X_{par(j)} + U_j$"
   ]
  },
  {
   "cell_type": "code",
   "execution_count": 9,
   "metadata": {},
   "outputs": [],
   "source": [
    "model = LinearRegression(fit_intercept=True, normalize=False)"
   ]
  },
  {
   "cell_type": "code",
   "execution_count": 10,
   "metadata": {},
   "outputs": [
    {
     "name": "stdout",
     "output_type": "stream",
     "text": [
      "(5000, 1)\n",
      "(5000,)\n"
     ]
    }
   ],
   "source": [
    "x = np.array(data['AnnualSalary'].copy()).reshape((-1, 1))\n",
    "print(x.shape)\n",
    "y = np.array(data['AccountBalance'].copy())\n",
    "print(y.shape)"
   ]
  },
  {
   "cell_type": "code",
   "execution_count": 11,
   "metadata": {},
   "outputs": [
    {
     "data": {
      "text/plain": [
       "LinearRegression()"
      ]
     },
     "execution_count": 11,
     "metadata": {},
     "output_type": "execute_result"
    }
   ],
   "source": [
    "model.fit(x, y)"
   ]
  },
  {
   "cell_type": "code",
   "execution_count": 12,
   "metadata": {},
   "outputs": [
    {
     "data": {
      "text/plain": [
       "0.2991165342281786"
      ]
     },
     "execution_count": 12,
     "metadata": {},
     "output_type": "execute_result"
    }
   ],
   "source": [
    "hat_beta1 = model.coef_[0]\n",
    "hat_beta1"
   ]
  },
  {
   "cell_type": "code",
   "execution_count": 13,
   "metadata": {},
   "outputs": [
    {
     "data": {
      "text/plain": [
       "105.62201565680152"
      ]
     },
     "execution_count": 13,
     "metadata": {},
     "output_type": "execute_result"
    }
   ],
   "source": [
    "hat_beta0 = model.intercept_\n",
    "hat_beta0"
   ]
  },
  {
   "cell_type": "code",
   "execution_count": 14,
   "metadata": {},
   "outputs": [
    {
     "data": {
      "text/html": [
       "<div>\n",
       "<style scoped>\n",
       "    .dataframe tbody tr th:only-of-type {\n",
       "        vertical-align: middle;\n",
       "    }\n",
       "\n",
       "    .dataframe tbody tr th {\n",
       "        vertical-align: top;\n",
       "    }\n",
       "\n",
       "    .dataframe thead th {\n",
       "        text-align: right;\n",
       "    }\n",
       "</style>\n",
       "<table border=\"1\" class=\"dataframe\">\n",
       "  <thead>\n",
       "    <tr style=\"text-align: right;\">\n",
       "      <th></th>\n",
       "      <th>AnnualSalary</th>\n",
       "      <th>AccountBalance</th>\n",
       "      <th>u1</th>\n",
       "      <th>u2</th>\n",
       "    </tr>\n",
       "  </thead>\n",
       "  <tbody>\n",
       "    <tr>\n",
       "      <th>0</th>\n",
       "      <td>50000</td>\n",
       "      <td>14026.847358</td>\n",
       "      <td>50000</td>\n",
       "      <td>-973.152642</td>\n",
       "    </tr>\n",
       "    <tr>\n",
       "      <th>1</th>\n",
       "      <td>120000</td>\n",
       "      <td>36940.097383</td>\n",
       "      <td>120000</td>\n",
       "      <td>940.097383</td>\n",
       "    </tr>\n",
       "    <tr>\n",
       "      <th>2</th>\n",
       "      <td>90000</td>\n",
       "      <td>23564.129008</td>\n",
       "      <td>90000</td>\n",
       "      <td>-3435.870992</td>\n",
       "    </tr>\n",
       "    <tr>\n",
       "      <th>3</th>\n",
       "      <td>80000</td>\n",
       "      <td>27596.570524</td>\n",
       "      <td>80000</td>\n",
       "      <td>3596.570524</td>\n",
       "    </tr>\n",
       "    <tr>\n",
       "      <th>4</th>\n",
       "      <td>210000</td>\n",
       "      <td>62294.221620</td>\n",
       "      <td>210000</td>\n",
       "      <td>-705.778380</td>\n",
       "    </tr>\n",
       "  </tbody>\n",
       "</table>\n",
       "</div>"
      ],
      "text/plain": [
       "   AnnualSalary  AccountBalance      u1           u2\n",
       "0         50000    14026.847358   50000  -973.152642\n",
       "1        120000    36940.097383  120000   940.097383\n",
       "2         90000    23564.129008   90000 -3435.870992\n",
       "3         80000    27596.570524   80000  3596.570524\n",
       "4        210000    62294.221620  210000  -705.778380"
      ]
     },
     "execution_count": 14,
     "metadata": {},
     "output_type": "execute_result"
    }
   ],
   "source": [
    "scf_data = data[['AnnualSalary', 'AccountBalance', 'u1', 'u2']].copy()\n",
    "scf_data.head(5)"
   ]
  },
  {
   "cell_type": "code",
   "execution_count": 15,
   "metadata": {},
   "outputs": [
    {
     "data": {
      "text/html": [
       "<div>\n",
       "<style scoped>\n",
       "    .dataframe tbody tr th:only-of-type {\n",
       "        vertical-align: middle;\n",
       "    }\n",
       "\n",
       "    .dataframe tbody tr th {\n",
       "        vertical-align: top;\n",
       "    }\n",
       "\n",
       "    .dataframe thead th {\n",
       "        text-align: right;\n",
       "    }\n",
       "</style>\n",
       "<table border=\"1\" class=\"dataframe\">\n",
       "  <thead>\n",
       "    <tr style=\"text-align: right;\">\n",
       "      <th></th>\n",
       "      <th>AnnualSalary</th>\n",
       "      <th>AccountBalance</th>\n",
       "      <th>u1</th>\n",
       "      <th>u2</th>\n",
       "      <th>hat_AccountBalance</th>\n",
       "    </tr>\n",
       "  </thead>\n",
       "  <tbody>\n",
       "    <tr>\n",
       "      <th>0</th>\n",
       "      <td>50000</td>\n",
       "      <td>14026.847358</td>\n",
       "      <td>50000</td>\n",
       "      <td>-973.152642</td>\n",
       "      <td>15061.448727</td>\n",
       "    </tr>\n",
       "    <tr>\n",
       "      <th>1</th>\n",
       "      <td>120000</td>\n",
       "      <td>36940.097383</td>\n",
       "      <td>120000</td>\n",
       "      <td>940.097383</td>\n",
       "      <td>35999.606123</td>\n",
       "    </tr>\n",
       "    <tr>\n",
       "      <th>2</th>\n",
       "      <td>90000</td>\n",
       "      <td>23564.129008</td>\n",
       "      <td>90000</td>\n",
       "      <td>-3435.870992</td>\n",
       "      <td>27026.110096</td>\n",
       "    </tr>\n",
       "    <tr>\n",
       "      <th>3</th>\n",
       "      <td>80000</td>\n",
       "      <td>27596.570524</td>\n",
       "      <td>80000</td>\n",
       "      <td>3596.570524</td>\n",
       "      <td>24034.944754</td>\n",
       "    </tr>\n",
       "    <tr>\n",
       "      <th>4</th>\n",
       "      <td>210000</td>\n",
       "      <td>62294.221620</td>\n",
       "      <td>210000</td>\n",
       "      <td>-705.778380</td>\n",
       "      <td>62920.094204</td>\n",
       "    </tr>\n",
       "  </tbody>\n",
       "</table>\n",
       "</div>"
      ],
      "text/plain": [
       "   AnnualSalary  AccountBalance      u1           u2  hat_AccountBalance\n",
       "0         50000    14026.847358   50000  -973.152642        15061.448727\n",
       "1        120000    36940.097383  120000   940.097383        35999.606123\n",
       "2         90000    23564.129008   90000 -3435.870992        27026.110096\n",
       "3         80000    27596.570524   80000  3596.570524        24034.944754\n",
       "4        210000    62294.221620  210000  -705.778380        62920.094204"
      ]
     },
     "execution_count": 15,
     "metadata": {},
     "output_type": "execute_result"
    }
   ],
   "source": [
    "scf_data['hat_AccountBalance'] = model.predict(x)\n",
    "scf_data.head(5)"
   ]
  },
  {
   "cell_type": "code",
   "execution_count": 16,
   "metadata": {},
   "outputs": [
    {
     "data": {
      "text/html": [
       "<div>\n",
       "<style scoped>\n",
       "    .dataframe tbody tr th:only-of-type {\n",
       "        vertical-align: middle;\n",
       "    }\n",
       "\n",
       "    .dataframe tbody tr th {\n",
       "        vertical-align: top;\n",
       "    }\n",
       "\n",
       "    .dataframe thead th {\n",
       "        text-align: right;\n",
       "    }\n",
       "</style>\n",
       "<table border=\"1\" class=\"dataframe\">\n",
       "  <thead>\n",
       "    <tr style=\"text-align: right;\">\n",
       "      <th></th>\n",
       "      <th>AnnualSalary</th>\n",
       "      <th>AccountBalance</th>\n",
       "      <th>u1</th>\n",
       "      <th>u2</th>\n",
       "      <th>hat_AccountBalance</th>\n",
       "      <th>diff_AccountBalance</th>\n",
       "    </tr>\n",
       "  </thead>\n",
       "  <tbody>\n",
       "    <tr>\n",
       "      <th>0</th>\n",
       "      <td>50000</td>\n",
       "      <td>14026.847358</td>\n",
       "      <td>50000</td>\n",
       "      <td>-973.152642</td>\n",
       "      <td>15061.448727</td>\n",
       "      <td>-1034.60</td>\n",
       "    </tr>\n",
       "    <tr>\n",
       "      <th>1</th>\n",
       "      <td>120000</td>\n",
       "      <td>36940.097383</td>\n",
       "      <td>120000</td>\n",
       "      <td>940.097383</td>\n",
       "      <td>35999.606123</td>\n",
       "      <td>940.49</td>\n",
       "    </tr>\n",
       "    <tr>\n",
       "      <th>2</th>\n",
       "      <td>90000</td>\n",
       "      <td>23564.129008</td>\n",
       "      <td>90000</td>\n",
       "      <td>-3435.870992</td>\n",
       "      <td>27026.110096</td>\n",
       "      <td>-3461.98</td>\n",
       "    </tr>\n",
       "    <tr>\n",
       "      <th>3</th>\n",
       "      <td>80000</td>\n",
       "      <td>27596.570524</td>\n",
       "      <td>80000</td>\n",
       "      <td>3596.570524</td>\n",
       "      <td>24034.944754</td>\n",
       "      <td>3561.63</td>\n",
       "    </tr>\n",
       "    <tr>\n",
       "      <th>4</th>\n",
       "      <td>210000</td>\n",
       "      <td>62294.221620</td>\n",
       "      <td>210000</td>\n",
       "      <td>-705.778380</td>\n",
       "      <td>62920.094204</td>\n",
       "      <td>-625.87</td>\n",
       "    </tr>\n",
       "  </tbody>\n",
       "</table>\n",
       "</div>"
      ],
      "text/plain": [
       "   AnnualSalary  AccountBalance      u1           u2  hat_AccountBalance  \\\n",
       "0         50000    14026.847358   50000  -973.152642        15061.448727   \n",
       "1        120000    36940.097383  120000   940.097383        35999.606123   \n",
       "2         90000    23564.129008   90000 -3435.870992        27026.110096   \n",
       "3         80000    27596.570524   80000  3596.570524        24034.944754   \n",
       "4        210000    62294.221620  210000  -705.778380        62920.094204   \n",
       "\n",
       "   diff_AccountBalance  \n",
       "0             -1034.60  \n",
       "1               940.49  \n",
       "2             -3461.98  \n",
       "3              3561.63  \n",
       "4              -625.87  "
      ]
     },
     "execution_count": 16,
     "metadata": {},
     "output_type": "execute_result"
    }
   ],
   "source": [
    "scf_data['diff_AccountBalance'] = round(scf_data['AccountBalance'] - scf_data['hat_AccountBalance'], 2)\n",
    "scf_data.head(5)"
   ]
  },
  {
   "cell_type": "code",
   "execution_count": 17,
   "metadata": {},
   "outputs": [
    {
     "data": {
      "text/plain": [
       "(array([  11.,   76.,  261.,  617., 1048., 1266.,  978.,  503.,  189.,\n",
       "          51.]),\n",
       " array([-8613.13 , -7009.916, -5406.702, -3803.488, -2200.274,  -597.06 ,\n",
       "         1006.154,  2609.368,  4212.582,  5815.796,  7419.01 ]),\n",
       " <BarContainer object of 10 artists>)"
      ]
     },
     "execution_count": 17,
     "metadata": {},
     "output_type": "execute_result"
    },
    {
     "data": {
      "image/png": "[encoded data removed]",
      "text/plain": [
       "<Figure size 432x288 with 1 Axes>"
      ]
     },
     "metadata": {
      "needs_background": "light"
     },
     "output_type": "display_data"
    }
   ],
   "source": [
    "plt.hist(scf_data['diff_AccountBalance'])"
   ]
  },
  {
   "cell_type": "code",
   "execution_count": 18,
   "metadata": {},
   "outputs": [
    {
     "data": {
      "text/html": [
       "<div>\n",
       "<style scoped>\n",
       "    .dataframe tbody tr th:only-of-type {\n",
       "        vertical-align: middle;\n",
       "    }\n",
       "\n",
       "    .dataframe tbody tr th {\n",
       "        vertical-align: top;\n",
       "    }\n",
       "\n",
       "    .dataframe thead th {\n",
       "        text-align: right;\n",
       "    }\n",
       "</style>\n",
       "<table border=\"1\" class=\"dataframe\">\n",
       "  <thead>\n",
       "    <tr style=\"text-align: right;\">\n",
       "      <th></th>\n",
       "      <th>AnnualSalary</th>\n",
       "      <th>AccountBalance</th>\n",
       "      <th>u1</th>\n",
       "      <th>u2</th>\n",
       "      <th>hat_AccountBalance</th>\n",
       "      <th>diff_AccountBalance</th>\n",
       "      <th>perc_diff_AccountBalance</th>\n",
       "    </tr>\n",
       "  </thead>\n",
       "  <tbody>\n",
       "    <tr>\n",
       "      <th>0</th>\n",
       "      <td>50000</td>\n",
       "      <td>14026.847358</td>\n",
       "      <td>50000</td>\n",
       "      <td>-973.152642</td>\n",
       "      <td>15061.448727</td>\n",
       "      <td>-1034.60</td>\n",
       "      <td>7.38</td>\n",
       "    </tr>\n",
       "    <tr>\n",
       "      <th>1</th>\n",
       "      <td>120000</td>\n",
       "      <td>36940.097383</td>\n",
       "      <td>120000</td>\n",
       "      <td>940.097383</td>\n",
       "      <td>35999.606123</td>\n",
       "      <td>940.49</td>\n",
       "      <td>2.55</td>\n",
       "    </tr>\n",
       "    <tr>\n",
       "      <th>2</th>\n",
       "      <td>90000</td>\n",
       "      <td>23564.129008</td>\n",
       "      <td>90000</td>\n",
       "      <td>-3435.870992</td>\n",
       "      <td>27026.110096</td>\n",
       "      <td>-3461.98</td>\n",
       "      <td>14.69</td>\n",
       "    </tr>\n",
       "    <tr>\n",
       "      <th>3</th>\n",
       "      <td>80000</td>\n",
       "      <td>27596.570524</td>\n",
       "      <td>80000</td>\n",
       "      <td>3596.570524</td>\n",
       "      <td>24034.944754</td>\n",
       "      <td>3561.63</td>\n",
       "      <td>12.91</td>\n",
       "    </tr>\n",
       "    <tr>\n",
       "      <th>4</th>\n",
       "      <td>210000</td>\n",
       "      <td>62294.221620</td>\n",
       "      <td>210000</td>\n",
       "      <td>-705.778380</td>\n",
       "      <td>62920.094204</td>\n",
       "      <td>-625.87</td>\n",
       "      <td>1.00</td>\n",
       "    </tr>\n",
       "    <tr>\n",
       "      <th>5</th>\n",
       "      <td>120000</td>\n",
       "      <td>32827.008724</td>\n",
       "      <td>120000</td>\n",
       "      <td>-3172.991276</td>\n",
       "      <td>35999.606123</td>\n",
       "      <td>-3172.60</td>\n",
       "      <td>9.66</td>\n",
       "    </tr>\n",
       "    <tr>\n",
       "      <th>6</th>\n",
       "      <td>80000</td>\n",
       "      <td>19749.048087</td>\n",
       "      <td>80000</td>\n",
       "      <td>-4250.951913</td>\n",
       "      <td>24034.944754</td>\n",
       "      <td>-4285.90</td>\n",
       "      <td>21.70</td>\n",
       "    </tr>\n",
       "    <tr>\n",
       "      <th>7</th>\n",
       "      <td>140000</td>\n",
       "      <td>45716.973279</td>\n",
       "      <td>140000</td>\n",
       "      <td>3716.973279</td>\n",
       "      <td>41981.936808</td>\n",
       "      <td>3735.04</td>\n",
       "      <td>8.17</td>\n",
       "    </tr>\n",
       "    <tr>\n",
       "      <th>8</th>\n",
       "      <td>70000</td>\n",
       "      <td>22540.642141</td>\n",
       "      <td>70000</td>\n",
       "      <td>1540.642141</td>\n",
       "      <td>21043.779412</td>\n",
       "      <td>1496.86</td>\n",
       "      <td>6.64</td>\n",
       "    </tr>\n",
       "    <tr>\n",
       "      <th>9</th>\n",
       "      <td>110000</td>\n",
       "      <td>30629.344885</td>\n",
       "      <td>110000</td>\n",
       "      <td>-2370.655115</td>\n",
       "      <td>33008.440781</td>\n",
       "      <td>-2379.10</td>\n",
       "      <td>7.77</td>\n",
       "    </tr>\n",
       "  </tbody>\n",
       "</table>\n",
       "</div>"
      ],
      "text/plain": [
       "   AnnualSalary  AccountBalance      u1           u2  hat_AccountBalance  \\\n",
       "0         50000    14026.847358   50000  -973.152642        15061.448727   \n",
       "1        120000    36940.097383  120000   940.097383        35999.606123   \n",
       "2         90000    23564.129008   90000 -3435.870992        27026.110096   \n",
       "3         80000    27596.570524   80000  3596.570524        24034.944754   \n",
       "4        210000    62294.221620  210000  -705.778380        62920.094204   \n",
       "5        120000    32827.008724  120000 -3172.991276        35999.606123   \n",
       "6         80000    19749.048087   80000 -4250.951913        24034.944754   \n",
       "7        140000    45716.973279  140000  3716.973279        41981.936808   \n",
       "8         70000    22540.642141   70000  1540.642141        21043.779412   \n",
       "9        110000    30629.344885  110000 -2370.655115        33008.440781   \n",
       "\n",
       "   diff_AccountBalance  perc_diff_AccountBalance  \n",
       "0             -1034.60                      7.38  \n",
       "1               940.49                      2.55  \n",
       "2             -3461.98                     14.69  \n",
       "3              3561.63                     12.91  \n",
       "4              -625.87                      1.00  \n",
       "5             -3172.60                      9.66  \n",
       "6             -4285.90                     21.70  \n",
       "7              3735.04                      8.17  \n",
       "8              1496.86                      6.64  \n",
       "9             -2379.10                      7.77  "
      ]
     },
     "execution_count": 18,
     "metadata": {},
     "output_type": "execute_result"
    }
   ],
   "source": [
    "scf_data['perc_diff_AccountBalance'] = round( np.sqrt( (scf_data['AccountBalance'] - scf_data['hat_AccountBalance'])**2 ) * 100 / scf_data['AccountBalance'], 2)\n",
    "scf_data.head(10)"
   ]
  },
  {
   "cell_type": "code",
   "execution_count": 19,
   "metadata": {},
   "outputs": [
    {
     "data": {
      "text/plain": [
       "(2247, 7)"
      ]
     },
     "execution_count": 19,
     "metadata": {},
     "output_type": "execute_result"
    }
   ],
   "source": [
    "# can we start talking about a threshold here?\n",
    "error_threshold = 5.0\n",
    "\n",
    "scf_data[scf_data['perc_diff_AccountBalance'] <= error_threshold].shape"
   ]
  },
  {
   "cell_type": "code",
   "execution_count": 20,
   "metadata": {},
   "outputs": [
    {
     "data": {
      "text/plain": [
       "(array([  11.,   76.,  261.,  617., 1048., 1266.,  978.,  503.,  189.,\n",
       "          51.]),\n",
       " array([-8613.13 , -7009.916, -5406.702, -3803.488, -2200.274,  -597.06 ,\n",
       "         1006.154,  2609.368,  4212.582,  5815.796,  7419.01 ]),\n",
       " <BarContainer object of 10 artists>)"
      ]
     },
     "execution_count": 20,
     "metadata": {},
     "output_type": "execute_result"
    },
    {
     "data": {
      "image/png": "[encoded data removed]",
      "text/plain": [
       "<Figure size 432x288 with 1 Axes>"
      ]
     },
     "metadata": {
      "needs_background": "light"
     },
     "output_type": "display_data"
    }
   ],
   "source": [
    "plt.hist(scf_data['u2'])\n",
    "plt.hist(scf_data['diff_AccountBalance'])"
   ]
  },
  {
   "cell_type": "markdown",
   "metadata": {},
   "source": [
    "From the histograms of above, it seems that under cuasal sufficiency the abduction step essentially represents the individual error terms!"
   ]
  },
  {
   "cell_type": "markdown",
   "metadata": {},
   "source": [
    "### (2) Abduction"
   ]
  },
  {
   "cell_type": "code",
   "execution_count": 21,
   "metadata": {},
   "outputs": [
    {
     "data": {
      "text/html": [
       "<div>\n",
       "<style scoped>\n",
       "    .dataframe tbody tr th:only-of-type {\n",
       "        vertical-align: middle;\n",
       "    }\n",
       "\n",
       "    .dataframe tbody tr th {\n",
       "        vertical-align: top;\n",
       "    }\n",
       "\n",
       "    .dataframe thead th {\n",
       "        text-align: right;\n",
       "    }\n",
       "</style>\n",
       "<table border=\"1\" class=\"dataframe\">\n",
       "  <thead>\n",
       "    <tr style=\"text-align: right;\">\n",
       "      <th></th>\n",
       "      <th>AnnualSalary</th>\n",
       "      <th>AccountBalance</th>\n",
       "      <th>u1</th>\n",
       "      <th>u2</th>\n",
       "      <th>hat_AccountBalance</th>\n",
       "      <th>diff_AccountBalance</th>\n",
       "      <th>perc_diff_AccountBalance</th>\n",
       "      <th>hat_u1</th>\n",
       "      <th>hat_u2</th>\n",
       "    </tr>\n",
       "  </thead>\n",
       "  <tbody>\n",
       "    <tr>\n",
       "      <th>0</th>\n",
       "      <td>50000</td>\n",
       "      <td>14026.847358</td>\n",
       "      <td>50000</td>\n",
       "      <td>-973.152642</td>\n",
       "      <td>15061.448727</td>\n",
       "      <td>-1034.60</td>\n",
       "      <td>7.38</td>\n",
       "      <td>50000</td>\n",
       "      <td>-1034.60</td>\n",
       "    </tr>\n",
       "    <tr>\n",
       "      <th>1</th>\n",
       "      <td>120000</td>\n",
       "      <td>36940.097383</td>\n",
       "      <td>120000</td>\n",
       "      <td>940.097383</td>\n",
       "      <td>35999.606123</td>\n",
       "      <td>940.49</td>\n",
       "      <td>2.55</td>\n",
       "      <td>120000</td>\n",
       "      <td>940.49</td>\n",
       "    </tr>\n",
       "    <tr>\n",
       "      <th>2</th>\n",
       "      <td>90000</td>\n",
       "      <td>23564.129008</td>\n",
       "      <td>90000</td>\n",
       "      <td>-3435.870992</td>\n",
       "      <td>27026.110096</td>\n",
       "      <td>-3461.98</td>\n",
       "      <td>14.69</td>\n",
       "      <td>90000</td>\n",
       "      <td>-3461.98</td>\n",
       "    </tr>\n",
       "    <tr>\n",
       "      <th>3</th>\n",
       "      <td>80000</td>\n",
       "      <td>27596.570524</td>\n",
       "      <td>80000</td>\n",
       "      <td>3596.570524</td>\n",
       "      <td>24034.944754</td>\n",
       "      <td>3561.63</td>\n",
       "      <td>12.91</td>\n",
       "      <td>80000</td>\n",
       "      <td>3561.63</td>\n",
       "    </tr>\n",
       "    <tr>\n",
       "      <th>4</th>\n",
       "      <td>210000</td>\n",
       "      <td>62294.221620</td>\n",
       "      <td>210000</td>\n",
       "      <td>-705.778380</td>\n",
       "      <td>62920.094204</td>\n",
       "      <td>-625.87</td>\n",
       "      <td>1.00</td>\n",
       "      <td>210000</td>\n",
       "      <td>-625.87</td>\n",
       "    </tr>\n",
       "  </tbody>\n",
       "</table>\n",
       "</div>"
      ],
      "text/plain": [
       "   AnnualSalary  AccountBalance      u1           u2  hat_AccountBalance  \\\n",
       "0         50000    14026.847358   50000  -973.152642        15061.448727   \n",
       "1        120000    36940.097383  120000   940.097383        35999.606123   \n",
       "2         90000    23564.129008   90000 -3435.870992        27026.110096   \n",
       "3         80000    27596.570524   80000  3596.570524        24034.944754   \n",
       "4        210000    62294.221620  210000  -705.778380        62920.094204   \n",
       "\n",
       "   diff_AccountBalance  perc_diff_AccountBalance  hat_u1   hat_u2  \n",
       "0             -1034.60                      7.38   50000 -1034.60  \n",
       "1               940.49                      2.55  120000   940.49  \n",
       "2             -3461.98                     14.69   90000 -3461.98  \n",
       "3              3561.63                     12.91   80000  3561.63  \n",
       "4              -625.87                      1.00  210000  -625.87  "
      ]
     },
     "execution_count": 21,
     "metadata": {},
     "output_type": "execute_result"
    }
   ],
   "source": [
    "scf_data['hat_u1'] = scf_data['AnnualSalary']\n",
    "scf_data['hat_u2'] = round(scf_data['AccountBalance'] - model.predict(x), 2)\n",
    "scf_data.head(5)"
   ]
  },
  {
   "cell_type": "code",
   "execution_count": 22,
   "metadata": {},
   "outputs": [
    {
     "data": {
      "text/html": [
       "<div>\n",
       "<style scoped>\n",
       "    .dataframe tbody tr th:only-of-type {\n",
       "        vertical-align: middle;\n",
       "    }\n",
       "\n",
       "    .dataframe tbody tr th {\n",
       "        vertical-align: top;\n",
       "    }\n",
       "\n",
       "    .dataframe thead th {\n",
       "        text-align: right;\n",
       "    }\n",
       "</style>\n",
       "<table border=\"1\" class=\"dataframe\">\n",
       "  <thead>\n",
       "    <tr style=\"text-align: right;\">\n",
       "      <th></th>\n",
       "      <th>AnnualSalary</th>\n",
       "      <th>AccountBalance</th>\n",
       "      <th>hat_u1</th>\n",
       "      <th>hat_u2</th>\n",
       "    </tr>\n",
       "  </thead>\n",
       "  <tbody>\n",
       "    <tr>\n",
       "      <th>0</th>\n",
       "      <td>50000</td>\n",
       "      <td>14026.847358</td>\n",
       "      <td>50000</td>\n",
       "      <td>-1034.60</td>\n",
       "    </tr>\n",
       "    <tr>\n",
       "      <th>1</th>\n",
       "      <td>120000</td>\n",
       "      <td>36940.097383</td>\n",
       "      <td>120000</td>\n",
       "      <td>940.49</td>\n",
       "    </tr>\n",
       "    <tr>\n",
       "      <th>2</th>\n",
       "      <td>90000</td>\n",
       "      <td>23564.129008</td>\n",
       "      <td>90000</td>\n",
       "      <td>-3461.98</td>\n",
       "    </tr>\n",
       "    <tr>\n",
       "      <th>3</th>\n",
       "      <td>80000</td>\n",
       "      <td>27596.570524</td>\n",
       "      <td>80000</td>\n",
       "      <td>3561.63</td>\n",
       "    </tr>\n",
       "    <tr>\n",
       "      <th>4</th>\n",
       "      <td>210000</td>\n",
       "      <td>62294.221620</td>\n",
       "      <td>210000</td>\n",
       "      <td>-625.87</td>\n",
       "    </tr>\n",
       "  </tbody>\n",
       "</table>\n",
       "</div>"
      ],
      "text/plain": [
       "   AnnualSalary  AccountBalance  hat_u1   hat_u2\n",
       "0         50000    14026.847358   50000 -1034.60\n",
       "1        120000    36940.097383  120000   940.49\n",
       "2         90000    23564.129008   90000 -3461.98\n",
       "3         80000    27596.570524   80000  3561.63\n",
       "4        210000    62294.221620  210000  -625.87"
      ]
     },
     "execution_count": 22,
     "metadata": {},
     "output_type": "execute_result"
    }
   ],
   "source": [
    "scf_data = scf_data[['AnnualSalary', 'AccountBalance', 'hat_u1', 'hat_u2']]\n",
    "scf_data.head(5)"
   ]
  },
  {
   "cell_type": "markdown",
   "metadata": {},
   "source": [
    "### (3) ... and Intervention and Prediction"
   ]
  },
  {
   "cell_type": "code",
   "execution_count": 23,
   "metadata": {},
   "outputs": [
    {
     "data": {
      "text/plain": [
       "30090"
      ]
     },
     "execution_count": 23,
     "metadata": {},
     "output_type": "execute_result"
    }
   ],
   "source": [
    "round(np.mean(scf_data['AccountBalance']))"
   ]
  },
  {
   "cell_type": "code",
   "execution_count": 24,
   "metadata": {},
   "outputs": [],
   "source": [
    "do = 30000\n",
    "do_30000 = np.repeat(do, repeats=scf_data.shape[0]).reshape((-1, 1))\n",
    "#do_30000"
   ]
  },
  {
   "cell_type": "code",
   "execution_count": 25,
   "metadata": {},
   "outputs": [
    {
     "data": {
      "text/html": [
       "<div>\n",
       "<style scoped>\n",
       "    .dataframe tbody tr th:only-of-type {\n",
       "        vertical-align: middle;\n",
       "    }\n",
       "\n",
       "    .dataframe tbody tr th {\n",
       "        vertical-align: top;\n",
       "    }\n",
       "\n",
       "    .dataframe thead th {\n",
       "        text-align: right;\n",
       "    }\n",
       "</style>\n",
       "<table border=\"1\" class=\"dataframe\">\n",
       "  <thead>\n",
       "    <tr style=\"text-align: right;\">\n",
       "      <th></th>\n",
       "      <th>AnnualSalary</th>\n",
       "      <th>AccountBalance</th>\n",
       "      <th>hat_u1</th>\n",
       "      <th>hat_u2</th>\n",
       "      <th>scf_AccountBalance</th>\n",
       "    </tr>\n",
       "  </thead>\n",
       "  <tbody>\n",
       "    <tr>\n",
       "      <th>0</th>\n",
       "      <td>50000</td>\n",
       "      <td>14026.847358</td>\n",
       "      <td>50000</td>\n",
       "      <td>-1034.60</td>\n",
       "      <td>8044.52</td>\n",
       "    </tr>\n",
       "    <tr>\n",
       "      <th>1</th>\n",
       "      <td>120000</td>\n",
       "      <td>36940.097383</td>\n",
       "      <td>120000</td>\n",
       "      <td>940.49</td>\n",
       "      <td>10019.61</td>\n",
       "    </tr>\n",
       "    <tr>\n",
       "      <th>2</th>\n",
       "      <td>90000</td>\n",
       "      <td>23564.129008</td>\n",
       "      <td>90000</td>\n",
       "      <td>-3461.98</td>\n",
       "      <td>5617.14</td>\n",
       "    </tr>\n",
       "    <tr>\n",
       "      <th>3</th>\n",
       "      <td>80000</td>\n",
       "      <td>27596.570524</td>\n",
       "      <td>80000</td>\n",
       "      <td>3561.63</td>\n",
       "      <td>12640.75</td>\n",
       "    </tr>\n",
       "    <tr>\n",
       "      <th>4</th>\n",
       "      <td>210000</td>\n",
       "      <td>62294.221620</td>\n",
       "      <td>210000</td>\n",
       "      <td>-625.87</td>\n",
       "      <td>8453.25</td>\n",
       "    </tr>\n",
       "  </tbody>\n",
       "</table>\n",
       "</div>"
      ],
      "text/plain": [
       "   AnnualSalary  AccountBalance  hat_u1   hat_u2  scf_AccountBalance\n",
       "0         50000    14026.847358   50000 -1034.60             8044.52\n",
       "1        120000    36940.097383  120000   940.49            10019.61\n",
       "2         90000    23564.129008   90000 -3461.98             5617.14\n",
       "3         80000    27596.570524   80000  3561.63            12640.75\n",
       "4        210000    62294.221620  210000  -625.87             8453.25"
      ]
     },
     "execution_count": 25,
     "metadata": {},
     "output_type": "execute_result"
    }
   ],
   "source": [
    "scf_data['scf_AccountBalance'] = round(model.predict(do_30000) + scf_data['hat_u2'], 2)\n",
    "scf_data.head(5)"
   ]
  },
  {
   "cell_type": "code",
   "execution_count": 26,
   "metadata": {},
   "outputs": [
    {
     "data": {
      "text/plain": [
       "(array([  11.,   76.,  261.,  617., 1048., 1266.,  978.,  503.,  189.,\n",
       "          51.]),\n",
       " array([  465.99 ,  2069.204,  3672.418,  5275.632,  6878.846,  8482.06 ,\n",
       "        10085.274, 11688.488, 13291.702, 14894.916, 16498.13 ]),\n",
       " <BarContainer object of 10 artists>)"
      ]
     },
     "execution_count": 26,
     "metadata": {},
     "output_type": "execute_result"
    },
    {
     "data": {
      "image/png": "[encoded data removed]",
      "text/plain": [
       "<Figure size 432x288 with 1 Axes>"
      ]
     },
     "metadata": {
      "needs_background": "light"
     },
     "output_type": "display_data"
    }
   ],
   "source": [
    "plt.hist(scf_data['AccountBalance'])\n",
    "plt.hist(scf_data['scf_AccountBalance'])"
   ]
  },
  {
   "cell_type": "code",
   "execution_count": 27,
   "metadata": {},
   "outputs": [
    {
     "data": {
      "text/plain": [
       "(array([4934.,    0.,    0.,    0.,    0.,    0.,    0.,    0.,    0.,\n",
       "          66.]),\n",
       " array([-1. , -0.8, -0.6, -0.4, -0.2,  0. ,  0.2,  0.4,  0.6,  0.8,  1. ]),\n",
       " <BarContainer object of 10 artists>)"
      ]
     },
     "execution_count": 27,
     "metadata": {},
     "output_type": "execute_result"
    },
    {
     "data": {
      "image/png": "[encoded data removed]",
      "text/plain": [
       "<Figure size 432x288 with 1 Axes>"
      ]
     },
     "metadata": {
      "needs_background": "light"
     },
     "output_type": "display_data"
    }
   ],
   "source": [
    "plt.hist(data['LoanApproval'])\n",
    "plt.hist(np.sign(scf_data['AnnualSalary'] + beta_2*scf_data['scf_AccountBalance'] - 225000))"
   ]
  },
  {
   "cell_type": "markdown",
   "metadata": {},
   "source": [
    "*Remarks:*\n",
    "\n",
    "Above all, it seems that under causal sufficiency and under structural equations with linear functional form and an additive noise (ideally, Gaussian), we can perform Pearl's structural counterfactuals wihtout having to go crazy on the latent space... of course, here some very stringent assumptions take place: \n",
    "- we assume a noise additve model, \n",
    "- we assume a linear form, and \n",
    "- we assume $X_2$ to have Gaussian errors.\n",
    "\n",
    "The above is only possible because we know the data generating process. We would then need to wonder what does this imply when some of these assumptions don't hold? At best, it's an assumption.\n",
    "\n",
    "On $\\alpha$, it roughly represents the level of variation of the noise. This is clearer under *white noise*. Similarly, now it is more clear to me what $U$ represents: the (most likely) individual error or unit characterization given the evidence for for each individual.\n",
    "\n",
    "Here, we don't need a latent space nor anything fancy for generating the counterfactuals. This indeed is a simple model but it illustrates a new approach for discrimination discovery: *fairness given the difference*. I think we should focus on finishing this for situation testing under a simple approach and then push this further by exploring the consequences of non-normal noise or even non-linear forms."
   ]
  },
  {
   "cell_type": "markdown",
   "metadata": {},
   "source": [
    "*Remarks on Kusner (2017)*\n",
    "\n",
    "I'd argue further that counterfactual fairness as a definition is not that useful, and, furthermore, the FairLearner they defined as nothing more than a 2-stage regression to construct a latent space that is perpendicular to the protected attributes. This is not useful nor for prediction nor for auditing. \n",
    "\n",
    "**How they cobstruct $U$ is nothing more than to find the missing confounder. That's not really an abduction step! Because you still have individual variability for each variable... you just want to be able to split the residual variance into what is known and what is not!**\n",
    "\n",
    "In fact, my hunch is that the law school data has a low risk of confounding! That's why performance doesn't drop!"
   ]
  },
  {
   "cell_type": "markdown",
   "metadata": {},
   "source": [
    "### Version 2: Causal Sufficiency; with $A$\n",
    "With the DAG: $X_1->Y$, $X_1->X_2$, $X_2->Y$, $A -> X_1$, and $A -> X_2$."
   ]
  },
  {
   "cell_type": "code",
   "execution_count": 28,
   "metadata": {},
   "outputs": [],
   "source": [
    "# create systematic penalties around A\n",
    "np.random.seed(2020) # to avoid identical draws as the Us\n",
    "n = 5000\n",
    "\n",
    "# Let A be Gender\n",
    "p_men = 0.65\n",
    "uA = random.choices(population=[0, 1], weights=[p_men, (1 - p_men)], k=n)\n",
    "A = np.asanyarray(uA) # where A=1 represents female\n",
    "\n",
    "bias_a1 = (-6500)*np.random.poisson(lam=10, size=n)\n",
    "bias_a2 = (-500)*np.random.chisquare(df=4, size=n)"
   ]
  },
  {
   "cell_type": "markdown",
   "metadata": {},
   "source": [
    "Notice that above we've assumed a single-sided bias: women can only be penalized in this scenario becuase they belong to the non-protected group. This means that we don't allow for situtaion in which men are also penalized or women benefited (forms of \"reverse\" discrimination)."
   ]
  },
  {
   "cell_type": "code",
   "execution_count": 29,
   "metadata": {},
   "outputs": [],
   "source": [
    "#plt.hist(A)\n",
    "#plt.hist(bias_a1)\n",
    "#plt.hist(bias_a2)"
   ]
  },
  {
   "cell_type": "code",
   "execution_count": 30,
   "metadata": {},
   "outputs": [],
   "source": [
    "# overall params\n",
    "np.random.seed(2022)\n",
    "n = 5000\n",
    "\n",
    "# previous hyperparams\n",
    "lambda_1 = 10000\n",
    "lambda_2 = 2500\n",
    "beta_1 = (3/10)\n",
    "beta_2 = 5\n",
    "#epsilon = 225000\n",
    "\n",
    "u1 = lambda_1*np.random.poisson(lam=10, size=n)\n",
    "u2 = lambda_2*np.random.normal(loc=0.0, scale=1.0, size=n)\n",
    "\n",
    "# annual salary\n",
    "n_x1 = u1 + A*bias_a1\n",
    "# account balance\n",
    "n_x2 = beta_1*n_x1 + u2 + A*bias_a2\n",
    "# loan approval\n",
    "n_y = np.sign(n_x1 + beta_2*n_x2 - 225000)"
   ]
  },
  {
   "cell_type": "code",
   "execution_count": 31,
   "metadata": {},
   "outputs": [
    {
     "data": {
      "text/html": [
       "<div>\n",
       "<style scoped>\n",
       "    .dataframe tbody tr th:only-of-type {\n",
       "        vertical-align: middle;\n",
       "    }\n",
       "\n",
       "    .dataframe tbody tr th {\n",
       "        vertical-align: top;\n",
       "    }\n",
       "\n",
       "    .dataframe thead th {\n",
       "        text-align: right;\n",
       "    }\n",
       "</style>\n",
       "<table border=\"1\" class=\"dataframe\">\n",
       "  <thead>\n",
       "    <tr style=\"text-align: right;\">\n",
       "      <th></th>\n",
       "      <th>LoanApproval</th>\n",
       "      <th>AnnualSalary</th>\n",
       "      <th>AccountBalance</th>\n",
       "      <th>u1</th>\n",
       "      <th>u2</th>\n",
       "      <th>Gender</th>\n",
       "    </tr>\n",
       "  </thead>\n",
       "  <tbody>\n",
       "    <tr>\n",
       "      <th>0</th>\n",
       "      <td>-1.0</td>\n",
       "      <td>50000</td>\n",
       "      <td>14026.847358</td>\n",
       "      <td>50000</td>\n",
       "      <td>-973.152642</td>\n",
       "      <td>0</td>\n",
       "    </tr>\n",
       "    <tr>\n",
       "      <th>1</th>\n",
       "      <td>-1.0</td>\n",
       "      <td>68000</td>\n",
       "      <td>19497.832480</td>\n",
       "      <td>120000</td>\n",
       "      <td>940.097383</td>\n",
       "      <td>1</td>\n",
       "    </tr>\n",
       "    <tr>\n",
       "      <th>2</th>\n",
       "      <td>-1.0</td>\n",
       "      <td>90000</td>\n",
       "      <td>23564.129008</td>\n",
       "      <td>90000</td>\n",
       "      <td>-3435.870992</td>\n",
       "      <td>0</td>\n",
       "    </tr>\n",
       "    <tr>\n",
       "      <th>3</th>\n",
       "      <td>-1.0</td>\n",
       "      <td>-11000</td>\n",
       "      <td>-1451.336160</td>\n",
       "      <td>80000</td>\n",
       "      <td>3596.570524</td>\n",
       "      <td>1</td>\n",
       "    </tr>\n",
       "    <tr>\n",
       "      <th>4</th>\n",
       "      <td>1.0</td>\n",
       "      <td>210000</td>\n",
       "      <td>62294.221620</td>\n",
       "      <td>210000</td>\n",
       "      <td>-705.778380</td>\n",
       "      <td>0</td>\n",
       "    </tr>\n",
       "    <tr>\n",
       "      <th>5</th>\n",
       "      <td>-1.0</td>\n",
       "      <td>42000</td>\n",
       "      <td>7050.013667</td>\n",
       "      <td>120000</td>\n",
       "      <td>-3172.991276</td>\n",
       "      <td>1</td>\n",
       "    </tr>\n",
       "    <tr>\n",
       "      <th>6</th>\n",
       "      <td>-1.0</td>\n",
       "      <td>80000</td>\n",
       "      <td>19749.048087</td>\n",
       "      <td>80000</td>\n",
       "      <td>-4250.951913</td>\n",
       "      <td>0</td>\n",
       "    </tr>\n",
       "    <tr>\n",
       "      <th>7</th>\n",
       "      <td>1.0</td>\n",
       "      <td>140000</td>\n",
       "      <td>45716.973279</td>\n",
       "      <td>140000</td>\n",
       "      <td>3716.973279</td>\n",
       "      <td>0</td>\n",
       "    </tr>\n",
       "    <tr>\n",
       "      <th>8</th>\n",
       "      <td>-1.0</td>\n",
       "      <td>31000</td>\n",
       "      <td>8143.135197</td>\n",
       "      <td>70000</td>\n",
       "      <td>1540.642141</td>\n",
       "      <td>1</td>\n",
       "    </tr>\n",
       "    <tr>\n",
       "      <th>9</th>\n",
       "      <td>1.0</td>\n",
       "      <td>110000</td>\n",
       "      <td>30629.344885</td>\n",
       "      <td>110000</td>\n",
       "      <td>-2370.655115</td>\n",
       "      <td>0</td>\n",
       "    </tr>\n",
       "  </tbody>\n",
       "</table>\n",
       "</div>"
      ],
      "text/plain": [
       "   LoanApproval  AnnualSalary  AccountBalance      u1           u2  Gender\n",
       "0          -1.0         50000    14026.847358   50000  -973.152642       0\n",
       "1          -1.0         68000    19497.832480  120000   940.097383       1\n",
       "2          -1.0         90000    23564.129008   90000 -3435.870992       0\n",
       "3          -1.0        -11000    -1451.336160   80000  3596.570524       1\n",
       "4           1.0        210000    62294.221620  210000  -705.778380       0\n",
       "5          -1.0         42000     7050.013667  120000 -3172.991276       1\n",
       "6          -1.0         80000    19749.048087   80000 -4250.951913       0\n",
       "7           1.0        140000    45716.973279  140000  3716.973279       0\n",
       "8          -1.0         31000     8143.135197   70000  1540.642141       1\n",
       "9           1.0        110000    30629.344885  110000 -2370.655115       0"
      ]
     },
     "execution_count": 31,
     "metadata": {},
     "output_type": "execute_result"
    }
   ],
   "source": [
    "# store data for testing RStan \n",
    "n_d = {'LoanApproval': n_y, \n",
    "     'AnnualSalary': n_x1, \n",
    "     'AccountBalance': n_x2,\n",
    "     'u1': u1,\n",
    "     'u2': u2,\n",
    "     'Gender': A}\n",
    "n_data = pd.DataFrame(n_d)\n",
    "n_data.head(10)"
   ]
  },
  {
   "cell_type": "code",
   "execution_count": 32,
   "metadata": {},
   "outputs": [
    {
     "data": {
      "text/plain": [
       "(array([1577.,    0.,    0.,    0.,    0.,    0.,    0.,    0.,    0.,\n",
       "         117.]),\n",
       " array([-1. , -0.8, -0.6, -0.4, -0.2,  0. ,  0.2,  0.4,  0.6,  0.8,  1. ]),\n",
       " <BarContainer object of 10 artists>)"
      ]
     },
     "execution_count": 32,
     "metadata": {},
     "output_type": "execute_result"
    },
    {
     "data": {
      "image/png": "[encoded data removed]",
      "text/plain": [
       "<Figure size 432x288 with 1 Axes>"
      ]
     },
     "metadata": {
      "needs_background": "light"
     },
     "output_type": "display_data"
    }
   ],
   "source": [
    "plt.hist(n_data['LoanApproval'])\n",
    "plt.hist(n_data[n_data['Gender']==1]['LoanApproval']) # this is the factual!"
   ]
  },
  {
   "cell_type": "code",
   "execution_count": 45,
   "metadata": {},
   "outputs": [
    {
     "data": {
      "text/plain": [
       "6.90672963400236"
      ]
     },
     "execution_count": 45,
     "metadata": {},
     "output_type": "execute_result"
    }
   ],
   "source": [
    "# num. of women with approved loans / num. of women* 100\n",
    "n_data[(n_data['Gender']==1) & (n_data['LoanApproval']==1)].shape[0] / n_data[n_data['Gender']==1].shape[0] * 100"
   ]
  },
  {
   "cell_type": "code",
   "execution_count": 46,
   "metadata": {},
   "outputs": [
    {
     "data": {
      "text/plain": [
       "60.526315789473685"
      ]
     },
     "execution_count": 46,
     "metadata": {},
     "output_type": "execute_result"
    }
   ],
   "source": [
    "# num. of men with approved loans / num. of men* 100\n",
    "n_data[(n_data['Gender']==0) & (n_data['LoanApproval']==1)].shape[0] / n_data[n_data['Gender']==0].shape[0] * 100"
   ]
  },
  {
   "cell_type": "code",
   "execution_count": 47,
   "metadata": {},
   "outputs": [],
   "source": [
    "# store in data folder\n",
    "n_data.to_csv(data_path + '\\\\' + 'Karimi2020_v2.csv', sep='|', index=False)"
   ]
  },
  {
   "cell_type": "code",
   "execution_count": null,
   "metadata": {},
   "outputs": [],
   "source": [
    "# prepare data for Salvatore's ST program:\n"
   ]
  },
  {
   "cell_type": "markdown",
   "metadata": {},
   "source": [
    "For SCFs, we need to estimate the weighst (i.e., causal inference) for Account Balance and Annual Salary before we estimate $u_1$ and $u_2$; interven $A$; and precidt the counterfactual values for $x_1$ and $x_2$."
   ]
  },
  {
   "cell_type": "code",
   "execution_count": 48,
   "metadata": {},
   "outputs": [],
   "source": [
    "model_sal = LinearRegression(fit_intercept=True, normalize=False)\n",
    "model_acc = LinearRegression(fit_intercept=True, normalize=False)"
   ]
  },
  {
   "cell_type": "code",
   "execution_count": 49,
   "metadata": {},
   "outputs": [
    {
     "name": "stdout",
     "output_type": "stream",
     "text": [
      "(5000, 1)\n",
      "(5000,)\n",
      "(5000, 2)\n",
      "(5000,)\n"
     ]
    }
   ],
   "source": [
    "x_sal = np.array(n_data['Gender'].copy()).reshape((-1, 1))\n",
    "print(x_sal.shape)\n",
    "y_sal = np.array(n_data['AnnualSalary'].copy())\n",
    "print(y_sal.shape)\n",
    "\n",
    "x_acc = np.array(n_data[['AnnualSalary', 'Gender']].copy())#.reshape((-1, 1))\n",
    "print(x_acc.shape)\n",
    "y_acc = np.array(n_data['AccountBalance'].copy())\n",
    "print(y_acc.shape)"
   ]
  },
  {
   "cell_type": "code",
   "execution_count": 50,
   "metadata": {},
   "outputs": [
    {
     "data": {
      "text/plain": [
       "LinearRegression()"
      ]
     },
     "execution_count": 50,
     "metadata": {},
     "output_type": "execute_result"
    }
   ],
   "source": [
    "model_sal.fit(x_sal, y_sal)\n",
    "model_acc.fit(x_acc, y_acc)"
   ]
  },
  {
   "cell_type": "code",
   "execution_count": 51,
   "metadata": {},
   "outputs": [
    {
     "data": {
      "text/plain": [
       "array([-64901.12981942])"
      ]
     },
     "execution_count": 51,
     "metadata": {},
     "output_type": "execute_result"
    }
   ],
   "source": [
    "model_sal.coef_"
   ]
  },
  {
   "cell_type": "code",
   "execution_count": 52,
   "metadata": {},
   "outputs": [
    {
     "data": {
      "text/plain": [
       "100341.80278281916"
      ]
     },
     "execution_count": 52,
     "metadata": {},
     "output_type": "execute_result"
    }
   ],
   "source": [
    "model_sal.intercept_"
   ]
  },
  {
   "cell_type": "code",
   "execution_count": 53,
   "metadata": {},
   "outputs": [
    {
     "data": {
      "text/plain": [
       "array([ 2.99338159e-01, -1.92234781e+03])"
      ]
     },
     "execution_count": 53,
     "metadata": {},
     "output_type": "execute_result"
    }
   ],
   "source": [
    "model_acc.coef_"
   ]
  },
  {
   "cell_type": "code",
   "execution_count": 54,
   "metadata": {},
   "outputs": [
    {
     "data": {
      "text/plain": [
       "57.702090564391256"
      ]
     },
     "execution_count": 54,
     "metadata": {},
     "output_type": "execute_result"
    }
   ],
   "source": [
    "model_acc.intercept_"
   ]
  },
  {
   "cell_type": "code",
   "execution_count": 55,
   "metadata": {},
   "outputs": [
    {
     "data": {
      "text/html": [
       "<div>\n",
       "<style scoped>\n",
       "    .dataframe tbody tr th:only-of-type {\n",
       "        vertical-align: middle;\n",
       "    }\n",
       "\n",
       "    .dataframe tbody tr th {\n",
       "        vertical-align: top;\n",
       "    }\n",
       "\n",
       "    .dataframe thead th {\n",
       "        text-align: right;\n",
       "    }\n",
       "</style>\n",
       "<table border=\"1\" class=\"dataframe\">\n",
       "  <thead>\n",
       "    <tr style=\"text-align: right;\">\n",
       "      <th></th>\n",
       "      <th>LoanApproval</th>\n",
       "      <th>AnnualSalary</th>\n",
       "      <th>AccountBalance</th>\n",
       "      <th>Gender</th>\n",
       "      <th>u1</th>\n",
       "      <th>u2</th>\n",
       "    </tr>\n",
       "  </thead>\n",
       "  <tbody>\n",
       "    <tr>\n",
       "      <th>0</th>\n",
       "      <td>-1.0</td>\n",
       "      <td>50000</td>\n",
       "      <td>14026.847358</td>\n",
       "      <td>0</td>\n",
       "      <td>50000</td>\n",
       "      <td>-973.152642</td>\n",
       "    </tr>\n",
       "    <tr>\n",
       "      <th>1</th>\n",
       "      <td>-1.0</td>\n",
       "      <td>68000</td>\n",
       "      <td>19497.832480</td>\n",
       "      <td>1</td>\n",
       "      <td>120000</td>\n",
       "      <td>940.097383</td>\n",
       "    </tr>\n",
       "    <tr>\n",
       "      <th>2</th>\n",
       "      <td>-1.0</td>\n",
       "      <td>90000</td>\n",
       "      <td>23564.129008</td>\n",
       "      <td>0</td>\n",
       "      <td>90000</td>\n",
       "      <td>-3435.870992</td>\n",
       "    </tr>\n",
       "    <tr>\n",
       "      <th>3</th>\n",
       "      <td>-1.0</td>\n",
       "      <td>-11000</td>\n",
       "      <td>-1451.336160</td>\n",
       "      <td>1</td>\n",
       "      <td>80000</td>\n",
       "      <td>3596.570524</td>\n",
       "    </tr>\n",
       "    <tr>\n",
       "      <th>4</th>\n",
       "      <td>1.0</td>\n",
       "      <td>210000</td>\n",
       "      <td>62294.221620</td>\n",
       "      <td>0</td>\n",
       "      <td>210000</td>\n",
       "      <td>-705.778380</td>\n",
       "    </tr>\n",
       "  </tbody>\n",
       "</table>\n",
       "</div>"
      ],
      "text/plain": [
       "   LoanApproval  AnnualSalary  AccountBalance  Gender      u1           u2\n",
       "0          -1.0         50000    14026.847358       0   50000  -973.152642\n",
       "1          -1.0         68000    19497.832480       1  120000   940.097383\n",
       "2          -1.0         90000    23564.129008       0   90000 -3435.870992\n",
       "3          -1.0        -11000    -1451.336160       1   80000  3596.570524\n",
       "4           1.0        210000    62294.221620       0  210000  -705.778380"
      ]
     },
     "execution_count": 55,
     "metadata": {},
     "output_type": "execute_result"
    }
   ],
   "source": [
    "n_scf_data = n_data[['LoanApproval', 'AnnualSalary', 'AccountBalance', 'Gender', 'u1', 'u2']].copy()\n",
    "n_scf_data.head(5)"
   ]
  },
  {
   "cell_type": "code",
   "execution_count": 56,
   "metadata": {},
   "outputs": [
    {
     "data": {
      "text/html": [
       "<div>\n",
       "<style scoped>\n",
       "    .dataframe tbody tr th:only-of-type {\n",
       "        vertical-align: middle;\n",
       "    }\n",
       "\n",
       "    .dataframe tbody tr th {\n",
       "        vertical-align: top;\n",
       "    }\n",
       "\n",
       "    .dataframe thead th {\n",
       "        text-align: right;\n",
       "    }\n",
       "</style>\n",
       "<table border=\"1\" class=\"dataframe\">\n",
       "  <thead>\n",
       "    <tr style=\"text-align: right;\">\n",
       "      <th></th>\n",
       "      <th>LoanApproval</th>\n",
       "      <th>AnnualSalary</th>\n",
       "      <th>AccountBalance</th>\n",
       "      <th>Gender</th>\n",
       "      <th>u1</th>\n",
       "      <th>u2</th>\n",
       "      <th>hat_u1</th>\n",
       "      <th>hat_u2</th>\n",
       "    </tr>\n",
       "  </thead>\n",
       "  <tbody>\n",
       "    <tr>\n",
       "      <th>0</th>\n",
       "      <td>-1.0</td>\n",
       "      <td>50000</td>\n",
       "      <td>14026.847358</td>\n",
       "      <td>0</td>\n",
       "      <td>50000</td>\n",
       "      <td>-973.152642</td>\n",
       "      <td>-50341.80</td>\n",
       "      <td>-997.76</td>\n",
       "    </tr>\n",
       "    <tr>\n",
       "      <th>1</th>\n",
       "      <td>-1.0</td>\n",
       "      <td>68000</td>\n",
       "      <td>19497.832480</td>\n",
       "      <td>1</td>\n",
       "      <td>120000</td>\n",
       "      <td>940.097383</td>\n",
       "      <td>32559.33</td>\n",
       "      <td>1007.48</td>\n",
       "    </tr>\n",
       "    <tr>\n",
       "      <th>2</th>\n",
       "      <td>-1.0</td>\n",
       "      <td>90000</td>\n",
       "      <td>23564.129008</td>\n",
       "      <td>0</td>\n",
       "      <td>90000</td>\n",
       "      <td>-3435.870992</td>\n",
       "      <td>-10341.80</td>\n",
       "      <td>-3434.01</td>\n",
       "    </tr>\n",
       "    <tr>\n",
       "      <th>3</th>\n",
       "      <td>-1.0</td>\n",
       "      <td>-11000</td>\n",
       "      <td>-1451.336160</td>\n",
       "      <td>1</td>\n",
       "      <td>80000</td>\n",
       "      <td>3596.570524</td>\n",
       "      <td>-46440.67</td>\n",
       "      <td>3706.03</td>\n",
       "    </tr>\n",
       "    <tr>\n",
       "      <th>4</th>\n",
       "      <td>1.0</td>\n",
       "      <td>210000</td>\n",
       "      <td>62294.221620</td>\n",
       "      <td>0</td>\n",
       "      <td>210000</td>\n",
       "      <td>-705.778380</td>\n",
       "      <td>109658.20</td>\n",
       "      <td>-624.49</td>\n",
       "    </tr>\n",
       "  </tbody>\n",
       "</table>\n",
       "</div>"
      ],
      "text/plain": [
       "   LoanApproval  AnnualSalary  AccountBalance  Gender      u1           u2  \\\n",
       "0          -1.0         50000    14026.847358       0   50000  -973.152642   \n",
       "1          -1.0         68000    19497.832480       1  120000   940.097383   \n",
       "2          -1.0         90000    23564.129008       0   90000 -3435.870992   \n",
       "3          -1.0        -11000    -1451.336160       1   80000  3596.570524   \n",
       "4           1.0        210000    62294.221620       0  210000  -705.778380   \n",
       "\n",
       "      hat_u1   hat_u2  \n",
       "0  -50341.80  -997.76  \n",
       "1   32559.33  1007.48  \n",
       "2  -10341.80 -3434.01  \n",
       "3  -46440.67  3706.03  \n",
       "4  109658.20  -624.49  "
      ]
     },
     "execution_count": 56,
     "metadata": {},
     "output_type": "execute_result"
    }
   ],
   "source": [
    "n_scf_data['hat_u1'] = round(n_scf_data['AnnualSalary'] - model_sal.predict(x_sal), 2)\n",
    "n_scf_data['hat_u2'] = round(n_scf_data['AccountBalance'] - model_acc.predict(x_acc), 2)\n",
    "n_scf_data.head(5)"
   ]
  },
  {
   "cell_type": "code",
   "execution_count": 57,
   "metadata": {},
   "outputs": [
    {
     "data": {
      "text/plain": [
       "(array([1.000e+00, 3.200e+01, 2.170e+02, 1.392e+03, 1.679e+03, 1.165e+03,\n",
       "        4.240e+02, 7.700e+01, 1.100e+01, 2.000e+00]),\n",
       " array([-144940.67 , -113480.783,  -82020.896,  -50561.009,  -19101.122,\n",
       "          12358.765,   43818.652,   75278.539,  106738.426,  138198.313,\n",
       "         169658.2  ]),\n",
       " <BarContainer object of 10 artists>)"
      ]
     },
     "execution_count": 57,
     "metadata": {},
     "output_type": "execute_result"
    },
    {
     "data": {
      "image/png": "[encoded data removed]",
      "text/plain": [
       "<Figure size 432x288 with 1 Axes>"
      ]
     },
     "metadata": {
      "needs_background": "light"
     },
     "output_type": "display_data"
    }
   ],
   "source": [
    "plt.hist(n_scf_data['u1'])\n",
    "plt.hist(n_scf_data['hat_u1'])"
   ]
  },
  {
   "cell_type": "code",
   "execution_count": 58,
   "metadata": {},
   "outputs": [
    {
     "data": {
      "text/plain": [
       "(array([   2.,    3.,   24.,  196.,  592., 1280., 1564.,  971.,  309.,\n",
       "          59.]),\n",
       " array([-13094.65 , -10989.248,  -8883.846,  -6778.444,  -4673.042,\n",
       "         -2567.64 ,   -462.238,   1643.164,   3748.566,   5853.968,\n",
       "          7959.37 ]),\n",
       " <BarContainer object of 10 artists>)"
      ]
     },
     "execution_count": 58,
     "metadata": {},
     "output_type": "execute_result"
    },
    {
     "data": {
      "image/png": "[encoded data removed]",
      "text/plain": [
       "<Figure size 432x288 with 1 Axes>"
      ]
     },
     "metadata": {
      "needs_background": "light"
     },
     "output_type": "display_data"
    }
   ],
   "source": [
    "plt.hist(n_scf_data['u2'])\n",
    "plt.hist(n_scf_data['hat_u2'])"
   ]
  },
  {
   "cell_type": "code",
   "execution_count": 59,
   "metadata": {},
   "outputs": [],
   "source": [
    "# intervene on A\n",
    "do_male = np.repeat(0, repeats=n_scf_data.shape[0]).reshape((-1, 1))"
   ]
  },
  {
   "cell_type": "code",
   "execution_count": 60,
   "metadata": {},
   "outputs": [
    {
     "data": {
      "text/html": [
       "<div>\n",
       "<style scoped>\n",
       "    .dataframe tbody tr th:only-of-type {\n",
       "        vertical-align: middle;\n",
       "    }\n",
       "\n",
       "    .dataframe tbody tr th {\n",
       "        vertical-align: top;\n",
       "    }\n",
       "\n",
       "    .dataframe thead th {\n",
       "        text-align: right;\n",
       "    }\n",
       "</style>\n",
       "<table border=\"1\" class=\"dataframe\">\n",
       "  <thead>\n",
       "    <tr style=\"text-align: right;\">\n",
       "      <th></th>\n",
       "      <th>LoanApproval</th>\n",
       "      <th>AnnualSalary</th>\n",
       "      <th>AccountBalance</th>\n",
       "      <th>Gender</th>\n",
       "      <th>u1</th>\n",
       "      <th>u2</th>\n",
       "      <th>hat_u1</th>\n",
       "      <th>hat_u2</th>\n",
       "      <th>scf_AnnualSalary</th>\n",
       "    </tr>\n",
       "  </thead>\n",
       "  <tbody>\n",
       "    <tr>\n",
       "      <th>0</th>\n",
       "      <td>-1.0</td>\n",
       "      <td>50000</td>\n",
       "      <td>14026.847358</td>\n",
       "      <td>0</td>\n",
       "      <td>50000</td>\n",
       "      <td>-973.152642</td>\n",
       "      <td>-50341.80</td>\n",
       "      <td>-997.76</td>\n",
       "      <td>50000.00</td>\n",
       "    </tr>\n",
       "    <tr>\n",
       "      <th>1</th>\n",
       "      <td>-1.0</td>\n",
       "      <td>68000</td>\n",
       "      <td>19497.832480</td>\n",
       "      <td>1</td>\n",
       "      <td>120000</td>\n",
       "      <td>940.097383</td>\n",
       "      <td>32559.33</td>\n",
       "      <td>1007.48</td>\n",
       "      <td>132901.13</td>\n",
       "    </tr>\n",
       "    <tr>\n",
       "      <th>2</th>\n",
       "      <td>-1.0</td>\n",
       "      <td>90000</td>\n",
       "      <td>23564.129008</td>\n",
       "      <td>0</td>\n",
       "      <td>90000</td>\n",
       "      <td>-3435.870992</td>\n",
       "      <td>-10341.80</td>\n",
       "      <td>-3434.01</td>\n",
       "      <td>90000.00</td>\n",
       "    </tr>\n",
       "    <tr>\n",
       "      <th>3</th>\n",
       "      <td>-1.0</td>\n",
       "      <td>-11000</td>\n",
       "      <td>-1451.336160</td>\n",
       "      <td>1</td>\n",
       "      <td>80000</td>\n",
       "      <td>3596.570524</td>\n",
       "      <td>-46440.67</td>\n",
       "      <td>3706.03</td>\n",
       "      <td>53901.13</td>\n",
       "    </tr>\n",
       "    <tr>\n",
       "      <th>4</th>\n",
       "      <td>1.0</td>\n",
       "      <td>210000</td>\n",
       "      <td>62294.221620</td>\n",
       "      <td>0</td>\n",
       "      <td>210000</td>\n",
       "      <td>-705.778380</td>\n",
       "      <td>109658.20</td>\n",
       "      <td>-624.49</td>\n",
       "      <td>210000.00</td>\n",
       "    </tr>\n",
       "  </tbody>\n",
       "</table>\n",
       "</div>"
      ],
      "text/plain": [
       "   LoanApproval  AnnualSalary  AccountBalance  Gender      u1           u2  \\\n",
       "0          -1.0         50000    14026.847358       0   50000  -973.152642   \n",
       "1          -1.0         68000    19497.832480       1  120000   940.097383   \n",
       "2          -1.0         90000    23564.129008       0   90000 -3435.870992   \n",
       "3          -1.0        -11000    -1451.336160       1   80000  3596.570524   \n",
       "4           1.0        210000    62294.221620       0  210000  -705.778380   \n",
       "\n",
       "      hat_u1   hat_u2  scf_AnnualSalary  \n",
       "0  -50341.80  -997.76          50000.00  \n",
       "1   32559.33  1007.48         132901.13  \n",
       "2  -10341.80 -3434.01          90000.00  \n",
       "3  -46440.67  3706.03          53901.13  \n",
       "4  109658.20  -624.49         210000.00  "
      ]
     },
     "execution_count": 60,
     "metadata": {},
     "output_type": "execute_result"
    }
   ],
   "source": [
    "n_scf_data['scf_AnnualSalary'] = round(model_sal.predict(do_male) + n_scf_data['hat_u1'], 2)\n",
    "n_scf_data.head(5)"
   ]
  },
  {
   "cell_type": "code",
   "execution_count": 61,
   "metadata": {},
   "outputs": [
    {
     "data": {
      "text/plain": [
       "(array([1.000e+00, 3.200e+01, 2.170e+02, 1.392e+03, 1.679e+03, 1.165e+03,\n",
       "        4.240e+02, 7.700e+01, 1.100e+01, 2.000e+00]),\n",
       " array([-44598.87 , -13138.983,  18320.904,  49780.791,  81240.678,\n",
       "        112700.565, 144160.452, 175620.339, 207080.226, 238540.113,\n",
       "        270000.   ]),\n",
       " <BarContainer object of 10 artists>)"
      ]
     },
     "execution_count": 61,
     "metadata": {},
     "output_type": "execute_result"
    },
    {
     "data": {
      "image/png": "[encoded data removed]",
      "text/plain": [
       "<Figure size 432x288 with 1 Axes>"
      ]
     },
     "metadata": {
      "needs_background": "light"
     },
     "output_type": "display_data"
    }
   ],
   "source": [
    "plt.hist(n_scf_data['AnnualSalary'])\n",
    "plt.hist(n_scf_data['scf_AnnualSalary'])"
   ]
  },
  {
   "cell_type": "code",
   "execution_count": 62,
   "metadata": {},
   "outputs": [
    {
     "data": {
      "text/html": [
       "<div>\n",
       "<style scoped>\n",
       "    .dataframe tbody tr th:only-of-type {\n",
       "        vertical-align: middle;\n",
       "    }\n",
       "\n",
       "    .dataframe tbody tr th {\n",
       "        vertical-align: top;\n",
       "    }\n",
       "\n",
       "    .dataframe thead th {\n",
       "        text-align: right;\n",
       "    }\n",
       "</style>\n",
       "<table border=\"1\" class=\"dataframe\">\n",
       "  <thead>\n",
       "    <tr style=\"text-align: right;\">\n",
       "      <th></th>\n",
       "      <th>scf_AnnualSalary</th>\n",
       "      <th>Gender</th>\n",
       "    </tr>\n",
       "  </thead>\n",
       "  <tbody>\n",
       "    <tr>\n",
       "      <th>0</th>\n",
       "      <td>50000.00</td>\n",
       "      <td>0</td>\n",
       "    </tr>\n",
       "    <tr>\n",
       "      <th>1</th>\n",
       "      <td>132901.13</td>\n",
       "      <td>0</td>\n",
       "    </tr>\n",
       "    <tr>\n",
       "      <th>2</th>\n",
       "      <td>90000.00</td>\n",
       "      <td>0</td>\n",
       "    </tr>\n",
       "    <tr>\n",
       "      <th>3</th>\n",
       "      <td>53901.13</td>\n",
       "      <td>0</td>\n",
       "    </tr>\n",
       "    <tr>\n",
       "      <th>4</th>\n",
       "      <td>210000.00</td>\n",
       "      <td>0</td>\n",
       "    </tr>\n",
       "  </tbody>\n",
       "</table>\n",
       "</div>"
      ],
      "text/plain": [
       "   scf_AnnualSalary  Gender\n",
       "0          50000.00       0\n",
       "1         132901.13       0\n",
       "2          90000.00       0\n",
       "3          53901.13       0\n",
       "4         210000.00       0"
      ]
     },
     "execution_count": 62,
     "metadata": {},
     "output_type": "execute_result"
    }
   ],
   "source": [
    "temp_do = n_scf_data[['scf_AnnualSalary']].copy()\n",
    "temp_do['Gender'] = do_male\n",
    "temp_do.head(5)"
   ]
  },
  {
   "cell_type": "code",
   "execution_count": 63,
   "metadata": {},
   "outputs": [
    {
     "data": {
      "text/html": [
       "<div>\n",
       "<style scoped>\n",
       "    .dataframe tbody tr th:only-of-type {\n",
       "        vertical-align: middle;\n",
       "    }\n",
       "\n",
       "    .dataframe tbody tr th {\n",
       "        vertical-align: top;\n",
       "    }\n",
       "\n",
       "    .dataframe thead th {\n",
       "        text-align: right;\n",
       "    }\n",
       "</style>\n",
       "<table border=\"1\" class=\"dataframe\">\n",
       "  <thead>\n",
       "    <tr style=\"text-align: right;\">\n",
       "      <th></th>\n",
       "      <th>LoanApproval</th>\n",
       "      <th>AnnualSalary</th>\n",
       "      <th>AccountBalance</th>\n",
       "      <th>Gender</th>\n",
       "      <th>u1</th>\n",
       "      <th>u2</th>\n",
       "      <th>hat_u1</th>\n",
       "      <th>hat_u2</th>\n",
       "      <th>scf_AnnualSalary</th>\n",
       "      <th>scf_AccountBalance</th>\n",
       "    </tr>\n",
       "  </thead>\n",
       "  <tbody>\n",
       "    <tr>\n",
       "      <th>0</th>\n",
       "      <td>-1.0</td>\n",
       "      <td>50000</td>\n",
       "      <td>14026.847358</td>\n",
       "      <td>0</td>\n",
       "      <td>50000</td>\n",
       "      <td>-973.152642</td>\n",
       "      <td>-50341.80</td>\n",
       "      <td>-997.76</td>\n",
       "      <td>50000.00</td>\n",
       "      <td>14026.85</td>\n",
       "    </tr>\n",
       "    <tr>\n",
       "      <th>1</th>\n",
       "      <td>-1.0</td>\n",
       "      <td>68000</td>\n",
       "      <td>19497.832480</td>\n",
       "      <td>1</td>\n",
       "      <td>120000</td>\n",
       "      <td>940.097383</td>\n",
       "      <td>32559.33</td>\n",
       "      <td>1007.48</td>\n",
       "      <td>132901.13</td>\n",
       "      <td>40847.56</td>\n",
       "    </tr>\n",
       "    <tr>\n",
       "      <th>2</th>\n",
       "      <td>-1.0</td>\n",
       "      <td>90000</td>\n",
       "      <td>23564.129008</td>\n",
       "      <td>0</td>\n",
       "      <td>90000</td>\n",
       "      <td>-3435.870992</td>\n",
       "      <td>-10341.80</td>\n",
       "      <td>-3434.01</td>\n",
       "      <td>90000.00</td>\n",
       "      <td>23564.13</td>\n",
       "    </tr>\n",
       "    <tr>\n",
       "      <th>3</th>\n",
       "      <td>-1.0</td>\n",
       "      <td>-11000</td>\n",
       "      <td>-1451.336160</td>\n",
       "      <td>1</td>\n",
       "      <td>80000</td>\n",
       "      <td>3596.570524</td>\n",
       "      <td>-46440.67</td>\n",
       "      <td>3706.03</td>\n",
       "      <td>53901.13</td>\n",
       "      <td>19898.40</td>\n",
       "    </tr>\n",
       "    <tr>\n",
       "      <th>4</th>\n",
       "      <td>1.0</td>\n",
       "      <td>210000</td>\n",
       "      <td>62294.221620</td>\n",
       "      <td>0</td>\n",
       "      <td>210000</td>\n",
       "      <td>-705.778380</td>\n",
       "      <td>109658.20</td>\n",
       "      <td>-624.49</td>\n",
       "      <td>210000.00</td>\n",
       "      <td>62294.23</td>\n",
       "    </tr>\n",
       "  </tbody>\n",
       "</table>\n",
       "</div>"
      ],
      "text/plain": [
       "   LoanApproval  AnnualSalary  AccountBalance  Gender      u1           u2  \\\n",
       "0          -1.0         50000    14026.847358       0   50000  -973.152642   \n",
       "1          -1.0         68000    19497.832480       1  120000   940.097383   \n",
       "2          -1.0         90000    23564.129008       0   90000 -3435.870992   \n",
       "3          -1.0        -11000    -1451.336160       1   80000  3596.570524   \n",
       "4           1.0        210000    62294.221620       0  210000  -705.778380   \n",
       "\n",
       "      hat_u1   hat_u2  scf_AnnualSalary  scf_AccountBalance  \n",
       "0  -50341.80  -997.76          50000.00            14026.85  \n",
       "1   32559.33  1007.48         132901.13            40847.56  \n",
       "2  -10341.80 -3434.01          90000.00            23564.13  \n",
       "3  -46440.67  3706.03          53901.13            19898.40  \n",
       "4  109658.20  -624.49         210000.00            62294.23  "
      ]
     },
     "execution_count": 63,
     "metadata": {},
     "output_type": "execute_result"
    }
   ],
   "source": [
    "n_scf_data['scf_AccountBalance'] = round(model_acc.predict(temp_do) + n_scf_data['hat_u2'], 2)\n",
    "n_scf_data.head(5)"
   ]
  },
  {
   "cell_type": "code",
   "execution_count": 64,
   "metadata": {},
   "outputs": [
    {
     "data": {
      "text/plain": [
       "(array([   9.,   72.,  517., 1333., 1595., 1041.,  356.,   65.,   10.,\n",
       "           2.]),\n",
       " array([-9634.55 ,  -554.403,  8525.744, 17605.891, 26686.038, 35766.185,\n",
       "        44846.332, 53926.479, 63006.626, 72086.773, 81166.92 ]),\n",
       " <BarContainer object of 10 artists>)"
      ]
     },
     "execution_count": 64,
     "metadata": {},
     "output_type": "execute_result"
    },
    {
     "data": {
      "image/png": "[encoded data removed]",
      "text/plain": [
       "<Figure size 432x288 with 1 Axes>"
      ]
     },
     "metadata": {
      "needs_background": "light"
     },
     "output_type": "display_data"
    }
   ],
   "source": [
    "plt.hist(n_scf_data['AccountBalance'])\n",
    "plt.hist(n_scf_data['scf_AccountBalance'])"
   ]
  },
  {
   "cell_type": "code",
   "execution_count": 65,
   "metadata": {},
   "outputs": [
    {
     "data": {
      "text/html": [
       "<div>\n",
       "<style scoped>\n",
       "    .dataframe tbody tr th:only-of-type {\n",
       "        vertical-align: middle;\n",
       "    }\n",
       "\n",
       "    .dataframe tbody tr th {\n",
       "        vertical-align: top;\n",
       "    }\n",
       "\n",
       "    .dataframe thead th {\n",
       "        text-align: right;\n",
       "    }\n",
       "</style>\n",
       "<table border=\"1\" class=\"dataframe\">\n",
       "  <thead>\n",
       "    <tr style=\"text-align: right;\">\n",
       "      <th></th>\n",
       "      <th>LoanApproval</th>\n",
       "      <th>AnnualSalary</th>\n",
       "      <th>AccountBalance</th>\n",
       "      <th>Gender</th>\n",
       "      <th>u1</th>\n",
       "      <th>u2</th>\n",
       "      <th>hat_u1</th>\n",
       "      <th>hat_u2</th>\n",
       "      <th>scf_AnnualSalary</th>\n",
       "      <th>scf_AccountBalance</th>\n",
       "      <th>scf_LoanApproval</th>\n",
       "    </tr>\n",
       "  </thead>\n",
       "  <tbody>\n",
       "    <tr>\n",
       "      <th>0</th>\n",
       "      <td>-1.0</td>\n",
       "      <td>50000</td>\n",
       "      <td>14026.847358</td>\n",
       "      <td>0</td>\n",
       "      <td>50000</td>\n",
       "      <td>-973.152642</td>\n",
       "      <td>-50341.80</td>\n",
       "      <td>-997.76</td>\n",
       "      <td>50000.00</td>\n",
       "      <td>14026.85</td>\n",
       "      <td>-1.0</td>\n",
       "    </tr>\n",
       "    <tr>\n",
       "      <th>1</th>\n",
       "      <td>-1.0</td>\n",
       "      <td>68000</td>\n",
       "      <td>19497.832480</td>\n",
       "      <td>1</td>\n",
       "      <td>120000</td>\n",
       "      <td>940.097383</td>\n",
       "      <td>32559.33</td>\n",
       "      <td>1007.48</td>\n",
       "      <td>132901.13</td>\n",
       "      <td>40847.56</td>\n",
       "      <td>1.0</td>\n",
       "    </tr>\n",
       "    <tr>\n",
       "      <th>2</th>\n",
       "      <td>-1.0</td>\n",
       "      <td>90000</td>\n",
       "      <td>23564.129008</td>\n",
       "      <td>0</td>\n",
       "      <td>90000</td>\n",
       "      <td>-3435.870992</td>\n",
       "      <td>-10341.80</td>\n",
       "      <td>-3434.01</td>\n",
       "      <td>90000.00</td>\n",
       "      <td>23564.13</td>\n",
       "      <td>-1.0</td>\n",
       "    </tr>\n",
       "    <tr>\n",
       "      <th>3</th>\n",
       "      <td>-1.0</td>\n",
       "      <td>-11000</td>\n",
       "      <td>-1451.336160</td>\n",
       "      <td>1</td>\n",
       "      <td>80000</td>\n",
       "      <td>3596.570524</td>\n",
       "      <td>-46440.67</td>\n",
       "      <td>3706.03</td>\n",
       "      <td>53901.13</td>\n",
       "      <td>19898.40</td>\n",
       "      <td>-1.0</td>\n",
       "    </tr>\n",
       "    <tr>\n",
       "      <th>4</th>\n",
       "      <td>1.0</td>\n",
       "      <td>210000</td>\n",
       "      <td>62294.221620</td>\n",
       "      <td>0</td>\n",
       "      <td>210000</td>\n",
       "      <td>-705.778380</td>\n",
       "      <td>109658.20</td>\n",
       "      <td>-624.49</td>\n",
       "      <td>210000.00</td>\n",
       "      <td>62294.23</td>\n",
       "      <td>1.0</td>\n",
       "    </tr>\n",
       "  </tbody>\n",
       "</table>\n",
       "</div>"
      ],
      "text/plain": [
       "   LoanApproval  AnnualSalary  AccountBalance  Gender      u1           u2  \\\n",
       "0          -1.0         50000    14026.847358       0   50000  -973.152642   \n",
       "1          -1.0         68000    19497.832480       1  120000   940.097383   \n",
       "2          -1.0         90000    23564.129008       0   90000 -3435.870992   \n",
       "3          -1.0        -11000    -1451.336160       1   80000  3596.570524   \n",
       "4           1.0        210000    62294.221620       0  210000  -705.778380   \n",
       "\n",
       "      hat_u1   hat_u2  scf_AnnualSalary  scf_AccountBalance  scf_LoanApproval  \n",
       "0  -50341.80  -997.76          50000.00            14026.85              -1.0  \n",
       "1   32559.33  1007.48         132901.13            40847.56               1.0  \n",
       "2  -10341.80 -3434.01          90000.00            23564.13              -1.0  \n",
       "3  -46440.67  3706.03          53901.13            19898.40              -1.0  \n",
       "4  109658.20  -624.49         210000.00            62294.23               1.0  "
      ]
     },
     "execution_count": 65,
     "metadata": {},
     "output_type": "execute_result"
    }
   ],
   "source": [
    "n_scf_data['scf_LoanApproval'] = np.sign(n_scf_data['scf_AnnualSalary'] + beta_2*n_scf_data['scf_AccountBalance'] - 225000)\n",
    "n_scf_data.head(5)"
   ]
  },
  {
   "cell_type": "code",
   "execution_count": 66,
   "metadata": {},
   "outputs": [
    {
     "data": {
      "text/plain": [
       "(array([1991.,    0.,    0.,    0.,    0.,    0.,    0.,    0.,    0.,\n",
       "        3009.]),\n",
       " array([-1. , -0.8, -0.6, -0.4, -0.2,  0. ,  0.2,  0.4,  0.6,  0.8,  1. ]),\n",
       " <BarContainer object of 10 artists>)"
      ]
     },
     "execution_count": 66,
     "metadata": {},
     "output_type": "execute_result"
    },
    {
     "data": {
      "image/png": "[encoded data removed]",
      "text/plain": [
       "<Figure size 432x288 with 1 Axes>"
      ]
     },
     "metadata": {
      "needs_background": "light"
     },
     "output_type": "display_data"
    }
   ],
   "source": [
    "plt.hist(n_scf_data['LoanApproval'])\n",
    "plt.hist(n_scf_data['scf_LoanApproval'])"
   ]
  },
  {
   "cell_type": "code",
   "execution_count": 67,
   "metadata": {},
   "outputs": [
    {
     "data": {
      "text/plain": [
       "(array([ 686.,    0.,    0.,    0.,    0.,    0.,    0.,    0.,    0.,\n",
       "        1008.]),\n",
       " array([-1. , -0.8, -0.6, -0.4, -0.2,  0. ,  0.2,  0.4,  0.6,  0.8,  1. ]),\n",
       " <BarContainer object of 10 artists>)"
      ]
     },
     "execution_count": 67,
     "metadata": {},
     "output_type": "execute_result"
    },
    {
     "data": {
      "image/png": "[encoded data removed]",
      "text/plain": [
       "<Figure size 432x288 with 1 Axes>"
      ]
     },
     "metadata": {
      "needs_background": "light"
     },
     "output_type": "display_data"
    }
   ],
   "source": [
    "plt.hist(n_scf_data[n_scf_data['Gender']==1]['LoanApproval'])\n",
    "plt.hist(n_scf_data[n_scf_data['Gender']==1]['scf_LoanApproval'])"
   ]
  },
  {
   "cell_type": "code",
   "execution_count": null,
   "metadata": {},
   "outputs": [],
   "source": []
  },
  {
   "cell_type": "code",
   "execution_count": null,
   "metadata": {},
   "outputs": [],
   "source": [
    "# # consider individual i: what is the counterfactual of y_i?\n",
    "# # here, in ST, want the STRUCTURAL COUNTERFACTUAL x_scf, not too interested in y_scf\n",
    "# # because want to match x_scf with those that don't share the protected attribute memebership of i\n",
    "# i = 3\n",
    "# data.loc[i, ]\n",
    "\n",
    "# # Step 1: Abduction\n",
    "# # Get U's given the evidence X's [assuming causal sufficiency and, ofc, a known causal graph]\n",
    "\n",
    "# # u1 given x1: from Fig.1, x1 = u1 and thus u1 = x1\n",
    "# u1_i = data.loc[i, 'X1']\n",
    "# print(u1_i)\n",
    "\n",
    "# # u2 given x2: from Fig.1, x2 = (3/10)*x1 + u2 and thus u2 = x2 - (3/10)*x1\n",
    "# u2_i = data.loc[i, 'X2'] - (3/10)*data.loc[i, 'X1']\n",
    "# print(u2_i)\n",
    "\n",
    "# # Step 2: Action\n",
    "# # Given the SCM, intervene it accordingly using the do-operator \n",
    "# delta = 5000\n",
    "\n",
    "# # Org SCM M:\n",
    "# # x1 = u1             [salary]\n",
    "# # x2 = (3/10)*x1 + u2 [balance]\n",
    "\n",
    "# # do(X1 := X1 + delta), then M':\n",
    "# # X1' := X1 + delta\n",
    "# # X2 = (3/10)*X1' + U2\n",
    "\n",
    "# # Step 3: Prediction (notice at at i-level)\n",
    "# # Apply the chagnes on M' and get the scf tuple \n",
    "\n",
    "# x1_i_scf = data.loc[i, 'X1'] + delta\n",
    "# print(x1_i_scf)\n",
    "\n",
    "# x2_i_scf = (3/10)*x1_i_scf + u2_i\n",
    "# print(x2_i_scf)\n",
    "\n",
    "# print(data.loc[i, 'Y'])\n",
    "# # vs\n",
    "# print(np.sign(x1_i_scf + 5*x2_i_scf - 225000))"
   ]
  }
 ],
 "metadata": {
  "kernelspec": {
   "display_name": "fair_ml",
   "language": "python",
   "name": "fair_ml"
  },
  "language_info": {
   "codemirror_mode": {
    "name": "ipython",
    "version": 3
   },
   "file_extension": ".py",
   "mimetype": "text/x-python",
   "name": "python",
   "nbconvert_exporter": "python",
   "pygments_lexer": "ipython3",
   "version": "3.8.5"
  }
 },
 "nbformat": 4,
 "nbformat_minor": 4
}
