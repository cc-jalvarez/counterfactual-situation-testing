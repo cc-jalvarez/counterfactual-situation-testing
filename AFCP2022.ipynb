{
 "cells": [
  {
   "cell_type": "markdown",
   "metadata": {},
   "source": [
    "This script reproduces the Working Experiment section for the paper's cersion submitted to NeurIPS's AFCP2022 workshop. Please insure that you have all packages installed for running this script. We use Figure 1 from [Karimi et al. (2020)](https://arxiv.org/pdf/2002.06278.pdf) as the baseline data generating model (DGM), which we modify by introducing gender as $A$."
   ]
  },
  {
   "cell_type": "code",
   "execution_count": 1,
   "metadata": {},
   "outputs": [],
   "source": [
    "import random\n",
    "import os\n",
    "import pandas as pd\n",
    "import numpy as np\n",
    "import matplotlib.pyplot as plt\n",
    "import seaborn as sns\n",
    "\n",
    "from sklearn.linear_model import LinearRegression\n",
    "\n",
    "# general settings  \n",
    "plt.style.use('seaborn-whitegrid')\n",
    "plt.rc('font', size=11)\n",
    "plt.rc('legend', fontsize=11)\n",
    "plt.rc('lines', linewidth=2)\n",
    "plt.rc('axes', linewidth=2)\n",
    "plt.rc('axes', edgecolor='k')\n",
    "plt.rc('xtick.major', width=2)\n",
    "plt.rc('xtick.major', size=6)\n",
    "plt.rc('ytick.major', width=2)\n",
    "plt.rc('ytick.major', size=6)\n",
    "plt.rc('pdf', fonttype=42)\n",
    "plt.rc('ps', fonttype=42)"
   ]
  },
  {
   "cell_type": "markdown",
   "metadata": {},
   "source": [
    "### Get the (factual) dataset $\\mathcal{D}$"
   ]
  },
  {
   "cell_type": "code",
   "execution_count": 2,
   "metadata": {},
   "outputs": [],
   "source": [
    "# change data path accordingly\n",
    "data_path = os.getcwd() + '\\\\' + 'data' + '\\\\'\n",
    "org_df = pd.read_csv(data_path + '\\\\' + 'Karimi2020_v2.csv', sep='|', )"
   ]
  },
  {
   "cell_type": "code",
   "execution_count": 3,
   "metadata": {},
   "outputs": [],
   "source": [
    "# np.random.seed(2020)\n",
    "\n",
    "# n = 5000\n",
    "\n",
    "# # let A be Gender, where A=1 represents female\n",
    "# p_men = 0.65\n",
    "# uA = random.choices(population=[0, 1], weights=[p_men, (1 - p_men)], k=n)\n",
    "# A = np.asanyarray(uA) \n",
    "# bias_a1 = (-1500)*np.random.poisson(lam=10, size=n)\n",
    "# bias_a2 = (-300)*np.random.chisquare(df=4, size=n)\n",
    "\n",
    "# # other hyperparams\n",
    "# lambda_1 = 10000\n",
    "# lambda_2 = 2500\n",
    "# beta_1 = (3/10)\n",
    "# beta_2 = 5\n",
    "# u1 = lambda_1*np.random.poisson(lam=10, size=n)\n",
    "# u2 = lambda_2*np.random.normal(loc=0.0, scale=1.0, size=n)\n",
    "\n",
    "# # X1: annual salary\n",
    "# n_x1 = u1 + A*bias_a1\n",
    "# # X2: account balance\n",
    "# n_x2 = beta_1*n_x1 + u2 + A*bias_a2\n",
    "\n",
    "# # Y: loan approval\n",
    "# n_y = np.sign(n_x1 + beta_2*n_x2 - 225000)\n",
    "\n",
    "# # get orginal df\n",
    "# n_d = {'LoanApproval': n_y, \n",
    "#        'AnnualSalary': n_x1, \n",
    "#        'AccountBalance': n_x2,\n",
    "#        'u1': u1,\n",
    "#        'u2': u2,\n",
    "#        'Gender': A}\n",
    "# org_df = pd.DataFrame(n_d)\n",
    "\n",
    "# org_df.head(5)"
   ]
  },
  {
   "cell_type": "markdown",
   "metadata": {},
   "source": [
    "### Generate the counterfactual dataset $\\mathcal{D}^{DF}$"
   ]
  },
  {
   "cell_type": "code",
   "execution_count": 4,
   "metadata": {},
   "outputs": [],
   "source": [
    "# define the list of features\n",
    "feat_trgt = ['LoanApproval']\n",
    "feat_rlvt = ['AnnualSalary', 'AccountBalance']\n",
    "feat_prot = ['Gender']\n",
    "do = {'Gender': 0} # female to male\n",
    "df = org_df[feat_trgt + feat_rlvt + feat_prot].copy()"
   ]
  },
  {
   "cell_type": "code",
   "execution_count": 5,
   "metadata": {},
   "outputs": [
    {
     "data": {
      "text/html": [
       "<div>\n",
       "<style scoped>\n",
       "    .dataframe tbody tr th:only-of-type {\n",
       "        vertical-align: middle;\n",
       "    }\n",
       "\n",
       "    .dataframe tbody tr th {\n",
       "        vertical-align: top;\n",
       "    }\n",
       "\n",
       "    .dataframe thead th {\n",
       "        text-align: right;\n",
       "    }\n",
       "</style>\n",
       "<table border=\"1\" class=\"dataframe\">\n",
       "  <thead>\n",
       "    <tr style=\"text-align: right;\">\n",
       "      <th></th>\n",
       "      <th>LoanApproval</th>\n",
       "      <th>AnnualSalary</th>\n",
       "      <th>AccountBalance</th>\n",
       "      <th>Gender</th>\n",
       "    </tr>\n",
       "  </thead>\n",
       "  <tbody>\n",
       "    <tr>\n",
       "      <th>0</th>\n",
       "      <td>-1.0</td>\n",
       "      <td>35000</td>\n",
       "      <td>7947.678090</td>\n",
       "      <td>1</td>\n",
       "    </tr>\n",
       "    <tr>\n",
       "      <th>1</th>\n",
       "      <td>1.0</td>\n",
       "      <td>120000</td>\n",
       "      <td>36940.097383</td>\n",
       "      <td>0</td>\n",
       "    </tr>\n",
       "    <tr>\n",
       "      <th>2</th>\n",
       "      <td>-1.0</td>\n",
       "      <td>90000</td>\n",
       "      <td>23564.129008</td>\n",
       "      <td>0</td>\n",
       "    </tr>\n",
       "    <tr>\n",
       "      <th>3</th>\n",
       "      <td>-1.0</td>\n",
       "      <td>80000</td>\n",
       "      <td>27596.570524</td>\n",
       "      <td>0</td>\n",
       "    </tr>\n",
       "    <tr>\n",
       "      <th>4</th>\n",
       "      <td>1.0</td>\n",
       "      <td>201000</td>\n",
       "      <td>59008.567839</td>\n",
       "      <td>1</td>\n",
       "    </tr>\n",
       "  </tbody>\n",
       "</table>\n",
       "</div>"
      ],
      "text/plain": [
       "   LoanApproval  AnnualSalary  AccountBalance  Gender\n",
       "0          -1.0         35000     7947.678090       1\n",
       "1           1.0        120000    36940.097383       0\n",
       "2          -1.0         90000    23564.129008       0\n",
       "3          -1.0         80000    27596.570524       0\n",
       "4           1.0        201000    59008.567839       1"
      ]
     },
     "execution_count": 5,
     "metadata": {},
     "output_type": "execute_result"
    }
   ],
   "source": [
    "df.head(5)"
   ]
  },
  {
   "cell_type": "code",
   "execution_count": 6,
   "metadata": {},
   "outputs": [],
   "source": [
    "# store counterfactual df\n",
    "cf_df = dict()"
   ]
  },
  {
   "cell_type": "code",
   "execution_count": 7,
   "metadata": {},
   "outputs": [
    {
     "data": {
      "text/plain": [
       "LinearRegression()"
      ]
     },
     "execution_count": 7,
     "metadata": {},
     "output_type": "execute_result"
    }
   ],
   "source": [
    "# 1) estimate each f in M where needed according to the known causal graph:\n",
    "\n",
    "# 1.1) create model objects\n",
    "# f for AnnualSalary\n",
    "model_sal = LinearRegression(fit_intercept=True, normalize=False)\n",
    "# f for AccountBalance\n",
    "model_acc = LinearRegression(fit_intercept=True, normalize=False)\n",
    "\n",
    "# 1.2) prepare data for the models\n",
    "# f for Salary\n",
    "x_sal = np.array(df['Gender'].copy()).reshape((-1, 1))\n",
    "y_sal = np.array(df['AnnualSalary'].copy())\n",
    "# f for Account\n",
    "x_acc = np.array(df[['AnnualSalary', 'Gender']].copy())#.reshape((-1, 1))\n",
    "y_acc = np.array(df['AccountBalance'].copy())\n",
    "\n",
    "# 1.3) estimate the models\n",
    "model_sal.fit(x_sal, y_sal)\n",
    "model_acc.fit(x_acc, y_acc)"
   ]
  },
  {
   "cell_type": "code",
   "execution_count": 8,
   "metadata": {},
   "outputs": [],
   "source": [
    "# 2) generate the (structural) counterfactuals (cf) for X using Pearl's abduction, action, prediction steps:\n",
    "\n",
    "# 2.1) Abduction (or individual error terms given each f)\n",
    "cf_df['u_AnnualSalary'] = round(df['AnnualSalary'] - model_sal.predict(x_sal), 2)\n",
    "cf_df['u_AccountBalance'] = round(df['AccountBalance'] - model_acc.predict(x_acc), 2)\n",
    "cf_df = pd.DataFrame.from_dict(cf_df)\n",
    "\n",
    "# 2.2) Action + Prediction (X-wise): here, we focus on being female (the protected group)\n",
    "do_male = np.repeat(0, repeats=df.shape[0]).reshape((-1, 1))\n",
    "cf_df['AnnualSalary'] = round(model_sal.predict(do_male) + cf_df['u_AnnualSalary'], 2)\n",
    "do_male2 = cf_df[['AnnualSalary']].copy()\n",
    "do_male2['Gender'] = do_male\n",
    "cf_df['AccountBalance'] = round(model_acc.predict(do_male2) + cf_df['u_AccountBalance'], 2)"
   ]
  },
  {
   "cell_type": "code",
   "execution_count": 9,
   "metadata": {},
   "outputs": [],
   "source": [
    "# 3) Prediction (Y-wise): Generate cf_Y (when b is known)\n",
    "\n",
    "# b params\n",
    "beta_0 = 225000\n",
    "beta_1 = (3/10)\n",
    "beta_2 = 5\n",
    "# b functional form\n",
    "cf_df['LoanApproval'] = np.sign(cf_df['AnnualSalary'] + beta_2*cf_df['AccountBalance'] - beta_0)\n",
    "\n",
    "# keep track of A (i.e., original gender)\n",
    "cf_df['Gender'] = df['Gender']\n",
    "# lose the U's\n",
    "cf_df = cf_df[feat_trgt + feat_rlvt + feat_prot]"
   ]
  },
  {
   "cell_type": "code",
   "execution_count": 10,
   "metadata": {},
   "outputs": [
    {
     "data": {
      "text/html": [
       "<div>\n",
       "<style scoped>\n",
       "    .dataframe tbody tr th:only-of-type {\n",
       "        vertical-align: middle;\n",
       "    }\n",
       "\n",
       "    .dataframe tbody tr th {\n",
       "        vertical-align: top;\n",
       "    }\n",
       "\n",
       "    .dataframe thead th {\n",
       "        text-align: right;\n",
       "    }\n",
       "</style>\n",
       "<table border=\"1\" class=\"dataframe\">\n",
       "  <thead>\n",
       "    <tr style=\"text-align: right;\">\n",
       "      <th></th>\n",
       "      <th>LoanApproval</th>\n",
       "      <th>AnnualSalary</th>\n",
       "      <th>AccountBalance</th>\n",
       "      <th>Gender</th>\n",
       "    </tr>\n",
       "  </thead>\n",
       "  <tbody>\n",
       "    <tr>\n",
       "      <th>0</th>\n",
       "      <td>-1.0</td>\n",
       "      <td>50796.35</td>\n",
       "      <td>13852.05</td>\n",
       "      <td>1</td>\n",
       "    </tr>\n",
       "    <tr>\n",
       "      <th>1</th>\n",
       "      <td>1.0</td>\n",
       "      <td>120000.00</td>\n",
       "      <td>36940.10</td>\n",
       "      <td>0</td>\n",
       "    </tr>\n",
       "    <tr>\n",
       "      <th>2</th>\n",
       "      <td>-1.0</td>\n",
       "      <td>90000.00</td>\n",
       "      <td>23564.13</td>\n",
       "      <td>0</td>\n",
       "    </tr>\n",
       "    <tr>\n",
       "      <th>3</th>\n",
       "      <td>-1.0</td>\n",
       "      <td>80000.00</td>\n",
       "      <td>27596.57</td>\n",
       "      <td>0</td>\n",
       "    </tr>\n",
       "    <tr>\n",
       "      <th>4</th>\n",
       "      <td>1.0</td>\n",
       "      <td>216796.35</td>\n",
       "      <td>64912.94</td>\n",
       "      <td>1</td>\n",
       "    </tr>\n",
       "  </tbody>\n",
       "</table>\n",
       "</div>"
      ],
      "text/plain": [
       "   LoanApproval  AnnualSalary  AccountBalance  Gender\n",
       "0          -1.0      50796.35        13852.05       1\n",
       "1           1.0     120000.00        36940.10       0\n",
       "2          -1.0      90000.00        23564.13       0\n",
       "3          -1.0      80000.00        27596.57       0\n",
       "4           1.0     216796.35        64912.94       1"
      ]
     },
     "execution_count": 10,
     "metadata": {},
     "output_type": "execute_result"
    }
   ],
   "source": [
    "cf_df.head(5)"
   ]
  },
  {
   "cell_type": "code",
   "execution_count": 22,
   "metadata": {},
   "outputs": [
    {
     "data": {
      "text/plain": [
       "216796.35"
      ]
     },
     "execution_count": 22,
     "metadata": {},
     "output_type": "execute_result"
    }
   ],
   "source": [
    "max(cf_df[cf_df['Gender']==1]['AnnualSalary'])"
   ]
  },
  {
   "cell_type": "code",
   "execution_count": 39,
   "metadata": {},
   "outputs": [
    {
     "data": {
      "text/plain": [
       "Text(0.5, 0, 'Annual salary ($X1$) for females')"
      ]
     },
     "execution_count": 39,
     "metadata": {},
     "output_type": "execute_result"
    },
    {
     "data": {
      "image/png": "[encoded data removed]",
      "text/plain": [
       "<Figure size 432x288 with 1 Axes>"
      ]
     },
     "metadata": {},
     "output_type": "display_data"
    }
   ],
   "source": [
    "# distributions for paper: X1\n",
    "b = 100\n",
    "plt.hist(df[df['Gender']==1]['AnnualSalary'], bins = b, alpha=0.9, label=r'$X_1^F$')\n",
    "plt.hist(cf_df[cf_df['Gender']==1]['AnnualSalary'], bins = b, alpha=0.7, label=r'$X_1^{CF}$')\n",
    "plt.legend(loc='upper right')\n",
    "\n",
    "#plt.title('Annual salary for females')\n",
    "plt.ylabel('Frequency')\n",
    "plt.xlabel(r'Annual salary ($X1$) for females')"
   ]
  },
  {
   "cell_type": "code",
   "execution_count": 38,
   "metadata": {},
   "outputs": [
    {
     "data": {
      "text/plain": [
       "Text(0.5, 0, 'Account balance ($X_2$) for females')"
      ]
     },
     "execution_count": 38,
     "metadata": {},
     "output_type": "execute_result"
    },
    {
     "data": {
      "image/png": "[encoded data removed]",
      "text/plain": [
       "<Figure size 432x288 with 1 Axes>"
      ]
     },
     "metadata": {},
     "output_type": "display_data"
    }
   ],
   "source": [
    "# distributions for paper: X2\n",
    "b = 100\n",
    "plt.hist(df[df['Gender']==1]['AccountBalance'], bins=b, alpha=0.9, label=r'$X_2^F$')\n",
    "plt.hist(cf_df[cf_df['Gender']==1]['AccountBalance'], bins=b, alpha=0.7, label=r'$X_2^{CF}$')\n",
    "plt.legend(loc='upper right')\n",
    "\n",
    "#plt.title(r'Account balance for females')\n",
    "plt.ylabel('Frequency')\n",
    "plt.xlabel(r'Account balance ($X_2$) for females')"
   ]
  },
  {
   "cell_type": "markdown",
   "metadata": {},
   "source": [
    "### Run cfST"
   ]
  },
  {
   "cell_type": "code",
   "execution_count": 11,
   "metadata": {},
   "outputs": [],
   "source": [
    "# load functions locally\n",
    "from src.cf_situation_testing import get_k_neighbors, get_wald_ci"
   ]
  },
  {
   "cell_type": "code",
   "execution_count": 21,
   "metadata": {},
   "outputs": [],
   "source": [
    "# cfST parameters:\n",
    "\n",
    "# target feature\n",
    "feat_trgt = 'LoanApproval'\n",
    "# values for the target feature: use 'pos' and 'neg' accordingly\n",
    "feat_trgt_vals = {'pos': 1, 'neg': -1}\n",
    "# list of relevant features\n",
    "feat_rlvt = ['AnnualSalary', 'AccountBalance']\n",
    "# protected feature\n",
    "feat_prot = 'Gender'\n",
    "# values for the protected feature: use 'non_protected' and 'protected' accordingly\n",
    "feat_prot_vals = {'non_protected': 0, 'protected': 1}\n",
    "\n",
    "# size of neiuborhoods\n",
    "n = 15\n",
    "# distance function\n",
    "d = 'manhattan'\n",
    "# weighted k-NN?\n",
    "weights = None # else, e.g., weights = {'AnnualSalary': 5, 'AccountBalance': 1}\n",
    "# standardize features?\n",
    "standardize = True\n",
    "# significance level (over 100)\n",
    "alpha = 0.05\n",
    "# tau diviation\n",
    "tau = 0.0"
   ]
  },
  {
   "cell_type": "code",
   "execution_count": 22,
   "metadata": {},
   "outputs": [
    {
     "data": {
      "text/plain": [
       "1712"
      ]
     },
     "execution_count": 22,
     "metadata": {},
     "output_type": "execute_result"
    }
   ],
   "source": [
    "# # total factual datset size\n",
    "# df.shape[0]\n",
    "# # total counterfactual datset size\n",
    "# cf_df.shape[0]\n",
    "\n",
    "# number of eligible complainants:\n",
    "df[df['Gender'] == 1].shape[0]"
   ]
  },
  {
   "cell_type": "code",
   "execution_count": 23,
   "metadata": {},
   "outputs": [
    {
     "name": "stdout",
     "output_type": "stream",
     "text": [
      "target feature LoanApproval with values {'pos': 1, 'neg': -1}\n",
      "protected feature Gender with values {'non_protected': 0, 'protected': 1}\n",
      "with relevant features ['AnnualSalary', 'AccountBalance']\n",
      "all features: ['LoanApproval', 'AnnualSalary', 'AccountBalance', 'Gender']\n",
      "===> standardizing\n",
      "done\n"
     ]
    }
   ],
   "source": [
    "# get control and test neighborhoods \n",
    "dict_df_neighbors = get_k_neighbors(df=df, cf_df=cf_df, k=n, \n",
    "                                    feat_trgt=feat_trgt, feat_trgt_vals=feat_trgt_vals, \n",
    "                                    feat_rlvt=feat_rlvt, \n",
    "                                    feat_prot=feat_prot, feat_prot_vals=feat_prot_vals, \n",
    "                                    standardize=standardize,\n",
    "                                    weights=weights\n",
    "                                   )\n",
    "print('done')"
   ]
  },
  {
   "cell_type": "code",
   "execution_count": 14,
   "metadata": {},
   "outputs": [],
   "source": [
    "# each item is an eligible complainant and has a 'control' and 'test' groups as dataframes: from df, tuple 0 is female \n",
    "# dict_df_neighbors[0]"
   ]
  },
  {
   "cell_type": "code",
   "execution_count": 24,
   "metadata": {},
   "outputs": [
    {
     "name": "stdout",
     "output_type": "stream",
     "text": [
      "using significance level of 5.0%\n",
      "using tau-deviation of 0.0\n",
      "done\n"
     ]
    }
   ],
   "source": [
    "# prove discrimination via Wald CIs\n",
    "test_disc = get_wald_ci(dict_df_neighbors=dict_df_neighbors,\n",
    "                        feat_trgt=feat_trgt, feat_trgt_vals=feat_trgt_vals,\n",
    "                        alpha=alpha,\n",
    "                        tau=tau\n",
    "                       )\n",
    "print('done')"
   ]
  },
  {
   "cell_type": "code",
   "execution_count": 25,
   "metadata": {},
   "outputs": [
    {
     "data": {
      "text/html": [
       "<div>\n",
       "<style scoped>\n",
       "    .dataframe tbody tr th:only-of-type {\n",
       "        vertical-align: middle;\n",
       "    }\n",
       "\n",
       "    .dataframe tbody tr th {\n",
       "        vertical-align: top;\n",
       "    }\n",
       "\n",
       "    .dataframe thead th {\n",
       "        text-align: right;\n",
       "    }\n",
       "</style>\n",
       "<table border=\"1\" class=\"dataframe\">\n",
       "  <thead>\n",
       "    <tr style=\"text-align: right;\">\n",
       "      <th></th>\n",
       "      <th>individual</th>\n",
       "      <th>p1</th>\n",
       "      <th>p2</th>\n",
       "      <th>org_diff</th>\n",
       "      <th>d_alpha</th>\n",
       "      <th>diff</th>\n",
       "      <th>CIs</th>\n",
       "      <th>cfST</th>\n",
       "    </tr>\n",
       "  </thead>\n",
       "  <tbody>\n",
       "    <tr>\n",
       "      <th>0</th>\n",
       "      <td>0</td>\n",
       "      <td>1.0000</td>\n",
       "      <td>1.0</td>\n",
       "      <td>0.000</td>\n",
       "      <td>0.00000</td>\n",
       "      <td>0.0</td>\n",
       "      <td>[0.0, 0.0]</td>\n",
       "      <td>No</td>\n",
       "    </tr>\n",
       "    <tr>\n",
       "      <th>1</th>\n",
       "      <td>4</td>\n",
       "      <td>0.0000</td>\n",
       "      <td>0.0</td>\n",
       "      <td>0.000</td>\n",
       "      <td>0.00000</td>\n",
       "      <td>0.0</td>\n",
       "      <td>[0.0, 0.0]</td>\n",
       "      <td>No</td>\n",
       "    </tr>\n",
       "    <tr>\n",
       "      <th>2</th>\n",
       "      <td>5</td>\n",
       "      <td>0.0625</td>\n",
       "      <td>0.0</td>\n",
       "      <td>0.062</td>\n",
       "      <td>0.11861</td>\n",
       "      <td>0.0</td>\n",
       "      <td>[-0.05611011497760214, 0.18111011497760215]</td>\n",
       "      <td>Yes</td>\n",
       "    </tr>\n",
       "    <tr>\n",
       "      <th>3</th>\n",
       "      <td>6</td>\n",
       "      <td>1.0000</td>\n",
       "      <td>1.0</td>\n",
       "      <td>0.000</td>\n",
       "      <td>0.00000</td>\n",
       "      <td>0.0</td>\n",
       "      <td>[0.0, 0.0]</td>\n",
       "      <td>No</td>\n",
       "    </tr>\n",
       "    <tr>\n",
       "      <th>4</th>\n",
       "      <td>9</td>\n",
       "      <td>1.0000</td>\n",
       "      <td>0.0</td>\n",
       "      <td>1.000</td>\n",
       "      <td>0.00000</td>\n",
       "      <td>1.0</td>\n",
       "      <td>[1.0, 1.0]</td>\n",
       "      <td>Yes</td>\n",
       "    </tr>\n",
       "  </tbody>\n",
       "</table>\n",
       "</div>"
      ],
      "text/plain": [
       "   individual      p1   p2  org_diff  d_alpha  diff  \\\n",
       "0           0  1.0000  1.0     0.000  0.00000   0.0   \n",
       "1           4  0.0000  0.0     0.000  0.00000   0.0   \n",
       "2           5  0.0625  0.0     0.062  0.11861   0.0   \n",
       "3           6  1.0000  1.0     0.000  0.00000   0.0   \n",
       "4           9  1.0000  0.0     1.000  0.00000   1.0   \n",
       "\n",
       "                                           CIs cfST  \n",
       "0                                   [0.0, 0.0]   No  \n",
       "1                                   [0.0, 0.0]   No  \n",
       "2  [-0.05611011497760214, 0.18111011497760215]  Yes  \n",
       "3                                   [0.0, 0.0]   No  \n",
       "4                                   [1.0, 1.0]  Yes  "
      ]
     },
     "execution_count": 25,
     "metadata": {},
     "output_type": "execute_result"
    }
   ],
   "source": [
    "# column cfST indicates the discrimination output:\n",
    "test_disc.head(5)"
   ]
  },
  {
   "cell_type": "code",
   "execution_count": 26,
   "metadata": {},
   "outputs": [
    {
     "data": {
      "text/plain": [
       "440"
      ]
     },
     "execution_count": 26,
     "metadata": {},
     "output_type": "execute_result"
    }
   ],
   "source": [
    "# number of discriminated inds:\n",
    "test_disc[test_disc['cfST'] == 'Yes'].shape[0]"
   ]
  },
  {
   "cell_type": "code",
   "execution_count": 33,
   "metadata": {},
   "outputs": [
    {
     "name": "stdout",
     "output_type": "stream",
     "text": [
      "target feature LoanApproval with values {'pos': 1, 'neg': -1}\n",
      "protected feature Gender with values {'non_protected': 0, 'protected': 1}\n",
      "with relevant features ['AnnualSalary', 'AccountBalance']\n",
      "all features: ['LoanApproval', 'AnnualSalary', 'AccountBalance', 'Gender']\n",
      "===> standardizing\n",
      "done 1\n",
      "using significance level of 5.0%\n",
      "using tau-deviation of 0.0\n",
      "done 2\n",
      "k = 15\n",
      "number of discrimination cases = 440\n",
      "in perc = 25.70093457943925\n",
      "target feature LoanApproval with values {'pos': 1, 'neg': -1}\n",
      "protected feature Gender with values {'non_protected': 0, 'protected': 1}\n",
      "with relevant features ['AnnualSalary', 'AccountBalance']\n",
      "all features: ['LoanApproval', 'AnnualSalary', 'AccountBalance', 'Gender']\n",
      "===> standardizing\n",
      "done 1\n",
      "using significance level of 5.0%\n",
      "using tau-deviation of 0.0\n",
      "done 2\n",
      "k = 30\n",
      "number of discrimination cases = 461\n",
      "in perc = 26.92757009345794\n",
      "target feature LoanApproval with values {'pos': 1, 'neg': -1}\n",
      "protected feature Gender with values {'non_protected': 0, 'protected': 1}\n",
      "with relevant features ['AnnualSalary', 'AccountBalance']\n",
      "all features: ['LoanApproval', 'AnnualSalary', 'AccountBalance', 'Gender']\n",
      "===> standardizing\n",
      "done 1\n",
      "using significance level of 5.0%\n",
      "using tau-deviation of 0.0\n",
      "done 2\n",
      "k = 50\n",
      "number of discrimination cases = 490\n",
      "in perc = 28.621495327102803\n",
      "target feature LoanApproval with values {'pos': 1, 'neg': -1}\n",
      "protected feature Gender with values {'non_protected': 0, 'protected': 1}\n",
      "with relevant features ['AnnualSalary', 'AccountBalance']\n",
      "all features: ['LoanApproval', 'AnnualSalary', 'AccountBalance', 'Gender']\n",
      "===> standardizing\n",
      "done 1\n",
      "using significance level of 5.0%\n",
      "using tau-deviation of 0.0\n",
      "done 2\n",
      "k = 100\n",
      "number of discrimination cases = 539\n",
      "in perc = 31.483644859813083\n",
      "done\n"
     ]
    }
   ],
   "source": [
    "# results for Table 1\n",
    "for new_k in [15, 30, 50, 100]:\n",
    "    \n",
    "    temp_dict_df_neighbors = get_k_neighbors(df=df, cf_df=cf_df, \n",
    "                                             k=new_k, \n",
    "                                             feat_trgt=feat_trgt, feat_trgt_vals=feat_trgt_vals, \n",
    "                                             feat_rlvt=feat_rlvt, \n",
    "                                             feat_prot=feat_prot, feat_prot_vals=feat_prot_vals, \n",
    "                                             standardize=standardize,\n",
    "                                             weights=weights\n",
    "                                            )\n",
    "    print('done 1')\n",
    "    temp_test_disc = get_wald_ci(dict_df_neighbors=temp_dict_df_neighbors,\n",
    "                                 feat_trgt=feat_trgt, feat_trgt_vals=feat_trgt_vals,\n",
    "                                 alpha=alpha,\n",
    "                                 tau=tau\n",
    "                                )\n",
    "    print('done 2')\n",
    "    \n",
    "    print(f\"k = {new_k}\")\n",
    "    print(f\"number of discrimination cases = {temp_test_disc[temp_test_disc['cfST'] == 'Yes'].shape[0]}\")\n",
    "#     print(f\"in perc = {temp_test_disc[temp_test_disc['cfST'] == 'Yes'].shape[0] / df.shape[0] * 100}\")\n",
    "    print(f\"in perc = {temp_test_disc[temp_test_disc['cfST'] == 'Yes'].shape[0] / temp_test_disc.shape[0] * 100}\")\n",
    "    \n",
    "    del temp_dict_df_neighbors, temp_test_disc\n",
    "\n",
    "print('done')"
   ]
  },
  {
   "cell_type": "markdown",
   "metadata": {},
   "source": [
    "### Run k-NN ST"
   ]
  },
  {
   "cell_type": "code",
   "execution_count": 48,
   "metadata": {},
   "outputs": [],
   "source": [
    "# load functions locally\n",
    "import src.dd as dd"
   ]
  },
  {
   "cell_type": "code",
   "execution_count": 50,
   "metadata": {},
   "outputs": [],
   "source": [
    "# reload factual data (no need to use the counterfactuals)\n",
    "df = pd.read_csv(data_path + 'Karimi2020_v2.csv', sep='|', )\n",
    "del df['u1']\n",
    "del df['u2']\n",
    "# for 'convinience' make 'Gender' var explicit\n",
    "df['Gender'] = df['Gender'].map({0: 'Male', 1: 'Female'})"
   ]
  },
  {
   "cell_type": "code",
   "execution_count": 51,
   "metadata": {},
   "outputs": [
    {
     "name": "stdout",
     "output_type": "stream",
     "text": [
      "['Gender', 'AnnualSalary', 'AccountBalance']\n",
      "['Gender', 'AnnualSalary', 'AccountBalance', 'LoanApproval']\n"
     ]
    }
   ],
   "source": [
    "# nominal-ordinal-continuous partition of predictive attributes (required for distance functions)\n",
    "nominal_atts = ['Gender']\n",
    "ordinal_atts = []\n",
    "continuous_atts = ['AnnualSalary', 'AccountBalance']\n",
    "\n",
    "# encoding of ordinal attributes as integers plus (optional) encoding of nominal/target attributes\n",
    "decode = {\n",
    "    'Gender': {0: 'Male', 1: 'Female'},\n",
    "    'LoanApproval': {0: -1.0, 1: 1.0}\n",
    "    }\n",
    "\n",
    "# predictive attributes (for models)\n",
    "target = 'LoanApproval'\n",
    "pred_atts = nominal_atts + ordinal_atts + continuous_atts\n",
    "print(pred_atts)\n",
    "pred_all = pred_atts + [target]\n",
    "print(pred_all)\n",
    "\n",
    "# protected/unprotected groups attribute\n",
    "sensitive_att = 'Gender'"
   ]
  },
  {
   "cell_type": "code",
   "execution_count": 52,
   "metadata": {},
   "outputs": [
    {
     "data": {
      "text/html": [
       "<div>\n",
       "<style scoped>\n",
       "    .dataframe tbody tr th:only-of-type {\n",
       "        vertical-align: middle;\n",
       "    }\n",
       "\n",
       "    .dataframe tbody tr th {\n",
       "        vertical-align: top;\n",
       "    }\n",
       "\n",
       "    .dataframe thead th {\n",
       "        text-align: right;\n",
       "    }\n",
       "</style>\n",
       "<table border=\"1\" class=\"dataframe\">\n",
       "  <thead>\n",
       "    <tr style=\"text-align: right;\">\n",
       "      <th></th>\n",
       "      <th>Gender</th>\n",
       "      <th>LoanApproval</th>\n",
       "      <th>AccountBalance</th>\n",
       "      <th>AnnualSalary</th>\n",
       "    </tr>\n",
       "  </thead>\n",
       "  <tbody>\n",
       "    <tr>\n",
       "      <th>0</th>\n",
       "      <td>1</td>\n",
       "      <td>0</td>\n",
       "      <td>7947.678090</td>\n",
       "      <td>35000</td>\n",
       "    </tr>\n",
       "    <tr>\n",
       "      <th>1</th>\n",
       "      <td>0</td>\n",
       "      <td>1</td>\n",
       "      <td>36940.097383</td>\n",
       "      <td>120000</td>\n",
       "    </tr>\n",
       "    <tr>\n",
       "      <th>2</th>\n",
       "      <td>0</td>\n",
       "      <td>0</td>\n",
       "      <td>23564.129008</td>\n",
       "      <td>90000</td>\n",
       "    </tr>\n",
       "    <tr>\n",
       "      <th>3</th>\n",
       "      <td>0</td>\n",
       "      <td>0</td>\n",
       "      <td>27596.570524</td>\n",
       "      <td>80000</td>\n",
       "    </tr>\n",
       "    <tr>\n",
       "      <th>4</th>\n",
       "      <td>1</td>\n",
       "      <td>1</td>\n",
       "      <td>59008.567839</td>\n",
       "      <td>201000</td>\n",
       "    </tr>\n",
       "  </tbody>\n",
       "</table>\n",
       "</div>"
      ],
      "text/plain": [
       "  Gender LoanApproval  AccountBalance  AnnualSalary\n",
       "0      1            0     7947.678090         35000\n",
       "1      0            1    36940.097383        120000\n",
       "2      0            0    23564.129008         90000\n",
       "3      0            0    27596.570524         80000\n",
       "4      1            1    59008.567839        201000"
      ]
     },
     "execution_count": 52,
     "metadata": {},
     "output_type": "execute_result"
    }
   ],
   "source": [
    "# encode nominal, ordinal, and target attribute\n",
    "df_code = dd.Encode(nominal_atts + ordinal_atts + [target], decode)\n",
    "df = df_code.fit_transform(df)\n",
    "# set ordinal type as int (instead of category)\n",
    "df[ordinal_atts] = df[ordinal_atts].astype(int)\n",
    "\n",
    "df.head(5)"
   ]
  },
  {
   "cell_type": "code",
   "execution_count": 53,
   "metadata": {},
   "outputs": [
    {
     "data": {
      "text/plain": [
       "{'Gender': {0: 'Male', 1: 'Female'}, 'LoanApproval': {0: -1.0, 1: 1.0}}"
      ]
     },
     "execution_count": 53,
     "metadata": {},
     "output_type": "execute_result"
    }
   ],
   "source": [
    "# dictionary of encodings for each discrete column\n",
    "df_code.decode"
   ]
  },
  {
   "cell_type": "code",
   "execution_count": 54,
   "metadata": {},
   "outputs": [],
   "source": [
    "# create new df for storing k-nn ST\n",
    "df2 = df.copy()"
   ]
  },
  {
   "cell_type": "code",
   "execution_count": 56,
   "metadata": {},
   "outputs": [],
   "source": [
    "# number of neighbors\n",
    "k = 15\n",
    "\n",
    "# object for indvidual discrimination analysis\n",
    "dist = dd.ID(df, nominal_atts, continuous_atts, ordinal_atts)\n",
    "\n",
    "# protected attribute\n",
    "pro_att = 'Gender'\n",
    "unpro_val = df_code.encode['Gender']['Male']\n",
    "\n",
    "unpro_train = df2[sensitive_att]==unpro_val\n",
    "pro_train = df2[sensitive_att]!=unpro_val"
   ]
  },
  {
   "cell_type": "code",
   "execution_count": 58,
   "metadata": {},
   "outputs": [
    {
     "name": "stdout",
     "output_type": "stream",
     "text": [
      "done\n"
     ]
    }
   ],
   "source": [
    "# sets risk difference for target based on top-k neighbor instances\n",
    "df2['t'] = dist.topkdiff(df2, # dataframe\n",
    "                         unpro_train,      # unprotected\n",
    "                         pro_train,        # protected (could be a list)\n",
    "                         target+'=0',      # bad decision\n",
    "                         dist.kdd2011dist, # distance\n",
    "                         k)                # k-neighbors\n",
    "print('done')"
   ]
  },
  {
   "cell_type": "code",
   "execution_count": 61,
   "metadata": {},
   "outputs": [
    {
     "data": {
      "text/html": [
       "<div>\n",
       "<style scoped>\n",
       "    .dataframe tbody tr th:only-of-type {\n",
       "        vertical-align: middle;\n",
       "    }\n",
       "\n",
       "    .dataframe tbody tr th {\n",
       "        vertical-align: top;\n",
       "    }\n",
       "\n",
       "    .dataframe thead th {\n",
       "        text-align: right;\n",
       "    }\n",
       "</style>\n",
       "<table border=\"1\" class=\"dataframe\">\n",
       "  <thead>\n",
       "    <tr style=\"text-align: right;\">\n",
       "      <th></th>\n",
       "      <th>Gender</th>\n",
       "      <th>LoanApproval</th>\n",
       "      <th>AccountBalance</th>\n",
       "      <th>AnnualSalary</th>\n",
       "      <th>t</th>\n",
       "    </tr>\n",
       "  </thead>\n",
       "  <tbody>\n",
       "    <tr>\n",
       "      <th>0</th>\n",
       "      <td>1</td>\n",
       "      <td>0</td>\n",
       "      <td>7947.678090</td>\n",
       "      <td>35000</td>\n",
       "      <td>0.0</td>\n",
       "    </tr>\n",
       "    <tr>\n",
       "      <th>1</th>\n",
       "      <td>0</td>\n",
       "      <td>1</td>\n",
       "      <td>36940.097383</td>\n",
       "      <td>120000</td>\n",
       "      <td>0.0</td>\n",
       "    </tr>\n",
       "    <tr>\n",
       "      <th>2</th>\n",
       "      <td>0</td>\n",
       "      <td>0</td>\n",
       "      <td>23564.129008</td>\n",
       "      <td>90000</td>\n",
       "      <td>0.0</td>\n",
       "    </tr>\n",
       "    <tr>\n",
       "      <th>3</th>\n",
       "      <td>0</td>\n",
       "      <td>0</td>\n",
       "      <td>27596.570524</td>\n",
       "      <td>80000</td>\n",
       "      <td>0.0</td>\n",
       "    </tr>\n",
       "    <tr>\n",
       "      <th>4</th>\n",
       "      <td>1</td>\n",
       "      <td>1</td>\n",
       "      <td>59008.567839</td>\n",
       "      <td>201000</td>\n",
       "      <td>0.0</td>\n",
       "    </tr>\n",
       "  </tbody>\n",
       "</table>\n",
       "</div>"
      ],
      "text/plain": [
       "  Gender LoanApproval  AccountBalance  AnnualSalary    t\n",
       "0      1            0     7947.678090         35000  0.0\n",
       "1      0            1    36940.097383        120000  0.0\n",
       "2      0            0    23564.129008         90000  0.0\n",
       "3      0            0    27596.570524         80000  0.0\n",
       "4      1            1    59008.567839        201000  0.0"
      ]
     },
     "execution_count": 61,
     "metadata": {},
     "output_type": "execute_result"
    }
   ],
   "source": [
    "# column 't' is p1 - p2, of the diff\n",
    "df2.head(5)"
   ]
  },
  {
   "cell_type": "code",
   "execution_count": 64,
   "metadata": {},
   "outputs": [
    {
     "name": "stdout",
     "output_type": "stream",
     "text": [
      "55\n"
     ]
    }
   ],
   "source": [
    "tau = 0.0\n",
    "print(df2[df2['t'] > tau].shape[0])"
   ]
  },
  {
   "cell_type": "code",
   "execution_count": 65,
   "metadata": {},
   "outputs": [
    {
     "name": "stdout",
     "output_type": "stream",
     "text": [
      "k = 15\n",
      "number of discrimination cases = 55\n",
      "in perc = 3.212616822429906\n",
      "k = 30\n",
      "number of discrimination cases = 65\n",
      "in perc = 3.7967289719626165\n",
      "k = 50\n",
      "number of discrimination cases = 84\n",
      "in perc = 4.906542056074766\n",
      "k = 100\n",
      "number of discrimination cases = 107\n",
      "in perc = 6.25\n",
      "done\n"
     ]
    }
   ],
   "source": [
    "df3 = df.copy()\n",
    "\n",
    "for new_k in [15, 30, 50, 100]:\n",
    "    \n",
    "    temp_df = df3.copy()\n",
    "    \n",
    "    temp_df['t'] = dist.topkdiff(df3, # dataframe\n",
    "                                 unpro_train,      # unprotected\n",
    "                                 pro_train,        # protected (could be a list)\n",
    "                                 target+'=0',      # bad decision\n",
    "                                 dist.kdd2011dist, # distance\n",
    "                                 new_k)                # k-neighbors\n",
    "    \n",
    "    print(f\"k = {new_k}\")\n",
    "    print(f\"number of discrimination cases = {temp_df[temp_df['t'] > tau].shape[0]}\")\n",
    "#     print(f\"in perc = {temp_test_disc[temp_test_disc['cfST'] == 'Yes'].shape[0] / df.shape[0] * 100}\")\n",
    "    print(f\"in perc = {temp_df[temp_df['t'] > tau].shape[0] / temp_df[temp_df['Gender']==1].shape[0] * 100}\")\n",
    "    \n",
    "    del temp_df\n",
    "\n",
    "print('done')"
   ]
  },
  {
   "cell_type": "code",
   "execution_count": null,
   "metadata": {},
   "outputs": [],
   "source": []
  }
 ],
 "metadata": {
  "kernelspec": {
   "display_name": "Python 3",
   "language": "python",
   "name": "python3"
  },
  "language_info": {
   "codemirror_mode": {
    "name": "ipython",
    "version": 3
   },
   "file_extension": ".py",
   "mimetype": "text/x-python",
   "name": "python",
   "nbconvert_exporter": "python",
   "pygments_lexer": "ipython3",
   "version": "3.8.5"
  }
 },
 "nbformat": 4,
 "nbformat_minor": 4
}
