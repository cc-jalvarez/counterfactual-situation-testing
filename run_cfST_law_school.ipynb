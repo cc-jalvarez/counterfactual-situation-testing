{
 "cells": [
  {
   "cell_type": "code",
   "execution_count": 1,
   "metadata": {},
   "outputs": [],
   "source": [
    "%load_ext autoreload\n",
    "%autoreload 2\n",
    "import os\n",
    "import sys\n",
    "import random\n",
    "import pandas as pd\n",
    "import numpy as np\n",
    "import seaborn as sns\n",
    "import matplotlib.pyplot as plt\n",
    "# import seaborn as sns\n",
    "plt.style.use('seaborn-whitegrid')\n",
    "plt.rc('font', size=11)\n",
    "plt.rc('legend', fontsize=11)\n",
    "plt.rc('lines', linewidth=2)\n",
    "plt.rc('axes', linewidth=2)\n",
    "plt.rc('axes', edgecolor='k')\n",
    "plt.rc('xtick.major', width=2)\n",
    "plt.rc('xtick.major', size=6)\n",
    "plt.rc('ytick.major', width=2)\n",
    "plt.rc('ytick.major', size=6)\n",
    "plt.rc('pdf', fonttype=42)\n",
    "plt.rc('ps', fonttype=42)\n",
    "\n",
    "# absolute path to ST modules\n",
    "module_path = r'C:\\Users\\Jose Alvarez\\Documents\\Projects\\CounterfactualSituationTesting\\src'\n",
    "# module_path = os.path.abspath(os.path.join('../src')) # or the path to your source code\n",
    "sys.path.insert(0, module_path)\n",
    "# local files\n",
    "from src.situation_testing.situation_testing import SituationTesting"
   ]
  },
  {
   "cell_type": "code",
   "execution_count": 2,
   "metadata": {},
   "outputs": [],
   "source": [
    "# change data path accordingly\n",
    "data_path = os.getcwd() + '\\\\' + 'data' + '\\\\'\n",
    "resu_path = os.getcwd() + '\\\\' + 'results' + '\\\\'"
   ]
  },
  {
   "cell_type": "markdown",
   "metadata": {},
   "source": [
    "For this dataset, we can consider two high-level cases: under causal sufficiency and under a hidden confounder as done by Kusner et al. (2017).\n",
    "\n",
    "Tbh, the causal sufficient case is not that interesting... do it after the hidden confounder one.\n",
    "\n",
    "For each of these cases, we should:\n",
    "\n",
    "    - consider a the usual ST case: consider gender OR race;\n",
    "    \n",
    "    - consider the multiple discrimination case (gender AND race) as defined by lawyers - Xenedis (2018);\n",
    "    \n",
    "    - and potential consider the simple intersectional case (gender-race).\n",
    "    \n",
    "Also: we need to write the specific run methods for the last two!"
   ]
  },
  {
   "cell_type": "code",
   "execution_count": null,
   "metadata": {},
   "outputs": [],
   "source": []
  },
  {
   "cell_type": "markdown",
   "metadata": {},
   "source": [
    "### A 'known' decision maker\n",
    "\n",
    "To frame it as a (discrete) decision making process, we include an *admissions officer* based on [the \"known\" requirements of US Law Schools](https://schools.lawschoolnumbers.com/). We assume the case for Yale School. We could not find a one-to-one converter between LSAT over 48 to over 180. 173/180 is 96%; it would be abloud 46.1/48. Let's assume Yale cuts at these median values, and puts a slightly higher weight on UGPA over LSAT."
   ]
  },
  {
   "cell_type": "code",
   "execution_count": 1,
   "metadata": {},
   "outputs": [],
   "source": [
    "# Our decision maker:\n",
    "b1 = 0.6\n",
    "b2 = 0.4\n",
    "min_score = round(b1*3.93 + b2*46.1, 2)  # 20.8\n",
    "max_score = round(b1*4.00 + b2*48.00)    # 22"
   ]
  },
  {
   "cell_type": "code",
   "execution_count": null,
   "metadata": {},
   "outputs": [],
   "source": [
    "# # add it to the factuals\n",
    "# df['Score'] = b1*df['UGPA'] + b2*df['LSAT']\n",
    "# df['Y'] = np.where(df['Score'] >= min_score, 1, 0)\n",
    "# df.head(5)"
   ]
  },
  {
   "cell_type": "code",
   "execution_count": null,
   "metadata": {},
   "outputs": [],
   "source": []
  }
 ],
 "metadata": {
  "kernelspec": {
   "display_name": "Python 3",
   "language": "python",
   "name": "python3"
  },
  "language_info": {
   "codemirror_mode": {
    "name": "ipython",
    "version": 3
   },
   "file_extension": ".py",
   "mimetype": "text/x-python",
   "name": "python",
   "nbconvert_exporter": "python",
   "pygments_lexer": "ipython3",
   "version": "3.8.5"
  }
 },
 "nbformat": 4,
 "nbformat_minor": 4
}
