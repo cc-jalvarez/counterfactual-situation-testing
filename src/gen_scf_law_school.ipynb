{
 "cells": [
  {
   "cell_type": "markdown",
   "metadata": {},
   "source": [
    "This scrip generates the structural counterfactuals (SCF) for the Law School data. To frame it as a (discrete) decision making process, we include an *admissions officer* based on [the \"known\" requirements of US Law Schools](https://schools.lawschoolnumbers.com/). \n",
    "\n",
    "We assume the case for Yale School. We could not find a one-to-one converter between LSAT over 48 to over 180. 173/180 is 96%; it would be abloud 46.1/48. Let's assume Yale cuts at these median values, and puts a slightly higher weight on UGPA over LSAT."
   ]
  },
  {
   "cell_type": "code",
   "execution_count": 5,
   "metadata": {},
   "outputs": [],
   "source": [
    "# Our decision makaer:\n",
    "b1 = 0.6\n",
    "b2 = 0.4\n",
    "min_score = round(b1*3.93 + b2*46.1, 2)  # 20.8\n",
    "max_score = round(b1*4.00 + b2*48.00)  # 22"
   ]
  },
  {
   "cell_type": "code",
   "execution_count": null,
   "metadata": {},
   "outputs": [],
   "source": [
    "# data2['Score'] = b1*data2['UGPA'] + b2*data2['LSAT']\n",
    "# data2['Y'] = np.where(data2['Score'] >= min_score, 1, 0)\n",
    "# data2.head(5)"
   ]
  },
  {
   "cell_type": "code",
   "execution_count": 6,
   "metadata": {},
   "outputs": [],
   "source": [
    "import os\n",
    "import pandas as pd\n",
    "import numpy as np\n",
    "import matplotlib.pyplot as plt\n",
    "\n",
    "from scm_models.scm_law_school import LawSchool"
   ]
  },
  {
   "cell_type": "code",
   "execution_count": 7,
   "metadata": {},
   "outputs": [],
   "source": [
    "# set relevant paths\n",
    "wrk_dir = os.path.dirname(os.getcwd())\n",
    "data_path = wrk_dir + '\\\\' + 'data' + '\\\\'\n",
    "resu_path = wrk_dir + '\\\\' + 'results' + '\\\\'"
   ]
  },
  {
   "cell_type": "markdown",
   "metadata": {},
   "source": [
    "### Pooled U\n",
    "We focus on the same scenario as Kusner et al.: an unobserved confounder U (tbh, we could also not assume the confounder, but this way we show that, as long as we draw the confounder, we can proceed with cfST)."
   ]
  },
  {
   "cell_type": "code",
   "execution_count": 4,
   "metadata": {},
   "outputs": [
    {
     "name": "stdout",
     "output_type": "stream",
     "text": [
      "(10896, 7)\n",
      "['LSAT', 'UGPA', 'female', 'male', 'white', 'nonwhite', 'U']\n"
     ]
    },
    {
     "data": {
      "text/html": [
       "<div>\n",
       "<style scoped>\n",
       "    .dataframe tbody tr th:only-of-type {\n",
       "        vertical-align: middle;\n",
       "    }\n",
       "\n",
       "    .dataframe tbody tr th {\n",
       "        vertical-align: top;\n",
       "    }\n",
       "\n",
       "    .dataframe thead th {\n",
       "        text-align: right;\n",
       "    }\n",
       "</style>\n",
       "<table border=\"1\" class=\"dataframe\">\n",
       "  <thead>\n",
       "    <tr style=\"text-align: right;\">\n",
       "      <th></th>\n",
       "      <th>LSAT</th>\n",
       "      <th>UGPA</th>\n",
       "      <th>female</th>\n",
       "      <th>male</th>\n",
       "      <th>white</th>\n",
       "      <th>nonwhite</th>\n",
       "      <th>U</th>\n",
       "    </tr>\n",
       "  </thead>\n",
       "  <tbody>\n",
       "    <tr>\n",
       "      <th>2</th>\n",
       "      <td>36</td>\n",
       "      <td>3.0</td>\n",
       "      <td>1</td>\n",
       "      <td>0</td>\n",
       "      <td>1</td>\n",
       "      <td>0</td>\n",
       "      <td>-0.736926</td>\n",
       "    </tr>\n",
       "    <tr>\n",
       "      <th>3</th>\n",
       "      <td>30</td>\n",
       "      <td>3.1</td>\n",
       "      <td>0</td>\n",
       "      <td>1</td>\n",
       "      <td>1</td>\n",
       "      <td>0</td>\n",
       "      <td>-0.267031</td>\n",
       "    </tr>\n",
       "    <tr>\n",
       "      <th>4</th>\n",
       "      <td>39</td>\n",
       "      <td>2.2</td>\n",
       "      <td>0</td>\n",
       "      <td>1</td>\n",
       "      <td>0</td>\n",
       "      <td>1</td>\n",
       "      <td>-1.647028</td>\n",
       "    </tr>\n",
       "    <tr>\n",
       "      <th>5</th>\n",
       "      <td>37</td>\n",
       "      <td>3.4</td>\n",
       "      <td>1</td>\n",
       "      <td>0</td>\n",
       "      <td>1</td>\n",
       "      <td>0</td>\n",
       "      <td>0.118742</td>\n",
       "    </tr>\n",
       "    <tr>\n",
       "      <th>6</th>\n",
       "      <td>30</td>\n",
       "      <td>3.6</td>\n",
       "      <td>1</td>\n",
       "      <td>0</td>\n",
       "      <td>1</td>\n",
       "      <td>0</td>\n",
       "      <td>0.502870</td>\n",
       "    </tr>\n",
       "  </tbody>\n",
       "</table>\n",
       "</div>"
      ],
      "text/plain": [
       "   LSAT  UGPA  female  male  white  nonwhite         U\n",
       "2    36   3.0       1     0      1         0 -0.736926\n",
       "3    30   3.1       0     1      1         0 -0.267031\n",
       "4    39   2.2       0     1      0         1 -1.647028\n",
       "5    37   3.4       1     0      1         0  0.118742\n",
       "6    30   3.6       1     0      1         0  0.502870"
      ]
     },
     "execution_count": 4,
     "metadata": {},
     "output_type": "execute_result"
    }
   ],
   "source": [
    "prefix = 'pU'  # meaning causal sufficiency is violated (Kusner et al.'s case)\n",
    "\n",
    "# relevant vars list\n",
    "vlist_protected = ['female', 'male', 'white', 'nonwhite']\n",
    "vlist_latent = ['U']\n",
    "\n",
    "df = pd.read_csv(resu_path + f'{prefix}_upd_LawData.csv', sep='|')\n",
    "print(df.shape)\n",
    "print(df.columns.tolist())\n",
    "\n",
    "df.head(5)"
   ]
  },
  {
   "cell_type": "code",
   "execution_count": 6,
   "metadata": {},
   "outputs": [
    {
     "data": {
      "text/html": [
       "<div>\n",
       "<style scoped>\n",
       "    .dataframe tbody tr th:only-of-type {\n",
       "        vertical-align: middle;\n",
       "    }\n",
       "\n",
       "    .dataframe tbody tr th {\n",
       "        vertical-align: top;\n",
       "    }\n",
       "\n",
       "    .dataframe thead th {\n",
       "        text-align: right;\n",
       "    }\n",
       "</style>\n",
       "<table border=\"1\" class=\"dataframe\">\n",
       "  <thead>\n",
       "    <tr style=\"text-align: right;\">\n",
       "      <th></th>\n",
       "      <th>female</th>\n",
       "      <th>male</th>\n",
       "      <th>white</th>\n",
       "      <th>nonwhite</th>\n",
       "      <th>ugpa0</th>\n",
       "      <th>eta_u_ugpa</th>\n",
       "    </tr>\n",
       "  </thead>\n",
       "  <tbody>\n",
       "    <tr>\n",
       "      <th>0</th>\n",
       "      <td>0.77306</td>\n",
       "      <td>0.640014</td>\n",
       "      <td>0.938756</td>\n",
       "      <td>0.713025</td>\n",
       "      <td>1.621285</td>\n",
       "      <td>0.350264</td>\n",
       "    </tr>\n",
       "  </tbody>\n",
       "</table>\n",
       "</div>"
      ],
      "text/plain": [
       "    female      male     white  nonwhite     ugpa0  eta_u_ugpa\n",
       "0  0.77306  0.640014  0.938756  0.713025  1.621285    0.350264"
      ]
     },
     "execution_count": 6,
     "metadata": {},
     "output_type": "execute_result"
    }
   ],
   "source": [
    "# the beta coefficients for the UGPA path(s)\n",
    "ugpa_weights = pd.read_csv(resu_path + f'{prefix}_wUGPA_LawData.csv', sep='|')\n",
    "ugpa_weights"
   ]
  },
  {
   "cell_type": "code",
   "execution_count": 7,
   "metadata": {},
   "outputs": [
    {
     "data": {
      "text/html": [
       "<div>\n",
       "<style scoped>\n",
       "    .dataframe tbody tr th:only-of-type {\n",
       "        vertical-align: middle;\n",
       "    }\n",
       "\n",
       "    .dataframe tbody tr th {\n",
       "        vertical-align: top;\n",
       "    }\n",
       "\n",
       "    .dataframe thead th {\n",
       "        text-align: right;\n",
       "    }\n",
       "</style>\n",
       "<table border=\"1\" class=\"dataframe\">\n",
       "  <thead>\n",
       "    <tr style=\"text-align: right;\">\n",
       "      <th></th>\n",
       "      <th>female</th>\n",
       "      <th>male</th>\n",
       "      <th>white</th>\n",
       "      <th>nonwhite</th>\n",
       "      <th>lsat0</th>\n",
       "      <th>eta_u_lsat</th>\n",
       "    </tr>\n",
       "  </thead>\n",
       "  <tbody>\n",
       "    <tr>\n",
       "      <th>0</th>\n",
       "      <td>0.851098</td>\n",
       "      <td>0.867346</td>\n",
       "      <td>0.960812</td>\n",
       "      <td>0.823301</td>\n",
       "      <td>1.802908</td>\n",
       "      <td>0.032696</td>\n",
       "    </tr>\n",
       "  </tbody>\n",
       "</table>\n",
       "</div>"
      ],
      "text/plain": [
       "     female      male     white  nonwhite     lsat0  eta_u_lsat\n",
       "0  0.851098  0.867346  0.960812  0.823301  1.802908    0.032696"
      ]
     },
     "execution_count": 7,
     "metadata": {},
     "output_type": "execute_result"
    }
   ],
   "source": [
    "# the beta coefficients for the LSAT path(s)\n",
    "lsat_weights = pd.read_csv(resu_path + f'{prefix}_wLSAT_LawData.csv', sep='|')\n",
    "lsat_weights"
   ]
  },
  {
   "cell_type": "code",
   "execution_count": 8,
   "metadata": {},
   "outputs": [],
   "source": [
    "# check the diff files...\n",
    "ugpa_deltas = pd.read_csv(resu_path + f'{prefix}_delta_ugpa.csv', sep='|')"
   ]
  },
  {
   "cell_type": "code",
   "execution_count": 9,
   "metadata": {},
   "outputs": [
    {
     "data": {
      "text/plain": [
       "(array([3.510e+02, 3.256e+03, 4.400e+03, 2.352e+03, 4.970e+02, 3.800e+01,\n",
       "        1.000e+00, 0.000e+00, 0.000e+00, 1.000e+00]),\n",
       " array([-0.27671623, -0.16402471, -0.0513332 ,  0.06135832,  0.17404984,\n",
       "         0.28674136,  0.39943288,  0.51212439,  0.62481591,  0.73750743,\n",
       "         0.85019895]),\n",
       " <BarContainer object of 10 artists>)"
      ]
     },
     "execution_count": 9,
     "metadata": {},
     "output_type": "execute_result"
    },
    {
     "data": {
      "image/png": "[encoded data removed]",
      "text/plain": [
       "<Figure size 432x288 with 1 Axes>"
      ]
     },
     "metadata": {
      "needs_background": "light"
     },
     "output_type": "display_data"
    }
   ],
   "source": [
    "plt.hist(ugpa_deltas['delta'])"
   ]
  },
  {
   "cell_type": "code",
   "execution_count": 10,
   "metadata": {},
   "outputs": [],
   "source": [
    "lsat_deltas = pd.read_csv(resu_path + f'{prefix}_delta_lsat.csv', sep='|')"
   ]
  },
  {
   "cell_type": "code",
   "execution_count": 11,
   "metadata": {},
   "outputs": [
    {
     "data": {
      "text/plain": [
       "(array([  39.,  460., 1536., 2877., 3077., 1958.,  711.,  190.,   43.,\n",
       "           5.]),\n",
       " array([-15.75053364, -11.99623448,  -8.24193533,  -4.48763618,\n",
       "         -0.73333702,   3.02096213,   6.77526129,  10.52956044,\n",
       "         14.28385959,  18.03815875,  21.7924579 ]),\n",
       " <BarContainer object of 10 artists>)"
      ]
     },
     "execution_count": 11,
     "metadata": {},
     "output_type": "execute_result"
    },
    {
     "data": {
      "image/png": "[encoded data removed]",
      "text/plain": [
       "<Figure size 432x288 with 1 Axes>"
      ]
     },
     "metadata": {
      "needs_background": "light"
     },
     "output_type": "display_data"
    }
   ],
   "source": [
    "plt.hist(lsat_deltas['delta'])"
   ]
  },
  {
   "cell_type": "markdown",
   "metadata": {},
   "source": [
    "### Define the DAG for the Law Schoold data: $\\mathcal{G}$ is given"
   ]
  },
  {
   "cell_type": "code",
   "execution_count": 12,
   "metadata": {},
   "outputs": [
    {
     "data": {
      "text/plain": [
       "[('U', 'UGPA', 0.35026399476484804),\n",
       " ('U', 'LSAT', 0.0326959683105284),\n",
       " ('female', 'UGPA', 0.7730603366620609),\n",
       " ('male', 'UGPA', 0.6400142403982011),\n",
       " ('white', 'UGPA', 0.9387557544129591),\n",
       " ('nonwhite', 'UGPA', 0.7130248092744692),\n",
       " ('female', 'LSAT', 0.851097530659986),\n",
       " ('male', 'LSAT', 0.867345506707074),\n",
       " ('white', 'LSAT', 0.9608122538399481),\n",
       " ('nonwhite', 'LSAT', 0.823301257973325)]"
      ]
     },
     "execution_count": 12,
     "metadata": {},
     "output_type": "execute_result"
    }
   ],
   "source": [
    "dag_law_school = [('U', 'UGPA', ugpa_weights.loc[0, 'eta_u_ugpa']),\n",
    "                  ('U', 'LSAT', lsat_weights.loc[0, 'eta_u_lsat']),\n",
    "                  ('female', 'UGPA', ugpa_weights.loc[0, 'female']),\n",
    "                  ('male', 'UGPA', ugpa_weights.loc[0, 'male']),\n",
    "                  ('white', 'UGPA', ugpa_weights.loc[0, 'white']),\n",
    "                  ('nonwhite', 'UGPA', ugpa_weights.loc[0, 'nonwhite']),\n",
    "                  ('female', 'LSAT', lsat_weights.loc[0, 'female']),\n",
    "                  ('male', 'LSAT', lsat_weights.loc[0, 'male']),\n",
    "                  ('white', 'LSAT', lsat_weights.loc[0, 'white']),\n",
    "                  ('nonwhite', 'LSAT', lsat_weights.loc[0, 'nonwhite'])  \n",
    "                 ]\n",
    "dag_law_school"
   ]
  },
  {
   "cell_type": "code",
   "execution_count": 13,
   "metadata": {},
   "outputs": [],
   "source": [
    "# initiate the class LawSchool to get all the SCM methods (maybe too much for this...)\n",
    "law_school = LawSchool(dag_law_school, \n",
    "                       end_vars=['UGPA', 'LSAT'], \n",
    "                       exo_vars=['U'], )"
   ]
  },
  {
   "cell_type": "code",
   "execution_count": 14,
   "metadata": {},
   "outputs": [
    {
     "data": {
      "text/plain": [
       "['U', 'UGPA', 'LSAT', 'female', 'male', 'white', 'nonwhite']"
      ]
     },
     "execution_count": 14,
     "metadata": {},
     "output_type": "execute_result"
    }
   ],
   "source": [
    "law_school.nodes"
   ]
  },
  {
   "cell_type": "code",
   "execution_count": 15,
   "metadata": {},
   "outputs": [
    {
     "data": {
      "text/plain": [
       "{('U', 'UGPA'): 0.35026399476484804,\n",
       " ('U', 'LSAT'): 0.0326959683105284,\n",
       " ('female', 'UGPA'): 0.7730603366620609,\n",
       " ('male', 'UGPA'): 0.6400142403982011,\n",
       " ('white', 'UGPA'): 0.9387557544129591,\n",
       " ('nonwhite', 'UGPA'): 0.7130248092744692,\n",
       " ('female', 'LSAT'): 0.851097530659986,\n",
       " ('male', 'LSAT'): 0.867345506707074,\n",
       " ('white', 'LSAT'): 0.9608122538399481,\n",
       " ('nonwhite', 'LSAT'): 0.823301257973325}"
      ]
     },
     "execution_count": 15,
     "metadata": {},
     "output_type": "execute_result"
    }
   ],
   "source": [
    "law_school.weights"
   ]
  },
  {
   "cell_type": "code",
   "execution_count": 16,
   "metadata": {},
   "outputs": [
    {
     "data": {
      "text/html": [
       "<div>\n",
       "<style scoped>\n",
       "    .dataframe tbody tr th:only-of-type {\n",
       "        vertical-align: middle;\n",
       "    }\n",
       "\n",
       "    .dataframe tbody tr th {\n",
       "        vertical-align: top;\n",
       "    }\n",
       "\n",
       "    .dataframe thead th {\n",
       "        text-align: right;\n",
       "    }\n",
       "</style>\n",
       "<table border=\"1\" class=\"dataframe\">\n",
       "  <thead>\n",
       "    <tr style=\"text-align: right;\">\n",
       "      <th></th>\n",
       "      <th>U</th>\n",
       "      <th>UGPA</th>\n",
       "      <th>LSAT</th>\n",
       "      <th>female</th>\n",
       "      <th>male</th>\n",
       "      <th>white</th>\n",
       "      <th>nonwhite</th>\n",
       "    </tr>\n",
       "  </thead>\n",
       "  <tbody>\n",
       "    <tr>\n",
       "      <th>U</th>\n",
       "      <td>0</td>\n",
       "      <td>0.350264</td>\n",
       "      <td>0.032696</td>\n",
       "      <td>0</td>\n",
       "      <td>0</td>\n",
       "      <td>0</td>\n",
       "      <td>0</td>\n",
       "    </tr>\n",
       "    <tr>\n",
       "      <th>UGPA</th>\n",
       "      <td>0</td>\n",
       "      <td>0.000000</td>\n",
       "      <td>0.000000</td>\n",
       "      <td>0</td>\n",
       "      <td>0</td>\n",
       "      <td>0</td>\n",
       "      <td>0</td>\n",
       "    </tr>\n",
       "    <tr>\n",
       "      <th>LSAT</th>\n",
       "      <td>0</td>\n",
       "      <td>0.000000</td>\n",
       "      <td>0.000000</td>\n",
       "      <td>0</td>\n",
       "      <td>0</td>\n",
       "      <td>0</td>\n",
       "      <td>0</td>\n",
       "    </tr>\n",
       "    <tr>\n",
       "      <th>female</th>\n",
       "      <td>0</td>\n",
       "      <td>0.773060</td>\n",
       "      <td>0.851098</td>\n",
       "      <td>0</td>\n",
       "      <td>0</td>\n",
       "      <td>0</td>\n",
       "      <td>0</td>\n",
       "    </tr>\n",
       "    <tr>\n",
       "      <th>male</th>\n",
       "      <td>0</td>\n",
       "      <td>0.640014</td>\n",
       "      <td>0.867346</td>\n",
       "      <td>0</td>\n",
       "      <td>0</td>\n",
       "      <td>0</td>\n",
       "      <td>0</td>\n",
       "    </tr>\n",
       "    <tr>\n",
       "      <th>white</th>\n",
       "      <td>0</td>\n",
       "      <td>0.938756</td>\n",
       "      <td>0.960812</td>\n",
       "      <td>0</td>\n",
       "      <td>0</td>\n",
       "      <td>0</td>\n",
       "      <td>0</td>\n",
       "    </tr>\n",
       "    <tr>\n",
       "      <th>nonwhite</th>\n",
       "      <td>0</td>\n",
       "      <td>0.713025</td>\n",
       "      <td>0.823301</td>\n",
       "      <td>0</td>\n",
       "      <td>0</td>\n",
       "      <td>0</td>\n",
       "      <td>0</td>\n",
       "    </tr>\n",
       "  </tbody>\n",
       "</table>\n",
       "</div>"
      ],
      "text/plain": [
       "          U      UGPA      LSAT  female  male  white  nonwhite\n",
       "U         0  0.350264  0.032696       0     0      0         0\n",
       "UGPA      0  0.000000  0.000000       0     0      0         0\n",
       "LSAT      0  0.000000  0.000000       0     0      0         0\n",
       "female    0  0.773060  0.851098       0     0      0         0\n",
       "male      0  0.640014  0.867346       0     0      0         0\n",
       "white     0  0.938756  0.960812       0     0      0         0\n",
       "nonwhite  0  0.713025  0.823301       0     0      0         0"
      ]
     },
     "execution_count": 16,
     "metadata": {},
     "output_type": "execute_result"
    }
   ],
   "source": [
    "law_school.adjacency_mtr"
   ]
  },
  {
   "cell_type": "code",
   "execution_count": 17,
   "metadata": {},
   "outputs": [
    {
     "data": {
      "text/plain": [
       "{'U': ['UGPA', 'LSAT'],\n",
       " 'UGPA': [],\n",
       " 'LSAT': [],\n",
       " 'female': ['UGPA', 'LSAT'],\n",
       " 'male': ['UGPA', 'LSAT'],\n",
       " 'white': ['UGPA', 'LSAT'],\n",
       " 'nonwhite': ['UGPA', 'LSAT']}"
      ]
     },
     "execution_count": 17,
     "metadata": {},
     "output_type": "execute_result"
    }
   ],
   "source": [
    "law_school.adjacency_lst"
   ]
  },
  {
   "cell_type": "markdown",
   "metadata": {},
   "source": [
    "### Define the SEM"
   ]
  },
  {
   "cell_type": "code",
   "execution_count": 18,
   "metadata": {},
   "outputs": [
    {
     "name": "stdout",
     "output_type": "stream",
     "text": [
      "introduce the structural equation model as a dict via 'SEM'\n",
      "provide def_ugpa function for UGPA\n",
      "provide def_lsat function for LSAT\n",
      "provide each in the form: 'lambda row: df_var(row[x1],...,row[xj])'\n"
     ]
    }
   ],
   "source": [
    "# not an ideal solution... hard to scale this var-specific approacj tbh\n",
    "law_school.define_sem()"
   ]
  },
  {
   "cell_type": "code",
   "execution_count": 19,
   "metadata": {},
   "outputs": [],
   "source": [
    "\n",
    "# UGPA\n",
    "def pred_ugpa(v_u, v_female, v_male, v_white, v_nonwhite):\n",
    "    return (ugpa_weights.loc[0, 'ugpa0'] + \n",
    "            law_school.adjacency_mtr.loc['U']['UGPA'] * v_u +\n",
    "            law_school.adjacency_mtr.loc['female']['UGPA'] * v_female +\n",
    "            law_school.adjacency_mtr.loc['male']['UGPA'] * v_male +\n",
    "            law_school.adjacency_mtr.loc['white']['UGPA'] * v_white +\n",
    "            law_school.adjacency_mtr.loc['nonwhite']['UGPA'] * v_nonwhite)\n",
    "\n",
    "# LSAT\n",
    "def pred_lsat(v_u, v_female, v_male, v_white, v_nonwhite):\n",
    "    return np.exp(lsat_weights.loc[0, 'lsat0'] + \n",
    "                  law_school.adjacency_mtr.loc['U']['LSAT'] * v_u +\n",
    "                  law_school.adjacency_mtr.loc['female']['LSAT'] * v_female +\n",
    "                  law_school.adjacency_mtr.loc['male']['LSAT'] * v_male +\n",
    "                  law_school.adjacency_mtr.loc['white']['LSAT'] * v_white +\n",
    "                  law_school.adjacency_mtr.loc['nonwhite']['LSAT'] * v_nonwhite)\n"
   ]
  },
  {
   "cell_type": "code",
   "execution_count": 20,
   "metadata": {},
   "outputs": [],
   "source": [
    "law_school.SEM['UGPA'] = lambda row: pred_ugpa(\n",
    "    v_u=row['U'], v_female=row['female'], v_male=row['male'], v_white=row['white'], v_nonwhite=row['nonwhite'])\n",
    "\n",
    "law_school.SEM['LSAT'] = lambda row: pred_lsat(\n",
    "    v_u=row['U'], v_female=row['female'], v_male=row['male'], v_white=row['white'], v_nonwhite=row['nonwhite'])"
   ]
  },
  {
   "cell_type": "code",
   "execution_count": 21,
   "metadata": {},
   "outputs": [
    {
     "name": "stdout",
     "output_type": "stream",
     "text": [
      "class instance already has a structural equation model dict; overwrite it via 'SEM' if needed\n"
     ]
    }
   ],
   "source": [
    "law_school.define_sem()"
   ]
  },
  {
   "cell_type": "markdown",
   "metadata": {},
   "source": [
    "### Generate the factuals\n",
    "i.e., run the SEM model... no need for our purposes "
   ]
  },
  {
   "cell_type": "code",
   "execution_count": 22,
   "metadata": {},
   "outputs": [
    {
     "name": "stdout",
     "output_type": "stream",
     "text": [
      "generating FCTs in the following order:\n",
      "UGPA\n",
      "LSAT\n",
      "generated the new variables:\n",
      "fct_UGPA\n",
      "fct_LSAT\n"
     ]
    }
   ],
   "source": [
    "test_df = law_school.run_sem(data=df)"
   ]
  },
  {
   "cell_type": "code",
   "execution_count": 25,
   "metadata": {},
   "outputs": [
    {
     "data": {
      "text/html": [
       "<div>\n",
       "<style scoped>\n",
       "    .dataframe tbody tr th:only-of-type {\n",
       "        vertical-align: middle;\n",
       "    }\n",
       "\n",
       "    .dataframe tbody tr th {\n",
       "        vertical-align: top;\n",
       "    }\n",
       "\n",
       "    .dataframe thead th {\n",
       "        text-align: right;\n",
       "    }\n",
       "</style>\n",
       "<table border=\"1\" class=\"dataframe\">\n",
       "  <thead>\n",
       "    <tr style=\"text-align: right;\">\n",
       "      <th></th>\n",
       "      <th>LSAT</th>\n",
       "      <th>UGPA</th>\n",
       "      <th>female</th>\n",
       "      <th>male</th>\n",
       "      <th>white</th>\n",
       "      <th>nonwhite</th>\n",
       "      <th>U</th>\n",
       "      <th>fct_UGPA</th>\n",
       "      <th>fct_LSAT</th>\n",
       "    </tr>\n",
       "  </thead>\n",
       "  <tbody>\n",
       "    <tr>\n",
       "      <th>2</th>\n",
       "      <td>36</td>\n",
       "      <td>3.0</td>\n",
       "      <td>1</td>\n",
       "      <td>0</td>\n",
       "      <td>1</td>\n",
       "      <td>0</td>\n",
       "      <td>-0.736926</td>\n",
       "      <td>3.074983</td>\n",
       "      <td>36.260282</td>\n",
       "    </tr>\n",
       "    <tr>\n",
       "      <th>3</th>\n",
       "      <td>30</td>\n",
       "      <td>3.1</td>\n",
       "      <td>0</td>\n",
       "      <td>1</td>\n",
       "      <td>1</td>\n",
       "      <td>0</td>\n",
       "      <td>-0.267031</td>\n",
       "      <td>3.106524</td>\n",
       "      <td>37.424839</td>\n",
       "    </tr>\n",
       "    <tr>\n",
       "      <th>4</th>\n",
       "      <td>39</td>\n",
       "      <td>2.2</td>\n",
       "      <td>0</td>\n",
       "      <td>1</td>\n",
       "      <td>0</td>\n",
       "      <td>1</td>\n",
       "      <td>-1.647028</td>\n",
       "      <td>2.397430</td>\n",
       "      <td>31.177707</td>\n",
       "    </tr>\n",
       "    <tr>\n",
       "      <th>5</th>\n",
       "      <td>37</td>\n",
       "      <td>3.4</td>\n",
       "      <td>1</td>\n",
       "      <td>0</td>\n",
       "      <td>1</td>\n",
       "      <td>0</td>\n",
       "      <td>0.118742</td>\n",
       "      <td>3.374692</td>\n",
       "      <td>37.289056</td>\n",
       "    </tr>\n",
       "    <tr>\n",
       "      <th>6</th>\n",
       "      <td>30</td>\n",
       "      <td>3.6</td>\n",
       "      <td>1</td>\n",
       "      <td>0</td>\n",
       "      <td>1</td>\n",
       "      <td>0</td>\n",
       "      <td>0.502870</td>\n",
       "      <td>3.509239</td>\n",
       "      <td>37.760340</td>\n",
       "    </tr>\n",
       "  </tbody>\n",
       "</table>\n",
       "</div>"
      ],
      "text/plain": [
       "   LSAT  UGPA  female  male  white  nonwhite         U  fct_UGPA   fct_LSAT\n",
       "2    36   3.0       1     0      1         0 -0.736926  3.074983  36.260282\n",
       "3    30   3.1       0     1      1         0 -0.267031  3.106524  37.424839\n",
       "4    39   2.2       0     1      0         1 -1.647028  2.397430  31.177707\n",
       "5    37   3.4       1     0      1         0  0.118742  3.374692  37.289056\n",
       "6    30   3.6       1     0      1         0  0.502870  3.509239  37.760340"
      ]
     },
     "execution_count": 25,
     "metadata": {},
     "output_type": "execute_result"
    }
   ],
   "source": [
    "test_df.head(5)"
   ]
  },
  {
   "cell_type": "markdown",
   "metadata": {},
   "source": [
    "### Generate the structural counterfactuals\n",
    "\n",
    "Do so for gender and race...!"
   ]
  },
  {
   "cell_type": "code",
   "execution_count": 26,
   "metadata": {},
   "outputs": [],
   "source": [
    "test_do = {'female': 0, 'male': 1} # everybody male!\n",
    "test_do_desc = 'do_male'"
   ]
  },
  {
   "cell_type": "code",
   "execution_count": 27,
   "metadata": {},
   "outputs": [
    {
     "name": "stdout",
     "output_type": "stream",
     "text": [
      "do(female=0)\n",
      "do(male=1)\n",
      "generating SCFs in the following order:\n",
      "UGPA\n",
      "LSAT\n",
      "generated the new variables:\n",
      "scf_UGPA\n",
      "scf_LSAT\n"
     ]
    }
   ],
   "source": [
    "do_male = law_school.generate_scfs(do=test_do, do_desc=test_do_desc, data=df)"
   ]
  },
  {
   "cell_type": "code",
   "execution_count": 28,
   "metadata": {},
   "outputs": [
    {
     "data": {
      "text/html": [
       "<div>\n",
       "<style scoped>\n",
       "    .dataframe tbody tr th:only-of-type {\n",
       "        vertical-align: middle;\n",
       "    }\n",
       "\n",
       "    .dataframe tbody tr th {\n",
       "        vertical-align: top;\n",
       "    }\n",
       "\n",
       "    .dataframe thead th {\n",
       "        text-align: right;\n",
       "    }\n",
       "</style>\n",
       "<table border=\"1\" class=\"dataframe\">\n",
       "  <thead>\n",
       "    <tr style=\"text-align: right;\">\n",
       "      <th></th>\n",
       "      <th>LSAT</th>\n",
       "      <th>UGPA</th>\n",
       "      <th>female</th>\n",
       "      <th>male</th>\n",
       "      <th>white</th>\n",
       "      <th>nonwhite</th>\n",
       "      <th>U</th>\n",
       "      <th>org_female</th>\n",
       "      <th>org_male</th>\n",
       "      <th>scf_UGPA</th>\n",
       "      <th>scf_LSAT</th>\n",
       "    </tr>\n",
       "  </thead>\n",
       "  <tbody>\n",
       "    <tr>\n",
       "      <th>2</th>\n",
       "      <td>36</td>\n",
       "      <td>3.0</td>\n",
       "      <td>0</td>\n",
       "      <td>1</td>\n",
       "      <td>1</td>\n",
       "      <td>0</td>\n",
       "      <td>-0.736926</td>\n",
       "      <td>1</td>\n",
       "      <td>0</td>\n",
       "      <td>2.941937</td>\n",
       "      <td>36.854251</td>\n",
       "    </tr>\n",
       "    <tr>\n",
       "      <th>3</th>\n",
       "      <td>30</td>\n",
       "      <td>3.1</td>\n",
       "      <td>0</td>\n",
       "      <td>1</td>\n",
       "      <td>1</td>\n",
       "      <td>0</td>\n",
       "      <td>-0.267031</td>\n",
       "      <td>0</td>\n",
       "      <td>1</td>\n",
       "      <td>3.106524</td>\n",
       "      <td>37.424839</td>\n",
       "    </tr>\n",
       "    <tr>\n",
       "      <th>4</th>\n",
       "      <td>39</td>\n",
       "      <td>2.2</td>\n",
       "      <td>0</td>\n",
       "      <td>1</td>\n",
       "      <td>0</td>\n",
       "      <td>1</td>\n",
       "      <td>-1.647028</td>\n",
       "      <td>0</td>\n",
       "      <td>1</td>\n",
       "      <td>2.397430</td>\n",
       "      <td>31.177707</td>\n",
       "    </tr>\n",
       "    <tr>\n",
       "      <th>5</th>\n",
       "      <td>37</td>\n",
       "      <td>3.4</td>\n",
       "      <td>0</td>\n",
       "      <td>1</td>\n",
       "      <td>1</td>\n",
       "      <td>0</td>\n",
       "      <td>0.118742</td>\n",
       "      <td>1</td>\n",
       "      <td>0</td>\n",
       "      <td>3.241646</td>\n",
       "      <td>37.899877</td>\n",
       "    </tr>\n",
       "    <tr>\n",
       "      <th>6</th>\n",
       "      <td>30</td>\n",
       "      <td>3.6</td>\n",
       "      <td>0</td>\n",
       "      <td>1</td>\n",
       "      <td>1</td>\n",
       "      <td>0</td>\n",
       "      <td>0.502870</td>\n",
       "      <td>1</td>\n",
       "      <td>0</td>\n",
       "      <td>3.376193</td>\n",
       "      <td>38.378880</td>\n",
       "    </tr>\n",
       "  </tbody>\n",
       "</table>\n",
       "</div>"
      ],
      "text/plain": [
       "   LSAT  UGPA  female  male  white  nonwhite         U  org_female  org_male  \\\n",
       "2    36   3.0       0     1      1         0 -0.736926           1         0   \n",
       "3    30   3.1       0     1      1         0 -0.267031           0         1   \n",
       "4    39   2.2       0     1      0         1 -1.647028           0         1   \n",
       "5    37   3.4       0     1      1         0  0.118742           1         0   \n",
       "6    30   3.6       0     1      1         0  0.502870           1         0   \n",
       "\n",
       "   scf_UGPA   scf_LSAT  \n",
       "2  2.941937  36.854251  \n",
       "3  3.106524  37.424839  \n",
       "4  2.397430  31.177707  \n",
       "5  3.241646  37.899877  \n",
       "6  3.376193  38.378880  "
      ]
     },
     "execution_count": 28,
     "metadata": {},
     "output_type": "execute_result"
    }
   ],
   "source": [
    "do_male.head(5)"
   ]
  },
  {
   "cell_type": "code",
   "execution_count": 29,
   "metadata": {},
   "outputs": [],
   "source": [
    "test_do = {'nonwhite': 0, 'white': 1} # everybody white\n",
    "test_do_desc = 'do_white'"
   ]
  },
  {
   "cell_type": "code",
   "execution_count": 30,
   "metadata": {},
   "outputs": [
    {
     "name": "stdout",
     "output_type": "stream",
     "text": [
      "do(nonwhite=0)\n",
      "do(white=1)\n",
      "generating SCFs in the following order:\n",
      "UGPA\n",
      "LSAT\n",
      "generated the new variables:\n",
      "scf_UGPA\n",
      "scf_LSAT\n"
     ]
    }
   ],
   "source": [
    "do_white = law_school.generate_scfs(do=test_do, do_desc=test_do_desc, data=df)"
   ]
  },
  {
   "cell_type": "code",
   "execution_count": 31,
   "metadata": {},
   "outputs": [
    {
     "data": {
      "text/html": [
       "<div>\n",
       "<style scoped>\n",
       "    .dataframe tbody tr th:only-of-type {\n",
       "        vertical-align: middle;\n",
       "    }\n",
       "\n",
       "    .dataframe tbody tr th {\n",
       "        vertical-align: top;\n",
       "    }\n",
       "\n",
       "    .dataframe thead th {\n",
       "        text-align: right;\n",
       "    }\n",
       "</style>\n",
       "<table border=\"1\" class=\"dataframe\">\n",
       "  <thead>\n",
       "    <tr style=\"text-align: right;\">\n",
       "      <th></th>\n",
       "      <th>LSAT</th>\n",
       "      <th>UGPA</th>\n",
       "      <th>female</th>\n",
       "      <th>male</th>\n",
       "      <th>white</th>\n",
       "      <th>nonwhite</th>\n",
       "      <th>U</th>\n",
       "      <th>org_nonwhite</th>\n",
       "      <th>org_white</th>\n",
       "      <th>scf_UGPA</th>\n",
       "      <th>scf_LSAT</th>\n",
       "    </tr>\n",
       "  </thead>\n",
       "  <tbody>\n",
       "    <tr>\n",
       "      <th>2</th>\n",
       "      <td>36</td>\n",
       "      <td>3.0</td>\n",
       "      <td>1</td>\n",
       "      <td>0</td>\n",
       "      <td>1</td>\n",
       "      <td>0</td>\n",
       "      <td>-0.736926</td>\n",
       "      <td>0</td>\n",
       "      <td>1</td>\n",
       "      <td>3.074983</td>\n",
       "      <td>36.260282</td>\n",
       "    </tr>\n",
       "    <tr>\n",
       "      <th>3</th>\n",
       "      <td>30</td>\n",
       "      <td>3.1</td>\n",
       "      <td>0</td>\n",
       "      <td>1</td>\n",
       "      <td>1</td>\n",
       "      <td>0</td>\n",
       "      <td>-0.267031</td>\n",
       "      <td>0</td>\n",
       "      <td>1</td>\n",
       "      <td>3.106524</td>\n",
       "      <td>37.424839</td>\n",
       "    </tr>\n",
       "    <tr>\n",
       "      <th>4</th>\n",
       "      <td>39</td>\n",
       "      <td>2.2</td>\n",
       "      <td>0</td>\n",
       "      <td>1</td>\n",
       "      <td>1</td>\n",
       "      <td>0</td>\n",
       "      <td>-1.647028</td>\n",
       "      <td>1</td>\n",
       "      <td>0</td>\n",
       "      <td>2.623161</td>\n",
       "      <td>35.773747</td>\n",
       "    </tr>\n",
       "    <tr>\n",
       "      <th>5</th>\n",
       "      <td>37</td>\n",
       "      <td>3.4</td>\n",
       "      <td>1</td>\n",
       "      <td>0</td>\n",
       "      <td>1</td>\n",
       "      <td>0</td>\n",
       "      <td>0.118742</td>\n",
       "      <td>0</td>\n",
       "      <td>1</td>\n",
       "      <td>3.374692</td>\n",
       "      <td>37.289056</td>\n",
       "    </tr>\n",
       "    <tr>\n",
       "      <th>6</th>\n",
       "      <td>30</td>\n",
       "      <td>3.6</td>\n",
       "      <td>1</td>\n",
       "      <td>0</td>\n",
       "      <td>1</td>\n",
       "      <td>0</td>\n",
       "      <td>0.502870</td>\n",
       "      <td>0</td>\n",
       "      <td>1</td>\n",
       "      <td>3.509239</td>\n",
       "      <td>37.760340</td>\n",
       "    </tr>\n",
       "  </tbody>\n",
       "</table>\n",
       "</div>"
      ],
      "text/plain": [
       "   LSAT  UGPA  female  male  white  nonwhite         U  org_nonwhite  \\\n",
       "2    36   3.0       1     0      1         0 -0.736926             0   \n",
       "3    30   3.1       0     1      1         0 -0.267031             0   \n",
       "4    39   2.2       0     1      1         0 -1.647028             1   \n",
       "5    37   3.4       1     0      1         0  0.118742             0   \n",
       "6    30   3.6       1     0      1         0  0.502870             0   \n",
       "\n",
       "   org_white  scf_UGPA   scf_LSAT  \n",
       "2          1  3.074983  36.260282  \n",
       "3          1  3.106524  37.424839  \n",
       "4          0  2.623161  35.773747  \n",
       "5          1  3.374692  37.289056  \n",
       "6          1  3.509239  37.760340  "
      ]
     },
     "execution_count": 31,
     "metadata": {},
     "output_type": "execute_result"
    }
   ],
   "source": [
    "do_white.head(5)"
   ]
  },
  {
   "cell_type": "code",
   "execution_count": null,
   "metadata": {},
   "outputs": [],
   "source": [
    "# we need to add a decision outcome: say, to enter Harvard (go to that website)"
   ]
  },
  {
   "cell_type": "code",
   "execution_count": 33,
   "metadata": {},
   "outputs": [],
   "source": [
    "# store both datasets for cfST\n",
    "do_male.to_csv(resu_path + '\\\\counterfactuals\\\\' + 'cf_male_LawSchoolData.csv', sep='|', index=False)\n",
    "do_white.to_csv(resu_path + '\\\\counterfactuals\\\\' + 'cf_white_LawSchoolData.csv', sep='|', index=False)"
   ]
  },
  {
   "cell_type": "code",
   "execution_count": null,
   "metadata": {},
   "outputs": [],
   "source": []
  },
  {
   "cell_type": "code",
   "execution_count": null,
   "metadata": {},
   "outputs": [],
   "source": []
  }
 ],
 "metadata": {
  "kernelspec": {
   "display_name": "fair_ml",
   "language": "python",
   "name": "fair_ml"
  },
  "language_info": {
   "codemirror_mode": {
    "name": "ipython",
    "version": 3
   },
   "file_extension": ".py",
   "mimetype": "text/x-python",
   "name": "python",
   "nbconvert_exporter": "python",
   "pygments_lexer": "ipython3",
   "version": "3.8.5"
  }
 },
 "nbformat": 4,
 "nbformat_minor": 4
}
