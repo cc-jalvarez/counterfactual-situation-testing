{
 "cells": [
  {
   "cell_type": "markdown",
   "metadata": {},
   "source": [
    "# Generate structural counterfactuals (SCF) for Law School\n",
    "\n",
    "This script..."
   ]
  },
  {
   "cell_type": "code",
   "execution_count": 1,
   "metadata": {},
   "outputs": [],
   "source": [
    "import os\n",
    "import pandas as pd\n",
    "import numpy as np\n",
    "import matplotlib.pyplot as plt\n",
    "\n",
    "from scm_models.scm_law_school import LawSchool\n"
   ]
  },
  {
   "cell_type": "code",
   "execution_count": 2,
   "metadata": {},
   "outputs": [],
   "source": [
    "# set relevant paths\n",
    "wrk_dir = os.path.dirname(os.getcwd())\n",
    "data_path = wrk_dir + '\\\\' + 'data' + '\\\\'\n",
    "rslt_path = wrk_dir + '\\\\' + 'results' + '\\\\'"
   ]
  },
  {
   "cell_type": "markdown",
   "metadata": {},
   "source": [
    "## Pooled U"
   ]
  },
  {
   "cell_type": "code",
   "execution_count": 3,
   "metadata": {},
   "outputs": [],
   "source": [
    "prefix = 'pU'\n",
    "\n",
    "# relevant vars list\n",
    "vlist_protected = ['female', 'male', 'white', 'nonwhite']\n",
    "vlist_latent = ['U']"
   ]
  },
  {
   "cell_type": "code",
   "execution_count": 4,
   "metadata": {},
   "outputs": [
    {
     "name": "stdout",
     "output_type": "stream",
     "text": [
      "(10896, 7)\n",
      "['LSAT', 'UGPA', 'female', 'male', 'white', 'nonwhite', 'U']\n"
     ]
    },
    {
     "data": {
      "text/html": [
       "<div>\n",
       "<style scoped>\n",
       "    .dataframe tbody tr th:only-of-type {\n",
       "        vertical-align: middle;\n",
       "    }\n",
       "\n",
       "    .dataframe tbody tr th {\n",
       "        vertical-align: top;\n",
       "    }\n",
       "\n",
       "    .dataframe thead th {\n",
       "        text-align: right;\n",
       "    }\n",
       "</style>\n",
       "<table border=\"1\" class=\"dataframe\">\n",
       "  <thead>\n",
       "    <tr style=\"text-align: right;\">\n",
       "      <th></th>\n",
       "      <th>LSAT</th>\n",
       "      <th>UGPA</th>\n",
       "      <th>female</th>\n",
       "      <th>male</th>\n",
       "      <th>white</th>\n",
       "      <th>nonwhite</th>\n",
       "      <th>U</th>\n",
       "    </tr>\n",
       "  </thead>\n",
       "  <tbody>\n",
       "    <tr>\n",
       "      <th>2</th>\n",
       "      <td>36</td>\n",
       "      <td>3.0</td>\n",
       "      <td>1</td>\n",
       "      <td>0</td>\n",
       "      <td>1</td>\n",
       "      <td>0</td>\n",
       "      <td>-0.736926</td>\n",
       "    </tr>\n",
       "    <tr>\n",
       "      <th>3</th>\n",
       "      <td>30</td>\n",
       "      <td>3.1</td>\n",
       "      <td>0</td>\n",
       "      <td>1</td>\n",
       "      <td>1</td>\n",
       "      <td>0</td>\n",
       "      <td>-0.267031</td>\n",
       "    </tr>\n",
       "    <tr>\n",
       "      <th>4</th>\n",
       "      <td>39</td>\n",
       "      <td>2.2</td>\n",
       "      <td>0</td>\n",
       "      <td>1</td>\n",
       "      <td>0</td>\n",
       "      <td>1</td>\n",
       "      <td>-1.647028</td>\n",
       "    </tr>\n",
       "    <tr>\n",
       "      <th>5</th>\n",
       "      <td>37</td>\n",
       "      <td>3.4</td>\n",
       "      <td>1</td>\n",
       "      <td>0</td>\n",
       "      <td>1</td>\n",
       "      <td>0</td>\n",
       "      <td>0.118742</td>\n",
       "    </tr>\n",
       "    <tr>\n",
       "      <th>6</th>\n",
       "      <td>30</td>\n",
       "      <td>3.6</td>\n",
       "      <td>1</td>\n",
       "      <td>0</td>\n",
       "      <td>1</td>\n",
       "      <td>0</td>\n",
       "      <td>0.502870</td>\n",
       "    </tr>\n",
       "  </tbody>\n",
       "</table>\n",
       "</div>"
      ],
      "text/plain": [
       "   LSAT  UGPA  female  male  white  nonwhite         U\n",
       "2    36   3.0       1     0      1         0 -0.736926\n",
       "3    30   3.1       0     1      1         0 -0.267031\n",
       "4    39   2.2       0     1      0         1 -1.647028\n",
       "5    37   3.4       1     0      1         0  0.118742\n",
       "6    30   3.6       1     0      1         0  0.502870"
      ]
     },
     "execution_count": 4,
     "metadata": {},
     "output_type": "execute_result"
    }
   ],
   "source": [
    "df = pd.read_csv(rslt_path + f'{prefix}_upd_LawData.csv', sep='|')\n",
    "print(df.shape)\n",
    "print(df.columns.tolist())\n",
    "df.head(5)"
   ]
  },
  {
   "cell_type": "code",
   "execution_count": 5,
   "metadata": {},
   "outputs": [
    {
     "data": {
      "text/html": [
       "<div>\n",
       "<style scoped>\n",
       "    .dataframe tbody tr th:only-of-type {\n",
       "        vertical-align: middle;\n",
       "    }\n",
       "\n",
       "    .dataframe tbody tr th {\n",
       "        vertical-align: top;\n",
       "    }\n",
       "\n",
       "    .dataframe thead th {\n",
       "        text-align: right;\n",
       "    }\n",
       "</style>\n",
       "<table border=\"1\" class=\"dataframe\">\n",
       "  <thead>\n",
       "    <tr style=\"text-align: right;\">\n",
       "      <th></th>\n",
       "      <th>female</th>\n",
       "      <th>male</th>\n",
       "      <th>white</th>\n",
       "      <th>nonwhite</th>\n",
       "      <th>ugpa0</th>\n",
       "      <th>eta_u_ugpa</th>\n",
       "    </tr>\n",
       "  </thead>\n",
       "  <tbody>\n",
       "    <tr>\n",
       "      <th>0</th>\n",
       "      <td>0.77306</td>\n",
       "      <td>0.640014</td>\n",
       "      <td>0.938756</td>\n",
       "      <td>0.713025</td>\n",
       "      <td>1.621285</td>\n",
       "      <td>0.350264</td>\n",
       "    </tr>\n",
       "  </tbody>\n",
       "</table>\n",
       "</div>"
      ],
      "text/plain": [
       "    female      male     white  nonwhite     ugpa0  eta_u_ugpa\n",
       "0  0.77306  0.640014  0.938756  0.713025  1.621285    0.350264"
      ]
     },
     "execution_count": 5,
     "metadata": {},
     "output_type": "execute_result"
    }
   ],
   "source": [
    "ugpa_weights = pd.read_csv(rslt_path + f'{prefix}_wUGPA_LawData.csv', sep='|')\n",
    "ugpa_weights"
   ]
  },
  {
   "cell_type": "code",
   "execution_count": 6,
   "metadata": {},
   "outputs": [
    {
     "data": {
      "text/html": [
       "<div>\n",
       "<style scoped>\n",
       "    .dataframe tbody tr th:only-of-type {\n",
       "        vertical-align: middle;\n",
       "    }\n",
       "\n",
       "    .dataframe tbody tr th {\n",
       "        vertical-align: top;\n",
       "    }\n",
       "\n",
       "    .dataframe thead th {\n",
       "        text-align: right;\n",
       "    }\n",
       "</style>\n",
       "<table border=\"1\" class=\"dataframe\">\n",
       "  <thead>\n",
       "    <tr style=\"text-align: right;\">\n",
       "      <th></th>\n",
       "      <th>female</th>\n",
       "      <th>male</th>\n",
       "      <th>white</th>\n",
       "      <th>nonwhite</th>\n",
       "      <th>lsat0</th>\n",
       "      <th>eta_u_lsat</th>\n",
       "    </tr>\n",
       "  </thead>\n",
       "  <tbody>\n",
       "    <tr>\n",
       "      <th>0</th>\n",
       "      <td>0.851098</td>\n",
       "      <td>0.867346</td>\n",
       "      <td>0.960812</td>\n",
       "      <td>0.823301</td>\n",
       "      <td>1.802908</td>\n",
       "      <td>0.032696</td>\n",
       "    </tr>\n",
       "  </tbody>\n",
       "</table>\n",
       "</div>"
      ],
      "text/plain": [
       "     female      male     white  nonwhite     lsat0  eta_u_lsat\n",
       "0  0.851098  0.867346  0.960812  0.823301  1.802908    0.032696"
      ]
     },
     "execution_count": 6,
     "metadata": {},
     "output_type": "execute_result"
    }
   ],
   "source": [
    "lsat_weights = pd.read_csv(rslt_path + f'{prefix}_wLSAT_LawData.csv', sep='|')\n",
    "lsat_weights"
   ]
  },
  {
   "cell_type": "code",
   "execution_count": 7,
   "metadata": {},
   "outputs": [],
   "source": [
    "# check the diff files...\n",
    "ugpa_deltas = pd.read_csv(rslt_path + f'{prefix}_delta_ugpa.csv', sep='|')"
   ]
  },
  {
   "cell_type": "code",
   "execution_count": 8,
   "metadata": {},
   "outputs": [],
   "source": [
    "lsat_deltas = pd.read_csv(rslt_path + f'{prefix}_delta_lsat.csv', sep='|')"
   ]
  },
  {
   "cell_type": "code",
   "execution_count": null,
   "metadata": {},
   "outputs": [],
   "source": [
    "# plt.hist(ugpa_deltas[ugpa_deltas['sex']=='Female']['delta'], label = 'Female')\n",
    "# plt.hist(ugpa_deltas[ugpa_deltas['sex']=='Male']['delta'], label = 'Male')\n",
    "# plt.legend(loc='upper right')"
   ]
  },
  {
   "cell_type": "code",
   "execution_count": null,
   "metadata": {},
   "outputs": [],
   "source": [
    "# plt.hist(lsat_deltas[ugpa_deltas['sex']=='Female']['delta'], label = 'Female')\n",
    "# plt.hist(lsat_deltas[ugpa_deltas['sex']=='Male']['delta'], label = 'Male')\n",
    "# plt.legend(loc='upper right')"
   ]
  },
  {
   "cell_type": "markdown",
   "metadata": {},
   "source": [
    "### Define the DAG"
   ]
  },
  {
   "cell_type": "code",
   "execution_count": 9,
   "metadata": {},
   "outputs": [
    {
     "data": {
      "text/plain": [
       "[('U', 'UGPA', 0.35026399476484804),\n",
       " ('U', 'LSAT', 0.0326959683105284),\n",
       " ('female', 'UGPA', 0.7730603366620609),\n",
       " ('male', 'UGPA', 0.6400142403982011),\n",
       " ('white', 'UGPA', 0.9387557544129591),\n",
       " ('nonwhite', 'UGPA', 0.7130248092744692),\n",
       " ('female', 'LSAT', 0.851097530659986),\n",
       " ('male', 'LSAT', 0.867345506707074),\n",
       " ('white', 'LSAT', 0.9608122538399481),\n",
       " ('nonwhite', 'LSAT', 0.823301257973325)]"
      ]
     },
     "execution_count": 9,
     "metadata": {},
     "output_type": "execute_result"
    }
   ],
   "source": [
    "dag_law_school = [('U', 'UGPA', ugpa_weights.loc[0, 'eta_u_ugpa']),\n",
    "                  ('U', 'LSAT', lsat_weights.loc[0, 'eta_u_lsat']),\n",
    "                  ('female', 'UGPA', ugpa_weights.loc[0, 'female']),\n",
    "                  ('male', 'UGPA', ugpa_weights.loc[0, 'male']),\n",
    "                  ('white', 'UGPA', ugpa_weights.loc[0, 'white']),\n",
    "                  ('nonwhite', 'UGPA', ugpa_weights.loc[0, 'nonwhite']),\n",
    "                  ('female', 'LSAT', lsat_weights.loc[0, 'female']),\n",
    "                  ('male', 'LSAT', lsat_weights.loc[0, 'male']),\n",
    "                  ('white', 'LSAT', lsat_weights.loc[0, 'white']),\n",
    "                  ('nonwhite', 'LSAT', lsat_weights.loc[0, 'nonwhite'])  \n",
    "                 ]\n",
    "dag_law_school"
   ]
  },
  {
   "cell_type": "code",
   "execution_count": 10,
   "metadata": {},
   "outputs": [],
   "source": [
    "law_school = LawSchool(dag_law_school, \n",
    "                       end_vars=['UGPA', 'LSAT'], \n",
    "                       exo_vars=['U'], )"
   ]
  },
  {
   "cell_type": "code",
   "execution_count": 11,
   "metadata": {},
   "outputs": [
    {
     "data": {
      "text/plain": [
       "['U', 'UGPA', 'LSAT', 'female', 'male', 'white', 'nonwhite']"
      ]
     },
     "execution_count": 11,
     "metadata": {},
     "output_type": "execute_result"
    }
   ],
   "source": [
    "law_school.nodes"
   ]
  },
  {
   "cell_type": "code",
   "execution_count": 12,
   "metadata": {},
   "outputs": [
    {
     "data": {
      "text/plain": [
       "{('U', 'UGPA'): 0.35026399476484804,\n",
       " ('U', 'LSAT'): 0.0326959683105284,\n",
       " ('female', 'UGPA'): 0.7730603366620609,\n",
       " ('male', 'UGPA'): 0.6400142403982011,\n",
       " ('white', 'UGPA'): 0.9387557544129591,\n",
       " ('nonwhite', 'UGPA'): 0.7130248092744692,\n",
       " ('female', 'LSAT'): 0.851097530659986,\n",
       " ('male', 'LSAT'): 0.867345506707074,\n",
       " ('white', 'LSAT'): 0.9608122538399481,\n",
       " ('nonwhite', 'LSAT'): 0.823301257973325}"
      ]
     },
     "execution_count": 12,
     "metadata": {},
     "output_type": "execute_result"
    }
   ],
   "source": [
    "law_school.weights"
   ]
  },
  {
   "cell_type": "code",
   "execution_count": 13,
   "metadata": {},
   "outputs": [
    {
     "data": {
      "text/html": [
       "<div>\n",
       "<style scoped>\n",
       "    .dataframe tbody tr th:only-of-type {\n",
       "        vertical-align: middle;\n",
       "    }\n",
       "\n",
       "    .dataframe tbody tr th {\n",
       "        vertical-align: top;\n",
       "    }\n",
       "\n",
       "    .dataframe thead th {\n",
       "        text-align: right;\n",
       "    }\n",
       "</style>\n",
       "<table border=\"1\" class=\"dataframe\">\n",
       "  <thead>\n",
       "    <tr style=\"text-align: right;\">\n",
       "      <th></th>\n",
       "      <th>U</th>\n",
       "      <th>UGPA</th>\n",
       "      <th>LSAT</th>\n",
       "      <th>female</th>\n",
       "      <th>male</th>\n",
       "      <th>white</th>\n",
       "      <th>nonwhite</th>\n",
       "    </tr>\n",
       "  </thead>\n",
       "  <tbody>\n",
       "    <tr>\n",
       "      <th>U</th>\n",
       "      <td>0</td>\n",
       "      <td>0.350264</td>\n",
       "      <td>0.032696</td>\n",
       "      <td>0</td>\n",
       "      <td>0</td>\n",
       "      <td>0</td>\n",
       "      <td>0</td>\n",
       "    </tr>\n",
       "    <tr>\n",
       "      <th>UGPA</th>\n",
       "      <td>0</td>\n",
       "      <td>0.000000</td>\n",
       "      <td>0.000000</td>\n",
       "      <td>0</td>\n",
       "      <td>0</td>\n",
       "      <td>0</td>\n",
       "      <td>0</td>\n",
       "    </tr>\n",
       "    <tr>\n",
       "      <th>LSAT</th>\n",
       "      <td>0</td>\n",
       "      <td>0.000000</td>\n",
       "      <td>0.000000</td>\n",
       "      <td>0</td>\n",
       "      <td>0</td>\n",
       "      <td>0</td>\n",
       "      <td>0</td>\n",
       "    </tr>\n",
       "    <tr>\n",
       "      <th>female</th>\n",
       "      <td>0</td>\n",
       "      <td>0.773060</td>\n",
       "      <td>0.851098</td>\n",
       "      <td>0</td>\n",
       "      <td>0</td>\n",
       "      <td>0</td>\n",
       "      <td>0</td>\n",
       "    </tr>\n",
       "    <tr>\n",
       "      <th>male</th>\n",
       "      <td>0</td>\n",
       "      <td>0.640014</td>\n",
       "      <td>0.867346</td>\n",
       "      <td>0</td>\n",
       "      <td>0</td>\n",
       "      <td>0</td>\n",
       "      <td>0</td>\n",
       "    </tr>\n",
       "    <tr>\n",
       "      <th>white</th>\n",
       "      <td>0</td>\n",
       "      <td>0.938756</td>\n",
       "      <td>0.960812</td>\n",
       "      <td>0</td>\n",
       "      <td>0</td>\n",
       "      <td>0</td>\n",
       "      <td>0</td>\n",
       "    </tr>\n",
       "    <tr>\n",
       "      <th>nonwhite</th>\n",
       "      <td>0</td>\n",
       "      <td>0.713025</td>\n",
       "      <td>0.823301</td>\n",
       "      <td>0</td>\n",
       "      <td>0</td>\n",
       "      <td>0</td>\n",
       "      <td>0</td>\n",
       "    </tr>\n",
       "  </tbody>\n",
       "</table>\n",
       "</div>"
      ],
      "text/plain": [
       "          U      UGPA      LSAT  female  male  white  nonwhite\n",
       "U         0  0.350264  0.032696       0     0      0         0\n",
       "UGPA      0  0.000000  0.000000       0     0      0         0\n",
       "LSAT      0  0.000000  0.000000       0     0      0         0\n",
       "female    0  0.773060  0.851098       0     0      0         0\n",
       "male      0  0.640014  0.867346       0     0      0         0\n",
       "white     0  0.938756  0.960812       0     0      0         0\n",
       "nonwhite  0  0.713025  0.823301       0     0      0         0"
      ]
     },
     "execution_count": 13,
     "metadata": {},
     "output_type": "execute_result"
    }
   ],
   "source": [
    "law_school.adjacency_mtr"
   ]
  },
  {
   "cell_type": "code",
   "execution_count": 14,
   "metadata": {},
   "outputs": [
    {
     "data": {
      "text/plain": [
       "{'U': ['UGPA', 'LSAT'],\n",
       " 'UGPA': [],\n",
       " 'LSAT': [],\n",
       " 'female': ['UGPA', 'LSAT'],\n",
       " 'male': ['UGPA', 'LSAT'],\n",
       " 'white': ['UGPA', 'LSAT'],\n",
       " 'nonwhite': ['UGPA', 'LSAT']}"
      ]
     },
     "execution_count": 14,
     "metadata": {},
     "output_type": "execute_result"
    }
   ],
   "source": [
    "law_school.adjacency_lst"
   ]
  },
  {
   "cell_type": "markdown",
   "metadata": {},
   "source": [
    "### Define the SEM"
   ]
  },
  {
   "cell_type": "code",
   "execution_count": 15,
   "metadata": {},
   "outputs": [],
   "source": [
    "\n",
    "# UGPA\n",
    "def pred_ugpa(v_u, v_female, v_male, v_white, v_nonwhite):\n",
    "    return (ugpa_weights.loc[0, 'ugpa0'] + \n",
    "            law_school.adjacency_mtr.loc['U']['UGPA'] * v_u +\n",
    "            law_school.adjacency_mtr.loc['female']['UGPA'] * v_female +\n",
    "            law_school.adjacency_mtr.loc['male']['UGPA'] * v_male +\n",
    "            law_school.adjacency_mtr.loc['white']['UGPA'] * v_white +\n",
    "            law_school.adjacency_mtr.loc['nonwhite']['UGPA'] * v_nonwhite)\n",
    "\n",
    "# LSAT\n",
    "def pred_lsat(v_u, v_female, v_male, v_white, v_nonwhite):\n",
    "    return np.exp(lsat_weights.loc[0, 'lsat0'] + \n",
    "                  law_school.adjacency_mtr.loc['U']['LSAT'] * v_u +\n",
    "                  law_school.adjacency_mtr.loc['female']['LSAT'] * v_female +\n",
    "                  law_school.adjacency_mtr.loc['male']['LSAT'] * v_male +\n",
    "                  law_school.adjacency_mtr.loc['white']['LSAT'] * v_white +\n",
    "                  law_school.adjacency_mtr.loc['nonwhite']['LSAT'] * v_nonwhite)\n"
   ]
  },
  {
   "cell_type": "code",
   "execution_count": 16,
   "metadata": {},
   "outputs": [
    {
     "name": "stdout",
     "output_type": "stream",
     "text": [
      "introduce the structural equation model as a dict via 'SEM'\n",
      "provide def_ugpa function for UGPA\n",
      "provide def_lsat function for LSAT\n",
      "provide each in the form: 'lambda row: df_var(row[x1],...,row[xj])'\n"
     ]
    }
   ],
   "source": [
    "# not an ideal solution... hard to scale this var-specific approacj tbh\n",
    "law_school.define_sem()"
   ]
  },
  {
   "cell_type": "code",
   "execution_count": 17,
   "metadata": {},
   "outputs": [],
   "source": [
    "law_school.SEM['UGPA'] = lambda row: pred_ugpa(\n",
    "    v_u=row['U'], v_female=row['female'], v_male=row['male'], v_white=row['white'], v_nonwhite=row['nonwhite'])\n",
    "\n",
    "law_school.SEM['LSAT'] = lambda row: pred_lsat(\n",
    "    v_u=row['U'], v_female=row['female'], v_male=row['male'], v_white=row['white'], v_nonwhite=row['nonwhite'])"
   ]
  },
  {
   "cell_type": "code",
   "execution_count": 18,
   "metadata": {},
   "outputs": [
    {
     "name": "stdout",
     "output_type": "stream",
     "text": [
      "class instance already has a structural equation model dict; overwrite it via 'SEM' if needed\n"
     ]
    }
   ],
   "source": [
    "law_school.define_sem()"
   ]
  },
  {
   "cell_type": "markdown",
   "metadata": {},
   "source": [
    "### Generate the factuals"
   ]
  },
  {
   "cell_type": "code",
   "execution_count": 19,
   "metadata": {},
   "outputs": [
    {
     "name": "stdout",
     "output_type": "stream",
     "text": [
      "generating FCTs in the following order:\n",
      "UGPA\n",
      "LSAT\n",
      "generated the new variables:\n",
      "fct_UGPA\n",
      "fct_LSAT\n"
     ]
    }
   ],
   "source": [
    "test_df = law_school.run_sem(data=df)"
   ]
  },
  {
   "cell_type": "code",
   "execution_count": 20,
   "metadata": {},
   "outputs": [
    {
     "data": {
      "text/html": [
       "<div>\n",
       "<style scoped>\n",
       "    .dataframe tbody tr th:only-of-type {\n",
       "        vertical-align: middle;\n",
       "    }\n",
       "\n",
       "    .dataframe tbody tr th {\n",
       "        vertical-align: top;\n",
       "    }\n",
       "\n",
       "    .dataframe thead th {\n",
       "        text-align: right;\n",
       "    }\n",
       "</style>\n",
       "<table border=\"1\" class=\"dataframe\">\n",
       "  <thead>\n",
       "    <tr style=\"text-align: right;\">\n",
       "      <th></th>\n",
       "      <th>LSAT</th>\n",
       "      <th>UGPA</th>\n",
       "      <th>female</th>\n",
       "      <th>male</th>\n",
       "      <th>white</th>\n",
       "      <th>nonwhite</th>\n",
       "      <th>U</th>\n",
       "      <th>fct_UGPA</th>\n",
       "      <th>fct_LSAT</th>\n",
       "    </tr>\n",
       "  </thead>\n",
       "  <tbody>\n",
       "    <tr>\n",
       "      <th>2</th>\n",
       "      <td>36</td>\n",
       "      <td>3.0</td>\n",
       "      <td>1</td>\n",
       "      <td>0</td>\n",
       "      <td>1</td>\n",
       "      <td>0</td>\n",
       "      <td>-0.736926</td>\n",
       "      <td>3.074983</td>\n",
       "      <td>36.260282</td>\n",
       "    </tr>\n",
       "    <tr>\n",
       "      <th>3</th>\n",
       "      <td>30</td>\n",
       "      <td>3.1</td>\n",
       "      <td>0</td>\n",
       "      <td>1</td>\n",
       "      <td>1</td>\n",
       "      <td>0</td>\n",
       "      <td>-0.267031</td>\n",
       "      <td>3.106524</td>\n",
       "      <td>37.424839</td>\n",
       "    </tr>\n",
       "    <tr>\n",
       "      <th>4</th>\n",
       "      <td>39</td>\n",
       "      <td>2.2</td>\n",
       "      <td>0</td>\n",
       "      <td>1</td>\n",
       "      <td>0</td>\n",
       "      <td>1</td>\n",
       "      <td>-1.647028</td>\n",
       "      <td>2.397430</td>\n",
       "      <td>31.177707</td>\n",
       "    </tr>\n",
       "    <tr>\n",
       "      <th>5</th>\n",
       "      <td>37</td>\n",
       "      <td>3.4</td>\n",
       "      <td>1</td>\n",
       "      <td>0</td>\n",
       "      <td>1</td>\n",
       "      <td>0</td>\n",
       "      <td>0.118742</td>\n",
       "      <td>3.374692</td>\n",
       "      <td>37.289056</td>\n",
       "    </tr>\n",
       "    <tr>\n",
       "      <th>6</th>\n",
       "      <td>30</td>\n",
       "      <td>3.6</td>\n",
       "      <td>1</td>\n",
       "      <td>0</td>\n",
       "      <td>1</td>\n",
       "      <td>0</td>\n",
       "      <td>0.502870</td>\n",
       "      <td>3.509239</td>\n",
       "      <td>37.760340</td>\n",
       "    </tr>\n",
       "  </tbody>\n",
       "</table>\n",
       "</div>"
      ],
      "text/plain": [
       "   LSAT  UGPA  female  male  white  nonwhite         U  fct_UGPA   fct_LSAT\n",
       "2    36   3.0       1     0      1         0 -0.736926  3.074983  36.260282\n",
       "3    30   3.1       0     1      1         0 -0.267031  3.106524  37.424839\n",
       "4    39   2.2       0     1      0         1 -1.647028  2.397430  31.177707\n",
       "5    37   3.4       1     0      1         0  0.118742  3.374692  37.289056\n",
       "6    30   3.6       1     0      1         0  0.502870  3.509239  37.760340"
      ]
     },
     "execution_count": 20,
     "metadata": {},
     "output_type": "execute_result"
    }
   ],
   "source": [
    "test_df.head(5)"
   ]
  },
  {
   "cell_type": "code",
   "execution_count": null,
   "metadata": {},
   "outputs": [],
   "source": [
    "# df['fct_UGPA'] = df.apply(lambda row: pred_ugpa(\n",
    "#     v_u=row['U'], v_female=row['female'], v_male=row['male'], v_white=row['white'], v_nonwhite=row['nonwhite']),\n",
    "#                           axis=1\n",
    "#                          )\n",
    "\n",
    "# df['fct_LSAT'] = df.apply(lambda row: pred_lsat(\n",
    "#     v_u=row['U'], v_female=row['female'], v_male=row['male'], v_white=row['white'], v_nonwhite=row['nonwhite']), \n",
    "#                           axis=1\n",
    "#                          )"
   ]
  },
  {
   "cell_type": "markdown",
   "metadata": {},
   "source": [
    "### Generate the structural counterfactuals"
   ]
  },
  {
   "cell_type": "code",
   "execution_count": 21,
   "metadata": {},
   "outputs": [],
   "source": [
    "test_do = {'female': 0, 'male': 1}\n",
    "test_do_desc = 'do_male'"
   ]
  },
  {
   "cell_type": "code",
   "execution_count": 22,
   "metadata": {},
   "outputs": [
    {
     "name": "stdout",
     "output_type": "stream",
     "text": [
      "do(female=0)\n",
      "do(male=1)\n",
      "generating SCFs in the following order:\n",
      "UGPA\n",
      "LSAT\n",
      "generated the new variables:\n",
      "scf_UGPA\n",
      "scf_LSAT\n"
     ]
    }
   ],
   "source": [
    "test_df2 = law_school.generate_scfs(do=test_do, do_desc=test_do_desc, data=test_df)"
   ]
  },
  {
   "cell_type": "code",
   "execution_count": 23,
   "metadata": {},
   "outputs": [
    {
     "data": {
      "text/html": [
       "<div>\n",
       "<style scoped>\n",
       "    .dataframe tbody tr th:only-of-type {\n",
       "        vertical-align: middle;\n",
       "    }\n",
       "\n",
       "    .dataframe tbody tr th {\n",
       "        vertical-align: top;\n",
       "    }\n",
       "\n",
       "    .dataframe thead th {\n",
       "        text-align: right;\n",
       "    }\n",
       "</style>\n",
       "<table border=\"1\" class=\"dataframe\">\n",
       "  <thead>\n",
       "    <tr style=\"text-align: right;\">\n",
       "      <th></th>\n",
       "      <th>LSAT</th>\n",
       "      <th>UGPA</th>\n",
       "      <th>female</th>\n",
       "      <th>male</th>\n",
       "      <th>white</th>\n",
       "      <th>nonwhite</th>\n",
       "      <th>U</th>\n",
       "      <th>fct_UGPA</th>\n",
       "      <th>fct_LSAT</th>\n",
       "      <th>org_female</th>\n",
       "      <th>org_male</th>\n",
       "      <th>scf_UGPA</th>\n",
       "      <th>scf_LSAT</th>\n",
       "    </tr>\n",
       "  </thead>\n",
       "  <tbody>\n",
       "    <tr>\n",
       "      <th>2</th>\n",
       "      <td>36</td>\n",
       "      <td>3.0</td>\n",
       "      <td>0</td>\n",
       "      <td>1</td>\n",
       "      <td>1</td>\n",
       "      <td>0</td>\n",
       "      <td>-0.736926</td>\n",
       "      <td>3.074983</td>\n",
       "      <td>36.260282</td>\n",
       "      <td>1</td>\n",
       "      <td>0</td>\n",
       "      <td>2.941937</td>\n",
       "      <td>36.854251</td>\n",
       "    </tr>\n",
       "    <tr>\n",
       "      <th>3</th>\n",
       "      <td>30</td>\n",
       "      <td>3.1</td>\n",
       "      <td>0</td>\n",
       "      <td>1</td>\n",
       "      <td>1</td>\n",
       "      <td>0</td>\n",
       "      <td>-0.267031</td>\n",
       "      <td>3.106524</td>\n",
       "      <td>37.424839</td>\n",
       "      <td>0</td>\n",
       "      <td>1</td>\n",
       "      <td>3.106524</td>\n",
       "      <td>37.424839</td>\n",
       "    </tr>\n",
       "    <tr>\n",
       "      <th>4</th>\n",
       "      <td>39</td>\n",
       "      <td>2.2</td>\n",
       "      <td>0</td>\n",
       "      <td>1</td>\n",
       "      <td>0</td>\n",
       "      <td>1</td>\n",
       "      <td>-1.647028</td>\n",
       "      <td>2.397430</td>\n",
       "      <td>31.177707</td>\n",
       "      <td>0</td>\n",
       "      <td>1</td>\n",
       "      <td>2.397430</td>\n",
       "      <td>31.177707</td>\n",
       "    </tr>\n",
       "    <tr>\n",
       "      <th>5</th>\n",
       "      <td>37</td>\n",
       "      <td>3.4</td>\n",
       "      <td>0</td>\n",
       "      <td>1</td>\n",
       "      <td>1</td>\n",
       "      <td>0</td>\n",
       "      <td>0.118742</td>\n",
       "      <td>3.374692</td>\n",
       "      <td>37.289056</td>\n",
       "      <td>1</td>\n",
       "      <td>0</td>\n",
       "      <td>3.241646</td>\n",
       "      <td>37.899877</td>\n",
       "    </tr>\n",
       "    <tr>\n",
       "      <th>6</th>\n",
       "      <td>30</td>\n",
       "      <td>3.6</td>\n",
       "      <td>0</td>\n",
       "      <td>1</td>\n",
       "      <td>1</td>\n",
       "      <td>0</td>\n",
       "      <td>0.502870</td>\n",
       "      <td>3.509239</td>\n",
       "      <td>37.760340</td>\n",
       "      <td>1</td>\n",
       "      <td>0</td>\n",
       "      <td>3.376193</td>\n",
       "      <td>38.378880</td>\n",
       "    </tr>\n",
       "    <tr>\n",
       "      <th>...</th>\n",
       "      <td>...</td>\n",
       "      <td>...</td>\n",
       "      <td>...</td>\n",
       "      <td>...</td>\n",
       "      <td>...</td>\n",
       "      <td>...</td>\n",
       "      <td>...</td>\n",
       "      <td>...</td>\n",
       "      <td>...</td>\n",
       "      <td>...</td>\n",
       "      <td>...</td>\n",
       "      <td>...</td>\n",
       "      <td>...</td>\n",
       "    </tr>\n",
       "    <tr>\n",
       "      <th>21781</th>\n",
       "      <td>33</td>\n",
       "      <td>3.8</td>\n",
       "      <td>0</td>\n",
       "      <td>1</td>\n",
       "      <td>1</td>\n",
       "      <td>0</td>\n",
       "      <td>0.927105</td>\n",
       "      <td>3.657833</td>\n",
       "      <td>38.287753</td>\n",
       "      <td>1</td>\n",
       "      <td>0</td>\n",
       "      <td>3.524787</td>\n",
       "      <td>38.914933</td>\n",
       "    </tr>\n",
       "    <tr>\n",
       "      <th>21783</th>\n",
       "      <td>31</td>\n",
       "      <td>3.5</td>\n",
       "      <td>0</td>\n",
       "      <td>1</td>\n",
       "      <td>1</td>\n",
       "      <td>0</td>\n",
       "      <td>0.319252</td>\n",
       "      <td>3.444924</td>\n",
       "      <td>37.534322</td>\n",
       "      <td>1</td>\n",
       "      <td>0</td>\n",
       "      <td>3.311878</td>\n",
       "      <td>38.149160</td>\n",
       "    </tr>\n",
       "    <tr>\n",
       "      <th>21784</th>\n",
       "      <td>28</td>\n",
       "      <td>3.3</td>\n",
       "      <td>0</td>\n",
       "      <td>1</td>\n",
       "      <td>1</td>\n",
       "      <td>0</td>\n",
       "      <td>0.164339</td>\n",
       "      <td>3.257617</td>\n",
       "      <td>37.956422</td>\n",
       "      <td>0</td>\n",
       "      <td>1</td>\n",
       "      <td>3.257617</td>\n",
       "      <td>37.956422</td>\n",
       "    </tr>\n",
       "    <tr>\n",
       "      <th>21788</th>\n",
       "      <td>36</td>\n",
       "      <td>4.0</td>\n",
       "      <td>0</td>\n",
       "      <td>1</td>\n",
       "      <td>1</td>\n",
       "      <td>0</td>\n",
       "      <td>1.426279</td>\n",
       "      <td>3.832676</td>\n",
       "      <td>38.917775</td>\n",
       "      <td>1</td>\n",
       "      <td>0</td>\n",
       "      <td>3.699629</td>\n",
       "      <td>39.555275</td>\n",
       "    </tr>\n",
       "    <tr>\n",
       "      <th>21789</th>\n",
       "      <td>31</td>\n",
       "      <td>2.9</td>\n",
       "      <td>0</td>\n",
       "      <td>1</td>\n",
       "      <td>1</td>\n",
       "      <td>0</td>\n",
       "      <td>-0.706019</td>\n",
       "      <td>2.952762</td>\n",
       "      <td>36.891512</td>\n",
       "      <td>0</td>\n",
       "      <td>1</td>\n",
       "      <td>2.952762</td>\n",
       "      <td>36.891512</td>\n",
       "    </tr>\n",
       "  </tbody>\n",
       "</table>\n",
       "<p>10896 rows × 13 columns</p>\n",
       "</div>"
      ],
      "text/plain": [
       "       LSAT  UGPA  female  male  white  nonwhite         U  fct_UGPA  \\\n",
       "2        36   3.0       0     1      1         0 -0.736926  3.074983   \n",
       "3        30   3.1       0     1      1         0 -0.267031  3.106524   \n",
       "4        39   2.2       0     1      0         1 -1.647028  2.397430   \n",
       "5        37   3.4       0     1      1         0  0.118742  3.374692   \n",
       "6        30   3.6       0     1      1         0  0.502870  3.509239   \n",
       "...     ...   ...     ...   ...    ...       ...       ...       ...   \n",
       "21781    33   3.8       0     1      1         0  0.927105  3.657833   \n",
       "21783    31   3.5       0     1      1         0  0.319252  3.444924   \n",
       "21784    28   3.3       0     1      1         0  0.164339  3.257617   \n",
       "21788    36   4.0       0     1      1         0  1.426279  3.832676   \n",
       "21789    31   2.9       0     1      1         0 -0.706019  2.952762   \n",
       "\n",
       "        fct_LSAT  org_female  org_male  scf_UGPA   scf_LSAT  \n",
       "2      36.260282           1         0  2.941937  36.854251  \n",
       "3      37.424839           0         1  3.106524  37.424839  \n",
       "4      31.177707           0         1  2.397430  31.177707  \n",
       "5      37.289056           1         0  3.241646  37.899877  \n",
       "6      37.760340           1         0  3.376193  38.378880  \n",
       "...          ...         ...       ...       ...        ...  \n",
       "21781  38.287753           1         0  3.524787  38.914933  \n",
       "21783  37.534322           1         0  3.311878  38.149160  \n",
       "21784  37.956422           0         1  3.257617  37.956422  \n",
       "21788  38.917775           1         0  3.699629  39.555275  \n",
       "21789  36.891512           0         1  2.952762  36.891512  \n",
       "\n",
       "[10896 rows x 13 columns]"
      ]
     },
     "execution_count": 23,
     "metadata": {},
     "output_type": "execute_result"
    }
   ],
   "source": [
    "test_df2"
   ]
  },
  {
   "cell_type": "code",
   "execution_count": null,
   "metadata": {},
   "outputs": [],
   "source": [
    "# individual SCF method?"
   ]
  },
  {
   "cell_type": "code",
   "execution_count": null,
   "metadata": {},
   "outputs": [],
   "source": []
  },
  {
   "cell_type": "code",
   "execution_count": null,
   "metadata": {},
   "outputs": [],
   "source": []
  },
  {
   "cell_type": "markdown",
   "metadata": {},
   "source": [
    "### KNN?"
   ]
  },
  {
   "cell_type": "code",
   "execution_count": null,
   "metadata": {},
   "outputs": [],
   "source": [
    "from sklearn.neighbors import NearestNeighbors\n",
    "from sklearn.neighbors import BallTree\n",
    "import scipy"
   ]
  },
  {
   "cell_type": "code",
   "execution_count": null,
   "metadata": {},
   "outputs": [],
   "source": [
    "# consider the group female\n",
    "df[df['male'] == 0].head(5)"
   ]
  },
  {
   "cell_type": "code",
   "execution_count": null,
   "metadata": {},
   "outputs": [],
   "source": [
    "# consider the female i=2\n",
    "i = 2\n",
    "# such that\n",
    "i_fct = do_df.loc[i, ['UGPA', 'LSAT']] # or shoulf I predict it? should I also incorporate threshold\n",
    "print(i_fct)\n",
    "i_scf = do_df.loc[i, ['scf_UGPA', 'scf_LSAT']]\n",
    "print(i_scf)"
   ]
  },
  {
   "cell_type": "code",
   "execution_count": null,
   "metadata": {},
   "outputs": [],
   "source": [
    "# create the control group around i_fct\n",
    "X_cont = df[df['male']==0][['UGPA', 'LSAT']].copy()\n",
    "X_cont.head(5)"
   ]
  },
  {
   "cell_type": "code",
   "execution_count": null,
   "metadata": {},
   "outputs": [],
   "source": [
    "X_cont.to_numpy()"
   ]
  },
  {
   "cell_type": "code",
   "execution_count": null,
   "metadata": {},
   "outputs": [],
   "source": [
    "tree = BallTree(X_cont.to_numpy(), leaf_size=2) \n",
    "tree"
   ]
  },
  {
   "cell_type": "code",
   "execution_count": null,
   "metadata": {},
   "outputs": [],
   "source": [
    "dist, ind = tree.query([X_cont.to_numpy()[i]], k=11) \n",
    "#dist, ind = tree.query([i_fct.to_numpy()[i]], k=11) \n",
    "print(dist)\n",
    "print(ind)"
   ]
  },
  {
   "cell_type": "code",
   "execution_count": null,
   "metadata": {},
   "outputs": [],
   "source": [
    "# it returns itself\n",
    "print(i_fct)\n",
    "X_cont.iloc[205]"
   ]
  },
  {
   "cell_type": "code",
   "execution_count": null,
   "metadata": {},
   "outputs": [],
   "source": []
  },
  {
   "cell_type": "code",
   "execution_count": null,
   "metadata": {},
   "outputs": [],
   "source": [
    "# create the test group around i_fct\n",
    "X_test = do_df[do_df['org_male']==1][['scf_UGPA', 'scf_LSAT']].copy()\n",
    "X_test.head(5)"
   ]
  },
  {
   "cell_type": "code",
   "execution_count": null,
   "metadata": {},
   "outputs": [],
   "source": [
    "tree_t = BallTree(X_test.to_numpy(), leaf_size=2) \n",
    "tree_t"
   ]
  },
  {
   "cell_type": "code",
   "execution_count": null,
   "metadata": {},
   "outputs": [],
   "source": [
    "[do_df.loc[i, ['scf_UGPA', 'scf_LSAT']].to_numpy()]"
   ]
  },
  {
   "cell_type": "code",
   "execution_count": null,
   "metadata": {},
   "outputs": [],
   "source": [
    "dist, ind = tree.query([do_df.loc[i, ['scf_UGPA', 'scf_LSAT']].to_numpy()], k=11) \n",
    "#dist, ind = tree.query([i_fct.to_numpy()[i]], k=11) \n",
    "print(dist)\n",
    "print(ind)"
   ]
  },
  {
   "cell_type": "code",
   "execution_count": null,
   "metadata": {},
   "outputs": [],
   "source": [
    "print(i_fct)\n",
    "print(i_scf)\n",
    "X_test.loc[3408, ]"
   ]
  },
  {
   "cell_type": "code",
   "execution_count": null,
   "metadata": {},
   "outputs": [],
   "source": [
    "# bit strange the joint search???! ask salvatore... we could prioratize given the causal order (i.e. the weights?)\n",
    "# but this seems to be the pipeline, no? generate i_fct and i_scf, train a ball on A=a and A=a' respectively,\n",
    "# and then find the closes neighbors \n"
   ]
  },
  {
   "cell_type": "code",
   "execution_count": null,
   "metadata": {},
   "outputs": [],
   "source": []
  },
  {
   "cell_type": "code",
   "execution_count": null,
   "metadata": {},
   "outputs": [],
   "source": []
  },
  {
   "cell_type": "code",
   "execution_count": null,
   "metadata": {},
   "outputs": [],
   "source": []
  },
  {
   "cell_type": "markdown",
   "metadata": {},
   "source": [
    "### --- misc:"
   ]
  },
  {
   "cell_type": "code",
   "execution_count": null,
   "metadata": {},
   "outputs": [],
   "source": [
    "# male ugpa + white ugpa + ugpa_intercept\n",
    "0.761571 + 0.880808 + 1.574632\n",
    "# gives the intercept when I run male and white as the baseline\n",
    "# but here is interesting bcs i wonder how this looks in terms of edges, no?"
   ]
  },
  {
   "cell_type": "code",
   "execution_count": null,
   "metadata": {},
   "outputs": [],
   "source": [
    "\"\"\"\n",
    "same dist of Us and LSAT and UGPA for male and white as benchmarks\n",
    "> sense_cols\n",
    "[1] \"female\"   \"nonwhite\"\n",
    "> eta_a_ugpa\n",
    "[1]  0.1132429 -0.2275812\n",
    "> eta_a_lsat\n",
    "[1] -0.01449607 -0.13603405\n",
    "> ugpa0\n",
    "[1] 3.216965\n",
    "> lsat0\n",
    "[1] 3.627609\n",
    "\"\"\""
   ]
  },
  {
   "cell_type": "code",
   "execution_count": null,
   "metadata": {},
   "outputs": [],
   "source": [
    "# we can retreive the weights too...\n",
    "# ugpa0 would mean white and male.. thus:\n",
    "3.216965 + -0.2275812 # male + non-white\n",
    "\n",
    "# vs all vars\n",
    "0.761571 + 0.652492 -0.262836"
   ]
  },
  {
   "cell_type": "code",
   "execution_count": null,
   "metadata": {},
   "outputs": [],
   "source": [
    "\"\"\"\n",
    "without the intercepts but still same dist of Us and LSAT and UGPA for male and white as benchmarks\n",
    "> sense_cols\n",
    "[1] \"female\"   \"male\"     \"white\"    \"nonwhite\"\n",
    "> eta_a_ugpa\n",
    "[1] 1.621399 1.508263 1.708761 1.480915\n",
    "> eta_a_lsat\n",
    "[1] 1.776778 1.791329 1.836215 1.700086\n",
    "\n",
    "> eta_u_ugpa\n",
    "[1] 0.2690262\n",
    "> eta_u_lsat\n",
    "[1] 0.02924528\n",
    "\"\"\"\n",
    "\n",
    "#https://stats.stackexchange.com/questions/7948/when-is-it-ok-to-remove-the-intercept-in-a-linear-regression-model\n",
    "#https://stats.oarc.ucla.edu/other/mult-pkg/faq/general/faq-why-are-r2-and-f-so-large-for-models-without-a-constant/\n",
    "\n",
    "# first, it's whether to include or not the intercept, which I think we should. otherwise, we claim that the \n",
    "# function passes through 0 and E[Y|X=0]=0 which is not the case, here\n",
    "# second, whethere to include all the single encodings or the diverging groups\n",
    "# based on standard ML and Stats practices, if we include the intercept, we should drop the base group(s) for proper identification\n",
    "# not sure why kusner didn't do this in their paper... when, e.g., they ran their models and R kept dropping variables\n",
    "# bcs they had an intercept!"
   ]
  },
  {
   "cell_type": "code",
   "execution_count": null,
   "metadata": {},
   "outputs": [],
   "source": [
    "# we need to know the functional specifications of each X\n",
    "# the dag to know where to intervene \n",
    "# tbh.... I don't get the weights? why do we need to find U|evidence? the abduction step makes no sense!!!\n",
    "# maybe ask karima?"
   ]
  },
  {
   "cell_type": "code",
   "execution_count": null,
   "metadata": {},
   "outputs": [],
   "source": [
    "# consider some factual of a female candidate\n",
    "i = 0 \n",
    "df.iloc[i,]"
   ]
  },
  {
   "cell_type": "code",
   "execution_count": null,
   "metadata": {},
   "outputs": [],
   "source": [
    "i_ugpa_scf = ugpa_w[\"ugpa0\"] + ugpa_w[\"eta_u_ugpa\"]*df.iloc[i]['U'] + ugpa_w['white'] + ugpa_w['male']\n",
    "i_ugpa_scf"
   ]
  },
  {
   "cell_type": "code",
   "execution_count": null,
   "metadata": {},
   "outputs": [],
   "source": [
    "i_lsat_scf = np.exp(lsat_w[\"lsat0\"] + lsat_w[\"eta_u_lsat\"]*df.iloc[i]['U'] + lsat_w['white'] + lsat_w['male'])\n",
    "i_lsat_scf"
   ]
  },
  {
   "cell_type": "code",
   "execution_count": null,
   "metadata": {},
   "outputs": [],
   "source": [
    "# the above mapping needs to be made cleaner... like a class.. translate the dag into a mapping [check the imt scripts for inspiration]\n"
   ]
  }
 ],
 "metadata": {
  "kernelspec": {
   "display_name": "fair_ml",
   "language": "python",
   "name": "fair_ml"
  },
  "language_info": {
   "codemirror_mode": {
    "name": "ipython",
    "version": 3
   },
   "file_extension": ".py",
   "mimetype": "text/x-python",
   "name": "python",
   "nbconvert_exporter": "python",
   "pygments_lexer": "ipython3",
   "version": "3.8.5"
  }
 },
 "nbformat": 4,
 "nbformat_minor": 4
}
