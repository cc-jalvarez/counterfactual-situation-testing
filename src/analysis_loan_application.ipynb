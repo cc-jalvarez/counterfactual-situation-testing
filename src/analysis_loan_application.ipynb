{
 "cells": [
  {
   "cell_type": "markdown",
   "metadata": {},
   "source": [
    "# Analysis for Section 5.1"
   ]
  },
  {
   "cell_type": "code",
   "execution_count": 1,
   "metadata": {},
   "outputs": [],
   "source": [
    "%load_ext autoreload\n",
    "%autoreload 2\n",
    "import os\n",
    "import sys\n",
    "import random\n",
    "import pandas as pd\n",
    "import numpy as np\n",
    "import seaborn as sns\n",
    "import matplotlib.pyplot as plt\n",
    "# src files\n",
    "from situation_testing.situation_testing import SituationTesting\n",
    "# plot params\n",
    "plt.style.use('seaborn-whitegrid')\n",
    "plt.rc('font', size=11)\n",
    "plt.rc('legend', fontsize=11)\n",
    "plt.rc('lines', linewidth=2)\n",
    "plt.rc('axes', linewidth=2)\n",
    "plt.rc('axes', edgecolor='k')\n",
    "plt.rc('xtick.major', width=2)\n",
    "plt.rc('xtick.major', size=6)\n",
    "plt.rc('ytick.major', width=2)\n",
    "plt.rc('ytick.major', size=6)\n",
    "plt.rc('pdf', fonttype=42)\n",
    "plt.rc('ps', fonttype=42)"
   ]
  },
  {
   "cell_type": "code",
   "execution_count": 2,
   "metadata": {},
   "outputs": [],
   "source": [
    "# working directory\n",
    "wd = os.path.dirname(os.getcwd())\n",
    "# relevant folders\n",
    "data_path = os.path.abspath(os.path.join(wd, 'data')) + '\\\\'\n",
    "resu_path = os.path.abspath(os.path.join(wd, 'results')) + '\\\\'"
   ]
  },
  {
   "cell_type": "code",
   "execution_count": 3,
   "metadata": {},
   "outputs": [],
   "source": [
    "# factual dataset\n",
    "org_df    = pd.read_csv(data_path + 'LoanApplication_v2.csv', sep='|', )\n",
    "# counterfactual dataset\n",
    "org_cf_df = pd.read_csv(data_path + 'counterfactuals\\\\cf_LoanApplication_v2.csv', sep='|', )"
   ]
  },
  {
   "cell_type": "code",
   "execution_count": 4,
   "metadata": {},
   "outputs": [
    {
     "data": {
      "text/plain": [
       "Text(0.5, 0, 'Annual salary ($X1$) for females')"
      ]
     },
     "execution_count": 4,
     "metadata": {},
     "output_type": "execute_result"
    },
    {
     "data": {
      "image/png": "[encoded data removed]",
      "text/plain": [
       "<Figure size 432x288 with 1 Axes>"
      ]
     },
     "metadata": {},
     "output_type": "display_data"
    }
   ],
   "source": [
    "# distributions for X1\n",
    "b = 150\n",
    "plt.hist(org_df[org_df['Gender'] == 1]['AnnualSalary'], bins=b, alpha=0.9, label=r'$X_1^F$')\n",
    "plt.hist(org_cf_df[org_cf_df['Gender'] == 1]['AnnualSalary'], bins=b, alpha=0.7, label=r'$X_1^{CF}$')\n",
    "plt.legend(loc='upper right')\n",
    "plt.ylabel('Frequency')\n",
    "plt.xlabel(r'Annual salary ($X1$) for females')"
   ]
  },
  {
   "cell_type": "code",
   "execution_count": null,
   "metadata": {},
   "outputs": [],
   "source": [
    "# import seaborn as sns\n",
    "\n",
    "# fig, ax = plt.subplots()\n",
    "# sns.kdeplot(org_df[org_df['Gender'] == 1]['AnnualSalary'], alpha=0.9, label=r'$X_1^F$', ax=ax)\n",
    "# sns.kdeplot(org_cf_df[org_cf_df['Gender'] == 1]['AnnualSalary'], alpha=0.7, label=r'$X_1^{CF}$', ax=ax)\n",
    "# plt.legend(loc='upper right')\n",
    "# plt.ylabel('Density')\n",
    "# plt.xlabel(r'Annual salary ($X1$) for females')"
   ]
  },
  {
   "cell_type": "code",
   "execution_count": 5,
   "metadata": {},
   "outputs": [
    {
     "data": {
      "text/plain": [
       "Text(0.5, 0, 'Account balance ($X_2$) for females')"
      ]
     },
     "execution_count": 5,
     "metadata": {},
     "output_type": "execute_result"
    },
    {
     "data": {
      "image/png": "[encoded data removed]",
      "text/plain": [
       "<Figure size 432x288 with 1 Axes>"
      ]
     },
     "metadata": {},
     "output_type": "display_data"
    }
   ],
   "source": [
    "# distributions X2\n",
    "b = 150\n",
    "plt.hist(org_df[org_df['Gender'] == 1]['AccountBalance'], bins=b, alpha=0.9, label=r'$X_2^F$')\n",
    "plt.hist(org_cf_df[org_cf_df['Gender'] == 1]['AccountBalance'], bins=b, alpha=0.7, label=r'$X_2^{CF}$')\n",
    "plt.legend(loc='upper right')\n",
    "plt.ylabel('Frequency')\n",
    "plt.xlabel(r'Account balance ($X_2$) for females')"
   ]
  },
  {
   "cell_type": "code",
   "execution_count": null,
   "metadata": {},
   "outputs": [],
   "source": [
    "# import seaborn as sns\n",
    "\n",
    "# fig, ax = plt.subplots()\n",
    "# sns.kdeplot(org_df[org_df['Gender'] == 1]['AccountBalance'], alpha=0.9, label=r'$X_1^F$', ax=ax)\n",
    "# sns.kdeplot(org_cf_df[org_cf_df['Gender'] == 1]['AccountBalance'], alpha=0.7, label=r'$X_1^{CF}$', ax=ax)\n",
    "# plt.legend(loc='upper right')\n",
    "# plt.ylabel('Density')\n",
    "# plt.xlabel(r'Account balance ($X1$) for females')"
   ]
  },
  {
   "cell_type": "markdown",
   "metadata": {},
   "source": [
    "## Paremeters\n",
    "\n",
    "For the analysis, we run *standard ST* (stST), *counterfactual ST* (cfST) with and without the search centers, and *counterfactual fairness* (CF). Notice that CF is already included within cfST when incuding the search centers."
   ]
  },
  {
   "cell_type": "code",
   "execution_count": 6,
   "metadata": {},
   "outputs": [],
   "source": [
    "### attribute-specific params\n",
    "feat_trgt = 'LoanApproval'\n",
    "feat_trgt_vals = {'positive': 1, 'negative': -1}\n",
    "# list of relevant features\n",
    "feat_rlvt = ['AnnualSalary', 'AccountBalance']\n",
    "# protected feature\n",
    "feat_prot = 'Gender'\n",
    "# values for the protected feature: use 'non_protected' and 'protected' accordingly\n",
    "feat_prot_vals = {'non_protected': 0, 'protected': 1}\n",
    "\n",
    "### st-specific params\n",
    "# size of neighborhoods\n",
    "n = 15\n",
    "# significance level\n",
    "alpha = 0.05\n",
    "# tau diviation\n",
    "tau = 0.0"
   ]
  },
  {
   "cell_type": "code",
   "execution_count": 7,
   "metadata": {},
   "outputs": [],
   "source": [
    "res_df = org_df[['Gender', 'LoanApproval']].copy()\n",
    "res_df['cf_LoanApproval'] = org_cf_df['LoanApproval'].copy()"
   ]
  },
  {
   "cell_type": "markdown",
   "metadata": {},
   "source": [
    "**Other fairness measures?** Here, we only have access to $\\hat{Y}$ from the ADM $b()$. There's no groundtruth $Y$. Hence, we focus on *demographic parity* (DP) where we compare the approval rates of $b()$ around gender.   "
   ]
  },
  {
   "cell_type": "code",
   "execution_count": 8,
   "metadata": {},
   "outputs": [
    {
     "name": "stdout",
     "output_type": "stream",
     "text": [
      "13.498898457840976\n",
      "39.97596635289405\n",
      "21.029441217704786\n"
     ]
    }
   ],
   "source": [
    "# f applicants\n",
    "print(res_df[(res_df['Gender'] == 1) & (res_df['LoanApproval'] == 1)].shape[0] / res_df.shape[0]*100)\n",
    "# m applicants\n",
    "print(res_df[(res_df['Gender'] == 0) & (res_df['LoanApproval'] == 1)].shape[0] / res_df.shape[0]*100)\n",
    "# and f^cf applicants\n",
    "print(res_df[(res_df['Gender'] == 1) & (res_df['cf_LoanApproval'] == 1)].shape[0] / res_df.shape[0]*100)"
   ]
  },
  {
   "cell_type": "code",
   "execution_count": 9,
   "metadata": {},
   "outputs": [
    {
     "name": "stdout",
     "output_type": "stream",
     "text": [
      "1712\n",
      "34.28800320448628\n",
      "3281\n",
      "65.71199679551371\n"
     ]
    }
   ],
   "source": [
    "# num. and % females\n",
    "print(res_df[(res_df['Gender'] == 1)].shape[0])\n",
    "print(res_df[(res_df['Gender'] == 1)].shape[0]/res_df.shape[0]*100)\n",
    "# num. and % males\n",
    "print(res_df[(res_df['Gender'] == 0)].shape[0])\n",
    "print(res_df[(res_df['Gender'] == 0)].shape[0]/res_df.shape[0]*100)"
   ]
  },
  {
   "cell_type": "code",
   "execution_count": 10,
   "metadata": {},
   "outputs": [
    {
     "data": {
      "text/html": [
       "<div>\n",
       "<style scoped>\n",
       "    .dataframe tbody tr th:only-of-type {\n",
       "        vertical-align: middle;\n",
       "    }\n",
       "\n",
       "    .dataframe tbody tr th {\n",
       "        vertical-align: top;\n",
       "    }\n",
       "\n",
       "    .dataframe thead tr th {\n",
       "        text-align: left;\n",
       "    }\n",
       "\n",
       "    .dataframe thead tr:last-of-type th {\n",
       "        text-align: right;\n",
       "    }\n",
       "</style>\n",
       "<table border=\"1\" class=\"dataframe\">\n",
       "  <thead>\n",
       "    <tr>\n",
       "      <th></th>\n",
       "      <th colspan=\"8\" halign=\"left\">AnnualSalary</th>\n",
       "      <th colspan=\"8\" halign=\"left\">AccountBalance</th>\n",
       "    </tr>\n",
       "    <tr>\n",
       "      <th></th>\n",
       "      <th>count</th>\n",
       "      <th>mean</th>\n",
       "      <th>std</th>\n",
       "      <th>min</th>\n",
       "      <th>25%</th>\n",
       "      <th>50%</th>\n",
       "      <th>75%</th>\n",
       "      <th>max</th>\n",
       "      <th>count</th>\n",
       "      <th>mean</th>\n",
       "      <th>std</th>\n",
       "      <th>min</th>\n",
       "      <th>25%</th>\n",
       "      <th>50%</th>\n",
       "      <th>75%</th>\n",
       "      <th>max</th>\n",
       "    </tr>\n",
       "    <tr>\n",
       "      <th>Gender</th>\n",
       "      <th></th>\n",
       "      <th></th>\n",
       "      <th></th>\n",
       "      <th></th>\n",
       "      <th></th>\n",
       "      <th></th>\n",
       "      <th></th>\n",
       "      <th></th>\n",
       "      <th></th>\n",
       "      <th></th>\n",
       "      <th></th>\n",
       "      <th></th>\n",
       "      <th></th>\n",
       "      <th></th>\n",
       "      <th></th>\n",
       "      <th></th>\n",
       "    </tr>\n",
       "  </thead>\n",
       "  <tbody>\n",
       "    <tr>\n",
       "      <th>0</th>\n",
       "      <td>3281.0</td>\n",
       "      <td>100655.288022</td>\n",
       "      <td>32509.337921</td>\n",
       "      <td>0.0</td>\n",
       "      <td>80000.0</td>\n",
       "      <td>100000.0</td>\n",
       "      <td>120000.0</td>\n",
       "      <td>270000.0</td>\n",
       "      <td>3281.0</td>\n",
       "      <td>30207.080998</td>\n",
       "      <td>10049.337215</td>\n",
       "      <td>1851.659180</td>\n",
       "      <td>23155.540103</td>\n",
       "      <td>29621.162415</td>\n",
       "      <td>36932.950341</td>\n",
       "      <td>76890.356632</td>\n",
       "    </tr>\n",
       "    <tr>\n",
       "      <th>1</th>\n",
       "      <td>1712.0</td>\n",
       "      <td>84858.936916</td>\n",
       "      <td>31634.447552</td>\n",
       "      <td>5000.0</td>\n",
       "      <td>62000.0</td>\n",
       "      <td>83500.0</td>\n",
       "      <td>106500.0</td>\n",
       "      <td>201000.0</td>\n",
       "      <td>1712.0</td>\n",
       "      <td>24302.708042</td>\n",
       "      <td>9789.640507</td>\n",
       "      <td>498.017847</td>\n",
       "      <td>17453.300194</td>\n",
       "      <td>23786.967583</td>\n",
       "      <td>30923.074636</td>\n",
       "      <td>59268.504239</td>\n",
       "    </tr>\n",
       "  </tbody>\n",
       "</table>\n",
       "</div>"
      ],
      "text/plain": [
       "       AnnualSalary                                                          \\\n",
       "              count           mean           std     min      25%       50%   \n",
       "Gender                                                                        \n",
       "0            3281.0  100655.288022  32509.337921     0.0  80000.0  100000.0   \n",
       "1            1712.0   84858.936916  31634.447552  5000.0  62000.0   83500.0   \n",
       "\n",
       "                           AccountBalance                              \\\n",
       "             75%       max          count          mean           std   \n",
       "Gender                                                                  \n",
       "0       120000.0  270000.0         3281.0  30207.080998  10049.337215   \n",
       "1       106500.0  201000.0         1712.0  24302.708042   9789.640507   \n",
       "\n",
       "                                                                             \n",
       "                min           25%           50%           75%           max  \n",
       "Gender                                                                       \n",
       "0       1851.659180  23155.540103  29621.162415  36932.950341  76890.356632  \n",
       "1        498.017847  17453.300194  23786.967583  30923.074636  59268.504239  "
      ]
     },
     "execution_count": 10,
     "metadata": {},
     "output_type": "execute_result"
    }
   ],
   "source": [
    "org_df[['AnnualSalary', 'AccountBalance', 'Gender']].groupby('Gender').describe()"
   ]
  },
  {
   "cell_type": "markdown",
   "metadata": {},
   "source": [
    "## ST vs CST w/o"
   ]
  },
  {
   "cell_type": "code",
   "execution_count": 11,
   "metadata": {},
   "outputs": [
    {
     "name": "stdout",
     "output_type": "stream",
     "text": [
      "For k= 15\n"
     ]
    }
   ],
   "source": [
    "print(\"For k=\", n)\n",
    "\n",
    "test_df = org_df.copy()\n",
    "\n",
    "st = SituationTesting()\n",
    "st.setup_baseline(test_df, nominal_atts=['Gender'], continuous_atts=['AnnualSalary', 'AccountBalance'])\n",
    "\n",
    "res_df['ST'] = st.run(target_att='LoanApproval', target_val={'positive': 1, 'negative': -1},\n",
    "                      sensitive_att='Gender', sensitive_val={'non_protected': 0, 'protected': 1},\n",
    "                      k=n, \n",
    "                      alpha=alpha, \n",
    "                      tau=tau)"
   ]
  },
  {
   "cell_type": "code",
   "execution_count": 12,
   "metadata": {},
   "outputs": [
    {
     "data": {
      "text/plain": [
       "55"
      ]
     },
     "execution_count": 12,
     "metadata": {},
     "output_type": "execute_result"
    }
   ],
   "source": [
    "res_df[res_df['ST'] > tau].shape[0]"
   ]
  },
  {
   "cell_type": "code",
   "execution_count": 13,
   "metadata": {},
   "outputs": [],
   "source": [
    "# get all neighborhoods for ST\n",
    "stST_knn = st.res_dict_df_neighbors"
   ]
  },
  {
   "cell_type": "code",
   "execution_count": 14,
   "metadata": {},
   "outputs": [],
   "source": [
    "# get the distances \n",
    "stST_dis = st.res_dict_dist_to_neighbors"
   ]
  },
  {
   "cell_type": "code",
   "execution_count": 15,
   "metadata": {},
   "outputs": [
    {
     "name": "stdout",
     "output_type": "stream",
     "text": [
      "For k= 15\n"
     ]
    }
   ],
   "source": [
    "print(\"For k=\", n)\n",
    "\n",
    "test_df    = org_df.copy()\n",
    "test_cf_df = org_cf_df.copy()\n",
    "\n",
    "cf_st = SituationTesting()\n",
    "cf_st.setup_baseline(test_df, test_cf_df, nominal_atts=['Gender'], continuous_atts=['AnnualSalary', 'AccountBalance'])\n",
    "\n",
    "res_df['cfST'] = cf_st.run(target_att='LoanApproval', target_val={'positive': 1, 'negative': -1},\n",
    "                           sensitive_att='Gender', sensitive_val={'non_protected': 0, 'protected': 1},\n",
    "                           include_centers=False,\n",
    "                           k=n, \n",
    "                           alpha=alpha, \n",
    "                           tau=tau)"
   ]
  },
  {
   "cell_type": "code",
   "execution_count": 16,
   "metadata": {},
   "outputs": [
    {
     "data": {
      "text/plain": [
       "288"
      ]
     },
     "execution_count": 16,
     "metadata": {},
     "output_type": "execute_result"
    }
   ],
   "source": [
    "res_df[res_df['cfST'] > tau].shape[0]"
   ]
  },
  {
   "cell_type": "code",
   "execution_count": 17,
   "metadata": {},
   "outputs": [],
   "source": [
    "# get all neighnorhoods for cfST\n",
    "cfST_knn = cf_st.res_dict_df_neighbors"
   ]
  },
  {
   "cell_type": "code",
   "execution_count": 18,
   "metadata": {},
   "outputs": [],
   "source": [
    "# get the distances\n",
    "cfST_dis = cf_st.res_dict_dist_to_neighbors"
   ]
  },
  {
   "cell_type": "code",
   "execution_count": 19,
   "metadata": {},
   "outputs": [
    {
     "name": "stdout",
     "output_type": "stream",
     "text": [
      "For k= 15\n",
      "55 are in ST and cfST\n",
      "233 are not in ST but in cfST\n"
     ]
    }
   ],
   "source": [
    "# Let's consider two sets from now on:\n",
    "\n",
    "print(\"For k=\", n)\n",
    "\n",
    "# Set1: c is in ST and in cfST\n",
    "set1 = res_df[(res_df['ST'] > tau) & (res_df['cfST'] > tau)].index.to_list()\n",
    "print(len(set1), \"are in ST and cfST\")\n",
    "\n",
    "# Set2: c is not in ST but in cfST\n",
    "set2 = [c for c in res_df[(res_df['cfST'] > tau)].index.to_list() if c not in set1]\n",
    "print(len(set2), \"are not in ST but in cfST\")"
   ]
  },
  {
   "cell_type": "markdown",
   "metadata": {},
   "source": [
    "### Figure: box-plots comparing ctr and tst grps for both methods "
   ]
  },
  {
   "cell_type": "code",
   "execution_count": 20,
   "metadata": {},
   "outputs": [
    {
     "name": "stdout",
     "output_type": "stream",
     "text": [
      "[181, 1306, 3747, 1399, 2565]\n"
     ]
    }
   ],
   "source": [
    "# Number of instances to choose from\n",
    "test_n = 5\n",
    "# Choose between Set 1 or Set 2\n",
    "# test_c = random.sample(set1, test_n)\n",
    "# test_c = random.sample(set2, test_n)\n",
    "\n",
    "# Note to reader: as this scrip is w.r.t. the paper, we use the same 5 instances\n",
    "test_c = [181, 1306, 3747, 1399, 2565]\n",
    "\n",
    "print(test_c)\n",
    "\n",
    "var = ['AnnualSalary', 'AccountBalance']\n",
    "temp_df_list = []\n",
    "\n",
    "for c in test_c:\n",
    "    \n",
    "#     print('===== ===== =====')\n",
    "    \n",
    "#     print(stST_knn[c]['ctr_idx'])\n",
    "    temp_ctr = org_df.iloc[stST_knn[c]['ctr_idx'], :][var].copy()\n",
    "    temp_ctr['ID'] = str(c)\n",
    "#     temp_ctr['ID'] = 'id_' + str(c)\n",
    "    temp_ctr['Type'] = 'ctr'\n",
    "    temp_df_list.append(temp_ctr)\n",
    "    del temp_ctr\n",
    "    \n",
    "#     print(stST_knn[c]['tst_idx'])\n",
    "    temp_tst_st = org_df.iloc[stST_knn[c]['tst_idx'], :][var].copy()\n",
    "    temp_tst_st['ID'] = str(c)\n",
    "#     temp_tst_st['ID'] = 'id_' + str(c)\n",
    "    temp_tst_st['Type'] = 'tst-st'\n",
    "    temp_df_list.append(temp_tst_st)\n",
    "    del temp_tst_st\n",
    "    \n",
    "#     print(cfST_knn[c]['tst_idx'])\n",
    "    temp_tst_cf = org_cf_df.iloc[cfST_knn[c]['tst_idx'], :][var].copy()\n",
    "    temp_tst_cf['ID'] = str(c)\n",
    "#     temp_tst_cf['ID'] = 'id_' + str(c)\n",
    "    temp_tst_cf['Type'] = 'tst-cf'\n",
    "    temp_df_list.append(temp_tst_cf)\n",
    "    del temp_tst_cf\n",
    "    \n",
    "    \n",
    "\n",
    "box_plot_data = pd.concat(temp_df_list)\n",
    "del temp_df_list"
   ]
  },
  {
   "cell_type": "code",
   "execution_count": 21,
   "metadata": {},
   "outputs": [
    {
     "data": {
      "text/plain": [
       "[Text(0, 0.5, 'Annual Salary ($X_1$)'), Text(0.5, 0, 'Complainant ID')]"
      ]
     },
     "execution_count": 21,
     "metadata": {},
     "output_type": "execute_result"
    },
    {
     "data": {
      "image/png": "[encoded data removed]",
      "text/plain": [
       "<Figure size 432x288 with 1 Axes>"
      ]
     },
     "metadata": {},
     "output_type": "display_data"
    }
   ],
   "source": [
    "# box_plot_data\n",
    "plt.ylim(75000, 115000)\n",
    "sns.boxplot(x = box_plot_data['ID'],\n",
    "            y = box_plot_data['AnnualSalary'],\n",
    "            hue = box_plot_data['Type']\n",
    "           ).set(\n",
    "    ylabel = 'Annual Salary ($X_1$)', xlabel = 'Complainant ID')"
   ]
  },
  {
   "cell_type": "code",
   "execution_count": 22,
   "metadata": {},
   "outputs": [
    {
     "data": {
      "text/plain": [
       "[Text(0, 0.5, 'Account Balance ($X_2$)'), Text(0.5, 0, 'Complainant ID')]"
      ]
     },
     "execution_count": 22,
     "metadata": {},
     "output_type": "execute_result"
    },
    {
     "data": {
      "image/png": "[encoded data removed]",
      "text/plain": [
       "<Figure size 432x288 with 1 Axes>"
      ]
     },
     "metadata": {},
     "output_type": "display_data"
    }
   ],
   "source": [
    "# box_plot_data\n",
    "plt.ylim(23000, 35000)\n",
    "sns.boxplot(x = box_plot_data['ID'],\n",
    "            y = box_plot_data['AccountBalance'],\n",
    "            hue = box_plot_data['Type']).set(\n",
    "    ylabel = 'Account Balance ($X_2$)', xlabel = 'Complainant ID')"
   ]
  },
  {
   "cell_type": "markdown",
   "metadata": {},
   "source": [
    "### Table: summary stats of ctr and tst grps for both methods"
   ]
  },
  {
   "cell_type": "code",
   "execution_count": null,
   "metadata": {},
   "outputs": [],
   "source": [
    "# Get summary stats\n",
    "nsf = 3\n",
    "list_temp_df = []\n",
    "var = ['AnnualSalary', 'AccountBalance']\n",
    "var.append('LoanApproval')\n",
    "\n",
    "for c in set1:\n",
    "    \n",
    "    temp_df = {}\n",
    "    temp_ctr    = org_df.iloc[stST_knn[c]['ctr_idx'], :][var]\n",
    "    temp_tst_st = org_df.iloc[stST_knn[c]['tst_idx'], :][var]\n",
    "    temp_tst_cf = org_cf_df.iloc[cfST_knn[c]['tst_idx'], :][var]\n",
    "    \n",
    "    temp_df['id'] = c\n",
    "    \n",
    "    temp_df['neg_y_ctr']    = temp_ctr[temp_ctr['LoanApproval'] == -1].shape[0]\n",
    "    temp_df['neg_y_tst_st'] = temp_tst_st[temp_tst_st['LoanApproval'] == -1].shape[0]\n",
    "    temp_df['neg_y_tst_cf'] = temp_tst_cf[temp_tst_cf['LoanApproval'] == -1].shape[0]\n",
    "    \n",
    "    temp_df['avg_d_ctr']    = round(sum(stST_dis[c]['ctr_idx']) / len(stST_dis[c]['ctr_idx']), nsf)\n",
    "    temp_df['avg_d_tst_st'] = round(sum(stST_dis[c]['tst_idx']) / len(stST_dis[c]['tst_idx']), nsf)\n",
    "    temp_df['avg_d_tst_cf'] = round(sum(cfST_dis[c]['tst_idx']) / len(cfST_dis[c]['tst_idx']), nsf)\n",
    "    \n",
    "    \n",
    "    for v in var:\n",
    "        temp_df['avg_ctr_' + v] = round(temp_ctr.mean()[v], nsf)\n",
    "        temp_df['std_ctr_' + v] = round(temp_ctr.std()[v], nsf)\n",
    "        \n",
    "        temp_df['avg_tst_st_' + v] = round(temp_tst_st.mean()[v], nsf)\n",
    "        temp_df['std_tst_st_' + v] = round(temp_tst_st.std()[v], nsf)\n",
    "        \n",
    "        temp_df['avg_tst_cf_' + v] = round(temp_tst_cf.mean()[v], nsf)\n",
    "        temp_df['std_tst_cf_' + v] = round(temp_tst_cf.std()[v], nsf)\n",
    "    \n",
    "    list_temp_df.append(temp_df)\n",
    "\n",
    "set1_summary_stats = pd.DataFrame(list_temp_df)\n",
    "\n",
    "set1_summary_stats.head(5)"
   ]
  },
  {
   "cell_type": "code",
   "execution_count": null,
   "metadata": {},
   "outputs": [],
   "source": []
  },
  {
   "cell_type": "code",
   "execution_count": null,
   "metadata": {},
   "outputs": [],
   "source": []
  },
  {
   "cell_type": "code",
   "execution_count": null,
   "metadata": {},
   "outputs": [],
   "source": []
  },
  {
   "cell_type": "code",
   "execution_count": null,
   "metadata": {},
   "outputs": [],
   "source": [
    "st.res_dict_df_neighbors[0]"
   ]
  },
  {
   "cell_type": "code",
   "execution_count": null,
   "metadata": {},
   "outputs": [],
   "source": [
    "st.res_dict_dist_to_neighbors[0]"
   ]
  },
  {
   "cell_type": "code",
   "execution_count": null,
   "metadata": {},
   "outputs": [],
   "source": []
  },
  {
   "cell_type": "code",
   "execution_count": null,
   "metadata": {},
   "outputs": [],
   "source": []
  },
  {
   "cell_type": "code",
   "execution_count": null,
   "metadata": {},
   "outputs": [],
   "source": []
  },
  {
   "cell_type": "code",
   "execution_count": null,
   "metadata": {},
   "outputs": [],
   "source": []
  },
  {
   "cell_type": "markdown",
   "metadata": {},
   "source": [
    "### stST vs cfST:\n",
    "\n",
    "- look at the cfST without centers (to be able to compare them)\n",
    "- look at the c's that are shared between both methods: look at the distribution of each's ctr and tst\n",
    "    - also look at the factual vs counterfactuals: average distance among this set\n",
    "- look at the c's that are NOT shared between both methods and do the same"
   ]
  },
  {
   "cell_type": "code",
   "execution_count": null,
   "metadata": {},
   "outputs": [],
   "source": [
    "# Get summary stats\n",
    "nsf = 3\n",
    "list_temp_df = []\n",
    "var = ['AnnualSalary', 'AccountBalance']\n",
    "var.append('LoanApproval')\n",
    "\n",
    "for c in set1:\n",
    "    \n",
    "    temp_df = {}\n",
    "    temp_ctr    = org_df.iloc[stST_knn[c]['ctr_idx'], :][var]\n",
    "    temp_tst_st = org_df.iloc[stST_knn[c]['tst_idx'], :][var]\n",
    "    temp_tst_cf = org_cf_df.iloc[cfST_knn[c]['tst_idx'], :][var]\n",
    "    \n",
    "    temp_df['id'] = c\n",
    "    \n",
    "    temp_df['neg_y_ctr']    = temp_ctr[temp_ctr['LoanApproval'] == -1].shape[0]\n",
    "    temp_df['neg_y_tst_st'] = temp_tst_st[temp_tst_st['LoanApproval'] == -1].shape[0]\n",
    "    temp_df['neg_y_tst_cf'] = temp_tst_cf[temp_tst_cf['LoanApproval'] == -1].shape[0]\n",
    "    \n",
    "    temp_df['avg_d_ctr']    = round(sum(stST_dis[c]['ctr_idx']) / len(stST_dis[c]['ctr_idx']), nsf)\n",
    "    temp_df['avg_d_tst_st'] = round(sum(stST_dis[c]['tst_idx']) / len(stST_dis[c]['tst_idx']), nsf)\n",
    "    temp_df['avg_d_tst_cf'] = round(sum(cfST_dis[c]['tst_idx']) / len(cfST_dis[c]['tst_idx']), nsf)\n",
    "    \n",
    "    \n",
    "    for v in var:\n",
    "        temp_df['avg_ctr_' + v] = round(temp_ctr.mean()[v], nsf)\n",
    "        temp_df['std_ctr_' + v] = round(temp_ctr.std()[v], nsf)\n",
    "        \n",
    "        temp_df['avg_tst_st_' + v] = round(temp_tst_st.mean()[v], nsf)\n",
    "        temp_df['std_tst_st_' + v] = round(temp_tst_st.std()[v], nsf)\n",
    "        \n",
    "        temp_df['avg_tst_cf_' + v] = round(temp_tst_cf.mean()[v], nsf)\n",
    "        temp_df['std_tst_cf_' + v] = round(temp_tst_cf.std()[v], nsf)\n",
    "    \n",
    "    list_temp_df.append(temp_df)\n",
    "\n",
    "set1_summary_stats = pd.DataFrame(list_temp_df)\n",
    "\n",
    "set1_summary_stats.head(5)"
   ]
  },
  {
   "cell_type": "code",
   "execution_count": null,
   "metadata": {},
   "outputs": [],
   "source": [
    "# Get summary stats\n",
    "nsf = 1\n",
    "list_temp_df = []\n",
    "var = ['AnnualSalary', 'AccountBalance']\n",
    "var.append('LoanApproval')\n",
    "\n",
    "for c in set2:\n",
    "    \n",
    "    temp_df = {}\n",
    "    temp_ctr    = org_df.iloc[stST_knn[c]['ctr_idx'], :][var]\n",
    "    temp_tst_st = org_df.iloc[stST_knn[c]['tst_idx'], :][var]\n",
    "    temp_tst_cf = org_cf_df.iloc[cfST_knn[c]['tst_idx'], :][var]\n",
    "    \n",
    "    temp_df['id'] = c\n",
    "    \n",
    "    temp_df['neg_y_ctr']    = temp_ctr[temp_ctr['LoanApproval'] == -1].shape[0]\n",
    "    temp_df['neg_y_tst_st'] = temp_tst_st[temp_tst_st['LoanApproval'] == -1].shape[0]\n",
    "    temp_df['neg_y_tst_cf'] = temp_tst_cf[temp_tst_cf['LoanApproval'] == -1].shape[0]\n",
    "    \n",
    "    temp_df['avg_d_ctr']    = round(sum(stST_dis[c]['ctr_idx']) / len(stST_dis[c]['ctr_idx']), nsf)\n",
    "    temp_df['avg_d_tst_st'] = round(sum(stST_dis[c]['tst_idx']) / len(stST_dis[c]['tst_idx']), nsf)\n",
    "    temp_df['avg_d_tst_cf'] = round(sum(cfST_dis[c]['tst_idx']) / len(cfST_dis[c]['tst_idx']), nsf)\n",
    "    \n",
    "    for v in var:\n",
    "        temp_df['avg_ctr_' + v] = round(temp_ctr.mean()[v], nsf)\n",
    "        temp_df['std_ctr_' + v] = round(temp_ctr.std()[v], nsf)\n",
    "        \n",
    "        temp_df['avg_tst_st_' + v] = round(temp_tst_st.mean()[v], nsf)\n",
    "        temp_df['std_tst_st_' + v] = round(temp_tst_st.std()[v], nsf)\n",
    "        \n",
    "        temp_df['avg_tst_cf_' + v] = round(temp_tst_cf.mean()[v], nsf)\n",
    "        temp_df['std_tst_cf_' + v] = round(temp_tst_cf.std()[v], nsf)\n",
    "    \n",
    "    list_temp_df.append(temp_df)\n",
    "\n",
    "set2_summary_stats = pd.DataFrame(list_temp_df)\n",
    "set2_summary_stats.head(5)"
   ]
  },
  {
   "cell_type": "code",
   "execution_count": null,
   "metadata": {},
   "outputs": [],
   "source": [
    "set1_summary_stats.mean()"
   ]
  },
  {
   "cell_type": "code",
   "execution_count": null,
   "metadata": {},
   "outputs": [],
   "source": [
    "set2_summary_stats.mean()"
   ]
  },
  {
   "cell_type": "markdown",
   "metadata": {},
   "source": [
    "### Summary of stST vs cfST\n",
    "\n",
    "Using the boxplots, even for the c's that share standard and counterfactual ST, we see the notions of fairness fiven the difference. While the test group under stST is more align with the control group, the test group under cfST is clearly different from it yet we're comparing these two groups to detect discrimination.\n",
    "\n",
    "- Add both plots to show that this is a pattern.\n",
    "- Add the summary stats... what seems to be the issue is that, on average, set 1 has closer groups. You can see this in the boxplots of random samples.\n",
    "- This reinforces our discrimination approach - to be added to Experiments and Appendix.\n",
    "\n",
    "- When looking at the number of rejections, we see that cfST captures more (male) test groups that have no rejections: the discrimination claim becomes clearer here!\n",
    "\n",
    "- When looking at the distance, we don't see a reduction in tighness: it just seems that what differs is the the test center but the neighboors are still close by: doesn't add much tbh.\n",
    "\n",
    "Here, clearly, we can see the difference between using the idealized comparison vs the fairness given the difference. This explains the numbers in Table 1. This is key wrt to discrimination analysis."
   ]
  },
  {
   "cell_type": "markdown",
   "metadata": {},
   "source": [
    "### cfST vs CF\n",
    "\n",
    "Now we move into causal fairness... things to highlight:\n",
    "\n",
    "- Based on Table 1, it seems that CF already incorporates \"fairness given the difference\", meaning that the criticism that came after the method's apperance are unfounded: Hu and Kohler-Hausmann are wrong there. Our conclusion is that counterfactuals, as conceived by Pearl, are the right way forward for discrimination analysis that are fairer.\n",
    "\n",
    "- Now, we wonder/ask weather CF is enough for detecting discrimination in-itself? Under ST, at least algorithnically, we don't include the centers. We have added to cfST the option to include or not the centers, which are by definition the CF literal comparisson. We can, in that sense, explore the application of CF to discrimination analysis.\n",
    "\n",
    "- We can think of several reasons why CF and causal fairness overall is suitable for discrimination analysis: 1) Discrimination is conceived as a causal query: does the protected attribute \"cause\" directly/indirectly the outcome in question? 2) Discrimination analysis relies on expert knowledge (think of calling a hiring officer as a witness for a hiring discrimnation case) and we see the causal DAG as a nice tools of communication between non-technical and technical experts: the DAG can serve as a bridge to easily translate expert knowledge into a structure for modelling. 3) In particular, CF, comes natural in discrimination cases: it literally seems to operationalize the KHC.\n",
    "\n",
    "Note: be clear about the synthetic data. We create an ideal world (consider it the counterfactual) and then modify it to be systemtically unfair to women. Hence, what we observe is the factual but then the counterfactual shows the ideal world. It both shows how KHC is relevant (highlight the limits of ideal comparissons) and how CF implkictly addresses this.\n",
    "\n",
    "- We can, however, think about other reasons that makes CF unsuitable as is for discrimination analasys. \n",
    "    - 1) Our understanding of the legal literature is that the literal comparisson is not enough. Granted, CF was not an option when the law was written and the method has not been used yet. But CF is limited to the single instance and doesn't account for the uncertainty of decision making process in question. This uncertainty is often approximated by \"repeating the process\", i.e. treated as an inferential question. Discrimination tools approximate this (as repetition is not an option) by looking at similar instances and seeing what happens. We've shown the limitations of this approach by looking at the ideal comparison, but then cfST address the need to neighborhoods based on CF. We don't see cfST as a substitute, instead **we see it as an extension of it for discrimination analysis**.\n",
    "    - 2) For example, suppose we have c and its $c^{scf}$ near the decision border, such that both c and $c^{scf}$ are $\\hat{Y}=0$. Then  for c, the decision maker is counterfactually fair, but what happens when we look at the neighborhoods for both control and test groups? $c$ si surrounded by rejected (female) instances, but if $c^{scf}$ is at the border then its (test) neighborhood would have rejected and accpeted instances - in a way, mimicking this idea of repeating the process over and over for $c$. Hence, if the factual, female version is always rejected while its counterfactual, male version is sometimes rejected (here, we are implictly doing fairness given the difference) then are we actually fair for $c$? Again, discrimination is legally grounded and it requires evidence of a pattern: individual claim alone may not be enough (as we understand it). Again, that's why we see cfST as a discrimination analysis tool extension of CF.\n",
    "    - 3) Another limitation is that CF is only limited to the individual comparisson: factual vs counterfactual. Instead by looking at the proportions we can conceive unfari instances differently. In particular, we can look at $\\tau$-discrimination, where recall that $\\tau$ is the deviation in the proportions from the expected behaviour. \n",
    "    \n",
    "    If we define discrimination in terms of CF, essentially $\\tau$ has to be 0 for us to consider these instances as discriminatory. This is because CF requieres that the factual and counterfactuals are identical or not. Now, under cfST, we can play with this... this is also the case in court: we could have some level of \"mercy\" toward the decision maker and $\\tau > 0$ to reflect this. So cfST is more robust because of the proportions, not to mention that the proportions allow us to have inferential properties! (4) CF doesn't have inferential properties, which might be an issue for the policy makers (maybe 1 and 4 are the same?).\n",
    "    \n",
    "    That said, if all CF instances fall under cfST, then we show that we cover the starting point but can enhance it by looking at the neighborhoods. We extend it by looking at other suspucious instances (still under $\\tau=0$)."
   ]
  },
  {
   "cell_type": "markdown",
   "metadata": {},
   "source": [
    "### Counterfactual ST (cfST) - with centers"
   ]
  },
  {
   "cell_type": "code",
   "execution_count": null,
   "metadata": {},
   "outputs": [],
   "source": [
    "test_df    = org_df.copy()\n",
    "test_cf_df = org_cf_df.copy()\n",
    "\n",
    "# include the centers\n",
    "cf_st_with = SituationTesting()\n",
    "cf_st_with.setup_baseline(test_df, test_cf_df, nominal_atts=['Gender'], continuous_atts=['AnnualSalary', 'AccountBalance'])\n",
    "\n",
    "res_df['cfSTwith'] = cf_st_with.run(target_att='LoanApproval', target_val={'positive': 1, 'negative': -1},\n",
    "                                    sensitive_att='Gender', sensitive_val={'non_protected': 0, 'protected': 1},\n",
    "                                    include_centers=True,\n",
    "                                    k=n, alpha=alpha, tau=tau)"
   ]
  },
  {
   "cell_type": "code",
   "execution_count": null,
   "metadata": {},
   "outputs": [],
   "source": [
    "res_df[res_df['cfSTwith'] > tau].shape[0]"
   ]
  },
  {
   "cell_type": "code",
   "execution_count": null,
   "metadata": {},
   "outputs": [],
   "source": [
    "res_df[res_df['cfSTwith'] < tau].shape[0]"
   ]
  },
  {
   "cell_type": "code",
   "execution_count": null,
   "metadata": {},
   "outputs": [],
   "source": [
    "# get all neighnorhoods for cfST\n",
    "cfST_knn_with = cf_st_with.res_dict_df_neighbors"
   ]
  },
  {
   "cell_type": "code",
   "execution_count": null,
   "metadata": {},
   "outputs": [],
   "source": [
    "res_df['CF'] = cf_st_with.res_counterfactual_unfairness"
   ]
  },
  {
   "cell_type": "code",
   "execution_count": null,
   "metadata": {},
   "outputs": [],
   "source": [
    "res_df.head(5)"
   ]
  },
  {
   "cell_type": "code",
   "execution_count": null,
   "metadata": {},
   "outputs": [],
   "source": [
    "# number of counterfactuals: under a CF defitinion of discrimination\n",
    "res_df[res_df['CF'] == 1].shape"
   ]
  },
  {
   "cell_type": "code",
   "execution_count": null,
   "metadata": {},
   "outputs": [],
   "source": [
    "# sets of interest:\n",
    "\n",
    "# total disc cases under cfST\n",
    "print(len(res_df[(res_df['cfSTwith'] > tau)].index.to_list()))\n",
    "\n",
    "# c in cfST and in CF\n",
    "set3 = res_df[(res_df['cfSTwith'] > tau) & (res_df['CF'] == 1)].index.to_list()\n",
    "print(len(set3))\n",
    "\n",
    "# c not in CF but in cfST\n",
    "set4 = [c for c in res_df[(res_df['cfSTwith'] > tau)].index.to_list() if c not in set3]\n",
    "print(len(set4))"
   ]
  },
  {
   "cell_type": "code",
   "execution_count": null,
   "metadata": {},
   "outputs": [],
   "source": [
    "test_n = 5\n",
    "\n",
    "test_c = random.sample(set3, test_n)\n",
    "# test_c = random.sample(set2, test_n)\n",
    "print(test_c)\n",
    "\n",
    "var = ['AnnualSalary', 'AccountBalance']\n",
    "temp_df_list = []\n",
    "\n",
    "for c in test_c:\n",
    "    \n",
    "#     print('===== ===== =====')\n",
    "    \n",
    "#     print(stST_knn[c]['ctr_idx'])\n",
    "    temp_ctr = org_df.iloc[cfST_knn_with[c]['ctr_idx'], :][var].copy()\n",
    "    temp_ctr = temp_ctr.append(org_df.iloc[c][var])    \n",
    "    temp_ctr['ID'] = 'id_' + str(c)\n",
    "    temp_ctr['Type'] = 'ctr'\n",
    "    temp_df_list.append(temp_ctr)\n",
    "    del temp_ctr\n",
    "        \n",
    "#     print(cfST_knn[c]['tst_idx'])\n",
    "    temp_tst_cf = org_cf_df.iloc[cfST_knn_with[c]['tst_idx'], :][var].copy()\n",
    "    temp_tst_cf = temp_tst_cf.append(org_cf_df.iloc[c][var]) \n",
    "    temp_tst_cf['ID'] = 'id_' + str(c)\n",
    "    temp_tst_cf['Type'] = 'tst_cf_with'\n",
    "    temp_df_list.append(temp_tst_cf)\n",
    "    del temp_tst_cf\n",
    "    \n",
    "    \n",
    "\n",
    "box_plot_data = pd.concat(temp_df_list)\n",
    "del temp_df_list\n",
    "\n",
    "# box_plot_data\n",
    "sns.boxplot(x = box_plot_data['ID'],\n",
    "            y = box_plot_data['AccountBalance'],\n",
    "            hue = box_plot_data['Type'])"
   ]
  },
  {
   "cell_type": "code",
   "execution_count": null,
   "metadata": {},
   "outputs": [],
   "source": [
    "test_n = 5\n",
    "\n",
    "test_c = random.sample(set4, test_n)\n",
    "# test_c = random.sample(set2, test_n)\n",
    "print(test_c)\n",
    "\n",
    "var = ['AnnualSalary', 'AccountBalance']\n",
    "temp_df_list = []\n",
    "\n",
    "for c in test_c:\n",
    "    \n",
    "#     print('===== ===== =====')\n",
    "    \n",
    "#     print(stST_knn[c]['ctr_idx'])\n",
    "    temp_ctr = org_df.iloc[cfST_knn_with[c]['ctr_idx'], :][var].copy()\n",
    "    temp_ctr = temp_ctr.append(org_df.iloc[c][var])\n",
    "    temp_ctr['ID'] = 'id_' + str(c)\n",
    "    temp_ctr['Type'] = 'ctr'\n",
    "    temp_df_list.append(temp_ctr)\n",
    "    del temp_ctr\n",
    "        \n",
    "#     print(cfST_knn[c]['tst_idx'])\n",
    "    temp_tst_cf = org_cf_df.iloc[cfST_knn_with[c]['tst_idx'], :][var].copy()\n",
    "    temp_tst_cf = temp_tst_cf.append(org_cf_df.iloc[c][var]) \n",
    "    temp_tst_cf['ID'] = 'id_' + str(c)\n",
    "    temp_tst_cf['Type'] = 'tst_cf_with'\n",
    "    temp_df_list.append(temp_tst_cf)\n",
    "    del temp_tst_cf\n",
    "\n",
    "box_plot_data = pd.concat(temp_df_list)\n",
    "del temp_df_list\n",
    "\n",
    "# box_plot_data\n",
    "sns.boxplot(x = box_plot_data['ID'],\n",
    "            y = box_plot_data['AccountBalance'],\n",
    "            hue = box_plot_data['Type'])"
   ]
  },
  {
   "cell_type": "code",
   "execution_count": null,
   "metadata": {},
   "outputs": [],
   "source": [
    "# Get summary stats\n",
    "nsf = 3\n",
    "list_temp_df = []\n",
    "var = ['AnnualSalary', 'AccountBalance']\n",
    "var.append('LoanApproval')\n",
    "\n",
    "for c in set3:\n",
    "    \n",
    "    temp_df = {}\n",
    "    temp_ctr         = org_df.iloc[cfST_knn_with[c]['ctr_idx'], :][var].copy()\n",
    "    temp_ctr = temp_ctr.append(org_df.iloc[c][var])\n",
    "    temp_tst_cf_with = org_cf_df.iloc[cfST_knn_with[c]['tst_idx'], :][var].copy()\n",
    "    temp_tst_cf_with = temp_tst_cf_with.append(org_cf_df.iloc[c][var]) \n",
    "    \n",
    "    temp_df['id'] = c\n",
    "    temp_df['neg_y_ctr'] = temp_ctr[temp_ctr['LoanApproval']==-1].shape[0]\n",
    "    temp_df['neg_y_tst_cfw'] = temp_tst_cf_with[temp_tst_cf_with['LoanApproval']==-1].shape[0] \n",
    "    \n",
    "    for v in var:\n",
    "        temp_df['avg_ctr_' + v] = round(temp_ctr.mean()[v], nsf)\n",
    "        temp_df['std_ctr_' + v] = round(temp_ctr.std()[v], nsf)\n",
    "                \n",
    "        temp_df['avg_tst_cfw_' + v] = round(temp_tst_cf_with.mean()[v], nsf)\n",
    "        temp_df['std_tst_cfw_' + v] = round(temp_tst_cf_with.std()[v], nsf)\n",
    "    \n",
    "    list_temp_df.append(temp_df)\n",
    "\n",
    "set3_summary_stats = pd.DataFrame(list_temp_df)\n",
    "\n",
    "set3_summary_stats.head(5)"
   ]
  },
  {
   "cell_type": "code",
   "execution_count": null,
   "metadata": {},
   "outputs": [],
   "source": [
    "# Get summary stats\n",
    "nsf = 3\n",
    "list_temp_df = []\n",
    "var = ['AnnualSalary', 'AccountBalance']\n",
    "var.append('LoanApproval')\n",
    "\n",
    "for c in set4:\n",
    "    \n",
    "    temp_df = {}\n",
    "    temp_ctr         = org_df.iloc[cfST_knn_with[c]['ctr_idx'], :][var].copy()\n",
    "    temp_ctr = temp_ctr.append(org_df.iloc[c][var])\n",
    "    temp_tst_cf_with = org_cf_df.iloc[cfST_knn_with[c]['tst_idx'], :][var].copy()\n",
    "    temp_tst_cf_with = temp_tst_cf_with.append(org_cf_df.iloc[c][var]) \n",
    "    \n",
    "    temp_df['id'] = c\n",
    "    temp_df['neg_y_ctr'] = temp_ctr[temp_ctr['LoanApproval']==-1].shape[0]\n",
    "    temp_df['neg_y_tst_cfw'] = temp_tst_cf_with[temp_tst_cf_with['LoanApproval']==-1].shape[0] \n",
    "    \n",
    "    for v in var:\n",
    "        temp_df['avg_ctr_' + v] = round(temp_ctr.mean()[v], nsf)\n",
    "        temp_df['std_ctr_' + v] = round(temp_ctr.std()[v], nsf)\n",
    "                \n",
    "        temp_df['avg_tst_cfw_' + v] = round(temp_tst_cf_with.mean()[v], nsf)\n",
    "        temp_df['std_tst_cfw_' + v] = round(temp_tst_cf_with.std()[v], nsf)\n",
    "    \n",
    "    list_temp_df.append(temp_df)\n",
    "\n",
    "set4_summary_stats = pd.DataFrame(list_temp_df)\n",
    "\n",
    "set4_summary_stats.head(5)"
   ]
  },
  {
   "cell_type": "code",
   "execution_count": null,
   "metadata": {
    "scrolled": true
   },
   "outputs": [],
   "source": [
    "set3_summary_stats.mean()"
   ]
  },
  {
   "cell_type": "code",
   "execution_count": null,
   "metadata": {},
   "outputs": [],
   "source": [
    "set4_summary_stats.mean()"
   ]
  },
  {
   "cell_type": "markdown",
   "metadata": {},
   "source": [
    "### Summary CF vs cfST\n",
    "\n",
    "- Focus on cfST that includes the centers (i.e., the two isnatnces used for counterfactual fairneess)\n",
    "- Under $\\tau=0$, all CF instances that are discriminated under counterfactual discrimination are detected by cfST with centers. CF is a lower bound for cfST.\n",
    "- Based on set 3 and set 4, it seems that the ones identified by CF and cfST are tighter sets: verry narrow boxplots! While the ones where cfST diverges from CF are wider both control and test groups. This could imply also the location: tighter sets should fall on the same side of the decision baundary\n",
    "- The centers are more improtant as it takes us longer to reach the lower baund of the CF when we don't incude the cneters: we need larger k!\n",
    "\n",
    "- Based on summary stats of set 4, it seems like cfST detects more discrimination cases... like all these instances show rejections in the control but only acceptances in test group"
   ]
  },
  {
   "cell_type": "markdown",
   "metadata": {},
   "source": [
    "### Get/Showcase the CIs for CF"
   ]
  },
  {
   "cell_type": "code",
   "execution_count": null,
   "metadata": {},
   "outputs": [],
   "source": [
    "df_cf_sf_disc = cf_st_with.get_test_discrimination()\n",
    "df_cf_sf_disc.head(5)\n",
    "\n",
    "# add this to results to showcase the method\n",
    "df_cf_sf_disc[df_cf_sf_disc['individual'].isin(res_df[res_df['CF'] == 1].index.to_list())].head(20)"
   ]
  },
  {
   "cell_type": "code",
   "execution_count": null,
   "metadata": {},
   "outputs": [],
   "source": [
    "df_cf_sf_disc[df_cf_sf_disc['individual'].isin(res_df[(res_df['CF']==0.0) & (res_df['cfSTwith'] > tau)].index.to_list())]"
   ]
  },
  {
   "cell_type": "code",
   "execution_count": null,
   "metadata": {},
   "outputs": [],
   "source": []
  }
 ],
 "metadata": {
  "kernelspec": {
   "display_name": "fair_ml",
   "language": "python",
   "name": "fair_ml"
  },
  "language_info": {
   "codemirror_mode": {
    "name": "ipython",
    "version": 3
   },
   "file_extension": ".py",
   "mimetype": "text/x-python",
   "name": "python",
   "nbconvert_exporter": "python",
   "pygments_lexer": "ipython3",
   "version": "3.8.5"
  }
 },
 "nbformat": 4,
 "nbformat_minor": 4
}
