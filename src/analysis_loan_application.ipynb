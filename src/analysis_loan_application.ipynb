{
 "cells": [
  {
   "cell_type": "code",
   "execution_count": 1,
   "metadata": {},
   "outputs": [],
   "source": [
    "%load_ext autoreload\n",
    "%autoreload 2\n",
    "import os\n",
    "import sys\n",
    "import random\n",
    "import pandas as pd\n",
    "import numpy as np\n",
    "import seaborn as sns\n",
    "import matplotlib.pyplot as plt\n",
    "# src files\n",
    "from situation_testing.situation_testing import SituationTesting\n",
    "# plot params\n",
    "plt.style.use('seaborn-whitegrid')\n",
    "plt.rc('font', size=11)\n",
    "plt.rc('legend', fontsize=11)\n",
    "plt.rc('lines', linewidth=2)\n",
    "plt.rc('axes', linewidth=2)\n",
    "plt.rc('axes', edgecolor='k')\n",
    "plt.rc('xtick.major', width=2)\n",
    "plt.rc('xtick.major', size=6)\n",
    "plt.rc('ytick.major', width=2)\n",
    "plt.rc('ytick.major', size=6)\n",
    "plt.rc('pdf', fonttype=42)\n",
    "plt.rc('ps', fonttype=42)"
   ]
  },
  {
   "cell_type": "code",
   "execution_count": 2,
   "metadata": {},
   "outputs": [],
   "source": [
    "# working directory\n",
    "wd = os.path.dirname(os.getcwd())\n",
    "# relevant folders\n",
    "data_path = os.path.abspath(os.path.join(wd, 'data')) + '\\\\'\n",
    "resu_path = os.path.abspath(os.path.join(wd, 'results')) + '\\\\'"
   ]
  },
  {
   "cell_type": "code",
   "execution_count": 3,
   "metadata": {},
   "outputs": [],
   "source": [
    "# factual dataset\n",
    "org_df    = pd.read_csv(data_path + 'LoanApplication_v2.csv', sep='|', )\n",
    "# counterfactual dataset\n",
    "org_cf_df = pd.read_csv(data_path + 'counterfactuals\\\\cf_LoanApplication_v2.csv', sep='|', )"
   ]
  },
  {
   "cell_type": "code",
   "execution_count": 4,
   "metadata": {},
   "outputs": [
    {
     "data": {
      "text/plain": [
       "Text(0.5, 0, 'Annual salary ($X1$) for females')"
      ]
     },
     "execution_count": 4,
     "metadata": {},
     "output_type": "execute_result"
    },
    {
     "data": {
      "image/png": "[encoded data removed]",
      "text/plain": [
       "<Figure size 432x288 with 1 Axes>"
      ]
     },
     "metadata": {},
     "output_type": "display_data"
    }
   ],
   "source": [
    "# Paper figures:\n",
    "# distributions for paper: X1\n",
    "b = 100\n",
    "plt.hist(org_df[org_df['Gender'] == 1]['AnnualSalary'], bins=b, alpha=0.9, label=r'$X_1^F$')\n",
    "plt.hist(org_cf_df[org_cf_df['Gender'] == 1]['AnnualSalary'], bins=b, alpha=0.7, label=r'$X_1^{CF}$')\n",
    "plt.legend(loc='upper right')\n",
    "plt.ylabel('Frequency')\n",
    "plt.xlabel(r'Annual salary ($X1$) for females')"
   ]
  },
  {
   "cell_type": "code",
   "execution_count": 5,
   "metadata": {},
   "outputs": [
    {
     "data": {
      "text/plain": [
       "Text(0.5, 0, 'Account balance ($X_2$) for females')"
      ]
     },
     "execution_count": 5,
     "metadata": {},
     "output_type": "execute_result"
    },
    {
     "data": {
      "image/png": "[encoded data removed]",
      "text/plain": [
       "<Figure size 432x288 with 1 Axes>"
      ]
     },
     "metadata": {},
     "output_type": "display_data"
    }
   ],
   "source": [
    "# distributions for paper: X2\n",
    "b = 100\n",
    "plt.hist(org_df[org_df['Gender'] == 1]['AccountBalance'], bins=b, alpha=0.9, label=r'$X_2^F$')\n",
    "plt.hist(org_cf_df[org_cf_df['Gender'] == 1]['AccountBalance'], bins=b, alpha=0.7, label=r'$X_2^{CF}$')\n",
    "plt.legend(loc='upper right')\n",
    "plt.ylabel('Frequency')\n",
    "plt.xlabel(r'Account balance ($X_2$) for females')"
   ]
  },
  {
   "cell_type": "markdown",
   "metadata": {},
   "source": [
    "### Paremeters for test\n",
    "We can run standard ST, counterfactual ST with/without the search centers, and counterfactual fairness. Notice that CF is included within cfST when incuding the search centers."
   ]
  },
  {
   "cell_type": "code",
   "execution_count": 6,
   "metadata": {},
   "outputs": [],
   "source": [
    "# attribute-specific params\n",
    "feat_trgt = 'LoanApproval'\n",
    "feat_trgt_vals = {'positive': 1, 'negative': -1}\n",
    "# list of relevant features\n",
    "feat_rlvt = ['AnnualSalary', 'AccountBalance']\n",
    "# protected feature\n",
    "feat_prot = 'Gender'\n",
    "# values for the protected feature: use 'non_protected' and 'protected' accordingly\n",
    "feat_prot_vals = {'non_protected': 0, 'protected': 1}\n",
    "\n",
    "# st-specific params\n",
    "# size of neiuborhoods\n",
    "n = 15\n",
    "# significance level\n",
    "alpha = 0.05\n",
    "# tau diviation\n",
    "tau = 0.0"
   ]
  },
  {
   "cell_type": "code",
   "execution_count": 7,
   "metadata": {},
   "outputs": [
    {
     "data": {
      "text/html": [
       "<div>\n",
       "<style scoped>\n",
       "    .dataframe tbody tr th:only-of-type {\n",
       "        vertical-align: middle;\n",
       "    }\n",
       "\n",
       "    .dataframe tbody tr th {\n",
       "        vertical-align: top;\n",
       "    }\n",
       "\n",
       "    .dataframe thead th {\n",
       "        text-align: right;\n",
       "    }\n",
       "</style>\n",
       "<table border=\"1\" class=\"dataframe\">\n",
       "  <thead>\n",
       "    <tr style=\"text-align: right;\">\n",
       "      <th></th>\n",
       "      <th>Gender</th>\n",
       "      <th>LoanApproval</th>\n",
       "      <th>cf_LoanApproval</th>\n",
       "    </tr>\n",
       "  </thead>\n",
       "  <tbody>\n",
       "    <tr>\n",
       "      <th>0</th>\n",
       "      <td>1</td>\n",
       "      <td>-1.0</td>\n",
       "      <td>-1.0</td>\n",
       "    </tr>\n",
       "    <tr>\n",
       "      <th>1</th>\n",
       "      <td>0</td>\n",
       "      <td>1.0</td>\n",
       "      <td>1.0</td>\n",
       "    </tr>\n",
       "    <tr>\n",
       "      <th>2</th>\n",
       "      <td>0</td>\n",
       "      <td>-1.0</td>\n",
       "      <td>-1.0</td>\n",
       "    </tr>\n",
       "    <tr>\n",
       "      <th>3</th>\n",
       "      <td>0</td>\n",
       "      <td>-1.0</td>\n",
       "      <td>-1.0</td>\n",
       "    </tr>\n",
       "    <tr>\n",
       "      <th>4</th>\n",
       "      <td>1</td>\n",
       "      <td>1.0</td>\n",
       "      <td>1.0</td>\n",
       "    </tr>\n",
       "  </tbody>\n",
       "</table>\n",
       "</div>"
      ],
      "text/plain": [
       "   Gender  LoanApproval  cf_LoanApproval\n",
       "0       1          -1.0             -1.0\n",
       "1       0           1.0              1.0\n",
       "2       0          -1.0             -1.0\n",
       "3       0          -1.0             -1.0\n",
       "4       1           1.0              1.0"
      ]
     },
     "execution_count": 7,
     "metadata": {},
     "output_type": "execute_result"
    }
   ],
   "source": [
    "res_df = org_df[['Gender', 'LoanApproval']].copy()\n",
    "res_df['cf_LoanApproval'] = org_cf_df['LoanApproval'].copy()\n",
    "res_df.head(5)"
   ]
  },
  {
   "cell_type": "markdown",
   "metadata": {},
   "source": [
    "From one of the CLeaR reviewers: what is your Oracle?\n",
    "I guess, in this world, it would be a world freed from systematic bias, meaning counterfactual fairness captures this discrepancy between worlds, no?\n",
    "\n",
    "The world where $X_1$ and $X_2$ are born without $A$'s influence is a counterfactually fair world by definition from Kusner et al.!!!"
   ]
  },
  {
   "cell_type": "code",
   "execution_count": 8,
   "metadata": {},
   "outputs": [
    {
     "name": "stdout",
     "output_type": "stream",
     "text": [
      "674\n",
      "1050\n"
     ]
    }
   ],
   "source": [
    "print(res_df[(res_df['Gender'] == 1) & (res_df['LoanApproval'] == 1)].shape[0])\n",
    "# vs\n",
    "print(res_df[(res_df['Gender'] == 1) & (res_df['cf_LoanApproval'] == 1)].shape[0]) #ground truth (if you will)"
   ]
  },
  {
   "cell_type": "markdown",
   "metadata": {},
   "source": [
    "### Standard ST (stST)"
   ]
  },
  {
   "cell_type": "code",
   "execution_count": 9,
   "metadata": {},
   "outputs": [],
   "source": [
    "test_df = org_df.copy()\n",
    "\n",
    "st = SituationTesting()\n",
    "st.setup_baseline(test_df, nominal_atts=['Gender'], continuous_atts=['AnnualSalary', 'AccountBalance'])\n",
    "\n",
    "res_df['ST'] = st.run(target_att='LoanApproval', target_val={'positive': 1, 'negative': -1},\n",
    "                      sensitive_att='Gender', sensitive_val={'non_protected': 0, 'protected': 1},\n",
    "                      k=n, alpha=alpha, tau=tau)"
   ]
  },
  {
   "cell_type": "code",
   "execution_count": 10,
   "metadata": {},
   "outputs": [
    {
     "data": {
      "text/plain": [
       "55"
      ]
     },
     "execution_count": 10,
     "metadata": {},
     "output_type": "execute_result"
    }
   ],
   "source": [
    "res_df[res_df['ST'] > tau].shape[0]"
   ]
  },
  {
   "cell_type": "code",
   "execution_count": 11,
   "metadata": {},
   "outputs": [
    {
     "data": {
      "text/plain": [
       "45"
      ]
     },
     "execution_count": 11,
     "metadata": {},
     "output_type": "execute_result"
    }
   ],
   "source": [
    "res_df[res_df['ST'] < tau].shape[0]"
   ]
  },
  {
   "cell_type": "code",
   "execution_count": 12,
   "metadata": {},
   "outputs": [],
   "source": [
    "# get all neighborhoods for ST\n",
    "stST_knn = st.res_dict_df_neighbors"
   ]
  },
  {
   "cell_type": "code",
   "execution_count": 13,
   "metadata": {},
   "outputs": [],
   "source": [
    "# get the distances \n",
    "stST_dis = st.res_dict_dist_to_neighbors"
   ]
  },
  {
   "cell_type": "markdown",
   "metadata": {},
   "source": [
    "### Counterfactual ST (cfST) - without centers"
   ]
  },
  {
   "cell_type": "code",
   "execution_count": 14,
   "metadata": {},
   "outputs": [],
   "source": [
    "test_df    = org_df.copy()\n",
    "test_cf_df = org_cf_df.copy()\n",
    "\n",
    "# don't include the centers\n",
    "cf_st = SituationTesting()\n",
    "cf_st.setup_baseline(test_df, test_cf_df, nominal_atts=['Gender'], continuous_atts=['AnnualSalary', 'AccountBalance'])\n",
    "\n",
    "res_df['cfST'] = cf_st.run(target_att='LoanApproval', target_val={'positive': 1, 'negative': -1},\n",
    "                           sensitive_att='Gender', sensitive_val={'non_protected': 0, 'protected': 1},\n",
    "                           include_centers=False,\n",
    "                           k=n, alpha=alpha, tau=tau)"
   ]
  },
  {
   "cell_type": "code",
   "execution_count": 15,
   "metadata": {},
   "outputs": [
    {
     "data": {
      "text/plain": [
       "288"
      ]
     },
     "execution_count": 15,
     "metadata": {},
     "output_type": "execute_result"
    }
   ],
   "source": [
    "res_df[res_df['cfST'] > tau].shape[0]"
   ]
  },
  {
   "cell_type": "code",
   "execution_count": 16,
   "metadata": {},
   "outputs": [
    {
     "data": {
      "text/plain": [
       "0"
      ]
     },
     "execution_count": 16,
     "metadata": {},
     "output_type": "execute_result"
    }
   ],
   "source": [
    "res_df[res_df['cfST'] < tau].shape[0]"
   ]
  },
  {
   "cell_type": "code",
   "execution_count": 17,
   "metadata": {},
   "outputs": [],
   "source": [
    "# get all neighnorhoods for cfST\n",
    "cfST_knn = cf_st.res_dict_df_neighbors"
   ]
  },
  {
   "cell_type": "code",
   "execution_count": 18,
   "metadata": {},
   "outputs": [],
   "source": [
    "# get the distances\n",
    "cfST_dis = cf_st.res_dict_dist_to_neighbors"
   ]
  },
  {
   "cell_type": "markdown",
   "metadata": {},
   "source": [
    "### stST vs cfST:\n",
    "\n",
    "- look at the cfST without centers (to be able to compare them)\n",
    "- look at the c's that are shared between both methods: look at the distribution of each's ctr and tst\n",
    "    - also look at the factual vs counterfactuals: average distance among this set\n",
    "- look at the c's that are NOT shared between both methods and do the same"
   ]
  },
  {
   "cell_type": "code",
   "execution_count": 19,
   "metadata": {},
   "outputs": [
    {
     "name": "stdout",
     "output_type": "stream",
     "text": [
      "55\n",
      "233\n"
     ]
    }
   ],
   "source": [
    "# sets of interest:\n",
    "\n",
    "# c in stST and in stCF\n",
    "set1 = res_df[(res_df['ST'] > tau) & (res_df['cfST'] > tau)].index.to_list()\n",
    "print(len(set1))\n",
    "\n",
    "# c not in stST but in stCF\n",
    "set2 = [c for c in res_df[(res_df['cfST'] > tau)].index.to_list() if c not in set1]\n",
    "print(len(set2))"
   ]
  },
  {
   "cell_type": "code",
   "execution_count": 20,
   "metadata": {},
   "outputs": [
    {
     "name": "stdout",
     "output_type": "stream",
     "text": [
      "[1941, 4571, 3223, 4125, 4391]\n"
     ]
    },
    {
     "data": {
      "text/plain": [
       "<AxesSubplot:xlabel='ID', ylabel='AccountBalance'>"
      ]
     },
     "execution_count": 20,
     "metadata": {},
     "output_type": "execute_result"
    },
    {
     "data": {
      "image/png": "[encoded data removed]",
      "text/plain": [
       "<Figure size 432x288 with 1 Axes>"
      ]
     },
     "metadata": {},
     "output_type": "display_data"
    }
   ],
   "source": [
    "# let's look at those c's that appear both in stST and cfST\n",
    "test_n = 5\n",
    "\n",
    "test_c = random.sample(set1, test_n)\n",
    "# test_c = random.sample(set2, test_n)\n",
    "\n",
    "print(test_c)\n",
    "\n",
    "var = ['AnnualSalary', 'AccountBalance']\n",
    "temp_df_list = []\n",
    "\n",
    "for c in test_c:\n",
    "    \n",
    "#     print('===== ===== =====')\n",
    "    \n",
    "#     print(stST_knn[c]['ctr_idx'])\n",
    "    temp_ctr = org_df.iloc[stST_knn[c]['ctr_idx'], :][var].copy()\n",
    "    temp_ctr['ID'] = 'id_' + str(c)\n",
    "    temp_ctr['Type'] = 'ctr'\n",
    "    temp_df_list.append(temp_ctr)\n",
    "    del temp_ctr\n",
    "    \n",
    "#     print(stST_knn[c]['tst_idx'])\n",
    "    temp_tst_st = org_df.iloc[stST_knn[c]['tst_idx'], :][var].copy()\n",
    "    temp_tst_st['ID'] = 'id_' + str(c)\n",
    "    temp_tst_st['Type'] = 'tst_st'\n",
    "    temp_df_list.append(temp_tst_st)\n",
    "    del temp_tst_st\n",
    "    \n",
    "#     print(cfST_knn[c]['tst_idx'])\n",
    "    temp_tst_cf = org_cf_df.iloc[cfST_knn[c]['tst_idx'], :][var].copy()\n",
    "    temp_tst_cf['ID'] = 'id_' + str(c)\n",
    "    temp_tst_cf['Type'] = 'tst_cf'\n",
    "    temp_df_list.append(temp_tst_cf)\n",
    "    del temp_tst_cf\n",
    "    \n",
    "    \n",
    "\n",
    "box_plot_data = pd.concat(temp_df_list)\n",
    "del temp_df_list\n",
    "\n",
    "# box_plot_data\n",
    "sns.boxplot(x = box_plot_data['ID'],\n",
    "            y = box_plot_data['AccountBalance'],\n",
    "            hue = box_plot_data['Type'])\n",
    "\n",
    "# todo: save var x set combination "
   ]
  },
  {
   "cell_type": "code",
   "execution_count": 21,
   "metadata": {},
   "outputs": [
    {
     "data": {
      "text/html": [
       "<div>\n",
       "<style scoped>\n",
       "    .dataframe tbody tr th:only-of-type {\n",
       "        vertical-align: middle;\n",
       "    }\n",
       "\n",
       "    .dataframe tbody tr th {\n",
       "        vertical-align: top;\n",
       "    }\n",
       "\n",
       "    .dataframe thead th {\n",
       "        text-align: right;\n",
       "    }\n",
       "</style>\n",
       "<table border=\"1\" class=\"dataframe\">\n",
       "  <thead>\n",
       "    <tr style=\"text-align: right;\">\n",
       "      <th></th>\n",
       "      <th>id</th>\n",
       "      <th>neg_y_ctr</th>\n",
       "      <th>neg_y_tst_st</th>\n",
       "      <th>neg_y_tst_cf</th>\n",
       "      <th>avg_d_ctr</th>\n",
       "      <th>avg_d_tst_st</th>\n",
       "      <th>avg_d_tst_cf</th>\n",
       "      <th>avg_ctr_AnnualSalary</th>\n",
       "      <th>std_ctr_AnnualSalary</th>\n",
       "      <th>avg_tst_st_AnnualSalary</th>\n",
       "      <th>...</th>\n",
       "      <th>avg_tst_st_AccountBalance</th>\n",
       "      <th>std_tst_st_AccountBalance</th>\n",
       "      <th>avg_tst_cf_AccountBalance</th>\n",
       "      <th>std_tst_cf_AccountBalance</th>\n",
       "      <th>avg_ctr_LoanApproval</th>\n",
       "      <th>std_ctr_LoanApproval</th>\n",
       "      <th>avg_tst_st_LoanApproval</th>\n",
       "      <th>std_tst_st_LoanApproval</th>\n",
       "      <th>avg_tst_cf_LoanApproval</th>\n",
       "      <th>std_tst_cf_LoanApproval</th>\n",
       "    </tr>\n",
       "  </thead>\n",
       "  <tbody>\n",
       "    <tr>\n",
       "      <th>0</th>\n",
       "      <td>5</td>\n",
       "      <td>1</td>\n",
       "      <td>0</td>\n",
       "      <td>0</td>\n",
       "      <td>0.045</td>\n",
       "      <td>0.030</td>\n",
       "      <td>0.034</td>\n",
       "      <td>101866.667</td>\n",
       "      <td>2635.382</td>\n",
       "      <td>100000.000</td>\n",
       "      <td>...</td>\n",
       "      <td>25924.084</td>\n",
       "      <td>315.756</td>\n",
       "      <td>29959.044</td>\n",
       "      <td>211.075</td>\n",
       "      <td>0.867</td>\n",
       "      <td>0.516</td>\n",
       "      <td>1.0</td>\n",
       "      <td>0.0</td>\n",
       "      <td>1.0</td>\n",
       "      <td>0.0</td>\n",
       "    </tr>\n",
       "    <tr>\n",
       "      <th>1</th>\n",
       "      <td>147</td>\n",
       "      <td>8</td>\n",
       "      <td>0</td>\n",
       "      <td>0</td>\n",
       "      <td>0.023</td>\n",
       "      <td>0.037</td>\n",
       "      <td>0.034</td>\n",
       "      <td>86733.333</td>\n",
       "      <td>1222.799</td>\n",
       "      <td>90000.000</td>\n",
       "      <td>...</td>\n",
       "      <td>27822.319</td>\n",
       "      <td>54.949</td>\n",
       "      <td>31842.261</td>\n",
       "      <td>104.767</td>\n",
       "      <td>-0.067</td>\n",
       "      <td>1.033</td>\n",
       "      <td>1.0</td>\n",
       "      <td>0.0</td>\n",
       "      <td>1.0</td>\n",
       "      <td>0.0</td>\n",
       "    </tr>\n",
       "    <tr>\n",
       "      <th>2</th>\n",
       "      <td>181</td>\n",
       "      <td>3</td>\n",
       "      <td>0</td>\n",
       "      <td>0</td>\n",
       "      <td>0.020</td>\n",
       "      <td>0.044</td>\n",
       "      <td>0.033</td>\n",
       "      <td>96000.000</td>\n",
       "      <td>1085.620</td>\n",
       "      <td>100000.000</td>\n",
       "      <td>...</td>\n",
       "      <td>26496.011</td>\n",
       "      <td>236.243</td>\n",
       "      <td>30284.475</td>\n",
       "      <td>159.957</td>\n",
       "      <td>0.600</td>\n",
       "      <td>0.828</td>\n",
       "      <td>1.0</td>\n",
       "      <td>0.0</td>\n",
       "      <td>1.0</td>\n",
       "      <td>0.0</td>\n",
       "    </tr>\n",
       "    <tr>\n",
       "      <th>3</th>\n",
       "      <td>264</td>\n",
       "      <td>7</td>\n",
       "      <td>0</td>\n",
       "      <td>0</td>\n",
       "      <td>0.030</td>\n",
       "      <td>0.046</td>\n",
       "      <td>0.044</td>\n",
       "      <td>85900.000</td>\n",
       "      <td>1784.857</td>\n",
       "      <td>90000.000</td>\n",
       "      <td>...</td>\n",
       "      <td>28101.909</td>\n",
       "      <td>34.608</td>\n",
       "      <td>32115.335</td>\n",
       "      <td>85.740</td>\n",
       "      <td>0.067</td>\n",
       "      <td>1.033</td>\n",
       "      <td>1.0</td>\n",
       "      <td>0.0</td>\n",
       "      <td>1.0</td>\n",
       "      <td>0.0</td>\n",
       "    </tr>\n",
       "    <tr>\n",
       "      <th>4</th>\n",
       "      <td>420</td>\n",
       "      <td>1</td>\n",
       "      <td>0</td>\n",
       "      <td>0</td>\n",
       "      <td>0.060</td>\n",
       "      <td>0.056</td>\n",
       "      <td>0.058</td>\n",
       "      <td>86800.000</td>\n",
       "      <td>3161.148</td>\n",
       "      <td>89333.333</td>\n",
       "      <td>...</td>\n",
       "      <td>30108.420</td>\n",
       "      <td>188.493</td>\n",
       "      <td>34093.135</td>\n",
       "      <td>389.195</td>\n",
       "      <td>0.867</td>\n",
       "      <td>0.516</td>\n",
       "      <td>1.0</td>\n",
       "      <td>0.0</td>\n",
       "      <td>1.0</td>\n",
       "      <td>0.0</td>\n",
       "    </tr>\n",
       "  </tbody>\n",
       "</table>\n",
       "<p>5 rows × 25 columns</p>\n",
       "</div>"
      ],
      "text/plain": [
       "    id  neg_y_ctr  neg_y_tst_st  neg_y_tst_cf  avg_d_ctr  avg_d_tst_st  \\\n",
       "0    5          1             0             0      0.045         0.030   \n",
       "1  147          8             0             0      0.023         0.037   \n",
       "2  181          3             0             0      0.020         0.044   \n",
       "3  264          7             0             0      0.030         0.046   \n",
       "4  420          1             0             0      0.060         0.056   \n",
       "\n",
       "   avg_d_tst_cf  avg_ctr_AnnualSalary  std_ctr_AnnualSalary  \\\n",
       "0         0.034            101866.667              2635.382   \n",
       "1         0.034             86733.333              1222.799   \n",
       "2         0.033             96000.000              1085.620   \n",
       "3         0.044             85900.000              1784.857   \n",
       "4         0.058             86800.000              3161.148   \n",
       "\n",
       "   avg_tst_st_AnnualSalary  ...  avg_tst_st_AccountBalance  \\\n",
       "0               100000.000  ...                  25924.084   \n",
       "1                90000.000  ...                  27822.319   \n",
       "2               100000.000  ...                  26496.011   \n",
       "3                90000.000  ...                  28101.909   \n",
       "4                89333.333  ...                  30108.420   \n",
       "\n",
       "   std_tst_st_AccountBalance  avg_tst_cf_AccountBalance  \\\n",
       "0                    315.756                  29959.044   \n",
       "1                     54.949                  31842.261   \n",
       "2                    236.243                  30284.475   \n",
       "3                     34.608                  32115.335   \n",
       "4                    188.493                  34093.135   \n",
       "\n",
       "   std_tst_cf_AccountBalance  avg_ctr_LoanApproval  std_ctr_LoanApproval  \\\n",
       "0                    211.075                 0.867                 0.516   \n",
       "1                    104.767                -0.067                 1.033   \n",
       "2                    159.957                 0.600                 0.828   \n",
       "3                     85.740                 0.067                 1.033   \n",
       "4                    389.195                 0.867                 0.516   \n",
       "\n",
       "   avg_tst_st_LoanApproval  std_tst_st_LoanApproval  avg_tst_cf_LoanApproval  \\\n",
       "0                      1.0                      0.0                      1.0   \n",
       "1                      1.0                      0.0                      1.0   \n",
       "2                      1.0                      0.0                      1.0   \n",
       "3                      1.0                      0.0                      1.0   \n",
       "4                      1.0                      0.0                      1.0   \n",
       "\n",
       "   std_tst_cf_LoanApproval  \n",
       "0                      0.0  \n",
       "1                      0.0  \n",
       "2                      0.0  \n",
       "3                      0.0  \n",
       "4                      0.0  \n",
       "\n",
       "[5 rows x 25 columns]"
      ]
     },
     "execution_count": 21,
     "metadata": {},
     "output_type": "execute_result"
    }
   ],
   "source": [
    "# Get summary stats\n",
    "nsf = 3\n",
    "list_temp_df = []\n",
    "var = ['AnnualSalary', 'AccountBalance']\n",
    "var.append('LoanApproval')\n",
    "\n",
    "for c in set1:\n",
    "    \n",
    "    temp_df = {}\n",
    "    temp_ctr    = org_df.iloc[stST_knn[c]['ctr_idx'], :][var]\n",
    "    temp_tst_st = org_df.iloc[stST_knn[c]['tst_idx'], :][var]\n",
    "    temp_tst_cf = org_cf_df.iloc[cfST_knn[c]['tst_idx'], :][var]\n",
    "    \n",
    "    temp_df['id'] = c\n",
    "    \n",
    "    temp_df['neg_y_ctr']    = temp_ctr[temp_ctr['LoanApproval'] == -1].shape[0]\n",
    "    temp_df['neg_y_tst_st'] = temp_tst_st[temp_tst_st['LoanApproval'] == -1].shape[0]\n",
    "    temp_df['neg_y_tst_cf'] = temp_tst_cf[temp_tst_cf['LoanApproval'] == -1].shape[0]\n",
    "    \n",
    "    temp_df['avg_d_ctr']    = round(sum(stST_dis[c]['ctr_idx']) / len(stST_dis[c]['ctr_idx']), nsf)\n",
    "    temp_df['avg_d_tst_st'] = round(sum(stST_dis[c]['tst_idx']) / len(stST_dis[c]['tst_idx']), nsf)\n",
    "    temp_df['avg_d_tst_cf'] = round(sum(cfST_dis[c]['tst_idx']) / len(cfST_dis[c]['tst_idx']), nsf)\n",
    "    \n",
    "    \n",
    "    for v in var:\n",
    "        temp_df['avg_ctr_' + v] = round(temp_ctr.mean()[v], nsf)\n",
    "        temp_df['std_ctr_' + v] = round(temp_ctr.std()[v], nsf)\n",
    "        \n",
    "        temp_df['avg_tst_st_' + v] = round(temp_tst_st.mean()[v], nsf)\n",
    "        temp_df['std_tst_st_' + v] = round(temp_tst_st.std()[v], nsf)\n",
    "        \n",
    "        temp_df['avg_tst_cf_' + v] = round(temp_tst_cf.mean()[v], nsf)\n",
    "        temp_df['std_tst_cf_' + v] = round(temp_tst_cf.std()[v], nsf)\n",
    "    \n",
    "    list_temp_df.append(temp_df)\n",
    "\n",
    "set1_summary_stats = pd.DataFrame(list_temp_df)\n",
    "\n",
    "set1_summary_stats.head(5)"
   ]
  },
  {
   "cell_type": "code",
   "execution_count": 22,
   "metadata": {},
   "outputs": [
    {
     "data": {
      "text/html": [
       "<div>\n",
       "<style scoped>\n",
       "    .dataframe tbody tr th:only-of-type {\n",
       "        vertical-align: middle;\n",
       "    }\n",
       "\n",
       "    .dataframe tbody tr th {\n",
       "        vertical-align: top;\n",
       "    }\n",
       "\n",
       "    .dataframe thead th {\n",
       "        text-align: right;\n",
       "    }\n",
       "</style>\n",
       "<table border=\"1\" class=\"dataframe\">\n",
       "  <thead>\n",
       "    <tr style=\"text-align: right;\">\n",
       "      <th></th>\n",
       "      <th>id</th>\n",
       "      <th>neg_y_ctr</th>\n",
       "      <th>neg_y_tst_st</th>\n",
       "      <th>neg_y_tst_cf</th>\n",
       "      <th>avg_d_ctr</th>\n",
       "      <th>avg_d_tst_st</th>\n",
       "      <th>avg_d_tst_cf</th>\n",
       "      <th>avg_ctr_AnnualSalary</th>\n",
       "      <th>std_ctr_AnnualSalary</th>\n",
       "      <th>avg_tst_st_AnnualSalary</th>\n",
       "      <th>...</th>\n",
       "      <th>avg_tst_st_AccountBalance</th>\n",
       "      <th>std_tst_st_AccountBalance</th>\n",
       "      <th>avg_tst_cf_AccountBalance</th>\n",
       "      <th>std_tst_cf_AccountBalance</th>\n",
       "      <th>avg_ctr_LoanApproval</th>\n",
       "      <th>std_ctr_LoanApproval</th>\n",
       "      <th>avg_tst_st_LoanApproval</th>\n",
       "      <th>std_tst_st_LoanApproval</th>\n",
       "      <th>avg_tst_cf_LoanApproval</th>\n",
       "      <th>std_tst_cf_LoanApproval</th>\n",
       "    </tr>\n",
       "  </thead>\n",
       "  <tbody>\n",
       "    <tr>\n",
       "      <th>0</th>\n",
       "      <td>9</td>\n",
       "      <td>15</td>\n",
       "      <td>15</td>\n",
       "      <td>14</td>\n",
       "      <td>0.0</td>\n",
       "      <td>0.0</td>\n",
       "      <td>0.1</td>\n",
       "      <td>83500.0</td>\n",
       "      <td>2203.9</td>\n",
       "      <td>80000.0</td>\n",
       "      <td>...</td>\n",
       "      <td>21309.1</td>\n",
       "      <td>119.3</td>\n",
       "      <td>25060.9</td>\n",
       "      <td>92.9</td>\n",
       "      <td>-1.0</td>\n",
       "      <td>0.0</td>\n",
       "      <td>-1.0</td>\n",
       "      <td>0.0</td>\n",
       "      <td>-0.9</td>\n",
       "      <td>0.5</td>\n",
       "    </tr>\n",
       "    <tr>\n",
       "      <th>1</th>\n",
       "      <td>44</td>\n",
       "      <td>15</td>\n",
       "      <td>15</td>\n",
       "      <td>0</td>\n",
       "      <td>0.0</td>\n",
       "      <td>0.0</td>\n",
       "      <td>0.0</td>\n",
       "      <td>88800.0</td>\n",
       "      <td>1485.6</td>\n",
       "      <td>90000.0</td>\n",
       "      <td>...</td>\n",
       "      <td>26097.8</td>\n",
       "      <td>86.9</td>\n",
       "      <td>30049.6</td>\n",
       "      <td>71.0</td>\n",
       "      <td>-1.0</td>\n",
       "      <td>0.0</td>\n",
       "      <td>-1.0</td>\n",
       "      <td>0.0</td>\n",
       "      <td>1.0</td>\n",
       "      <td>0.0</td>\n",
       "    </tr>\n",
       "    <tr>\n",
       "      <th>2</th>\n",
       "      <td>50</td>\n",
       "      <td>15</td>\n",
       "      <td>15</td>\n",
       "      <td>0</td>\n",
       "      <td>0.0</td>\n",
       "      <td>0.0</td>\n",
       "      <td>0.0</td>\n",
       "      <td>89833.3</td>\n",
       "      <td>1291.0</td>\n",
       "      <td>90000.0</td>\n",
       "      <td>...</td>\n",
       "      <td>23318.6</td>\n",
       "      <td>211.8</td>\n",
       "      <td>27131.0</td>\n",
       "      <td>125.1</td>\n",
       "      <td>-1.0</td>\n",
       "      <td>0.0</td>\n",
       "      <td>-1.0</td>\n",
       "      <td>0.0</td>\n",
       "      <td>1.0</td>\n",
       "      <td>0.0</td>\n",
       "    </tr>\n",
       "    <tr>\n",
       "      <th>3</th>\n",
       "      <td>55</td>\n",
       "      <td>12</td>\n",
       "      <td>15</td>\n",
       "      <td>0</td>\n",
       "      <td>0.0</td>\n",
       "      <td>0.0</td>\n",
       "      <td>0.0</td>\n",
       "      <td>93500.0</td>\n",
       "      <td>886.4</td>\n",
       "      <td>90000.0</td>\n",
       "      <td>...</td>\n",
       "      <td>25726.0</td>\n",
       "      <td>60.7</td>\n",
       "      <td>29655.6</td>\n",
       "      <td>50.1</td>\n",
       "      <td>-0.6</td>\n",
       "      <td>0.8</td>\n",
       "      <td>-1.0</td>\n",
       "      <td>0.0</td>\n",
       "      <td>1.0</td>\n",
       "      <td>0.0</td>\n",
       "    </tr>\n",
       "    <tr>\n",
       "      <th>4</th>\n",
       "      <td>89</td>\n",
       "      <td>15</td>\n",
       "      <td>15</td>\n",
       "      <td>0</td>\n",
       "      <td>0.1</td>\n",
       "      <td>0.1</td>\n",
       "      <td>0.1</td>\n",
       "      <td>77300.0</td>\n",
       "      <td>2094.2</td>\n",
       "      <td>79333.3</td>\n",
       "      <td>...</td>\n",
       "      <td>27111.5</td>\n",
       "      <td>104.8</td>\n",
       "      <td>31205.6</td>\n",
       "      <td>514.6</td>\n",
       "      <td>-1.0</td>\n",
       "      <td>0.0</td>\n",
       "      <td>-1.0</td>\n",
       "      <td>0.0</td>\n",
       "      <td>1.0</td>\n",
       "      <td>0.0</td>\n",
       "    </tr>\n",
       "  </tbody>\n",
       "</table>\n",
       "<p>5 rows × 25 columns</p>\n",
       "</div>"
      ],
      "text/plain": [
       "   id  neg_y_ctr  neg_y_tst_st  neg_y_tst_cf  avg_d_ctr  avg_d_tst_st  \\\n",
       "0   9         15            15            14        0.0           0.0   \n",
       "1  44         15            15             0        0.0           0.0   \n",
       "2  50         15            15             0        0.0           0.0   \n",
       "3  55         12            15             0        0.0           0.0   \n",
       "4  89         15            15             0        0.1           0.1   \n",
       "\n",
       "   avg_d_tst_cf  avg_ctr_AnnualSalary  std_ctr_AnnualSalary  \\\n",
       "0           0.1               83500.0                2203.9   \n",
       "1           0.0               88800.0                1485.6   \n",
       "2           0.0               89833.3                1291.0   \n",
       "3           0.0               93500.0                 886.4   \n",
       "4           0.1               77300.0                2094.2   \n",
       "\n",
       "   avg_tst_st_AnnualSalary  ...  avg_tst_st_AccountBalance  \\\n",
       "0                  80000.0  ...                    21309.1   \n",
       "1                  90000.0  ...                    26097.8   \n",
       "2                  90000.0  ...                    23318.6   \n",
       "3                  90000.0  ...                    25726.0   \n",
       "4                  79333.3  ...                    27111.5   \n",
       "\n",
       "   std_tst_st_AccountBalance  avg_tst_cf_AccountBalance  \\\n",
       "0                      119.3                    25060.9   \n",
       "1                       86.9                    30049.6   \n",
       "2                      211.8                    27131.0   \n",
       "3                       60.7                    29655.6   \n",
       "4                      104.8                    31205.6   \n",
       "\n",
       "   std_tst_cf_AccountBalance  avg_ctr_LoanApproval  std_ctr_LoanApproval  \\\n",
       "0                       92.9                  -1.0                   0.0   \n",
       "1                       71.0                  -1.0                   0.0   \n",
       "2                      125.1                  -1.0                   0.0   \n",
       "3                       50.1                  -0.6                   0.8   \n",
       "4                      514.6                  -1.0                   0.0   \n",
       "\n",
       "   avg_tst_st_LoanApproval  std_tst_st_LoanApproval  avg_tst_cf_LoanApproval  \\\n",
       "0                     -1.0                      0.0                     -0.9   \n",
       "1                     -1.0                      0.0                      1.0   \n",
       "2                     -1.0                      0.0                      1.0   \n",
       "3                     -1.0                      0.0                      1.0   \n",
       "4                     -1.0                      0.0                      1.0   \n",
       "\n",
       "   std_tst_cf_LoanApproval  \n",
       "0                      0.5  \n",
       "1                      0.0  \n",
       "2                      0.0  \n",
       "3                      0.0  \n",
       "4                      0.0  \n",
       "\n",
       "[5 rows x 25 columns]"
      ]
     },
     "execution_count": 22,
     "metadata": {},
     "output_type": "execute_result"
    }
   ],
   "source": [
    "# Get summary stats\n",
    "nsf = 1\n",
    "list_temp_df = []\n",
    "var = ['AnnualSalary', 'AccountBalance']\n",
    "var.append('LoanApproval')\n",
    "\n",
    "for c in set2:\n",
    "    \n",
    "    temp_df = {}\n",
    "    temp_ctr    = org_df.iloc[stST_knn[c]['ctr_idx'], :][var]\n",
    "    temp_tst_st = org_df.iloc[stST_knn[c]['tst_idx'], :][var]\n",
    "    temp_tst_cf = org_cf_df.iloc[cfST_knn[c]['tst_idx'], :][var]\n",
    "    \n",
    "    temp_df['id'] = c\n",
    "    \n",
    "    temp_df['neg_y_ctr']    = temp_ctr[temp_ctr['LoanApproval'] == -1].shape[0]\n",
    "    temp_df['neg_y_tst_st'] = temp_tst_st[temp_tst_st['LoanApproval'] == -1].shape[0]\n",
    "    temp_df['neg_y_tst_cf'] = temp_tst_cf[temp_tst_cf['LoanApproval'] == -1].shape[0]\n",
    "    \n",
    "    temp_df['avg_d_ctr']    = round(sum(stST_dis[c]['ctr_idx']) / len(stST_dis[c]['ctr_idx']), nsf)\n",
    "    temp_df['avg_d_tst_st'] = round(sum(stST_dis[c]['tst_idx']) / len(stST_dis[c]['tst_idx']), nsf)\n",
    "    temp_df['avg_d_tst_cf'] = round(sum(cfST_dis[c]['tst_idx']) / len(cfST_dis[c]['tst_idx']), nsf)\n",
    "    \n",
    "    for v in var:\n",
    "        temp_df['avg_ctr_' + v] = round(temp_ctr.mean()[v], nsf)\n",
    "        temp_df['std_ctr_' + v] = round(temp_ctr.std()[v], nsf)\n",
    "        \n",
    "        temp_df['avg_tst_st_' + v] = round(temp_tst_st.mean()[v], nsf)\n",
    "        temp_df['std_tst_st_' + v] = round(temp_tst_st.std()[v], nsf)\n",
    "        \n",
    "        temp_df['avg_tst_cf_' + v] = round(temp_tst_cf.mean()[v], nsf)\n",
    "        temp_df['std_tst_cf_' + v] = round(temp_tst_cf.std()[v], nsf)\n",
    "    \n",
    "    list_temp_df.append(temp_df)\n",
    "\n",
    "set2_summary_stats = pd.DataFrame(list_temp_df)\n",
    "set2_summary_stats.head(5)"
   ]
  },
  {
   "cell_type": "code",
   "execution_count": 23,
   "metadata": {},
   "outputs": [
    {
     "data": {
      "text/plain": [
       "id                             2832.509091\n",
       "neg_y_ctr                         8.818182\n",
       "neg_y_tst_st                      2.218182\n",
       "neg_y_tst_cf                      0.000000\n",
       "avg_d_ctr                         0.030636\n",
       "avg_d_tst_st                      0.039818\n",
       "avg_d_tst_cf                      0.032164\n",
       "avg_ctr_AnnualSalary          94372.121273\n",
       "std_ctr_AnnualSalary           1646.290909\n",
       "avg_tst_st_AnnualSalary       96181.818182\n",
       "std_tst_st_AnnualSalary         611.567818\n",
       "avg_tst_cf_AnnualSalary      106569.696964\n",
       "std_tst_cf_AnnualSalary         286.344545\n",
       "avg_ctr_AccountBalance        26092.927218\n",
       "std_ctr_AccountBalance          558.299127\n",
       "avg_tst_st_AccountBalance     26347.455273\n",
       "std_tst_st_AccountBalance       352.780873\n",
       "avg_tst_cf_AccountBalance     30141.280873\n",
       "std_tst_cf_AccountBalance       273.448636\n",
       "avg_ctr_LoanApproval             -0.175709\n",
       "std_ctr_LoanApproval              0.722527\n",
       "avg_tst_st_LoanApproval           0.704273\n",
       "std_tst_st_LoanApproval           0.387418\n",
       "avg_tst_cf_LoanApproval           1.000000\n",
       "std_tst_cf_LoanApproval           0.000000\n",
       "dtype: float64"
      ]
     },
     "execution_count": 23,
     "metadata": {},
     "output_type": "execute_result"
    }
   ],
   "source": [
    "set1_summary_stats.mean()"
   ]
  },
  {
   "cell_type": "code",
   "execution_count": 24,
   "metadata": {},
   "outputs": [
    {
     "data": {
      "text/plain": [
       "id                            2456.381974\n",
       "neg_y_ctr                       13.742489\n",
       "neg_y_tst_st                    14.785408\n",
       "neg_y_tst_cf                     0.781116\n",
       "avg_d_ctr                        0.005150\n",
       "avg_d_tst_st                     0.022747\n",
       "avg_d_tst_cf                     0.014163\n",
       "avg_ctr_AnnualSalary         86332.474678\n",
       "std_ctr_AnnualSalary          1524.329614\n",
       "avg_tst_st_AnnualSalary      85911.303004\n",
       "std_tst_st_AnnualSalary        906.112876\n",
       "avg_tst_cf_AnnualSalary      96898.426180\n",
       "std_tst_cf_AnnualSalary        391.491416\n",
       "avg_ctr_AccountBalance       24734.113305\n",
       "std_ctr_AccountBalance         482.149785\n",
       "avg_tst_st_AccountBalance    24790.047210\n",
       "std_tst_st_AccountBalance      152.076395\n",
       "avg_tst_cf_AccountBalance    28677.113305\n",
       "std_tst_cf_AccountBalance      171.609442\n",
       "avg_ctr_LoanApproval            -0.832618\n",
       "std_ctr_LoanApproval             0.160086\n",
       "avg_tst_st_LoanApproval         -0.972103\n",
       "std_tst_st_LoanApproval          0.038197\n",
       "avg_tst_cf_LoanApproval          0.894850\n",
       "std_tst_cf_LoanApproval          0.100858\n",
       "dtype: float64"
      ]
     },
     "execution_count": 24,
     "metadata": {},
     "output_type": "execute_result"
    }
   ],
   "source": [
    "set2_summary_stats.mean()"
   ]
  },
  {
   "cell_type": "markdown",
   "metadata": {},
   "source": [
    "### Summary of stST vs cfST\n",
    "\n",
    "Using the boxplots, even for the c's that share standard and counterfactual ST, we see the notions of fairness fiven the difference. While the test group under stST is more align with the control group, the test group under cfST is clearly different from it yet we're comparing these two groups to detect discrimination.\n",
    "\n",
    "- Add both plots to show that this is a pattern.\n",
    "- Add the summary stats... what seems to be the issue is that, on average, set 1 has closer groups. You can see this in the boxplots of random samples.\n",
    "- This reinforces our discrimination approach - to be added to Experiments and Appendix.\n",
    "\n",
    "- When looking at the number of rejections, we see that cfST captures more (male) test groups that have no rejections: the discrimination claim becomes clearer here!\n",
    "\n",
    "- When looking at the distance, we don't see a reduction in tighness: it just seems that what differs is the the test center but the neighboors are still close by: doesn't add much tbh.\n",
    "\n",
    "Here, clearly, we can see the difference between using the idealized comparison vs the fairness given the difference. This explains the numbers in Table 1. This is key wrt to discrimination analysis."
   ]
  },
  {
   "cell_type": "markdown",
   "metadata": {},
   "source": [
    "### cfST vs CF\n",
    "\n",
    "Now we move into causal fairness... things to highlight:\n",
    "\n",
    "- Based on Table 1, it seems that CF already incorporates \"fairness given the difference\", meaning that the criticism that came after the method's apperance are unfounded: Hu and Kohler-Hausmann are wrong there. Our conclusion is that counterfactuals, as conceived by Pearl, are the right way forward for discrimination analysis that are fairer.\n",
    "\n",
    "- Now, we wonder/ask weather CF is enough for detecting discrimination in-itself? Under ST, at least algorithnically, we don't include the centers. We have added to cfST the option to include or not the centers, which are by definition the CF literal comparisson. We can, in that sense, explore the application of CF to discrimination analysis.\n",
    "\n",
    "- We can think of several reasons why CF and causal fairness overall is suitable for discrimination analysis: 1) Discrimination is conceived as a causal query: does the protected attribute \"cause\" directly/indirectly the outcome in question? 2) Discrimination analysis relies on expert knowledge (think of calling a hiring officer as a witness for a hiring discrimnation case) and we see the causal DAG as a nice tools of communication between non-technical and technical experts: the DAG can serve as a bridge to easily translate expert knowledge into a structure for modelling. 3) In particular, CF, comes natural in discrimination cases: it literally seems to operationalize the KHC.\n",
    "\n",
    "Note: be clear about the synthetic data. We create an ideal world (consider it the counterfactual) and then modify it to be systemtically unfair to women. Hence, what we observe is the factual but then the counterfactual shows the ideal world. It both shows how KHC is relevant (highlight the limits of ideal comparissons) and how CF implkictly addresses this.\n",
    "\n",
    "- We can, however, think about other reasons that makes CF unsuitable as is for discrimination analasys. \n",
    "    - 1) Our understanding of the legal literature is that the literal comparisson is not enough. Granted, CF was not an option when the law was written and the method has not been used yet. But CF is limited to the single instance and doesn't account for the uncertainty of decision making process in question. This uncertainty is often approximated by \"repeating the process\", i.e. treated as an inferential question. Discrimination tools approximate this (as repetition is not an option) by looking at similar instances and seeing what happens. We've shown the limitations of this approach by looking at the ideal comparison, but then cfST address the need to neighborhoods based on CF. We don't see cfST as a substitute, instead **we see it as an extension of it for discrimination analysis**.\n",
    "    - 2) For example, suppose we have c and its $c^{scf}$ near the decision border, such that both c and $c^{scf}$ are $\\hat{Y}=0$. Then  for c, the decision maker is counterfactually fair, but what happens when we look at the neighborhoods for both control and test groups? $c$ si surrounded by rejected (female) instances, but if $c^{scf}$ is at the border then its (test) neighborhood would have rejected and accpeted instances - in a way, mimicking this idea of repeating the process over and over for $c$. Hence, if the factual, female version is always rejected while its counterfactual, male version is sometimes rejected (here, we are implictly doing fairness given the difference) then are we actually fair for $c$? Again, discrimination is legally grounded and it requires evidence of a pattern: individual claim alone may not be enough (as we understand it). Again, that's why we see cfST as a discrimination analysis tool extension of CF.\n",
    "    - 3) Another limitation is that CF is only limited to the individual comparisson: factual vs counterfactual. Instead by looking at the proportions we can conceive unfari instances differently. In particular, we can look at $\\tau$-discrimination, where recall that $\\tau$ is the deviation in the proportions from the expected behaviour. \n",
    "    \n",
    "    If we define discrimination in terms of CF, essentially $\\tau$ has to be 0 for us to consider these instances as discriminatory. This is because CF requieres that the factual and counterfactuals are identical or not. Now, under cfST, we can play with this... this is also the case in court: we could have some level of \"mercy\" toward the decision maker and $\\tau > 0$ to reflect this. So cfST is more robust because of the proportions, not to mention that the proportions allow us to have inferential properties! (4) CF doesn't have inferential properties, which might be an issue for the policy makers (maybe 1 and 4 are the same?).\n",
    "    \n",
    "    That said, if all CF instances fall under cfST, then we show that we cover the starting point but can enhance it by looking at the neighborhoods. We extend it by looking at other suspucious instances (still under $\\tau=0$)."
   ]
  },
  {
   "cell_type": "markdown",
   "metadata": {},
   "source": [
    "### Counterfactual ST (cfST) - with centers"
   ]
  },
  {
   "cell_type": "code",
   "execution_count": 25,
   "metadata": {},
   "outputs": [],
   "source": [
    "test_df    = org_df.copy()\n",
    "test_cf_df = org_cf_df.copy()\n",
    "\n",
    "# include the centers\n",
    "cf_st_with = SituationTesting()\n",
    "cf_st_with.setup_baseline(test_df, test_cf_df, nominal_atts=['Gender'], continuous_atts=['AnnualSalary', 'AccountBalance'])\n",
    "\n",
    "res_df['cfSTwith'] = cf_st_with.run(target_att='LoanApproval', target_val={'positive': 1, 'negative': -1},\n",
    "                                    sensitive_att='Gender', sensitive_val={'non_protected': 0, 'protected': 1},\n",
    "                                    include_centers=True,\n",
    "                                    k=n, alpha=alpha, tau=tau)"
   ]
  },
  {
   "cell_type": "code",
   "execution_count": 26,
   "metadata": {},
   "outputs": [
    {
     "data": {
      "text/plain": [
       "420"
      ]
     },
     "execution_count": 26,
     "metadata": {},
     "output_type": "execute_result"
    }
   ],
   "source": [
    "res_df[res_df['cfSTwith'] > tau].shape[0]"
   ]
  },
  {
   "cell_type": "code",
   "execution_count": 27,
   "metadata": {},
   "outputs": [
    {
     "data": {
      "text/plain": [
       "0"
      ]
     },
     "execution_count": 27,
     "metadata": {},
     "output_type": "execute_result"
    }
   ],
   "source": [
    "res_df[res_df['cfSTwith'] < tau].shape[0]"
   ]
  },
  {
   "cell_type": "code",
   "execution_count": 28,
   "metadata": {},
   "outputs": [],
   "source": [
    "# get all neighnorhoods for cfST\n",
    "cfST_knn_with = cf_st_with.res_dict_df_neighbors"
   ]
  },
  {
   "cell_type": "code",
   "execution_count": 29,
   "metadata": {},
   "outputs": [],
   "source": [
    "res_df['CF'] = cf_st_with.res_counterfactual_unfairness"
   ]
  },
  {
   "cell_type": "code",
   "execution_count": 30,
   "metadata": {},
   "outputs": [
    {
     "data": {
      "text/html": [
       "<div>\n",
       "<style scoped>\n",
       "    .dataframe tbody tr th:only-of-type {\n",
       "        vertical-align: middle;\n",
       "    }\n",
       "\n",
       "    .dataframe tbody tr th {\n",
       "        vertical-align: top;\n",
       "    }\n",
       "\n",
       "    .dataframe thead th {\n",
       "        text-align: right;\n",
       "    }\n",
       "</style>\n",
       "<table border=\"1\" class=\"dataframe\">\n",
       "  <thead>\n",
       "    <tr style=\"text-align: right;\">\n",
       "      <th></th>\n",
       "      <th>Gender</th>\n",
       "      <th>LoanApproval</th>\n",
       "      <th>cf_LoanApproval</th>\n",
       "      <th>ST</th>\n",
       "      <th>cfST</th>\n",
       "      <th>cfSTwith</th>\n",
       "      <th>CF</th>\n",
       "    </tr>\n",
       "  </thead>\n",
       "  <tbody>\n",
       "    <tr>\n",
       "      <th>0</th>\n",
       "      <td>1</td>\n",
       "      <td>-1.0</td>\n",
       "      <td>-1.0</td>\n",
       "      <td>0.0</td>\n",
       "      <td>0.0</td>\n",
       "      <td>0.0</td>\n",
       "      <td>0.0</td>\n",
       "    </tr>\n",
       "    <tr>\n",
       "      <th>1</th>\n",
       "      <td>0</td>\n",
       "      <td>1.0</td>\n",
       "      <td>1.0</td>\n",
       "      <td>0.0</td>\n",
       "      <td>0.0</td>\n",
       "      <td>0.0</td>\n",
       "      <td>0.0</td>\n",
       "    </tr>\n",
       "    <tr>\n",
       "      <th>2</th>\n",
       "      <td>0</td>\n",
       "      <td>-1.0</td>\n",
       "      <td>-1.0</td>\n",
       "      <td>0.0</td>\n",
       "      <td>0.0</td>\n",
       "      <td>0.0</td>\n",
       "      <td>0.0</td>\n",
       "    </tr>\n",
       "    <tr>\n",
       "      <th>3</th>\n",
       "      <td>0</td>\n",
       "      <td>-1.0</td>\n",
       "      <td>-1.0</td>\n",
       "      <td>0.0</td>\n",
       "      <td>0.0</td>\n",
       "      <td>0.0</td>\n",
       "      <td>0.0</td>\n",
       "    </tr>\n",
       "    <tr>\n",
       "      <th>4</th>\n",
       "      <td>1</td>\n",
       "      <td>1.0</td>\n",
       "      <td>1.0</td>\n",
       "      <td>0.0</td>\n",
       "      <td>0.0</td>\n",
       "      <td>0.0</td>\n",
       "      <td>0.0</td>\n",
       "    </tr>\n",
       "  </tbody>\n",
       "</table>\n",
       "</div>"
      ],
      "text/plain": [
       "   Gender  LoanApproval  cf_LoanApproval   ST  cfST  cfSTwith   CF\n",
       "0       1          -1.0             -1.0  0.0   0.0       0.0  0.0\n",
       "1       0           1.0              1.0  0.0   0.0       0.0  0.0\n",
       "2       0          -1.0             -1.0  0.0   0.0       0.0  0.0\n",
       "3       0          -1.0             -1.0  0.0   0.0       0.0  0.0\n",
       "4       1           1.0              1.0  0.0   0.0       0.0  0.0"
      ]
     },
     "execution_count": 30,
     "metadata": {},
     "output_type": "execute_result"
    }
   ],
   "source": [
    "res_df.head(5)"
   ]
  },
  {
   "cell_type": "code",
   "execution_count": 31,
   "metadata": {},
   "outputs": [
    {
     "data": {
      "text/plain": [
       "(376, 7)"
      ]
     },
     "execution_count": 31,
     "metadata": {},
     "output_type": "execute_result"
    }
   ],
   "source": [
    "# number of counterfactuals: under a CF defitinion of discrimination\n",
    "res_df[res_df['CF'] == 1].shape"
   ]
  },
  {
   "cell_type": "code",
   "execution_count": 32,
   "metadata": {},
   "outputs": [
    {
     "name": "stdout",
     "output_type": "stream",
     "text": [
      "420\n",
      "376\n",
      "44\n"
     ]
    }
   ],
   "source": [
    "# sets of interest:\n",
    "\n",
    "# total disc cases under cfST\n",
    "print(len(res_df[(res_df['cfSTwith'] > tau)].index.to_list()))\n",
    "\n",
    "# c in cfST and in CF\n",
    "set3 = res_df[(res_df['cfSTwith'] > tau) & (res_df['CF'] == 1)].index.to_list()\n",
    "print(len(set3))\n",
    "\n",
    "# c not in CF but in cfST\n",
    "set4 = [c for c in res_df[(res_df['cfSTwith'] > tau)].index.to_list() if c not in set3]\n",
    "print(len(set4))"
   ]
  },
  {
   "cell_type": "code",
   "execution_count": 33,
   "metadata": {},
   "outputs": [
    {
     "name": "stdout",
     "output_type": "stream",
     "text": [
      "[3649, 4804, 3397, 2769, 598]\n"
     ]
    },
    {
     "data": {
      "text/plain": [
       "<AxesSubplot:xlabel='ID', ylabel='AccountBalance'>"
      ]
     },
     "execution_count": 33,
     "metadata": {},
     "output_type": "execute_result"
    },
    {
     "data": {
      "image/png": "[encoded data removed]",
      "text/plain": [
       "<Figure size 432x288 with 1 Axes>"
      ]
     },
     "metadata": {},
     "output_type": "display_data"
    }
   ],
   "source": [
    "test_n = 5\n",
    "\n",
    "test_c = random.sample(set3, test_n)\n",
    "# test_c = random.sample(set2, test_n)\n",
    "print(test_c)\n",
    "\n",
    "var = ['AnnualSalary', 'AccountBalance']\n",
    "temp_df_list = []\n",
    "\n",
    "for c in test_c:\n",
    "    \n",
    "#     print('===== ===== =====')\n",
    "    \n",
    "#     print(stST_knn[c]['ctr_idx'])\n",
    "    temp_ctr = org_df.iloc[cfST_knn_with[c]['ctr_idx'], :][var].copy()\n",
    "    temp_ctr = temp_ctr.append(org_df.iloc[c][var])    \n",
    "    temp_ctr['ID'] = 'id_' + str(c)\n",
    "    temp_ctr['Type'] = 'ctr'\n",
    "    temp_df_list.append(temp_ctr)\n",
    "    del temp_ctr\n",
    "        \n",
    "#     print(cfST_knn[c]['tst_idx'])\n",
    "    temp_tst_cf = org_cf_df.iloc[cfST_knn_with[c]['tst_idx'], :][var].copy()\n",
    "    temp_tst_cf = temp_tst_cf.append(org_cf_df.iloc[c][var]) \n",
    "    temp_tst_cf['ID'] = 'id_' + str(c)\n",
    "    temp_tst_cf['Type'] = 'tst_cf_with'\n",
    "    temp_df_list.append(temp_tst_cf)\n",
    "    del temp_tst_cf\n",
    "    \n",
    "    \n",
    "\n",
    "box_plot_data = pd.concat(temp_df_list)\n",
    "del temp_df_list\n",
    "\n",
    "# box_plot_data\n",
    "sns.boxplot(x = box_plot_data['ID'],\n",
    "            y = box_plot_data['AccountBalance'],\n",
    "            hue = box_plot_data['Type'])"
   ]
  },
  {
   "cell_type": "code",
   "execution_count": 34,
   "metadata": {},
   "outputs": [
    {
     "name": "stdout",
     "output_type": "stream",
     "text": [
      "[4631, 4107, 3134, 3071, 4237]\n"
     ]
    },
    {
     "data": {
      "text/plain": [
       "<AxesSubplot:xlabel='ID', ylabel='AccountBalance'>"
      ]
     },
     "execution_count": 34,
     "metadata": {},
     "output_type": "execute_result"
    },
    {
     "data": {
      "image/png": "[encoded data removed]",
      "text/plain": [
       "<Figure size 432x288 with 1 Axes>"
      ]
     },
     "metadata": {},
     "output_type": "display_data"
    }
   ],
   "source": [
    "test_n = 5\n",
    "\n",
    "test_c = random.sample(set4, test_n)\n",
    "# test_c = random.sample(set2, test_n)\n",
    "print(test_c)\n",
    "\n",
    "var = ['AnnualSalary', 'AccountBalance']\n",
    "temp_df_list = []\n",
    "\n",
    "for c in test_c:\n",
    "    \n",
    "#     print('===== ===== =====')\n",
    "    \n",
    "#     print(stST_knn[c]['ctr_idx'])\n",
    "    temp_ctr = org_df.iloc[cfST_knn_with[c]['ctr_idx'], :][var].copy()\n",
    "    temp_ctr = temp_ctr.append(org_df.iloc[c][var])\n",
    "    temp_ctr['ID'] = 'id_' + str(c)\n",
    "    temp_ctr['Type'] = 'ctr'\n",
    "    temp_df_list.append(temp_ctr)\n",
    "    del temp_ctr\n",
    "        \n",
    "#     print(cfST_knn[c]['tst_idx'])\n",
    "    temp_tst_cf = org_cf_df.iloc[cfST_knn_with[c]['tst_idx'], :][var].copy()\n",
    "    temp_tst_cf = temp_tst_cf.append(org_cf_df.iloc[c][var]) \n",
    "    temp_tst_cf['ID'] = 'id_' + str(c)\n",
    "    temp_tst_cf['Type'] = 'tst_cf_with'\n",
    "    temp_df_list.append(temp_tst_cf)\n",
    "    del temp_tst_cf\n",
    "\n",
    "box_plot_data = pd.concat(temp_df_list)\n",
    "del temp_df_list\n",
    "\n",
    "# box_plot_data\n",
    "sns.boxplot(x = box_plot_data['ID'],\n",
    "            y = box_plot_data['AccountBalance'],\n",
    "            hue = box_plot_data['Type'])"
   ]
  },
  {
   "cell_type": "code",
   "execution_count": 35,
   "metadata": {},
   "outputs": [
    {
     "data": {
      "text/html": [
       "<div>\n",
       "<style scoped>\n",
       "    .dataframe tbody tr th:only-of-type {\n",
       "        vertical-align: middle;\n",
       "    }\n",
       "\n",
       "    .dataframe tbody tr th {\n",
       "        vertical-align: top;\n",
       "    }\n",
       "\n",
       "    .dataframe thead th {\n",
       "        text-align: right;\n",
       "    }\n",
       "</style>\n",
       "<table border=\"1\" class=\"dataframe\">\n",
       "  <thead>\n",
       "    <tr style=\"text-align: right;\">\n",
       "      <th></th>\n",
       "      <th>id</th>\n",
       "      <th>neg_y_ctr</th>\n",
       "      <th>neg_y_tst_cfw</th>\n",
       "      <th>avg_ctr_AnnualSalary</th>\n",
       "      <th>std_ctr_AnnualSalary</th>\n",
       "      <th>avg_tst_cfw_AnnualSalary</th>\n",
       "      <th>std_tst_cfw_AnnualSalary</th>\n",
       "      <th>avg_ctr_AccountBalance</th>\n",
       "      <th>std_ctr_AccountBalance</th>\n",
       "      <th>avg_tst_cfw_AccountBalance</th>\n",
       "      <th>std_tst_cfw_AccountBalance</th>\n",
       "      <th>avg_ctr_LoanApproval</th>\n",
       "      <th>std_ctr_LoanApproval</th>\n",
       "      <th>avg_tst_cfw_LoanApproval</th>\n",
       "      <th>std_tst_cfw_LoanApproval</th>\n",
       "    </tr>\n",
       "  </thead>\n",
       "  <tbody>\n",
       "    <tr>\n",
       "      <th>0</th>\n",
       "      <td>9</td>\n",
       "      <td>16</td>\n",
       "      <td>14</td>\n",
       "      <td>83562.5</td>\n",
       "      <td>2143.789</td>\n",
       "      <td>91893.522</td>\n",
       "      <td>4071.429</td>\n",
       "      <td>21190.245</td>\n",
       "      <td>563.071</td>\n",
       "      <td>25193.404</td>\n",
       "      <td>537.392</td>\n",
       "      <td>-1.000</td>\n",
       "      <td>0.000</td>\n",
       "      <td>-0.750</td>\n",
       "      <td>0.683</td>\n",
       "    </tr>\n",
       "    <tr>\n",
       "      <th>1</th>\n",
       "      <td>44</td>\n",
       "      <td>16</td>\n",
       "      <td>0</td>\n",
       "      <td>88812.5</td>\n",
       "      <td>1436.141</td>\n",
       "      <td>100299.772</td>\n",
       "      <td>1199.088</td>\n",
       "      <td>26133.162</td>\n",
       "      <td>387.665</td>\n",
       "      <td>30170.696</td>\n",
       "      <td>489.117</td>\n",
       "      <td>-1.000</td>\n",
       "      <td>0.000</td>\n",
       "      <td>1.000</td>\n",
       "      <td>0.000</td>\n",
       "    </tr>\n",
       "    <tr>\n",
       "      <th>2</th>\n",
       "      <td>47</td>\n",
       "      <td>16</td>\n",
       "      <td>15</td>\n",
       "      <td>76500.0</td>\n",
       "      <td>447.214</td>\n",
       "      <td>90143.522</td>\n",
       "      <td>574.088</td>\n",
       "      <td>21494.387</td>\n",
       "      <td>308.318</td>\n",
       "      <td>25274.228</td>\n",
       "      <td>538.563</td>\n",
       "      <td>-1.000</td>\n",
       "      <td>0.000</td>\n",
       "      <td>-0.875</td>\n",
       "      <td>0.500</td>\n",
       "    </tr>\n",
       "    <tr>\n",
       "      <th>3</th>\n",
       "      <td>50</td>\n",
       "      <td>16</td>\n",
       "      <td>0</td>\n",
       "      <td>89812.5</td>\n",
       "      <td>1250.000</td>\n",
       "      <td>100331.022</td>\n",
       "      <td>1324.088</td>\n",
       "      <td>23321.805</td>\n",
       "      <td>483.294</td>\n",
       "      <td>27260.483</td>\n",
       "      <td>532.018</td>\n",
       "      <td>-1.000</td>\n",
       "      <td>0.000</td>\n",
       "      <td>1.000</td>\n",
       "      <td>0.000</td>\n",
       "    </tr>\n",
       "    <tr>\n",
       "      <th>4</th>\n",
       "      <td>55</td>\n",
       "      <td>13</td>\n",
       "      <td>0</td>\n",
       "      <td>93500.0</td>\n",
       "      <td>856.349</td>\n",
       "      <td>100581.022</td>\n",
       "      <td>2324.088</td>\n",
       "      <td>25776.387</td>\n",
       "      <td>561.316</td>\n",
       "      <td>29779.597</td>\n",
       "      <td>498.526</td>\n",
       "      <td>-0.625</td>\n",
       "      <td>0.806</td>\n",
       "      <td>1.000</td>\n",
       "      <td>0.000</td>\n",
       "    </tr>\n",
       "  </tbody>\n",
       "</table>\n",
       "</div>"
      ],
      "text/plain": [
       "   id  neg_y_ctr  neg_y_tst_cfw  avg_ctr_AnnualSalary  std_ctr_AnnualSalary  \\\n",
       "0   9         16             14               83562.5              2143.789   \n",
       "1  44         16              0               88812.5              1436.141   \n",
       "2  47         16             15               76500.0               447.214   \n",
       "3  50         16              0               89812.5              1250.000   \n",
       "4  55         13              0               93500.0               856.349   \n",
       "\n",
       "   avg_tst_cfw_AnnualSalary  std_tst_cfw_AnnualSalary  avg_ctr_AccountBalance  \\\n",
       "0                 91893.522                  4071.429               21190.245   \n",
       "1                100299.772                  1199.088               26133.162   \n",
       "2                 90143.522                   574.088               21494.387   \n",
       "3                100331.022                  1324.088               23321.805   \n",
       "4                100581.022                  2324.088               25776.387   \n",
       "\n",
       "   std_ctr_AccountBalance  avg_tst_cfw_AccountBalance  \\\n",
       "0                 563.071                   25193.404   \n",
       "1                 387.665                   30170.696   \n",
       "2                 308.318                   25274.228   \n",
       "3                 483.294                   27260.483   \n",
       "4                 561.316                   29779.597   \n",
       "\n",
       "   std_tst_cfw_AccountBalance  avg_ctr_LoanApproval  std_ctr_LoanApproval  \\\n",
       "0                     537.392                -1.000                 0.000   \n",
       "1                     489.117                -1.000                 0.000   \n",
       "2                     538.563                -1.000                 0.000   \n",
       "3                     532.018                -1.000                 0.000   \n",
       "4                     498.526                -0.625                 0.806   \n",
       "\n",
       "   avg_tst_cfw_LoanApproval  std_tst_cfw_LoanApproval  \n",
       "0                    -0.750                     0.683  \n",
       "1                     1.000                     0.000  \n",
       "2                    -0.875                     0.500  \n",
       "3                     1.000                     0.000  \n",
       "4                     1.000                     0.000  "
      ]
     },
     "execution_count": 35,
     "metadata": {},
     "output_type": "execute_result"
    }
   ],
   "source": [
    "# Get summary stats\n",
    "nsf = 3\n",
    "list_temp_df = []\n",
    "var = ['AnnualSalary', 'AccountBalance']\n",
    "var.append('LoanApproval')\n",
    "\n",
    "for c in set3:\n",
    "    \n",
    "    temp_df = {}\n",
    "    temp_ctr         = org_df.iloc[cfST_knn_with[c]['ctr_idx'], :][var].copy()\n",
    "    temp_ctr = temp_ctr.append(org_df.iloc[c][var])\n",
    "    temp_tst_cf_with = org_cf_df.iloc[cfST_knn_with[c]['tst_idx'], :][var].copy()\n",
    "    temp_tst_cf_with = temp_tst_cf_with.append(org_cf_df.iloc[c][var]) \n",
    "    \n",
    "    temp_df['id'] = c\n",
    "    temp_df['neg_y_ctr'] = temp_ctr[temp_ctr['LoanApproval']==-1].shape[0]\n",
    "    temp_df['neg_y_tst_cfw'] = temp_tst_cf_with[temp_tst_cf_with['LoanApproval']==-1].shape[0] \n",
    "    \n",
    "    for v in var:\n",
    "        temp_df['avg_ctr_' + v] = round(temp_ctr.mean()[v], nsf)\n",
    "        temp_df['std_ctr_' + v] = round(temp_ctr.std()[v], nsf)\n",
    "                \n",
    "        temp_df['avg_tst_cfw_' + v] = round(temp_tst_cf_with.mean()[v], nsf)\n",
    "        temp_df['std_tst_cfw_' + v] = round(temp_tst_cf_with.std()[v], nsf)\n",
    "    \n",
    "    list_temp_df.append(temp_df)\n",
    "\n",
    "set3_summary_stats = pd.DataFrame(list_temp_df)\n",
    "\n",
    "set3_summary_stats.head(5)"
   ]
  },
  {
   "cell_type": "code",
   "execution_count": 36,
   "metadata": {},
   "outputs": [
    {
     "data": {
      "text/html": [
       "<div>\n",
       "<style scoped>\n",
       "    .dataframe tbody tr th:only-of-type {\n",
       "        vertical-align: middle;\n",
       "    }\n",
       "\n",
       "    .dataframe tbody tr th {\n",
       "        vertical-align: top;\n",
       "    }\n",
       "\n",
       "    .dataframe thead th {\n",
       "        text-align: right;\n",
       "    }\n",
       "</style>\n",
       "<table border=\"1\" class=\"dataframe\">\n",
       "  <thead>\n",
       "    <tr style=\"text-align: right;\">\n",
       "      <th></th>\n",
       "      <th>id</th>\n",
       "      <th>neg_y_ctr</th>\n",
       "      <th>neg_y_tst_cfw</th>\n",
       "      <th>avg_ctr_AnnualSalary</th>\n",
       "      <th>std_ctr_AnnualSalary</th>\n",
       "      <th>avg_tst_cfw_AnnualSalary</th>\n",
       "      <th>std_tst_cfw_AnnualSalary</th>\n",
       "      <th>avg_ctr_AccountBalance</th>\n",
       "      <th>std_ctr_AccountBalance</th>\n",
       "      <th>avg_tst_cfw_AccountBalance</th>\n",
       "      <th>std_tst_cfw_AccountBalance</th>\n",
       "      <th>avg_ctr_LoanApproval</th>\n",
       "      <th>std_ctr_LoanApproval</th>\n",
       "      <th>avg_tst_cfw_LoanApproval</th>\n",
       "      <th>std_tst_cfw_LoanApproval</th>\n",
       "    </tr>\n",
       "  </thead>\n",
       "  <tbody>\n",
       "    <tr>\n",
       "      <th>0</th>\n",
       "      <td>5</td>\n",
       "      <td>1</td>\n",
       "      <td>0</td>\n",
       "      <td>101875.00</td>\n",
       "      <td>2546.239</td>\n",
       "      <td>110487.272</td>\n",
       "      <td>1949.088</td>\n",
       "      <td>26168.027</td>\n",
       "      <td>867.561</td>\n",
       "      <td>30080.678</td>\n",
       "      <td>527.542</td>\n",
       "      <td>0.875</td>\n",
       "      <td>0.500</td>\n",
       "      <td>1.0</td>\n",
       "      <td>0.0</td>\n",
       "    </tr>\n",
       "    <tr>\n",
       "      <th>1</th>\n",
       "      <td>147</td>\n",
       "      <td>8</td>\n",
       "      <td>0</td>\n",
       "      <td>86718.75</td>\n",
       "      <td>1182.776</td>\n",
       "      <td>100143.522</td>\n",
       "      <td>574.088</td>\n",
       "      <td>27715.668</td>\n",
       "      <td>503.826</td>\n",
       "      <td>31959.888</td>\n",
       "      <td>481.268</td>\n",
       "      <td>0.000</td>\n",
       "      <td>1.033</td>\n",
       "      <td>1.0</td>\n",
       "      <td>0.0</td>\n",
       "    </tr>\n",
       "    <tr>\n",
       "      <th>2</th>\n",
       "      <td>181</td>\n",
       "      <td>3</td>\n",
       "      <td>0</td>\n",
       "      <td>96031.25</td>\n",
       "      <td>1056.232</td>\n",
       "      <td>110143.522</td>\n",
       "      <td>574.088</td>\n",
       "      <td>26153.629</td>\n",
       "      <td>397.361</td>\n",
       "      <td>30404.649</td>\n",
       "      <td>504.925</td>\n",
       "      <td>0.625</td>\n",
       "      <td>0.806</td>\n",
       "      <td>1.0</td>\n",
       "      <td>0.0</td>\n",
       "    </tr>\n",
       "    <tr>\n",
       "      <th>3</th>\n",
       "      <td>264</td>\n",
       "      <td>7</td>\n",
       "      <td>0</td>\n",
       "      <td>85875.00</td>\n",
       "      <td>1727.233</td>\n",
       "      <td>100081.022</td>\n",
       "      <td>324.088</td>\n",
       "      <td>27905.072</td>\n",
       "      <td>488.551</td>\n",
       "      <td>32233.562</td>\n",
       "      <td>480.108</td>\n",
       "      <td>0.125</td>\n",
       "      <td>1.025</td>\n",
       "      <td>1.0</td>\n",
       "      <td>0.0</td>\n",
       "    </tr>\n",
       "    <tr>\n",
       "      <th>4</th>\n",
       "      <td>420</td>\n",
       "      <td>1</td>\n",
       "      <td>0</td>\n",
       "      <td>86687.50</td>\n",
       "      <td>3086.935</td>\n",
       "      <td>99424.772</td>\n",
       "      <td>2521.111</td>\n",
       "      <td>29363.281</td>\n",
       "      <td>862.920</td>\n",
       "      <td>34211.225</td>\n",
       "      <td>603.738</td>\n",
       "      <td>0.875</td>\n",
       "      <td>0.500</td>\n",
       "      <td>1.0</td>\n",
       "      <td>0.0</td>\n",
       "    </tr>\n",
       "  </tbody>\n",
       "</table>\n",
       "</div>"
      ],
      "text/plain": [
       "    id  neg_y_ctr  neg_y_tst_cfw  avg_ctr_AnnualSalary  std_ctr_AnnualSalary  \\\n",
       "0    5          1              0             101875.00              2546.239   \n",
       "1  147          8              0              86718.75              1182.776   \n",
       "2  181          3              0              96031.25              1056.232   \n",
       "3  264          7              0              85875.00              1727.233   \n",
       "4  420          1              0              86687.50              3086.935   \n",
       "\n",
       "   avg_tst_cfw_AnnualSalary  std_tst_cfw_AnnualSalary  avg_ctr_AccountBalance  \\\n",
       "0                110487.272                  1949.088               26168.027   \n",
       "1                100143.522                   574.088               27715.668   \n",
       "2                110143.522                   574.088               26153.629   \n",
       "3                100081.022                   324.088               27905.072   \n",
       "4                 99424.772                  2521.111               29363.281   \n",
       "\n",
       "   std_ctr_AccountBalance  avg_tst_cfw_AccountBalance  \\\n",
       "0                 867.561                   30080.678   \n",
       "1                 503.826                   31959.888   \n",
       "2                 397.361                   30404.649   \n",
       "3                 488.551                   32233.562   \n",
       "4                 862.920                   34211.225   \n",
       "\n",
       "   std_tst_cfw_AccountBalance  avg_ctr_LoanApproval  std_ctr_LoanApproval  \\\n",
       "0                     527.542                 0.875                 0.500   \n",
       "1                     481.268                 0.000                 1.033   \n",
       "2                     504.925                 0.625                 0.806   \n",
       "3                     480.108                 0.125                 1.025   \n",
       "4                     603.738                 0.875                 0.500   \n",
       "\n",
       "   avg_tst_cfw_LoanApproval  std_tst_cfw_LoanApproval  \n",
       "0                       1.0                       0.0  \n",
       "1                       1.0                       0.0  \n",
       "2                       1.0                       0.0  \n",
       "3                       1.0                       0.0  \n",
       "4                       1.0                       0.0  "
      ]
     },
     "execution_count": 36,
     "metadata": {},
     "output_type": "execute_result"
    }
   ],
   "source": [
    "# Get summary stats\n",
    "nsf = 3\n",
    "list_temp_df = []\n",
    "var = ['AnnualSalary', 'AccountBalance']\n",
    "var.append('LoanApproval')\n",
    "\n",
    "for c in set4:\n",
    "    \n",
    "    temp_df = {}\n",
    "    temp_ctr         = org_df.iloc[cfST_knn_with[c]['ctr_idx'], :][var].copy()\n",
    "    temp_ctr = temp_ctr.append(org_df.iloc[c][var])\n",
    "    temp_tst_cf_with = org_cf_df.iloc[cfST_knn_with[c]['tst_idx'], :][var].copy()\n",
    "    temp_tst_cf_with = temp_tst_cf_with.append(org_cf_df.iloc[c][var]) \n",
    "    \n",
    "    temp_df['id'] = c\n",
    "    temp_df['neg_y_ctr'] = temp_ctr[temp_ctr['LoanApproval']==-1].shape[0]\n",
    "    temp_df['neg_y_tst_cfw'] = temp_tst_cf_with[temp_tst_cf_with['LoanApproval']==-1].shape[0] \n",
    "    \n",
    "    for v in var:\n",
    "        temp_df['avg_ctr_' + v] = round(temp_ctr.mean()[v], nsf)\n",
    "        temp_df['std_ctr_' + v] = round(temp_ctr.std()[v], nsf)\n",
    "                \n",
    "        temp_df['avg_tst_cfw_' + v] = round(temp_tst_cf_with.mean()[v], nsf)\n",
    "        temp_df['std_tst_cfw_' + v] = round(temp_tst_cf_with.std()[v], nsf)\n",
    "    \n",
    "    list_temp_df.append(temp_df)\n",
    "\n",
    "set4_summary_stats = pd.DataFrame(list_temp_df)\n",
    "\n",
    "set4_summary_stats.head(5)"
   ]
  },
  {
   "cell_type": "code",
   "execution_count": 37,
   "metadata": {
    "scrolled": true
   },
   "outputs": [
    {
     "data": {
      "text/plain": [
       "id                             2446.199468\n",
       "neg_y_ctr                        15.460106\n",
       "neg_y_tst_cfw                     5.750000\n",
       "avg_ctr_AnnualSalary          83281.250000\n",
       "std_ctr_AnnualSalary           1410.966444\n",
       "avg_tst_cfw_AnnualSalary      94323.458835\n",
       "std_tst_cfw_AnnualSalary       1564.363194\n",
       "avg_ctr_AccountBalance        23752.643210\n",
       "std_ctr_AccountBalance          449.849293\n",
       "avg_tst_cfw_AccountBalance    27762.604670\n",
       "std_tst_cfw_AccountBalance      550.183293\n",
       "avg_ctr_LoanApproval             -0.932513\n",
       "std_ctr_LoanApproval              0.104883\n",
       "avg_tst_cfw_LoanApproval          0.281250\n",
       "std_tst_cfw_LoanApproval          0.239652\n",
       "dtype: float64"
      ]
     },
     "execution_count": 37,
     "metadata": {},
     "output_type": "execute_result"
    }
   ],
   "source": [
    "set3_summary_stats.mean()"
   ]
  },
  {
   "cell_type": "code",
   "execution_count": 38,
   "metadata": {},
   "outputs": [
    {
     "data": {
      "text/plain": [
       "id                              2795.886364\n",
       "neg_y_ctr                          5.227273\n",
       "neg_y_tst_cfw                      0.000000\n",
       "avg_ctr_AnnualSalary           92892.045455\n",
       "std_ctr_AnnualSalary            1592.326205\n",
       "avg_tst_cfw_AnnualSalary      104541.249273\n",
       "std_tst_cfw_AnnualSalary        1434.181682\n",
       "avg_ctr_AccountBalance         26890.631523\n",
       "std_ctr_AccountBalance           509.609955\n",
       "avg_tst_cfw_AccountBalance     31161.375886\n",
       "std_tst_cfw_AccountBalance       545.725795\n",
       "avg_ctr_LoanApproval               0.346591\n",
       "std_ctr_LoanApproval               0.843182\n",
       "avg_tst_cfw_LoanApproval           1.000000\n",
       "std_tst_cfw_LoanApproval           0.000000\n",
       "dtype: float64"
      ]
     },
     "execution_count": 38,
     "metadata": {},
     "output_type": "execute_result"
    }
   ],
   "source": [
    "set4_summary_stats.mean()"
   ]
  },
  {
   "cell_type": "markdown",
   "metadata": {},
   "source": [
    "### Summary CF vs cfST\n",
    "\n",
    "- Focus on cfST that includes the centers (i.e., the two isnatnces used for counterfactual fairneess)\n",
    "- Under $\\tau=0$, all CF instances that are discriminated under counterfactual discrimination are detected by cfST with centers. CF is a lower bound for cfST.\n",
    "- Based on set 3 and set 4, it seems that the ones identified by CF and cfST are tighter sets: verry narrow boxplots! While the ones where cfST diverges from CF are wider both control and test groups. This could imply also the location: tighter sets should fall on the same side of the decision baundary\n",
    "- The centers are more improtant as it takes us longer to reach the lower baund of the CF when we don't incude the cneters: we need larger k!\n",
    "\n",
    "- Based on summary stats of set 4, it seems like cfST detects more discrimination cases... like all these instances show rejections in the control but only acceptances in test group"
   ]
  },
  {
   "cell_type": "markdown",
   "metadata": {},
   "source": [
    "### Get/Showcase the CIs for CF"
   ]
  },
  {
   "cell_type": "code",
   "execution_count": 39,
   "metadata": {},
   "outputs": [
    {
     "data": {
      "text/html": [
       "<div>\n",
       "<style scoped>\n",
       "    .dataframe tbody tr th:only-of-type {\n",
       "        vertical-align: middle;\n",
       "    }\n",
       "\n",
       "    .dataframe tbody tr th {\n",
       "        vertical-align: top;\n",
       "    }\n",
       "\n",
       "    .dataframe thead th {\n",
       "        text-align: right;\n",
       "    }\n",
       "</style>\n",
       "<table border=\"1\" class=\"dataframe\">\n",
       "  <thead>\n",
       "    <tr style=\"text-align: right;\">\n",
       "      <th></th>\n",
       "      <th>individual</th>\n",
       "      <th>p1</th>\n",
       "      <th>p2</th>\n",
       "      <th>org_diff</th>\n",
       "      <th>d_alpha</th>\n",
       "      <th>diff</th>\n",
       "      <th>CIs</th>\n",
       "      <th>cfST</th>\n",
       "    </tr>\n",
       "  </thead>\n",
       "  <tbody>\n",
       "    <tr>\n",
       "      <th>4</th>\n",
       "      <td>9</td>\n",
       "      <td>1.0000</td>\n",
       "      <td>0.8750</td>\n",
       "      <td>0.125</td>\n",
       "      <td>0.162052</td>\n",
       "      <td>0.000</td>\n",
       "      <td>[-0.037, 0.287]</td>\n",
       "      <td>Yes</td>\n",
       "    </tr>\n",
       "    <tr>\n",
       "      <th>14</th>\n",
       "      <td>44</td>\n",
       "      <td>1.0000</td>\n",
       "      <td>0.0000</td>\n",
       "      <td>1.000</td>\n",
       "      <td>0.000000</td>\n",
       "      <td>1.000</td>\n",
       "      <td>[1.0, 1.0]</td>\n",
       "      <td>Yes</td>\n",
       "    </tr>\n",
       "    <tr>\n",
       "      <th>15</th>\n",
       "      <td>47</td>\n",
       "      <td>1.0000</td>\n",
       "      <td>0.9375</td>\n",
       "      <td>0.062</td>\n",
       "      <td>0.118610</td>\n",
       "      <td>0.000</td>\n",
       "      <td>[-0.056, 0.181]</td>\n",
       "      <td>Yes</td>\n",
       "    </tr>\n",
       "    <tr>\n",
       "      <th>17</th>\n",
       "      <td>50</td>\n",
       "      <td>1.0000</td>\n",
       "      <td>0.0000</td>\n",
       "      <td>1.000</td>\n",
       "      <td>0.000000</td>\n",
       "      <td>1.000</td>\n",
       "      <td>[1.0, 1.0]</td>\n",
       "      <td>Yes</td>\n",
       "    </tr>\n",
       "    <tr>\n",
       "      <th>19</th>\n",
       "      <td>55</td>\n",
       "      <td>0.8125</td>\n",
       "      <td>0.0000</td>\n",
       "      <td>0.812</td>\n",
       "      <td>0.191253</td>\n",
       "      <td>0.621</td>\n",
       "      <td>[0.621, 1.004]</td>\n",
       "      <td>Yes</td>\n",
       "    </tr>\n",
       "  </tbody>\n",
       "</table>\n",
       "</div>"
      ],
      "text/plain": [
       "    individual      p1      p2  org_diff   d_alpha   diff              CIs  \\\n",
       "4            9  1.0000  0.8750     0.125  0.162052  0.000  [-0.037, 0.287]   \n",
       "14          44  1.0000  0.0000     1.000  0.000000  1.000       [1.0, 1.0]   \n",
       "15          47  1.0000  0.9375     0.062  0.118610  0.000  [-0.056, 0.181]   \n",
       "17          50  1.0000  0.0000     1.000  0.000000  1.000       [1.0, 1.0]   \n",
       "19          55  0.8125  0.0000     0.812  0.191253  0.621   [0.621, 1.004]   \n",
       "\n",
       "   cfST  \n",
       "4   Yes  \n",
       "14  Yes  \n",
       "15  Yes  \n",
       "17  Yes  \n",
       "19  Yes  "
      ]
     },
     "execution_count": 39,
     "metadata": {},
     "output_type": "execute_result"
    }
   ],
   "source": [
    "df_cf_sf_disc = cf_st_with.get_test_discrimination()\n",
    "df_cf_sf_disc.head(5)\n",
    "\n",
    "# add this to results to showcase the method\n",
    "df_cf_sf_disc[df_cf_sf_disc['individual'].isin(res_df[res_df['CF'] == 1].index.to_list())].head(5)"
   ]
  },
  {
   "cell_type": "code",
   "execution_count": null,
   "metadata": {},
   "outputs": [],
   "source": []
  }
 ],
 "metadata": {
  "kernelspec": {
   "display_name": "fair_ml",
   "language": "python",
   "name": "fair_ml"
  },
  "language_info": {
   "codemirror_mode": {
    "name": "ipython",
    "version": 3
   },
   "file_extension": ".py",
   "mimetype": "text/x-python",
   "name": "python",
   "nbconvert_exporter": "python",
   "pygments_lexer": "ipython3",
   "version": "3.8.5"
  }
 },
 "nbformat": 4,
 "nbformat_minor": 4
}
