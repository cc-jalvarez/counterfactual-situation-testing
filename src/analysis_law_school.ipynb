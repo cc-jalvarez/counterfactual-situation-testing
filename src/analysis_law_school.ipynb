{
 "cells": [
  {
   "cell_type": "code",
   "execution_count": 1,
   "metadata": {},
   "outputs": [],
   "source": [
    "%load_ext autoreload\n",
    "%autoreload 2\n",
    "import os\n",
    "import sys\n",
    "import random\n",
    "import pandas as pd\n",
    "import numpy as np\n",
    "import seaborn as sns\n",
    "import matplotlib.pyplot as plt\n",
    "# src files\n",
    "from situation_testing.situation_testing import SituationTesting\n",
    "# plot params\n",
    "plt.style.use('seaborn-whitegrid')\n",
    "plt.rc('font', size=11)\n",
    "plt.rc('legend', fontsize=11)\n",
    "plt.rc('lines', linewidth=2)\n",
    "plt.rc('axes', linewidth=2)\n",
    "plt.rc('axes', edgecolor='k')\n",
    "plt.rc('xtick.major', width=2)\n",
    "plt.rc('xtick.major', size=6)\n",
    "plt.rc('ytick.major', width=2)\n",
    "plt.rc('ytick.major', size=6)\n",
    "plt.rc('pdf', fonttype=42)\n",
    "plt.rc('ps', fonttype=42)"
   ]
  },
  {
   "cell_type": "code",
   "execution_count": 2,
   "metadata": {},
   "outputs": [],
   "source": [
    "# working directory\n",
    "wd = os.path.dirname(os.getcwd())\n",
    "# relevant folders\n",
    "data_path = os.path.abspath(os.path.join(wd, 'data')) + '\\\\'\n",
    "resu_path = os.path.abspath(os.path.join(wd, 'results')) + '\\\\'"
   ]
  },
  {
   "cell_type": "code",
   "execution_count": 3,
   "metadata": {},
   "outputs": [
    {
     "name": "stdout",
     "output_type": "stream",
     "text": [
      "(21790, 7)\n",
      "['race', 'sex', 'LSAT', 'UGPA', 'ZFYA', 'race_nonwhite', 'race_simpler']\n"
     ]
    },
    {
     "data": {
      "text/html": [
       "<div>\n",
       "<style scoped>\n",
       "    .dataframe tbody tr th:only-of-type {\n",
       "        vertical-align: middle;\n",
       "    }\n",
       "\n",
       "    .dataframe tbody tr th {\n",
       "        vertical-align: top;\n",
       "    }\n",
       "\n",
       "    .dataframe thead th {\n",
       "        text-align: right;\n",
       "    }\n",
       "</style>\n",
       "<table border=\"1\" class=\"dataframe\">\n",
       "  <thead>\n",
       "    <tr style=\"text-align: right;\">\n",
       "      <th></th>\n",
       "      <th>race</th>\n",
       "      <th>sex</th>\n",
       "      <th>LSAT</th>\n",
       "      <th>UGPA</th>\n",
       "      <th>ZFYA</th>\n",
       "      <th>race_nonwhite</th>\n",
       "      <th>race_simpler</th>\n",
       "    </tr>\n",
       "  </thead>\n",
       "  <tbody>\n",
       "    <tr>\n",
       "      <th>0</th>\n",
       "      <td>White</td>\n",
       "      <td>Female</td>\n",
       "      <td>39.0</td>\n",
       "      <td>3.1</td>\n",
       "      <td>-0.98</td>\n",
       "      <td>White</td>\n",
       "      <td>White</td>\n",
       "    </tr>\n",
       "    <tr>\n",
       "      <th>1</th>\n",
       "      <td>White</td>\n",
       "      <td>Female</td>\n",
       "      <td>36.0</td>\n",
       "      <td>3.0</td>\n",
       "      <td>0.09</td>\n",
       "      <td>White</td>\n",
       "      <td>White</td>\n",
       "    </tr>\n",
       "    <tr>\n",
       "      <th>2</th>\n",
       "      <td>White</td>\n",
       "      <td>Male</td>\n",
       "      <td>30.0</td>\n",
       "      <td>3.1</td>\n",
       "      <td>-0.35</td>\n",
       "      <td>White</td>\n",
       "      <td>White</td>\n",
       "    </tr>\n",
       "    <tr>\n",
       "      <th>3</th>\n",
       "      <td>Hispanic</td>\n",
       "      <td>Male</td>\n",
       "      <td>39.0</td>\n",
       "      <td>2.2</td>\n",
       "      <td>0.58</td>\n",
       "      <td>NonWhite</td>\n",
       "      <td>Latino</td>\n",
       "    </tr>\n",
       "    <tr>\n",
       "      <th>4</th>\n",
       "      <td>White</td>\n",
       "      <td>Female</td>\n",
       "      <td>37.0</td>\n",
       "      <td>3.4</td>\n",
       "      <td>-1.26</td>\n",
       "      <td>White</td>\n",
       "      <td>White</td>\n",
       "    </tr>\n",
       "  </tbody>\n",
       "</table>\n",
       "</div>"
      ],
      "text/plain": [
       "       race     sex  LSAT  UGPA  ZFYA race_nonwhite race_simpler\n",
       "0     White  Female  39.0   3.1 -0.98         White        White\n",
       "1     White  Female  36.0   3.0  0.09         White        White\n",
       "2     White    Male  30.0   3.1 -0.35         White        White\n",
       "3  Hispanic    Male  39.0   2.2  0.58      NonWhite       Latino\n",
       "4     White  Female  37.0   3.4 -1.26         White        White"
      ]
     },
     "execution_count": 3,
     "metadata": {},
     "output_type": "execute_result"
    }
   ],
   "source": [
    "# load and modify factual data accordingly (same for all SCFs versions)\n",
    "org_df = pd.read_csv(data_path + 'clean_LawSchool.csv', sep='|').reset_index(drop=True)\n",
    "print(org_df.shape)\n",
    "print(org_df.columns.to_list())\n",
    "org_df.head(5)"
   ]
  },
  {
   "cell_type": "code",
   "execution_count": 4,
   "metadata": {},
   "outputs": [
    {
     "data": {
      "text/html": [
       "<div>\n",
       "<style scoped>\n",
       "    .dataframe tbody tr th:only-of-type {\n",
       "        vertical-align: middle;\n",
       "    }\n",
       "\n",
       "    .dataframe tbody tr th {\n",
       "        vertical-align: top;\n",
       "    }\n",
       "\n",
       "    .dataframe thead th {\n",
       "        text-align: right;\n",
       "    }\n",
       "</style>\n",
       "<table border=\"1\" class=\"dataframe\">\n",
       "  <thead>\n",
       "    <tr style=\"text-align: right;\">\n",
       "      <th></th>\n",
       "      <th>Gender</th>\n",
       "      <th>Race</th>\n",
       "      <th>LSAT</th>\n",
       "      <th>UGPA</th>\n",
       "    </tr>\n",
       "  </thead>\n",
       "  <tbody>\n",
       "    <tr>\n",
       "      <th>0</th>\n",
       "      <td>Female</td>\n",
       "      <td>White</td>\n",
       "      <td>39.0</td>\n",
       "      <td>3.1</td>\n",
       "    </tr>\n",
       "    <tr>\n",
       "      <th>1</th>\n",
       "      <td>Female</td>\n",
       "      <td>White</td>\n",
       "      <td>36.0</td>\n",
       "      <td>3.0</td>\n",
       "    </tr>\n",
       "    <tr>\n",
       "      <th>2</th>\n",
       "      <td>Male</td>\n",
       "      <td>White</td>\n",
       "      <td>30.0</td>\n",
       "      <td>3.1</td>\n",
       "    </tr>\n",
       "    <tr>\n",
       "      <th>3</th>\n",
       "      <td>Male</td>\n",
       "      <td>NonWhite</td>\n",
       "      <td>39.0</td>\n",
       "      <td>2.2</td>\n",
       "    </tr>\n",
       "    <tr>\n",
       "      <th>4</th>\n",
       "      <td>Female</td>\n",
       "      <td>White</td>\n",
       "      <td>37.0</td>\n",
       "      <td>3.4</td>\n",
       "    </tr>\n",
       "  </tbody>\n",
       "</table>\n",
       "</div>"
      ],
      "text/plain": [
       "   Gender      Race  LSAT  UGPA\n",
       "0  Female     White  39.0   3.1\n",
       "1  Female     White  36.0   3.0\n",
       "2    Male     White  30.0   3.1\n",
       "3    Male  NonWhite  39.0   2.2\n",
       "4  Female     White  37.0   3.4"
      ]
     },
     "execution_count": 4,
     "metadata": {},
     "output_type": "execute_result"
    }
   ],
   "source": [
    "# we focus on sex and race_nonwhite\n",
    "df = org_df[['sex', 'race_nonwhite', 'LSAT', 'UGPA']].copy()\n",
    "# df['sex'] = df['sex'].map({'Male': 0, 'Female': 1})\n",
    "# df['race_nonwhite'] = df['race_nonwhite'].map({'White': 0, 'NonWhite': 1})\n",
    "df.rename(columns={'sex': 'Gender', 'race_nonwhite': 'Race'}, inplace=True)\n",
    "df.head(5)"
   ]
  },
  {
   "cell_type": "markdown",
   "metadata": {},
   "source": [
    "### A 'known' decision maker\n",
    "\n",
    "To frame it as a (discrete) decision making process, we include an *admissions officer* based on [the \"known\" requirements of US Law Schools](https://schools.lawschoolnumbers.com/). We assume the case for Yale School. We could not find a one-to-one converter between LSAT over 48 to over 180. 173/180 is 96%; it would be abloud 46.1/48. Let's assume Yale cuts at these median values, and puts a slightly higher weight on UGPA over LSAT."
   ]
  },
  {
   "cell_type": "code",
   "execution_count": 5,
   "metadata": {},
   "outputs": [],
   "source": [
    "# Our decision maker:\n",
    "b1 = 0.6\n",
    "b2 = 0.4\n",
    "min_score = round(b1*3.93 + b2*46.1, 2)  # 20.8\n",
    "max_score = round(b1*4.00 + b2*48.00)    # 22"
   ]
  },
  {
   "cell_type": "code",
   "execution_count": 6,
   "metadata": {},
   "outputs": [
    {
     "data": {
      "text/html": [
       "<div>\n",
       "<style scoped>\n",
       "    .dataframe tbody tr th:only-of-type {\n",
       "        vertical-align: middle;\n",
       "    }\n",
       "\n",
       "    .dataframe tbody tr th {\n",
       "        vertical-align: top;\n",
       "    }\n",
       "\n",
       "    .dataframe thead th {\n",
       "        text-align: right;\n",
       "    }\n",
       "</style>\n",
       "<table border=\"1\" class=\"dataframe\">\n",
       "  <thead>\n",
       "    <tr style=\"text-align: right;\">\n",
       "      <th></th>\n",
       "      <th>Gender</th>\n",
       "      <th>Race</th>\n",
       "      <th>LSAT</th>\n",
       "      <th>UGPA</th>\n",
       "      <th>Score</th>\n",
       "      <th>Y</th>\n",
       "    </tr>\n",
       "  </thead>\n",
       "  <tbody>\n",
       "    <tr>\n",
       "      <th>0</th>\n",
       "      <td>Female</td>\n",
       "      <td>White</td>\n",
       "      <td>39.0</td>\n",
       "      <td>3.1</td>\n",
       "      <td>17.46</td>\n",
       "      <td>0</td>\n",
       "    </tr>\n",
       "    <tr>\n",
       "      <th>1</th>\n",
       "      <td>Female</td>\n",
       "      <td>White</td>\n",
       "      <td>36.0</td>\n",
       "      <td>3.0</td>\n",
       "      <td>16.20</td>\n",
       "      <td>0</td>\n",
       "    </tr>\n",
       "    <tr>\n",
       "      <th>2</th>\n",
       "      <td>Male</td>\n",
       "      <td>White</td>\n",
       "      <td>30.0</td>\n",
       "      <td>3.1</td>\n",
       "      <td>13.86</td>\n",
       "      <td>0</td>\n",
       "    </tr>\n",
       "    <tr>\n",
       "      <th>3</th>\n",
       "      <td>Male</td>\n",
       "      <td>NonWhite</td>\n",
       "      <td>39.0</td>\n",
       "      <td>2.2</td>\n",
       "      <td>16.92</td>\n",
       "      <td>0</td>\n",
       "    </tr>\n",
       "    <tr>\n",
       "      <th>4</th>\n",
       "      <td>Female</td>\n",
       "      <td>White</td>\n",
       "      <td>37.0</td>\n",
       "      <td>3.4</td>\n",
       "      <td>16.84</td>\n",
       "      <td>0</td>\n",
       "    </tr>\n",
       "  </tbody>\n",
       "</table>\n",
       "</div>"
      ],
      "text/plain": [
       "   Gender      Race  LSAT  UGPA  Score  Y\n",
       "0  Female     White  39.0   3.1  17.46  0\n",
       "1  Female     White  36.0   3.0  16.20  0\n",
       "2    Male     White  30.0   3.1  13.86  0\n",
       "3    Male  NonWhite  39.0   2.2  16.92  0\n",
       "4  Female     White  37.0   3.4  16.84  0"
      ]
     },
     "execution_count": 6,
     "metadata": {},
     "output_type": "execute_result"
    }
   ],
   "source": [
    "# add the decision maker\n",
    "df['Score'] = b1*df['UGPA'] + b2*df['LSAT']\n",
    "df['Y'] = np.where(df['Score'] >= min_score, 1, 0)\n",
    "df.head(5)"
   ]
  },
  {
   "cell_type": "markdown",
   "metadata": {},
   "source": [
    "### $|\\mathbf{A}=1|$: Gender\n",
    "\n",
    "We focus on the Level 3 SCFs."
   ]
  },
  {
   "cell_type": "code",
   "execution_count": 7,
   "metadata": {},
   "outputs": [
    {
     "name": "stdout",
     "output_type": "stream",
     "text": [
      "(21790, 8)\n",
      "['female', 'nonwhite', 'Sex', 'Race', 'resid_LSAT', 'resid_UGPA', 'scf_LSAT', 'scf_UGPA']\n"
     ]
    },
    {
     "data": {
      "text/html": [
       "<div>\n",
       "<style scoped>\n",
       "    .dataframe tbody tr th:only-of-type {\n",
       "        vertical-align: middle;\n",
       "    }\n",
       "\n",
       "    .dataframe tbody tr th {\n",
       "        vertical-align: top;\n",
       "    }\n",
       "\n",
       "    .dataframe thead th {\n",
       "        text-align: right;\n",
       "    }\n",
       "</style>\n",
       "<table border=\"1\" class=\"dataframe\">\n",
       "  <thead>\n",
       "    <tr style=\"text-align: right;\">\n",
       "      <th></th>\n",
       "      <th>female</th>\n",
       "      <th>nonwhite</th>\n",
       "      <th>Sex</th>\n",
       "      <th>Race</th>\n",
       "      <th>resid_LSAT</th>\n",
       "      <th>resid_UGPA</th>\n",
       "      <th>scf_LSAT</th>\n",
       "      <th>scf_UGPA</th>\n",
       "    </tr>\n",
       "  </thead>\n",
       "  <tbody>\n",
       "    <tr>\n",
       "      <th>0</th>\n",
       "      <td>0</td>\n",
       "      <td>0</td>\n",
       "      <td>Female</td>\n",
       "      <td>White</td>\n",
       "      <td>1.823899</td>\n",
       "      <td>-0.232222</td>\n",
       "      <td>39.609</td>\n",
       "      <td>2.975</td>\n",
       "    </tr>\n",
       "    <tr>\n",
       "      <th>1</th>\n",
       "      <td>0</td>\n",
       "      <td>0</td>\n",
       "      <td>Female</td>\n",
       "      <td>White</td>\n",
       "      <td>-1.176101</td>\n",
       "      <td>-0.332222</td>\n",
       "      <td>36.609</td>\n",
       "      <td>2.875</td>\n",
       "    </tr>\n",
       "    <tr>\n",
       "      <th>2</th>\n",
       "      <td>0</td>\n",
       "      <td>0</td>\n",
       "      <td>Male</td>\n",
       "      <td>White</td>\n",
       "      <td>-7.784813</td>\n",
       "      <td>-0.107057</td>\n",
       "      <td>30.000</td>\n",
       "      <td>3.100</td>\n",
       "    </tr>\n",
       "    <tr>\n",
       "      <th>3</th>\n",
       "      <td>0</td>\n",
       "      <td>1</td>\n",
       "      <td>Male</td>\n",
       "      <td>NonWhite</td>\n",
       "      <td>5.853746</td>\n",
       "      <td>-0.788069</td>\n",
       "      <td>39.000</td>\n",
       "      <td>2.200</td>\n",
       "    </tr>\n",
       "    <tr>\n",
       "      <th>4</th>\n",
       "      <td>0</td>\n",
       "      <td>0</td>\n",
       "      <td>Female</td>\n",
       "      <td>White</td>\n",
       "      <td>-0.176101</td>\n",
       "      <td>0.067778</td>\n",
       "      <td>37.609</td>\n",
       "      <td>3.275</td>\n",
       "    </tr>\n",
       "  </tbody>\n",
       "</table>\n",
       "</div>"
      ],
      "text/plain": [
       "   female  nonwhite     Sex      Race  resid_LSAT  resid_UGPA  scf_LSAT  \\\n",
       "0       0         0  Female     White    1.823899   -0.232222    39.609   \n",
       "1       0         0  Female     White   -1.176101   -0.332222    36.609   \n",
       "2       0         0    Male     White   -7.784813   -0.107057    30.000   \n",
       "3       0         1    Male  NonWhite    5.853746   -0.788069    39.000   \n",
       "4       0         0  Female     White   -0.176101    0.067778    37.609   \n",
       "\n",
       "   scf_UGPA  \n",
       "0     2.975  \n",
       "1     2.875  \n",
       "2     3.100  \n",
       "3     2.200  \n",
       "4     3.275  "
      ]
     },
     "execution_count": 7,
     "metadata": {},
     "output_type": "execute_result"
    }
   ],
   "source": [
    "do = 'Male'\n",
    "org_cf_df = pd.read_csv(data_path + '\\\\counterfactuals\\\\' + f'cf_LawSchool_lev3_do{do}.csv', sep='|').reset_index(drop=True)\n",
    "print(org_cf_df.shape)\n",
    "print(org_cf_df.columns.to_list())\n",
    "org_cf_df.head(5)"
   ]
  },
  {
   "cell_type": "code",
   "execution_count": 8,
   "metadata": {},
   "outputs": [
    {
     "data": {
      "text/html": [
       "<div>\n",
       "<style scoped>\n",
       "    .dataframe tbody tr th:only-of-type {\n",
       "        vertical-align: middle;\n",
       "    }\n",
       "\n",
       "    .dataframe tbody tr th {\n",
       "        vertical-align: top;\n",
       "    }\n",
       "\n",
       "    .dataframe thead th {\n",
       "        text-align: right;\n",
       "    }\n",
       "</style>\n",
       "<table border=\"1\" class=\"dataframe\">\n",
       "  <thead>\n",
       "    <tr style=\"text-align: right;\">\n",
       "      <th></th>\n",
       "      <th>Gender</th>\n",
       "      <th>Race</th>\n",
       "      <th>LSAT</th>\n",
       "      <th>UGPA</th>\n",
       "      <th>Score</th>\n",
       "      <th>Y</th>\n",
       "    </tr>\n",
       "  </thead>\n",
       "  <tbody>\n",
       "    <tr>\n",
       "      <th>0</th>\n",
       "      <td>Female</td>\n",
       "      <td>White</td>\n",
       "      <td>39.609</td>\n",
       "      <td>2.975</td>\n",
       "      <td>17.6286</td>\n",
       "      <td>0</td>\n",
       "    </tr>\n",
       "    <tr>\n",
       "      <th>1</th>\n",
       "      <td>Female</td>\n",
       "      <td>White</td>\n",
       "      <td>36.609</td>\n",
       "      <td>2.875</td>\n",
       "      <td>16.3686</td>\n",
       "      <td>0</td>\n",
       "    </tr>\n",
       "    <tr>\n",
       "      <th>2</th>\n",
       "      <td>Male</td>\n",
       "      <td>White</td>\n",
       "      <td>30.000</td>\n",
       "      <td>3.100</td>\n",
       "      <td>13.8600</td>\n",
       "      <td>0</td>\n",
       "    </tr>\n",
       "    <tr>\n",
       "      <th>3</th>\n",
       "      <td>Male</td>\n",
       "      <td>NonWhite</td>\n",
       "      <td>39.000</td>\n",
       "      <td>2.200</td>\n",
       "      <td>16.9200</td>\n",
       "      <td>0</td>\n",
       "    </tr>\n",
       "    <tr>\n",
       "      <th>4</th>\n",
       "      <td>Female</td>\n",
       "      <td>White</td>\n",
       "      <td>37.609</td>\n",
       "      <td>3.275</td>\n",
       "      <td>17.0086</td>\n",
       "      <td>0</td>\n",
       "    </tr>\n",
       "  </tbody>\n",
       "</table>\n",
       "</div>"
      ],
      "text/plain": [
       "   Gender      Race    LSAT   UGPA    Score  Y\n",
       "0  Female     White  39.609  2.975  17.6286  0\n",
       "1  Female     White  36.609  2.875  16.3686  0\n",
       "2    Male     White  30.000  3.100  13.8600  0\n",
       "3    Male  NonWhite  39.000  2.200  16.9200  0\n",
       "4  Female     White  37.609  3.275  17.0086  0"
      ]
     },
     "execution_count": 8,
     "metadata": {},
     "output_type": "execute_result"
    }
   ],
   "source": [
    "cf_df = org_cf_df[['Sex', 'Race', 'scf_LSAT', 'scf_UGPA']].copy()\n",
    "# cf_df['Sex'] = cf_df['Sex'].map({'Male': 0, 'Female': 1})\n",
    "# cf_df['Race'] = cf_df['Race'].map({'White': 0, 'NonWhite': 1})\n",
    "cf_df = cf_df.rename(columns={'Sex': 'Gender', 'scf_LSAT': 'LSAT', 'scf_UGPA': 'UGPA'})\n",
    "\n",
    "# add the decision maker\n",
    "cf_df['Score'] = b1*cf_df['UGPA'] + b2*cf_df['LSAT']\n",
    "cf_df['Y'] = np.where(cf_df['Score'] >= min_score, 1, 0)\n",
    "cf_df.head(5)"
   ]
  },
  {
   "cell_type": "code",
   "execution_count": 9,
   "metadata": {},
   "outputs": [
    {
     "data": {
      "text/html": [
       "<div>\n",
       "<style scoped>\n",
       "    .dataframe tbody tr th:only-of-type {\n",
       "        vertical-align: middle;\n",
       "    }\n",
       "\n",
       "    .dataframe tbody tr th {\n",
       "        vertical-align: top;\n",
       "    }\n",
       "\n",
       "    .dataframe thead th {\n",
       "        text-align: right;\n",
       "    }\n",
       "</style>\n",
       "<table border=\"1\" class=\"dataframe\">\n",
       "  <thead>\n",
       "    <tr style=\"text-align: right;\">\n",
       "      <th></th>\n",
       "      <th>Gender</th>\n",
       "      <th>Race</th>\n",
       "      <th>Y</th>\n",
       "      <th>cf_Y</th>\n",
       "    </tr>\n",
       "  </thead>\n",
       "  <tbody>\n",
       "    <tr>\n",
       "      <th>0</th>\n",
       "      <td>Female</td>\n",
       "      <td>White</td>\n",
       "      <td>0</td>\n",
       "      <td>0</td>\n",
       "    </tr>\n",
       "    <tr>\n",
       "      <th>1</th>\n",
       "      <td>Female</td>\n",
       "      <td>White</td>\n",
       "      <td>0</td>\n",
       "      <td>0</td>\n",
       "    </tr>\n",
       "    <tr>\n",
       "      <th>2</th>\n",
       "      <td>Male</td>\n",
       "      <td>White</td>\n",
       "      <td>0</td>\n",
       "      <td>0</td>\n",
       "    </tr>\n",
       "    <tr>\n",
       "      <th>3</th>\n",
       "      <td>Male</td>\n",
       "      <td>NonWhite</td>\n",
       "      <td>0</td>\n",
       "      <td>0</td>\n",
       "    </tr>\n",
       "    <tr>\n",
       "      <th>4</th>\n",
       "      <td>Female</td>\n",
       "      <td>White</td>\n",
       "      <td>0</td>\n",
       "      <td>0</td>\n",
       "    </tr>\n",
       "  </tbody>\n",
       "</table>\n",
       "</div>"
      ],
      "text/plain": [
       "   Gender      Race  Y  cf_Y\n",
       "0  Female     White  0     0\n",
       "1  Female     White  0     0\n",
       "2    Male     White  0     0\n",
       "3    Male  NonWhite  0     0\n",
       "4  Female     White  0     0"
      ]
     },
     "execution_count": 9,
     "metadata": {},
     "output_type": "execute_result"
    }
   ],
   "source": [
    "# store do:=Male results\n",
    "m_res_df = df[['Gender', 'Race', 'Y']].copy()\n",
    "m_res_df['cf_Y'] = cf_df[['Y']].copy()\n",
    "m_res_df.head(5)"
   ]
  },
  {
   "cell_type": "code",
   "execution_count": 10,
   "metadata": {},
   "outputs": [
    {
     "name": "stdout",
     "output_type": "stream",
     "text": [
      "43.76778338687471\n",
      "16.08994951812758\n"
     ]
    }
   ],
   "source": [
    "print(df[df['Gender'] == 'Female'].shape[0] / df.shape[0] * 100)\n",
    "print(df[df['Race'] == 'NonWhite'].shape[0] / df.shape[0] * 100)"
   ]
  },
  {
   "cell_type": "code",
   "execution_count": 11,
   "metadata": {},
   "outputs": [
    {
     "name": "stdout",
     "output_type": "stream",
     "text": [
      "1.887385970430953\n",
      "2.6524116542887457\n",
      "0.9412435824301199\n",
      "2.5814920148763947\n"
     ]
    }
   ],
   "source": [
    "print(df[(df['Gender'] == 'Female') & (df['Y']==1)].shape[0] / df[df['Gender'] == 'Female'].shape[0] * 100)\n",
    "print(df[(df['Gender'] == 'Male') & (df['Y']==1)].shape[0] / df[df['Gender'] == 'Male'].shape[0] * 100)\n",
    "\n",
    "print(df[(df['Race'] == 'NonWhite') & (df['Y']==1)].shape[0] / df[df['Race'] == 'NonWhite'].shape[0] * 100)\n",
    "print(df[(df['Race'] == 'White') & (df['Y']==1)].shape[0] / df[df['Race'] == 'White'].shape[0] * 100)"
   ]
  },
  {
   "cell_type": "code",
   "execution_count": 12,
   "metadata": {},
   "outputs": [],
   "source": [
    "# --- attribute-specific params\n",
    "feat_trgt = 'Y'\n",
    "feat_trgt_vals = {'positive': 1, 'negative': 0}\n",
    "# list of relevant features\n",
    "feat_rlvt = ['LSAT', 'UGPA']\n",
    "# protected feature\n",
    "feat_prot = 'Gender'\n",
    "# values for the protected feature: use 'non_protected' and 'protected' accordingly\n",
    "feat_prot_vals = {'non_protected': 'Male', 'protected': 'Female'}\n",
    "\n",
    "# --- st-specific params\n",
    "# size of neiuborhoods\n",
    "n = 15\n",
    "# significance level\n",
    "alpha = 0.05\n",
    "# tau diviation\n",
    "tau = 0.0"
   ]
  },
  {
   "cell_type": "markdown",
   "metadata": {},
   "source": [
    "#### Standard ST (stST)\n",
    "\n",
    "Notice that, by construction, by not specifying 'Race' (or 'Gender') as a relevant feature, ST will ignore it."
   ]
  },
  {
   "cell_type": "code",
   "execution_count": 13,
   "metadata": {},
   "outputs": [],
   "source": [
    "test_df = df.copy()\n",
    "\n",
    "st = SituationTesting()\n",
    "st.setup_baseline(test_df, nominal_atts=['Gender'], continuous_atts=['LSAT', 'UGPA'])\n",
    "\n",
    "m_res_df['stST'] = st.run(target_att=feat_trgt, target_val=feat_trgt_vals,  \n",
    "                          sensitive_att=feat_prot, sensitive_val=feat_prot_vals,\n",
    "                          k=n, alpha=alpha, tau=tau)"
   ]
  },
  {
   "cell_type": "code",
   "execution_count": 14,
   "metadata": {},
   "outputs": [
    {
     "data": {
      "text/plain": [
       "77"
      ]
     },
     "execution_count": 14,
     "metadata": {},
     "output_type": "execute_result"
    }
   ],
   "source": [
    "m_res_df[(m_res_df['stST'] > tau)].shape[0]"
   ]
  },
  {
   "cell_type": "code",
   "execution_count": 15,
   "metadata": {},
   "outputs": [
    {
     "data": {
      "text/plain": [
       "44"
      ]
     },
     "execution_count": 15,
     "metadata": {},
     "output_type": "execute_result"
    }
   ],
   "source": [
    "# positive discrimination?\n",
    "m_res_df[(m_res_df['stST'] < tau)].shape[0]"
   ]
  },
  {
   "cell_type": "markdown",
   "metadata": {},
   "source": [
    "#### Counterfactual Situation Testing (cfST)"
   ]
  },
  {
   "cell_type": "code",
   "execution_count": 16,
   "metadata": {},
   "outputs": [],
   "source": [
    "test_df    = df.copy()\n",
    "test_cf_df = cf_df.copy()\n",
    "\n",
    "# don't include the centers\n",
    "cf_st = SituationTesting()\n",
    "cf_st.setup_baseline(test_df, test_cf_df, nominal_atts=['Gender'], continuous_atts=['LSAT', 'UGPA'])\n",
    "\n",
    "m_res_df['cfST'] = cf_st.run(target_att=feat_trgt, target_val=feat_trgt_vals, \n",
    "                             sensitive_att=feat_prot, sensitive_val=feat_prot_vals,\n",
    "                             include_centers=False,\n",
    "                             k=n, alpha=alpha, tau=tau)"
   ]
  },
  {
   "cell_type": "code",
   "execution_count": 17,
   "metadata": {},
   "outputs": [
    {
     "data": {
      "text/plain": [
       "78"
      ]
     },
     "execution_count": 17,
     "metadata": {},
     "output_type": "execute_result"
    }
   ],
   "source": [
    "m_res_df[(m_res_df['cfST'] > tau)].shape[0]"
   ]
  },
  {
   "cell_type": "code",
   "execution_count": 18,
   "metadata": {},
   "outputs": [
    {
     "data": {
      "text/plain": [
       "57"
      ]
     },
     "execution_count": 18,
     "metadata": {},
     "output_type": "execute_result"
    }
   ],
   "source": [
    "# positive discrimination?\n",
    "m_res_df[(m_res_df['cfST'] < tau)].shape[0]"
   ]
  },
  {
   "cell_type": "markdown",
   "metadata": {},
   "source": [
    "#### Counterfactual Fairness"
   ]
  },
  {
   "cell_type": "code",
   "execution_count": 19,
   "metadata": {},
   "outputs": [],
   "source": [
    "m_res_df['CF'] = cf_st.res_counterfactual_unfairness"
   ]
  },
  {
   "cell_type": "code",
   "execution_count": 20,
   "metadata": {},
   "outputs": [
    {
     "data": {
      "text/plain": [
       "56"
      ]
     },
     "execution_count": 20,
     "metadata": {},
     "output_type": "execute_result"
    }
   ],
   "source": [
    "m_res_df[m_res_df['CF'] == 1].shape[0]"
   ]
  },
  {
   "cell_type": "code",
   "execution_count": 21,
   "metadata": {},
   "outputs": [
    {
     "data": {
      "text/plain": [
       "1"
      ]
     },
     "execution_count": 21,
     "metadata": {},
     "output_type": "execute_result"
    }
   ],
   "source": [
    "# positive discrimination?\n",
    "m_res_df[m_res_df['CF'] == 2].shape[0] "
   ]
  },
  {
   "cell_type": "markdown",
   "metadata": {},
   "source": [
    "#### cfST with centers"
   ]
  },
  {
   "cell_type": "code",
   "execution_count": 22,
   "metadata": {},
   "outputs": [],
   "source": [
    "test_df    = df.copy()\n",
    "test_cf_df = cf_df.copy()\n",
    "\n",
    "# don't include the centers\n",
    "wcf_st = SituationTesting()\n",
    "wcf_st.setup_baseline(test_df, test_cf_df, nominal_atts=['Gender'], continuous_atts=['LSAT', 'UGPA'])\n",
    "\n",
    "m_res_df['cfST_w'] = wcf_st.run(target_att=feat_trgt, target_val=feat_trgt_vals, \n",
    "                                sensitive_att=feat_prot, sensitive_val=feat_prot_vals,\n",
    "                                include_centers=True,\n",
    "                                k=n, alpha=alpha, tau=tau)"
   ]
  },
  {
   "cell_type": "code",
   "execution_count": 23,
   "metadata": {},
   "outputs": [
    {
     "data": {
      "text/plain": [
       "99"
      ]
     },
     "execution_count": 23,
     "metadata": {},
     "output_type": "execute_result"
    }
   ],
   "source": [
    "m_res_df[(m_res_df['cfST_w'] > tau)].shape[0]"
   ]
  },
  {
   "cell_type": "code",
   "execution_count": 24,
   "metadata": {},
   "outputs": [
    {
     "data": {
      "text/plain": [
       "42"
      ]
     },
     "execution_count": 24,
     "metadata": {},
     "output_type": "execute_result"
    }
   ],
   "source": [
    "# positive discrimination?\n",
    "m_res_df[(m_res_df['cfST_w'] < tau)].shape[0]"
   ]
  },
  {
   "cell_type": "markdown",
   "metadata": {},
   "source": [
    "### Add CIs for CF"
   ]
  },
  {
   "cell_type": "code",
   "execution_count": 25,
   "metadata": {},
   "outputs": [
    {
     "data": {
      "text/html": [
       "<div>\n",
       "<style scoped>\n",
       "    .dataframe tbody tr th:only-of-type {\n",
       "        vertical-align: middle;\n",
       "    }\n",
       "\n",
       "    .dataframe tbody tr th {\n",
       "        vertical-align: top;\n",
       "    }\n",
       "\n",
       "    .dataframe thead th {\n",
       "        text-align: right;\n",
       "    }\n",
       "</style>\n",
       "<table border=\"1\" class=\"dataframe\">\n",
       "  <thead>\n",
       "    <tr style=\"text-align: right;\">\n",
       "      <th></th>\n",
       "      <th>individual</th>\n",
       "      <th>p1</th>\n",
       "      <th>p2</th>\n",
       "      <th>org_diff</th>\n",
       "      <th>d_alpha</th>\n",
       "      <th>diff</th>\n",
       "      <th>CIs</th>\n",
       "      <th>cfST</th>\n",
       "    </tr>\n",
       "  </thead>\n",
       "  <tbody>\n",
       "    <tr>\n",
       "      <th>0</th>\n",
       "      <td>0</td>\n",
       "      <td>1.0</td>\n",
       "      <td>1.0</td>\n",
       "      <td>0.0</td>\n",
       "      <td>0.0</td>\n",
       "      <td>0.0</td>\n",
       "      <td>[0.0, 0.0]</td>\n",
       "      <td>No</td>\n",
       "    </tr>\n",
       "    <tr>\n",
       "      <th>1</th>\n",
       "      <td>1</td>\n",
       "      <td>1.0</td>\n",
       "      <td>1.0</td>\n",
       "      <td>0.0</td>\n",
       "      <td>0.0</td>\n",
       "      <td>0.0</td>\n",
       "      <td>[0.0, 0.0]</td>\n",
       "      <td>No</td>\n",
       "    </tr>\n",
       "    <tr>\n",
       "      <th>2</th>\n",
       "      <td>4</td>\n",
       "      <td>1.0</td>\n",
       "      <td>1.0</td>\n",
       "      <td>0.0</td>\n",
       "      <td>0.0</td>\n",
       "      <td>0.0</td>\n",
       "      <td>[0.0, 0.0]</td>\n",
       "      <td>No</td>\n",
       "    </tr>\n",
       "    <tr>\n",
       "      <th>3</th>\n",
       "      <td>5</td>\n",
       "      <td>1.0</td>\n",
       "      <td>1.0</td>\n",
       "      <td>0.0</td>\n",
       "      <td>0.0</td>\n",
       "      <td>0.0</td>\n",
       "      <td>[0.0, 0.0]</td>\n",
       "      <td>No</td>\n",
       "    </tr>\n",
       "    <tr>\n",
       "      <th>4</th>\n",
       "      <td>8</td>\n",
       "      <td>1.0</td>\n",
       "      <td>1.0</td>\n",
       "      <td>0.0</td>\n",
       "      <td>0.0</td>\n",
       "      <td>0.0</td>\n",
       "      <td>[0.0, 0.0]</td>\n",
       "      <td>No</td>\n",
       "    </tr>\n",
       "  </tbody>\n",
       "</table>\n",
       "</div>"
      ],
      "text/plain": [
       "   individual   p1   p2  org_diff  d_alpha  diff         CIs cfST\n",
       "0           0  1.0  1.0       0.0      0.0   0.0  [0.0, 0.0]   No\n",
       "1           1  1.0  1.0       0.0      0.0   0.0  [0.0, 0.0]   No\n",
       "2           4  1.0  1.0       0.0      0.0   0.0  [0.0, 0.0]   No\n",
       "3           5  1.0  1.0       0.0      0.0   0.0  [0.0, 0.0]   No\n",
       "4           8  1.0  1.0       0.0      0.0   0.0  [0.0, 0.0]   No"
      ]
     },
     "execution_count": 25,
     "metadata": {},
     "output_type": "execute_result"
    }
   ],
   "source": [
    "df_wcf_sf_disc = wcf_st.get_test_discrimination()\n",
    "df_wcf_sf_disc.head(5)"
   ]
  },
  {
   "cell_type": "code",
   "execution_count": 26,
   "metadata": {},
   "outputs": [
    {
     "data": {
      "text/html": [
       "<div>\n",
       "<style scoped>\n",
       "    .dataframe tbody tr th:only-of-type {\n",
       "        vertical-align: middle;\n",
       "    }\n",
       "\n",
       "    .dataframe tbody tr th {\n",
       "        vertical-align: top;\n",
       "    }\n",
       "\n",
       "    .dataframe thead th {\n",
       "        text-align: right;\n",
       "    }\n",
       "</style>\n",
       "<table border=\"1\" class=\"dataframe\">\n",
       "  <thead>\n",
       "    <tr style=\"text-align: right;\">\n",
       "      <th></th>\n",
       "      <th>individual</th>\n",
       "      <th>p1</th>\n",
       "      <th>p2</th>\n",
       "      <th>org_diff</th>\n",
       "      <th>d_alpha</th>\n",
       "      <th>diff</th>\n",
       "      <th>CIs</th>\n",
       "      <th>cfST</th>\n",
       "    </tr>\n",
       "  </thead>\n",
       "  <tbody>\n",
       "    <tr>\n",
       "      <th>906</th>\n",
       "      <td>2026</td>\n",
       "      <td>1.0000</td>\n",
       "      <td>0.8125</td>\n",
       "      <td>0.188</td>\n",
       "      <td>0.191253</td>\n",
       "      <td>0.0</td>\n",
       "      <td>[-0.004, 0.379]</td>\n",
       "      <td>Yes</td>\n",
       "    </tr>\n",
       "    <tr>\n",
       "      <th>1118</th>\n",
       "      <td>2554</td>\n",
       "      <td>0.9375</td>\n",
       "      <td>0.9375</td>\n",
       "      <td>0.000</td>\n",
       "      <td>0.167740</td>\n",
       "      <td>0.0</td>\n",
       "      <td>[-0.168, 0.168]</td>\n",
       "      <td>No</td>\n",
       "    </tr>\n",
       "    <tr>\n",
       "      <th>1119</th>\n",
       "      <td>2559</td>\n",
       "      <td>1.0000</td>\n",
       "      <td>0.8125</td>\n",
       "      <td>0.188</td>\n",
       "      <td>0.191253</td>\n",
       "      <td>0.0</td>\n",
       "      <td>[-0.004, 0.379]</td>\n",
       "      <td>Yes</td>\n",
       "    </tr>\n",
       "    <tr>\n",
       "      <th>1214</th>\n",
       "      <td>2793</td>\n",
       "      <td>1.0000</td>\n",
       "      <td>0.9375</td>\n",
       "      <td>0.062</td>\n",
       "      <td>0.118610</td>\n",
       "      <td>0.0</td>\n",
       "      <td>[-0.056, 0.181]</td>\n",
       "      <td>Yes</td>\n",
       "    </tr>\n",
       "    <tr>\n",
       "      <th>1266</th>\n",
       "      <td>2931</td>\n",
       "      <td>1.0000</td>\n",
       "      <td>0.8125</td>\n",
       "      <td>0.188</td>\n",
       "      <td>0.191253</td>\n",
       "      <td>0.0</td>\n",
       "      <td>[-0.004, 0.379]</td>\n",
       "      <td>Yes</td>\n",
       "    </tr>\n",
       "  </tbody>\n",
       "</table>\n",
       "</div>"
      ],
      "text/plain": [
       "      individual      p1      p2  org_diff   d_alpha  diff              CIs  \\\n",
       "906         2026  1.0000  0.8125     0.188  0.191253   0.0  [-0.004, 0.379]   \n",
       "1118        2554  0.9375  0.9375     0.000  0.167740   0.0  [-0.168, 0.168]   \n",
       "1119        2559  1.0000  0.8125     0.188  0.191253   0.0  [-0.004, 0.379]   \n",
       "1214        2793  1.0000  0.9375     0.062  0.118610   0.0  [-0.056, 0.181]   \n",
       "1266        2931  1.0000  0.8125     0.188  0.191253   0.0  [-0.004, 0.379]   \n",
       "\n",
       "     cfST  \n",
       "906   Yes  \n",
       "1118   No  \n",
       "1119  Yes  \n",
       "1214  Yes  \n",
       "1266  Yes  "
      ]
     },
     "execution_count": 26,
     "metadata": {},
     "output_type": "execute_result"
    }
   ],
   "source": [
    "# add this to results to showcase the method\n",
    "df_wcf_sf_disc[df_wcf_sf_disc['individual'].isin(m_res_df[m_res_df['CF'] == True].index.to_list())].head(5)"
   ]
  },
  {
   "cell_type": "markdown",
   "metadata": {},
   "source": [
    "### $|\\mathbf{A}=1|$: Race\n",
    "\n",
    "We focus on the Level 3 SCFs."
   ]
  },
  {
   "cell_type": "code",
   "execution_count": 27,
   "metadata": {},
   "outputs": [
    {
     "name": "stdout",
     "output_type": "stream",
     "text": [
      "(21790, 8)\n",
      "['female', 'nonwhite', 'Sex', 'Race', 'resid_LSAT', 'resid_UGPA', 'scf_LSAT', 'scf_UGPA']\n"
     ]
    },
    {
     "data": {
      "text/html": [
       "<div>\n",
       "<style scoped>\n",
       "    .dataframe tbody tr th:only-of-type {\n",
       "        vertical-align: middle;\n",
       "    }\n",
       "\n",
       "    .dataframe tbody tr th {\n",
       "        vertical-align: top;\n",
       "    }\n",
       "\n",
       "    .dataframe thead th {\n",
       "        text-align: right;\n",
       "    }\n",
       "</style>\n",
       "<table border=\"1\" class=\"dataframe\">\n",
       "  <thead>\n",
       "    <tr style=\"text-align: right;\">\n",
       "      <th></th>\n",
       "      <th>female</th>\n",
       "      <th>nonwhite</th>\n",
       "      <th>Sex</th>\n",
       "      <th>Race</th>\n",
       "      <th>resid_LSAT</th>\n",
       "      <th>resid_UGPA</th>\n",
       "      <th>scf_LSAT</th>\n",
       "      <th>scf_UGPA</th>\n",
       "    </tr>\n",
       "  </thead>\n",
       "  <tbody>\n",
       "    <tr>\n",
       "      <th>0</th>\n",
       "      <td>1</td>\n",
       "      <td>0</td>\n",
       "      <td>Female</td>\n",
       "      <td>White</td>\n",
       "      <td>1.823899</td>\n",
       "      <td>-0.232222</td>\n",
       "      <td>39.000</td>\n",
       "      <td>3.100</td>\n",
       "    </tr>\n",
       "    <tr>\n",
       "      <th>1</th>\n",
       "      <td>1</td>\n",
       "      <td>0</td>\n",
       "      <td>Female</td>\n",
       "      <td>White</td>\n",
       "      <td>-1.176101</td>\n",
       "      <td>-0.332222</td>\n",
       "      <td>36.000</td>\n",
       "      <td>3.000</td>\n",
       "    </tr>\n",
       "    <tr>\n",
       "      <th>2</th>\n",
       "      <td>0</td>\n",
       "      <td>0</td>\n",
       "      <td>Male</td>\n",
       "      <td>White</td>\n",
       "      <td>-7.784813</td>\n",
       "      <td>-0.107057</td>\n",
       "      <td>30.000</td>\n",
       "      <td>3.100</td>\n",
       "    </tr>\n",
       "    <tr>\n",
       "      <th>3</th>\n",
       "      <td>0</td>\n",
       "      <td>0</td>\n",
       "      <td>Male</td>\n",
       "      <td>NonWhite</td>\n",
       "      <td>5.853746</td>\n",
       "      <td>-0.788069</td>\n",
       "      <td>43.639</td>\n",
       "      <td>2.419</td>\n",
       "    </tr>\n",
       "    <tr>\n",
       "      <th>4</th>\n",
       "      <td>1</td>\n",
       "      <td>0</td>\n",
       "      <td>Female</td>\n",
       "      <td>White</td>\n",
       "      <td>-0.176101</td>\n",
       "      <td>0.067778</td>\n",
       "      <td>37.000</td>\n",
       "      <td>3.400</td>\n",
       "    </tr>\n",
       "  </tbody>\n",
       "</table>\n",
       "</div>"
      ],
      "text/plain": [
       "   female  nonwhite     Sex      Race  resid_LSAT  resid_UGPA  scf_LSAT  \\\n",
       "0       1         0  Female     White    1.823899   -0.232222    39.000   \n",
       "1       1         0  Female     White   -1.176101   -0.332222    36.000   \n",
       "2       0         0    Male     White   -7.784813   -0.107057    30.000   \n",
       "3       0         0    Male  NonWhite    5.853746   -0.788069    43.639   \n",
       "4       1         0  Female     White   -0.176101    0.067778    37.000   \n",
       "\n",
       "   scf_UGPA  \n",
       "0     3.100  \n",
       "1     3.000  \n",
       "2     3.100  \n",
       "3     2.419  \n",
       "4     3.400  "
      ]
     },
     "execution_count": 27,
     "metadata": {},
     "output_type": "execute_result"
    }
   ],
   "source": [
    "do = 'White'\n",
    "org_cf_df = pd.read_csv(data_path + '\\\\counterfactuals\\\\' + f'cf_LawSchool_lev3_do{do}.csv', sep='|').reset_index(drop=True)\n",
    "print(org_cf_df.shape)\n",
    "print(org_cf_df.columns.to_list())\n",
    "org_cf_df.head(5)"
   ]
  },
  {
   "cell_type": "code",
   "execution_count": 28,
   "metadata": {},
   "outputs": [
    {
     "data": {
      "text/html": [
       "<div>\n",
       "<style scoped>\n",
       "    .dataframe tbody tr th:only-of-type {\n",
       "        vertical-align: middle;\n",
       "    }\n",
       "\n",
       "    .dataframe tbody tr th {\n",
       "        vertical-align: top;\n",
       "    }\n",
       "\n",
       "    .dataframe thead th {\n",
       "        text-align: right;\n",
       "    }\n",
       "</style>\n",
       "<table border=\"1\" class=\"dataframe\">\n",
       "  <thead>\n",
       "    <tr style=\"text-align: right;\">\n",
       "      <th></th>\n",
       "      <th>Gender</th>\n",
       "      <th>Race</th>\n",
       "      <th>LSAT</th>\n",
       "      <th>UGPA</th>\n",
       "      <th>Score</th>\n",
       "      <th>Y</th>\n",
       "    </tr>\n",
       "  </thead>\n",
       "  <tbody>\n",
       "    <tr>\n",
       "      <th>0</th>\n",
       "      <td>Female</td>\n",
       "      <td>White</td>\n",
       "      <td>39.000</td>\n",
       "      <td>3.100</td>\n",
       "      <td>17.460</td>\n",
       "      <td>0</td>\n",
       "    </tr>\n",
       "    <tr>\n",
       "      <th>1</th>\n",
       "      <td>Female</td>\n",
       "      <td>White</td>\n",
       "      <td>36.000</td>\n",
       "      <td>3.000</td>\n",
       "      <td>16.200</td>\n",
       "      <td>0</td>\n",
       "    </tr>\n",
       "    <tr>\n",
       "      <th>2</th>\n",
       "      <td>Male</td>\n",
       "      <td>White</td>\n",
       "      <td>30.000</td>\n",
       "      <td>3.100</td>\n",
       "      <td>13.860</td>\n",
       "      <td>0</td>\n",
       "    </tr>\n",
       "    <tr>\n",
       "      <th>3</th>\n",
       "      <td>Male</td>\n",
       "      <td>NonWhite</td>\n",
       "      <td>43.639</td>\n",
       "      <td>2.419</td>\n",
       "      <td>18.907</td>\n",
       "      <td>0</td>\n",
       "    </tr>\n",
       "    <tr>\n",
       "      <th>4</th>\n",
       "      <td>Female</td>\n",
       "      <td>White</td>\n",
       "      <td>37.000</td>\n",
       "      <td>3.400</td>\n",
       "      <td>16.840</td>\n",
       "      <td>0</td>\n",
       "    </tr>\n",
       "  </tbody>\n",
       "</table>\n",
       "</div>"
      ],
      "text/plain": [
       "   Gender      Race    LSAT   UGPA   Score  Y\n",
       "0  Female     White  39.000  3.100  17.460  0\n",
       "1  Female     White  36.000  3.000  16.200  0\n",
       "2    Male     White  30.000  3.100  13.860  0\n",
       "3    Male  NonWhite  43.639  2.419  18.907  0\n",
       "4  Female     White  37.000  3.400  16.840  0"
      ]
     },
     "execution_count": 28,
     "metadata": {},
     "output_type": "execute_result"
    }
   ],
   "source": [
    "cf_df = org_cf_df[['Sex', 'Race', 'scf_LSAT', 'scf_UGPA']].copy()\n",
    "cf_df = cf_df.rename(columns={'Sex': 'Gender', 'scf_LSAT': 'LSAT', 'scf_UGPA': 'UGPA'})\n",
    "\n",
    "# add the decision maker\n",
    "cf_df['Score'] = b1*cf_df['UGPA'] + b2*cf_df['LSAT']\n",
    "cf_df['Y'] = np.where(cf_df['Score'] >= min_score, 1, 0)\n",
    "cf_df.head(5)"
   ]
  },
  {
   "cell_type": "code",
   "execution_count": null,
   "metadata": {},
   "outputs": [],
   "source": [
    "# df.groupby(['Y', 'Race']).count()\n",
    "# cf_df.groupby(['Y', 'Race']).count()"
   ]
  },
  {
   "cell_type": "code",
   "execution_count": 29,
   "metadata": {},
   "outputs": [
    {
     "data": {
      "text/html": [
       "<div>\n",
       "<style scoped>\n",
       "    .dataframe tbody tr th:only-of-type {\n",
       "        vertical-align: middle;\n",
       "    }\n",
       "\n",
       "    .dataframe tbody tr th {\n",
       "        vertical-align: top;\n",
       "    }\n",
       "\n",
       "    .dataframe thead th {\n",
       "        text-align: right;\n",
       "    }\n",
       "</style>\n",
       "<table border=\"1\" class=\"dataframe\">\n",
       "  <thead>\n",
       "    <tr style=\"text-align: right;\">\n",
       "      <th></th>\n",
       "      <th>Gender</th>\n",
       "      <th>Race</th>\n",
       "      <th>Y</th>\n",
       "      <th>cf_Y</th>\n",
       "    </tr>\n",
       "  </thead>\n",
       "  <tbody>\n",
       "    <tr>\n",
       "      <th>0</th>\n",
       "      <td>Female</td>\n",
       "      <td>White</td>\n",
       "      <td>0</td>\n",
       "      <td>0</td>\n",
       "    </tr>\n",
       "    <tr>\n",
       "      <th>1</th>\n",
       "      <td>Female</td>\n",
       "      <td>White</td>\n",
       "      <td>0</td>\n",
       "      <td>0</td>\n",
       "    </tr>\n",
       "    <tr>\n",
       "      <th>2</th>\n",
       "      <td>Male</td>\n",
       "      <td>White</td>\n",
       "      <td>0</td>\n",
       "      <td>0</td>\n",
       "    </tr>\n",
       "    <tr>\n",
       "      <th>3</th>\n",
       "      <td>Male</td>\n",
       "      <td>NonWhite</td>\n",
       "      <td>0</td>\n",
       "      <td>0</td>\n",
       "    </tr>\n",
       "    <tr>\n",
       "      <th>4</th>\n",
       "      <td>Female</td>\n",
       "      <td>White</td>\n",
       "      <td>0</td>\n",
       "      <td>0</td>\n",
       "    </tr>\n",
       "  </tbody>\n",
       "</table>\n",
       "</div>"
      ],
      "text/plain": [
       "   Gender      Race  Y  cf_Y\n",
       "0  Female     White  0     0\n",
       "1  Female     White  0     0\n",
       "2    Male     White  0     0\n",
       "3    Male  NonWhite  0     0\n",
       "4  Female     White  0     0"
      ]
     },
     "execution_count": 29,
     "metadata": {},
     "output_type": "execute_result"
    }
   ],
   "source": [
    "# store do:=White results\n",
    "w_res_df = df[['Gender', 'Race', 'Y']].copy()\n",
    "w_res_df['cf_Y'] = cf_df[['Y']].copy()\n",
    "w_res_df.head(5)"
   ]
  },
  {
   "cell_type": "code",
   "execution_count": 30,
   "metadata": {},
   "outputs": [],
   "source": [
    "# attribute-specific params\n",
    "feat_trgt = 'Y'\n",
    "feat_trgt_vals = {'positive': 1, 'negative': 0}\n",
    "# list of relevant features\n",
    "feat_rlvt = ['LSAT', 'UGPA']\n",
    "# protected feature\n",
    "feat_prot = 'Race'\n",
    "# values for the protected feature: use 'non_protected' and 'protected' accordingly\n",
    "feat_prot_vals = {'non_protected': 'White', 'protected': 'NonWhite'}\n",
    "\n",
    "# st-specific params\n",
    "# size of neiuborhoods\n",
    "n = 15\n",
    "# significance level\n",
    "alpha = 0.05\n",
    "# tau diviation\n",
    "tau = 0.0"
   ]
  },
  {
   "cell_type": "markdown",
   "metadata": {},
   "source": [
    "#### Standard ST (stST)\n",
    "\n",
    "Notice that, by construction, by not specifying 'Race' (or 'Gender') as a relevant feature, ST will ignore it."
   ]
  },
  {
   "cell_type": "code",
   "execution_count": 31,
   "metadata": {},
   "outputs": [],
   "source": [
    "test_df = df.copy()\n",
    "\n",
    "st = SituationTesting()\n",
    "st.setup_baseline(test_df, nominal_atts=['Race'], continuous_atts=['LSAT', 'UGPA'])\n",
    "\n",
    "w_res_df['stST'] = st.run(target_att=feat_trgt, target_val=feat_trgt_vals,  \n",
    "                          sensitive_att=feat_prot, sensitive_val=feat_prot_vals,\n",
    "                          k=n, alpha=alpha, tau=tau)"
   ]
  },
  {
   "cell_type": "code",
   "execution_count": 32,
   "metadata": {},
   "outputs": [
    {
     "data": {
      "text/plain": [
       "34"
      ]
     },
     "execution_count": 32,
     "metadata": {},
     "output_type": "execute_result"
    }
   ],
   "source": [
    "w_res_df[(w_res_df['stST'] > tau)].shape[0]"
   ]
  },
  {
   "cell_type": "code",
   "execution_count": 33,
   "metadata": {},
   "outputs": [
    {
     "data": {
      "text/plain": [
       "38"
      ]
     },
     "execution_count": 33,
     "metadata": {},
     "output_type": "execute_result"
    }
   ],
   "source": [
    "# positive discrimination?\n",
    "w_res_df[(w_res_df['stST'] < tau)].shape[0]"
   ]
  },
  {
   "cell_type": "markdown",
   "metadata": {},
   "source": [
    "#### Counterfactual Situation Testing (cfST)"
   ]
  },
  {
   "cell_type": "code",
   "execution_count": 34,
   "metadata": {},
   "outputs": [],
   "source": [
    "test_df    = df.copy()\n",
    "test_cf_df = cf_df.copy()\n",
    "\n",
    "# don't include the centers\n",
    "cf_st = SituationTesting()\n",
    "cf_st.setup_baseline(test_df, test_cf_df, nominal_atts=['Race'], continuous_atts=['LSAT', 'UGPA'])\n",
    "\n",
    "w_res_df['cfST'] = cf_st.run(target_att=feat_trgt, target_val=feat_trgt_vals, \n",
    "                             sensitive_att=feat_prot, sensitive_val=feat_prot_vals,\n",
    "                             include_centers=False,\n",
    "                             k=n, alpha=alpha, tau=tau)"
   ]
  },
  {
   "cell_type": "code",
   "execution_count": 35,
   "metadata": {},
   "outputs": [
    {
     "data": {
      "text/plain": [
       "243"
      ]
     },
     "execution_count": 35,
     "metadata": {},
     "output_type": "execute_result"
    }
   ],
   "source": [
    "w_res_df[(w_res_df['cfST'] > tau)].shape[0]"
   ]
  },
  {
   "cell_type": "code",
   "execution_count": 36,
   "metadata": {},
   "outputs": [
    {
     "data": {
      "text/plain": [
       "0"
      ]
     },
     "execution_count": 36,
     "metadata": {},
     "output_type": "execute_result"
    }
   ],
   "source": [
    "# positive discrimination?\n",
    "w_res_df[(w_res_df['cfST'] < tau)].shape[0]"
   ]
  },
  {
   "cell_type": "markdown",
   "metadata": {},
   "source": [
    "#### Counterfactual Fairness"
   ]
  },
  {
   "cell_type": "code",
   "execution_count": 37,
   "metadata": {},
   "outputs": [],
   "source": [
    "w_res_df['CF'] = cf_st.res_counterfactual_unfairness"
   ]
  },
  {
   "cell_type": "code",
   "execution_count": 38,
   "metadata": {},
   "outputs": [
    {
     "data": {
      "text/plain": [
       "231"
      ]
     },
     "execution_count": 38,
     "metadata": {},
     "output_type": "execute_result"
    }
   ],
   "source": [
    "w_res_df[w_res_df['CF'] == 1].shape[0]"
   ]
  },
  {
   "cell_type": "code",
   "execution_count": 39,
   "metadata": {},
   "outputs": [
    {
     "data": {
      "text/plain": [
       "0"
      ]
     },
     "execution_count": 39,
     "metadata": {},
     "output_type": "execute_result"
    }
   ],
   "source": [
    "w_res_df[w_res_df['CF'] == 2].shape[0]"
   ]
  },
  {
   "cell_type": "markdown",
   "metadata": {},
   "source": [
    "#### cfST with centers"
   ]
  },
  {
   "cell_type": "code",
   "execution_count": 40,
   "metadata": {},
   "outputs": [],
   "source": [
    "test_df    = df.copy()\n",
    "test_cf_df = cf_df.copy()\n",
    "\n",
    "# include the centers\n",
    "wcf_st = SituationTesting()\n",
    "wcf_st.setup_baseline(test_df, test_cf_df, nominal_atts=['Race'], continuous_atts=['LSAT', 'UGPA'])\n",
    "\n",
    "w_res_df['cfST_w'] = wcf_st.run(target_att=feat_trgt, target_val=feat_trgt_vals, \n",
    "                                sensitive_att=feat_prot, sensitive_val=feat_prot_vals,\n",
    "                                include_centers=True,\n",
    "                                k=n, alpha=alpha, tau=tau)"
   ]
  },
  {
   "cell_type": "code",
   "execution_count": 41,
   "metadata": {},
   "outputs": [
    {
     "data": {
      "text/plain": [
       "284"
      ]
     },
     "execution_count": 41,
     "metadata": {},
     "output_type": "execute_result"
    }
   ],
   "source": [
    "w_res_df[(w_res_df['cfST_w'] > tau)].shape[0]"
   ]
  },
  {
   "cell_type": "code",
   "execution_count": 42,
   "metadata": {},
   "outputs": [
    {
     "data": {
      "text/plain": [
       "0"
      ]
     },
     "execution_count": 42,
     "metadata": {},
     "output_type": "execute_result"
    }
   ],
   "source": [
    "# positive discrimination?\n",
    "w_res_df[(w_res_df['cfST_w'] < tau)].shape[0]"
   ]
  },
  {
   "cell_type": "markdown",
   "metadata": {},
   "source": [
    "### Multiple discrimination: $|\\mathbf{A}|=2$"
   ]
  },
  {
   "cell_type": "code",
   "execution_count": 43,
   "metadata": {},
   "outputs": [
    {
     "data": {
      "text/plain": [
       "1833"
      ]
     },
     "execution_count": 43,
     "metadata": {},
     "output_type": "execute_result"
    }
   ],
   "source": [
    "df[(df['Gender'] == 'Female') & (df['Race'] == 'NonWhite')].shape[0]"
   ]
  },
  {
   "cell_type": "code",
   "execution_count": 44,
   "metadata": {},
   "outputs": [
    {
     "data": {
      "text/plain": [
       "6"
      ]
     },
     "execution_count": 44,
     "metadata": {},
     "output_type": "execute_result"
    }
   ],
   "source": [
    "# for stST\n",
    "pd.merge(left=m_res_df[m_res_df['stST'] > tau], right=w_res_df[w_res_df['stST'] > tau], \n",
    "         how='inner', \n",
    "         left_index=True, right_index=True).shape[0]"
   ]
  },
  {
   "cell_type": "code",
   "execution_count": 45,
   "metadata": {},
   "outputs": [
    {
     "data": {
      "text/plain": [
       "1"
      ]
     },
     "execution_count": 45,
     "metadata": {},
     "output_type": "execute_result"
    }
   ],
   "source": [
    "# for stST +\n",
    "pd.merge(left=m_res_df[m_res_df['stST'] < tau], right=w_res_df[w_res_df['stST'] < tau], \n",
    "         how='inner', \n",
    "         left_index=True, right_index=True).shape[0]"
   ]
  },
  {
   "cell_type": "code",
   "execution_count": 46,
   "metadata": {},
   "outputs": [
    {
     "data": {
      "text/plain": [
       "8"
      ]
     },
     "execution_count": 46,
     "metadata": {},
     "output_type": "execute_result"
    }
   ],
   "source": [
    "# for cfST\n",
    "pd.merge(left=m_res_df[m_res_df['cfST'] > tau], right=w_res_df[w_res_df['cfST'] > tau], \n",
    "         how='inner', \n",
    "         left_index=True, right_index=True).shape[0]"
   ]
  },
  {
   "cell_type": "code",
   "execution_count": 47,
   "metadata": {},
   "outputs": [
    {
     "data": {
      "text/plain": [
       "0"
      ]
     },
     "execution_count": 47,
     "metadata": {},
     "output_type": "execute_result"
    }
   ],
   "source": [
    "# for cfST +\n",
    "pd.merge(left=m_res_df[m_res_df['cfST'] < tau], right=w_res_df[w_res_df['cfST'] < tau], \n",
    "         how='inner', \n",
    "         left_index=True, right_index=True).shape[0]"
   ]
  },
  {
   "cell_type": "code",
   "execution_count": 48,
   "metadata": {},
   "outputs": [
    {
     "data": {
      "text/plain": [
       "9"
      ]
     },
     "execution_count": 48,
     "metadata": {},
     "output_type": "execute_result"
    }
   ],
   "source": [
    "# for stST_w\n",
    "pd.merge(left=m_res_df[m_res_df['cfST_w'] > tau], right=w_res_df[w_res_df['cfST_w'] > tau], \n",
    "         how='inner', \n",
    "         left_index=True, right_index=True).shape[0]"
   ]
  },
  {
   "cell_type": "code",
   "execution_count": 49,
   "metadata": {},
   "outputs": [
    {
     "data": {
      "text/plain": [
       "0"
      ]
     },
     "execution_count": 49,
     "metadata": {},
     "output_type": "execute_result"
    }
   ],
   "source": [
    "# for stST_w +\n",
    "pd.merge(left=m_res_df[m_res_df['cfST_w'] < tau], right=w_res_df[w_res_df['cfST_w'] < tau], \n",
    "         how='inner', \n",
    "         left_index=True, right_index=True).shape[0]"
   ]
  },
  {
   "cell_type": "code",
   "execution_count": 50,
   "metadata": {},
   "outputs": [
    {
     "data": {
      "text/plain": [
       "5"
      ]
     },
     "execution_count": 50,
     "metadata": {},
     "output_type": "execute_result"
    }
   ],
   "source": [
    "# for Counterfactual Fairness\n",
    "pd.merge(left=m_res_df[m_res_df['CF'] == 1], right=w_res_df[w_res_df['CF'] == 1], \n",
    "         how='inner', \n",
    "         left_index=True, right_index=True).shape[0]"
   ]
  },
  {
   "cell_type": "code",
   "execution_count": 51,
   "metadata": {},
   "outputs": [
    {
     "data": {
      "text/plain": [
       "0"
      ]
     },
     "execution_count": 51,
     "metadata": {},
     "output_type": "execute_result"
    }
   ],
   "source": [
    "# for Counterfactual Fairness w +\n",
    "pd.merge(left=m_res_df[m_res_df['CF'] == 2], right=w_res_df[w_res_df['CF'] == 2], \n",
    "         how='inner', \n",
    "         left_index=True, right_index=True).shape[0]"
   ]
  },
  {
   "cell_type": "markdown",
   "metadata": {},
   "source": [
    "### Intersectional Discrimination: $A_1 \\cap A_2$"
   ]
  },
  {
   "cell_type": "code",
   "execution_count": 52,
   "metadata": {},
   "outputs": [
    {
     "name": "stdout",
     "output_type": "stream",
     "text": [
      "(21790, 6)\n",
      "['female_nonwhite', 'GenderRace', 'resid_LSAT', 'resid_UGPA', 'scf_LSAT', 'scf_UGPA']\n"
     ]
    },
    {
     "data": {
      "text/html": [
       "<div>\n",
       "<style scoped>\n",
       "    .dataframe tbody tr th:only-of-type {\n",
       "        vertical-align: middle;\n",
       "    }\n",
       "\n",
       "    .dataframe tbody tr th {\n",
       "        vertical-align: top;\n",
       "    }\n",
       "\n",
       "    .dataframe thead th {\n",
       "        text-align: right;\n",
       "    }\n",
       "</style>\n",
       "<table border=\"1\" class=\"dataframe\">\n",
       "  <thead>\n",
       "    <tr style=\"text-align: right;\">\n",
       "      <th></th>\n",
       "      <th>female_nonwhite</th>\n",
       "      <th>GenderRace</th>\n",
       "      <th>resid_LSAT</th>\n",
       "      <th>resid_UGPA</th>\n",
       "      <th>scf_LSAT</th>\n",
       "      <th>scf_UGPA</th>\n",
       "    </tr>\n",
       "  </thead>\n",
       "  <tbody>\n",
       "    <tr>\n",
       "      <th>0</th>\n",
       "      <td>0</td>\n",
       "      <td>Female-White</td>\n",
       "      <td>1.810693</td>\n",
       "      <td>-0.138949</td>\n",
       "      <td>39.0</td>\n",
       "      <td>3.1</td>\n",
       "    </tr>\n",
       "    <tr>\n",
       "      <th>1</th>\n",
       "      <td>0</td>\n",
       "      <td>Female-White</td>\n",
       "      <td>-1.189307</td>\n",
       "      <td>-0.238949</td>\n",
       "      <td>36.0</td>\n",
       "      <td>3.0</td>\n",
       "    </tr>\n",
       "    <tr>\n",
       "      <th>2</th>\n",
       "      <td>0</td>\n",
       "      <td>Male-White</td>\n",
       "      <td>-7.189307</td>\n",
       "      <td>-0.138949</td>\n",
       "      <td>30.0</td>\n",
       "      <td>3.1</td>\n",
       "    </tr>\n",
       "    <tr>\n",
       "      <th>3</th>\n",
       "      <td>0</td>\n",
       "      <td>Male-NonWhite</td>\n",
       "      <td>1.810693</td>\n",
       "      <td>-1.038949</td>\n",
       "      <td>39.0</td>\n",
       "      <td>2.2</td>\n",
       "    </tr>\n",
       "    <tr>\n",
       "      <th>4</th>\n",
       "      <td>0</td>\n",
       "      <td>Female-White</td>\n",
       "      <td>-0.189307</td>\n",
       "      <td>0.161051</td>\n",
       "      <td>37.0</td>\n",
       "      <td>3.4</td>\n",
       "    </tr>\n",
       "  </tbody>\n",
       "</table>\n",
       "</div>"
      ],
      "text/plain": [
       "   female_nonwhite     GenderRace  resid_LSAT  resid_UGPA  scf_LSAT  scf_UGPA\n",
       "0                0   Female-White    1.810693   -0.138949      39.0       3.1\n",
       "1                0   Female-White   -1.189307   -0.238949      36.0       3.0\n",
       "2                0     Male-White   -7.189307   -0.138949      30.0       3.1\n",
       "3                0  Male-NonWhite    1.810693   -1.038949      39.0       2.2\n",
       "4                0   Female-White   -0.189307    0.161051      37.0       3.4"
      ]
     },
     "execution_count": 52,
     "metadata": {},
     "output_type": "execute_result"
    }
   ],
   "source": [
    "do = 'MaleWhite'\n",
    "org_cf_df = pd.read_csv(data_path + '\\\\counterfactuals\\\\' + f'cf_LawSchool_lev3_do{do}.csv', sep='|').reset_index(drop=True)\n",
    "print(org_cf_df.shape)\n",
    "print(org_cf_df.columns.to_list())\n",
    "org_cf_df.head(5)"
   ]
  },
  {
   "cell_type": "code",
   "execution_count": 53,
   "metadata": {},
   "outputs": [
    {
     "data": {
      "text/html": [
       "<div>\n",
       "<style scoped>\n",
       "    .dataframe tbody tr th:only-of-type {\n",
       "        vertical-align: middle;\n",
       "    }\n",
       "\n",
       "    .dataframe tbody tr th {\n",
       "        vertical-align: top;\n",
       "    }\n",
       "\n",
       "    .dataframe thead th {\n",
       "        text-align: right;\n",
       "    }\n",
       "</style>\n",
       "<table border=\"1\" class=\"dataframe\">\n",
       "  <thead>\n",
       "    <tr style=\"text-align: right;\">\n",
       "      <th></th>\n",
       "      <th>GenderRace</th>\n",
       "      <th>LSAT</th>\n",
       "      <th>UGPA</th>\n",
       "      <th>Score</th>\n",
       "      <th>Y</th>\n",
       "    </tr>\n",
       "  </thead>\n",
       "  <tbody>\n",
       "    <tr>\n",
       "      <th>0</th>\n",
       "      <td>Female-White</td>\n",
       "      <td>39.0</td>\n",
       "      <td>3.1</td>\n",
       "      <td>17.46</td>\n",
       "      <td>0</td>\n",
       "    </tr>\n",
       "    <tr>\n",
       "      <th>1</th>\n",
       "      <td>Female-White</td>\n",
       "      <td>36.0</td>\n",
       "      <td>3.0</td>\n",
       "      <td>16.20</td>\n",
       "      <td>0</td>\n",
       "    </tr>\n",
       "    <tr>\n",
       "      <th>2</th>\n",
       "      <td>Male-White</td>\n",
       "      <td>30.0</td>\n",
       "      <td>3.1</td>\n",
       "      <td>13.86</td>\n",
       "      <td>0</td>\n",
       "    </tr>\n",
       "    <tr>\n",
       "      <th>3</th>\n",
       "      <td>Male-NonWhite</td>\n",
       "      <td>39.0</td>\n",
       "      <td>2.2</td>\n",
       "      <td>16.92</td>\n",
       "      <td>0</td>\n",
       "    </tr>\n",
       "    <tr>\n",
       "      <th>4</th>\n",
       "      <td>Female-White</td>\n",
       "      <td>37.0</td>\n",
       "      <td>3.4</td>\n",
       "      <td>16.84</td>\n",
       "      <td>0</td>\n",
       "    </tr>\n",
       "  </tbody>\n",
       "</table>\n",
       "</div>"
      ],
      "text/plain": [
       "      GenderRace  LSAT  UGPA  Score  Y\n",
       "0   Female-White  39.0   3.1  17.46  0\n",
       "1   Female-White  36.0   3.0  16.20  0\n",
       "2     Male-White  30.0   3.1  13.86  0\n",
       "3  Male-NonWhite  39.0   2.2  16.92  0\n",
       "4   Female-White  37.0   3.4  16.84  0"
      ]
     },
     "execution_count": 53,
     "metadata": {},
     "output_type": "execute_result"
    }
   ],
   "source": [
    "cf_df = org_cf_df[['GenderRace', 'scf_LSAT', 'scf_UGPA']].copy()\n",
    "cf_df = cf_df.rename(columns={'scf_LSAT': 'LSAT', 'scf_UGPA': 'UGPA'})\n",
    "\n",
    "# add the decision maker\n",
    "cf_df['Score'] = b1*cf_df['UGPA'] + b2*cf_df['LSAT']\n",
    "cf_df['Y'] = np.where(cf_df['Score'] >= min_score, 1, 0)\n",
    "cf_df.head(5)"
   ]
  },
  {
   "cell_type": "code",
   "execution_count": 54,
   "metadata": {},
   "outputs": [
    {
     "data": {
      "text/html": [
       "<div>\n",
       "<style scoped>\n",
       "    .dataframe tbody tr th:only-of-type {\n",
       "        vertical-align: middle;\n",
       "    }\n",
       "\n",
       "    .dataframe tbody tr th {\n",
       "        vertical-align: top;\n",
       "    }\n",
       "\n",
       "    .dataframe thead th {\n",
       "        text-align: right;\n",
       "    }\n",
       "</style>\n",
       "<table border=\"1\" class=\"dataframe\">\n",
       "  <thead>\n",
       "    <tr style=\"text-align: right;\">\n",
       "      <th></th>\n",
       "      <th>Gender</th>\n",
       "      <th>Race</th>\n",
       "      <th>LSAT</th>\n",
       "      <th>UGPA</th>\n",
       "      <th>Score</th>\n",
       "      <th>Y</th>\n",
       "      <th>GenderRace</th>\n",
       "    </tr>\n",
       "  </thead>\n",
       "  <tbody>\n",
       "    <tr>\n",
       "      <th>0</th>\n",
       "      <td>Female</td>\n",
       "      <td>White</td>\n",
       "      <td>39.0</td>\n",
       "      <td>3.1</td>\n",
       "      <td>17.46</td>\n",
       "      <td>0</td>\n",
       "      <td>Female-White</td>\n",
       "    </tr>\n",
       "    <tr>\n",
       "      <th>1</th>\n",
       "      <td>Female</td>\n",
       "      <td>White</td>\n",
       "      <td>36.0</td>\n",
       "      <td>3.0</td>\n",
       "      <td>16.20</td>\n",
       "      <td>0</td>\n",
       "      <td>Female-White</td>\n",
       "    </tr>\n",
       "    <tr>\n",
       "      <th>2</th>\n",
       "      <td>Male</td>\n",
       "      <td>White</td>\n",
       "      <td>30.0</td>\n",
       "      <td>3.1</td>\n",
       "      <td>13.86</td>\n",
       "      <td>0</td>\n",
       "      <td>Male-White</td>\n",
       "    </tr>\n",
       "    <tr>\n",
       "      <th>3</th>\n",
       "      <td>Male</td>\n",
       "      <td>NonWhite</td>\n",
       "      <td>39.0</td>\n",
       "      <td>2.2</td>\n",
       "      <td>16.92</td>\n",
       "      <td>0</td>\n",
       "      <td>Male-NonWhite</td>\n",
       "    </tr>\n",
       "    <tr>\n",
       "      <th>4</th>\n",
       "      <td>Female</td>\n",
       "      <td>White</td>\n",
       "      <td>37.0</td>\n",
       "      <td>3.4</td>\n",
       "      <td>16.84</td>\n",
       "      <td>0</td>\n",
       "      <td>Female-White</td>\n",
       "    </tr>\n",
       "  </tbody>\n",
       "</table>\n",
       "</div>"
      ],
      "text/plain": [
       "   Gender      Race  LSAT  UGPA  Score  Y     GenderRace\n",
       "0  Female     White  39.0   3.1  17.46  0   Female-White\n",
       "1  Female     White  36.0   3.0  16.20  0   Female-White\n",
       "2    Male     White  30.0   3.1  13.86  0     Male-White\n",
       "3    Male  NonWhite  39.0   2.2  16.92  0  Male-NonWhite\n",
       "4  Female     White  37.0   3.4  16.84  0   Female-White"
      ]
     },
     "execution_count": 54,
     "metadata": {},
     "output_type": "execute_result"
    }
   ],
   "source": [
    "# add the intersectional var to df\n",
    "df.head()\n",
    "df['GenderRace'] =  df['Gender'] + '-' + df['Race']\n",
    "df.head(5)"
   ]
  },
  {
   "cell_type": "code",
   "execution_count": 55,
   "metadata": {},
   "outputs": [],
   "source": [
    "# df.groupby(['Y', 'GenderRace']).count()\n",
    "# cf_df.groupby(['Y', 'GenderRace']).count()"
   ]
  },
  {
   "cell_type": "code",
   "execution_count": 56,
   "metadata": {},
   "outputs": [
    {
     "data": {
      "text/html": [
       "<div>\n",
       "<style scoped>\n",
       "    .dataframe tbody tr th:only-of-type {\n",
       "        vertical-align: middle;\n",
       "    }\n",
       "\n",
       "    .dataframe tbody tr th {\n",
       "        vertical-align: top;\n",
       "    }\n",
       "\n",
       "    .dataframe thead th {\n",
       "        text-align: right;\n",
       "    }\n",
       "</style>\n",
       "<table border=\"1\" class=\"dataframe\">\n",
       "  <thead>\n",
       "    <tr style=\"text-align: right;\">\n",
       "      <th></th>\n",
       "      <th>Gender</th>\n",
       "      <th>Race</th>\n",
       "      <th>Y</th>\n",
       "      <th>cf_Y</th>\n",
       "    </tr>\n",
       "  </thead>\n",
       "  <tbody>\n",
       "    <tr>\n",
       "      <th>0</th>\n",
       "      <td>Female</td>\n",
       "      <td>White</td>\n",
       "      <td>0</td>\n",
       "      <td>0</td>\n",
       "    </tr>\n",
       "    <tr>\n",
       "      <th>1</th>\n",
       "      <td>Female</td>\n",
       "      <td>White</td>\n",
       "      <td>0</td>\n",
       "      <td>0</td>\n",
       "    </tr>\n",
       "    <tr>\n",
       "      <th>2</th>\n",
       "      <td>Male</td>\n",
       "      <td>White</td>\n",
       "      <td>0</td>\n",
       "      <td>0</td>\n",
       "    </tr>\n",
       "    <tr>\n",
       "      <th>3</th>\n",
       "      <td>Male</td>\n",
       "      <td>NonWhite</td>\n",
       "      <td>0</td>\n",
       "      <td>0</td>\n",
       "    </tr>\n",
       "    <tr>\n",
       "      <th>4</th>\n",
       "      <td>Female</td>\n",
       "      <td>White</td>\n",
       "      <td>0</td>\n",
       "      <td>0</td>\n",
       "    </tr>\n",
       "  </tbody>\n",
       "</table>\n",
       "</div>"
      ],
      "text/plain": [
       "   Gender      Race  Y  cf_Y\n",
       "0  Female     White  0     0\n",
       "1  Female     White  0     0\n",
       "2    Male     White  0     0\n",
       "3    Male  NonWhite  0     0\n",
       "4  Female     White  0     0"
      ]
     },
     "execution_count": 56,
     "metadata": {},
     "output_type": "execute_result"
    }
   ],
   "source": [
    "# store do:=White results\n",
    "int_res_df = df[['Gender', 'Race', 'Y']].copy()\n",
    "int_res_df['cf_Y'] = cf_df[['Y']].copy()\n",
    "int_res_df.head(5)"
   ]
  },
  {
   "cell_type": "code",
   "execution_count": 57,
   "metadata": {},
   "outputs": [],
   "source": [
    "# attribute-specific params\n",
    "feat_trgt = 'Y'\n",
    "feat_trgt_vals = {'positive': 1, 'negative': 0}\n",
    "# list of relevant features\n",
    "feat_rlvt = ['LSAT', 'UGPA']\n",
    "# protected feature\n",
    "feat_prot = 'GenderRace'\n",
    "# values for the protected feature: use 'non_protected' and 'protected' accordingly\n",
    "feat_prot_vals = {'non_protected': ['Female-White', 'Male-NonWhite', 'Male-NonWhite', 'Male-White'], \n",
    "                  'protected': 'Female-NonWhite'\n",
    "                 }\n",
    "\n",
    "# st-specific params\n",
    "# size of neiuborhoods\n",
    "n = 15\n",
    "# significance level\n",
    "alpha = 0.05\n",
    "# tau diviation\n",
    "tau = 0.0"
   ]
  },
  {
   "cell_type": "markdown",
   "metadata": {},
   "source": [
    "#### Standard ST (stST)"
   ]
  },
  {
   "cell_type": "code",
   "execution_count": 58,
   "metadata": {},
   "outputs": [],
   "source": [
    "test_df = df.copy()\n",
    "\n",
    "st = SituationTesting()\n",
    "st.setup_baseline(test_df, nominal_atts=['GenderRace'], continuous_atts=['LSAT', 'UGPA'])\n",
    "\n",
    "int_res_df['stST'] = st.run(target_att=feat_trgt, target_val=feat_trgt_vals,\n",
    "                            sensitive_att=feat_prot, sensitive_val=feat_prot_vals,\n",
    "                            k=n, alpha=alpha, tau=tau)"
   ]
  },
  {
   "cell_type": "code",
   "execution_count": 59,
   "metadata": {},
   "outputs": [
    {
     "data": {
      "text/plain": [
       "14"
      ]
     },
     "execution_count": 59,
     "metadata": {},
     "output_type": "execute_result"
    }
   ],
   "source": [
    "int_res_df[(int_res_df['stST'] > tau)].shape[0]"
   ]
  },
  {
   "cell_type": "code",
   "execution_count": 60,
   "metadata": {},
   "outputs": [
    {
     "data": {
      "text/plain": [
       "25"
      ]
     },
     "execution_count": 60,
     "metadata": {},
     "output_type": "execute_result"
    }
   ],
   "source": [
    "# positive discrimination?\n",
    "int_res_df[(int_res_df['stST'] < tau)].shape[0]"
   ]
  },
  {
   "cell_type": "markdown",
   "metadata": {},
   "source": [
    "#### Counterfactual Situation Testing (cfST)"
   ]
  },
  {
   "cell_type": "code",
   "execution_count": 61,
   "metadata": {},
   "outputs": [],
   "source": [
    "test_df    = df.copy()\n",
    "test_cf_df = cf_df.copy()\n",
    "\n",
    "# don't include the centers\n",
    "cf_st = SituationTesting()\n",
    "cf_st.setup_baseline(test_df, test_cf_df, nominal_atts=['Race'], continuous_atts=['LSAT', 'UGPA'])\n",
    "\n",
    "int_res_df['cfST'] = cf_st.run(target_att=feat_trgt, target_val=feat_trgt_vals, \n",
    "                               sensitive_att=feat_prot, sensitive_val=feat_prot_vals,\n",
    "                               include_centers=False,\n",
    "                               k=n, alpha=alpha, tau=tau)"
   ]
  },
  {
   "cell_type": "code",
   "execution_count": 62,
   "metadata": {},
   "outputs": [
    {
     "data": {
      "text/plain": [
       "130"
      ]
     },
     "execution_count": 62,
     "metadata": {},
     "output_type": "execute_result"
    }
   ],
   "source": [
    "int_res_df[(int_res_df['cfST'] > tau)].shape[0]"
   ]
  },
  {
   "cell_type": "code",
   "execution_count": 63,
   "metadata": {},
   "outputs": [
    {
     "data": {
      "text/plain": [
       "0"
      ]
     },
     "execution_count": 63,
     "metadata": {},
     "output_type": "execute_result"
    }
   ],
   "source": [
    "# positive discrimination?\n",
    "int_res_df[(int_res_df['cfST'] < tau)].shape[0]"
   ]
  },
  {
   "cell_type": "markdown",
   "metadata": {},
   "source": [
    "#### Counterfactual Fairness"
   ]
  },
  {
   "cell_type": "code",
   "execution_count": 64,
   "metadata": {},
   "outputs": [],
   "source": [
    "int_res_df['CF'] = cf_st.res_counterfactual_unfairness"
   ]
  },
  {
   "cell_type": "code",
   "execution_count": 65,
   "metadata": {},
   "outputs": [
    {
     "data": {
      "text/plain": [
       "113"
      ]
     },
     "execution_count": 65,
     "metadata": {},
     "output_type": "execute_result"
    }
   ],
   "source": [
    "int_res_df[int_res_df['CF'] == 1].shape[0]"
   ]
  },
  {
   "cell_type": "code",
   "execution_count": 66,
   "metadata": {},
   "outputs": [
    {
     "data": {
      "text/plain": [
       "0"
      ]
     },
     "execution_count": 66,
     "metadata": {},
     "output_type": "execute_result"
    }
   ],
   "source": [
    "int_res_df[int_res_df['CF'] == 2].shape[0]"
   ]
  },
  {
   "cell_type": "markdown",
   "metadata": {},
   "source": [
    "#### cfST with centers"
   ]
  },
  {
   "cell_type": "code",
   "execution_count": 67,
   "metadata": {},
   "outputs": [],
   "source": [
    "test_df    = df.copy()\n",
    "test_cf_df = cf_df.copy()\n",
    "\n",
    "# include the centers\n",
    "wcf_st = SituationTesting()\n",
    "wcf_st.setup_baseline(test_df, test_cf_df, nominal_atts=['Race'], continuous_atts=['LSAT', 'UGPA'])\n",
    "\n",
    "int_res_df['cfST_w'] = wcf_st.run(target_att=feat_trgt, target_val=feat_trgt_vals, \n",
    "                                  sensitive_att=feat_prot, sensitive_val=feat_prot_vals,\n",
    "                                  include_centers=True,\n",
    "                                  k=n, alpha=alpha, tau=tau)"
   ]
  },
  {
   "cell_type": "code",
   "execution_count": 68,
   "metadata": {},
   "outputs": [
    {
     "data": {
      "text/plain": [
       "130"
      ]
     },
     "execution_count": 68,
     "metadata": {},
     "output_type": "execute_result"
    }
   ],
   "source": [
    "int_res_df[(int_res_df['cfST_w'] > tau)].shape[0]"
   ]
  },
  {
   "cell_type": "code",
   "execution_count": 69,
   "metadata": {},
   "outputs": [
    {
     "data": {
      "text/plain": [
       "0"
      ]
     },
     "execution_count": 69,
     "metadata": {},
     "output_type": "execute_result"
    }
   ],
   "source": [
    "# positive discrimination?\n",
    "int_res_df[(int_res_df['cfST_w'] < tau)].shape[0]"
   ]
  },
  {
   "cell_type": "code",
   "execution_count": null,
   "metadata": {},
   "outputs": [],
   "source": []
  }
 ],
 "metadata": {
  "kernelspec": {
   "display_name": "Python 3",
   "language": "python",
   "name": "python3"
  },
  "language_info": {
   "codemirror_mode": {
    "name": "ipython",
    "version": 3
   },
   "file_extension": ".py",
   "mimetype": "text/x-python",
   "name": "python",
   "nbconvert_exporter": "python",
   "pygments_lexer": "ipython3",
   "version": "3.8.5"
  }
 },
 "nbformat": 4,
 "nbformat_minor": 4
}
