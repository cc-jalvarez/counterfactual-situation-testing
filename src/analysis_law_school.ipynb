{
 "cells": [
  {
   "cell_type": "markdown",
   "metadata": {},
   "source": [
    "# Analysis for Section 5.3"
   ]
  },
  {
   "cell_type": "code",
   "execution_count": 1,
   "metadata": {},
   "outputs": [],
   "source": [
    "%load_ext autoreload\n",
    "%autoreload 2\n",
    "import os\n",
    "import sys\n",
    "import random\n",
    "import pandas as pd\n",
    "import numpy as np\n",
    "import seaborn as sns\n",
    "import matplotlib.pyplot as plt\n",
    "# src files\n",
    "from situation_testing.situation_testing import SituationTesting\n",
    "# plot params\n",
    "plt.style.use('seaborn-whitegrid')\n",
    "plt.rc('font', size=11)\n",
    "plt.rc('legend', fontsize=11)\n",
    "plt.rc('lines', linewidth=2)\n",
    "plt.rc('axes', linewidth=2)\n",
    "plt.rc('axes', edgecolor='k')\n",
    "plt.rc('xtick.major', width=2)\n",
    "plt.rc('xtick.major', size=6)\n",
    "plt.rc('ytick.major', width=2)\n",
    "plt.rc('ytick.major', size=6)\n",
    "plt.rc('pdf', fonttype=42)\n",
    "plt.rc('ps', fonttype=42)"
   ]
  },
  {
   "cell_type": "code",
   "execution_count": 2,
   "metadata": {},
   "outputs": [],
   "source": [
    "# working directory and relevant folders\n",
    "wd = os.path.dirname(os.getcwd())\n",
    "data_path = os.path.abspath(os.path.join(wd, 'data')) + '\\\\'\n",
    "resu_path = os.path.abspath(os.path.join(wd, 'results')) + '\\\\'\n",
    "figu_path = resu_path + 'figures' + '\\\\'"
   ]
  },
  {
   "cell_type": "markdown",
   "metadata": {},
   "source": [
    "## Plots for k-analysis"
   ]
  },
  {
   "cell_type": "code",
   "execution_count": 3,
   "metadata": {},
   "outputs": [],
   "source": [
    "# Gender (G)\n",
    "g_k_results = pd.read_csv(resu_path + 'res_LawSchool_Male_abs.csv', sep='|')\n",
    "# Race (R)\n",
    "r_k_results = pd.read_csv(resu_path + 'res_LawSchool_White_abs.csv', sep='|')\n",
    "# Multiple\n",
    "multi_k_results = pd.read_csv(resu_path + 'res_LawSchool_Multiple_abs.csv', sep='|')\n",
    "# Intersectional\n",
    "inter_k_results = pd.read_csv(resu_path + 'res_LawSchool_MaleWhite_abs.csv', sep='|')"
   ]
  },
  {
   "cell_type": "code",
   "execution_count": 4,
   "metadata": {},
   "outputs": [],
   "source": [
    "# For some methods, we find 0 cases at k=1, elading to NaNs in the significants measures | TODO: update code\n",
    "g_k_results.fillna(0, inplace=True)\n",
    "r_k_results.fillna(0, inplace=True)\n",
    "multi_k_results.fillna(0, inplace=True)\n",
    "inter_k_results.fillna(0, inplace=True)"
   ]
  },
  {
   "cell_type": "code",
   "execution_count": 5,
   "metadata": {},
   "outputs": [
    {
     "data": {
      "text/plain": [
       "[1, 50, 100, 150, 200, 250, 300, 350, 400, 450, 500]"
      ]
     },
     "execution_count": 5,
     "metadata": {},
     "output_type": "execute_result"
    }
   ],
   "source": [
    "# these results go from 1 to 500\n",
    "K_l = 1\n",
    "k_u = 500\n",
    "x_axis = list(range(50, k_u + 1, 50))\n",
    "x_axis.append(1)\n",
    "x_axis = sorted(x_axis)\n",
    "x_axis"
   ]
  },
  {
   "cell_type": "markdown",
   "metadata": {},
   "source": [
    "### Single discrimination based w.r.t. G: CST w/o and ST"
   ]
  },
  {
   "cell_type": "code",
   "execution_count": null,
   "metadata": {},
   "outputs": [],
   "source": [
    "# plt.plot(g_k_results['k'], g_k_results['CSTwo_delta'], label='CST w/o')\n",
    "# plt.plot(g_k_results['k'], g_k_results['ST_delta'], label='ST')\n",
    "# plt.plot(g_k_results['k'], g_k_results['CSTwo_delta_sig'], label='CST w/o (sig.)')\n",
    "# plt.plot(g_k_results['k'], g_k_results['ST_delta_sig'], label='ST (sig.)')\n",
    "# plt.xlim(K_l, k_u)\n",
    "# plt.xticks(x_axis)\n",
    "# plt.xlabel(\"$k$\")\n",
    "# plt.ylim(0.0, 1.05)\n",
    "# plt.ylabel(\"Avg. $\\Delta p$ for discrimination cases w.r.t. $G$\")\n",
    "# plt.axvline(x=250, linestyle='--', color='black', label='$k=250$')\n",
    "# plt.legend()\n",
    "# # plt.title('CST w/o vs ST')\n",
    "# plt.savefig(os.path.join(figu_path, 'G_CSTwoVsST_delta_versus_k.png'), dpi=300, bbox_inches='tight')\n",
    "# plt.show()"
   ]
  },
  {
   "cell_type": "code",
   "execution_count": null,
   "metadata": {},
   "outputs": [],
   "source": [
    "# plt.plot(g_k_results['k'], g_k_results['CSTwo'], label='CST w/o')\n",
    "# plt.plot(g_k_results['k'], g_k_results['ST'], label='ST')\n",
    "# plt.plot(g_k_results['k'], g_k_results['CSTwo_sig'], label='CST w/o (sig.)')\n",
    "# plt.plot(g_k_results['k'], g_k_results['ST_sig'], label='ST (sig.)')\n",
    "# plt.xlim(K_l, k_u)\n",
    "# plt.xticks(x_axis)\n",
    "# plt.ylim(0, g_k_results.iloc[-1].max() + 15)\n",
    "# # plt.ylim(k_results.iloc[0].min() - 5, k_results.iloc[-1].max() + 5)\n",
    "# plt.axvline(x=250, linestyle='--', color='black', label='$k=250$')\n",
    "# plt.ylabel(\"Num. of discrimination cases w.r.t. $G$\")\n",
    "# plt.legend()\n",
    "# # plt.title('CST w/o vs ST')\n",
    "# plt.savefig(os.path.join(figu_path, 'G_CSTwoVsST_nums_versus_k.png'), dpi=300, bbox_inches='tight')\n",
    "# plt.show()"
   ]
  },
  {
   "cell_type": "markdown",
   "metadata": {},
   "source": [
    "### Single discrimination w.r.t. R: CST w/o and ST"
   ]
  },
  {
   "cell_type": "code",
   "execution_count": null,
   "metadata": {},
   "outputs": [],
   "source": [
    "# plt.plot(r_k_results['k'], r_k_results['CSTwo_delta'], label='CST w/o')\n",
    "# plt.plot(r_k_results['k'], r_k_results['ST_delta'], label='ST')\n",
    "# plt.plot(r_k_results['k'], r_k_results['CSTwo_delta_sig'], label='CST w/o (sig.)')\n",
    "# plt.plot(r_k_results['k'], r_k_results['ST_delta_sig'], label='ST (sig.)')\n",
    "# plt.xlim(K_l, k_u)\n",
    "# plt.xticks(x_axis)\n",
    "# plt.xlabel(\"$k$\")\n",
    "# plt.ylim(0.0, 1.05)\n",
    "# plt.ylabel(\"Avg. $\\Delta p$ for discrimination cases w.r.t. $R$\")\n",
    "# plt.axvline(x=250, linestyle='--', color='black', label='$k=250$')\n",
    "# plt.legend()\n",
    "# # plt.title('CST w/o vs ST')\n",
    "# plt.savefig(os.path.join(figu_path, 'R_CSTwoVsST_delta_versus_k.png'), dpi=300, bbox_inches='tight')\n",
    "# plt.show()"
   ]
  },
  {
   "cell_type": "code",
   "execution_count": null,
   "metadata": {},
   "outputs": [],
   "source": [
    "# plt.plot(r_k_results['k'], r_k_results['CSTwo'], label='CST w/o')\n",
    "# plt.plot(r_k_results['k'], r_k_results['ST'], label='ST')\n",
    "# plt.plot(r_k_results['k'], r_k_results['CSTwo_sig'], label='CST w/o (sig.)')\n",
    "# plt.plot(r_k_results['k'], r_k_results['ST_sig'], label='ST (sig.)')\n",
    "# plt.xlim(K_l, k_u)\n",
    "# plt.xticks(x_axis)\n",
    "# plt.xlabel(\"$k$\")\n",
    "# plt.ylim(0, r_k_results.iloc[-1].max() + 15)\n",
    "# # plt.ylim(k_results.iloc[0].min() - 5, k_results.iloc[-1].max() + 5)\n",
    "# plt.axvline(x=250, linestyle='--', color='black', label='$k=250$')\n",
    "# plt.ylabel(\"Num. of discrimination cases w.r.t. $R$\")\n",
    "# plt.legend()\n",
    "# # plt.title('CST w/o vs ST')\n",
    "# plt.savefig(os.path.join(figu_path, 'R_CSTwoVsST_nums_versus_k.png'), dpi=300, bbox_inches='tight')\n",
    "# plt.show()"
   ]
  },
  {
   "cell_type": "markdown",
   "metadata": {},
   "source": [
    "### Single discrimination based w.r.t. G: CST w/ and CF"
   ]
  },
  {
   "cell_type": "code",
   "execution_count": null,
   "metadata": {},
   "outputs": [],
   "source": [
    "# plt.plot(g_k_results['k'], g_k_results['CSTwi'], label='CST w/')\n",
    "# plt.plot(g_k_results['k'], g_k_results['CF'], label='CF')\n",
    "# plt.plot(g_k_results['k'], g_k_results['CSTwi_sig'], label='CST w/ (sig.)')\n",
    "# plt.plot(g_k_results['k'], g_k_results['CF_sig'], label='CF (sig.)')\n",
    "# plt.xlim(K_l, k_u)\n",
    "# plt.xticks(x_axis)\n",
    "# plt.xlabel(\"$k$\")\n",
    "# plt.ylim(0, g_k_results.iloc[-1].max() + 15)\n",
    "# # plt.ylim(k_results.iloc[0].min() - 5, k_results.iloc[-1].max() + 5)\n",
    "# plt.ylabel(\"Num. of discrimination cases w.r.t. $G$\")\n",
    "# plt.axvline(x=250, linestyle='--', color='black', label='$k=250$')\n",
    "# plt.legend()\n",
    "# # plt.title('CST w/ vs CF')\n",
    "# plt.savefig(os.path.join(figu_path, 'G_CSTwiVsCF_nums_versus_k.png'), dpi=300, bbox_inches='tight')\n",
    "# plt.show()"
   ]
  },
  {
   "cell_type": "markdown",
   "metadata": {},
   "source": [
    "### Single discrimination based w.r.t. R: CST w/ and CF"
   ]
  },
  {
   "cell_type": "code",
   "execution_count": null,
   "metadata": {},
   "outputs": [],
   "source": [
    "# plt.plot(r_k_results['k'], r_k_results['CSTwi'], label='CST w/')\n",
    "# plt.plot(r_k_results['k'], r_k_results['CF'], label='CF')\n",
    "# plt.plot(r_k_results['k'], r_k_results['CSTwi_sig'], label='CST w/ (sig.)')\n",
    "# plt.plot(r_k_results['k'], r_k_results['CF_sig'], label='CF (sig.)')\n",
    "# plt.xlim(K_l, k_u)\n",
    "# plt.xticks(x_axis)\n",
    "# plt.xlabel(\"$k$\")\n",
    "# plt.ylim(0, r_k_results.iloc[-1].max() + 15)\n",
    "# # plt.ylim(k_results.iloc[0].min() - 5, k_results.iloc[-1].max() + 5)\n",
    "# plt.ylabel(\"Num. of discrimination cases w.r.t. $R$\")\n",
    "# plt.axvline(x=250, linestyle='--', color='black', label='$k=250$')\n",
    "# plt.legend()\n",
    "# # plt.title('CST w/ vs CF')\n",
    "# plt.savefig(os.path.join(figu_path, 'R_CSTwiVsCF_nums_versus_k.png'), dpi=300, bbox_inches='tight')\n",
    "# plt.show()"
   ]
  },
  {
   "cell_type": "markdown",
   "metadata": {},
   "source": [
    "### Single discrimination based w.r.t. G: CST w/o and CST w/"
   ]
  },
  {
   "cell_type": "code",
   "execution_count": null,
   "metadata": {},
   "outputs": [],
   "source": [
    "# plt.plot(g_k_results['k'], g_k_results['CSTwo_delta'], label='CST w/o')\n",
    "# plt.plot(g_k_results['k'], g_k_results['CSTwi_delta'], label='CST w/')\n",
    "# plt.plot(g_k_results['k'], g_k_results['CSTwo_delta_sig'], label='CST w/o (sig.)')\n",
    "# plt.plot(g_k_results['k'], g_k_results['CSTwi_delta_sig'], label='CST w/ (sig.)')\n",
    "# plt.xlim(K_l, k_u)\n",
    "# plt.xticks(x_axis)\n",
    "# plt.xlabel(\"$k$\")\n",
    "# plt.ylim(0.0, 1.05)\n",
    "# plt.ylabel(\"Avg. $\\Delta p$ for discrimination cases w.r.t. $G$\")\n",
    "# plt.axvline(x=250, linestyle='--', color='black', label='$k=250$')\n",
    "# plt.legend()\n",
    "# # plt.title('CST w/o vs CST w/')\n",
    "# plt.savefig(os.path.join(figu_path, 'G_TwoCST_delta_versus_k.png'), dpi=300, bbox_inches='tight')\n",
    "# plt.show()"
   ]
  },
  {
   "cell_type": "code",
   "execution_count": null,
   "metadata": {},
   "outputs": [],
   "source": [
    "# plt.plot(g_k_results['k'], g_k_results['CSTwo'], label='CST w/o')\n",
    "# plt.plot(g_k_results['k'], g_k_results['CSTwi'], label='CST w/')\n",
    "# plt.plot(g_k_results['k'], g_k_results['CSTwo_sig'], label='CST w/o (sig.)')\n",
    "# plt.plot(g_k_results['k'], g_k_results['CSTwi_sig'], label='CST w/ (sig.)')\n",
    "# plt.xlim(K_l, k_u)\n",
    "# plt.xticks(x_axis)\n",
    "# plt.xlabel(\"$k$\")\n",
    "# plt.ylim(0, g_k_results.iloc[-1].max() + 15)\n",
    "# # plt.ylim(k_results.iloc[0].min() - 5, k_results.iloc[-1].max() + 5)\n",
    "# plt.ylabel(\"Num. of discrimination cases w.r.t. $G$\")\n",
    "# plt.axvline(x=250, linestyle='--', color='black', label='$k=250$')\n",
    "# plt.legend()\n",
    "# # plt.title('CST w/o vs CST w/')\n",
    "# plt.savefig(os.path.join(figu_path, 'G_TwoCST_nums_versus_k.png'), dpi=300, bbox_inches='tight')\n",
    "# plt.show()"
   ]
  },
  {
   "cell_type": "markdown",
   "metadata": {},
   "source": [
    "### Single discrimination based w.r.t. R: CST w/o and CST w/"
   ]
  },
  {
   "cell_type": "code",
   "execution_count": null,
   "metadata": {},
   "outputs": [],
   "source": [
    "# plt.plot(r_k_results['k'], r_k_results['CSTwo_delta'], label='CST w/o')\n",
    "# plt.plot(r_k_results['k'], r_k_results['CSTwi_delta'], label='CST w/')\n",
    "# plt.plot(r_k_results['k'], r_k_results['CSTwo_delta_sig'], label='CST w/o (sig.)')\n",
    "# plt.plot(r_k_results['k'], r_k_results['CSTwi_delta_sig'], label='CST w/ (sig.)')\n",
    "# plt.xlim(K_l, k_u)\n",
    "# plt.xticks(x_axis)\n",
    "# plt.xlabel(\"$k$\")\n",
    "# plt.ylim(0.0, 1.05)\n",
    "# plt.ylabel(\"Avg. $\\Delta p$ for discrimination cases w.r.t. $R$\")\n",
    "# plt.axvline(x=250, linestyle='--', color='black', label='$k=250$')\n",
    "# plt.legend()\n",
    "# # plt.title('CST w/o vs CST w/')\n",
    "# plt.savefig(os.path.join(figu_path, 'R_TwoCST_delta_versus_k.png'), dpi=300, bbox_inches='tight')\n",
    "# plt.show()"
   ]
  },
  {
   "cell_type": "code",
   "execution_count": null,
   "metadata": {},
   "outputs": [],
   "source": [
    "# plt.plot(r_k_results['k'], r_k_results['CSTwo'], label='CST w/o')\n",
    "# plt.plot(r_k_results['k'], r_k_results['CSTwi'], label='CST w/')\n",
    "# plt.plot(r_k_results['k'], r_k_results['CSTwo_sig'], label='CST w/o (sig.)')\n",
    "# plt.plot(r_k_results['k'], r_k_results['CSTwi_sig'], label='CST w/ (sig.)')\n",
    "# plt.xlim(K_l, k_u)\n",
    "# plt.xticks(x_axis)\n",
    "# plt.xlabel(\"$k$\")\n",
    "# plt.ylim(0, g_k_results.iloc[-1].max() + 15)\n",
    "# # plt.ylim(k_results.iloc[0].min() - 5, k_results.iloc[-1].max() + 5)\n",
    "# plt.ylabel(\"Num. of discrimination cases w.r.t. $R$\")\n",
    "# plt.axvline(x=250, linestyle='--', color='black', label='$k=250$')\n",
    "# plt.legend()\n",
    "# # plt.title('CST w/o vs CST w/')\n",
    "# plt.savefig(os.path.join(figu_path, 'R_TwoCST_nums_versus_k.png'), dpi=300, bbox_inches='tight')\n",
    "# plt.show()"
   ]
  },
  {
   "cell_type": "markdown",
   "metadata": {},
   "source": [
    "### Single discrimiantion: all together"
   ]
  },
  {
   "cell_type": "code",
   "execution_count": 6,
   "metadata": {},
   "outputs": [
    {
     "data": {
      "image/png": "[encoded data removed]",
      "text/plain": [
       "<Figure size 432x288 with 1 Axes>"
      ]
     },
     "metadata": {},
     "output_type": "display_data"
    }
   ],
   "source": [
    "plt.plot(g_k_results['k'], g_k_results['CSTwo_delta'], label='CST w/o')\n",
    "plt.plot(g_k_results['k'], g_k_results['CSTwo_delta_sig'], label='CST w/o (sig.)')\n",
    "plt.plot(g_k_results['k'], g_k_results['CSTwi_delta'], label='CST w/')\n",
    "plt.plot(g_k_results['k'], g_k_results['CSTwi_delta_sig'], label='CST w/ (sig.)')\n",
    "plt.plot(g_k_results['k'], g_k_results['ST_delta'], label='ST')\n",
    "plt.plot(g_k_results['k'], g_k_results['ST_delta_sig'], label='ST (sig.)')\n",
    "plt.xlim(K_l, k_u)\n",
    "plt.xticks(x_axis)\n",
    "plt.xlabel(\"$k$\")\n",
    "plt.ylim(0.0, 1.0)\n",
    "plt.ylabel(\"Avg. $\\Delta p$ for discrimination cases w.r.t. $G$\")\n",
    "plt.axvline(x=250, linestyle='--', color='black') #, label='$k=250$')\n",
    "plt.legend(loc='upper right', ncol=1, fancybox=True)\n",
    "plt.savefig(os.path.join(figu_path, 'G_all_delta_versus_k.png'), dpi=300, bbox_inches='tight')\n",
    "plt.show()"
   ]
  },
  {
   "cell_type": "code",
   "execution_count": 7,
   "metadata": {},
   "outputs": [
    {
     "data": {
      "image/png": "[encoded data removed]",
      "text/plain": [
       "<Figure size 432x288 with 1 Axes>"
      ]
     },
     "metadata": {},
     "output_type": "display_data"
    }
   ],
   "source": [
    "plt.plot(g_k_results['k'], g_k_results['CSTwo'], label='CST w/o')\n",
    "plt.plot(g_k_results['k'], g_k_results['CSTwo_sig'], label='CST w/o (sig.)')\n",
    "plt.plot(g_k_results['k'], g_k_results['CSTwi'], label='CST w/')\n",
    "plt.plot(g_k_results['k'], g_k_results['CSTwi_sig'], label='CST w/ (sig.)')\n",
    "plt.plot(g_k_results['k'], g_k_results['ST'], label='ST')\n",
    "plt.plot(g_k_results['k'], g_k_results['ST_sig'], label='ST (sig.)')\n",
    "plt.plot(g_k_results['k'], g_k_results['CF'], label='CF')\n",
    "plt.plot(g_k_results['k'], g_k_results['CF_sig'], label='CF (sig.)')\n",
    "plt.xlim(K_l, k_u)\n",
    "plt.xticks(x_axis)\n",
    "plt.ylim(0, 850) #g_k_results.iloc[-1].max() + 15)\n",
    "# plt.ylim(k_results.iloc[0].min() - 5, k_results.iloc[-1].max() + 5)\n",
    "plt.axvline(x=250, linestyle='--', color='black') #, label='$k=250$')\n",
    "plt.ylabel(\"Num. of discrimination cases w.r.t. $G$\")\n",
    "plt.legend(loc='upper center', ncol=2, fancybox=True)\n",
    "# plt.title('CST w/o vs ST')\n",
    "plt.savefig(os.path.join(figu_path, 'G_all_nums_versus_k.png'), dpi=300, bbox_inches='tight')\n",
    "plt.show()"
   ]
  },
  {
   "cell_type": "code",
   "execution_count": 8,
   "metadata": {},
   "outputs": [
    {
     "data": {
      "image/png": "[encoded data removed]",
      "text/plain": [
       "<Figure size 432x288 with 1 Axes>"
      ]
     },
     "metadata": {},
     "output_type": "display_data"
    }
   ],
   "source": [
    "plt.plot(r_k_results['k'], r_k_results['CSTwo_delta'], label='CST w/o')\n",
    "plt.plot(r_k_results['k'], r_k_results['CSTwo_delta_sig'], label='CST w/o (sig.)')\n",
    "plt.plot(r_k_results['k'], r_k_results['CSTwi_delta'], label='CST w/')\n",
    "plt.plot(r_k_results['k'], r_k_results['CSTwi_delta_sig'], label='CST w/ (sig.)')\n",
    "plt.plot(r_k_results['k'], r_k_results['ST_delta'], label='ST')\n",
    "plt.plot(r_k_results['k'], r_k_results['ST_delta_sig'], label='ST (sig.)')\n",
    "plt.xlim(K_l, k_u)\n",
    "plt.xticks(x_axis)\n",
    "plt.xlabel(\"$k$\")\n",
    "plt.ylim(0.0, 1.0)\n",
    "plt.ylabel(\"Avg. $\\Delta p$ for discrimination cases w.r.t. $R$\")\n",
    "plt.axvline(x=250, linestyle='--', color='black') #, label='$k=250$')\n",
    "plt.legend(loc='upper right', ncol=1, fancybox=True)\n",
    "plt.savefig(os.path.join(figu_path, 'R_all_delta_versus_k.png'), dpi=300, bbox_inches='tight')\n",
    "plt.show()"
   ]
  },
  {
   "cell_type": "code",
   "execution_count": 9,
   "metadata": {},
   "outputs": [
    {
     "data": {
      "image/png": "[encoded data removed]",
      "text/plain": [
       "<Figure size 432x288 with 1 Axes>"
      ]
     },
     "metadata": {},
     "output_type": "display_data"
    }
   ],
   "source": [
    "plt.plot(r_k_results['k'], r_k_results['CSTwo'], label='CST w/o')\n",
    "plt.plot(r_k_results['k'], r_k_results['CSTwo_sig'], label='CST w/o (sig.)')\n",
    "plt.plot(r_k_results['k'], r_k_results['CSTwi'], label='CST w/')\n",
    "plt.plot(r_k_results['k'], r_k_results['CSTwi_sig'], label='CST w/ (sig.)')\n",
    "plt.plot(r_k_results['k'], r_k_results['ST'], label='ST')\n",
    "plt.plot(r_k_results['k'], r_k_results['ST_sig'], label='ST (sig.)')\n",
    "plt.plot(r_k_results['k'], r_k_results['CF'], label='CF')\n",
    "plt.plot(r_k_results['k'], r_k_results['CF_sig'], label='CF (sig.)')\n",
    "plt.xlim(K_l, k_u)\n",
    "plt.xticks(x_axis)\n",
    "plt.ylim(0, 850) #g_k_results.iloc[-1].max() + 15)\n",
    "# plt.ylim(k_results.iloc[0].min() - 5, k_results.iloc[-1].max() + 5)\n",
    "plt.axvline(x=250, linestyle='--', color='black') #, label='$k=250$')\n",
    "plt.ylabel(\"Num. of discrimination cases w.r.t. $R$\")\n",
    "plt.legend(loc='upper center', ncol=2, fancybox=True)\n",
    "# plt.title('CST w/o vs ST')\n",
    "plt.savefig(os.path.join(figu_path, 'R_all_nums_versus_k.png'), dpi=300, bbox_inches='tight')\n",
    "plt.show()"
   ]
  },
  {
   "cell_type": "markdown",
   "metadata": {},
   "source": [
    "### Multiple discrimination"
   ]
  },
  {
   "cell_type": "code",
   "execution_count": 21,
   "metadata": {},
   "outputs": [
    {
     "data": {
      "image/png": "[encoded data removed]",
      "text/plain": [
       "<Figure size 432x288 with 1 Axes>"
      ]
     },
     "metadata": {},
     "output_type": "display_data"
    }
   ],
   "source": [
    "plt.plot(multi_k_results['k'], multi_k_results['ST_delta'], label='ST')\n",
    "plt.plot(multi_k_results['k'], multi_k_results['ST_delta_sig'], label='ST (sig.)')\n",
    "plt.plot(multi_k_results['k'], multi_k_results['CSTwo_delta'], label='CST w/o')\n",
    "plt.plot(multi_k_results['k'], multi_k_results['CSTwi_delta'], label='CST w/')\n",
    "plt.plot(multi_k_results['k'], multi_k_results['CSTwo_delta_sig'], label='CST w/o (sig.)')\n",
    "plt.plot(multi_k_results['k'], multi_k_results['CSTwi_delta_sig'], label='CST w/ (sig.)')\n",
    "plt.xlim(K_l, k_u)\n",
    "plt.xticks(x_axis)\n",
    "plt.xlabel(\"$k$\")\n",
    "plt.ylim(0.0, 1.0)\n",
    "plt.ylabel(\"Avg. $\\Delta p$ for multi. discrimination cases\")\n",
    "plt.axvline(x=250, linestyle='--', color='black')\n",
    "# plt.legend(loc='upper center', ncol=2, fancybox=True)\n",
    "plt.legend()\n",
    "plt.savefig(os.path.join(figu_path, 'Multi_all_deltas_versus_k.png'), dpi=300, bbox_inches='tight')\n",
    "plt.show()"
   ]
  },
  {
   "cell_type": "code",
   "execution_count": 34,
   "metadata": {},
   "outputs": [
    {
     "data": {
      "image/png": "[encoded data removed]",
      "text/plain": [
       "<Figure size 432x288 with 1 Axes>"
      ]
     },
     "metadata": {},
     "output_type": "display_data"
    }
   ],
   "source": [
    "plt.plot(multi_k_results['k'], multi_k_results['ST'], label='ST')\n",
    "plt.plot(multi_k_results['k'], multi_k_results['CSTwo'], label='CST w/o')\n",
    "plt.plot(multi_k_results['k'], multi_k_results['CSTwi'], label='CST w/')\n",
    "plt.plot(multi_k_results['k'], multi_k_results['ST_sig'], label='ST (sig.)')\n",
    "plt.plot(multi_k_results['k'], multi_k_results['CSTwo_sig'], label='CST w/o (sig.)')\n",
    "plt.plot(multi_k_results['k'], multi_k_results['CSTwi_sig'], label='CST w/ (sig.)')\n",
    "plt.plot(multi_k_results['k'], multi_k_results['CF'], label='CF')\n",
    "plt.plot(multi_k_results['k'], multi_k_results['CF_sig'], label='CF (sig.)')\n",
    "plt.xlim(K_l, k_u)\n",
    "plt.xticks(x_axis)\n",
    "plt.xlabel(\"$k$\")\n",
    "plt.ylim(0, 75) #multi_k_results.iloc[-1].max() + 15)\n",
    "plt.ylabel(\"Num. of multi. discrimination cases\")\n",
    "plt.axvline(x=250, linestyle='--', color='black')\n",
    "plt.legend(loc='upper center', ncol=2, fancybox=True)\n",
    "# plt.legend()\n",
    "plt.savefig(os.path.join(figu_path, 'Multi_all_nums_versus_k.png'), dpi=300, bbox_inches='tight')\n",
    "plt.show()"
   ]
  },
  {
   "cell_type": "markdown",
   "metadata": {},
   "source": [
    "### Intersectional discrimination"
   ]
  },
  {
   "cell_type": "code",
   "execution_count": 23,
   "metadata": {},
   "outputs": [
    {
     "data": {
      "image/png": "[encoded data removed]",
      "text/plain": [
       "<Figure size 432x288 with 1 Axes>"
      ]
     },
     "metadata": {},
     "output_type": "display_data"
    }
   ],
   "source": [
    "plt.plot(inter_k_results['k'], inter_k_results['ST_delta'], label='ST')\n",
    "plt.plot(inter_k_results['k'], inter_k_results['ST_delta_sig'], label='ST (sig.)')\n",
    "plt.plot(inter_k_results['k'], inter_k_results['CSTwo_delta'], label='CST w/o')\n",
    "plt.plot(inter_k_results['k'], inter_k_results['CSTwi_delta'], label='CST w/')\n",
    "plt.plot(inter_k_results['k'], inter_k_results['CSTwo_delta_sig'], label='CST w/o (sig.)')\n",
    "plt.plot(inter_k_results['k'], inter_k_results['CSTwi_delta_sig'], label='CST w/ (sig.)')\n",
    "plt.xlim(K_l, k_u)\n",
    "plt.xticks(x_axis)\n",
    "plt.xlabel(\"$k$\")\n",
    "plt.ylim(0.0, 1.0)\n",
    "plt.ylabel(\"Avg. $\\Delta p$ for inter. discrimination cases\")\n",
    "plt.axvline(x=250, linestyle='--', color='black')\n",
    "plt.legend()\n",
    "plt.savefig(os.path.join(figu_path, 'Inter_all_deltas_versus_k.png'), dpi=300, bbox_inches='tight')\n",
    "plt.show()"
   ]
  },
  {
   "cell_type": "code",
   "execution_count": 32,
   "metadata": {},
   "outputs": [
    {
     "data": {
      "image/png": "[encoded data removed]",
      "text/plain": [
       "<Figure size 432x288 with 1 Axes>"
      ]
     },
     "metadata": {},
     "output_type": "display_data"
    }
   ],
   "source": [
    "plt.plot(inter_k_results['k'], inter_k_results['ST'], label='ST')\n",
    "plt.plot(inter_k_results['k'], inter_k_results['CSTwo'], label='CST w/o')\n",
    "plt.plot(inter_k_results['k'], inter_k_results['CSTwi'], label='CST w/')\n",
    "plt.plot(inter_k_results['k'], inter_k_results['ST_sig'], label='ST (sig.)')\n",
    "plt.plot(inter_k_results['k'], inter_k_results['CSTwo_sig'], label='CST w/o (sig.)')\n",
    "plt.plot(inter_k_results['k'], inter_k_results['CSTwi_sig'], label='CST w/ (sig.)')\n",
    "plt.plot(inter_k_results['k'], inter_k_results['CF'], label='CF')\n",
    "plt.plot(inter_k_results['k'], inter_k_results['CF_sig'], label='CF (sig.)')\n",
    "plt.xlim(K_l, k_u)\n",
    "plt.xticks(x_axis)\n",
    "plt.xlabel(\"$k$\")\n",
    "plt.ylim(0, 325) #inter_k_results.iloc[-1].max() + 15)\n",
    "plt.ylabel(\"Num. of inter. discrimination cases\")\n",
    "plt.axvline(x=250, linestyle='--', color='black')\n",
    "plt.legend(loc='upper center', ncol=2, fancybox=True)\n",
    "# plt.legend()\n",
    "plt.savefig(os.path.join(figu_path, 'Inter_all_nums_versus_k.png'), dpi=300, bbox_inches='tight')\n",
    "plt.show()"
   ]
  },
  {
   "cell_type": "markdown",
   "metadata": {},
   "source": [
    "## Summary stats: general and for a given $k$"
   ]
  },
  {
   "cell_type": "code",
   "execution_count": 35,
   "metadata": {},
   "outputs": [
    {
     "data": {
      "text/html": [
       "<div>\n",
       "<style scoped>\n",
       "    .dataframe tbody tr th:only-of-type {\n",
       "        vertical-align: middle;\n",
       "    }\n",
       "\n",
       "    .dataframe tbody tr th {\n",
       "        vertical-align: top;\n",
       "    }\n",
       "\n",
       "    .dataframe thead th {\n",
       "        text-align: right;\n",
       "    }\n",
       "</style>\n",
       "<table border=\"1\" class=\"dataframe\">\n",
       "  <thead>\n",
       "    <tr style=\"text-align: right;\">\n",
       "      <th></th>\n",
       "      <th>Gender</th>\n",
       "      <th>Race</th>\n",
       "      <th>LSAT</th>\n",
       "      <th>UGPA</th>\n",
       "    </tr>\n",
       "  </thead>\n",
       "  <tbody>\n",
       "    <tr>\n",
       "      <th>0</th>\n",
       "      <td>Female</td>\n",
       "      <td>White</td>\n",
       "      <td>39.0</td>\n",
       "      <td>3.1</td>\n",
       "    </tr>\n",
       "    <tr>\n",
       "      <th>1</th>\n",
       "      <td>Female</td>\n",
       "      <td>White</td>\n",
       "      <td>36.0</td>\n",
       "      <td>3.0</td>\n",
       "    </tr>\n",
       "    <tr>\n",
       "      <th>2</th>\n",
       "      <td>Male</td>\n",
       "      <td>White</td>\n",
       "      <td>30.0</td>\n",
       "      <td>3.1</td>\n",
       "    </tr>\n",
       "    <tr>\n",
       "      <th>3</th>\n",
       "      <td>Male</td>\n",
       "      <td>NonWhite</td>\n",
       "      <td>39.0</td>\n",
       "      <td>2.2</td>\n",
       "    </tr>\n",
       "    <tr>\n",
       "      <th>4</th>\n",
       "      <td>Female</td>\n",
       "      <td>White</td>\n",
       "      <td>37.0</td>\n",
       "      <td>3.4</td>\n",
       "    </tr>\n",
       "  </tbody>\n",
       "</table>\n",
       "</div>"
      ],
      "text/plain": [
       "   Gender      Race  LSAT  UGPA\n",
       "0  Female     White  39.0   3.1\n",
       "1  Female     White  36.0   3.0\n",
       "2    Male     White  30.0   3.1\n",
       "3    Male  NonWhite  39.0   2.2\n",
       "4  Female     White  37.0   3.4"
      ]
     },
     "execution_count": 35,
     "metadata": {},
     "output_type": "execute_result"
    }
   ],
   "source": [
    "# load and modify factual data (same for counterfactual data)\n",
    "org_df = pd.read_csv(data_path + 'clean_LawSchool.csv', sep='|').reset_index(drop=True)\n",
    "df = org_df[['sex', 'race_nonwhite', 'LSAT', 'UGPA']].copy()\n",
    "# df['sex'] = df['sex'].map({'Male': 0, 'Female': 1})\n",
    "# df['race_nonwhite'] = df['race_nonwhite'].map({'White': 0, 'NonWhite': 1})\n",
    "df.rename(columns={'sex': 'Gender', 'race_nonwhite': 'Race'}, inplace=True)\n",
    "df.head(5)"
   ]
  },
  {
   "cell_type": "markdown",
   "metadata": {},
   "source": [
    "## A 'known' decision maker\n",
    "\n",
    "An DM based on [the known requirements of US Law Schools](https://schools.lawschoolnumbers.com/). We assume the case for Yale School. We could not find a one-to-one converter between LSAT over 48 to over 180. 173/180 is 96%: it would be about 46.1/48. We assume Yale cuts at these median values, and puts a higher weight on UGPA."
   ]
  },
  {
   "cell_type": "code",
   "execution_count": 36,
   "metadata": {},
   "outputs": [],
   "source": [
    "def add_dm(df: pd.DataFrame):\n",
    "    b1 = 0.6\n",
    "    b2 = 0.4\n",
    "    min_score = round(b1 * 3.93 + b2 * 46.1, 2)  # 20.8\n",
    "    max_score = round(b1 * 4.00 + b2 * 48.00)    # 22\n",
    "    df['Score'] = b1 * df['UGPA'] + b2 * df['LSAT']\n",
    "    df['Y'] = np.where(df['Score'] >= min_score, 1, 0)\n",
    "    return df"
   ]
  },
  {
   "cell_type": "code",
   "execution_count": 37,
   "metadata": {},
   "outputs": [
    {
     "data": {
      "text/html": [
       "<div>\n",
       "<style scoped>\n",
       "    .dataframe tbody tr th:only-of-type {\n",
       "        vertical-align: middle;\n",
       "    }\n",
       "\n",
       "    .dataframe tbody tr th {\n",
       "        vertical-align: top;\n",
       "    }\n",
       "\n",
       "    .dataframe thead th {\n",
       "        text-align: right;\n",
       "    }\n",
       "</style>\n",
       "<table border=\"1\" class=\"dataframe\">\n",
       "  <thead>\n",
       "    <tr style=\"text-align: right;\">\n",
       "      <th></th>\n",
       "      <th>Gender</th>\n",
       "      <th>Race</th>\n",
       "      <th>LSAT</th>\n",
       "      <th>UGPA</th>\n",
       "      <th>Score</th>\n",
       "      <th>Y</th>\n",
       "    </tr>\n",
       "  </thead>\n",
       "  <tbody>\n",
       "    <tr>\n",
       "      <th>0</th>\n",
       "      <td>Female</td>\n",
       "      <td>White</td>\n",
       "      <td>39.0</td>\n",
       "      <td>3.1</td>\n",
       "      <td>17.46</td>\n",
       "      <td>0</td>\n",
       "    </tr>\n",
       "    <tr>\n",
       "      <th>1</th>\n",
       "      <td>Female</td>\n",
       "      <td>White</td>\n",
       "      <td>36.0</td>\n",
       "      <td>3.0</td>\n",
       "      <td>16.20</td>\n",
       "      <td>0</td>\n",
       "    </tr>\n",
       "    <tr>\n",
       "      <th>2</th>\n",
       "      <td>Male</td>\n",
       "      <td>White</td>\n",
       "      <td>30.0</td>\n",
       "      <td>3.1</td>\n",
       "      <td>13.86</td>\n",
       "      <td>0</td>\n",
       "    </tr>\n",
       "    <tr>\n",
       "      <th>3</th>\n",
       "      <td>Male</td>\n",
       "      <td>NonWhite</td>\n",
       "      <td>39.0</td>\n",
       "      <td>2.2</td>\n",
       "      <td>16.92</td>\n",
       "      <td>0</td>\n",
       "    </tr>\n",
       "    <tr>\n",
       "      <th>4</th>\n",
       "      <td>Female</td>\n",
       "      <td>White</td>\n",
       "      <td>37.0</td>\n",
       "      <td>3.4</td>\n",
       "      <td>16.84</td>\n",
       "      <td>0</td>\n",
       "    </tr>\n",
       "  </tbody>\n",
       "</table>\n",
       "</div>"
      ],
      "text/plain": [
       "   Gender      Race  LSAT  UGPA  Score  Y\n",
       "0  Female     White  39.0   3.1  17.46  0\n",
       "1  Female     White  36.0   3.0  16.20  0\n",
       "2    Male     White  30.0   3.1  13.86  0\n",
       "3    Male  NonWhite  39.0   2.2  16.92  0\n",
       "4  Female     White  37.0   3.4  16.84  0"
      ]
     },
     "execution_count": 37,
     "metadata": {},
     "output_type": "execute_result"
    }
   ],
   "source": [
    "df = add_dm(df)\n",
    "df.head(5)"
   ]
  },
  {
   "cell_type": "markdown",
   "metadata": {},
   "source": [
    "## Summary statistics"
   ]
  },
  {
   "cell_type": "code",
   "execution_count": null,
   "metadata": {},
   "outputs": [],
   "source": [
    "print('Num. of applicants')\n",
    "print(df.shape[0])\n",
    "###\n",
    "print('Females')\n",
    "print(df[df['Gender'] == 'Female'].shape[0])\n",
    "print(df[df['Gender'] == 'Female'].shape[0] / df.shape[0] * 100)\n",
    "###\n",
    "print('Non-whites')\n",
    "print(df[df['Race'] == 'NonWhite'].shape[0])\n",
    "print(df[df['Race'] == 'NonWhite'].shape[0] / df.shape[0] * 100)\n",
    "###\n",
    "print('Female-non-whites')\n",
    "print(df[(df['Gender'] == 'Female') & (df['Race'] == 'NonWhite')].shape[0])\n",
    "print(df[(df['Gender'] == 'Female') & (df['Race'] == 'NonWhite')].shape[0] / df.shape[0] * 100)"
   ]
  },
  {
   "cell_type": "code",
   "execution_count": null,
   "metadata": {},
   "outputs": [],
   "source": [
    "print('Num. of accepted applicants')\n",
    "print(df[df['Y'] == 1].shape[0])\n",
    "print(df[df['Y'] == 1].shape[0] / df.shape[0] * 100)\n",
    "###\n",
    "print('Females')\n",
    "print(df[(df['Y'] == 1) & (df['Gender'] == 'Female')].shape[0])\n",
    "print(df[(df['Y'] == 1) & (df['Gender'] == 'Female')].shape[0] / df.shape[0] * 100)\n",
    "print('Males')\n",
    "print(df[(df['Y'] == 1) & (df['Gender'] == 'Male')].shape[0])\n",
    "print(df[(df['Y'] == 1) & (df['Gender'] == 'Male')].shape[0] / df.shape[0] * 100)\n",
    "###\n",
    "print('Non-whites')\n",
    "print(df[(df['Y'] == 1) & (df['Race'] == 'NonWhite')].shape[0])\n",
    "print(df[(df['Y'] == 1) & (df['Race'] == 'NonWhite')].shape[0] / df.shape[0] * 100)\n",
    "print('Whites')\n",
    "print(df[(df['Y'] == 1) & (df['Race'] == 'White')].shape[0])\n",
    "print(df[(df['Y'] == 1) & (df['Race'] == 'White')].shape[0] / df.shape[0] * 100)\n",
    "###\n",
    "print('Female-non-whites')\n",
    "print(df[(df['Y'] == 1) & (df['Gender'] == 'Female') & (df['Race'] == 'NonWhite')].shape[0])\n",
    "print(df[(df['Y'] == 1) & (df['Gender'] == 'Female') & (df['Race'] == 'NonWhite')].shape[0] / df.shape[0] * 100)\n",
    "print('All but female-non-whites')\n",
    "tot = df[(df['Y'] == 1) & (df['Gender'] == 'Female') & (df['Race'] == 'White')].shape[0] + df[(df['Y'] == 1) & (df['Gender'] == 'Male') & (df['Race'] == 'NonWhite')].shape[0] + df[(df['Y'] == 1) & (df['Gender'] == 'Male') & (df['Race'] == 'White')].shape[0]\n",
    "print(tot)\n",
    "print(tot / df.shape[0] * 100)\n"
   ]
  },
  {
   "cell_type": "markdown",
   "metadata": {},
   "source": [
    "## Params for the analysis"
   ]
  },
  {
   "cell_type": "code",
   "execution_count": null,
   "metadata": {},
   "outputs": [],
   "source": [
    "# size of neighborhoods\n",
    "n = 15\n",
    "# significance level\n",
    "alpha = 0.05\n",
    "# tau diviation\n",
    "tau = 0.0"
   ]
  },
  {
   "cell_type": "markdown",
   "metadata": {},
   "source": [
    "## $|\\mathbf{A}=1|$: Gender"
   ]
  },
  {
   "cell_type": "code",
   "execution_count": null,
   "metadata": {},
   "outputs": [],
   "source": [
    "do = 'Male'\n",
    "org_cf_df = pd.read_csv(data_path + '\\\\counterfactuals\\\\' + f'cf_LawSchool_lev3_do{do}.csv', sep='|').reset_index(drop=True)\n",
    "cf_df = org_cf_df[['Sex', 'Race', 'scf_LSAT', 'scf_UGPA']].copy()\n",
    "cf_df = cf_df.rename(columns={'Sex': 'Gender', 'scf_LSAT': 'LSAT', 'scf_UGPA': 'UGPA'})\n",
    "cf_df = add_dm(cf_df)\n",
    "cf_df.head(5)"
   ]
  },
  {
   "cell_type": "code",
   "execution_count": null,
   "metadata": {},
   "outputs": [],
   "source": [
    "# --- attribute-specific params\n",
    "feat_trgt = 'Y'\n",
    "feat_trgt_vals = {'positive': 1, 'negative': 0}\n",
    "# list of relevant features\n",
    "feat_rlvt = ['LSAT', 'UGPA']\n",
    "# protected feature\n",
    "feat_prot = 'Gender'\n",
    "# values for the protected feature: use 'non_protected' and 'protected' accordingly\n",
    "feat_prot_vals = {'non_protected': 'Male', 'protected': 'Female'}"
   ]
  },
  {
   "cell_type": "code",
   "execution_count": null,
   "metadata": {},
   "outputs": [],
   "source": [
    "# b = 35\n",
    "# plt.hist(df[df['Gender'] == 'Female']['LSAT'], bins=b, alpha=0.9, label=r'$LSAT^F$')\n",
    "# plt.hist(cf_df[cf_df['Gender'] == 'Female']['LSAT'], bins=b, alpha=0.5, label=r'$LSAT^{CF}$')\n",
    "# plt.legend(loc='upper left')\n",
    "# plt.ylabel('Frequency')\n",
    "# plt.xlabel(r'LSAT for females')"
   ]
  },
  {
   "cell_type": "code",
   "execution_count": null,
   "metadata": {},
   "outputs": [],
   "source": [
    "# b = 35\n",
    "# plt.hist(df[df['Gender'] == 'Female']['UGPA'], bins=b, alpha=0.9, label=r'$UGPA^F$')\n",
    "# plt.hist(cf_df[cf_df['Gender'] == 'Female']['UGPA'], bins=b, alpha=0.5, label=r'$UGPA^{CF}$')\n",
    "# plt.legend(loc='upper left')\n",
    "# plt.ylabel('Frequency')\n",
    "# plt.xlabel(r'UGPA for females')"
   ]
  },
  {
   "cell_type": "code",
   "execution_count": null,
   "metadata": {},
   "outputs": [],
   "source": [
    "### get disc??? TODO\n",
    "# store do:=Male results\n",
    "m_res_df = df[['Gender', 'Race', 'Y']].copy()\n",
    "m_res_df['cf_Y'] = cf_df[['Y']].copy()\n",
    "m_res_df.head(5)"
   ]
  },
  {
   "cell_type": "markdown",
   "metadata": {},
   "source": [
    "### Situation Testing\n",
    "\n",
    "Notice that, by construction, by not specifying 'Race' (or 'Gender') as a relevant feature, ST will ignore it."
   ]
  },
  {
   "cell_type": "code",
   "execution_count": null,
   "metadata": {},
   "outputs": [],
   "source": [
    "test_df = df.copy()\n",
    "\n",
    "st = SituationTesting()\n",
    "st.setup_baseline(test_df, nominal_atts=['Gender'], continuous_atts=['LSAT', 'UGPA'])\n",
    "\n",
    "m_res_df['stST'] = st.run(target_att=feat_trgt, target_val=feat_trgt_vals,  \n",
    "                          sensitive_att=feat_prot, sensitive_val=feat_prot_vals,\n",
    "                          k=n, alpha=alpha, tau=tau)"
   ]
  },
  {
   "cell_type": "code",
   "execution_count": null,
   "metadata": {},
   "outputs": [],
   "source": [
    "m_res_df[(m_res_df['stST'] > tau)].shape[0]"
   ]
  },
  {
   "cell_type": "code",
   "execution_count": null,
   "metadata": {},
   "outputs": [],
   "source": [
    "# positive discrimination?\n",
    "m_res_df[(m_res_df['stST'] < tau)].shape[0]"
   ]
  },
  {
   "cell_type": "markdown",
   "metadata": {},
   "source": [
    "### Counterfactual Situation Testing w/o"
   ]
  },
  {
   "cell_type": "code",
   "execution_count": null,
   "metadata": {},
   "outputs": [],
   "source": [
    "test_df    = df.copy()\n",
    "test_cf_df = cf_df.copy()\n",
    "\n",
    "# don't include the centers\n",
    "cf_st = SituationTesting()\n",
    "cf_st.setup_baseline(test_df, test_cf_df, nominal_atts=['Gender'], continuous_atts=['LSAT', 'UGPA'])\n",
    "\n",
    "m_res_df['cfST'] = cf_st.run(target_att=feat_trgt, target_val=feat_trgt_vals, \n",
    "                             sensitive_att=feat_prot, sensitive_val=feat_prot_vals,\n",
    "                             include_centers=False,\n",
    "                             k=n, alpha=alpha, tau=tau)"
   ]
  },
  {
   "cell_type": "code",
   "execution_count": null,
   "metadata": {},
   "outputs": [],
   "source": [
    "m_res_df[(m_res_df['cfST'] > tau)].shape[0]"
   ]
  },
  {
   "cell_type": "code",
   "execution_count": null,
   "metadata": {},
   "outputs": [],
   "source": [
    "# positive discrimination?\n",
    "m_res_df[(m_res_df['cfST'] < tau)].shape[0]"
   ]
  },
  {
   "cell_type": "markdown",
   "metadata": {},
   "source": [
    "#### Counterfactual Fairness"
   ]
  },
  {
   "cell_type": "code",
   "execution_count": null,
   "metadata": {},
   "outputs": [],
   "source": [
    "m_res_df['CF'] = cf_st.res_counterfactual_unfairness"
   ]
  },
  {
   "cell_type": "code",
   "execution_count": null,
   "metadata": {},
   "outputs": [],
   "source": [
    "m_res_df[m_res_df['CF'] == 1].shape[0]"
   ]
  },
  {
   "cell_type": "code",
   "execution_count": null,
   "metadata": {},
   "outputs": [],
   "source": [
    "# positive discrimination?\n",
    "m_res_df[m_res_df['CF'] == 2].shape[0] "
   ]
  },
  {
   "cell_type": "markdown",
   "metadata": {},
   "source": [
    "#### cfST with centers"
   ]
  },
  {
   "cell_type": "code",
   "execution_count": null,
   "metadata": {},
   "outputs": [],
   "source": [
    "test_df    = df.copy()\n",
    "test_cf_df = cf_df.copy()\n",
    "\n",
    "# don't include the centers\n",
    "wcf_st = SituationTesting()\n",
    "wcf_st.setup_baseline(test_df, test_cf_df, nominal_atts=['Gender'], continuous_atts=['LSAT', 'UGPA'])\n",
    "\n",
    "m_res_df['cfST_w'] = wcf_st.run(target_att=feat_trgt, target_val=feat_trgt_vals, \n",
    "                                sensitive_att=feat_prot, sensitive_val=feat_prot_vals,\n",
    "                                include_centers=True,\n",
    "                                k=n, alpha=alpha, tau=tau)"
   ]
  },
  {
   "cell_type": "code",
   "execution_count": null,
   "metadata": {},
   "outputs": [],
   "source": [
    "m_res_df[(m_res_df['cfST_w'] > tau)].shape[0]"
   ]
  },
  {
   "cell_type": "code",
   "execution_count": null,
   "metadata": {},
   "outputs": [],
   "source": [
    "# positive discrimination?\n",
    "m_res_df[(m_res_df['cfST_w'] < tau)].shape[0]"
   ]
  },
  {
   "cell_type": "markdown",
   "metadata": {},
   "source": [
    "### Add CIs for CF"
   ]
  },
  {
   "cell_type": "code",
   "execution_count": null,
   "metadata": {},
   "outputs": [],
   "source": [
    "df_wcf_sf_disc = wcf_st.get_test_discrimination()\n",
    "df_wcf_sf_disc.head(5)"
   ]
  },
  {
   "cell_type": "code",
   "execution_count": null,
   "metadata": {},
   "outputs": [],
   "source": [
    "# add this to results to showcase the method\n",
    "df_wcf_sf_disc[df_wcf_sf_disc['individual'].isin(m_res_df[m_res_df['CF'] == True].index.to_list())].head(5)"
   ]
  },
  {
   "cell_type": "markdown",
   "metadata": {},
   "source": [
    "### $|\\mathbf{A}=1|$: Race"
   ]
  },
  {
   "cell_type": "code",
   "execution_count": null,
   "metadata": {},
   "outputs": [],
   "source": [
    "do = 'White'\n",
    "org_cf_df = pd.read_csv(data_path + '\\\\counterfactuals\\\\' + f'cf_LawSchool_lev3_do{do}.csv', sep='|').reset_index(drop=True)\n",
    "print(org_cf_df.shape)\n",
    "print(org_cf_df.columns.to_list())\n",
    "org_cf_df.head(5)"
   ]
  },
  {
   "cell_type": "code",
   "execution_count": null,
   "metadata": {},
   "outputs": [],
   "source": [
    "cf_df = org_cf_df[['Sex', 'Race', 'scf_LSAT', 'scf_UGPA']].copy()\n",
    "cf_df = cf_df.rename(columns={'Sex': 'Gender', 'scf_LSAT': 'LSAT', 'scf_UGPA': 'UGPA'})\n",
    "\n",
    "# add the decision maker\n",
    "cf_df['Score'] = b1*cf_df['UGPA'] + b2*cf_df['LSAT']\n",
    "cf_df['Y'] = np.where(cf_df['Score'] >= min_score, 1, 0)\n",
    "cf_df.head(5)"
   ]
  },
  {
   "cell_type": "code",
   "execution_count": null,
   "metadata": {},
   "outputs": [],
   "source": [
    "b = 35\n",
    "plt.hist(df[df['Race'] == 'NonWhite']['LSAT'], bins=b, alpha=0.9, label=r'$LSAT^F$')\n",
    "plt.hist(cf_df[cf_df['Race'] == 'NonWhite']['LSAT'], bins=b, alpha=0.5, label=r'$LSAT^{CF}$')\n",
    "plt.legend(loc='upper left')\n",
    "plt.ylabel('Frequency')\n",
    "plt.xlabel(r'LSAT for non-whites')"
   ]
  },
  {
   "cell_type": "code",
   "execution_count": null,
   "metadata": {},
   "outputs": [],
   "source": [
    "b = 25\n",
    "plt.hist(df[df['Race'] == 'NonWhite']['UGPA'], bins=b, alpha=0.9, label=r'$UGPA^F$')\n",
    "plt.hist(cf_df[cf_df['Race'] == 'NonWhite']['UGPA'], bins=b, alpha=0.5, label=r'$UGPA^{CF}$')\n",
    "plt.legend(loc='upper left')\n",
    "plt.ylabel('Frequency')\n",
    "plt.xlabel(r'UGPA for non-whites')"
   ]
  },
  {
   "cell_type": "code",
   "execution_count": null,
   "metadata": {},
   "outputs": [],
   "source": [
    "# df.groupby(['Y', 'Race']).count()\n",
    "# cf_df.groupby(['Y', 'Race']).count()"
   ]
  },
  {
   "cell_type": "code",
   "execution_count": null,
   "metadata": {},
   "outputs": [],
   "source": [
    "# store do:=White results\n",
    "w_res_df = df[['Gender', 'Race', 'Y']].copy()\n",
    "w_res_df['cf_Y'] = cf_df[['Y']].copy()\n",
    "w_res_df.head(5)"
   ]
  },
  {
   "cell_type": "code",
   "execution_count": null,
   "metadata": {},
   "outputs": [],
   "source": [
    "# attribute-specific params\n",
    "feat_trgt = 'Y'\n",
    "feat_trgt_vals = {'positive': 1, 'negative': 0}\n",
    "# list of relevant features\n",
    "feat_rlvt = ['LSAT', 'UGPA']\n",
    "# protected feature\n",
    "feat_prot = 'Race'\n",
    "# values for the protected feature: use 'non_protected' and 'protected' accordingly\n",
    "feat_prot_vals = {'non_protected': 'White', 'protected': 'NonWhite'}\n",
    "\n",
    "# st-specific params\n",
    "# size of neiuborhoods\n",
    "n = 15\n",
    "# significance level\n",
    "alpha = 0.05\n",
    "# tau diviation\n",
    "tau = 0.0"
   ]
  },
  {
   "cell_type": "markdown",
   "metadata": {},
   "source": [
    "#### Standard ST (stST)\n",
    "\n",
    "Notice that, by construction, by not specifying 'Race' (or 'Gender') as a relevant feature, ST will ignore it."
   ]
  },
  {
   "cell_type": "code",
   "execution_count": null,
   "metadata": {},
   "outputs": [],
   "source": [
    "test_df = df.copy()\n",
    "\n",
    "st = SituationTesting()\n",
    "st.setup_baseline(test_df, nominal_atts=['Race'], continuous_atts=['LSAT', 'UGPA'])\n",
    "\n",
    "w_res_df['stST'] = st.run(target_att=feat_trgt, target_val=feat_trgt_vals,  \n",
    "                          sensitive_att=feat_prot, sensitive_val=feat_prot_vals,\n",
    "                          k=n, alpha=alpha, tau=tau)"
   ]
  },
  {
   "cell_type": "code",
   "execution_count": null,
   "metadata": {},
   "outputs": [],
   "source": [
    "w_res_df[(w_res_df['stST'] > tau)].shape[0]"
   ]
  },
  {
   "cell_type": "code",
   "execution_count": null,
   "metadata": {},
   "outputs": [],
   "source": [
    "# positive discrimination?\n",
    "w_res_df[(w_res_df['stST'] < tau)].shape[0]"
   ]
  },
  {
   "cell_type": "markdown",
   "metadata": {},
   "source": [
    "#### Counterfactual Situation Testing (cfST)"
   ]
  },
  {
   "cell_type": "code",
   "execution_count": null,
   "metadata": {},
   "outputs": [],
   "source": [
    "test_df    = df.copy()\n",
    "test_cf_df = cf_df.copy()\n",
    "\n",
    "# don't include the centers\n",
    "cf_st = SituationTesting()\n",
    "cf_st.setup_baseline(test_df, test_cf_df, nominal_atts=['Race'], continuous_atts=['LSAT', 'UGPA'])\n",
    "\n",
    "w_res_df['cfST'] = cf_st.run(target_att=feat_trgt, target_val=feat_trgt_vals, \n",
    "                             sensitive_att=feat_prot, sensitive_val=feat_prot_vals,\n",
    "                             include_centers=False,\n",
    "                             k=n, alpha=alpha, tau=tau)"
   ]
  },
  {
   "cell_type": "code",
   "execution_count": null,
   "metadata": {},
   "outputs": [],
   "source": [
    "w_res_df[(w_res_df['cfST'] > tau)].shape[0]"
   ]
  },
  {
   "cell_type": "code",
   "execution_count": null,
   "metadata": {},
   "outputs": [],
   "source": [
    "# positive discrimination?\n",
    "w_res_df[(w_res_df['cfST'] < tau)].shape[0]"
   ]
  },
  {
   "cell_type": "markdown",
   "metadata": {},
   "source": [
    "#### Counterfactual Fairness"
   ]
  },
  {
   "cell_type": "code",
   "execution_count": null,
   "metadata": {},
   "outputs": [],
   "source": [
    "w_res_df['CF'] = cf_st.res_counterfactual_unfairness"
   ]
  },
  {
   "cell_type": "code",
   "execution_count": null,
   "metadata": {},
   "outputs": [],
   "source": [
    "w_res_df[w_res_df['CF'] == 1].shape[0]"
   ]
  },
  {
   "cell_type": "code",
   "execution_count": null,
   "metadata": {},
   "outputs": [],
   "source": [
    "w_res_df[w_res_df['CF'] == 2].shape[0]"
   ]
  },
  {
   "cell_type": "markdown",
   "metadata": {},
   "source": [
    "#### cfST with centers"
   ]
  },
  {
   "cell_type": "code",
   "execution_count": null,
   "metadata": {},
   "outputs": [],
   "source": [
    "test_df    = df.copy()\n",
    "test_cf_df = cf_df.copy()\n",
    "\n",
    "# include the centers\n",
    "wcf_st = SituationTesting()\n",
    "wcf_st.setup_baseline(test_df, test_cf_df, nominal_atts=['Race'], continuous_atts=['LSAT', 'UGPA'])\n",
    "\n",
    "w_res_df['cfST_w'] = wcf_st.run(target_att=feat_trgt, target_val=feat_trgt_vals, \n",
    "                                sensitive_att=feat_prot, sensitive_val=feat_prot_vals,\n",
    "                                include_centers=True,\n",
    "                                k=n, alpha=alpha, tau=tau)"
   ]
  },
  {
   "cell_type": "code",
   "execution_count": null,
   "metadata": {},
   "outputs": [],
   "source": [
    "w_res_df[(w_res_df['cfST_w'] > tau)].shape[0]"
   ]
  },
  {
   "cell_type": "code",
   "execution_count": null,
   "metadata": {},
   "outputs": [],
   "source": [
    "# positive discrimination?\n",
    "w_res_df[(w_res_df['cfST_w'] < tau)].shape[0]"
   ]
  },
  {
   "cell_type": "markdown",
   "metadata": {},
   "source": [
    "### Multiple discrimination: $|\\mathbf{A}|=2$"
   ]
  },
  {
   "cell_type": "code",
   "execution_count": null,
   "metadata": {},
   "outputs": [],
   "source": [
    "df[(df['Gender'] == 'Female') & (df['Race'] == 'NonWhite')].shape[0]"
   ]
  },
  {
   "cell_type": "code",
   "execution_count": null,
   "metadata": {},
   "outputs": [],
   "source": [
    "# for stST\n",
    "pd.merge(left=m_res_df[m_res_df['stST'] > tau], right=w_res_df[w_res_df['stST'] > tau], \n",
    "         how='inner', \n",
    "         left_index=True, right_index=True).shape[0]"
   ]
  },
  {
   "cell_type": "code",
   "execution_count": null,
   "metadata": {},
   "outputs": [],
   "source": [
    "# for stST +\n",
    "pd.merge(left=m_res_df[m_res_df['stST'] < tau], right=w_res_df[w_res_df['stST'] < tau], \n",
    "         how='inner', \n",
    "         left_index=True, right_index=True).shape[0]"
   ]
  },
  {
   "cell_type": "code",
   "execution_count": null,
   "metadata": {},
   "outputs": [],
   "source": [
    "# for cfST\n",
    "pd.merge(left=m_res_df[m_res_df['cfST'] > tau], right=w_res_df[w_res_df['cfST'] > tau], \n",
    "         how='inner', \n",
    "         left_index=True, right_index=True).shape[0]"
   ]
  },
  {
   "cell_type": "code",
   "execution_count": null,
   "metadata": {},
   "outputs": [],
   "source": [
    "# for cfST +\n",
    "pd.merge(left=m_res_df[m_res_df['cfST'] < tau], right=w_res_df[w_res_df['cfST'] < tau], \n",
    "         how='inner', \n",
    "         left_index=True, right_index=True).shape[0]"
   ]
  },
  {
   "cell_type": "code",
   "execution_count": null,
   "metadata": {},
   "outputs": [],
   "source": [
    "# for stST_w\n",
    "pd.merge(left=m_res_df[m_res_df['cfST_w'] > tau], right=w_res_df[w_res_df['cfST_w'] > tau], \n",
    "         how='inner', \n",
    "         left_index=True, right_index=True).shape[0]"
   ]
  },
  {
   "cell_type": "code",
   "execution_count": null,
   "metadata": {},
   "outputs": [],
   "source": [
    "# for stST_w +\n",
    "pd.merge(left=m_res_df[m_res_df['cfST_w'] < tau], right=w_res_df[w_res_df['cfST_w'] < tau], \n",
    "         how='inner', \n",
    "         left_index=True, right_index=True).shape[0]"
   ]
  },
  {
   "cell_type": "code",
   "execution_count": null,
   "metadata": {},
   "outputs": [],
   "source": [
    "# for Counterfactual Fairness\n",
    "pd.merge(left=m_res_df[m_res_df['CF'] == 1], right=w_res_df[w_res_df['CF'] == 1], \n",
    "         how='inner', \n",
    "         left_index=True, right_index=True).shape[0]"
   ]
  },
  {
   "cell_type": "code",
   "execution_count": null,
   "metadata": {},
   "outputs": [],
   "source": [
    "# for Counterfactual Fairness w +\n",
    "pd.merge(left=m_res_df[m_res_df['CF'] == 2], right=w_res_df[w_res_df['CF'] == 2], \n",
    "         how='inner', \n",
    "         left_index=True, right_index=True).shape[0]"
   ]
  },
  {
   "cell_type": "markdown",
   "metadata": {},
   "source": [
    "### Intersectional Discrimination: $A_1 \\cap A_2$"
   ]
  },
  {
   "cell_type": "code",
   "execution_count": null,
   "metadata": {},
   "outputs": [],
   "source": [
    "do = 'MaleWhite'\n",
    "org_cf_df = pd.read_csv(data_path + '\\\\counterfactuals\\\\' + f'cf_LawSchool_lev3_do{do}.csv', sep='|').reset_index(drop=True)\n",
    "print(org_cf_df.shape)\n",
    "print(org_cf_df.columns.to_list())\n",
    "org_cf_df.head(5)"
   ]
  },
  {
   "cell_type": "code",
   "execution_count": null,
   "metadata": {},
   "outputs": [],
   "source": [
    "cf_df = org_cf_df[['GenderRace', 'scf_LSAT', 'scf_UGPA']].copy()\n",
    "cf_df = cf_df.rename(columns={'scf_LSAT': 'LSAT', 'scf_UGPA': 'UGPA'})\n",
    "\n",
    "# add the decision maker\n",
    "cf_df['Score'] = b1*cf_df['UGPA'] + b2*cf_df['LSAT']\n",
    "cf_df['Y'] = np.where(cf_df['Score'] >= min_score, 1, 0)\n",
    "cf_df.head(5)"
   ]
  },
  {
   "cell_type": "code",
   "execution_count": null,
   "metadata": {},
   "outputs": [],
   "source": [
    "# add the intersectional var to df\n",
    "df.head()\n",
    "df['GenderRace'] =  df['Gender'] + '-' + df['Race']\n",
    "df.head(5)"
   ]
  },
  {
   "cell_type": "code",
   "execution_count": null,
   "metadata": {},
   "outputs": [],
   "source": [
    "# df.groupby(['Y', 'GenderRace']).count()\n",
    "# cf_df.groupby(['Y', 'GenderRace']).count()"
   ]
  },
  {
   "cell_type": "code",
   "execution_count": null,
   "metadata": {},
   "outputs": [],
   "source": [
    "# store do:=White results\n",
    "int_res_df = df[['Gender', 'Race', 'Y']].copy()\n",
    "int_res_df['cf_Y'] = cf_df[['Y']].copy()\n",
    "int_res_df.head(5)"
   ]
  },
  {
   "cell_type": "code",
   "execution_count": null,
   "metadata": {},
   "outputs": [],
   "source": [
    "# attribute-specific params\n",
    "feat_trgt = 'Y'\n",
    "feat_trgt_vals = {'positive': 1, 'negative': 0}\n",
    "# list of relevant features\n",
    "feat_rlvt = ['LSAT', 'UGPA']\n",
    "# protected feature\n",
    "feat_prot = 'GenderRace'\n",
    "# values for the protected feature: use 'non_protected' and 'protected' accordingly\n",
    "feat_prot_vals = {'non_protected': ['Female-White', 'Male-NonWhite', 'Male-NonWhite', 'Male-White'], \n",
    "                  'protected': 'Female-NonWhite'\n",
    "                 }\n",
    "\n",
    "# st-specific params\n",
    "# size of neiuborhoods\n",
    "n = 15\n",
    "# significance level\n",
    "alpha = 0.05\n",
    "# tau diviation\n",
    "tau = 0.0"
   ]
  },
  {
   "cell_type": "markdown",
   "metadata": {},
   "source": [
    "#### Standard ST (stST)"
   ]
  },
  {
   "cell_type": "code",
   "execution_count": null,
   "metadata": {},
   "outputs": [],
   "source": [
    "test_df = df.copy()\n",
    "\n",
    "st = SituationTesting()\n",
    "st.setup_baseline(test_df, nominal_atts=['GenderRace'], continuous_atts=['LSAT', 'UGPA'])\n",
    "\n",
    "int_res_df['stST'] = st.run(target_att=feat_trgt, target_val=feat_trgt_vals,\n",
    "                            sensitive_att=feat_prot, sensitive_val=feat_prot_vals,\n",
    "                            k=n, alpha=alpha, tau=tau)"
   ]
  },
  {
   "cell_type": "code",
   "execution_count": null,
   "metadata": {},
   "outputs": [],
   "source": [
    "int_res_df[(int_res_df['stST'] > tau)].shape[0]"
   ]
  },
  {
   "cell_type": "code",
   "execution_count": null,
   "metadata": {},
   "outputs": [],
   "source": [
    "# positive discrimination?\n",
    "int_res_df[(int_res_df['stST'] < tau)].shape[0]"
   ]
  },
  {
   "cell_type": "markdown",
   "metadata": {},
   "source": [
    "#### Counterfactual Situation Testing (cfST)"
   ]
  },
  {
   "cell_type": "code",
   "execution_count": null,
   "metadata": {},
   "outputs": [],
   "source": [
    "test_df    = df.copy()\n",
    "test_cf_df = cf_df.copy()\n",
    "\n",
    "# don't include the centers\n",
    "cf_st = SituationTesting()\n",
    "cf_st.setup_baseline(test_df, test_cf_df, nominal_atts=['Race'], continuous_atts=['LSAT', 'UGPA'])\n",
    "\n",
    "int_res_df['cfST'] = cf_st.run(target_att=feat_trgt, target_val=feat_trgt_vals, \n",
    "                               sensitive_att=feat_prot, sensitive_val=feat_prot_vals,\n",
    "                               include_centers=False,\n",
    "                               k=n, alpha=alpha, tau=tau)"
   ]
  },
  {
   "cell_type": "code",
   "execution_count": null,
   "metadata": {},
   "outputs": [],
   "source": [
    "int_res_df[(int_res_df['cfST'] > tau)].shape[0]"
   ]
  },
  {
   "cell_type": "code",
   "execution_count": null,
   "metadata": {},
   "outputs": [],
   "source": [
    "# positive discrimination?\n",
    "int_res_df[(int_res_df['cfST'] < tau)].shape[0]"
   ]
  },
  {
   "cell_type": "markdown",
   "metadata": {},
   "source": [
    "#### Counterfactual Fairness"
   ]
  },
  {
   "cell_type": "code",
   "execution_count": null,
   "metadata": {},
   "outputs": [],
   "source": [
    "int_res_df['CF'] = cf_st.res_counterfactual_unfairness"
   ]
  },
  {
   "cell_type": "code",
   "execution_count": null,
   "metadata": {},
   "outputs": [],
   "source": [
    "int_res_df[int_res_df['CF'] == 1].shape[0]"
   ]
  },
  {
   "cell_type": "code",
   "execution_count": null,
   "metadata": {},
   "outputs": [],
   "source": [
    "int_res_df[int_res_df['CF'] == 2].shape[0]"
   ]
  },
  {
   "cell_type": "markdown",
   "metadata": {},
   "source": [
    "#### cfST with centers"
   ]
  },
  {
   "cell_type": "code",
   "execution_count": null,
   "metadata": {},
   "outputs": [],
   "source": [
    "test_df    = df.copy()\n",
    "test_cf_df = cf_df.copy()\n",
    "\n",
    "# include the centers\n",
    "wcf_st = SituationTesting()\n",
    "wcf_st.setup_baseline(test_df, test_cf_df, nominal_atts=['Race'], continuous_atts=['LSAT', 'UGPA'])\n",
    "\n",
    "int_res_df['cfST_w'] = wcf_st.run(target_att=feat_trgt, target_val=feat_trgt_vals, \n",
    "                                  sensitive_att=feat_prot, sensitive_val=feat_prot_vals,\n",
    "                                  include_centers=True,\n",
    "                                  k=n, alpha=alpha, tau=tau)"
   ]
  },
  {
   "cell_type": "code",
   "execution_count": null,
   "metadata": {},
   "outputs": [],
   "source": [
    "int_res_df[(int_res_df['cfST_w'] > tau)].shape[0]"
   ]
  },
  {
   "cell_type": "code",
   "execution_count": null,
   "metadata": {},
   "outputs": [],
   "source": [
    "# positive discrimination?\n",
    "int_res_df[(int_res_df['cfST_w'] < tau)].shape[0]"
   ]
  },
  {
   "cell_type": "code",
   "execution_count": null,
   "metadata": {},
   "outputs": [],
   "source": []
  }
 ],
 "metadata": {
  "kernelspec": {
   "display_name": "Python 3",
   "language": "python",
   "name": "python3"
  },
  "language_info": {
   "codemirror_mode": {
    "name": "ipython",
    "version": 3
   },
   "file_extension": ".py",
   "mimetype": "text/x-python",
   "name": "python",
   "nbconvert_exporter": "python",
   "pygments_lexer": "ipython3",
   "version": "3.8.5"
  }
 },
 "nbformat": 4,
 "nbformat_minor": 4
}
