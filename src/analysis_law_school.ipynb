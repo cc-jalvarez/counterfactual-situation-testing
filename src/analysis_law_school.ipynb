{
 "cells": [
  {
   "cell_type": "markdown",
   "metadata": {},
   "source": [
    "# Analysis for Section 5.3"
   ]
  },
  {
   "cell_type": "code",
   "execution_count": 1,
   "metadata": {},
   "outputs": [],
   "source": [
    "%load_ext autoreload\n",
    "%autoreload 2\n",
    "import os\n",
    "import sys\n",
    "import random\n",
    "import pandas as pd\n",
    "import numpy as np\n",
    "import seaborn as sns\n",
    "import matplotlib.pyplot as plt\n",
    "# src files\n",
    "from situation_testing.situation_testing import SituationTesting\n",
    "# plot params\n",
    "plt.style.use('seaborn-whitegrid')\n",
    "plt.rc('font', size=11)\n",
    "plt.rc('legend', fontsize=11)\n",
    "plt.rc('lines', linewidth=2)\n",
    "plt.rc('axes', linewidth=2)\n",
    "plt.rc('axes', edgecolor='k')\n",
    "plt.rc('xtick.major', width=2)\n",
    "plt.rc('xtick.major', size=6)\n",
    "plt.rc('ytick.major', width=2)\n",
    "plt.rc('ytick.major', size=6)\n",
    "plt.rc('pdf', fonttype=42)\n",
    "plt.rc('ps', fonttype=42)"
   ]
  },
  {
   "cell_type": "code",
   "execution_count": 2,
   "metadata": {},
   "outputs": [],
   "source": [
    "# working directory and relevant folders\n",
    "wd = os.path.dirname(os.getcwd())\n",
    "data_path = os.path.abspath(os.path.join(wd, 'data')) + '\\\\'\n",
    "resu_path = os.path.abspath(os.path.join(wd, 'results')) + '\\\\'\n",
    "figu_path = resu_path + 'figures' + '\\\\'"
   ]
  },
  {
   "cell_type": "markdown",
   "metadata": {},
   "source": [
    "## Plots for k-analysis"
   ]
  },
  {
   "cell_type": "code",
   "execution_count": 3,
   "metadata": {},
   "outputs": [],
   "source": [
    "# Gender (G)\n",
    "g_k_results = pd.read_csv(resu_path + 'res_LawSchool_Male_abs.csv', sep='|')\n",
    "# Race (R)\n",
    "r_k_results = pd.read_csv(resu_path + 'res_LawSchool_White_abs.csv', sep='|')\n",
    "# Multiple\n",
    "multi_k_results = pd.read_csv(resu_path + 'res_LawSchool_Multiple_abs.csv', sep='|')\n",
    "# Intersectional\n",
    "inter_k_results = pd.read_csv(resu_path + 'res_LawSchool_MaleWhite_abs.csv', sep='|')"
   ]
  },
  {
   "cell_type": "code",
   "execution_count": 4,
   "metadata": {},
   "outputs": [],
   "source": [
    "# For some methods, we find 0 cases at k=1, elading to NaNs in the significants measures | TODO: update code\n",
    "g_k_results.fillna(0, inplace=True)\n",
    "r_k_results.fillna(0, inplace=True)\n",
    "multi_k_results.fillna(0, inplace=True)\n",
    "inter_k_results.fillna(0, inplace=True)"
   ]
  },
  {
   "cell_type": "code",
   "execution_count": 5,
   "metadata": {},
   "outputs": [
    {
     "data": {
      "text/plain": [
       "[1, 50, 100, 150, 200, 250, 300, 350, 400, 450, 500]"
      ]
     },
     "execution_count": 5,
     "metadata": {},
     "output_type": "execute_result"
    }
   ],
   "source": [
    "# these results go from 1 to 500\n",
    "K_l = 1\n",
    "k_u = 500\n",
    "x_axis = list(range(50, k_u + 1, 50))\n",
    "x_axis.append(1)\n",
    "x_axis = sorted(x_axis)\n",
    "x_axis"
   ]
  },
  {
   "cell_type": "markdown",
   "metadata": {},
   "source": [
    "### Single discrimination based w.r.t. G: CST w/o and ST"
   ]
  },
  {
   "cell_type": "code",
   "execution_count": null,
   "metadata": {},
   "outputs": [],
   "source": [
    "# plt.plot(g_k_results['k'], g_k_results['CSTwo_delta'], label='CST w/o')\n",
    "# plt.plot(g_k_results['k'], g_k_results['ST_delta'], label='ST')\n",
    "# plt.plot(g_k_results['k'], g_k_results['CSTwo_delta_sig'], label='CST w/o (sig.)')\n",
    "# plt.plot(g_k_results['k'], g_k_results['ST_delta_sig'], label='ST (sig.)')\n",
    "# plt.xlim(K_l, k_u)\n",
    "# plt.xticks(x_axis)\n",
    "# plt.xlabel(\"$k$\")\n",
    "# plt.ylim(0.0, 1.05)\n",
    "# plt.ylabel(\"Avg. $\\Delta p$ for discrimination cases w.r.t. $G$\")\n",
    "# plt.axvline(x=250, linestyle='--', color='black', label='$k=250$')\n",
    "# plt.legend()\n",
    "# # plt.title('CST w/o vs ST')\n",
    "# plt.savefig(os.path.join(figu_path, 'G_CSTwoVsST_delta_versus_k.png'), dpi=300, bbox_inches='tight')\n",
    "# plt.show()"
   ]
  },
  {
   "cell_type": "code",
   "execution_count": null,
   "metadata": {},
   "outputs": [],
   "source": [
    "# plt.plot(g_k_results['k'], g_k_results['CSTwo'], label='CST w/o')\n",
    "# plt.plot(g_k_results['k'], g_k_results['ST'], label='ST')\n",
    "# plt.plot(g_k_results['k'], g_k_results['CSTwo_sig'], label='CST w/o (sig.)')\n",
    "# plt.plot(g_k_results['k'], g_k_results['ST_sig'], label='ST (sig.)')\n",
    "# plt.xlim(K_l, k_u)\n",
    "# plt.xticks(x_axis)\n",
    "# plt.ylim(0, g_k_results.iloc[-1].max() + 15)\n",
    "# # plt.ylim(k_results.iloc[0].min() - 5, k_results.iloc[-1].max() + 5)\n",
    "# plt.axvline(x=250, linestyle='--', color='black', label='$k=250$')\n",
    "# plt.ylabel(\"Num. of discrimination cases w.r.t. $G$\")\n",
    "# plt.legend()\n",
    "# # plt.title('CST w/o vs ST')\n",
    "# plt.savefig(os.path.join(figu_path, 'G_CSTwoVsST_nums_versus_k.png'), dpi=300, bbox_inches='tight')\n",
    "# plt.show()"
   ]
  },
  {
   "cell_type": "markdown",
   "metadata": {},
   "source": [
    "### Single discrimination w.r.t. R: CST w/o and ST"
   ]
  },
  {
   "cell_type": "code",
   "execution_count": null,
   "metadata": {},
   "outputs": [],
   "source": [
    "# plt.plot(r_k_results['k'], r_k_results['CSTwo_delta'], label='CST w/o')\n",
    "# plt.plot(r_k_results['k'], r_k_results['ST_delta'], label='ST')\n",
    "# plt.plot(r_k_results['k'], r_k_results['CSTwo_delta_sig'], label='CST w/o (sig.)')\n",
    "# plt.plot(r_k_results['k'], r_k_results['ST_delta_sig'], label='ST (sig.)')\n",
    "# plt.xlim(K_l, k_u)\n",
    "# plt.xticks(x_axis)\n",
    "# plt.xlabel(\"$k$\")\n",
    "# plt.ylim(0.0, 1.05)\n",
    "# plt.ylabel(\"Avg. $\\Delta p$ for discrimination cases w.r.t. $R$\")\n",
    "# plt.axvline(x=250, linestyle='--', color='black', label='$k=250$')\n",
    "# plt.legend()\n",
    "# # plt.title('CST w/o vs ST')\n",
    "# plt.savefig(os.path.join(figu_path, 'R_CSTwoVsST_delta_versus_k.png'), dpi=300, bbox_inches='tight')\n",
    "# plt.show()"
   ]
  },
  {
   "cell_type": "code",
   "execution_count": null,
   "metadata": {},
   "outputs": [],
   "source": [
    "# plt.plot(r_k_results['k'], r_k_results['CSTwo'], label='CST w/o')\n",
    "# plt.plot(r_k_results['k'], r_k_results['ST'], label='ST')\n",
    "# plt.plot(r_k_results['k'], r_k_results['CSTwo_sig'], label='CST w/o (sig.)')\n",
    "# plt.plot(r_k_results['k'], r_k_results['ST_sig'], label='ST (sig.)')\n",
    "# plt.xlim(K_l, k_u)\n",
    "# plt.xticks(x_axis)\n",
    "# plt.xlabel(\"$k$\")\n",
    "# plt.ylim(0, r_k_results.iloc[-1].max() + 15)\n",
    "# # plt.ylim(k_results.iloc[0].min() - 5, k_results.iloc[-1].max() + 5)\n",
    "# plt.axvline(x=250, linestyle='--', color='black', label='$k=250$')\n",
    "# plt.ylabel(\"Num. of discrimination cases w.r.t. $R$\")\n",
    "# plt.legend()\n",
    "# # plt.title('CST w/o vs ST')\n",
    "# plt.savefig(os.path.join(figu_path, 'R_CSTwoVsST_nums_versus_k.png'), dpi=300, bbox_inches='tight')\n",
    "# plt.show()"
   ]
  },
  {
   "cell_type": "markdown",
   "metadata": {},
   "source": [
    "### Single discrimination based w.r.t. G: CST w/ and CF"
   ]
  },
  {
   "cell_type": "code",
   "execution_count": null,
   "metadata": {},
   "outputs": [],
   "source": [
    "# plt.plot(g_k_results['k'], g_k_results['CSTwi'], label='CST w/')\n",
    "# plt.plot(g_k_results['k'], g_k_results['CF'], label='CF')\n",
    "# plt.plot(g_k_results['k'], g_k_results['CSTwi_sig'], label='CST w/ (sig.)')\n",
    "# plt.plot(g_k_results['k'], g_k_results['CF_sig'], label='CF (sig.)')\n",
    "# plt.xlim(K_l, k_u)\n",
    "# plt.xticks(x_axis)\n",
    "# plt.xlabel(\"$k$\")\n",
    "# plt.ylim(0, g_k_results.iloc[-1].max() + 15)\n",
    "# # plt.ylim(k_results.iloc[0].min() - 5, k_results.iloc[-1].max() + 5)\n",
    "# plt.ylabel(\"Num. of discrimination cases w.r.t. $G$\")\n",
    "# plt.axvline(x=250, linestyle='--', color='black', label='$k=250$')\n",
    "# plt.legend()\n",
    "# # plt.title('CST w/ vs CF')\n",
    "# plt.savefig(os.path.join(figu_path, 'G_CSTwiVsCF_nums_versus_k.png'), dpi=300, bbox_inches='tight')\n",
    "# plt.show()"
   ]
  },
  {
   "cell_type": "markdown",
   "metadata": {},
   "source": [
    "### Single discrimination based w.r.t. R: CST w/ and CF"
   ]
  },
  {
   "cell_type": "code",
   "execution_count": null,
   "metadata": {},
   "outputs": [],
   "source": [
    "# plt.plot(r_k_results['k'], r_k_results['CSTwi'], label='CST w/')\n",
    "# plt.plot(r_k_results['k'], r_k_results['CF'], label='CF')\n",
    "# plt.plot(r_k_results['k'], r_k_results['CSTwi_sig'], label='CST w/ (sig.)')\n",
    "# plt.plot(r_k_results['k'], r_k_results['CF_sig'], label='CF (sig.)')\n",
    "# plt.xlim(K_l, k_u)\n",
    "# plt.xticks(x_axis)\n",
    "# plt.xlabel(\"$k$\")\n",
    "# plt.ylim(0, r_k_results.iloc[-1].max() + 15)\n",
    "# # plt.ylim(k_results.iloc[0].min() - 5, k_results.iloc[-1].max() + 5)\n",
    "# plt.ylabel(\"Num. of discrimination cases w.r.t. $R$\")\n",
    "# plt.axvline(x=250, linestyle='--', color='black', label='$k=250$')\n",
    "# plt.legend()\n",
    "# # plt.title('CST w/ vs CF')\n",
    "# plt.savefig(os.path.join(figu_path, 'R_CSTwiVsCF_nums_versus_k.png'), dpi=300, bbox_inches='tight')\n",
    "# plt.show()"
   ]
  },
  {
   "cell_type": "markdown",
   "metadata": {},
   "source": [
    "### Single discrimination based w.r.t. G: CST w/o and CST w/"
   ]
  },
  {
   "cell_type": "code",
   "execution_count": null,
   "metadata": {},
   "outputs": [],
   "source": [
    "# plt.plot(g_k_results['k'], g_k_results['CSTwo_delta'], label='CST w/o')\n",
    "# plt.plot(g_k_results['k'], g_k_results['CSTwi_delta'], label='CST w/')\n",
    "# plt.plot(g_k_results['k'], g_k_results['CSTwo_delta_sig'], label='CST w/o (sig.)')\n",
    "# plt.plot(g_k_results['k'], g_k_results['CSTwi_delta_sig'], label='CST w/ (sig.)')\n",
    "# plt.xlim(K_l, k_u)\n",
    "# plt.xticks(x_axis)\n",
    "# plt.xlabel(\"$k$\")\n",
    "# plt.ylim(0.0, 1.05)\n",
    "# plt.ylabel(\"Avg. $\\Delta p$ for discrimination cases w.r.t. $G$\")\n",
    "# plt.axvline(x=250, linestyle='--', color='black', label='$k=250$')\n",
    "# plt.legend()\n",
    "# # plt.title('CST w/o vs CST w/')\n",
    "# plt.savefig(os.path.join(figu_path, 'G_TwoCST_delta_versus_k.png'), dpi=300, bbox_inches='tight')\n",
    "# plt.show()"
   ]
  },
  {
   "cell_type": "code",
   "execution_count": null,
   "metadata": {},
   "outputs": [],
   "source": [
    "# plt.plot(g_k_results['k'], g_k_results['CSTwo'], label='CST w/o')\n",
    "# plt.plot(g_k_results['k'], g_k_results['CSTwi'], label='CST w/')\n",
    "# plt.plot(g_k_results['k'], g_k_results['CSTwo_sig'], label='CST w/o (sig.)')\n",
    "# plt.plot(g_k_results['k'], g_k_results['CSTwi_sig'], label='CST w/ (sig.)')\n",
    "# plt.xlim(K_l, k_u)\n",
    "# plt.xticks(x_axis)\n",
    "# plt.xlabel(\"$k$\")\n",
    "# plt.ylim(0, g_k_results.iloc[-1].max() + 15)\n",
    "# # plt.ylim(k_results.iloc[0].min() - 5, k_results.iloc[-1].max() + 5)\n",
    "# plt.ylabel(\"Num. of discrimination cases w.r.t. $G$\")\n",
    "# plt.axvline(x=250, linestyle='--', color='black', label='$k=250$')\n",
    "# plt.legend()\n",
    "# # plt.title('CST w/o vs CST w/')\n",
    "# plt.savefig(os.path.join(figu_path, 'G_TwoCST_nums_versus_k.png'), dpi=300, bbox_inches='tight')\n",
    "# plt.show()"
   ]
  },
  {
   "cell_type": "markdown",
   "metadata": {},
   "source": [
    "### Single discrimination based w.r.t. R: CST w/o and CST w/"
   ]
  },
  {
   "cell_type": "code",
   "execution_count": null,
   "metadata": {},
   "outputs": [],
   "source": [
    "# plt.plot(r_k_results['k'], r_k_results['CSTwo_delta'], label='CST w/o')\n",
    "# plt.plot(r_k_results['k'], r_k_results['CSTwi_delta'], label='CST w/')\n",
    "# plt.plot(r_k_results['k'], r_k_results['CSTwo_delta_sig'], label='CST w/o (sig.)')\n",
    "# plt.plot(r_k_results['k'], r_k_results['CSTwi_delta_sig'], label='CST w/ (sig.)')\n",
    "# plt.xlim(K_l, k_u)\n",
    "# plt.xticks(x_axis)\n",
    "# plt.xlabel(\"$k$\")\n",
    "# plt.ylim(0.0, 1.05)\n",
    "# plt.ylabel(\"Avg. $\\Delta p$ for discrimination cases w.r.t. $R$\")\n",
    "# plt.axvline(x=250, linestyle='--', color='black', label='$k=250$')\n",
    "# plt.legend()\n",
    "# # plt.title('CST w/o vs CST w/')\n",
    "# plt.savefig(os.path.join(figu_path, 'R_TwoCST_delta_versus_k.png'), dpi=300, bbox_inches='tight')\n",
    "# plt.show()"
   ]
  },
  {
   "cell_type": "code",
   "execution_count": null,
   "metadata": {},
   "outputs": [],
   "source": [
    "# plt.plot(r_k_results['k'], r_k_results['CSTwo'], label='CST w/o')\n",
    "# plt.plot(r_k_results['k'], r_k_results['CSTwi'], label='CST w/')\n",
    "# plt.plot(r_k_results['k'], r_k_results['CSTwo_sig'], label='CST w/o (sig.)')\n",
    "# plt.plot(r_k_results['k'], r_k_results['CSTwi_sig'], label='CST w/ (sig.)')\n",
    "# plt.xlim(K_l, k_u)\n",
    "# plt.xticks(x_axis)\n",
    "# plt.xlabel(\"$k$\")\n",
    "# plt.ylim(0, g_k_results.iloc[-1].max() + 15)\n",
    "# # plt.ylim(k_results.iloc[0].min() - 5, k_results.iloc[-1].max() + 5)\n",
    "# plt.ylabel(\"Num. of discrimination cases w.r.t. $R$\")\n",
    "# plt.axvline(x=250, linestyle='--', color='black', label='$k=250$')\n",
    "# plt.legend()\n",
    "# # plt.title('CST w/o vs CST w/')\n",
    "# plt.savefig(os.path.join(figu_path, 'R_TwoCST_nums_versus_k.png'), dpi=300, bbox_inches='tight')\n",
    "# plt.show()"
   ]
  },
  {
   "cell_type": "markdown",
   "metadata": {},
   "source": [
    "### Single discrimiantion: all together"
   ]
  },
  {
   "cell_type": "code",
   "execution_count": 6,
   "metadata": {},
   "outputs": [
    {
     "data": {
      "image/png": "[encoded data removed]",
      "text/plain": [
       "<Figure size 432x288 with 1 Axes>"
      ]
     },
     "metadata": {},
     "output_type": "display_data"
    }
   ],
   "source": [
    "plt.plot(g_k_results['k'], g_k_results['CSTwo_delta'], label='CST w/o')\n",
    "plt.plot(g_k_results['k'], g_k_results['CSTwo_delta_sig'], label='CST w/o (sig.)')\n",
    "plt.plot(g_k_results['k'], g_k_results['CSTwi_delta'], label='CST w/')\n",
    "plt.plot(g_k_results['k'], g_k_results['CSTwi_delta_sig'], label='CST w/ (sig.)')\n",
    "plt.plot(g_k_results['k'], g_k_results['ST_delta'], label='ST')\n",
    "plt.plot(g_k_results['k'], g_k_results['ST_delta_sig'], label='ST (sig.)')\n",
    "plt.xlim(K_l, k_u)\n",
    "plt.xticks(x_axis)\n",
    "plt.xlabel(\"$k$\")\n",
    "plt.ylim(0.0, 1.0)\n",
    "plt.ylabel(\"Avg. $\\Delta p$ for discrimination cases w.r.t. $G$\")\n",
    "plt.axvline(x=250, linestyle='--', color='black') #, label='$k=250$')\n",
    "plt.legend(loc='upper right', ncol=1, fancybox=True)\n",
    "plt.savefig(os.path.join(figu_path, 'G_all_delta_versus_k.png'), dpi=300, bbox_inches='tight')\n",
    "plt.show()"
   ]
  },
  {
   "cell_type": "code",
   "execution_count": 7,
   "metadata": {},
   "outputs": [
    {
     "data": {
      "image/png": "[encoded data removed]",
      "text/plain": [
       "<Figure size 432x288 with 1 Axes>"
      ]
     },
     "metadata": {},
     "output_type": "display_data"
    }
   ],
   "source": [
    "plt.plot(g_k_results['k'], g_k_results['CSTwo'], label='CST w/o')\n",
    "plt.plot(g_k_results['k'], g_k_results['CSTwo_sig'], label='CST w/o (sig.)')\n",
    "plt.plot(g_k_results['k'], g_k_results['CSTwi'], label='CST w/')\n",
    "plt.plot(g_k_results['k'], g_k_results['CSTwi_sig'], label='CST w/ (sig.)')\n",
    "plt.plot(g_k_results['k'], g_k_results['ST'], label='ST')\n",
    "plt.plot(g_k_results['k'], g_k_results['ST_sig'], label='ST (sig.)')\n",
    "plt.plot(g_k_results['k'], g_k_results['CF'], label='CF')\n",
    "plt.plot(g_k_results['k'], g_k_results['CF_sig'], label='CF (sig.)')\n",
    "plt.xlim(K_l, k_u)\n",
    "plt.xticks(x_axis)\n",
    "plt.ylim(0, 850) #g_k_results.iloc[-1].max() + 15)\n",
    "# plt.ylim(k_results.iloc[0].min() - 5, k_results.iloc[-1].max() + 5)\n",
    "plt.axvline(x=250, linestyle='--', color='black') #, label='$k=250$')\n",
    "plt.ylabel(\"Num. of discrimination cases w.r.t. $G$\")\n",
    "plt.legend(loc='upper center', ncol=2, fancybox=True)\n",
    "# plt.title('CST w/o vs ST')\n",
    "plt.savefig(os.path.join(figu_path, 'G_all_nums_versus_k.png'), dpi=300, bbox_inches='tight')\n",
    "plt.show()"
   ]
  },
  {
   "cell_type": "code",
   "execution_count": 8,
   "metadata": {},
   "outputs": [
    {
     "data": {
      "image/png": "[encoded data removed]",
      "text/plain": [
       "<Figure size 432x288 with 1 Axes>"
      ]
     },
     "metadata": {},
     "output_type": "display_data"
    }
   ],
   "source": [
    "plt.plot(r_k_results['k'], r_k_results['CSTwo_delta'], label='CST w/o')\n",
    "plt.plot(r_k_results['k'], r_k_results['CSTwo_delta_sig'], label='CST w/o (sig.)')\n",
    "plt.plot(r_k_results['k'], r_k_results['CSTwi_delta'], label='CST w/')\n",
    "plt.plot(r_k_results['k'], r_k_results['CSTwi_delta_sig'], label='CST w/ (sig.)')\n",
    "plt.plot(r_k_results['k'], r_k_results['ST_delta'], label='ST')\n",
    "plt.plot(r_k_results['k'], r_k_results['ST_delta_sig'], label='ST (sig.)')\n",
    "plt.xlim(K_l, k_u)\n",
    "plt.xticks(x_axis)\n",
    "plt.xlabel(\"$k$\")\n",
    "plt.ylim(0.0, 1.0)\n",
    "plt.ylabel(\"Avg. $\\Delta p$ for discrimination cases w.r.t. $R$\")\n",
    "plt.axvline(x=250, linestyle='--', color='black') #, label='$k=250$')\n",
    "plt.legend(loc='upper right', ncol=1, fancybox=True)\n",
    "plt.savefig(os.path.join(figu_path, 'R_all_delta_versus_k.png'), dpi=300, bbox_inches='tight')\n",
    "plt.show()"
   ]
  },
  {
   "cell_type": "code",
   "execution_count": 9,
   "metadata": {},
   "outputs": [
    {
     "data": {
      "image/png": "[encoded data removed]",
      "text/plain": [
       "<Figure size 432x288 with 1 Axes>"
      ]
     },
     "metadata": {},
     "output_type": "display_data"
    }
   ],
   "source": [
    "plt.plot(r_k_results['k'], r_k_results['CSTwo'], label='CST w/o')\n",
    "plt.plot(r_k_results['k'], r_k_results['CSTwo_sig'], label='CST w/o (sig.)')\n",
    "plt.plot(r_k_results['k'], r_k_results['CSTwi'], label='CST w/')\n",
    "plt.plot(r_k_results['k'], r_k_results['CSTwi_sig'], label='CST w/ (sig.)')\n",
    "plt.plot(r_k_results['k'], r_k_results['ST'], label='ST')\n",
    "plt.plot(r_k_results['k'], r_k_results['ST_sig'], label='ST (sig.)')\n",
    "plt.plot(r_k_results['k'], r_k_results['CF'], label='CF')\n",
    "plt.plot(r_k_results['k'], r_k_results['CF_sig'], label='CF (sig.)')\n",
    "plt.xlim(K_l, k_u)\n",
    "plt.xticks(x_axis)\n",
    "plt.ylim(0, 850) #g_k_results.iloc[-1].max() + 15)\n",
    "# plt.ylim(k_results.iloc[0].min() - 5, k_results.iloc[-1].max() + 5)\n",
    "plt.axvline(x=250, linestyle='--', color='black') #, label='$k=250$')\n",
    "plt.ylabel(\"Num. of discrimination cases w.r.t. $R$\")\n",
    "plt.legend(loc='upper center', ncol=2, fancybox=True)\n",
    "# plt.title('CST w/o vs ST')\n",
    "plt.savefig(os.path.join(figu_path, 'R_all_nums_versus_k.png'), dpi=300, bbox_inches='tight')\n",
    "plt.show()"
   ]
  },
  {
   "cell_type": "markdown",
   "metadata": {},
   "source": [
    "### Multiple discrimination"
   ]
  },
  {
   "cell_type": "code",
   "execution_count": 10,
   "metadata": {},
   "outputs": [
    {
     "data": {
      "image/png": "[encoded data removed]",
      "text/plain": [
       "<Figure size 432x288 with 1 Axes>"
      ]
     },
     "metadata": {},
     "output_type": "display_data"
    }
   ],
   "source": [
    "plt.plot(multi_k_results['k'], multi_k_results['ST_delta'], label='ST')\n",
    "plt.plot(multi_k_results['k'], multi_k_results['ST_delta_sig'], label='ST (sig.)')\n",
    "plt.plot(multi_k_results['k'], multi_k_results['CSTwo_delta'], label='CST w/o')\n",
    "plt.plot(multi_k_results['k'], multi_k_results['CSTwi_delta'], label='CST w/')\n",
    "plt.plot(multi_k_results['k'], multi_k_results['CSTwo_delta_sig'], label='CST w/o (sig.)')\n",
    "plt.plot(multi_k_results['k'], multi_k_results['CSTwi_delta_sig'], label='CST w/ (sig.)')\n",
    "plt.xlim(K_l, k_u)\n",
    "plt.xticks(x_axis)\n",
    "plt.xlabel(\"$k$\")\n",
    "plt.ylim(0.0, 1.0)\n",
    "plt.ylabel(\"Avg. $\\Delta p$ for multi. discrimination cases\")\n",
    "plt.axvline(x=250, linestyle='--', color='black')\n",
    "# plt.legend(loc='upper center', ncol=2, fancybox=True)\n",
    "plt.legend()\n",
    "plt.savefig(os.path.join(figu_path, 'Multi_all_deltas_versus_k.png'), dpi=300, bbox_inches='tight')\n",
    "plt.show()"
   ]
  },
  {
   "cell_type": "code",
   "execution_count": 11,
   "metadata": {},
   "outputs": [
    {
     "data": {
      "image/png": "[encoded data removed]",
      "text/plain": [
       "<Figure size 432x288 with 1 Axes>"
      ]
     },
     "metadata": {},
     "output_type": "display_data"
    }
   ],
   "source": [
    "plt.plot(multi_k_results['k'], multi_k_results['ST'], label='ST')\n",
    "plt.plot(multi_k_results['k'], multi_k_results['CSTwo'], label='CST w/o')\n",
    "plt.plot(multi_k_results['k'], multi_k_results['CSTwi'], label='CST w/')\n",
    "plt.plot(multi_k_results['k'], multi_k_results['ST_sig'], label='ST (sig.)')\n",
    "plt.plot(multi_k_results['k'], multi_k_results['CSTwo_sig'], label='CST w/o (sig.)')\n",
    "plt.plot(multi_k_results['k'], multi_k_results['CSTwi_sig'], label='CST w/ (sig.)')\n",
    "plt.plot(multi_k_results['k'], multi_k_results['CF'], label='CF')\n",
    "plt.plot(multi_k_results['k'], multi_k_results['CF_sig'], label='CF (sig.)')\n",
    "plt.xlim(K_l, k_u)\n",
    "plt.xticks(x_axis)\n",
    "plt.xlabel(\"$k$\")\n",
    "plt.ylim(0, 75) #multi_k_results.iloc[-1].max() + 15)\n",
    "plt.ylabel(\"Num. of multi. discrimination cases\")\n",
    "plt.axvline(x=250, linestyle='--', color='black')\n",
    "plt.legend(loc='upper center', ncol=2, fancybox=True)\n",
    "# plt.legend()\n",
    "plt.savefig(os.path.join(figu_path, 'Multi_all_nums_versus_k.png'), dpi=300, bbox_inches='tight')\n",
    "plt.show()"
   ]
  },
  {
   "cell_type": "markdown",
   "metadata": {},
   "source": [
    "### Intersectional discrimination"
   ]
  },
  {
   "cell_type": "code",
   "execution_count": 12,
   "metadata": {},
   "outputs": [
    {
     "data": {
      "image/png": "[encoded data removed]",
      "text/plain": [
       "<Figure size 432x288 with 1 Axes>"
      ]
     },
     "metadata": {},
     "output_type": "display_data"
    }
   ],
   "source": [
    "plt.plot(inter_k_results['k'], inter_k_results['ST_delta'], label='ST')\n",
    "plt.plot(inter_k_results['k'], inter_k_results['ST_delta_sig'], label='ST (sig.)')\n",
    "plt.plot(inter_k_results['k'], inter_k_results['CSTwo_delta'], label='CST w/o')\n",
    "plt.plot(inter_k_results['k'], inter_k_results['CSTwi_delta'], label='CST w/')\n",
    "plt.plot(inter_k_results['k'], inter_k_results['CSTwo_delta_sig'], label='CST w/o (sig.)')\n",
    "plt.plot(inter_k_results['k'], inter_k_results['CSTwi_delta_sig'], label='CST w/ (sig.)')\n",
    "plt.xlim(K_l, k_u)\n",
    "plt.xticks(x_axis)\n",
    "plt.xlabel(\"$k$\")\n",
    "plt.ylim(0.0, 1.0)\n",
    "plt.ylabel(\"Avg. $\\Delta p$ for inter. discrimination cases\")\n",
    "plt.axvline(x=250, linestyle='--', color='black')\n",
    "plt.legend()\n",
    "plt.savefig(os.path.join(figu_path, 'Inter_all_deltas_versus_k.png'), dpi=300, bbox_inches='tight')\n",
    "plt.show()"
   ]
  },
  {
   "cell_type": "code",
   "execution_count": 13,
   "metadata": {},
   "outputs": [
    {
     "data": {
      "image/png": "[encoded data removed]",
      "text/plain": [
       "<Figure size 432x288 with 1 Axes>"
      ]
     },
     "metadata": {},
     "output_type": "display_data"
    }
   ],
   "source": [
    "plt.plot(inter_k_results['k'], inter_k_results['ST'], label='ST')\n",
    "plt.plot(inter_k_results['k'], inter_k_results['CSTwo'], label='CST w/o')\n",
    "plt.plot(inter_k_results['k'], inter_k_results['CSTwi'], label='CST w/')\n",
    "plt.plot(inter_k_results['k'], inter_k_results['ST_sig'], label='ST (sig.)')\n",
    "plt.plot(inter_k_results['k'], inter_k_results['CSTwo_sig'], label='CST w/o (sig.)')\n",
    "plt.plot(inter_k_results['k'], inter_k_results['CSTwi_sig'], label='CST w/ (sig.)')\n",
    "plt.plot(inter_k_results['k'], inter_k_results['CF'], label='CF')\n",
    "plt.plot(inter_k_results['k'], inter_k_results['CF_sig'], label='CF (sig.)')\n",
    "plt.xlim(K_l, k_u)\n",
    "plt.xticks(x_axis)\n",
    "plt.xlabel(\"$k$\")\n",
    "plt.ylim(0, 325) #inter_k_results.iloc[-1].max() + 15)\n",
    "plt.ylabel(\"Num. of inter. discrimination cases\")\n",
    "plt.axvline(x=250, linestyle='--', color='black')\n",
    "plt.legend(loc='upper center', ncol=2, fancybox=True)\n",
    "# plt.legend()\n",
    "plt.savefig(os.path.join(figu_path, 'Inter_all_nums_versus_k.png'), dpi=300, bbox_inches='tight')\n",
    "plt.show()"
   ]
  },
  {
   "cell_type": "markdown",
   "metadata": {},
   "source": [
    "## Summary stats: general and for a given $k$"
   ]
  },
  {
   "cell_type": "code",
   "execution_count": 35,
   "metadata": {},
   "outputs": [
    {
     "data": {
      "text/html": [
       "<div>\n",
       "<style scoped>\n",
       "    .dataframe tbody tr th:only-of-type {\n",
       "        vertical-align: middle;\n",
       "    }\n",
       "\n",
       "    .dataframe tbody tr th {\n",
       "        vertical-align: top;\n",
       "    }\n",
       "\n",
       "    .dataframe thead th {\n",
       "        text-align: right;\n",
       "    }\n",
       "</style>\n",
       "<table border=\"1\" class=\"dataframe\">\n",
       "  <thead>\n",
       "    <tr style=\"text-align: right;\">\n",
       "      <th></th>\n",
       "      <th>Gender</th>\n",
       "      <th>Race</th>\n",
       "      <th>LSAT</th>\n",
       "      <th>UGPA</th>\n",
       "    </tr>\n",
       "  </thead>\n",
       "  <tbody>\n",
       "    <tr>\n",
       "      <th>0</th>\n",
       "      <td>Female</td>\n",
       "      <td>White</td>\n",
       "      <td>39.0</td>\n",
       "      <td>3.1</td>\n",
       "    </tr>\n",
       "    <tr>\n",
       "      <th>1</th>\n",
       "      <td>Female</td>\n",
       "      <td>White</td>\n",
       "      <td>36.0</td>\n",
       "      <td>3.0</td>\n",
       "    </tr>\n",
       "    <tr>\n",
       "      <th>2</th>\n",
       "      <td>Male</td>\n",
       "      <td>White</td>\n",
       "      <td>30.0</td>\n",
       "      <td>3.1</td>\n",
       "    </tr>\n",
       "    <tr>\n",
       "      <th>3</th>\n",
       "      <td>Male</td>\n",
       "      <td>NonWhite</td>\n",
       "      <td>39.0</td>\n",
       "      <td>2.2</td>\n",
       "    </tr>\n",
       "    <tr>\n",
       "      <th>4</th>\n",
       "      <td>Female</td>\n",
       "      <td>White</td>\n",
       "      <td>37.0</td>\n",
       "      <td>3.4</td>\n",
       "    </tr>\n",
       "  </tbody>\n",
       "</table>\n",
       "</div>"
      ],
      "text/plain": [
       "   Gender      Race  LSAT  UGPA\n",
       "0  Female     White  39.0   3.1\n",
       "1  Female     White  36.0   3.0\n",
       "2    Male     White  30.0   3.1\n",
       "3    Male  NonWhite  39.0   2.2\n",
       "4  Female     White  37.0   3.4"
      ]
     },
     "execution_count": 35,
     "metadata": {},
     "output_type": "execute_result"
    }
   ],
   "source": [
    "# load and modify factual data (same for counterfactual data)\n",
    "org_df = pd.read_csv(data_path + 'clean_LawSchool.csv', sep='|').reset_index(drop=True)\n",
    "df = org_df[['sex', 'race_nonwhite', 'LSAT', 'UGPA']].copy()\n",
    "# df['sex'] = df['sex'].map({'Male': 0, 'Female': 1})\n",
    "# df['race_nonwhite'] = df['race_nonwhite'].map({'White': 0, 'NonWhite': 1})\n",
    "df.rename(columns={'sex': 'Gender', 'race_nonwhite': 'Race'}, inplace=True)\n",
    "df.head(5)"
   ]
  },
  {
   "cell_type": "markdown",
   "metadata": {},
   "source": [
    "## A 'known' decision maker\n",
    "\n",
    "An DM based on [the known requirements of US Law Schools](https://schools.lawschoolnumbers.com/). We assume the case for Yale School. We could not find a one-to-one converter between LSAT over 48 to over 180. 173/180 is 96%: it would be about 46.1/48. We assume Yale cuts at these median values, and puts a higher weight on UGPA."
   ]
  },
  {
   "cell_type": "code",
   "execution_count": 36,
   "metadata": {},
   "outputs": [],
   "source": [
    "def add_dm(df: pd.DataFrame):\n",
    "    b1 = 0.6\n",
    "    b2 = 0.4\n",
    "    min_score = round(b1 * 3.93 + b2 * 46.1, 2)  # 20.8\n",
    "    max_score = round(b1 * 4.00 + b2 * 48.00)    # 22\n",
    "    df['Score'] = b1 * df['UGPA'] + b2 * df['LSAT']\n",
    "    df['Y'] = np.where(df['Score'] >= min_score, 1, 0)\n",
    "    return df"
   ]
  },
  {
   "cell_type": "code",
   "execution_count": 37,
   "metadata": {},
   "outputs": [
    {
     "data": {
      "text/html": [
       "<div>\n",
       "<style scoped>\n",
       "    .dataframe tbody tr th:only-of-type {\n",
       "        vertical-align: middle;\n",
       "    }\n",
       "\n",
       "    .dataframe tbody tr th {\n",
       "        vertical-align: top;\n",
       "    }\n",
       "\n",
       "    .dataframe thead th {\n",
       "        text-align: right;\n",
       "    }\n",
       "</style>\n",
       "<table border=\"1\" class=\"dataframe\">\n",
       "  <thead>\n",
       "    <tr style=\"text-align: right;\">\n",
       "      <th></th>\n",
       "      <th>Gender</th>\n",
       "      <th>Race</th>\n",
       "      <th>LSAT</th>\n",
       "      <th>UGPA</th>\n",
       "      <th>Score</th>\n",
       "      <th>Y</th>\n",
       "    </tr>\n",
       "  </thead>\n",
       "  <tbody>\n",
       "    <tr>\n",
       "      <th>0</th>\n",
       "      <td>Female</td>\n",
       "      <td>White</td>\n",
       "      <td>39.0</td>\n",
       "      <td>3.1</td>\n",
       "      <td>17.46</td>\n",
       "      <td>0</td>\n",
       "    </tr>\n",
       "    <tr>\n",
       "      <th>1</th>\n",
       "      <td>Female</td>\n",
       "      <td>White</td>\n",
       "      <td>36.0</td>\n",
       "      <td>3.0</td>\n",
       "      <td>16.20</td>\n",
       "      <td>0</td>\n",
       "    </tr>\n",
       "    <tr>\n",
       "      <th>2</th>\n",
       "      <td>Male</td>\n",
       "      <td>White</td>\n",
       "      <td>30.0</td>\n",
       "      <td>3.1</td>\n",
       "      <td>13.86</td>\n",
       "      <td>0</td>\n",
       "    </tr>\n",
       "    <tr>\n",
       "      <th>3</th>\n",
       "      <td>Male</td>\n",
       "      <td>NonWhite</td>\n",
       "      <td>39.0</td>\n",
       "      <td>2.2</td>\n",
       "      <td>16.92</td>\n",
       "      <td>0</td>\n",
       "    </tr>\n",
       "    <tr>\n",
       "      <th>4</th>\n",
       "      <td>Female</td>\n",
       "      <td>White</td>\n",
       "      <td>37.0</td>\n",
       "      <td>3.4</td>\n",
       "      <td>16.84</td>\n",
       "      <td>0</td>\n",
       "    </tr>\n",
       "  </tbody>\n",
       "</table>\n",
       "</div>"
      ],
      "text/plain": [
       "   Gender      Race  LSAT  UGPA  Score  Y\n",
       "0  Female     White  39.0   3.1  17.46  0\n",
       "1  Female     White  36.0   3.0  16.20  0\n",
       "2    Male     White  30.0   3.1  13.86  0\n",
       "3    Male  NonWhite  39.0   2.2  16.92  0\n",
       "4  Female     White  37.0   3.4  16.84  0"
      ]
     },
     "execution_count": 37,
     "metadata": {},
     "output_type": "execute_result"
    }
   ],
   "source": [
    "df = add_dm(df)\n",
    "df.head(5)"
   ]
  },
  {
   "cell_type": "markdown",
   "metadata": {},
   "source": [
    "## Summary statistics"
   ]
  },
  {
   "cell_type": "code",
   "execution_count": 38,
   "metadata": {},
   "outputs": [
    {
     "name": "stdout",
     "output_type": "stream",
     "text": [
      "Num. of applicants\n",
      "21790\n",
      "Females\n",
      "9537\n",
      "43.76778338687471\n",
      "Non-whites\n",
      "3506\n",
      "16.08994951812758\n",
      "Female-non-whites\n",
      "1833\n",
      "8.41211564938045\n"
     ]
    }
   ],
   "source": [
    "print('Num. of applicants')\n",
    "print(df.shape[0])\n",
    "###\n",
    "print('Females')\n",
    "print(df[df['Gender'] == 'Female'].shape[0])\n",
    "print(df[df['Gender'] == 'Female'].shape[0] / df.shape[0] * 100)\n",
    "###\n",
    "print('Non-whites')\n",
    "print(df[df['Race'] == 'NonWhite'].shape[0])\n",
    "print(df[df['Race'] == 'NonWhite'].shape[0] / df.shape[0] * 100)\n",
    "###\n",
    "print('Female-non-whites')\n",
    "print(df[(df['Gender'] == 'Female') & (df['Race'] == 'NonWhite')].shape[0])\n",
    "print(df[(df['Gender'] == 'Female') & (df['Race'] == 'NonWhite')].shape[0] / df.shape[0] * 100)"
   ]
  },
  {
   "cell_type": "code",
   "execution_count": 39,
   "metadata": {},
   "outputs": [
    {
     "name": "stdout",
     "output_type": "stream",
     "text": [
      "Num. of accepted applicants\n",
      "505\n",
      "2.31757687012391\n",
      "Females\n",
      "180\n",
      "0.8260670032124828\n",
      "Males\n",
      "325\n",
      "1.4915098669114273\n",
      "Non-whites\n",
      "33\n",
      "0.15144561725562183\n",
      "Whites\n",
      "472\n",
      "2.166131252868288\n",
      "Female-non-whites\n",
      "14\n",
      "0.06424965580541532\n",
      "All but female-non-whites\n",
      "491\n",
      "2.2533272143184946\n"
     ]
    }
   ],
   "source": [
    "print('Num. of accepted applicants')\n",
    "print(df[df['Y'] == 1].shape[0])\n",
    "print(df[df['Y'] == 1].shape[0] / df.shape[0] * 100)\n",
    "###\n",
    "print('Females')\n",
    "print(df[(df['Y'] == 1) & (df['Gender'] == 'Female')].shape[0])\n",
    "print(df[(df['Y'] == 1) & (df['Gender'] == 'Female')].shape[0] / df.shape[0] * 100)\n",
    "print('Males')\n",
    "print(df[(df['Y'] == 1) & (df['Gender'] == 'Male')].shape[0])\n",
    "print(df[(df['Y'] == 1) & (df['Gender'] == 'Male')].shape[0] / df.shape[0] * 100)\n",
    "###\n",
    "print('Non-whites')\n",
    "print(df[(df['Y'] == 1) & (df['Race'] == 'NonWhite')].shape[0])\n",
    "print(df[(df['Y'] == 1) & (df['Race'] == 'NonWhite')].shape[0] / df.shape[0] * 100)\n",
    "print('Whites')\n",
    "print(df[(df['Y'] == 1) & (df['Race'] == 'White')].shape[0])\n",
    "print(df[(df['Y'] == 1) & (df['Race'] == 'White')].shape[0] / df.shape[0] * 100)\n",
    "###\n",
    "print('Female-non-whites')\n",
    "print(df[(df['Y'] == 1) & (df['Gender'] == 'Female') & (df['Race'] == 'NonWhite')].shape[0])\n",
    "print(df[(df['Y'] == 1) & (df['Gender'] == 'Female') & (df['Race'] == 'NonWhite')].shape[0] / df.shape[0] * 100)\n",
    "print('All but female-non-whites')\n",
    "tot = df[(df['Y'] == 1) & (df['Gender'] == 'Female') & (df['Race'] == 'White')].shape[0] + df[(df['Y'] == 1) & (df['Gender'] == 'Male') & (df['Race'] == 'NonWhite')].shape[0] + df[(df['Y'] == 1) & (df['Gender'] == 'Male') & (df['Race'] == 'White')].shape[0]\n",
    "print(tot)\n",
    "print(tot / df.shape[0] * 100)\n"
   ]
  },
  {
   "cell_type": "markdown",
   "metadata": {},
   "source": [
    "## Parameters for the analysis (CST w/o)"
   ]
  },
  {
   "cell_type": "code",
   "execution_count": 46,
   "metadata": {},
   "outputs": [],
   "source": [
    "# --- general setup\n",
    "k = 15\n",
    "alpha = 0.05\n",
    "tau = 0.0\n",
    "# --- same attributes for prot. att. cases (read, \"do\")\n",
    "feat_trgt = 'Y'\n",
    "feat_trgt_vals = {'positive': 1, 'negative': 0}\n",
    "feat_rlvt = ['LSAT', 'UGPA']"
   ]
  },
  {
   "cell_type": "markdown",
   "metadata": {},
   "source": [
    "### Single discrimination: $G$"
   ]
  },
  {
   "cell_type": "code",
   "execution_count": 85,
   "metadata": {},
   "outputs": [
    {
     "data": {
      "text/html": [
       "<div>\n",
       "<style scoped>\n",
       "    .dataframe tbody tr th:only-of-type {\n",
       "        vertical-align: middle;\n",
       "    }\n",
       "\n",
       "    .dataframe tbody tr th {\n",
       "        vertical-align: top;\n",
       "    }\n",
       "\n",
       "    .dataframe thead th {\n",
       "        text-align: right;\n",
       "    }\n",
       "</style>\n",
       "<table border=\"1\" class=\"dataframe\">\n",
       "  <thead>\n",
       "    <tr style=\"text-align: right;\">\n",
       "      <th></th>\n",
       "      <th>Gender</th>\n",
       "      <th>Race</th>\n",
       "      <th>LSAT</th>\n",
       "      <th>UGPA</th>\n",
       "      <th>Score</th>\n",
       "      <th>Y</th>\n",
       "    </tr>\n",
       "  </thead>\n",
       "  <tbody>\n",
       "    <tr>\n",
       "      <th>0</th>\n",
       "      <td>Female</td>\n",
       "      <td>White</td>\n",
       "      <td>39.609</td>\n",
       "      <td>2.975</td>\n",
       "      <td>17.6286</td>\n",
       "      <td>0</td>\n",
       "    </tr>\n",
       "    <tr>\n",
       "      <th>1</th>\n",
       "      <td>Female</td>\n",
       "      <td>White</td>\n",
       "      <td>36.609</td>\n",
       "      <td>2.875</td>\n",
       "      <td>16.3686</td>\n",
       "      <td>0</td>\n",
       "    </tr>\n",
       "    <tr>\n",
       "      <th>2</th>\n",
       "      <td>Male</td>\n",
       "      <td>White</td>\n",
       "      <td>30.000</td>\n",
       "      <td>3.100</td>\n",
       "      <td>13.8600</td>\n",
       "      <td>0</td>\n",
       "    </tr>\n",
       "    <tr>\n",
       "      <th>3</th>\n",
       "      <td>Male</td>\n",
       "      <td>NonWhite</td>\n",
       "      <td>39.000</td>\n",
       "      <td>2.200</td>\n",
       "      <td>16.9200</td>\n",
       "      <td>0</td>\n",
       "    </tr>\n",
       "    <tr>\n",
       "      <th>4</th>\n",
       "      <td>Female</td>\n",
       "      <td>White</td>\n",
       "      <td>37.609</td>\n",
       "      <td>3.275</td>\n",
       "      <td>17.0086</td>\n",
       "      <td>0</td>\n",
       "    </tr>\n",
       "  </tbody>\n",
       "</table>\n",
       "</div>"
      ],
      "text/plain": [
       "   Gender      Race    LSAT   UGPA    Score  Y\n",
       "0  Female     White  39.609  2.975  17.6286  0\n",
       "1  Female     White  36.609  2.875  16.3686  0\n",
       "2    Male     White  30.000  3.100  13.8600  0\n",
       "3    Male  NonWhite  39.000  2.200  16.9200  0\n",
       "4  Female     White  37.609  3.275  17.0086  0"
      ]
     },
     "execution_count": 85,
     "metadata": {},
     "output_type": "execute_result"
    }
   ],
   "source": [
    "# --- specific attributes\n",
    "do = 'Male'\n",
    "feat_prot = 'Gender'\n",
    "feat_prot_vals = {'non_protected': 'Male', 'protected': 'Female'}\n",
    "# --- load the counterfactuals\n",
    "org_cf_df = pd.read_csv(data_path + '\\\\counterfactuals\\\\' + f'cf_LawSchool_lev3_do{do}.csv', sep='|').reset_index(drop=True)\n",
    "g_cf_df = org_cf_df[['Sex', 'Race', 'scf_LSAT', 'scf_UGPA']].copy()\n",
    "g_cf_df = g_cf_df.rename(columns={'Sex': 'Gender', 'scf_LSAT': 'LSAT', 'scf_UGPA': 'UGPA'})\n",
    "g_cf_df = add_dm(g_cf_df)\n",
    "g_cf_df.head(5)"
   ]
  },
  {
   "cell_type": "code",
   "execution_count": 86,
   "metadata": {},
   "outputs": [
    {
     "data": {
      "text/html": [
       "<div>\n",
       "<style scoped>\n",
       "    .dataframe tbody tr th:only-of-type {\n",
       "        vertical-align: middle;\n",
       "    }\n",
       "\n",
       "    .dataframe tbody tr th {\n",
       "        vertical-align: top;\n",
       "    }\n",
       "\n",
       "    .dataframe thead th {\n",
       "        text-align: right;\n",
       "    }\n",
       "</style>\n",
       "<table border=\"1\" class=\"dataframe\">\n",
       "  <thead>\n",
       "    <tr style=\"text-align: right;\">\n",
       "      <th></th>\n",
       "      <th>individual</th>\n",
       "      <th>p_c</th>\n",
       "      <th>p_t</th>\n",
       "      <th>delta_p</th>\n",
       "      <th>CI_1st</th>\n",
       "      <th>CI_2st</th>\n",
       "      <th>DiscEvi</th>\n",
       "      <th>StatEvi</th>\n",
       "    </tr>\n",
       "  </thead>\n",
       "  <tbody>\n",
       "    <tr>\n",
       "      <th>0</th>\n",
       "      <td>0</td>\n",
       "      <td>1.0</td>\n",
       "      <td>1.0</td>\n",
       "      <td>0.0</td>\n",
       "      <td>0.0</td>\n",
       "      <td>[0.0, 0.0]</td>\n",
       "      <td>No</td>\n",
       "      <td>No</td>\n",
       "    </tr>\n",
       "    <tr>\n",
       "      <th>1</th>\n",
       "      <td>1</td>\n",
       "      <td>1.0</td>\n",
       "      <td>1.0</td>\n",
       "      <td>0.0</td>\n",
       "      <td>0.0</td>\n",
       "      <td>[0.0, 0.0]</td>\n",
       "      <td>No</td>\n",
       "      <td>No</td>\n",
       "    </tr>\n",
       "    <tr>\n",
       "      <th>2</th>\n",
       "      <td>4</td>\n",
       "      <td>1.0</td>\n",
       "      <td>1.0</td>\n",
       "      <td>0.0</td>\n",
       "      <td>0.0</td>\n",
       "      <td>[0.0, 0.0]</td>\n",
       "      <td>No</td>\n",
       "      <td>No</td>\n",
       "    </tr>\n",
       "    <tr>\n",
       "      <th>3</th>\n",
       "      <td>5</td>\n",
       "      <td>1.0</td>\n",
       "      <td>1.0</td>\n",
       "      <td>0.0</td>\n",
       "      <td>0.0</td>\n",
       "      <td>[0.0, 0.0]</td>\n",
       "      <td>No</td>\n",
       "      <td>No</td>\n",
       "    </tr>\n",
       "    <tr>\n",
       "      <th>4</th>\n",
       "      <td>8</td>\n",
       "      <td>1.0</td>\n",
       "      <td>1.0</td>\n",
       "      <td>0.0</td>\n",
       "      <td>0.0</td>\n",
       "      <td>[0.0, 0.0]</td>\n",
       "      <td>No</td>\n",
       "      <td>No</td>\n",
       "    </tr>\n",
       "  </tbody>\n",
       "</table>\n",
       "</div>"
      ],
      "text/plain": [
       "   individual  p_c  p_t  delta_p  CI_1st      CI_2st DiscEvi StatEvi\n",
       "0           0  1.0  1.0      0.0     0.0  [0.0, 0.0]      No      No\n",
       "1           1  1.0  1.0      0.0     0.0  [0.0, 0.0]      No      No\n",
       "2           4  1.0  1.0      0.0     0.0  [0.0, 0.0]      No      No\n",
       "3           5  1.0  1.0      0.0     0.0  [0.0, 0.0]      No      No\n",
       "4           8  1.0  1.0      0.0     0.0  [0.0, 0.0]      No      No"
      ]
     },
     "execution_count": 86,
     "metadata": {},
     "output_type": "execute_result"
    }
   ],
   "source": [
    "# update the inputs (where needed)\n",
    "test_df    = df.copy()\n",
    "test_cf_df = g_cf_df.copy()\n",
    "# run the method\n",
    "g_cst = SituationTesting()\n",
    "g_cst.setup_baseline(test_df, test_cf_df, nominal_atts=['Gender'], continuous_atts=['LSAT', 'UGPA'])\n",
    "g_cst.run(\n",
    "    target_att=feat_trgt, target_val=feat_trgt_vals, sensitive_att=feat_prot, sensitive_val=feat_prot_vals, include_centers=False, k=k, alpha=alpha, tau=tau\n",
    ")\n",
    "# get discrimination results\n",
    "res_g_cst = g_cst.get_test_discrimination()\n",
    "res_g_cst.head(5)"
   ]
  },
  {
   "cell_type": "markdown",
   "metadata": {},
   "source": [
    "### Single discrimination $R$"
   ]
  },
  {
   "cell_type": "code",
   "execution_count": 87,
   "metadata": {},
   "outputs": [
    {
     "data": {
      "text/html": [
       "<div>\n",
       "<style scoped>\n",
       "    .dataframe tbody tr th:only-of-type {\n",
       "        vertical-align: middle;\n",
       "    }\n",
       "\n",
       "    .dataframe tbody tr th {\n",
       "        vertical-align: top;\n",
       "    }\n",
       "\n",
       "    .dataframe thead th {\n",
       "        text-align: right;\n",
       "    }\n",
       "</style>\n",
       "<table border=\"1\" class=\"dataframe\">\n",
       "  <thead>\n",
       "    <tr style=\"text-align: right;\">\n",
       "      <th></th>\n",
       "      <th>Gender</th>\n",
       "      <th>Race</th>\n",
       "      <th>LSAT</th>\n",
       "      <th>UGPA</th>\n",
       "      <th>Score</th>\n",
       "      <th>Y</th>\n",
       "    </tr>\n",
       "  </thead>\n",
       "  <tbody>\n",
       "    <tr>\n",
       "      <th>0</th>\n",
       "      <td>Female</td>\n",
       "      <td>White</td>\n",
       "      <td>39.000</td>\n",
       "      <td>3.100</td>\n",
       "      <td>17.460</td>\n",
       "      <td>0</td>\n",
       "    </tr>\n",
       "    <tr>\n",
       "      <th>1</th>\n",
       "      <td>Female</td>\n",
       "      <td>White</td>\n",
       "      <td>36.000</td>\n",
       "      <td>3.000</td>\n",
       "      <td>16.200</td>\n",
       "      <td>0</td>\n",
       "    </tr>\n",
       "    <tr>\n",
       "      <th>2</th>\n",
       "      <td>Male</td>\n",
       "      <td>White</td>\n",
       "      <td>30.000</td>\n",
       "      <td>3.100</td>\n",
       "      <td>13.860</td>\n",
       "      <td>0</td>\n",
       "    </tr>\n",
       "    <tr>\n",
       "      <th>3</th>\n",
       "      <td>Male</td>\n",
       "      <td>NonWhite</td>\n",
       "      <td>43.639</td>\n",
       "      <td>2.419</td>\n",
       "      <td>18.907</td>\n",
       "      <td>0</td>\n",
       "    </tr>\n",
       "    <tr>\n",
       "      <th>4</th>\n",
       "      <td>Female</td>\n",
       "      <td>White</td>\n",
       "      <td>37.000</td>\n",
       "      <td>3.400</td>\n",
       "      <td>16.840</td>\n",
       "      <td>0</td>\n",
       "    </tr>\n",
       "  </tbody>\n",
       "</table>\n",
       "</div>"
      ],
      "text/plain": [
       "   Gender      Race    LSAT   UGPA   Score  Y\n",
       "0  Female     White  39.000  3.100  17.460  0\n",
       "1  Female     White  36.000  3.000  16.200  0\n",
       "2    Male     White  30.000  3.100  13.860  0\n",
       "3    Male  NonWhite  43.639  2.419  18.907  0\n",
       "4  Female     White  37.000  3.400  16.840  0"
      ]
     },
     "execution_count": 87,
     "metadata": {},
     "output_type": "execute_result"
    }
   ],
   "source": [
    "# --- specific attributes\n",
    "do = 'White'\n",
    "feat_prot = 'Race'\n",
    "feat_prot_vals = {'non_protected': 'White', 'protected': 'NonWhite'}\n",
    "# --- load the counterfactuals\n",
    "org_cf_df = pd.read_csv(data_path + '\\\\counterfactuals\\\\' + f'cf_LawSchool_lev3_do{do}.csv', sep='|').reset_index(drop=True)\n",
    "r_cf_df = org_cf_df[['Sex', 'Race', 'scf_LSAT', 'scf_UGPA']].copy()\n",
    "r_cf_df = r_cf_df.rename(columns={'Sex': 'Gender', 'scf_LSAT': 'LSAT', 'scf_UGPA': 'UGPA'})\n",
    "r_cf_df = add_dm(r_cf_df)\n",
    "r_cf_df.head(5)"
   ]
  },
  {
   "cell_type": "code",
   "execution_count": 88,
   "metadata": {},
   "outputs": [
    {
     "data": {
      "text/html": [
       "<div>\n",
       "<style scoped>\n",
       "    .dataframe tbody tr th:only-of-type {\n",
       "        vertical-align: middle;\n",
       "    }\n",
       "\n",
       "    .dataframe tbody tr th {\n",
       "        vertical-align: top;\n",
       "    }\n",
       "\n",
       "    .dataframe thead th {\n",
       "        text-align: right;\n",
       "    }\n",
       "</style>\n",
       "<table border=\"1\" class=\"dataframe\">\n",
       "  <thead>\n",
       "    <tr style=\"text-align: right;\">\n",
       "      <th></th>\n",
       "      <th>individual</th>\n",
       "      <th>p_c</th>\n",
       "      <th>p_t</th>\n",
       "      <th>delta_p</th>\n",
       "      <th>CI_1st</th>\n",
       "      <th>CI_2st</th>\n",
       "      <th>DiscEvi</th>\n",
       "      <th>StatEvi</th>\n",
       "    </tr>\n",
       "  </thead>\n",
       "  <tbody>\n",
       "    <tr>\n",
       "      <th>0</th>\n",
       "      <td>3</td>\n",
       "      <td>1.0</td>\n",
       "      <td>1.0</td>\n",
       "      <td>0.0</td>\n",
       "      <td>0.0</td>\n",
       "      <td>[0.0, 0.0]</td>\n",
       "      <td>No</td>\n",
       "      <td>No</td>\n",
       "    </tr>\n",
       "    <tr>\n",
       "      <th>1</th>\n",
       "      <td>23</td>\n",
       "      <td>1.0</td>\n",
       "      <td>1.0</td>\n",
       "      <td>0.0</td>\n",
       "      <td>0.0</td>\n",
       "      <td>[0.0, 0.0]</td>\n",
       "      <td>No</td>\n",
       "      <td>No</td>\n",
       "    </tr>\n",
       "    <tr>\n",
       "      <th>2</th>\n",
       "      <td>25</td>\n",
       "      <td>1.0</td>\n",
       "      <td>1.0</td>\n",
       "      <td>0.0</td>\n",
       "      <td>0.0</td>\n",
       "      <td>[0.0, 0.0]</td>\n",
       "      <td>No</td>\n",
       "      <td>No</td>\n",
       "    </tr>\n",
       "    <tr>\n",
       "      <th>3</th>\n",
       "      <td>41</td>\n",
       "      <td>1.0</td>\n",
       "      <td>1.0</td>\n",
       "      <td>0.0</td>\n",
       "      <td>0.0</td>\n",
       "      <td>[0.0, 0.0]</td>\n",
       "      <td>No</td>\n",
       "      <td>No</td>\n",
       "    </tr>\n",
       "    <tr>\n",
       "      <th>4</th>\n",
       "      <td>44</td>\n",
       "      <td>1.0</td>\n",
       "      <td>1.0</td>\n",
       "      <td>0.0</td>\n",
       "      <td>0.0</td>\n",
       "      <td>[0.0, 0.0]</td>\n",
       "      <td>No</td>\n",
       "      <td>No</td>\n",
       "    </tr>\n",
       "  </tbody>\n",
       "</table>\n",
       "</div>"
      ],
      "text/plain": [
       "   individual  p_c  p_t  delta_p  CI_1st      CI_2st DiscEvi StatEvi\n",
       "0           3  1.0  1.0      0.0     0.0  [0.0, 0.0]      No      No\n",
       "1          23  1.0  1.0      0.0     0.0  [0.0, 0.0]      No      No\n",
       "2          25  1.0  1.0      0.0     0.0  [0.0, 0.0]      No      No\n",
       "3          41  1.0  1.0      0.0     0.0  [0.0, 0.0]      No      No\n",
       "4          44  1.0  1.0      0.0     0.0  [0.0, 0.0]      No      No"
      ]
     },
     "execution_count": 88,
     "metadata": {},
     "output_type": "execute_result"
    }
   ],
   "source": [
    "# update the inputs (where needed)\n",
    "test_df    = df.copy()\n",
    "test_cf_df = r_cf_df.copy()\n",
    "# run the method\n",
    "r_cst = SituationTesting()\n",
    "r_cst.setup_baseline(test_df, test_cf_df, nominal_atts=['Race'], continuous_atts=['LSAT', 'UGPA'])\n",
    "r_cst.run(\n",
    "    target_att=feat_trgt, target_val=feat_trgt_vals, sensitive_att=feat_prot, sensitive_val=feat_prot_vals, include_centers=False, k=k, alpha=alpha, tau=tau\n",
    ")\n",
    "# get discrimination results\n",
    "res_r_cst = r_cst.get_test_discrimination()\n",
    "res_r_cst.head(5)"
   ]
  },
  {
   "cell_type": "markdown",
   "metadata": {},
   "source": [
    "### Multiple discrimination: $G + R$"
   ]
  },
  {
   "cell_type": "code",
   "execution_count": 89,
   "metadata": {},
   "outputs": [
    {
     "name": "stdout",
     "output_type": "stream",
     "text": [
      "females:\n",
      "78\n",
      "non-whites:\n",
      "243\n",
      "females and non-whites:\n",
      "8\n"
     ]
    }
   ],
   "source": [
    "print('females:')\n",
    "print(sum(res_g_cst['DiscEvi'] == 'Yes'))\n",
    "print('non-whites:')\n",
    "print(sum(res_r_cst['DiscEvi'] == 'Yes'))\n",
    "print('females and non-whites:')\n",
    "res_multi_cst = pd.merge(\n",
    "        res_g_cst[res_g_cst['DiscEvi'] == 'Yes'], res_r_cst[res_r_cst['DiscEvi'] == 'Yes'], how='inner', on='individual'\n",
    "    )\n",
    "print(res_multi_cst.shape[0])"
   ]
  },
  {
   "cell_type": "code",
   "execution_count": 90,
   "metadata": {},
   "outputs": [
    {
     "data": {
      "text/plain": [
       "8"
      ]
     },
     "execution_count": 90,
     "metadata": {},
     "output_type": "execute_result"
    }
   ],
   "source": [
    "ind_multi = res_multi_cst['individual'].to_list() \n",
    "len(ind_multi)"
   ]
  },
  {
   "cell_type": "markdown",
   "metadata": {},
   "source": [
    "### Intersectional discrimination: $G \\cap R$"
   ]
  },
  {
   "cell_type": "code",
   "execution_count": 91,
   "metadata": {},
   "outputs": [
    {
     "data": {
      "text/html": [
       "<div>\n",
       "<style scoped>\n",
       "    .dataframe tbody tr th:only-of-type {\n",
       "        vertical-align: middle;\n",
       "    }\n",
       "\n",
       "    .dataframe tbody tr th {\n",
       "        vertical-align: top;\n",
       "    }\n",
       "\n",
       "    .dataframe thead th {\n",
       "        text-align: right;\n",
       "    }\n",
       "</style>\n",
       "<table border=\"1\" class=\"dataframe\">\n",
       "  <thead>\n",
       "    <tr style=\"text-align: right;\">\n",
       "      <th></th>\n",
       "      <th>GenderRace</th>\n",
       "      <th>LSAT</th>\n",
       "      <th>UGPA</th>\n",
       "      <th>Score</th>\n",
       "      <th>Y</th>\n",
       "    </tr>\n",
       "  </thead>\n",
       "  <tbody>\n",
       "    <tr>\n",
       "      <th>0</th>\n",
       "      <td>Female-White</td>\n",
       "      <td>39.0</td>\n",
       "      <td>3.1</td>\n",
       "      <td>17.46</td>\n",
       "      <td>0</td>\n",
       "    </tr>\n",
       "    <tr>\n",
       "      <th>1</th>\n",
       "      <td>Female-White</td>\n",
       "      <td>36.0</td>\n",
       "      <td>3.0</td>\n",
       "      <td>16.20</td>\n",
       "      <td>0</td>\n",
       "    </tr>\n",
       "    <tr>\n",
       "      <th>2</th>\n",
       "      <td>Male-White</td>\n",
       "      <td>30.0</td>\n",
       "      <td>3.1</td>\n",
       "      <td>13.86</td>\n",
       "      <td>0</td>\n",
       "    </tr>\n",
       "    <tr>\n",
       "      <th>3</th>\n",
       "      <td>Male-NonWhite</td>\n",
       "      <td>39.0</td>\n",
       "      <td>2.2</td>\n",
       "      <td>16.92</td>\n",
       "      <td>0</td>\n",
       "    </tr>\n",
       "    <tr>\n",
       "      <th>4</th>\n",
       "      <td>Female-White</td>\n",
       "      <td>37.0</td>\n",
       "      <td>3.4</td>\n",
       "      <td>16.84</td>\n",
       "      <td>0</td>\n",
       "    </tr>\n",
       "  </tbody>\n",
       "</table>\n",
       "</div>"
      ],
      "text/plain": [
       "      GenderRace  LSAT  UGPA  Score  Y\n",
       "0   Female-White  39.0   3.1  17.46  0\n",
       "1   Female-White  36.0   3.0  16.20  0\n",
       "2     Male-White  30.0   3.1  13.86  0\n",
       "3  Male-NonWhite  39.0   2.2  16.92  0\n",
       "4   Female-White  37.0   3.4  16.84  0"
      ]
     },
     "execution_count": 91,
     "metadata": {},
     "output_type": "execute_result"
    }
   ],
   "source": [
    "# --- specific attributes\n",
    "do = 'MaleWhite'\n",
    "feat_prot = 'GenderRace'\n",
    "\n",
    "feat_prot_vals = {'non_protected': ['Female-White', 'Male-NonWhite', 'Male-NonWhite', 'Male-White'], \n",
    "                  'protected': 'Female-NonWhite'\n",
    "                 }\n",
    "# --- load the counterfactuals\n",
    "org_cf_df = pd.read_csv(data_path + '\\\\counterfactuals\\\\' + f'cf_LawSchool_lev3_do{do}.csv', sep='|').reset_index(drop=True)\n",
    "i_cf_df = org_cf_df[['GenderRace', 'scf_LSAT', 'scf_UGPA']].copy()\n",
    "i_cf_df = i_cf_df.rename(columns={'scf_LSAT': 'LSAT', 'scf_UGPA': 'UGPA'})\n",
    "i_cf_df = add_dm(i_cf_df)\n",
    "i_cf_df.head(5)"
   ]
  },
  {
   "cell_type": "code",
   "execution_count": 92,
   "metadata": {},
   "outputs": [
    {
     "data": {
      "text/html": [
       "<div>\n",
       "<style scoped>\n",
       "    .dataframe tbody tr th:only-of-type {\n",
       "        vertical-align: middle;\n",
       "    }\n",
       "\n",
       "    .dataframe tbody tr th {\n",
       "        vertical-align: top;\n",
       "    }\n",
       "\n",
       "    .dataframe thead th {\n",
       "        text-align: right;\n",
       "    }\n",
       "</style>\n",
       "<table border=\"1\" class=\"dataframe\">\n",
       "  <thead>\n",
       "    <tr style=\"text-align: right;\">\n",
       "      <th></th>\n",
       "      <th>Gender</th>\n",
       "      <th>Race</th>\n",
       "      <th>LSAT</th>\n",
       "      <th>UGPA</th>\n",
       "      <th>Score</th>\n",
       "      <th>Y</th>\n",
       "      <th>GenderRace</th>\n",
       "    </tr>\n",
       "  </thead>\n",
       "  <tbody>\n",
       "    <tr>\n",
       "      <th>0</th>\n",
       "      <td>Female</td>\n",
       "      <td>White</td>\n",
       "      <td>39.0</td>\n",
       "      <td>3.1</td>\n",
       "      <td>17.46</td>\n",
       "      <td>0</td>\n",
       "      <td>Female-White</td>\n",
       "    </tr>\n",
       "    <tr>\n",
       "      <th>1</th>\n",
       "      <td>Female</td>\n",
       "      <td>White</td>\n",
       "      <td>36.0</td>\n",
       "      <td>3.0</td>\n",
       "      <td>16.20</td>\n",
       "      <td>0</td>\n",
       "      <td>Female-White</td>\n",
       "    </tr>\n",
       "    <tr>\n",
       "      <th>2</th>\n",
       "      <td>Male</td>\n",
       "      <td>White</td>\n",
       "      <td>30.0</td>\n",
       "      <td>3.1</td>\n",
       "      <td>13.86</td>\n",
       "      <td>0</td>\n",
       "      <td>Male-White</td>\n",
       "    </tr>\n",
       "    <tr>\n",
       "      <th>3</th>\n",
       "      <td>Male</td>\n",
       "      <td>NonWhite</td>\n",
       "      <td>39.0</td>\n",
       "      <td>2.2</td>\n",
       "      <td>16.92</td>\n",
       "      <td>0</td>\n",
       "      <td>Male-NonWhite</td>\n",
       "    </tr>\n",
       "    <tr>\n",
       "      <th>4</th>\n",
       "      <td>Female</td>\n",
       "      <td>White</td>\n",
       "      <td>37.0</td>\n",
       "      <td>3.4</td>\n",
       "      <td>16.84</td>\n",
       "      <td>0</td>\n",
       "      <td>Female-White</td>\n",
       "    </tr>\n",
       "  </tbody>\n",
       "</table>\n",
       "</div>"
      ],
      "text/plain": [
       "   Gender      Race  LSAT  UGPA  Score  Y     GenderRace\n",
       "0  Female     White  39.0   3.1  17.46  0   Female-White\n",
       "1  Female     White  36.0   3.0  16.20  0   Female-White\n",
       "2    Male     White  30.0   3.1  13.86  0     Male-White\n",
       "3    Male  NonWhite  39.0   2.2  16.92  0  Male-NonWhite\n",
       "4  Female     White  37.0   3.4  16.84  0   Female-White"
      ]
     },
     "execution_count": 92,
     "metadata": {},
     "output_type": "execute_result"
    }
   ],
   "source": [
    "# Note: updated the factuals also to obtain A*\n",
    "df['GenderRace'] =  df['Gender'] + '-' + df['Race']\n",
    "df.head(5)"
   ]
  },
  {
   "cell_type": "code",
   "execution_count": 93,
   "metadata": {},
   "outputs": [
    {
     "data": {
      "text/html": [
       "<div>\n",
       "<style scoped>\n",
       "    .dataframe tbody tr th:only-of-type {\n",
       "        vertical-align: middle;\n",
       "    }\n",
       "\n",
       "    .dataframe tbody tr th {\n",
       "        vertical-align: top;\n",
       "    }\n",
       "\n",
       "    .dataframe thead th {\n",
       "        text-align: right;\n",
       "    }\n",
       "</style>\n",
       "<table border=\"1\" class=\"dataframe\">\n",
       "  <thead>\n",
       "    <tr style=\"text-align: right;\">\n",
       "      <th></th>\n",
       "      <th>individual</th>\n",
       "      <th>p_c</th>\n",
       "      <th>p_t</th>\n",
       "      <th>delta_p</th>\n",
       "      <th>CI_1st</th>\n",
       "      <th>CI_2st</th>\n",
       "      <th>DiscEvi</th>\n",
       "      <th>StatEvi</th>\n",
       "    </tr>\n",
       "  </thead>\n",
       "  <tbody>\n",
       "    <tr>\n",
       "      <th>0</th>\n",
       "      <td>41</td>\n",
       "      <td>1.0</td>\n",
       "      <td>1.0</td>\n",
       "      <td>0.0</td>\n",
       "      <td>0.0</td>\n",
       "      <td>[0.0, 0.0]</td>\n",
       "      <td>No</td>\n",
       "      <td>No</td>\n",
       "    </tr>\n",
       "    <tr>\n",
       "      <th>1</th>\n",
       "      <td>44</td>\n",
       "      <td>1.0</td>\n",
       "      <td>1.0</td>\n",
       "      <td>0.0</td>\n",
       "      <td>0.0</td>\n",
       "      <td>[0.0, 0.0]</td>\n",
       "      <td>No</td>\n",
       "      <td>No</td>\n",
       "    </tr>\n",
       "    <tr>\n",
       "      <th>2</th>\n",
       "      <td>54</td>\n",
       "      <td>1.0</td>\n",
       "      <td>1.0</td>\n",
       "      <td>0.0</td>\n",
       "      <td>0.0</td>\n",
       "      <td>[0.0, 0.0]</td>\n",
       "      <td>No</td>\n",
       "      <td>No</td>\n",
       "    </tr>\n",
       "    <tr>\n",
       "      <th>3</th>\n",
       "      <td>62</td>\n",
       "      <td>1.0</td>\n",
       "      <td>1.0</td>\n",
       "      <td>0.0</td>\n",
       "      <td>0.0</td>\n",
       "      <td>[0.0, 0.0]</td>\n",
       "      <td>No</td>\n",
       "      <td>No</td>\n",
       "    </tr>\n",
       "    <tr>\n",
       "      <th>4</th>\n",
       "      <td>79</td>\n",
       "      <td>1.0</td>\n",
       "      <td>1.0</td>\n",
       "      <td>0.0</td>\n",
       "      <td>0.0</td>\n",
       "      <td>[0.0, 0.0]</td>\n",
       "      <td>No</td>\n",
       "      <td>No</td>\n",
       "    </tr>\n",
       "  </tbody>\n",
       "</table>\n",
       "</div>"
      ],
      "text/plain": [
       "   individual  p_c  p_t  delta_p  CI_1st      CI_2st DiscEvi StatEvi\n",
       "0          41  1.0  1.0      0.0     0.0  [0.0, 0.0]      No      No\n",
       "1          44  1.0  1.0      0.0     0.0  [0.0, 0.0]      No      No\n",
       "2          54  1.0  1.0      0.0     0.0  [0.0, 0.0]      No      No\n",
       "3          62  1.0  1.0      0.0     0.0  [0.0, 0.0]      No      No\n",
       "4          79  1.0  1.0      0.0     0.0  [0.0, 0.0]      No      No"
      ]
     },
     "execution_count": 93,
     "metadata": {},
     "output_type": "execute_result"
    }
   ],
   "source": [
    "# update the inputs (where needed)\n",
    "test_df    = df.copy()\n",
    "test_cf_df = i_cf_df.copy()\n",
    "# run the method\n",
    "inter_cst = SituationTesting()\n",
    "inter_cst.setup_baseline(test_df, test_cf_df, nominal_atts=['GenderRace'], continuous_atts=['LSAT', 'UGPA'])\n",
    "inter_cst.run(\n",
    "    target_att=feat_trgt, target_val=feat_trgt_vals, sensitive_att=feat_prot, sensitive_val=feat_prot_vals, include_centers=False, k=k, alpha=alpha, tau=tau\n",
    ")\n",
    "# get discrimination results\n",
    "res_inter_cst = inter_cst.get_test_discrimination()\n",
    "res_inter_cst.head(5)"
   ]
  },
  {
   "cell_type": "code",
   "execution_count": 94,
   "metadata": {},
   "outputs": [
    {
     "data": {
      "text/plain": [
       "130"
      ]
     },
     "execution_count": 94,
     "metadata": {},
     "output_type": "execute_result"
    }
   ],
   "source": [
    "ind_inter = res_inter_cst[res_inter_cst['DiscEvi'] == 'Yes']['individual'].to_list() \n",
    "len(ind_inter)"
   ]
  },
  {
   "cell_type": "markdown",
   "metadata": {},
   "source": [
    "### Comparing the two kinds of multidimensional discrimination"
   ]
  },
  {
   "cell_type": "code",
   "execution_count": 95,
   "metadata": {},
   "outputs": [],
   "source": [
    "knn_r_cst     = r_cst.res_dict_df_neighbors\n",
    "knn_g_cst     = g_cst.res_dict_df_neighbors\n",
    "knn_inter_cst = inter_cst.res_dict_df_neighbors"
   ]
  },
  {
   "cell_type": "code",
   "execution_count": 96,
   "metadata": {},
   "outputs": [
    {
     "data": {
      "text/plain": [
       "True"
      ]
     },
     "execution_count": 96,
     "metadata": {},
     "output_type": "execute_result"
    }
   ],
   "source": [
    "# are all multi cases in the inter cases?\n",
    "len([i for i in ind_multi if i in ind_inter]) == len(res_multi_cst)"
   ]
  },
  {
   "cell_type": "code",
   "execution_count": 107,
   "metadata": {},
   "outputs": [],
   "source": [
    "# individuals in multi and inter\n",
    "set1 = ind_multi\n",
    "# individuals only in inter\n",
    "set2 = [i for i in ind_inter if i not in ind_multi]"
   ]
  },
  {
   "cell_type": "code",
   "execution_count": 113,
   "metadata": {},
   "outputs": [
    {
     "data": {
      "text/plain": [
       "id               11597.12\n",
       "g_neg_y_ctr          8.88\n",
       "g_neg_y_tst          4.88\n",
       "r_neg_y_ctr          7.62\n",
       "r_neg_y_tst          0.00\n",
       "i_neg_y_ctr         10.00\n",
       "i_neg_y_tst          0.00\n",
       "g_p_ctr              0.59\n",
       "g_p_tst              0.33\n",
       "r_p_ctr              0.51\n",
       "r_p_tst              0.00\n",
       "i_p_ctr              0.66\n",
       "i_p_tst              0.00\n",
       "g_avg_ctrLSAT       46.66\n",
       "g_std_ctrLSAT        0.45\n",
       "r_avg_ctrLSAT       46.58\n",
       "r_std_ctrLSAT        0.91\n",
       "i_avg_ctrLSAT       46.08\n",
       "i_std_ctrLSAT        1.25\n",
       "g_avg_tstLSAT       47.06\n",
       "g_std_tstLSAT        0.16\n",
       "r_avg_tstLSAT       48.00\n",
       "r_std_tstLSAT        0.00\n",
       "i_avg_tstLSAT       47.95\n",
       "i_std_tstLSAT        0.06\n",
       "g_avg_ctrUGPA        3.55\n",
       "g_std_ctrUGPA        0.00\n",
       "r_avg_ctrUGPA        3.54\n",
       "r_std_ctrUGPA        0.06\n",
       "i_avg_ctrUGPA        3.52\n",
       "i_std_ctrUGPA        0.10\n",
       "g_avg_tstUGPA        3.45\n",
       "g_std_tstUGPA        0.00\n",
       "r_avg_tstUGPA        3.73\n",
       "r_std_tstUGPA        0.01\n",
       "i_avg_tstUGPA        3.65\n",
       "i_std_tstUGPA        0.00\n",
       "dtype: float64"
      ]
     },
     "execution_count": 113,
     "metadata": {},
     "output_type": "execute_result"
    }
   ],
   "source": [
    "set_of_interest = set1\n",
    "nsf = 2\n",
    "n = k\n",
    "list_temp_df = []\n",
    "var = ['LSAT', 'UGPA', 'Y']\n",
    "\n",
    "for c in set_of_interest:\n",
    "    \n",
    "    temp_df = {}\n",
    "    \n",
    "    temp_df['id'] = c\n",
    "    \n",
    "    # for gender\n",
    "    g_temp_ctr = df.iloc[knn_g_cst[c]['ctr_idx'], :][var]\n",
    "    g_temp_tst = g_cf_df.iloc[knn_g_cst[c]['tst_idx'], :][var]\n",
    "    # for race\n",
    "    r_temp_ctr = df.iloc[knn_r_cst[c]['ctr_idx'], :][var]\n",
    "    r_temp_tst = r_cf_df.iloc[knn_r_cst[c]['tst_idx'], :][var]\n",
    "    # for inter\n",
    "    i_temp_ctr = df.iloc[knn_inter_cst[c]['ctr_idx'], :][var]\n",
    "    i_temp_tst = i_cf_df.iloc[knn_inter_cst[c]['tst_idx'], :][var]\n",
    "    \n",
    "    # num. of negative decisions\n",
    "    temp_df['g_neg_y_ctr'] = g_temp_ctr[g_temp_ctr['Y'] == 0].shape[0]\n",
    "    temp_df['g_neg_y_tst'] = g_temp_tst[g_temp_tst['Y'] == 0].shape[0]\n",
    "    temp_df['r_neg_y_ctr'] = r_temp_ctr[r_temp_ctr['Y'] == 0].shape[0]\n",
    "    temp_df['r_neg_y_tst'] = r_temp_tst[r_temp_tst['Y'] == 0].shape[0]\n",
    "    temp_df['i_neg_y_ctr'] = i_temp_ctr[i_temp_ctr['Y'] == 0].shape[0]\n",
    "    temp_df['i_neg_y_tst'] = i_temp_tst[i_temp_tst['Y'] == 0].shape[0]\n",
    "    \n",
    "    # prp. of negative decisions\n",
    "    temp_df['g_p_ctr'] = round(temp_df['g_neg_y_ctr'] / n, nsf)\n",
    "    temp_df['g_p_tst'] = round(temp_df['g_neg_y_tst'] / n, nsf)\n",
    "    temp_df['r_p_ctr'] = round(temp_df['r_neg_y_ctr'] / n, nsf)\n",
    "    temp_df['r_p_tst'] = round(temp_df['r_neg_y_tst'] / n, nsf)\n",
    "    temp_df['i_p_ctr'] = round(temp_df['i_neg_y_ctr'] / n, nsf)\n",
    "    temp_df['i_p_tst'] = round(temp_df['i_neg_y_tst'] / n, nsf)\n",
    "    \n",
    "    # group characteristics\n",
    "    for v in ['LSAT', 'UGPA']:\n",
    "        temp_df['g_avg_ctr' + v] = round(g_temp_ctr.mean()[v], nsf)\n",
    "        temp_df['g_std_ctr' + v] = round(g_temp_ctr.std()[v], nsf)\n",
    "        temp_df['r_avg_ctr' + v] = round(r_temp_ctr.mean()[v], nsf)\n",
    "        temp_df['r_std_ctr' + v] = round(r_temp_ctr.std()[v], nsf)\n",
    "        temp_df['i_avg_ctr' + v] = round(i_temp_ctr.mean()[v], nsf)\n",
    "        temp_df['i_std_ctr' + v] = round(i_temp_ctr.std()[v], nsf)\n",
    "        temp_df['g_avg_tst' + v] = round(g_temp_tst.mean()[v], nsf)\n",
    "        temp_df['g_std_tst' + v] = round(g_temp_tst.std()[v], nsf)\n",
    "        temp_df['r_avg_tst' + v] = round(r_temp_tst.mean()[v], nsf)\n",
    "        temp_df['r_std_tst' + v] = round(r_temp_tst.std()[v], nsf)\n",
    "        temp_df['i_avg_tst' + v] = round(i_temp_tst.mean()[v], nsf)\n",
    "        temp_df['i_std_tst' + v] = round(i_temp_tst.std()[v], nsf)\n",
    "    \n",
    "    list_temp_df.append(temp_df)\n",
    "\n",
    "summary_stats = pd.DataFrame(list_temp_df)\n",
    "summary_stats.mean().round(nsf)"
   ]
  },
  {
   "cell_type": "code",
   "execution_count": 114,
   "metadata": {},
   "outputs": [
    {
     "data": {
      "text/plain": [
       "id               11099.51\n",
       "g_neg_y_ctr         14.42\n",
       "g_neg_y_tst         14.03\n",
       "r_neg_y_ctr         14.02\n",
       "r_neg_y_tst          3.47\n",
       "i_neg_y_ctr         14.01\n",
       "i_neg_y_tst          0.10\n",
       "g_p_ctr              0.96\n",
       "g_p_tst              0.94\n",
       "r_p_ctr              0.93\n",
       "r_p_tst              0.23\n",
       "i_p_ctr              0.93\n",
       "i_p_tst              0.01\n",
       "g_avg_ctrLSAT       43.90\n",
       "g_std_ctrLSAT        0.14\n",
       "r_avg_ctrLSAT       43.68\n",
       "r_std_ctrLSAT        0.72\n",
       "i_avg_ctrLSAT       43.55\n",
       "i_std_ctrLSAT        0.96\n",
       "g_avg_tstLSAT       43.94\n",
       "g_std_tstLSAT        0.06\n",
       "r_avg_tstLSAT       47.48\n",
       "r_std_tstLSAT        0.04\n",
       "i_avg_tstLSAT       47.71\n",
       "i_std_tstLSAT        0.04\n",
       "g_avg_ctrUGPA        3.47\n",
       "g_std_ctrUGPA        0.00\n",
       "r_avg_ctrUGPA        3.47\n",
       "r_std_ctrUGPA        0.03\n",
       "i_avg_ctrUGPA        3.47\n",
       "i_std_ctrUGPA        0.06\n",
       "g_avg_tstUGPA        3.38\n",
       "g_std_tstUGPA        0.00\n",
       "r_avg_tstUGPA        3.66\n",
       "r_std_tstUGPA        0.01\n",
       "i_avg_tstUGPA        3.58\n",
       "i_std_tstUGPA        0.01\n",
       "dtype: float64"
      ]
     },
     "execution_count": 114,
     "metadata": {},
     "output_type": "execute_result"
    }
   ],
   "source": [
    "set_of_interest = set2\n",
    "nsf = 2\n",
    "n = k\n",
    "list_temp_df = []\n",
    "var = ['LSAT', 'UGPA', 'Y']\n",
    "\n",
    "for c in set_of_interest:\n",
    "    \n",
    "    temp_df = {}\n",
    "    \n",
    "    temp_df['id'] = c\n",
    "    \n",
    "    # for gender\n",
    "    g_temp_ctr = df.iloc[knn_g_cst[c]['ctr_idx'], :][var]\n",
    "    g_temp_tst = g_cf_df.iloc[knn_g_cst[c]['tst_idx'], :][var]\n",
    "    # for race\n",
    "    r_temp_ctr = df.iloc[knn_r_cst[c]['ctr_idx'], :][var]\n",
    "    r_temp_tst = r_cf_df.iloc[knn_r_cst[c]['tst_idx'], :][var]\n",
    "    # for inter\n",
    "    i_temp_ctr = df.iloc[knn_inter_cst[c]['ctr_idx'], :][var]\n",
    "    i_temp_tst = i_cf_df.iloc[knn_inter_cst[c]['tst_idx'], :][var]\n",
    "    \n",
    "    # num. of negative decisions\n",
    "    temp_df['g_neg_y_ctr'] = g_temp_ctr[g_temp_ctr['Y'] == 0].shape[0]\n",
    "    temp_df['g_neg_y_tst'] = g_temp_tst[g_temp_tst['Y'] == 0].shape[0]\n",
    "    temp_df['r_neg_y_ctr'] = r_temp_ctr[r_temp_ctr['Y'] == 0].shape[0]\n",
    "    temp_df['r_neg_y_tst'] = r_temp_tst[r_temp_tst['Y'] == 0].shape[0]\n",
    "    temp_df['i_neg_y_ctr'] = i_temp_ctr[i_temp_ctr['Y'] == 0].shape[0]\n",
    "    temp_df['i_neg_y_tst'] = i_temp_tst[i_temp_tst['Y'] == 0].shape[0]\n",
    "    \n",
    "    # prp. of negative decisions\n",
    "    temp_df['g_p_ctr'] = round(temp_df['g_neg_y_ctr'] / n, nsf)\n",
    "    temp_df['g_p_tst'] = round(temp_df['g_neg_y_tst'] / n, nsf)\n",
    "    temp_df['r_p_ctr'] = round(temp_df['r_neg_y_ctr'] / n, nsf)\n",
    "    temp_df['r_p_tst'] = round(temp_df['r_neg_y_tst'] / n, nsf)\n",
    "    temp_df['i_p_ctr'] = round(temp_df['i_neg_y_ctr'] / n, nsf)\n",
    "    temp_df['i_p_tst'] = round(temp_df['i_neg_y_tst'] / n, nsf)\n",
    "    \n",
    "    # group characteristics\n",
    "    for v in ['LSAT', 'UGPA']:\n",
    "        temp_df['g_avg_ctr' + v] = round(g_temp_ctr.mean()[v], nsf)\n",
    "        temp_df['g_std_ctr' + v] = round(g_temp_ctr.std()[v], nsf)\n",
    "        temp_df['r_avg_ctr' + v] = round(r_temp_ctr.mean()[v], nsf)\n",
    "        temp_df['r_std_ctr' + v] = round(r_temp_ctr.std()[v], nsf)\n",
    "        temp_df['i_avg_ctr' + v] = round(i_temp_ctr.mean()[v], nsf)\n",
    "        temp_df['i_std_ctr' + v] = round(i_temp_ctr.std()[v], nsf)\n",
    "        temp_df['g_avg_tst' + v] = round(g_temp_tst.mean()[v], nsf)\n",
    "        temp_df['g_std_tst' + v] = round(g_temp_tst.std()[v], nsf)\n",
    "        temp_df['r_avg_tst' + v] = round(r_temp_tst.mean()[v], nsf)\n",
    "        temp_df['r_std_tst' + v] = round(r_temp_tst.std()[v], nsf)\n",
    "        temp_df['i_avg_tst' + v] = round(i_temp_tst.mean()[v], nsf)\n",
    "        temp_df['i_std_tst' + v] = round(i_temp_tst.std()[v], nsf)\n",
    "    \n",
    "    list_temp_df.append(temp_df)\n",
    "\n",
    "summary_stats = pd.DataFrame(list_temp_df)\n",
    "summary_stats.mean().round(nsf)"
   ]
  },
  {
   "cell_type": "code",
   "execution_count": null,
   "metadata": {},
   "outputs": [],
   "source": []
  },
  {
   "cell_type": "code",
   "execution_count": null,
   "metadata": {},
   "outputs": [],
   "source": [
    "# # add the decision maker\n",
    "# cf_df['Score'] = b1*cf_df['UGPA'] + b2*cf_df['LSAT']\n",
    "# cf_df['Y'] = np.where(cf_df['Score'] >= min_score, 1, 0)\n",
    "# cf_df.head(5)\n",
    "\n",
    "# # old code example: we output the pd.Series of delta p's for situation testing\n",
    "# m_res_df = df[['Gender', 'Race', 'Y']].copy()\n",
    "# m_res_df['cf_Y'] = cf_df[['Y']].copy()\n",
    "# m_res_df.head(5)\n",
    "# test_df = df.copy()\n",
    "# st = SituationTesting()\n",
    "# st.setup_baseline(test_df, nominal_atts=['Gender'], continuous_atts=['LSAT', 'UGPA'])\n",
    "# m_res_df['stST'] = st.run(target_att=feat_trgt, target_val=feat_trgt_vals, sensitive_att=feat_prot, sensitive_val=feat_prot_vals, k=n, alpha=alpha, tau=tau)\n",
    "# m_res_df[(m_res_df['stST'] > tau)].shape[0]\n",
    "# # positive discrimination?\n",
    "# m_res_df[(m_res_df['stST'] < tau)].shape[0]"
   ]
  },
  {
   "cell_type": "markdown",
   "metadata": {},
   "source": [
    "### EOF"
   ]
  }
 ],
 "metadata": {
  "kernelspec": {
   "display_name": "Python 3",
   "language": "python",
   "name": "python3"
  },
  "language_info": {
   "codemirror_mode": {
    "name": "ipython",
    "version": 3
   },
   "file_extension": ".py",
   "mimetype": "text/x-python",
   "name": "python",
   "nbconvert_exporter": "python",
   "pygments_lexer": "ipython3",
   "version": "3.8.5"
  }
 },
 "nbformat": 4,
 "nbformat_minor": 4
}
