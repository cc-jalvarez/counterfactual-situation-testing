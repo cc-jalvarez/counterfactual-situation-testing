{
 "cells": [
  {
   "cell_type": "markdown",
   "metadata": {},
   "source": [
    "# Generate counterfactuals for Karimi_v2\n",
    "\n",
    "Input: factual data (data folder)\n",
    "Output: counterfactual data (results folder)"
   ]
  },
  {
   "cell_type": "code",
   "execution_count": 1,
   "metadata": {},
   "outputs": [],
   "source": [
    "import os\n",
    "import pandas as pd\n",
    "import numpy as np\n",
    "\n",
    "from pandas import DataFrame\n",
    "from sklearn.linear_model import LinearRegression"
   ]
  },
  {
   "cell_type": "code",
   "execution_count": 2,
   "metadata": {},
   "outputs": [],
   "source": [
    "# set working directory - note: all code runs from the src folder\n",
    "wrk_dir = os.getcwd()\n",
    "# data path\n",
    "data_path = wrk_dir + '\\\\' + 'data' + '\\\\'\n",
    "# results path\n",
    "resu_path = wrk_dir + '\\\\' + 'results\\\\counterfactuals' + '\\\\'"
   ]
  },
  {
   "cell_type": "code",
   "execution_count": 3,
   "metadata": {},
   "outputs": [
    {
     "data": {
      "text/html": [
       "<div>\n",
       "<style scoped>\n",
       "    .dataframe tbody tr th:only-of-type {\n",
       "        vertical-align: middle;\n",
       "    }\n",
       "\n",
       "    .dataframe tbody tr th {\n",
       "        vertical-align: top;\n",
       "    }\n",
       "\n",
       "    .dataframe thead th {\n",
       "        text-align: right;\n",
       "    }\n",
       "</style>\n",
       "<table border=\"1\" class=\"dataframe\">\n",
       "  <thead>\n",
       "    <tr style=\"text-align: right;\">\n",
       "      <th></th>\n",
       "      <th>LoanApproval</th>\n",
       "      <th>AnnualSalary</th>\n",
       "      <th>AccountBalance</th>\n",
       "      <th>u1</th>\n",
       "      <th>u2</th>\n",
       "      <th>Gender</th>\n",
       "    </tr>\n",
       "  </thead>\n",
       "  <tbody>\n",
       "    <tr>\n",
       "      <th>0</th>\n",
       "      <td>-1.0</td>\n",
       "      <td>35000</td>\n",
       "      <td>7947.678090</td>\n",
       "      <td>50000</td>\n",
       "      <td>-973.152642</td>\n",
       "      <td>1</td>\n",
       "    </tr>\n",
       "    <tr>\n",
       "      <th>1</th>\n",
       "      <td>1.0</td>\n",
       "      <td>120000</td>\n",
       "      <td>36940.097383</td>\n",
       "      <td>120000</td>\n",
       "      <td>940.097383</td>\n",
       "      <td>0</td>\n",
       "    </tr>\n",
       "    <tr>\n",
       "      <th>2</th>\n",
       "      <td>-1.0</td>\n",
       "      <td>90000</td>\n",
       "      <td>23564.129008</td>\n",
       "      <td>90000</td>\n",
       "      <td>-3435.870992</td>\n",
       "      <td>0</td>\n",
       "    </tr>\n",
       "    <tr>\n",
       "      <th>3</th>\n",
       "      <td>-1.0</td>\n",
       "      <td>80000</td>\n",
       "      <td>27596.570524</td>\n",
       "      <td>80000</td>\n",
       "      <td>3596.570524</td>\n",
       "      <td>0</td>\n",
       "    </tr>\n",
       "    <tr>\n",
       "      <th>4</th>\n",
       "      <td>1.0</td>\n",
       "      <td>201000</td>\n",
       "      <td>59008.567839</td>\n",
       "      <td>210000</td>\n",
       "      <td>-705.778380</td>\n",
       "      <td>1</td>\n",
       "    </tr>\n",
       "  </tbody>\n",
       "</table>\n",
       "</div>"
      ],
      "text/plain": [
       "   LoanApproval  AnnualSalary  AccountBalance      u1           u2  Gender\n",
       "0          -1.0         35000     7947.678090   50000  -973.152642       1\n",
       "1           1.0        120000    36940.097383  120000   940.097383       0\n",
       "2          -1.0         90000    23564.129008   90000 -3435.870992       0\n",
       "3          -1.0         80000    27596.570524   80000  3596.570524       0\n",
       "4           1.0        201000    59008.567839  210000  -705.778380       1"
      ]
     },
     "execution_count": 3,
     "metadata": {},
     "output_type": "execute_result"
    }
   ],
   "source": [
    "org_df = pd.read_csv(data_path + '\\\\' + 'Karimi2020_v2.csv', sep='|', )\n",
    "org_df.head(5)"
   ]
  },
  {
   "cell_type": "code",
   "execution_count": 4,
   "metadata": {},
   "outputs": [],
   "source": [
    "# define the list of features\n",
    "feat_trgt = ['LoanApproval']\n",
    "feat_rlvt = ['AnnualSalary', 'AccountBalance']\n",
    "feat_prot = ['Gender']\n",
    "do = {'Gender': 0} # female to male"
   ]
  },
  {
   "cell_type": "code",
   "execution_count": 5,
   "metadata": {},
   "outputs": [
    {
     "data": {
      "text/html": [
       "<div>\n",
       "<style scoped>\n",
       "    .dataframe tbody tr th:only-of-type {\n",
       "        vertical-align: middle;\n",
       "    }\n",
       "\n",
       "    .dataframe tbody tr th {\n",
       "        vertical-align: top;\n",
       "    }\n",
       "\n",
       "    .dataframe thead th {\n",
       "        text-align: right;\n",
       "    }\n",
       "</style>\n",
       "<table border=\"1\" class=\"dataframe\">\n",
       "  <thead>\n",
       "    <tr style=\"text-align: right;\">\n",
       "      <th></th>\n",
       "      <th>LoanApproval</th>\n",
       "      <th>AnnualSalary</th>\n",
       "      <th>AccountBalance</th>\n",
       "      <th>Gender</th>\n",
       "    </tr>\n",
       "  </thead>\n",
       "  <tbody>\n",
       "    <tr>\n",
       "      <th>0</th>\n",
       "      <td>-1.0</td>\n",
       "      <td>35000</td>\n",
       "      <td>7947.678090</td>\n",
       "      <td>1</td>\n",
       "    </tr>\n",
       "    <tr>\n",
       "      <th>1</th>\n",
       "      <td>1.0</td>\n",
       "      <td>120000</td>\n",
       "      <td>36940.097383</td>\n",
       "      <td>0</td>\n",
       "    </tr>\n",
       "    <tr>\n",
       "      <th>2</th>\n",
       "      <td>-1.0</td>\n",
       "      <td>90000</td>\n",
       "      <td>23564.129008</td>\n",
       "      <td>0</td>\n",
       "    </tr>\n",
       "    <tr>\n",
       "      <th>3</th>\n",
       "      <td>-1.0</td>\n",
       "      <td>80000</td>\n",
       "      <td>27596.570524</td>\n",
       "      <td>0</td>\n",
       "    </tr>\n",
       "    <tr>\n",
       "      <th>4</th>\n",
       "      <td>1.0</td>\n",
       "      <td>201000</td>\n",
       "      <td>59008.567839</td>\n",
       "      <td>1</td>\n",
       "    </tr>\n",
       "  </tbody>\n",
       "</table>\n",
       "</div>"
      ],
      "text/plain": [
       "   LoanApproval  AnnualSalary  AccountBalance  Gender\n",
       "0          -1.0         35000     7947.678090       1\n",
       "1           1.0        120000    36940.097383       0\n",
       "2          -1.0         90000    23564.129008       0\n",
       "3          -1.0         80000    27596.570524       0\n",
       "4           1.0        201000    59008.567839       1"
      ]
     },
     "execution_count": 5,
     "metadata": {},
     "output_type": "execute_result"
    }
   ],
   "source": [
    "df = org_df[feat_trgt + feat_rlvt + feat_prot].copy()\n",
    "df.head(5)"
   ]
  },
  {
   "cell_type": "markdown",
   "metadata": {},
   "source": [
    "Similar to the works on Algorithmic Recourse, we make a slight distinction between $\\mathbf{X}$ and $Y$ regarding the data generating model (DGM): the ocurrence of $\\mathbf{X}$ is independent of $Y$ as the latter is specific to the decision-making process of interest while the former is specific to the individuals involved in said process. For example, in college admissions the high-school grades are what they are for each individual despite what each college says. An individual can be accepted by one college, while getting rejected by a similar one. This distinction is made because $b$, which is the decision-maker, is external to the individual characteristics and yet crucial for testing discrimination. We, thus, can assume to know $b$ or try to approximate it based on the data. Here, let's assume we have access to $b$, though note that we can retrieve it from the data with some margin of error. This assumption is not too stringent for our cfST as we are mostly interested in making operational the **fairness given the (observed) difference** principle.\n",
    "\n",
    "\n",
    "*Setup*: we have a given dataset, $\\mathcal{D}$, from the decision-making process of interest and its corresponding structural causal model (SCM), $\\mathcal{M}$, which explains the data generating process behind. We also have access to / recustruct $b$ using expert knowledge. \n",
    "\n",
    "*Assumptions*: besides knowing $\\mathcal{M}$ (we can relax this assumption by saying we only know the causal graph), $\\mathcal{D}$, and $b$ (though this assumption too can be relaxed by estimating it) we also assume\n",
    "- Causal sufficiency, or no hidden confounder in $\\mathcal{M}$;\n",
    "- Each $f$ in $\\mathcal{M}$ follows a linear additive noise model;\n",
    "- \n",
    "\n",
    "Under this assumptions, the best known (parametric) modelling choice is the OLS as it is BLUE. This poses an issue when the errors are not white noise (future extension)."
   ]
  },
  {
   "cell_type": "code",
   "execution_count": 6,
   "metadata": {},
   "outputs": [],
   "source": [
    "# store counterfactual df\n",
    "cf_df = dict()"
   ]
  },
  {
   "cell_type": "code",
   "execution_count": 7,
   "metadata": {},
   "outputs": [],
   "source": [
    "# First, estimate each f in M where needed according to the known causal graph:\n",
    "\n",
    "# 1.1) create model objects\n",
    "# f for AnnualSalary\n",
    "model_sal = LinearRegression(fit_intercept=True, normalize=False)\n",
    "# f for AccountBalance\n",
    "model_acc = LinearRegression(fit_intercept=True, normalize=False)"
   ]
  },
  {
   "cell_type": "code",
   "execution_count": 8,
   "metadata": {},
   "outputs": [],
   "source": [
    "# 1.2) prepare data for the models\n",
    "x_sal = np.array(df['Gender'].copy()).reshape((-1, 1))\n",
    "#print(x_sal.shape)\n",
    "y_sal = np.array(df['AnnualSalary'].copy())\n",
    "#print(y_sal.shape)\n",
    "\n",
    "x_acc = np.array(df[['AnnualSalary', 'Gender']].copy())#.reshape((-1, 1))\n",
    "#print(x_acc.shape)\n",
    "y_acc = np.array(df['AccountBalance'].copy())\n",
    "#print(y_acc.shape)"
   ]
  },
  {
   "cell_type": "code",
   "execution_count": 9,
   "metadata": {},
   "outputs": [
    {
     "name": "stdout",
     "output_type": "stream",
     "text": [
      "done\n"
     ]
    }
   ],
   "source": [
    "# 1.3) estimate the models\n",
    "model_sal.fit(x_sal, y_sal)\n",
    "model_acc.fit(x_acc, y_acc)\n",
    "print('done')"
   ]
  },
  {
   "cell_type": "code",
   "execution_count": 10,
   "metadata": {},
   "outputs": [
    {
     "data": {
      "text/plain": [
       "0       -49858.94\n",
       "1        19344.71\n",
       "2       -10655.29\n",
       "3       -20655.29\n",
       "4       116141.06\n",
       "          ...    \n",
       "4988      -655.29\n",
       "4989     40141.06\n",
       "4990    -22858.94\n",
       "4991      -655.29\n",
       "4992    -40655.29\n",
       "Name: AnnualSalary, Length: 4993, dtype: float64"
      ]
     },
     "execution_count": 10,
     "metadata": {},
     "output_type": "execute_result"
    }
   ],
   "source": [
    "round(df['AnnualSalary'] - model_sal.predict(x_sal), 2)"
   ]
  },
  {
   "cell_type": "code",
   "execution_count": 11,
   "metadata": {},
   "outputs": [
    {
     "data": {
      "text/html": [
       "<div>\n",
       "<style scoped>\n",
       "    .dataframe tbody tr th:only-of-type {\n",
       "        vertical-align: middle;\n",
       "    }\n",
       "\n",
       "    .dataframe tbody tr th {\n",
       "        vertical-align: top;\n",
       "    }\n",
       "\n",
       "    .dataframe thead th {\n",
       "        text-align: right;\n",
       "    }\n",
       "</style>\n",
       "<table border=\"1\" class=\"dataframe\">\n",
       "  <thead>\n",
       "    <tr style=\"text-align: right;\">\n",
       "      <th></th>\n",
       "      <th>u_AnnualSalary</th>\n",
       "      <th>u_AccountBalance</th>\n",
       "    </tr>\n",
       "  </thead>\n",
       "  <tbody>\n",
       "    <tr>\n",
       "      <th>0</th>\n",
       "      <td>-49858.94</td>\n",
       "      <td>-1452.13</td>\n",
       "    </tr>\n",
       "    <tr>\n",
       "      <th>1</th>\n",
       "      <td>19344.71</td>\n",
       "      <td>950.86</td>\n",
       "    </tr>\n",
       "    <tr>\n",
       "      <th>2</th>\n",
       "      <td>-10655.29</td>\n",
       "      <td>-3458.07</td>\n",
       "    </tr>\n",
       "    <tr>\n",
       "      <th>3</th>\n",
       "      <td>-20655.29</td>\n",
       "      <td>3563.38</td>\n",
       "    </tr>\n",
       "    <tr>\n",
       "      <th>4</th>\n",
       "      <td>116141.06</td>\n",
       "      <td>-8.85</td>\n",
       "    </tr>\n",
       "  </tbody>\n",
       "</table>\n",
       "</div>"
      ],
      "text/plain": [
       "   u_AnnualSalary  u_AccountBalance\n",
       "0       -49858.94          -1452.13\n",
       "1        19344.71            950.86\n",
       "2       -10655.29          -3458.07\n",
       "3       -20655.29           3563.38\n",
       "4       116141.06             -8.85"
      ]
     },
     "execution_count": 11,
     "metadata": {},
     "output_type": "execute_result"
    }
   ],
   "source": [
    "# Second, generate the (structural) counterfactuals (cf) for X using Pearl's abduction, action, prediction steps:\n",
    "\n",
    "# 2.1) Abduction (or individual error terms given each f)\n",
    "cf_df['u_AnnualSalary'] = round(df['AnnualSalary'] - model_sal.predict(x_sal), 2)\n",
    "cf_df['u_AccountBalance'] = round(df['AccountBalance'] - model_acc.predict(x_acc), 2)\n",
    "\n",
    "cf_df = pd.DataFrame.from_dict(cf_df)\n",
    "cf_df.head(5)"
   ]
  },
  {
   "cell_type": "code",
   "execution_count": 12,
   "metadata": {},
   "outputs": [
    {
     "data": {
      "text/html": [
       "<div>\n",
       "<style scoped>\n",
       "    .dataframe tbody tr th:only-of-type {\n",
       "        vertical-align: middle;\n",
       "    }\n",
       "\n",
       "    .dataframe tbody tr th {\n",
       "        vertical-align: top;\n",
       "    }\n",
       "\n",
       "    .dataframe thead th {\n",
       "        text-align: right;\n",
       "    }\n",
       "</style>\n",
       "<table border=\"1\" class=\"dataframe\">\n",
       "  <thead>\n",
       "    <tr style=\"text-align: right;\">\n",
       "      <th></th>\n",
       "      <th>u_AnnualSalary</th>\n",
       "      <th>u_AccountBalance</th>\n",
       "      <th>AnnualSalary</th>\n",
       "    </tr>\n",
       "  </thead>\n",
       "  <tbody>\n",
       "    <tr>\n",
       "      <th>0</th>\n",
       "      <td>-49858.94</td>\n",
       "      <td>-1452.13</td>\n",
       "      <td>50796.35</td>\n",
       "    </tr>\n",
       "    <tr>\n",
       "      <th>1</th>\n",
       "      <td>19344.71</td>\n",
       "      <td>950.86</td>\n",
       "      <td>120000.00</td>\n",
       "    </tr>\n",
       "    <tr>\n",
       "      <th>2</th>\n",
       "      <td>-10655.29</td>\n",
       "      <td>-3458.07</td>\n",
       "      <td>90000.00</td>\n",
       "    </tr>\n",
       "    <tr>\n",
       "      <th>3</th>\n",
       "      <td>-20655.29</td>\n",
       "      <td>3563.38</td>\n",
       "      <td>80000.00</td>\n",
       "    </tr>\n",
       "    <tr>\n",
       "      <th>4</th>\n",
       "      <td>116141.06</td>\n",
       "      <td>-8.85</td>\n",
       "      <td>216796.35</td>\n",
       "    </tr>\n",
       "  </tbody>\n",
       "</table>\n",
       "</div>"
      ],
      "text/plain": [
       "   u_AnnualSalary  u_AccountBalance  AnnualSalary\n",
       "0       -49858.94          -1452.13      50796.35\n",
       "1        19344.71            950.86     120000.00\n",
       "2       -10655.29          -3458.07      90000.00\n",
       "3       -20655.29           3563.38      80000.00\n",
       "4       116141.06             -8.85     216796.35"
      ]
     },
     "execution_count": 12,
     "metadata": {},
     "output_type": "execute_result"
    }
   ],
   "source": [
    "# 2.2) Action + Prediction (X-wise): here, we focus on being female (the protected group)\n",
    "\n",
    "do_male = np.repeat(0, repeats=df.shape[0]).reshape((-1, 1))\n",
    "cf_df['AnnualSalary'] = round(model_sal.predict(do_male) + cf_df['u_AnnualSalary'], 2)\n",
    "\n",
    "cf_df.head(5)"
   ]
  },
  {
   "cell_type": "code",
   "execution_count": 13,
   "metadata": {},
   "outputs": [
    {
     "data": {
      "text/html": [
       "<div>\n",
       "<style scoped>\n",
       "    .dataframe tbody tr th:only-of-type {\n",
       "        vertical-align: middle;\n",
       "    }\n",
       "\n",
       "    .dataframe tbody tr th {\n",
       "        vertical-align: top;\n",
       "    }\n",
       "\n",
       "    .dataframe thead th {\n",
       "        text-align: right;\n",
       "    }\n",
       "</style>\n",
       "<table border=\"1\" class=\"dataframe\">\n",
       "  <thead>\n",
       "    <tr style=\"text-align: right;\">\n",
       "      <th></th>\n",
       "      <th>u_AnnualSalary</th>\n",
       "      <th>u_AccountBalance</th>\n",
       "      <th>AnnualSalary</th>\n",
       "      <th>AccountBalance</th>\n",
       "    </tr>\n",
       "  </thead>\n",
       "  <tbody>\n",
       "    <tr>\n",
       "      <th>0</th>\n",
       "      <td>-49858.94</td>\n",
       "      <td>-1452.13</td>\n",
       "      <td>50796.35</td>\n",
       "      <td>13852.05</td>\n",
       "    </tr>\n",
       "    <tr>\n",
       "      <th>1</th>\n",
       "      <td>19344.71</td>\n",
       "      <td>950.86</td>\n",
       "      <td>120000.00</td>\n",
       "      <td>36940.10</td>\n",
       "    </tr>\n",
       "    <tr>\n",
       "      <th>2</th>\n",
       "      <td>-10655.29</td>\n",
       "      <td>-3458.07</td>\n",
       "      <td>90000.00</td>\n",
       "      <td>23564.13</td>\n",
       "    </tr>\n",
       "    <tr>\n",
       "      <th>3</th>\n",
       "      <td>-20655.29</td>\n",
       "      <td>3563.38</td>\n",
       "      <td>80000.00</td>\n",
       "      <td>27596.57</td>\n",
       "    </tr>\n",
       "    <tr>\n",
       "      <th>4</th>\n",
       "      <td>116141.06</td>\n",
       "      <td>-8.85</td>\n",
       "      <td>216796.35</td>\n",
       "      <td>64912.94</td>\n",
       "    </tr>\n",
       "  </tbody>\n",
       "</table>\n",
       "</div>"
      ],
      "text/plain": [
       "   u_AnnualSalary  u_AccountBalance  AnnualSalary  AccountBalance\n",
       "0       -49858.94          -1452.13      50796.35        13852.05\n",
       "1        19344.71            950.86     120000.00        36940.10\n",
       "2       -10655.29          -3458.07      90000.00        23564.13\n",
       "3       -20655.29           3563.38      80000.00        27596.57\n",
       "4       116141.06             -8.85     216796.35        64912.94"
      ]
     },
     "execution_count": 13,
     "metadata": {},
     "output_type": "execute_result"
    }
   ],
   "source": [
    "do_male2 = cf_df[['AnnualSalary']].copy()\n",
    "do_male2['Gender'] = do_male\n",
    "cf_df['AccountBalance'] = round(model_acc.predict(do_male2) + cf_df['u_AccountBalance'], 2)\n",
    "\n",
    "cf_df.head(5)"
   ]
  },
  {
   "cell_type": "code",
   "execution_count": 14,
   "metadata": {},
   "outputs": [
    {
     "data": {
      "text/html": [
       "<div>\n",
       "<style scoped>\n",
       "    .dataframe tbody tr th:only-of-type {\n",
       "        vertical-align: middle;\n",
       "    }\n",
       "\n",
       "    .dataframe tbody tr th {\n",
       "        vertical-align: top;\n",
       "    }\n",
       "\n",
       "    .dataframe thead th {\n",
       "        text-align: right;\n",
       "    }\n",
       "</style>\n",
       "<table border=\"1\" class=\"dataframe\">\n",
       "  <thead>\n",
       "    <tr style=\"text-align: right;\">\n",
       "      <th></th>\n",
       "      <th>u_AnnualSalary</th>\n",
       "      <th>u_AccountBalance</th>\n",
       "      <th>AnnualSalary</th>\n",
       "      <th>AccountBalance</th>\n",
       "      <th>LoanApproval</th>\n",
       "      <th>Gender</th>\n",
       "    </tr>\n",
       "  </thead>\n",
       "  <tbody>\n",
       "    <tr>\n",
       "      <th>0</th>\n",
       "      <td>-49858.94</td>\n",
       "      <td>-1452.13</td>\n",
       "      <td>50796.35</td>\n",
       "      <td>13852.05</td>\n",
       "      <td>-1.0</td>\n",
       "      <td>1</td>\n",
       "    </tr>\n",
       "    <tr>\n",
       "      <th>1</th>\n",
       "      <td>19344.71</td>\n",
       "      <td>950.86</td>\n",
       "      <td>120000.00</td>\n",
       "      <td>36940.10</td>\n",
       "      <td>1.0</td>\n",
       "      <td>0</td>\n",
       "    </tr>\n",
       "    <tr>\n",
       "      <th>2</th>\n",
       "      <td>-10655.29</td>\n",
       "      <td>-3458.07</td>\n",
       "      <td>90000.00</td>\n",
       "      <td>23564.13</td>\n",
       "      <td>-1.0</td>\n",
       "      <td>0</td>\n",
       "    </tr>\n",
       "    <tr>\n",
       "      <th>3</th>\n",
       "      <td>-20655.29</td>\n",
       "      <td>3563.38</td>\n",
       "      <td>80000.00</td>\n",
       "      <td>27596.57</td>\n",
       "      <td>-1.0</td>\n",
       "      <td>0</td>\n",
       "    </tr>\n",
       "    <tr>\n",
       "      <th>4</th>\n",
       "      <td>116141.06</td>\n",
       "      <td>-8.85</td>\n",
       "      <td>216796.35</td>\n",
       "      <td>64912.94</td>\n",
       "      <td>1.0</td>\n",
       "      <td>1</td>\n",
       "    </tr>\n",
       "  </tbody>\n",
       "</table>\n",
       "</div>"
      ],
      "text/plain": [
       "   u_AnnualSalary  u_AccountBalance  AnnualSalary  AccountBalance  \\\n",
       "0       -49858.94          -1452.13      50796.35        13852.05   \n",
       "1        19344.71            950.86     120000.00        36940.10   \n",
       "2       -10655.29          -3458.07      90000.00        23564.13   \n",
       "3       -20655.29           3563.38      80000.00        27596.57   \n",
       "4       116141.06             -8.85     216796.35        64912.94   \n",
       "\n",
       "   LoanApproval  Gender  \n",
       "0          -1.0       1  \n",
       "1           1.0       0  \n",
       "2          -1.0       0  \n",
       "3          -1.0       0  \n",
       "4           1.0       1  "
      ]
     },
     "execution_count": 14,
     "metadata": {},
     "output_type": "execute_result"
    }
   ],
   "source": [
    "# 2.3) Prediction (Y-wise): Generate cf_Y (when b is known)\n",
    "\n",
    "beta_0 = 225000\n",
    "beta_1 = (3/10)\n",
    "beta_2 = 5\n",
    "\n",
    "cf_df['LoanApproval'] = np.sign(cf_df['AnnualSalary'] + beta_2*cf_df['AccountBalance'] - beta_0)\n",
    "\n",
    "# keep track of A\n",
    "cf_df['Gender'] = df['Gender']\n",
    "\n",
    "cf_df.head(5)"
   ]
  },
  {
   "cell_type": "code",
   "execution_count": 15,
   "metadata": {},
   "outputs": [],
   "source": [
    "# store in results folder\n",
    "cf_df.to_csv(resu_path + '\\\\' + 'cf_Karimi2020_v2.csv', sep='|', index=False)"
   ]
  }
 ],
 "metadata": {
  "kernelspec": {
   "display_name": "Python 3",
   "language": "python",
   "name": "python3"
  },
  "language_info": {
   "codemirror_mode": {
    "name": "ipython",
    "version": 3
   },
   "file_extension": ".py",
   "mimetype": "text/x-python",
   "name": "python",
   "nbconvert_exporter": "python",
   "pygments_lexer": "ipython3",
   "version": "3.8.5"
  }
 },
 "nbformat": 4,
 "nbformat_minor": 4
}
